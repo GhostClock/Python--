{
 "cells": [
  {
   "cell_type": "markdown",
   "metadata": {},
   "source": [
    "## 模块 类 对象"
   ]
  },
  {
   "cell_type": "code",
   "execution_count": 44,
   "metadata": {
    "collapsed": false
   },
   "outputs": [
    {
     "name": "stdout",
     "output_type": "stream",
     "text": [
      "I an Calss Aplles\n",
      "And now a thousand years between\n",
      "Happy\n",
      "Sude\n",
      "Three\n",
      "'three' : 3\n",
      "'two' : 2\n",
      "'one' : 1\n"
     ]
    }
   ],
   "source": [
    "class MyStuff(object):\n",
    "    def __init__(self):\n",
    "        self.tangerine = 'And now a thousand years between'\n",
    "    \n",
    "    def apple(self):\n",
    "        print \"I an Calss Aplles\"\n",
    "        \n",
    "\n",
    "class myClass(object):\n",
    "    thing = MyStuff()\n",
    "    thing.apple()\n",
    "    \n",
    "    print thing.tangerine\n",
    "    \n",
    "class Song(object):\n",
    "    def __init__(self,lyrics):\n",
    "        self.lyrics = lyrics\n",
    "    \n",
    "    def sing_me_a_song(self):\n",
    "        thing = self.lyrics\n",
    "        if isinstance(self.lyrics,dict):\n",
    "            for key,value in thing.items():\n",
    "                print \"%r : %r\" % (key,value)\n",
    "        else:\n",
    "            for line in thing:\n",
    "                print line\n",
    "            \n",
    "happy = Song([\"Happy\",\"Sude\",\"Three\"])\n",
    "happy.sing_me_a_song()\n",
    "\n",
    "tide = Song({\"one\":1,\"two\":2,\"three\":3})\n",
    "tide.sing_me_a_song()"
   ]
  },
  {
   "cell_type": "code",
   "execution_count": 1,
   "metadata": {
    "collapsed": false
   },
   "outputs": [
    {
     "ename": "IndentationError",
     "evalue": "expected an indented block (<ipython-input-1-d010b63f854e>, line 4)",
     "output_type": "error",
     "traceback": [
      "\u001b[0;36m  File \u001b[0;32m\"<ipython-input-1-d010b63f854e>\"\u001b[0;36m, line \u001b[0;32m4\u001b[0m\n\u001b[0;31m    def M(self,J):\u001b[0m\n\u001b[0m                  ^\u001b[0m\n\u001b[0;31mIndentationError\u001b[0m\u001b[0;31m:\u001b[0m expected an indented block\n"
     ]
    }
   ],
   "source": [
    "class X(object):\n",
    "    def __init__(self,J):\n",
    "        self.someThing = j\n",
    "    def M(self,J):"
   ]
  },
  {
   "cell_type": "code",
   "execution_count": 5,
   "metadata": {
    "collapsed": false
   },
   "outputs": [
    {
     "ename": "NameError",
     "evalue": "name 'Cat' is not defined",
     "output_type": "error",
     "traceback": [
      "\u001b[0;31m---------------------------------------------------------------------------\u001b[0m",
      "\u001b[0;31mNameError\u001b[0m                                 Traceback (most recent call last)",
      "\u001b[0;32m<ipython-input-5-0ca0923405c5>\u001b[0m in \u001b[0;36m<module>\u001b[0;34m()\u001b[0m\n\u001b[1;32m      3\u001b[0m \u001b[0;34m\u001b[0m\u001b[0m\n\u001b[1;32m      4\u001b[0m \u001b[0;34m\u001b[0m\u001b[0m\n\u001b[0;32m----> 5\u001b[0;31m \u001b[0msatan\u001b[0m \u001b[0;34m=\u001b[0m \u001b[0mCat\u001b[0m\u001b[0;34m(\u001b[0m\u001b[0;34m\"小咪\"\u001b[0m\u001b[0;34m)\u001b[0m\u001b[0;34m\u001b[0m\u001b[0m\n\u001b[0m\u001b[1;32m      6\u001b[0m \u001b[0;32mclass\u001b[0m \u001b[0mDog\u001b[0m\u001b[0;34m(\u001b[0m\u001b[0mAnimal\u001b[0m\u001b[0;34m)\u001b[0m\u001b[0;34m:\u001b[0m\u001b[0;34m\u001b[0m\u001b[0m\n\u001b[1;32m      7\u001b[0m     \u001b[0;32mdef\u001b[0m \u001b[0m__init__\u001b[0m\u001b[0;34m(\u001b[0m\u001b[0mself\u001b[0m\u001b[0;34m,\u001b[0m\u001b[0mname\u001b[0m\u001b[0;34m)\u001b[0m\u001b[0;34m:\u001b[0m\u001b[0;34m\u001b[0m\u001b[0m\n",
      "\u001b[0;31mNameError\u001b[0m: name 'Cat' is not defined"
     ]
    }
   ],
   "source": [
    "class Animal(object):\n",
    "    pass\n",
    "\n",
    "\n",
    "satan = Cat(\"小咪\")\n",
    "class Dog(Animal):\n",
    "    def __init__(self,name):\n",
    "        self.name = name\n",
    "\n",
    "class Cat(Animal):\n",
    "    def __init__(self,name):\n",
    "        self.name = name\n",
    "        \n",
    "class Person(object):\n",
    "    def __init__(sele,name):\n",
    "        self.name = name\n",
    "        self.pet = None\n",
    "\n",
    "class Employee(Person):\n",
    "    def __init__(self,name,salary):\n",
    "        super(Employee,self).__init__(name)\n",
    "        self.salary = salary\n",
    "\n",
    "class Fish(object):\n",
    "    pass\n",
    "\n",
    "class Salmon(Fish):\n",
    "    pass\n",
    "\n",
    "class Halibut(Fish):\n",
    "    pass\n",
    "\n",
    "rover = Dog(\"小黑\")\n",
    "\n",
    "satan = Cat(\"小咪\")"
   ]
  },
  {
   "cell_type": "code",
   "execution_count": null,
   "metadata": {
    "collapsed": true
   },
   "outputs": [],
   "source": []
  },
  {
   "cell_type": "code",
   "execution_count": null,
   "metadata": {
    "collapsed": true
   },
   "outputs": [],
   "source": []
  },
  {
   "cell_type": "code",
   "execution_count": null,
   "metadata": {
    "collapsed": true
   },
   "outputs": [],
   "source": []
  },
  {
   "cell_type": "code",
   "execution_count": null,
   "metadata": {
    "collapsed": true
   },
   "outputs": [],
   "source": []
  }
 ],
 "metadata": {
  "kernelspec": {
   "display_name": "Python 2",
   "language": "python",
   "name": "python2"
  },
  "language_info": {
   "codemirror_mode": {
    "name": "ipython",
    "version": 2
   },
   "file_extension": ".py",
   "mimetype": "text/x-python",
   "name": "python",
   "nbconvert_exporter": "python",
   "pygments_lexer": "ipython2",
   "version": "2.7.13"
  }
 },
 "nbformat": 4,
 "nbformat_minor": 2
}
