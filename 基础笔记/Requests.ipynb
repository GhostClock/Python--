{
 "cells": [
  {
   "cell_type": "code",
   "execution_count": 1,
   "metadata": {
    "collapsed": true
   },
   "outputs": [],
   "source": [
    "import requests"
   ]
  },
  {
   "cell_type": "code",
   "execution_count": 2,
   "metadata": {
    "collapsed": true
   },
   "outputs": [],
   "source": [
    "r = requests.get('https://github.com/timeline.json')"
   ]
  },
  {
   "cell_type": "code",
   "execution_count": 3,
   "metadata": {
    "collapsed": false
   },
   "outputs": [
    {
     "data": {
      "text/plain": [
       "410"
      ]
     },
     "execution_count": 3,
     "metadata": {},
     "output_type": "execute_result"
    }
   ],
   "source": [
    "r.status_code"
   ]
  },
  {
   "cell_type": "code",
   "execution_count": 4,
   "metadata": {
    "collapsed": false
   },
   "outputs": [
    {
     "data": {
      "text/plain": [
       "u'{\"message\":\"Hello there, wayfaring stranger. If you\\u2019re reading this then you probably didn\\u2019t see our blog post a couple of years back announcing that this API would go away: http://git.io/17AROg Fear not, you should be able to get what you need from the shiny new Events API instead.\",\"documentation_url\":\"https://developer.github.com/v3/activity/events/#list-public-events\"}'"
      ]
     },
     "execution_count": 4,
     "metadata": {},
     "output_type": "execute_result"
    }
   ],
   "source": [
    "r.text"
   ]
  },
  {
   "cell_type": "code",
   "execution_count": 16,
   "metadata": {
    "collapsed": true
   },
   "outputs": [],
   "source": [
    "r = requests.post('http://httpbin.org/post')"
   ]
  },
  {
   "cell_type": "code",
   "execution_count": 17,
   "metadata": {
    "collapsed": false
   },
   "outputs": [
    {
     "data": {
      "text/plain": [
       "200"
      ]
     },
     "execution_count": 17,
     "metadata": {},
     "output_type": "execute_result"
    }
   ],
   "source": [
    "r.status_code"
   ]
  },
  {
   "cell_type": "code",
   "execution_count": 20,
   "metadata": {
    "collapsed": false
   },
   "outputs": [
    {
     "data": {
      "text/plain": [
       "'{\\n  \"args\": {}, \\n  \"data\": \"\", \\n  \"files\": {}, \\n  \"form\": {}, \\n  \"headers\": {\\n    \"Accept\": \"*/*\", \\n    \"Accept-Encoding\": \"gzip, deflate\", \\n    \"Connection\": \"close\", \\n    \"Content-Length\": \"0\", \\n    \"Host\": \"httpbin.org\", \\n    \"User-Agent\": \"python-requests/2.12.4\"\\n  }, \\n  \"json\": null, \\n  \"origin\": \"117.136.40.190\", \\n  \"url\": \"http://httpbin.org/put\"\\n}\\n'"
      ]
     },
     "execution_count": 20,
     "metadata": {},
     "output_type": "execute_result"
    }
   ],
   "source": [
    "r.content"
   ]
  },
  {
   "cell_type": "code",
   "execution_count": 18,
   "metadata": {
    "collapsed": true
   },
   "outputs": [],
   "source": [
    "r = requests.put('http://httpbin.org/put')"
   ]
  },
  {
   "cell_type": "code",
   "execution_count": 19,
   "metadata": {
    "collapsed": false
   },
   "outputs": [
    {
     "data": {
      "text/plain": [
       "200"
      ]
     },
     "execution_count": 19,
     "metadata": {},
     "output_type": "execute_result"
    }
   ],
   "source": [
    "r.status_code"
   ]
  },
  {
   "cell_type": "code",
   "execution_count": 23,
   "metadata": {
    "collapsed": true
   },
   "outputs": [],
   "source": [
    "r = requests.delete('http://httpbin.org/delete')"
   ]
  },
  {
   "cell_type": "code",
   "execution_count": 21,
   "metadata": {
    "collapsed": true
   },
   "outputs": [],
   "source": [
    "r = requests.head('http://httpbin.org/get')"
   ]
  },
  {
   "cell_type": "code",
   "execution_count": 24,
   "metadata": {
    "collapsed": false
   },
   "outputs": [
    {
     "data": {
      "text/plain": [
       "'{\\n  \"args\": {}, \\n  \"data\": \"\", \\n  \"files\": {}, \\n  \"form\": {}, \\n  \"headers\": {\\n    \"Accept\": \"*/*\", \\n    \"Accept-Encoding\": \"gzip, deflate\", \\n    \"Connection\": \"close\", \\n    \"Content-Length\": \"0\", \\n    \"Host\": \"httpbin.org\", \\n    \"User-Agent\": \"python-requests/2.12.4\"\\n  }, \\n  \"json\": null, \\n  \"origin\": \"117.136.40.190\", \\n  \"url\": \"http://httpbin.org/delete\"\\n}\\n'"
      ]
     },
     "execution_count": 24,
     "metadata": {},
     "output_type": "execute_result"
    }
   ],
   "source": [
    "r.content"
   ]
  },
  {
   "cell_type": "code",
   "execution_count": 27,
   "metadata": {
    "collapsed": true
   },
   "outputs": [],
   "source": [
    "r = requests.options('http://httpbin.org/get')"
   ]
  },
  {
   "cell_type": "code",
   "execution_count": 28,
   "metadata": {
    "collapsed": false
   },
   "outputs": [
    {
     "data": {
      "text/plain": [
       "''"
      ]
     },
     "execution_count": 28,
     "metadata": {},
     "output_type": "execute_result"
    }
   ],
   "source": [
    "r.content"
   ]
  },
  {
   "cell_type": "code",
   "execution_count": 37,
   "metadata": {
    "collapsed": false
   },
   "outputs": [],
   "source": [
    "payload = {'key':123,'key1':456,'key2':789,'key3':None} #值为None不会添加到url中去"
   ]
  },
  {
   "cell_type": "code",
   "execution_count": 38,
   "metadata": {
    "collapsed": true
   },
   "outputs": [],
   "source": [
    "r = requests.get('http://httpbin.org/get',params=payload)"
   ]
  },
  {
   "cell_type": "code",
   "execution_count": 39,
   "metadata": {
    "collapsed": false
   },
   "outputs": [
    {
     "data": {
      "text/plain": [
       "u'http://httpbin.org/get?key2=789&key1=456&key=123'"
      ]
     },
     "execution_count": 39,
     "metadata": {},
     "output_type": "execute_result"
    }
   ],
   "source": [
    "r.url"
   ]
  },
  {
   "cell_type": "code",
   "execution_count": 32,
   "metadata": {
    "collapsed": false
   },
   "outputs": [
    {
     "data": {
      "text/plain": [
       "'{\\n  \"args\": {\\n    \"key\": \"123\", \\n    \"key1\": \"456\", \\n    \"key2\": \"789\"\\n  }, \\n  \"headers\": {\\n    \"Accept\": \"*/*\", \\n    \"Accept-Encoding\": \"gzip, deflate\", \\n    \"Connection\": \"close\", \\n    \"Host\": \"httpbin.org\", \\n    \"User-Agent\": \"python-requests/2.12.4\"\\n  }, \\n  \"origin\": \"117.136.40.190\", \\n  \"url\": \"http://httpbin.org/get?key2=789&key1=456&key=123\"\\n}\\n'"
      ]
     },
     "execution_count": 32,
     "metadata": {},
     "output_type": "execute_result"
    }
   ],
   "source": [
    "r.content"
   ]
  },
  {
   "cell_type": "code",
   "execution_count": 40,
   "metadata": {
    "collapsed": true
   },
   "outputs": [],
   "source": [
    "payload = {'key':123,'key1':456,'key2':789,'key3':[100,2000,30000]} #传入列表"
   ]
  },
  {
   "cell_type": "code",
   "execution_count": 41,
   "metadata": {
    "collapsed": true
   },
   "outputs": [],
   "source": [
    "r = requests.get('http://httpbin.org/get',params=payload)"
   ]
  },
  {
   "cell_type": "code",
   "execution_count": 42,
   "metadata": {
    "collapsed": false
   },
   "outputs": [
    {
     "data": {
      "text/plain": [
       "u'http://httpbin.org/get?key3=100&key3=2000&key3=30000&key2=789&key1=456&key=123'"
      ]
     },
     "execution_count": 42,
     "metadata": {},
     "output_type": "execute_result"
    }
   ],
   "source": [
    "r.url"
   ]
  },
  {
   "cell_type": "markdown",
   "metadata": {},
   "source": [
    "#### 响应内容"
   ]
  },
  {
   "cell_type": "code",
   "execution_count": 44,
   "metadata": {
    "collapsed": true
   },
   "outputs": [],
   "source": [
    "import requests"
   ]
  },
  {
   "cell_type": "code",
   "execution_count": 96,
   "metadata": {
    "collapsed": true
   },
   "outputs": [],
   "source": [
    "url = \"https://www.v2ex.com/api/topics/hot.json\""
   ]
  },
  {
   "cell_type": "code",
   "execution_count": 59,
   "metadata": {
    "collapsed": true
   },
   "outputs": [],
   "source": [
    "r = requests.get(url)"
   ]
  },
  {
   "cell_type": "code",
   "execution_count": 63,
   "metadata": {
    "collapsed": false,
    "scrolled": true
   },
   "outputs": [
    {
     "data": {
      "text/plain": [
       "u'[\\n    \\n    {\\n        \"id\" : 363785,\\n        \"title\" : \"18\\\\u002D23 \\u4e07\\uff0c\\u4e70\\u4e2a\\u4ec0\\u4e48\\u8f66\\u6bd4\\u8f83\\u597d\\uff1f\",\\n        \"url\" : \"http://www.v2ex.com/t/363785\",\\n        \"content\" : \"\\u672c\\u4eba\\u4e0d\\u600e\\u4e48\\u503e\\u5411\\u65e5\\u7cfb\\uff0c\\u5927\\u5bb6\\u4e2a\\u63a8\\u8350\\u4e00\\u4e0b\\u5427\\uff01\",\\n        \"content_rendered\" : \"\\\\u003Cp\\\\u003E\\u672c\\u4eba\\u4e0d\\u600e\\u4e48\\u503e\\u5411\\u65e5\\u7cfb\\uff0c\\u5927\\u5bb6\\u4e2a\\u63a8\\u8350\\u4e00\\u4e0b\\u5427\\uff01\\\\u003C/p\\\\u003E\\\\u000A\",\\n        \"replies\" : 136,\\n        \"member\" : {\\n            \"id\" : 21612,\\n            \"username\" : \"assad\",\\n            \"tagline\" : \"\",\\n            \"avatar_mini\" : \"//v2ex.assets.uxengine.net/avatar/dcbe/4be7/21612_mini.png?m=1371455312\",\\n            \"avatar_normal\" : \"//v2ex.assets.uxengine.net/avatar/dcbe/4be7/21612_normal.png?m=1371455312\",\\n            \"avatar_large\" : \"//v2ex.assets.uxengine.net/avatar/dcbe/4be7/21612_large.png?m=1371455312\"\\n        },\\n        \"node\" : {\\n            \"id\" : 176,\\n            \"name\" : \"car\",\\n            \"title\" : \"\\u6c7d\\u8f66\",\\n            \"title_alternative\" : \"Car\",\\n            \"url\" : \"http://www.v2ex.com/go/car\",\\n            \"topics\" : 356,\\n            \"avatar_mini\" : \"//v2ex.assets.uxengine.net/navatar/38af/8613/176_mini.png?m=1408012248\",\\n            \"avatar_normal\" : \"//v2ex.assets.uxengine.net/navatar/38af/8613/176_normal.png?m=1408012248\",\\n            \"avatar_large\" : \"//v2ex.assets.uxengine.net/navatar/38af/8613/176_large.png?m=1408012248\"\\n        },\\n        \"created\" : 1495702079,\\n        \"last_modified\" : 1495709799,\\n        \"last_touched\" : 1495763663\\n    },\\n    \\n    {\\n        \"id\" : 363663,\\n        \"title\" : \"\\u5927\\u5bb6\\u5e73\\u65f6\\u6709\\u4ec0\\u4e48\\u4e0d\\u786e\\u5b9a\\u8bfb\\u97f3\\u7684\\u5355\\u8bcd\\u5417\",\\n        \"url\" : \"http://www.v2ex.com/t/363663\",\\n        \"content\" : \"\\u524d\\u7aef\\u65b0\\u4eba\\uff0c\\u5165\\u95e8\\u8fc7\\u7a0b\\u4e2d\\u505a\\u4e86\\u4e2a\\u79fb\\u52a8\\u7aef\\u5355\\u9875\\u5e94\\u7528\\uff0c\\u662f\\u4e00\\u6b3e\\u9488\\u5bf9\\u4e8e\\u7a0b\\u5e8f\\u5458\\u7684\\u8bcd\\u5178\\uff0c\\u4e3b\\u8981\\u662f\\u60f3\\u6536\\u96c6\\u4e00\\u4e9b\\u5e73\\u65f6\\u5927\\u5bb6\\u4e0d\\u80fd\\u786e\\u5b9a\\u6807\\u51c6\\u8bfb\\u97f3\\u7684\\uff0c\\u5c24\\u5176\\u662f\\u4e00\\u4e9b\\u5b57\\u5178\\u91cc\\u6ca1\\u6709\\u7684\\u540d\\u8bcd\\u3002\\u53ef\\u80fd\\u662f\\u5728\\u5b98\\u7f51\\u7ed9\\u51fa\\u4e86\\u8bfb\\u97f3\\uff0c\\u6216\\u8005\\u4f5c\\u8005\\u7ed9\\u51fa\\u4e86\\u8bfb\\u97f3\\u7684\\uff0c\\u5e0c\\u671b\\u5927\\u5bb6\\u80fd\\u63d0\\u4f9b\\u4e00\\u4e9b\\u8fd9\\u6837\\u7684\\u540d\\u8bcd\\uff0c\\u6211\\u53bb\\u627e\\u6807\\u51c6\\u8bfb\\u97f3\\uff0c\\u8c22\\u8c22\\u5566~   \\\\u000D\\\\u000A[Demo]( http://120.24.179.35:8099/)\",\\n        \"content_rendered\" : \"\\\\u003Cp\\\\u003E\\u524d\\u7aef\\u65b0\\u4eba\\uff0c\\u5165\\u95e8\\u8fc7\\u7a0b\\u4e2d\\u505a\\u4e86\\u4e2a\\u79fb\\u52a8\\u7aef\\u5355\\u9875\\u5e94\\u7528\\uff0c\\u662f\\u4e00\\u6b3e\\u9488\\u5bf9\\u4e8e\\u7a0b\\u5e8f\\u5458\\u7684\\u8bcd\\u5178\\uff0c\\u4e3b\\u8981\\u662f\\u60f3\\u6536\\u96c6\\u4e00\\u4e9b\\u5e73\\u65f6\\u5927\\u5bb6\\u4e0d\\u80fd\\u786e\\u5b9a\\u6807\\u51c6\\u8bfb\\u97f3\\u7684\\uff0c\\u5c24\\u5176\\u662f\\u4e00\\u4e9b\\u5b57\\u5178\\u91cc\\u6ca1\\u6709\\u7684\\u540d\\u8bcd\\u3002\\u53ef\\u80fd\\u662f\\u5728\\u5b98\\u7f51\\u7ed9\\u51fa\\u4e86\\u8bfb\\u97f3\\uff0c\\u6216\\u8005\\u4f5c\\u8005\\u7ed9\\u51fa\\u4e86\\u8bfb\\u97f3\\u7684\\uff0c\\u5e0c\\u671b\\u5927\\u5bb6\\u80fd\\u63d0\\u4f9b\\u4e00\\u4e9b\\u8fd9\\u6837\\u7684\\u540d\\u8bcd\\uff0c\\u6211\\u53bb\\u627e\\u6807\\u51c6\\u8bfb\\u97f3\\uff0c\\u8c22\\u8c22\\u5566~\\\\u003Cbr\\\\u003E\\\\u000A\\\\u003Ca href\\\\u003D\\\\u0022http://120.24.179.35:8099/\\\\u0022 rel\\\\u003D\\\\u0022nofollow\\\\u0022\\\\u003EDemo\\\\u003C/a\\\\u003E\\\\u003C/p\\\\u003E\\\\u000A\",\\n        \"replies\" : 120,\\n        \"member\" : {\\n            \"id\" : 180102,\\n            \"username\" : \"hzw758\",\\n            \"tagline\" : \"\",\\n            \"avatar_mini\" : \"//v2ex.assets.uxengine.net/avatar/5703/de35/180102_mini.png?m=1494211023\",\\n            \"avatar_normal\" : \"//v2ex.assets.uxengine.net/avatar/5703/de35/180102_normal.png?m=1494211023\",\\n            \"avatar_large\" : \"//v2ex.assets.uxengine.net/avatar/5703/de35/180102_large.png?m=1494211023\"\\n        },\\n        \"node\" : {\\n            \"id\" : 859,\\n            \"name\" : \"pronunciation\",\\n            \"title\" : \"\\u53d1\\u97f3\",\\n            \"title_alternative\" : \"\",\\n            \"url\" : \"http://www.v2ex.com/go/pronunciation\",\\n            \"topics\" : 40,\\n            \"avatar_mini\" : \"/static/img/node_mini.png\",\\n            \"avatar_normal\" : \"/static/img/node_normal.png\",\\n            \"avatar_large\" : \"/static/img/node_large.png\"\\n        },\\n        \"created\" : 1495680258,\\n        \"last_modified\" : 1495691288,\\n        \"last_touched\" : 1495764388\\n    },\\n    \\n    {\\n        \"id\" : 363655,\\n        \"title\" : \"\\u6700\\u8fd1\\u603b\\u611f\\u89c9\\u81ea\\u5df1\\u4f1a\\u7a81\\u7136\\u79bb\\u5f00\",\\n        \"url\" : \"http://www.v2ex.com/t/363655\",\\n        \"content\" : \"\\u81ea\\u4ece\\u4e0a\\u6708\\u6211\\u8001\\u5a46\\u6000\\u5b55\\u6d41\\u4ea7\\u540e\\uff0c\\u6211\\u6162\\u6162\\u5c31\\u5f00\\u59cb\\u6709\\u8fd9\\u79cd\\u611f\\u89c9\\u3002\\u5c24\\u5176\\u662f\\u4e00\\u4e2a\\u4eba\\u8eba\\u5728\\u5e8a\\u4e0a\\u6216\\u8005\\u8def\\u4e0a\\u884c\\u8d70\\u7684\\u65f6\\u5019\\uff0c\\u603b\\u4f1a\\u60f3\\u81ea\\u5df1\\u4f1a\\u4e0d\\u4f1a\\u4e0d\\u4e45\\u4ee5\\u540e\\u79bb\\u5f00\\u3002\\u6709\\u8fc7\\u60f3\\u6cd5\\u7ed9\\u81ea\\u5df1\\u4e70\\u4e2a\\u4fdd\\u9669\\u4e4b\\u7c7b\\u7684\\u4e1c\\u897f\\uff0c\\u9632\\u6b62\\u81ea\\u5df1\\u79bb\\u5f00\\u540e\\u5bb6\\u4eba\\u8fd8\\u80fd\\u751f\\u6d3b\\u4e0b\\u53bb\\u3002\\u53e6\\u5916\\u6211\\u5de5\\u4f5c\\u751f\\u6d3b\\u4e4b\\u7c7b\\u4e5f\\u6ca1\\u4ec0\\u4e48\\u5176\\u4ed6\\u7684\\u7cdf\\u5fc3\\u4e8b\\uff0c\\u5bb6\\u5ead\\u5173\\u7cfb\\u4e5f\\u4e0d\\u9519\\uff0c\\u5c31\\u662f\\u81ea\\u8eab\\u6bd4\\u8f83\\u5b85\\uff0c\\u559c\\u6b22\\u5728\\u5bb6\\u6253\\u6e38\\u620f\\u3002\\u6839\\u672c\\u539f\\u56e0\\u53ef\\u80fd\\u662f\\u5f3a\\u70c8\\u7684\\u4e0d\\u5b89\\u5168\\u611f\\u5427\\u3002\\\\u000D\\\\u000A\\u60f3\\u7ed9\\u81ea\\u5df1\\u505a\\u4e2a\\u5168\\u8eab\\u68c0\\u67e5\\uff0c\\u53c8\\u820d\\u4e0d\\u5f97\\u51e0\\u5343\\u5757\\u7684\\u4f53\\u68c0\\u8d39\\u3002\\u5728\\u5916\\u5403\\u4e1c\\u897f\\uff0c\\u603b\\u611f\\u89c9\\u4e0d\\u536b\\u751f\\u6709\\u5bb3\\u8eab\\u4f53\\uff0c\\u4f46\\u662f\\u4f9d\\u7136\\u5728\\u5403\\u3002\\u73b0\\u5728 Q \\u6d41\\u611f\\uff0c\\u53c8\\u62c5\\u5fc3\\u81ea\\u5df1\\u4f1a\\u5f97\\uff0c\\u6211\\u8001\\u5a46\\u6d41\\u4ea7\\u4e4b\\u524d\\uff0c\\u6211\\u4e00\\u76f4\\u4ee5\\u4e3a\\u4e0d\\u5e78\\u79bb\\u81ea\\u5df1\\u5f88\\u9065\\u8fdc\\uff0c\\u4e4b\\u540e\\u53c8\\u89c9\\u5f97\\u4ec0\\u4e48\\u4e8b\\u90fd\\u4f1a\\u53d1\\u751f\\u5728\\u81ea\\u5df1\\u8eab\\u4e0a\\u3002\\u8fd9\\u96be\\u9053\\u662f\\u6240\\u8c13\\u60ca\\u5f13\\u4e4b\\u9e1f\\uff1f\",\\n        \"content_rendered\" : \"\\\\u003Cp\\\\u003E\\u81ea\\u4ece\\u4e0a\\u6708\\u6211\\u8001\\u5a46\\u6000\\u5b55\\u6d41\\u4ea7\\u540e\\uff0c\\u6211\\u6162\\u6162\\u5c31\\u5f00\\u59cb\\u6709\\u8fd9\\u79cd\\u611f\\u89c9\\u3002\\u5c24\\u5176\\u662f\\u4e00\\u4e2a\\u4eba\\u8eba\\u5728\\u5e8a\\u4e0a\\u6216\\u8005\\u8def\\u4e0a\\u884c\\u8d70\\u7684\\u65f6\\u5019\\uff0c\\u603b\\u4f1a\\u60f3\\u81ea\\u5df1\\u4f1a\\u4e0d\\u4f1a\\u4e0d\\u4e45\\u4ee5\\u540e\\u79bb\\u5f00\\u3002\\u6709\\u8fc7\\u60f3\\u6cd5\\u7ed9\\u81ea\\u5df1\\u4e70\\u4e2a\\u4fdd\\u9669\\u4e4b\\u7c7b\\u7684\\u4e1c\\u897f\\uff0c\\u9632\\u6b62\\u81ea\\u5df1\\u79bb\\u5f00\\u540e\\u5bb6\\u4eba\\u8fd8\\u80fd\\u751f\\u6d3b\\u4e0b\\u53bb\\u3002\\u53e6\\u5916\\u6211\\u5de5\\u4f5c\\u751f\\u6d3b\\u4e4b\\u7c7b\\u4e5f\\u6ca1\\u4ec0\\u4e48\\u5176\\u4ed6\\u7684\\u7cdf\\u5fc3\\u4e8b\\uff0c\\u5bb6\\u5ead\\u5173\\u7cfb\\u4e5f\\u4e0d\\u9519\\uff0c\\u5c31\\u662f\\u81ea\\u8eab\\u6bd4\\u8f83\\u5b85\\uff0c\\u559c\\u6b22\\u5728\\u5bb6\\u6253\\u6e38\\u620f\\u3002\\u6839\\u672c\\u539f\\u56e0\\u53ef\\u80fd\\u662f\\u5f3a\\u70c8\\u7684\\u4e0d\\u5b89\\u5168\\u611f\\u5427\\u3002\\\\u000A\\u60f3\\u7ed9\\u81ea\\u5df1\\u505a\\u4e2a\\u5168\\u8eab\\u68c0\\u67e5\\uff0c\\u53c8\\u820d\\u4e0d\\u5f97\\u51e0\\u5343\\u5757\\u7684\\u4f53\\u68c0\\u8d39\\u3002\\u5728\\u5916\\u5403\\u4e1c\\u897f\\uff0c\\u603b\\u611f\\u89c9\\u4e0d\\u536b\\u751f\\u6709\\u5bb3\\u8eab\\u4f53\\uff0c\\u4f46\\u662f\\u4f9d\\u7136\\u5728\\u5403\\u3002\\u73b0\\u5728 Q \\u6d41\\u611f\\uff0c\\u53c8\\u62c5\\u5fc3\\u81ea\\u5df1\\u4f1a\\u5f97\\uff0c\\u6211\\u8001\\u5a46\\u6d41\\u4ea7\\u4e4b\\u524d\\uff0c\\u6211\\u4e00\\u76f4\\u4ee5\\u4e3a\\u4e0d\\u5e78\\u79bb\\u81ea\\u5df1\\u5f88\\u9065\\u8fdc\\uff0c\\u4e4b\\u540e\\u53c8\\u89c9\\u5f97\\u4ec0\\u4e48\\u4e8b\\u90fd\\u4f1a\\u53d1\\u751f\\u5728\\u81ea\\u5df1\\u8eab\\u4e0a\\u3002\\u8fd9\\u96be\\u9053\\u662f\\u6240\\u8c13\\u60ca\\u5f13\\u4e4b\\u9e1f\\uff1f\\\\u003C/p\\\\u003E\\\\u000A\",\\n        \"replies\" : 63,\\n        \"member\" : {\\n            \"id\" : 78777,\\n            \"username\" : \"nandaye\",\\n            \"tagline\" : \"\",\\n            \"avatar_mini\" : \"//v2ex.assets.uxengine.net/gravatar/57cfb83269169da07ba88cc2fa5377ee?s=24&d=retro\",\\n            \"avatar_normal\" : \"//v2ex.assets.uxengine.net/gravatar/57cfb83269169da07ba88cc2fa5377ee?s=48&d=retro\",\\n            \"avatar_large\" : \"//v2ex.assets.uxengine.net/gravatar/57cfb83269169da07ba88cc2fa5377ee?s=73&d=retro\"\\n        },\\n        \"node\" : {\\n            \"id\" : 12,\\n            \"name\" : \"qna\",\\n            \"title\" : \"\\u95ee\\u4e0e\\u7b54\",\\n            \"title_alternative\" : \"Questions and Answers\",\\n            \"url\" : \"http://www.v2ex.com/go/qna\",\\n            \"topics\" : 87858,\\n            \"avatar_mini\" : \"//v2ex.assets.uxengine.net/navatar/c20a/d4d7/12_mini.png?m=1494924127\",\\n            \"avatar_normal\" : \"//v2ex.assets.uxengine.net/navatar/c20a/d4d7/12_normal.png?m=1494924127\",\\n            \"avatar_large\" : \"//v2ex.assets.uxengine.net/navatar/c20a/d4d7/12_large.png?m=1494924127\"\\n        },\\n        \"created\" : 1495679422,\\n        \"last_modified\" : 1495679422,\\n        \"last_touched\" : 1495764311\\n    },\\n    \\n    {\\n        \"id\" : 363647,\\n        \"title\" : \"\\u5982\\u4f55\\u770b\\u5f85 supersu v2.80 \\u6b63\\u5f0f\\u7248\\u52a0\\u5165\\u5927\\u91cf\\u654f\\u611f\\u6743\\u9650\\uff1f\",\\n        \"url\" : \"http://www.v2ex.com/t/363647\",\\n        \"content\" : \"\\u5728 5 \\u6708 24 \\u65e5\\u66f4\\u65b0\\u7684 supersu v2.80 \\u6b63\\u5f0f\\u7248\\u4e2d\\uff0c\\u65b0\\u52a0\\u5165\\u4e86\\u8bfb\\u53d6\\u4f4d\\u7f6e\\u4fe1\\u606f\\u548c\\u624b\\u673a\\u72b6\\u6001\\u548c\\u8eab\\u4efd\\u7b49\\u591a\\u9879\\u654f\\u611f\\u6743\\u9650\\uff0c\\u4e0d\\u77e5\\u5404\\u4f4d\\u770b\\u6cd5\\u5982\\u4f55\\uff1f\",\\n        \"content_rendered\" : \"\\u5728 5 \\u6708 24 \\u65e5\\u66f4\\u65b0\\u7684 supersu v2.80 \\u6b63\\u5f0f\\u7248\\u4e2d\\uff0c\\u65b0\\u52a0\\u5165\\u4e86\\u8bfb\\u53d6\\u4f4d\\u7f6e\\u4fe1\\u606f\\u548c\\u624b\\u673a\\u72b6\\u6001\\u548c\\u8eab\\u4efd\\u7b49\\u591a\\u9879\\u654f\\u611f\\u6743\\u9650\\uff0c\\u4e0d\\u77e5\\u5404\\u4f4d\\u770b\\u6cd5\\u5982\\u4f55\\uff1f\",\\n        \"replies\" : 61,\\n        \"member\" : {\\n            \"id\" : 190239,\\n            \"username\" : \"Epsilon\",\\n            \"tagline\" : \"\",\\n            \"avatar_mini\" : \"//v2ex.assets.uxengine.net/avatar/d689/996a/190239_mini.png?m=1472901641\",\\n            \"avatar_normal\" : \"//v2ex.assets.uxengine.net/avatar/d689/996a/190239_normal.png?m=1472901641\",\\n            \"avatar_large\" : \"//v2ex.assets.uxengine.net/avatar/d689/996a/190239_large.png?m=1472901641\"\\n        },\\n        \"node\" : {\\n            \"id\" : 39,\\n            \"name\" : \"android\",\\n            \"title\" : \"Android\",\\n            \"title_alternative\" : \"Android\",\\n            \"url\" : \"http://www.v2ex.com/go/android\",\\n            \"topics\" : 3938,\\n            \"avatar_mini\" : \"//v2ex.assets.uxengine.net/navatar/d67d/8ab4/39_mini.png?m=1495572743\",\\n            \"avatar_normal\" : \"//v2ex.assets.uxengine.net/navatar/d67d/8ab4/39_normal.png?m=1495572743\",\\n            \"avatar_large\" : \"//v2ex.assets.uxengine.net/navatar/d67d/8ab4/39_large.png?m=1495572743\"\\n        },\\n        \"created\" : 1495678368,\\n        \"last_modified\" : 1495678368,\\n        \"last_touched\" : 1495707010\\n    },\\n    \\n    {\\n        \"id\" : 363653,\\n        \"title\" : \"Python \\u7a0b\\u5e8f\\u5458\\u7684\\u662f\\u88ab\\u79f0\\u4e3a Pythonista \\u5417\\uff1f\\u8fd8\\u662f Pythoner\\uff1f\",\\n        \"url\" : \"http://www.v2ex.com/t/363653\",\\n        \"content\" : \"\\u6211\\u9690\\u7ea6\\u8bb0\\u5f97\\u662f pythonista\\uff0c\\u4f46\\u4e00\\u641c\\u600e\\u4e48\\u662f\\u4e2a app \\u7684\\u540d\\u5b57 \\U0001f602\",\\n        \"content_rendered\" : \"\\u6211\\u9690\\u7ea6\\u8bb0\\u5f97\\u662f pythonista\\uff0c\\u4f46\\u4e00\\u641c\\u600e\\u4e48\\u662f\\u4e2a app \\u7684\\u540d\\u5b57 \\U0001f602\",\\n        \"replies\" : 58,\\n        \"member\" : {\\n            \"id\" : 123350,\\n            \"username\" : \"gap\",\\n            \"tagline\" : \"\",\\n            \"avatar_mini\" : \"//v2ex.assets.uxengine.net/avatar/8af2/32d4/123350_mini.png?m=1434893711\",\\n            \"avatar_normal\" : \"//v2ex.assets.uxengine.net/avatar/8af2/32d4/123350_normal.png?m=1434893711\",\\n            \"avatar_large\" : \"//v2ex.assets.uxengine.net/avatar/8af2/32d4/123350_large.png?m=1434893711\"\\n        },\\n        \"node\" : {\\n            \"id\" : 90,\\n            \"name\" : \"python\",\\n            \"title\" : \"Python\",\\n            \"title_alternative\" : \"Python\",\\n            \"url\" : \"http://www.v2ex.com/go/python\",\\n            \"topics\" : 6997,\\n            \"avatar_mini\" : \"//v2ex.assets.uxengine.net/navatar/8613/985e/90_mini.png?m=1495503083\",\\n            \"avatar_normal\" : \"//v2ex.assets.uxengine.net/navatar/8613/985e/90_normal.png?m=1495503083\",\\n            \"avatar_large\" : \"//v2ex.assets.uxengine.net/navatar/8613/985e/90_large.png?m=1495503083\"\\n        },\\n        \"created\" : 1495678830,\\n        \"last_modified\" : 1495678837,\\n        \"last_touched\" : 1495742448\\n    },\\n    \\n    {\\n        \"id\" : 363766,\\n        \"title\" : \"\\uff3b\\u5317\\u4eac\\uff3d\\uff3b\\u4e0b\\u53a8\\u623f\\uff3d\\uff3b\\u62db\\u8058\\uff3d\\u5206\\u4eab\\u4e00\\u4e0b\\u6211\\u53f8\\u90a3\\u4e9b\\u8ba9\\u6211\\u63d0\\u795e\\u9192\\u8111\\u7684\\u8bf7\\u5047\\u7406\\u7531\",\\n        \"url\" : \"http://www.v2ex.com/t/363766\",\\n        \"content\" : \"## \\u56f0\\u4e86\\u7d2f\\u4e86\\u8bf7\\u4e2a\\u5047\\\\u000D\\\\u000A\\u4e0b\\u5348\\u72af\\u56f0\\u7684\\u65f6\\u5019\\u9664\\u4e86\\u7761\\u4e00\\u89c9\\u8fd8\\u80fd\\u5e72\\u561b\\u5462\\uff1f\\u6211\\u6700\\u8fd1\\u90fd\\u662f\\u901a\\u8fc7\\u67e5\\u770b\\u4e0b\\u53a8\\u623f\\u7684\\u8bf7\\u5047\\u90ae\\u4ef6\\u6765\\u63d0\\u795e\\u9192\\u8111\\u7684\\uff0c\\u5404\\u79cd\\u8bf7\\u5047\\u7406\\u7531\\u603b\\u6709\\u4e00\\u6b3e\\u80fd\\u9017\\u9192\\u6211\\u3002\\u6211\\u6361\\u51e0\\u4e2a\\u4f73\\u4f5c\\u793a\\u4f17\\uff08\\u5fae\\u7b11\\\\u000D\\\\u000A\\\\u000D\\\\u000A![]( http://wx2.sinaimg.cn/large/6b4debedly1ffxlyyswjvj20hb00ndg0.jpg)\\\\u000D\\\\u000A* \\U0001f446\\u4f60\\u5230\\u5e95\\u505a\\u4e86\\u4ec0\\u4e48\\u4e0d\\u53ef\\u63cf\\u8ff0\\u7684\\u68a6\\\\u000D\\\\u000A\\\\u000D\\\\u000A![]( http://wx3.sinaimg.cn/large/6b4debedly1ffxm0e3kw2j20gm00pwek.jpg)\\\\u000D\\\\u000A* \\U0001f446\\u6211\\u8981\\u662f\\u56de\\u590d\\u201c\\u53ef\\u4ee5\\u201d\\u4f60\\u4f1a\\u4e0d\\u4f1a\\u4ee5\\u4e3a\\u6211\\u5728\\u5f00\\u73a9\\u7b11\\\\u000D\\\\u000A\\\\u000D\\\\u000A![]( http://wx4.sinaimg.cn/large/6b4debedly1ffxm0log17j20hc00ndg2.jpg)\\\\u000D\\\\u000A* \\U0001f446\\u732b\\u5230\\u5e95\\u505a\\u9519\\u4e86\\u4ec0\\u4e48\\uff1f\\uff01\\u4ed6\\u8fd8\\u662f\\u4e2a\\u5b69\\u5b50\\uff1f\\uff01\\\\u000D\\\\u000A\\\\u000D\\\\u000A![]( http://wx1.sinaimg.cn/large/6b4debedly1ffxm27rx4zj20gt00qglq.jpg)\\\\u000D\\\\u000A* \\U0001f446\\u6211\\u7684\\u8138\\u4e0a\\u8fd8\\u8981\\u4fdd\\u6301\\u56f4\\u7b11\\\\u000D\\\\u000A\\\\u000D\\\\u000A![]( http://wx1.sinaimg.cn/large/6b4debedly1ffxm2csl5cj20gk00sq2z.jpg)\\\\u000D\\\\u000A* \\U0001f446\\u6240\\u4ee5\\u6700\\u540e\\u627e\\u5230\\u4e86\\u5417\\uff1f\\\\u000D\\\\u000A\\\\u000D\\\\u000A![]( http://wx3.sinaimg.cn/large/6b4debedly1ffxm2tbgyjj20gm00rgln.jpg)\\\\u000D\\\\u000A* \\U0001f446\\u597d\\u7684\\u53ef\\u4ee5\\\\u000D\\\\u000A\\\\u000D\\\\u000A![]( http://wx1.sinaimg.cn/large/6b4debedly1ffxm2x2d11j20j100pwek.jpg)\\\\u000D\\\\u000A* \\U0001f446excuse me \\uff1f\\\\u000D\\\\u000A\\\\u000D\\\\u000A![]( http://wx3.sinaimg.cn/large/6b4debedly1ffxm3qg8zvj20gw00tmxa.jpg)\\\\u000D\\\\u000A* \\U0001f446\\u795d\\u4f60\\u6210\\u529f\\\\u000D\\\\u000A\\\\u000D\\\\u000A\\u8c03\\u4f83\\u5b8c\\u6bd5\\uff0c\\u65e0\\u8bba\\u5982\\u4f55\\u6211\\u90fd\\u7231\\u6211\\u6280\\u672f\\u5230\\u4f4d\\u597d\\u5947\\u5fc3\\u5f3a\\u4e2a\\u6027\\u6709\\u8da3\\u7684\\u6280\\u672f\\u56e2\\u961f\\u3002\\\\u000D\\\\u000A![]( http://wx1.sinaimg.cn/mw690/6b4debedly1ffxnnnc2hwj21kw16okjm.jpg)\\\\u000D\\\\u000A\\\\u000D\\\\u000A\\\\u000D\\\\u000A\\u6b63\\u7ecf\\u62db\\u8058\\u4fe1\\u606f\\U0001f447\\\\u000D\\\\u000A\\\\u000D\\\\u000A\\\\u000D\\\\u000A## \\u6211\\u4eec\\u662f\\u8c01\\\\u000D\\\\u000A\\\\u000D\\\\u000A* 6 \\u5c81\\u7684 B \\u8f6e\\u521b\\u4e1a\\u516c\\u53f8\\\\u000D\\\\u000A* \\u62e5\\u6709 1000 \\u591a\\u4e07\\u6ce8\\u518c\\u7528\\u6237\\\\u000D\\\\u000A* 4000 \\u591a\\u4e07 App \\u4e0b\\u8f7d\\u91cf\\\\u000D\\\\u000A* \\u8363\\u5e78\\u5165\\u9009\\u201c App Store 2013 \\u5e74\\u5ea6\\u7cbe\\u9009\\u201d\\\\u000D\\\\u000A* \\u8363\\u5e78\\u5165\\u9a7b\\u82f9\\u679c\\u4f53\\u9a8c\\u5e97\\uff08\\u4e2d\\u56fd\\u533a\\uff09\\u4f5c\\u4e3a\\u5c55\\u793a Demo\\\\u000D\\\\u000A\\\\u000D\\\\u000A## \\u6211\\u4eec\\u5728\\u627e\\u8c01\\\\u000D\\\\u000A\\\\u000D\\\\u000A** \\u5168\\u804c \\\\u0026\\\\u0026 \\u5b9e\\u4e60 **\\\\u000D\\\\u000A\\\\u000D\\\\u000A*  Python\\\\u000D\\\\u000A*  Web \\u524d\\u7aef\\\\u000D\\\\u000A*  iOS\\\\u000D\\\\u000A*  \\u8fd0\\u7ef4\\u5de5\\u7a0b\\u5e08\\\\u000D\\\\u000A\\\\u000D\\\\u000A\\\\u000D\\\\u000A## \\u4f60\\u6765\\u505a\\u4ec0\\u4e48\\\\u000D\\\\u000A\\\\u000D\\\\u000A* \\u4ece\\u4efb\\u52a1\\u5217\\u8868\\u4e2d\\u9009\\u62e9\\u81ea\\u5df1\\u559c\\u6b22\\u505a\\u7684\\u4e8b\\u60c5\\u6765\\u5b8c\\u6210\\uff0c\\u4e5f\\u53ef\\u4ee5\\u81ea\\u5df1\\u63d0\\u51fa\\u9700\\u6c42\\u6765\\u505a\\\\u000D\\\\u000A* \\u53c2\\u4e0e\\u4ea7\\u54c1\\u3001\\u6280\\u672f\\u3001\\u8bbe\\u8ba1\\u8ba8\\u8bba\\u3002\\u6211\\u4eec\\u5e0c\\u671b\\u4f60\\u505a\\u7684\\u6bcf\\u4e00\\u4e2a\\u4ea7\\u54c1\\u90fd\\u662f\\u81ea\\u5df1\\u5fc3\\u76ee\\u4e2d\\u5b8c\\u7f8e\\u7684\\u4ea7\\u54c1\\\\u000D\\\\u000A* \\u63a5\\u89e6\\u5e76\\u5b66\\u4e60 App\\u3001Web \\u5f00\\u53d1\\u3001\\u7cfb\\u7edf\\u8fd0\\u7ef4\\u3001\\u6570\\u636e\\u5e93\\u7ef4\\u62a4\\u7b49\\u5404\\u79cd\\u6280\\u672f\\\\u000D\\\\u000A\\\\u000D\\\\u000A## \\u6211\\u4eec\\u5bf9\\u4f60\\u7684\\u8981\\u6c42\\\\u000D\\\\u000A\\\\u000D\\\\u000A* \\u5bf9\\u6280\\u672f\\u6709\\u70ed\\u60c5\\\\u000D\\\\u000A* \\u53ef\\u4ee5\\u72ec\\u7acb\\u89e3\\u51b3\\u95ee\\u9898\\uff08\\u719f\\u7ec3\\u638c\\u63e1 Google\\u3001Stackoverflow \\uff09\\\\u000D\\\\u000A* \\u4e86\\u89e3\\u57fa\\u7840\\u77e5\\u8bc6\\\\u000D\\\\u000A* \\u6709\\u826f\\u597d\\u7684\\u82f1\\u8bed\\u8bfb\\u5199\\u80fd\\u529b\\\\u000D\\\\u000A* \\u6709\\u826f\\u597d\\u7684\\u56e2\\u961f\\u534f\\u4f5c\\u80fd\\u529b\\\\u000D\\\\u000A* Web \\u5b9e\\u4e60\\u751f\\u9700\\u8981\\u57fa\\u672c\\u77e5\\u9053 Python\\u3001Javascript\\u3001CSS \\u7b49\\u76f8\\u5173\\u77e5\\u8bc6\\uff0c\\u6709\\u8fc7\\u81ea\\u5df1\\u5199\\u7f51\\u7ad9\\u7684\\u7ecf\\u9a8c\\\\u000D\\\\u000A* iOS \\u5b9e\\u4e60\\u751f\\u9700\\u8981\\u5199\\u8fc7\\u7b80\\u5355\\u7684 App\\\\u000D\\\\u000A* \\u5b9e\\u4e60\\u65f6\\u95f4\\u4fdd\\u8bc1\\u4e00\\u5468 4 \\u5929\\u4ee5\\u4e0a\\uff0c\\u6301\\u7eed 3 \\u4e2a\\u6708\\u4ee5\\u4e0a\\\\u000D\\\\u000A* \\u7b80\\u5386\\u9644\\u4e0a\\u4e2a\\u4eba\\u535a\\u5ba2\\u5730\\u5740\\u548c Github \\u5730\\u5740\\uff08\\u5982\\u679c\\u6709\\u7684\\u8bdd\\uff09\\\\u000D\\\\u000A\\\\u000D\\\\u000A## \\u540e\\u7aef\\u6280\\u672f\\u9009\\u578b\\\\u000D\\\\u000A\\\\u000D\\\\u000A* \\u8bed\\u8a00\\u4ee5 Python \\u4e3a\\u4e3b\\uff0c\\u6846\\u67b6\\u4e3b\\u8981\\u4f7f\\u7528 Flask\\uff0c\\u6a21\\u677f\\u7528 Mako\\\\u000D\\\\u000A* \\u6570\\u636e\\u5e93\\u4e3b\\u8981\\u4f7f\\u7528 MySQL\\uff0c\\u90e8\\u5206\\u4f7f\\u7528 Redis\\uff0c\\u7f13\\u5b58\\u4f7f\\u7528 Memcache\\\\u000D\\\\u000A* \\u7cfb\\u7edf\\u4f7f\\u7528 Ubuntu\\\\u000D\\\\u000A* \\u5b58\\u50a8\\u4f7f\\u7528 MFS\\\\u000D\\\\u000A\\\\u000D\\\\u000A## \\u524d\\u7aef\\u6280\\u672f\\u9009\\u578b\\\\u000D\\\\u000A* Babel + ES6\\\\u000D\\\\u000A* Vuejs + React\\\\u000D\\\\u000A* \\u4f7f\\u7528 Webpack \\u6253\\u5305\\\\u000D\\\\u000A\\\\u000D\\\\u000A## \\u85aa\\u8d44\\u5f85\\u9047\\\\u000D\\\\u000A\\\\u000D\\\\u000A\\u6211\\u4eec\\u4e3a\\u4f60\\u63d0\\u4f9b\\\\u000D\\\\u000A* \\u8212\\u9002\\u7684\\u529e\\u516c\\u5ba4\\\\u000D\\\\u000A* \\u65e0\\u9650\\u91cf\\u96f6\\u98df\\u4f9b\\u5e94\\\\u000D\\\\u000A* \\u5404\\u79cd\\u5174\\u8da3\\u5c0f\\u7ec4\\\\u000D\\\\u000A* \\u514d\\u8d39\\u81ea\\u52a9\\u5348\\u9910\\\\u000D\\\\u000A* \\u6bcf\\u5e74\\u5341\\u4e00\\u5929\\u5e26\\u85aa\\u5047\\uff08\\u5165\\u804c\\u6bcf\\u591a\\u4e00\\u5e74\\u591a\\u4e00\\u5929\\uff09\\\\u000D\\\\u000A* \\u53cc\\u4f11\\uff0c\\u4e0d\\u63d0\\u5021\\u52a0\\u73ed\\\\u000D\\\\u000A\\\\u000D\\\\u000A\\u5b9e\\u4e60\\u85aa\\u8d44 180 \\uff5e 200/\\u5929\\uff0c\\u975e\\u5317\\u4eac\\u540c\\u5b66\\u8fd8\\u6709\\u6bcf\\u6708 1500 \\u4f4f\\u623f\\u8865\\u52a9\\\\u000D\\\\u000A\\u5168\\u804c\\u85aa\\u8d44 10k ~ 30k, \\u6bcf\\u5e74\\u4e24\\u6b21\\u8c03\\u85aa\\\\u000D\\\\u000A\\u8be6\\u60c5\\u53ef\\u4ee5\\u67e5\\u770b [\\u4e0b\\u53a8\\u623f\\u62db\\u8058\\u7f51\\u7ad9]( http://www.xiachufang.com/job/ )\\\\u000D\\\\u000A\\u4e5f\\u8bb8\\u4f60\\u5e76\\u4e0d\\u60f3\\u6362\\u5de5\\u4f5c\\uff0c\\u4f46\\u662f\\u5bf9\\u6211\\u4eec\\u6240\\u505a\\u7684\\u4e8b\\u611f\\u5174\\u8da3\\uff0c\\u6216\\u8005\\u60f3\\u4e86\\u89e3\\u521b\\u4e1a\\u8fd9\\u4ef6\\u4e8b\\u60c5\\uff0c\\u4e5f\\u6b22\\u8fce\\u6765\\u4e0e\\u6211\\u4eec\\u804a\\u804a\\u3002\\\\u000D\\\\u000A\\\\u000D\\\\u000A\\\\u000D\\\\u000A## \\u8054\\u7cfb\\u65b9\\u5f0f\\\\u000D\\\\u000A\\\\u000D\\\\u000A\\u516c\\u53f8\\u5730\\u5740\\uff1a\\u5317\\u4eac\\u5e02\\u6d77\\u6dc0\\u533a\\u9ed1\\u6cc9\\u8def\\u5b9d\\u76db\\u5e7f\\u573a\\\\u000D\\\\u000A\\\\u000D\\\\u000A\\u90ae\\u4ef6\\u4e3b\\u9898 \\u5e94\\u8058\\u5c97\\u4f4d+\\u59d3\\u540d+\\u6765\\u81ea v2ex\\uff0c\\u4f8b\\u5982\\\\u0022\\u5e94\\u8058 iOS + grumpy + \\u6765\\u81ea v2ex\\\\u0022\",\\n        \"content_rendered\" : \"\\\\u003Ch2\\\\u003E\\u56f0\\u4e86\\u7d2f\\u4e86\\u8bf7\\u4e2a\\u5047\\\\u003C/h2\\\\u003E\\\\u000A\\\\u003Cp\\\\u003E\\u4e0b\\u5348\\u72af\\u56f0\\u7684\\u65f6\\u5019\\u9664\\u4e86\\u7761\\u4e00\\u89c9\\u8fd8\\u80fd\\u5e72\\u561b\\u5462\\uff1f\\u6211\\u6700\\u8fd1\\u90fd\\u662f\\u901a\\u8fc7\\u67e5\\u770b\\u4e0b\\u53a8\\u623f\\u7684\\u8bf7\\u5047\\u90ae\\u4ef6\\u6765\\u63d0\\u795e\\u9192\\u8111\\u7684\\uff0c\\u5404\\u79cd\\u8bf7\\u5047\\u7406\\u7531\\u603b\\u6709\\u4e00\\u6b3e\\u80fd\\u9017\\u9192\\u6211\\u3002\\u6211\\u6361\\u51e0\\u4e2a\\u4f73\\u4f5c\\u793a\\u4f17\\uff08\\u5fae\\u7b11\\\\u003C/p\\\\u003E\\\\u000A\\\\u003Cp\\\\u003E\\\\u003Cimg alt\\\\u003D\\\\u0022\\\\u0022 src\\\\u003D\\\\u0022http://wx2.sinaimg.cn/large/6b4debedly1ffxlyyswjvj20hb00ndg0.jpg\\\\u0022\\\\u003E\\\\u003C/p\\\\u003E\\\\u000A\\\\u003Cul\\\\u003E\\\\u000A\\\\u003Cli\\\\u003E\\U0001f446\\u4f60\\u5230\\u5e95\\u505a\\u4e86\\u4ec0\\u4e48\\u4e0d\\u53ef\\u63cf\\u8ff0\\u7684\\u68a6\\\\u003C/li\\\\u003E\\\\u000A\\\\u003C/ul\\\\u003E\\\\u000A\\\\u003Cp\\\\u003E\\\\u003Cimg alt\\\\u003D\\\\u0022\\\\u0022 src\\\\u003D\\\\u0022http://wx3.sinaimg.cn/large/6b4debedly1ffxm0e3kw2j20gm00pwek.jpg\\\\u0022\\\\u003E\\\\u003C/p\\\\u003E\\\\u000A\\\\u003Cul\\\\u003E\\\\u000A\\\\u003Cli\\\\u003E\\U0001f446\\u6211\\u8981\\u662f\\u56de\\u590d\\u201c\\u53ef\\u4ee5\\u201d\\u4f60\\u4f1a\\u4e0d\\u4f1a\\u4ee5\\u4e3a\\u6211\\u5728\\u5f00\\u73a9\\u7b11\\\\u003C/li\\\\u003E\\\\u000A\\\\u003C/ul\\\\u003E\\\\u000A\\\\u003Cp\\\\u003E\\\\u003Cimg alt\\\\u003D\\\\u0022\\\\u0022 src\\\\u003D\\\\u0022http://wx4.sinaimg.cn/large/6b4debedly1ffxm0log17j20hc00ndg2.jpg\\\\u0022\\\\u003E\\\\u003C/p\\\\u003E\\\\u000A\\\\u003Cul\\\\u003E\\\\u000A\\\\u003Cli\\\\u003E\\U0001f446\\u732b\\u5230\\u5e95\\u505a\\u9519\\u4e86\\u4ec0\\u4e48\\uff1f\\uff01\\u4ed6\\u8fd8\\u662f\\u4e2a\\u5b69\\u5b50\\uff1f\\uff01\\\\u003C/li\\\\u003E\\\\u000A\\\\u003C/ul\\\\u003E\\\\u000A\\\\u003Cp\\\\u003E\\\\u003Cimg alt\\\\u003D\\\\u0022\\\\u0022 src\\\\u003D\\\\u0022http://wx1.sinaimg.cn/large/6b4debedly1ffxm27rx4zj20gt00qglq.jpg\\\\u0022\\\\u003E\\\\u003C/p\\\\u003E\\\\u000A\\\\u003Cul\\\\u003E\\\\u000A\\\\u003Cli\\\\u003E\\U0001f446\\u6211\\u7684\\u8138\\u4e0a\\u8fd8\\u8981\\u4fdd\\u6301\\u56f4\\u7b11\\\\u003C/li\\\\u003E\\\\u000A\\\\u003C/ul\\\\u003E\\\\u000A\\\\u003Cp\\\\u003E\\\\u003Cimg alt\\\\u003D\\\\u0022\\\\u0022 src\\\\u003D\\\\u0022http://wx1.sinaimg.cn/large/6b4debedly1ffxm2csl5cj20gk00sq2z.jpg\\\\u0022\\\\u003E\\\\u003C/p\\\\u003E\\\\u000A\\\\u003Cul\\\\u003E\\\\u000A\\\\u003Cli\\\\u003E\\U0001f446\\u6240\\u4ee5\\u6700\\u540e\\u627e\\u5230\\u4e86\\u5417\\uff1f\\\\u003C/li\\\\u003E\\\\u000A\\\\u003C/ul\\\\u003E\\\\u000A\\\\u003Cp\\\\u003E\\\\u003Cimg alt\\\\u003D\\\\u0022\\\\u0022 src\\\\u003D\\\\u0022http://wx3.sinaimg.cn/large/6b4debedly1ffxm2tbgyjj20gm00rgln.jpg\\\\u0022\\\\u003E\\\\u003C/p\\\\u003E\\\\u000A\\\\u003Cul\\\\u003E\\\\u000A\\\\u003Cli\\\\u003E\\U0001f446\\u597d\\u7684\\u53ef\\u4ee5\\\\u003C/li\\\\u003E\\\\u000A\\\\u003C/ul\\\\u003E\\\\u000A\\\\u003Cp\\\\u003E\\\\u003Cimg alt\\\\u003D\\\\u0022\\\\u0022 src\\\\u003D\\\\u0022http://wx1.sinaimg.cn/large/6b4debedly1ffxm2x2d11j20j100pwek.jpg\\\\u0022\\\\u003E\\\\u003C/p\\\\u003E\\\\u000A\\\\u003Cul\\\\u003E\\\\u000A\\\\u003Cli\\\\u003E\\U0001f446excuse me \\uff1f\\\\u003C/li\\\\u003E\\\\u000A\\\\u003C/ul\\\\u003E\\\\u000A\\\\u003Cp\\\\u003E\\\\u003Cimg alt\\\\u003D\\\\u0022\\\\u0022 src\\\\u003D\\\\u0022http://wx3.sinaimg.cn/large/6b4debedly1ffxm3qg8zvj20gw00tmxa.jpg\\\\u0022\\\\u003E\\\\u003C/p\\\\u003E\\\\u000A\\\\u003Cul\\\\u003E\\\\u000A\\\\u003Cli\\\\u003E\\U0001f446\\u795d\\u4f60\\u6210\\u529f\\\\u003C/li\\\\u003E\\\\u000A\\\\u003C/ul\\\\u003E\\\\u000A\\\\u003Cp\\\\u003E\\u8c03\\u4f83\\u5b8c\\u6bd5\\uff0c\\u65e0\\u8bba\\u5982\\u4f55\\u6211\\u90fd\\u7231\\u6211\\u6280\\u672f\\u5230\\u4f4d\\u597d\\u5947\\u5fc3\\u5f3a\\u4e2a\\u6027\\u6709\\u8da3\\u7684\\u6280\\u672f\\u56e2\\u961f\\u3002\\\\u000A\\\\u003Cimg alt\\\\u003D\\\\u0022\\\\u0022 src\\\\u003D\\\\u0022http://wx1.sinaimg.cn/mw690/6b4debedly1ffxnnnc2hwj21kw16okjm.jpg\\\\u0022\\\\u003E\\\\u003C/p\\\\u003E\\\\u000A\\\\u003Cp\\\\u003E\\u6b63\\u7ecf\\u62db\\u8058\\u4fe1\\u606f\\U0001f447\\\\u003C/p\\\\u003E\\\\u000A\\\\u003Ch2\\\\u003E\\u6211\\u4eec\\u662f\\u8c01\\\\u003C/h2\\\\u003E\\\\u000A\\\\u003Cul\\\\u003E\\\\u000A\\\\u003Cli\\\\u003E6 \\u5c81\\u7684 B \\u8f6e\\u521b\\u4e1a\\u516c\\u53f8\\\\u003C/li\\\\u003E\\\\u000A\\\\u003Cli\\\\u003E\\u62e5\\u6709 1000 \\u591a\\u4e07\\u6ce8\\u518c\\u7528\\u6237\\\\u003C/li\\\\u003E\\\\u000A\\\\u003Cli\\\\u003E4000 \\u591a\\u4e07 App \\u4e0b\\u8f7d\\u91cf\\\\u003C/li\\\\u003E\\\\u000A\\\\u003Cli\\\\u003E\\u8363\\u5e78\\u5165\\u9009\\u201c App Store 2013 \\u5e74\\u5ea6\\u7cbe\\u9009\\u201d\\\\u003C/li\\\\u003E\\\\u000A\\\\u003Cli\\\\u003E\\u8363\\u5e78\\u5165\\u9a7b\\u82f9\\u679c\\u4f53\\u9a8c\\u5e97\\uff08\\u4e2d\\u56fd\\u533a\\uff09\\u4f5c\\u4e3a\\u5c55\\u793a Demo\\\\u003C/li\\\\u003E\\\\u000A\\\\u003C/ul\\\\u003E\\\\u000A\\\\u003Ch2\\\\u003E\\u6211\\u4eec\\u5728\\u627e\\u8c01\\\\u003C/h2\\\\u003E\\\\u000A\\\\u003Cp\\\\u003E** \\u5168\\u804c \\\\u0026amp\\\\u003B\\\\u0026amp\\\\u003B \\u5b9e\\u4e60 **\\\\u003C/p\\\\u003E\\\\u000A\\\\u003Cul\\\\u003E\\\\u000A\\\\u003Cli\\\\u003EPython\\\\u003C/li\\\\u003E\\\\u000A\\\\u003Cli\\\\u003EWeb \\u524d\\u7aef\\\\u003C/li\\\\u003E\\\\u000A\\\\u003Cli\\\\u003EiOS\\\\u003C/li\\\\u003E\\\\u000A\\\\u003Cli\\\\u003E\\u8fd0\\u7ef4\\u5de5\\u7a0b\\u5e08\\\\u003C/li\\\\u003E\\\\u000A\\\\u003C/ul\\\\u003E\\\\u000A\\\\u003Ch2\\\\u003E\\u4f60\\u6765\\u505a\\u4ec0\\u4e48\\\\u003C/h2\\\\u003E\\\\u000A\\\\u003Cul\\\\u003E\\\\u000A\\\\u003Cli\\\\u003E\\u4ece\\u4efb\\u52a1\\u5217\\u8868\\u4e2d\\u9009\\u62e9\\u81ea\\u5df1\\u559c\\u6b22\\u505a\\u7684\\u4e8b\\u60c5\\u6765\\u5b8c\\u6210\\uff0c\\u4e5f\\u53ef\\u4ee5\\u81ea\\u5df1\\u63d0\\u51fa\\u9700\\u6c42\\u6765\\u505a\\\\u003C/li\\\\u003E\\\\u000A\\\\u003Cli\\\\u003E\\u53c2\\u4e0e\\u4ea7\\u54c1\\u3001\\u6280\\u672f\\u3001\\u8bbe\\u8ba1\\u8ba8\\u8bba\\u3002\\u6211\\u4eec\\u5e0c\\u671b\\u4f60\\u505a\\u7684\\u6bcf\\u4e00\\u4e2a\\u4ea7\\u54c1\\u90fd\\u662f\\u81ea\\u5df1\\u5fc3\\u76ee\\u4e2d\\u5b8c\\u7f8e\\u7684\\u4ea7\\u54c1\\\\u003C/li\\\\u003E\\\\u000A\\\\u003Cli\\\\u003E\\u63a5\\u89e6\\u5e76\\u5b66\\u4e60 App\\u3001Web \\u5f00\\u53d1\\u3001\\u7cfb\\u7edf\\u8fd0\\u7ef4\\u3001\\u6570\\u636e\\u5e93\\u7ef4\\u62a4\\u7b49\\u5404\\u79cd\\u6280\\u672f\\\\u003C/li\\\\u003E\\\\u000A\\\\u003C/ul\\\\u003E\\\\u000A\\\\u003Ch2\\\\u003E\\u6211\\u4eec\\u5bf9\\u4f60\\u7684\\u8981\\u6c42\\\\u003C/h2\\\\u003E\\\\u000A\\\\u003Cul\\\\u003E\\\\u000A\\\\u003Cli\\\\u003E\\u5bf9\\u6280\\u672f\\u6709\\u70ed\\u60c5\\\\u003C/li\\\\u003E\\\\u000A\\\\u003Cli\\\\u003E\\u53ef\\u4ee5\\u72ec\\u7acb\\u89e3\\u51b3\\u95ee\\u9898\\uff08\\u719f\\u7ec3\\u638c\\u63e1 Google\\u3001Stackoverflow \\uff09\\\\u003C/li\\\\u003E\\\\u000A\\\\u003Cli\\\\u003E\\u4e86\\u89e3\\u57fa\\u7840\\u77e5\\u8bc6\\\\u003C/li\\\\u003E\\\\u000A\\\\u003Cli\\\\u003E\\u6709\\u826f\\u597d\\u7684\\u82f1\\u8bed\\u8bfb\\u5199\\u80fd\\u529b\\\\u003C/li\\\\u003E\\\\u000A\\\\u003Cli\\\\u003E\\u6709\\u826f\\u597d\\u7684\\u56e2\\u961f\\u534f\\u4f5c\\u80fd\\u529b\\\\u003C/li\\\\u003E\\\\u000A\\\\u003Cli\\\\u003EWeb \\u5b9e\\u4e60\\u751f\\u9700\\u8981\\u57fa\\u672c\\u77e5\\u9053 Python\\u3001Javascript\\u3001CSS \\u7b49\\u76f8\\u5173\\u77e5\\u8bc6\\uff0c\\u6709\\u8fc7\\u81ea\\u5df1\\u5199\\u7f51\\u7ad9\\u7684\\u7ecf\\u9a8c\\\\u003C/li\\\\u003E\\\\u000A\\\\u003Cli\\\\u003EiOS \\u5b9e\\u4e60\\u751f\\u9700\\u8981\\u5199\\u8fc7\\u7b80\\u5355\\u7684 App\\\\u003C/li\\\\u003E\\\\u000A\\\\u003Cli\\\\u003E\\u5b9e\\u4e60\\u65f6\\u95f4\\u4fdd\\u8bc1\\u4e00\\u5468 4 \\u5929\\u4ee5\\u4e0a\\uff0c\\u6301\\u7eed 3 \\u4e2a\\u6708\\u4ee5\\u4e0a\\\\u003C/li\\\\u003E\\\\u000A\\\\u003Cli\\\\u003E\\u7b80\\u5386\\u9644\\u4e0a\\u4e2a\\u4eba\\u535a\\u5ba2\\u5730\\u5740\\u548c Github \\u5730\\u5740\\uff08\\u5982\\u679c\\u6709\\u7684\\u8bdd\\uff09\\\\u003C/li\\\\u003E\\\\u000A\\\\u003C/ul\\\\u003E\\\\u000A\\\\u003Ch2\\\\u003E\\u540e\\u7aef\\u6280\\u672f\\u9009\\u578b\\\\u003C/h2\\\\u003E\\\\u000A\\\\u003Cul\\\\u003E\\\\u000A\\\\u003Cli\\\\u003E\\u8bed\\u8a00\\u4ee5 Python \\u4e3a\\u4e3b\\uff0c\\u6846\\u67b6\\u4e3b\\u8981\\u4f7f\\u7528 Flask\\uff0c\\u6a21\\u677f\\u7528 Mako\\\\u003C/li\\\\u003E\\\\u000A\\\\u003Cli\\\\u003E\\u6570\\u636e\\u5e93\\u4e3b\\u8981\\u4f7f\\u7528 MySQL\\uff0c\\u90e8\\u5206\\u4f7f\\u7528 Redis\\uff0c\\u7f13\\u5b58\\u4f7f\\u7528 Memcache\\\\u003C/li\\\\u003E\\\\u000A\\\\u003Cli\\\\u003E\\u7cfb\\u7edf\\u4f7f\\u7528 Ubuntu\\\\u003C/li\\\\u003E\\\\u000A\\\\u003Cli\\\\u003E\\u5b58\\u50a8\\u4f7f\\u7528 MFS\\\\u003C/li\\\\u003E\\\\u000A\\\\u003C/ul\\\\u003E\\\\u000A\\\\u003Ch2\\\\u003E\\u524d\\u7aef\\u6280\\u672f\\u9009\\u578b\\\\u003C/h2\\\\u003E\\\\u000A\\\\u003Cul\\\\u003E\\\\u000A\\\\u003Cli\\\\u003EBabel + ES6\\\\u003C/li\\\\u003E\\\\u000A\\\\u003Cli\\\\u003EVuejs + React\\\\u003C/li\\\\u003E\\\\u000A\\\\u003Cli\\\\u003E\\u4f7f\\u7528 Webpack \\u6253\\u5305\\\\u003C/li\\\\u003E\\\\u000A\\\\u003C/ul\\\\u003E\\\\u000A\\\\u003Ch2\\\\u003E\\u85aa\\u8d44\\u5f85\\u9047\\\\u003C/h2\\\\u003E\\\\u000A\\\\u003Cp\\\\u003E\\u6211\\u4eec\\u4e3a\\u4f60\\u63d0\\u4f9b\\\\u003C/p\\\\u003E\\\\u000A\\\\u003Cul\\\\u003E\\\\u000A\\\\u003Cli\\\\u003E\\u8212\\u9002\\u7684\\u529e\\u516c\\u5ba4\\\\u003C/li\\\\u003E\\\\u000A\\\\u003Cli\\\\u003E\\u65e0\\u9650\\u91cf\\u96f6\\u98df\\u4f9b\\u5e94\\\\u003C/li\\\\u003E\\\\u000A\\\\u003Cli\\\\u003E\\u5404\\u79cd\\u5174\\u8da3\\u5c0f\\u7ec4\\\\u003C/li\\\\u003E\\\\u000A\\\\u003Cli\\\\u003E\\u514d\\u8d39\\u81ea\\u52a9\\u5348\\u9910\\\\u003C/li\\\\u003E\\\\u000A\\\\u003Cli\\\\u003E\\u6bcf\\u5e74\\u5341\\u4e00\\u5929\\u5e26\\u85aa\\u5047\\uff08\\u5165\\u804c\\u6bcf\\u591a\\u4e00\\u5e74\\u591a\\u4e00\\u5929\\uff09\\\\u003C/li\\\\u003E\\\\u000A\\\\u003Cli\\\\u003E\\u53cc\\u4f11\\uff0c\\u4e0d\\u63d0\\u5021\\u52a0\\u73ed\\\\u003C/li\\\\u003E\\\\u000A\\\\u003C/ul\\\\u003E\\\\u000A\\\\u003Cp\\\\u003E\\u5b9e\\u4e60\\u85aa\\u8d44 180 \\uff5e 200/\\u5929\\uff0c\\u975e\\u5317\\u4eac\\u540c\\u5b66\\u8fd8\\u6709\\u6bcf\\u6708 1500 \\u4f4f\\u623f\\u8865\\u52a9\\\\u000A\\u5168\\u804c\\u85aa\\u8d44 10k ~ 30k, \\u6bcf\\u5e74\\u4e24\\u6b21\\u8c03\\u85aa\\\\u000A\\u8be6\\u60c5\\u53ef\\u4ee5\\u67e5\\u770b \\\\u003Ca href\\\\u003D\\\\u0022http://www.xiachufang.com/job/\\\\u0022 rel\\\\u003D\\\\u0022nofollow\\\\u0022\\\\u003E\\u4e0b\\u53a8\\u623f\\u62db\\u8058\\u7f51\\u7ad9\\\\u003C/a\\\\u003E\\\\u000A\\u4e5f\\u8bb8\\u4f60\\u5e76\\u4e0d\\u60f3\\u6362\\u5de5\\u4f5c\\uff0c\\u4f46\\u662f\\u5bf9\\u6211\\u4eec\\u6240\\u505a\\u7684\\u4e8b\\u611f\\u5174\\u8da3\\uff0c\\u6216\\u8005\\u60f3\\u4e86\\u89e3\\u521b\\u4e1a\\u8fd9\\u4ef6\\u4e8b\\u60c5\\uff0c\\u4e5f\\u6b22\\u8fce\\u6765\\u4e0e\\u6211\\u4eec\\u804a\\u804a\\u3002\\\\u003C/p\\\\u003E\\\\u000A\\\\u003Ch2\\\\u003E\\u8054\\u7cfb\\u65b9\\u5f0f\\\\u003C/h2\\\\u003E\\\\u000A\\\\u003Cp\\\\u003E\\u516c\\u53f8\\u5730\\u5740\\uff1a\\u5317\\u4eac\\u5e02\\u6d77\\u6dc0\\u533a\\u9ed1\\u6cc9\\u8def\\u5b9d\\u76db\\u5e7f\\u573a\\\\u003C/p\\\\u003E\\\\u000A\\\\u003Cp\\\\u003E\\u90ae\\u4ef6\\u4e3b\\u9898 \\u5e94\\u8058\\u5c97\\u4f4d+\\u59d3\\u540d+\\u6765\\u81ea v2ex\\uff0c\\u4f8b\\u5982\\\\u0022\\u5e94\\u8058 iOS + grumpy + \\u6765\\u81ea v2ex\\\\u0022\\\\u003C/p\\\\u003E\\\\u000A\",\\n        \"replies\" : 58,\\n        \"member\" : {\\n            \"id\" : 151481,\\n            \"username\" : \"Grumpy\",\\n            \"tagline\" : \"\",\\n            \"avatar_mini\" : \"//v2ex.assets.uxengine.net/avatar/3904/ffc3/151481_mini.png?m=1459941347\",\\n            \"avatar_normal\" : \"//v2ex.assets.uxengine.net/avatar/3904/ffc3/151481_normal.png?m=1459941347\",\\n            \"avatar_large\" : \"//v2ex.assets.uxengine.net/avatar/3904/ffc3/151481_large.png?m=1459941347\"\\n        },\\n        \"node\" : {\\n            \"id\" : 43,\\n            \"name\" : \"jobs\",\\n            \"title\" : \"\\u9177\\u5de5\\u4f5c\",\\n            \"title_alternative\" : \"Jobs\",\\n            \"url\" : \"http://www.v2ex.com/go/jobs\",\\n            \"topics\" : 20459,\\n            \"avatar_mini\" : \"//v2ex.assets.uxengine.net/navatar/17e6/2166/43_mini.png?m=1495610093\",\\n            \"avatar_normal\" : \"//v2ex.assets.uxengine.net/navatar/17e6/2166/43_normal.png?m=1495610093\",\\n            \"avatar_large\" : \"//v2ex.assets.uxengine.net/navatar/17e6/2166/43_large.png?m=1495610093\"\\n        },\\n        \"created\" : 1495698555,\\n        \"last_modified\" : 1495698555,\\n        \"last_touched\" : 1495764442\\n    },\\n    \\n    {\\n        \"id\" : 363781,\\n        \"title\" : \"\\u88c1\\u5458\\u4e86, \\u7b7e\\u4e86 N+1 \\u8d54\\u507f\\u534f\\u8bae\\u5916\\u8fd8\\u586b\\u4e86\\u4e2a\\u8f9e\\u804c\\u4e66, \\u8fd9\\u662f\\u4ec0\\u4e48\\u5957\\u8def?\",\\n        \"url\" : \"http://www.v2ex.com/t/363781\",\\n        \"content\" : \"\\u5de5\\u4f5c\\u65f6\\u95f4\\u5dee\\u4e00\\u4e9b\\u6ee1\\u4e00\\u5e74, \\u7b7e\\u4e86\\u4e2a 1+1, \\u5c31\\u662f HR \\u8bf4\\u4e3a\\u4e86\\u6211\\u4e0b\\u5bb6\\u7684\\u80cc\\u8c03\\u4ee5\\u53ca\\u5176\\u4ed6\\u4e00\\u4e9b\\u4e8b\\u60c5\\u6bd4\\u8f83\\u65b9\\u4fbf\\u8ba9\\u6211\\u518d\\u586b\\u4e00\\u4efd\\u8f9e\\u804c\\u4e66, \\u8ff7\\u8ff7\\u7cca\\u7cca\\u5c31\\u586b\\u4e86, \\u5e94\\u8be5\\u6ca1\\u8e29\\u5751\\u5427?\",\\n        \"content_rendered\" : \"\\u5de5\\u4f5c\\u65f6\\u95f4\\u5dee\\u4e00\\u4e9b\\u6ee1\\u4e00\\u5e74, \\u7b7e\\u4e86\\u4e2a 1+1, \\u5c31\\u662f HR \\u8bf4\\u4e3a\\u4e86\\u6211\\u4e0b\\u5bb6\\u7684\\u80cc\\u8c03\\u4ee5\\u53ca\\u5176\\u4ed6\\u4e00\\u4e9b\\u4e8b\\u60c5\\u6bd4\\u8f83\\u65b9\\u4fbf\\u8ba9\\u6211\\u518d\\u586b\\u4e00\\u4efd\\u8f9e\\u804c\\u4e66, \\u8ff7\\u8ff7\\u7cca\\u7cca\\u5c31\\u586b\\u4e86, \\u5e94\\u8be5\\u6ca1\\u8e29\\u5751\\u5427?\",\\n        \"replies\" : 54,\\n        \"member\" : {\\n            \"id\" : 172741,\\n            \"username\" : \"Hstar\",\\n            \"tagline\" : \"\",\\n            \"avatar_mini\" : \"//v2ex.assets.uxengine.net/gravatar/4b4f5fde6b585013330c49a0311c1d68?s=24&d=retro\",\\n            \"avatar_normal\" : \"//v2ex.assets.uxengine.net/gravatar/4b4f5fde6b585013330c49a0311c1d68?s=48&d=retro\",\\n            \"avatar_large\" : \"//v2ex.assets.uxengine.net/gravatar/4b4f5fde6b585013330c49a0311c1d68?s=73&d=retro\"\\n        },\\n        \"node\" : {\\n            \"id\" : 770,\\n            \"name\" : \"career\",\\n            \"title\" : \"\\u804c\\u573a\\u8bdd\\u9898\",\\n            \"title_alternative\" : \"Career\",\\n            \"url\" : \"http://www.v2ex.com/go/career\",\\n            \"topics\" : 2692,\\n            \"avatar_mini\" : \"//v2ex.assets.uxengine.net/navatar/4ea0/6fbc/770_mini.png?m=1495610120\",\\n            \"avatar_normal\" : \"//v2ex.assets.uxengine.net/navatar/4ea0/6fbc/770_normal.png?m=1495610120\",\\n            \"avatar_large\" : \"//v2ex.assets.uxengine.net/navatar/4ea0/6fbc/770_large.png?m=1495610120\"\\n        },\\n        \"created\" : 1495700693,\\n        \"last_modified\" : 1495700693,\\n        \"last_touched\" : 1495763632\\n    },\\n    \\n    {\\n        \"id\" : 363729,\\n        \"title\" : \"\\u5feb\\u6765\\u62cd\\u5440\\uff0c\\u505a\\u4e86\\u4e2a\\u7279\\u70c2\\u5927\\u8857\\u7684\\u6dd8\\u5ba2\\u7f51\\u7ad9\",\\n        \"url\" : \"http://www.v2ex.com/t/363729\",\\n        \"content\" : \"\\u5730\\u5740\\uff1a https://huitaodang.com\\\\u000D\\\\u000A\\\\u000D\\\\u000A\\u6240\\u6709\\u6570\\u636e\\u90fd\\u662f\\u901a\\u8fc7\\u722c\\u6dd8\\u5b9d\\u8054\\u76df\\u4e0a\\u9762\\u7684\\u6570\\u636e\\uff0c\\u6211\\u8d1f\\u8d23\\u524d\\u7aef\\uff0c\",\\n        \"content_rendered\" : \"\\\\u003Cp\\\\u003E\\u5730\\u5740\\uff1a \\\\u003Ca href\\\\u003D\\\\u0022https://huitaodang.com\\\\u0022 rel\\\\u003D\\\\u0022nofollow\\\\u0022\\\\u003Ehttps://huitaodang.com\\\\u003C/a\\\\u003E\\\\u003C/p\\\\u003E\\\\u000A\\\\u003Cp\\\\u003E\\u6240\\u6709\\u6570\\u636e\\u90fd\\u662f\\u901a\\u8fc7\\u722c\\u6dd8\\u5b9d\\u8054\\u76df\\u4e0a\\u9762\\u7684\\u6570\\u636e\\uff0c\\u6211\\u8d1f\\u8d23\\u524d\\u7aef\\uff0c\\\\u003C/p\\\\u003E\\\\u000A\",\\n        \"replies\" : 53,\\n        \"member\" : {\\n            \"id\" : 232205,\\n            \"username\" : \"xiaomeimei\",\\n            \"tagline\" : \"\\u6211\\u4e00\\u5b9a\\u662f\\u4e2a\\u840c\\u59b9\\u5b50\\uff0c\\u55ef\\uff0c\\u662f\\u7684\\uff01\",\\n            \"avatar_mini\" : \"//v2ex.assets.uxengine.net/avatar/39a2/69d4/232205_mini.png?m=1495591832\",\\n            \"avatar_normal\" : \"//v2ex.assets.uxengine.net/avatar/39a2/69d4/232205_normal.png?m=1495591832\",\\n            \"avatar_large\" : \"//v2ex.assets.uxengine.net/avatar/39a2/69d4/232205_large.png?m=1495591832\"\\n        },\\n        \"node\" : {\\n            \"id\" : 17,\\n            \"name\" : \"create\",\\n            \"title\" : \"\\u5206\\u4eab\\u521b\\u9020\",\\n            \"title_alternative\" : \"Create\",\\n            \"url\" : \"http://www.v2ex.com/go/create\",\\n            \"topics\" : 7442,\\n            \"avatar_mini\" : \"//v2ex.assets.uxengine.net/navatar/70ef/df2e/17_mini.png?m=1495609378\",\\n            \"avatar_normal\" : \"//v2ex.assets.uxengine.net/navatar/70ef/df2e/17_normal.png?m=1495609378\",\\n            \"avatar_large\" : \"//v2ex.assets.uxengine.net/navatar/70ef/df2e/17_large.png?m=1495609378\"\\n        },\\n        \"created\" : 1495693053,\\n        \"last_modified\" : 1495693053,\\n        \"last_touched\" : 1495764197\\n    },\\n    \\n    {\\n        \"id\" : 363671,\\n        \"title\" : \"\\u4f60\\u4eec mac os \\u4e0b\\u90fd\\u7528\\u4ec0\\u4e48\\u52a0\\u538b\\u5de5\\u5177??\",\\n        \"url\" : \"http://www.v2ex.com/t/363671\",\\n        \"content\" : \"\\u591a\\u4e2a\\u5de5\\u5177\\u5207\\u6362\\u7528,\\u8fd8\\u662f\\u4e00\\u4e2a\\u5de5\\u5177\\u89e3\\u5343\\u6101.\\\\u000D\\\\u000A\\\\u000D\\\\u000A\\u5177\\u4f53\\u63a8\\u8350\\u54ea\\u4e2a\\u5de5\\u5177??\",\\n        \"content_rendered\" : \"\\\\u003Cp\\\\u003E\\u591a\\u4e2a\\u5de5\\u5177\\u5207\\u6362\\u7528,\\u8fd8\\u662f\\u4e00\\u4e2a\\u5de5\\u5177\\u89e3\\u5343\\u6101.\\\\u003C/p\\\\u003E\\\\u000A\\\\u003Cp\\\\u003E\\u5177\\u4f53\\u63a8\\u8350\\u54ea\\u4e2a\\u5de5\\u5177??\\\\u003C/p\\\\u003E\\\\u000A\",\\n        \"replies\" : 43,\\n        \"member\" : {\\n            \"id\" : 34223,\\n            \"username\" : \"zyllwy\",\\n            \"tagline\" : \"\",\\n            \"avatar_mini\" : \"//v2ex.assets.uxengine.net/gravatar/38c9a9b43eeccbeadffa8ce0588aaf90?s=24&d=retro\",\\n            \"avatar_normal\" : \"//v2ex.assets.uxengine.net/gravatar/38c9a9b43eeccbeadffa8ce0588aaf90?s=48&d=retro\",\\n            \"avatar_large\" : \"//v2ex.assets.uxengine.net/gravatar/38c9a9b43eeccbeadffa8ce0588aaf90?s=73&d=retro\"\\n        },\\n        \"node\" : {\\n            \"id\" : 22,\\n            \"name\" : \"macos\",\\n            \"title\" : \"macOS\",\\n            \"title_alternative\" : \"macOS\",\\n            \"url\" : \"http://www.v2ex.com/go/macos\",\\n            \"topics\" : 10096,\\n            \"avatar_mini\" : \"//v2ex.assets.uxengine.net/navatar/b6d7/67d2/22_mini.png?m=1495503066\",\\n            \"avatar_normal\" : \"//v2ex.assets.uxengine.net/navatar/b6d7/67d2/22_normal.png?m=1495503066\",\\n            \"avatar_large\" : \"//v2ex.assets.uxengine.net/navatar/b6d7/67d2/22_large.png?m=1495503066\"\\n        },\\n        \"created\" : 1495681489,\\n        \"last_modified\" : 1495681489,\\n        \"last_touched\" : 1495733471\\n    },\\n    \\n    {\\n        \"id\" : 363846,\\n        \"title\" : \"Android \\u60f3\\u7701\\u5fc3\\uff0c\\u9996\\u5148\\u4f60\\u5f97\\u82b1\\u6389\\u4e00\\u4e9b\\u65f6\\u95f4\",\\n        \"url\" : \"http://www.v2ex.com/t/363846\",\\n        \"content\" : \"\\u56e0\\u4e3a\\u5237\\u4e86 GPE Rom\\uff0c\\u975e\\u5e38\\u7a33\\u5b9a\\uff0c\\u5df2\\u7ecf\\u4e00\\u5e74\\u591a\\u4e0d\\u9700\\u8981\\u6298\\u817e Rom \\u4e86\\uff0c\\u4e0a\\u5468\\u53d1\\u89c9\\u624b\\u91cc\\u7684 Android \\u673a\\u83ab\\u540d\\u7684\\u53d1\\u70eb\\uff08\\u53ef\\u80fd\\u662f\\u4e4b\\u524d\\u5c0f\\u5237\\u4e86\\u4e00\\u4e2a gpe \\u5b89\\u5168\\u8865\\u4e01\\u7684\\u95ee\\u9898\\uff09\\uff0c\\u6545\\u6253\\u7b97\\u7ed9\\u624b\\u673a\\u505a\\u4e00\\u6b21\\u4e45\\u8fdd\\u7684\\u53cc\\u6e05\\uff0c\\u770b\\u770b\\u80fd\\u4e0d\\u80fd\\u89e3\\u51b3\\u95ee\\u9898\\u3002\\u5927\\u6982\\u6d41\\u7a0b\\u662f\\u8fd9\\u6837\\u7684\\uff1a\\\\u000D\\\\u000A\\\\u000D\\\\u000A\\u5148\\u7528\\u949b\\u5907\\u4efd\\u628a 200 \\u4e2a\\u5e94\\u7528\\u5168\\u90e8\\u5907\\u4efd\\u4e00\\u4e0b\\uff0c\\u7136\\u540e\\u8fdb Rec \\u6267\\u884c\\u53cc\\u6e05\\uff0c\\u4e00\\u76f4\\u6298\\u817e\\u5230\\u88c5\\u597d SS \\u548c\\u949b\\u5907\\u4efd\\uff0c\\u540e\\u9762\\u5c31\\u5f00\\u59cb\\u7528\\u949b\\u5907\\u4efd\\u6062\\u590d\\u4e00\\u5207\\u3002\\\\u000D\\\\u000A\\\\u000D\\\\u000A\\u56e0\\u4e3a\\u7f55\\u89c1\\u7684\\u624b\\u6b8b\\u4e86\\u4e00\\u4e0b\\uff08\\u4e0d\\u60f3\\u63d0\\u4e86\\uff09\\uff0c\\u628a\\u4fdd\\u5b58\\u5728 SD \\u5361\\u4e0a\\u7684\\u949b\\u5907\\u4efd\\u6587\\u4ef6\\u5939\\u7ed9\\u5220\\u4e86\\u3002\\u7136\\u540e\\u5669\\u68a6\\u5f00\\u59cb\\u4e86\\u3002\\u3002\\u3002\\\\u000D\\\\u000A\\\\u000D\\\\u000A\\u6062\\u590d\\u6570\\u636e\\u7684\\u5404\\u79cd\\u65b9\\u6cd5\\u90fd\\u8bd5\\u4e86\\uff08\\u5305\\u62ec\\u6dd8\\u5b9d\\uff09\\uff0c\\u5f7b\\u5e95\\u65e0\\u679c\\u3002\\u540e\\u6765\\u53ea\\u597d\\u8ba4\\u4e86\\uff0c\\u5f53\\u5929\\u6211\\u7761\\u5f97\\u5de8\\u665a\\uff0c\\u56e0\\u4e3a\\u4e00\\u8fb9\\u90c1\\u95f7\\uff0c\\u4e00\\u8fb9\\u51ed\\u7740\\u77ed\\u6682\\u7684\\u8bb0\\u5fc6\\uff0c\\u4e00\\u9879\\u4e00\\u9879\\u7684\\u8fdb\\u884c\\u6062\\u590d\\u5de5\\u4f5c\\u3002\\u3002\\u3002\\u60b2\\u60e8\\u6d41\\u7a0b\\u662f\\u8fd9\\u6837\\u7684\\uff1a\\\\u000D\\\\u000A\\\\u000D\\\\u000A#### \\u8054\\u7cfb\\u4eba\\u3001\\u5e94\\u7528\\\\u000D\\\\u000A\\\\u000D\\\\u000A\\u597d\\u5728\\u6211\\u4e00\\u76f4\\u5728 play \\u4e0b\\u5e94\\u7528\\uff0c\\u6240\\u4ee5\\u5927\\u90e8\\u5206\\u5e94\\u7528\\u90fd\\u80fd\\u4ece play \\u91cd\\u65b0\\u4e0b\\u8f7d\\uff0c\\u4f46\\u662f\\u6570\\u636e\\u4e0d\\u5b58\\u5728\\u4e86\\uff0cplay \\u6ca1\\u6709\\u7684\\u5e94\\u7528\\u8fd8\\u8981\\u7528\\u9177\\u5b89\\u6765\\u8865\\u9f50\\uff0c\\u8fd9\\u90e8\\u5206\\u5c31\\u8981\\u51ed\\u8bb0\\u5fc6\\u4e86\\uff0c\\u8bb0\\u4e0d\\u4f4f\\u7684\\u53ea\\u80fd\\u4ee5\\u540e\\u7528\\u5230\\u7684\\u65f6\\u5019\\u518d\\u4e0b\\u3002\\u81f3\\u4eca\\u4e5f\\u6ca1\\u5f04\\u61c2 Android \\u81ea\\u5e26\\u7684\\u4e91\\u5907\\u4efd\\u6709\\u5565\\u7528\\uff0c\\u611f\\u89c9\\u4ed6\\u53ea\\u80fd\\u5907\\u4efd\\u4e2a\\u8054\\u7cfb\\u4eba\\uff08\\u6216\\u8005\\u90e8\\u5206\\u6570\\u636e\\uff1f\\uff09\\u800c\\u5df2\\uff0c\\u800c\\u540c\\u6837\\u662f iOS \\u7cfb\\u7edf\\u4e2d\\u5185\\u7f6e\\u7684 iCloud\\uff0c\\u4e0d\\u4ec5\\u80fd\\u4e91\\u5907\\u4efd\\u5168\\u90e8\\u5e94\\u7528\\u53ca\\u6570\\u636e\\uff0c\\u4e14\\u64cd\\u4f5c\\u7b80\\u5355\\uff0c\\u9664\\u4e86\\u7f51\\u7edc\\u62bd\\u98ce\\u3002\\\\u000D\\\\u000A\\\\u000D\\\\u000A#### nova \\u8bbe\\u7f6e\\\\u000D\\\\u000A\\\\u000D\\\\u000A\\u684c\\u9762\\u6392\\u5217\\u662f\\u6700\\u7edd\\u671b\\u7684\\uff0c\\u56e0\\u4e3a\\u592a\\u4fe1\\u4efb\\u949b\\u5907\\u4efd\\uff0c\\u57fa\\u672c\\u4e0a nova \\u8bbe\\u7f6e\\u6ca1\\u600e\\u4e48\\u5355\\u72ec\\u5907\\u4efd\\u8fc7\\uff0c\\u53ea\\u597d\\u51ed\\u7740\\u8bb0\\u5fc6\\u4e00\\u4e2a\\u4e2a\\u5f80\\u684c\\u9762\\u548c\\u6587\\u4ef6\\u5939\\u62d6\\uff0c\\u8fd8\\u4e0d\\u4e00\\u5b9a\\u80fd\\u5b8c\\u5168\\u590d\\u539f\\uff0c\\u5f3a\\u8feb\\u75c7\\u90c1\\u95f7\\u81f3\\u6781\\uff01\\u800c iCloud \\u5374\\u80fd\\u628a\\u684c\\u9762\\u7684\\u6392\\u5217\\u539f\\u5c01\\u4e0d\\u52a8\\u7684\\u6062\\u590d\\uff08\\u5f3a\\u8feb\\u75c7\\u798f\\u5229\\uff09\\uff01\\u8fd9\\u91cc\\u6211\\u8981\\u89e3\\u91ca\\u4e00\\u4e0b\\uff0c\\u6211\\u60f3\\u5410\\u69fd\\u7684\\u5e76\\u4e0d\\u662f Android \\u60f3\\u6298\\u817e\\u5f88\\u591a\\u597d\\u73a9\\u7684\\u800c\\u82b1\\u8d39\\u7684\\u989d\\u5916\\u65f6\\u95f4\\u8fd9\\u4e8b\\u513f\\uff0c\\u76f8\\u53cd\\u8fd9\\u662f Android \\u4f18\\u4e8e iOS \\u7684\\u5730\\u65b9\\uff0c\\u6211\\u60f3\\u8bf4\\u7684\\u662f\\u8fd9\\u4fe9\\u7cfb\\u7edf\\u8fbe\\u5230\\u540c\\u6837\\u7684\\u4f53\\u9a8c\\u6c34\\u51c6\\u65f6 Android \\u5f80\\u5f80\\u9700\\u8981\\u8017\\u8d39\\u989d\\u5916\\u66f4\\u591a\\u7684\\u7cbe\\u529b\\u3002\\u5982\\u679c Android \\u81ea\\u5e26\\u7684\\u4e91\\u5907\\u4efd\\u80fd\\u7ed9\\u529b\\u70b9\\uff0c\\u6211\\u5c31\\u4e0d\\u7528\\u51ed\\u7740\\u6b8b\\u7f3a\\u7684\\u8bb0\\u5fc6\\u4e00\\u4e2a\\u4e00\\u4e2a\\u7684\\u62d6\\u56fe\\u6807\\u4e86\\u3002\\\\u000D\\\\u000A\\\\u000D\\\\u000A#### xposed\\u3001\\u9ed1\\u57df\\u6216\\u7eff\\u8272\\u5b88\\u62a4\\u3001\\u51b0\\u7bb1\\u3001amplify\\u3001\\u5199\\u8f6e\\u773c\\u3001\\u4fee\\u6539\\u7248\\u8f6f\\u4ef6\\\\u000D\\\\u000A\\\\u000D\\\\u000A\\u8fd9\\u4e00\\u6b65\\u7684\\u5927\\u90e8\\u5206\\u8bbe\\u7f6e\\u5176\\u5b9e\\u90fd\\u662f\\u4e3a\\u4e86\\u5e94\\u5bf9\\u5404\\u79cd\\u6bd2\\u7624\\u7684\\uff08\\u9664\\u4e86\\u5176\\u4ed6\\u51e0\\u4e2a xposed \\u63d2\\u4ef6\\u4ee5\\u5916\\uff09\\u3002\\u9996\\u5148\\u6211\\u4f7f\\u7528\\u65b0\\u7248\\u9ed1\\u57df\\uff0c\\u65b0\\u7684\\u963b\\u6b62 list \\u8981\\u81ea\\u5df1\\u4e00\\u4e2a\\u4e2a\\u7684\\u91cd\\u65b0\\u6dfb\\u52a0\\u4e86\\u3002\\u56e0\\u4e3a\\u65b0\\u7248\\u9ed1\\u57df\\u662f\\u4e0d\\u89e3\\u51b3\\u5e94\\u7528\\u5524\\u9192\\u7684\\uff0c\\u6240\\u4ee5\\u6211\\u4f7f\\u7528\\u7eff\\u8272\\u5b88\\u62a4\\u7684\\u5524\\u9192\\u8ffd\\u8e2a\\u529f\\u80fd\\u6765\\u5207\\u65ad\\u5e94\\u7528\\u4e4b\\u95f4\\u7684\\u5524\\u9192\\uff0c\\u8fd9\\u4e2a\\u4e5f\\u8981\\u6162\\u6162\\u4e00\\u4e2a\\u4e2a\\u91cd\\u65b0\\u5207\\u65ad\\u3002\\u7136\\u540e\\u662f\\u51b0\\u7bb1\\uff0c\\u4e00\\u4e9b\\u4e0d\\u592a\\u5e38\\u7528\\u7684\\u5927\\u6bd2\\u7624\\u5e94\\u7528\\u8981\\u653e\\u5165\\u51b0\\u7bb1\\uff0c\\u5f7b\\u5e95\\u5c06\\u5176\\u6253\\u5165\\u6df1\\u6e0a\\uff0c\\u8fd9\\u4e00\\u6b65\\u540c\\u6837\\u9700\\u8981\\u81ea\\u5df1\\u624b\\u52a8\\u4e00\\u4e2a\\u4e2a\\u7684\\u6dfb\\u52a0\\u3002\\u518d\\u6765\\u662f xposed\\uff0c\\u7eff\\u5b88\\u7684\\u9ad8\\u7ea7\\u529f\\u80fd\\u548c amlify \\u90fd\\u9700\\u8981\\u5b83\\uff0camlify \\u662f\\u8bbe\\u7f6e\\u5524\\u9192\\u9501\\u7684\\uff0c\\u5bf9\\u4ed8 google \\u90e8\\u5206\\u670d\\u52a1\\u548c\\u5fae\\u4fe1\\u7684\\u4e27\\u5fc3\\u75c5\\u72c2\\u7684\\u5524\\u9192\\u6709\\u5947\\u6548\\u3002\\u518d\\u7136\\u540e\\u662f\\u5199\\u8f6e\\u773c\\uff0c\\u8fd9\\u4e2a\\u6bd4\\u7eff\\u5b88\\u7684\\u5524\\u9192\\u5207\\u65ad\\u66f4\\u9ebb\\u70e6\\uff0c\\u7531\\u4e8e\\u4e4b\\u524d\\u5bf9\\u4e8e\\u6bcf\\u4e2a\\u6bd2\\u7624\\u5e94\\u7528\\u7684\\u7279\\u6b8a\\u5904\\u7406\\u5168\\u90fd\\u4e22\\u4e86\\uff0c\\u53ea\\u80fd\\u968f\\u7740\\u4ee5\\u540e\\u7684\\u4f7f\\u7528\\u6162\\u6162\\u8c03\\u6559\\u4e86\\uff0c\\u5305\\u62ec\\u5f04\\u6b7b\\u90e8\\u5206\\u5e94\\u7528\\u65e0\\u6cd5\\u5173\\u6389\\u7684 sync \\u670d\\u52a1\\uff01\\u6700\\u540e\\u662f\\u5b89\\u88c5\\u4e00\\u4e9b\\u5e38\\u7528\\u7684\\u6bd2\\u7624\\u5e94\\u7528\\u7684\\u4fee\\u6539\\u7248\\uff0c\\u8b6c\\u5982\\u9ad8\\u5fb7\\u7684\\u9524\\u5b50\\u5b9a\\u5236\\u7248\\uff0c\\u4e3a\\u7684\\u662f\\u53bb\\u6389\\u65e0\\u7528\\u7684\\u670d\\u52a1\\uff0c\\u6700\\u5927\\u9650\\u5ea6\\u4fdd\\u6301\\u5e38\\u7528\\u5e94\\u7528\\u7684\\u6d41\\u7545\\u3002\\u4ee5\\u4e0a\\u6240\\u6709\\u7684\\u4e00\\u5207\\u5de5\\u4f5c\\u90fd\\u662f\\u56e0\\u4e3a\\u949b\\u5907\\u4efd\\u7684\\u6570\\u636e\\u4e22\\u5931\\u9020\\u6210\\u7684\\u3002\\u53ef\\u60b2\\u7684\\u662f\\uff0c\\u5bf9\\u4e8e iOS \\u6765\\u8bf4\\uff0c\\u8fd9\\u4e00\\u5207\\u6839\\u672c\\u4e0d\\u9700\\u8981\\u591a\\u8651\\uff0c\\u5f53\\u7136\\u4e5f\\u4e0d\\u4f1a\\u6709\\u9ed1\\u57df\\u8fd9\\u4e9b\\u7684\\u5e94\\u7528\\u5b58\\u5728\\u3002\\u3002\\u3002\\\\u000D\\\\u000A\\\\u000D\\\\u000A\\u6211\\u4e00\\u76f4\\u662f iOS \\u548c Android \\u53cc\\u8bbe\\u5907\\uff0c\\u6211\\u4e5f\\u4e00\\u76f4\\u90fd\\u89c9\\u5f97\\u4e24\\u8005\\u662f\\u5404\\u6709\\u6240\\u957f\\u3002\\u6bcf\\u6b21\\u6211\\u6709\\u670b\\u53cb\\u51ed\\u7740\\u4e45\\u8fdc\\u7684\\u8bb0\\u5fc6\\u6765\\u548c\\u6211\\u8bf4 Android \\u7528\\u4e45\\u4e86\\u4f1a\\u4e0d\\u4f1a\\u5f88\\u5361\\u7684\\u65f6\\u5019\\uff0c\\u6211\\u90fd\\u4f1a\\u7565\\u9119\\u5937\\u7684\\u56de\\u590d\\u4e00\\u53e5\\uff1a\\u90a3\\u662f\\u4f60\\u4e0d\\u4f1a\\u7528\\uff01\\u53ef\\u8fd9\\u6b21\\u6570\\u636e\\u4e22\\u5931\\uff0c\\u8ba9\\u6211\\u660e\\u767d\\u4e86\\u8fd9\\u4e2a\\u6240\\u8c13\\u7684\\u300e\\u4f1a\\u7528\\u300f\\u662f\\u591a\\u4e48\\u7684\\u8f9b\\u9178\\uff0c\\u4ee5\\u4e0a\\u8fd9\\u4e9b\\u6280\\u80fd\\u771f\\u4e0d\\u662f\\u4e00\\u822c\\u7528\\u6237\\u5e94\\u8be5\\u5177\\u5907\\u7684\\uff0c\\u5927\\u5bb6\\u771f\\u7684\\u662f\\u88ab\\u903c\\u7684\\u554a\\uff01\\u7ed3\\u679c\\u6298\\u817e\\u5230\\u6700\\u540e\\u7684\\u4eba\\u7adf\\u7136\\u4f1a\\u4ea7\\u751f\\u7565\\u7578\\u5f62\\u7684\\u4f18\\u8d8a\\u611f\\uff0c\\u771f\\u7684\\u662f\\u8010\\u4eba\\u5bfb\\u5473\\u3002Android \\u8981\\u60f3\\u548c iOS \\u5728\\u624b\\u673a\\u7684\\u57fa\\u672c\\u4f53\\u9a8c\\u4e0a\\u7ad9\\u5728\\u540c\\u4e00\\u53f0\\u9636\\u7684\\u8bdd\\uff0c\\u771f\\u7684\\u9700\\u8981\\u82b1\\u4e00\\u4e9b\\u65f6\\u95f4\\u3002\\u7edd\\u5927\\u90e8\\u5206\\u7528\\u6237\\u4e0d\\u4f1a\\u8fd9\\u4e48\\u64cd\\u4f5c\\uff0c\\u4ed6\\u4eec\\u5728\\u624b\\u673a\\u7528\\u4e45\\u4e86\\u4e4b\\u540e\\u81ea\\u7136\\u5c31\\u4f1a\\u4ea7\\u751f Android \\u300e\\u7528\\u4e45\\u4e86\\u90fd\\u4f1a\\u5361\\u300f\\u7684\\u6028\\u5ff5\\uff0c\\u8fd9\\u4e5f\\u662f\\u771f\\u7684\\u65e0\\u5948\\u3002\\u6700\\u540e\\u6211\\u5e76\\u4e0d\\u76f8\\u4fe1\\u534e\\u4e3a\\u9f13\\u5439\\u7684\\u6240\\u8c13 18 \\u4e2a\\u6708\\u4e0d\\u5361\\u7684\\u9ed1\\u79d1\\u6280\\uff0c\\u4e0d\\u6298\\u817e\\u4e00\\u756a\\u7684\\u8bdd\\uff0c\\u5361\\u6216\\u8bb8\\u4f1a\\u665a\\u6765\\uff0c\\u4f46\\u7edd\\u4e0d\\u4f1a\\u7f3a\\u5e2d\\u3002\\u3002\\u3002\",\\n        \"content_rendered\" : \"\\\\u003Cp\\\\u003E\\u56e0\\u4e3a\\u5237\\u4e86 GPE Rom\\uff0c\\u975e\\u5e38\\u7a33\\u5b9a\\uff0c\\u5df2\\u7ecf\\u4e00\\u5e74\\u591a\\u4e0d\\u9700\\u8981\\u6298\\u817e Rom \\u4e86\\uff0c\\u4e0a\\u5468\\u53d1\\u89c9\\u624b\\u91cc\\u7684 Android \\u673a\\u83ab\\u540d\\u7684\\u53d1\\u70eb\\uff08\\u53ef\\u80fd\\u662f\\u4e4b\\u524d\\u5c0f\\u5237\\u4e86\\u4e00\\u4e2a gpe \\u5b89\\u5168\\u8865\\u4e01\\u7684\\u95ee\\u9898\\uff09\\uff0c\\u6545\\u6253\\u7b97\\u7ed9\\u624b\\u673a\\u505a\\u4e00\\u6b21\\u4e45\\u8fdd\\u7684\\u53cc\\u6e05\\uff0c\\u770b\\u770b\\u80fd\\u4e0d\\u80fd\\u89e3\\u51b3\\u95ee\\u9898\\u3002\\u5927\\u6982\\u6d41\\u7a0b\\u662f\\u8fd9\\u6837\\u7684\\uff1a\\\\u003C/p\\\\u003E\\\\u000A\\\\u003Cp\\\\u003E\\u5148\\u7528\\u949b\\u5907\\u4efd\\u628a 200 \\u4e2a\\u5e94\\u7528\\u5168\\u90e8\\u5907\\u4efd\\u4e00\\u4e0b\\uff0c\\u7136\\u540e\\u8fdb Rec \\u6267\\u884c\\u53cc\\u6e05\\uff0c\\u4e00\\u76f4\\u6298\\u817e\\u5230\\u88c5\\u597d SS \\u548c\\u949b\\u5907\\u4efd\\uff0c\\u540e\\u9762\\u5c31\\u5f00\\u59cb\\u7528\\u949b\\u5907\\u4efd\\u6062\\u590d\\u4e00\\u5207\\u3002\\\\u003C/p\\\\u003E\\\\u000A\\\\u003Cp\\\\u003E\\u56e0\\u4e3a\\u7f55\\u89c1\\u7684\\u624b\\u6b8b\\u4e86\\u4e00\\u4e0b\\uff08\\u4e0d\\u60f3\\u63d0\\u4e86\\uff09\\uff0c\\u628a\\u4fdd\\u5b58\\u5728 SD \\u5361\\u4e0a\\u7684\\u949b\\u5907\\u4efd\\u6587\\u4ef6\\u5939\\u7ed9\\u5220\\u4e86\\u3002\\u7136\\u540e\\u5669\\u68a6\\u5f00\\u59cb\\u4e86\\u3002\\u3002\\u3002\\\\u003C/p\\\\u003E\\\\u000A\\\\u003Cp\\\\u003E\\u6062\\u590d\\u6570\\u636e\\u7684\\u5404\\u79cd\\u65b9\\u6cd5\\u90fd\\u8bd5\\u4e86\\uff08\\u5305\\u62ec\\u6dd8\\u5b9d\\uff09\\uff0c\\u5f7b\\u5e95\\u65e0\\u679c\\u3002\\u540e\\u6765\\u53ea\\u597d\\u8ba4\\u4e86\\uff0c\\u5f53\\u5929\\u6211\\u7761\\u5f97\\u5de8\\u665a\\uff0c\\u56e0\\u4e3a\\u4e00\\u8fb9\\u90c1\\u95f7\\uff0c\\u4e00\\u8fb9\\u51ed\\u7740\\u77ed\\u6682\\u7684\\u8bb0\\u5fc6\\uff0c\\u4e00\\u9879\\u4e00\\u9879\\u7684\\u8fdb\\u884c\\u6062\\u590d\\u5de5\\u4f5c\\u3002\\u3002\\u3002\\u60b2\\u60e8\\u6d41\\u7a0b\\u662f\\u8fd9\\u6837\\u7684\\uff1a\\\\u003C/p\\\\u003E\\\\u000A\\\\u003Ch4\\\\u003E\\u8054\\u7cfb\\u4eba\\u3001\\u5e94\\u7528\\\\u003C/h4\\\\u003E\\\\u000A\\\\u003Cp\\\\u003E\\u597d\\u5728\\u6211\\u4e00\\u76f4\\u5728 play \\u4e0b\\u5e94\\u7528\\uff0c\\u6240\\u4ee5\\u5927\\u90e8\\u5206\\u5e94\\u7528\\u90fd\\u80fd\\u4ece play \\u91cd\\u65b0\\u4e0b\\u8f7d\\uff0c\\u4f46\\u662f\\u6570\\u636e\\u4e0d\\u5b58\\u5728\\u4e86\\uff0cplay \\u6ca1\\u6709\\u7684\\u5e94\\u7528\\u8fd8\\u8981\\u7528\\u9177\\u5b89\\u6765\\u8865\\u9f50\\uff0c\\u8fd9\\u90e8\\u5206\\u5c31\\u8981\\u51ed\\u8bb0\\u5fc6\\u4e86\\uff0c\\u8bb0\\u4e0d\\u4f4f\\u7684\\u53ea\\u80fd\\u4ee5\\u540e\\u7528\\u5230\\u7684\\u65f6\\u5019\\u518d\\u4e0b\\u3002\\u81f3\\u4eca\\u4e5f\\u6ca1\\u5f04\\u61c2 Android \\u81ea\\u5e26\\u7684\\u4e91\\u5907\\u4efd\\u6709\\u5565\\u7528\\uff0c\\u611f\\u89c9\\u4ed6\\u53ea\\u80fd\\u5907\\u4efd\\u4e2a\\u8054\\u7cfb\\u4eba\\uff08\\u6216\\u8005\\u90e8\\u5206\\u6570\\u636e\\uff1f\\uff09\\u800c\\u5df2\\uff0c\\u800c\\u540c\\u6837\\u662f iOS \\u7cfb\\u7edf\\u4e2d\\u5185\\u7f6e\\u7684 iCloud\\uff0c\\u4e0d\\u4ec5\\u80fd\\u4e91\\u5907\\u4efd\\u5168\\u90e8\\u5e94\\u7528\\u53ca\\u6570\\u636e\\uff0c\\u4e14\\u64cd\\u4f5c\\u7b80\\u5355\\uff0c\\u9664\\u4e86\\u7f51\\u7edc\\u62bd\\u98ce\\u3002\\\\u003C/p\\\\u003E\\\\u000A\\\\u003Ch4\\\\u003Enova \\u8bbe\\u7f6e\\\\u003C/h4\\\\u003E\\\\u000A\\\\u003Cp\\\\u003E\\u684c\\u9762\\u6392\\u5217\\u662f\\u6700\\u7edd\\u671b\\u7684\\uff0c\\u56e0\\u4e3a\\u592a\\u4fe1\\u4efb\\u949b\\u5907\\u4efd\\uff0c\\u57fa\\u672c\\u4e0a nova \\u8bbe\\u7f6e\\u6ca1\\u600e\\u4e48\\u5355\\u72ec\\u5907\\u4efd\\u8fc7\\uff0c\\u53ea\\u597d\\u51ed\\u7740\\u8bb0\\u5fc6\\u4e00\\u4e2a\\u4e2a\\u5f80\\u684c\\u9762\\u548c\\u6587\\u4ef6\\u5939\\u62d6\\uff0c\\u8fd8\\u4e0d\\u4e00\\u5b9a\\u80fd\\u5b8c\\u5168\\u590d\\u539f\\uff0c\\u5f3a\\u8feb\\u75c7\\u90c1\\u95f7\\u81f3\\u6781\\uff01\\u800c iCloud \\u5374\\u80fd\\u628a\\u684c\\u9762\\u7684\\u6392\\u5217\\u539f\\u5c01\\u4e0d\\u52a8\\u7684\\u6062\\u590d\\uff08\\u5f3a\\u8feb\\u75c7\\u798f\\u5229\\uff09\\uff01\\u8fd9\\u91cc\\u6211\\u8981\\u89e3\\u91ca\\u4e00\\u4e0b\\uff0c\\u6211\\u60f3\\u5410\\u69fd\\u7684\\u5e76\\u4e0d\\u662f Android \\u60f3\\u6298\\u817e\\u5f88\\u591a\\u597d\\u73a9\\u7684\\u800c\\u82b1\\u8d39\\u7684\\u989d\\u5916\\u65f6\\u95f4\\u8fd9\\u4e8b\\u513f\\uff0c\\u76f8\\u53cd\\u8fd9\\u662f Android \\u4f18\\u4e8e iOS \\u7684\\u5730\\u65b9\\uff0c\\u6211\\u60f3\\u8bf4\\u7684\\u662f\\u8fd9\\u4fe9\\u7cfb\\u7edf\\u8fbe\\u5230\\u540c\\u6837\\u7684\\u4f53\\u9a8c\\u6c34\\u51c6\\u65f6 Android \\u5f80\\u5f80\\u9700\\u8981\\u8017\\u8d39\\u989d\\u5916\\u66f4\\u591a\\u7684\\u7cbe\\u529b\\u3002\\u5982\\u679c Android \\u81ea\\u5e26\\u7684\\u4e91\\u5907\\u4efd\\u80fd\\u7ed9\\u529b\\u70b9\\uff0c\\u6211\\u5c31\\u4e0d\\u7528\\u51ed\\u7740\\u6b8b\\u7f3a\\u7684\\u8bb0\\u5fc6\\u4e00\\u4e2a\\u4e00\\u4e2a\\u7684\\u62d6\\u56fe\\u6807\\u4e86\\u3002\\\\u003C/p\\\\u003E\\\\u000A\\\\u003Ch4\\\\u003Exposed\\u3001\\u9ed1\\u57df\\u6216\\u7eff\\u8272\\u5b88\\u62a4\\u3001\\u51b0\\u7bb1\\u3001amplify\\u3001\\u5199\\u8f6e\\u773c\\u3001\\u4fee\\u6539\\u7248\\u8f6f\\u4ef6\\\\u003C/h4\\\\u003E\\\\u000A\\\\u003Cp\\\\u003E\\u8fd9\\u4e00\\u6b65\\u7684\\u5927\\u90e8\\u5206\\u8bbe\\u7f6e\\u5176\\u5b9e\\u90fd\\u662f\\u4e3a\\u4e86\\u5e94\\u5bf9\\u5404\\u79cd\\u6bd2\\u7624\\u7684\\uff08\\u9664\\u4e86\\u5176\\u4ed6\\u51e0\\u4e2a xposed \\u63d2\\u4ef6\\u4ee5\\u5916\\uff09\\u3002\\u9996\\u5148\\u6211\\u4f7f\\u7528\\u65b0\\u7248\\u9ed1\\u57df\\uff0c\\u65b0\\u7684\\u963b\\u6b62 list \\u8981\\u81ea\\u5df1\\u4e00\\u4e2a\\u4e2a\\u7684\\u91cd\\u65b0\\u6dfb\\u52a0\\u4e86\\u3002\\u56e0\\u4e3a\\u65b0\\u7248\\u9ed1\\u57df\\u662f\\u4e0d\\u89e3\\u51b3\\u5e94\\u7528\\u5524\\u9192\\u7684\\uff0c\\u6240\\u4ee5\\u6211\\u4f7f\\u7528\\u7eff\\u8272\\u5b88\\u62a4\\u7684\\u5524\\u9192\\u8ffd\\u8e2a\\u529f\\u80fd\\u6765\\u5207\\u65ad\\u5e94\\u7528\\u4e4b\\u95f4\\u7684\\u5524\\u9192\\uff0c\\u8fd9\\u4e2a\\u4e5f\\u8981\\u6162\\u6162\\u4e00\\u4e2a\\u4e2a\\u91cd\\u65b0\\u5207\\u65ad\\u3002\\u7136\\u540e\\u662f\\u51b0\\u7bb1\\uff0c\\u4e00\\u4e9b\\u4e0d\\u592a\\u5e38\\u7528\\u7684\\u5927\\u6bd2\\u7624\\u5e94\\u7528\\u8981\\u653e\\u5165\\u51b0\\u7bb1\\uff0c\\u5f7b\\u5e95\\u5c06\\u5176\\u6253\\u5165\\u6df1\\u6e0a\\uff0c\\u8fd9\\u4e00\\u6b65\\u540c\\u6837\\u9700\\u8981\\u81ea\\u5df1\\u624b\\u52a8\\u4e00\\u4e2a\\u4e2a\\u7684\\u6dfb\\u52a0\\u3002\\u518d\\u6765\\u662f xposed\\uff0c\\u7eff\\u5b88\\u7684\\u9ad8\\u7ea7\\u529f\\u80fd\\u548c amlify \\u90fd\\u9700\\u8981\\u5b83\\uff0camlify \\u662f\\u8bbe\\u7f6e\\u5524\\u9192\\u9501\\u7684\\uff0c\\u5bf9\\u4ed8 google \\u90e8\\u5206\\u670d\\u52a1\\u548c\\u5fae\\u4fe1\\u7684\\u4e27\\u5fc3\\u75c5\\u72c2\\u7684\\u5524\\u9192\\u6709\\u5947\\u6548\\u3002\\u518d\\u7136\\u540e\\u662f\\u5199\\u8f6e\\u773c\\uff0c\\u8fd9\\u4e2a\\u6bd4\\u7eff\\u5b88\\u7684\\u5524\\u9192\\u5207\\u65ad\\u66f4\\u9ebb\\u70e6\\uff0c\\u7531\\u4e8e\\u4e4b\\u524d\\u5bf9\\u4e8e\\u6bcf\\u4e2a\\u6bd2\\u7624\\u5e94\\u7528\\u7684\\u7279\\u6b8a\\u5904\\u7406\\u5168\\u90fd\\u4e22\\u4e86\\uff0c\\u53ea\\u80fd\\u968f\\u7740\\u4ee5\\u540e\\u7684\\u4f7f\\u7528\\u6162\\u6162\\u8c03\\u6559\\u4e86\\uff0c\\u5305\\u62ec\\u5f04\\u6b7b\\u90e8\\u5206\\u5e94\\u7528\\u65e0\\u6cd5\\u5173\\u6389\\u7684 sync \\u670d\\u52a1\\uff01\\u6700\\u540e\\u662f\\u5b89\\u88c5\\u4e00\\u4e9b\\u5e38\\u7528\\u7684\\u6bd2\\u7624\\u5e94\\u7528\\u7684\\u4fee\\u6539\\u7248\\uff0c\\u8b6c\\u5982\\u9ad8\\u5fb7\\u7684\\u9524\\u5b50\\u5b9a\\u5236\\u7248\\uff0c\\u4e3a\\u7684\\u662f\\u53bb\\u6389\\u65e0\\u7528\\u7684\\u670d\\u52a1\\uff0c\\u6700\\u5927\\u9650\\u5ea6\\u4fdd\\u6301\\u5e38\\u7528\\u5e94\\u7528\\u7684\\u6d41\\u7545\\u3002\\u4ee5\\u4e0a\\u6240\\u6709\\u7684\\u4e00\\u5207\\u5de5\\u4f5c\\u90fd\\u662f\\u56e0\\u4e3a\\u949b\\u5907\\u4efd\\u7684\\u6570\\u636e\\u4e22\\u5931\\u9020\\u6210\\u7684\\u3002\\u53ef\\u60b2\\u7684\\u662f\\uff0c\\u5bf9\\u4e8e iOS \\u6765\\u8bf4\\uff0c\\u8fd9\\u4e00\\u5207\\u6839\\u672c\\u4e0d\\u9700\\u8981\\u591a\\u8651\\uff0c\\u5f53\\u7136\\u4e5f\\u4e0d\\u4f1a\\u6709\\u9ed1\\u57df\\u8fd9\\u4e9b\\u7684\\u5e94\\u7528\\u5b58\\u5728\\u3002\\u3002\\u3002\\\\u003C/p\\\\u003E\\\\u000A\\\\u003Cp\\\\u003E\\u6211\\u4e00\\u76f4\\u662f iOS \\u548c Android \\u53cc\\u8bbe\\u5907\\uff0c\\u6211\\u4e5f\\u4e00\\u76f4\\u90fd\\u89c9\\u5f97\\u4e24\\u8005\\u662f\\u5404\\u6709\\u6240\\u957f\\u3002\\u6bcf\\u6b21\\u6211\\u6709\\u670b\\u53cb\\u51ed\\u7740\\u4e45\\u8fdc\\u7684\\u8bb0\\u5fc6\\u6765\\u548c\\u6211\\u8bf4 Android \\u7528\\u4e45\\u4e86\\u4f1a\\u4e0d\\u4f1a\\u5f88\\u5361\\u7684\\u65f6\\u5019\\uff0c\\u6211\\u90fd\\u4f1a\\u7565\\u9119\\u5937\\u7684\\u56de\\u590d\\u4e00\\u53e5\\uff1a\\u90a3\\u662f\\u4f60\\u4e0d\\u4f1a\\u7528\\uff01\\u53ef\\u8fd9\\u6b21\\u6570\\u636e\\u4e22\\u5931\\uff0c\\u8ba9\\u6211\\u660e\\u767d\\u4e86\\u8fd9\\u4e2a\\u6240\\u8c13\\u7684\\u300e\\u4f1a\\u7528\\u300f\\u662f\\u591a\\u4e48\\u7684\\u8f9b\\u9178\\uff0c\\u4ee5\\u4e0a\\u8fd9\\u4e9b\\u6280\\u80fd\\u771f\\u4e0d\\u662f\\u4e00\\u822c\\u7528\\u6237\\u5e94\\u8be5\\u5177\\u5907\\u7684\\uff0c\\u5927\\u5bb6\\u771f\\u7684\\u662f\\u88ab\\u903c\\u7684\\u554a\\uff01\\u7ed3\\u679c\\u6298\\u817e\\u5230\\u6700\\u540e\\u7684\\u4eba\\u7adf\\u7136\\u4f1a\\u4ea7\\u751f\\u7565\\u7578\\u5f62\\u7684\\u4f18\\u8d8a\\u611f\\uff0c\\u771f\\u7684\\u662f\\u8010\\u4eba\\u5bfb\\u5473\\u3002Android \\u8981\\u60f3\\u548c iOS \\u5728\\u624b\\u673a\\u7684\\u57fa\\u672c\\u4f53\\u9a8c\\u4e0a\\u7ad9\\u5728\\u540c\\u4e00\\u53f0\\u9636\\u7684\\u8bdd\\uff0c\\u771f\\u7684\\u9700\\u8981\\u82b1\\u4e00\\u4e9b\\u65f6\\u95f4\\u3002\\u7edd\\u5927\\u90e8\\u5206\\u7528\\u6237\\u4e0d\\u4f1a\\u8fd9\\u4e48\\u64cd\\u4f5c\\uff0c\\u4ed6\\u4eec\\u5728\\u624b\\u673a\\u7528\\u4e45\\u4e86\\u4e4b\\u540e\\u81ea\\u7136\\u5c31\\u4f1a\\u4ea7\\u751f Android \\u300e\\u7528\\u4e45\\u4e86\\u90fd\\u4f1a\\u5361\\u300f\\u7684\\u6028\\u5ff5\\uff0c\\u8fd9\\u4e5f\\u662f\\u771f\\u7684\\u65e0\\u5948\\u3002\\u6700\\u540e\\u6211\\u5e76\\u4e0d\\u76f8\\u4fe1\\u534e\\u4e3a\\u9f13\\u5439\\u7684\\u6240\\u8c13 18 \\u4e2a\\u6708\\u4e0d\\u5361\\u7684\\u9ed1\\u79d1\\u6280\\uff0c\\u4e0d\\u6298\\u817e\\u4e00\\u756a\\u7684\\u8bdd\\uff0c\\u5361\\u6216\\u8bb8\\u4f1a\\u665a\\u6765\\uff0c\\u4f46\\u7edd\\u4e0d\\u4f1a\\u7f3a\\u5e2d\\u3002\\u3002\\u3002\\\\u003C/p\\\\u003E\\\\u000A\",\\n        \"replies\" : 40,\\n        \"member\" : {\\n            \"id\" : 12594,\\n            \"username\" : \"weicaizhi\",\\n            \"tagline\" : \"Permission to be human!\",\\n            \"avatar_mini\" : \"//v2ex.assets.uxengine.net/avatar/0dce/2089/12594_mini.png?m=1359604048\",\\n            \"avatar_normal\" : \"//v2ex.assets.uxengine.net/avatar/0dce/2089/12594_normal.png?m=1359604048\",\\n            \"avatar_large\" : \"//v2ex.assets.uxengine.net/avatar/0dce/2089/12594_large.png?m=1359604048\"\\n        },\\n        \"node\" : {\\n            \"id\" : 39,\\n            \"name\" : \"android\",\\n            \"title\" : \"Android\",\\n            \"title_alternative\" : \"Android\",\\n            \"url\" : \"http://www.v2ex.com/go/android\",\\n            \"topics\" : 3938,\\n            \"avatar_mini\" : \"//v2ex.assets.uxengine.net/navatar/d67d/8ab4/39_mini.png?m=1495572743\",\\n            \"avatar_normal\" : \"//v2ex.assets.uxengine.net/navatar/d67d/8ab4/39_normal.png?m=1495572743\",\\n            \"avatar_large\" : \"//v2ex.assets.uxengine.net/navatar/d67d/8ab4/39_large.png?m=1495572743\"\\n        },\\n        \"created\" : 1495721492,\\n        \"last_modified\" : 1495721538,\\n        \"last_touched\" : 1495763074\\n    }\\n    \\n]'"
      ]
     },
     "execution_count": 63,
     "metadata": {},
     "output_type": "execute_result"
    }
   ],
   "source": [
    "r.text #以文本方式返回数据"
   ]
  },
  {
   "cell_type": "code",
   "execution_count": 61,
   "metadata": {
    "collapsed": false
   },
   "outputs": [
    {
     "data": {
      "text/plain": [
       "'UTF-8'"
      ]
     },
     "execution_count": 61,
     "metadata": {},
     "output_type": "execute_result"
    }
   ],
   "source": [
    "r.encoding "
   ]
  },
  {
   "cell_type": "code",
   "execution_count": 64,
   "metadata": {
    "collapsed": false
   },
   "outputs": [
    {
     "data": {
      "text/plain": [
       "'[\\n    \\n    {\\n        \"id\" : 363785,\\n        \"title\" : \"18\\\\u002D23 \\xe4\\xb8\\x87\\xef\\xbc\\x8c\\xe4\\xb9\\xb0\\xe4\\xb8\\xaa\\xe4\\xbb\\x80\\xe4\\xb9\\x88\\xe8\\xbd\\xa6\\xe6\\xaf\\x94\\xe8\\xbe\\x83\\xe5\\xa5\\xbd\\xef\\xbc\\x9f\",\\n        \"url\" : \"http://www.v2ex.com/t/363785\",\\n        \"content\" : \"\\xe6\\x9c\\xac\\xe4\\xba\\xba\\xe4\\xb8\\x8d\\xe6\\x80\\x8e\\xe4\\xb9\\x88\\xe5\\x80\\xbe\\xe5\\x90\\x91\\xe6\\x97\\xa5\\xe7\\xb3\\xbb\\xef\\xbc\\x8c\\xe5\\xa4\\xa7\\xe5\\xae\\xb6\\xe4\\xb8\\xaa\\xe6\\x8e\\xa8\\xe8\\x8d\\x90\\xe4\\xb8\\x80\\xe4\\xb8\\x8b\\xe5\\x90\\xa7\\xef\\xbc\\x81\",\\n        \"content_rendered\" : \"\\\\u003Cp\\\\u003E\\xe6\\x9c\\xac\\xe4\\xba\\xba\\xe4\\xb8\\x8d\\xe6\\x80\\x8e\\xe4\\xb9\\x88\\xe5\\x80\\xbe\\xe5\\x90\\x91\\xe6\\x97\\xa5\\xe7\\xb3\\xbb\\xef\\xbc\\x8c\\xe5\\xa4\\xa7\\xe5\\xae\\xb6\\xe4\\xb8\\xaa\\xe6\\x8e\\xa8\\xe8\\x8d\\x90\\xe4\\xb8\\x80\\xe4\\xb8\\x8b\\xe5\\x90\\xa7\\xef\\xbc\\x81\\\\u003C/p\\\\u003E\\\\u000A\",\\n        \"replies\" : 136,\\n        \"member\" : {\\n            \"id\" : 21612,\\n            \"username\" : \"assad\",\\n            \"tagline\" : \"\",\\n            \"avatar_mini\" : \"//v2ex.assets.uxengine.net/avatar/dcbe/4be7/21612_mini.png?m=1371455312\",\\n            \"avatar_normal\" : \"//v2ex.assets.uxengine.net/avatar/dcbe/4be7/21612_normal.png?m=1371455312\",\\n            \"avatar_large\" : \"//v2ex.assets.uxengine.net/avatar/dcbe/4be7/21612_large.png?m=1371455312\"\\n        },\\n        \"node\" : {\\n            \"id\" : 176,\\n            \"name\" : \"car\",\\n            \"title\" : \"\\xe6\\xb1\\xbd\\xe8\\xbd\\xa6\",\\n            \"title_alternative\" : \"Car\",\\n            \"url\" : \"http://www.v2ex.com/go/car\",\\n            \"topics\" : 356,\\n            \"avatar_mini\" : \"//v2ex.assets.uxengine.net/navatar/38af/8613/176_mini.png?m=1408012248\",\\n            \"avatar_normal\" : \"//v2ex.assets.uxengine.net/navatar/38af/8613/176_normal.png?m=1408012248\",\\n            \"avatar_large\" : \"//v2ex.assets.uxengine.net/navatar/38af/8613/176_large.png?m=1408012248\"\\n        },\\n        \"created\" : 1495702079,\\n        \"last_modified\" : 1495709799,\\n        \"last_touched\" : 1495763663\\n    },\\n    \\n    {\\n        \"id\" : 363663,\\n        \"title\" : \"\\xe5\\xa4\\xa7\\xe5\\xae\\xb6\\xe5\\xb9\\xb3\\xe6\\x97\\xb6\\xe6\\x9c\\x89\\xe4\\xbb\\x80\\xe4\\xb9\\x88\\xe4\\xb8\\x8d\\xe7\\xa1\\xae\\xe5\\xae\\x9a\\xe8\\xaf\\xbb\\xe9\\x9f\\xb3\\xe7\\x9a\\x84\\xe5\\x8d\\x95\\xe8\\xaf\\x8d\\xe5\\x90\\x97\",\\n        \"url\" : \"http://www.v2ex.com/t/363663\",\\n        \"content\" : \"\\xe5\\x89\\x8d\\xe7\\xab\\xaf\\xe6\\x96\\xb0\\xe4\\xba\\xba\\xef\\xbc\\x8c\\xe5\\x85\\xa5\\xe9\\x97\\xa8\\xe8\\xbf\\x87\\xe7\\xa8\\x8b\\xe4\\xb8\\xad\\xe5\\x81\\x9a\\xe4\\xba\\x86\\xe4\\xb8\\xaa\\xe7\\xa7\\xbb\\xe5\\x8a\\xa8\\xe7\\xab\\xaf\\xe5\\x8d\\x95\\xe9\\xa1\\xb5\\xe5\\xba\\x94\\xe7\\x94\\xa8\\xef\\xbc\\x8c\\xe6\\x98\\xaf\\xe4\\xb8\\x80\\xe6\\xac\\xbe\\xe9\\x92\\x88\\xe5\\xaf\\xb9\\xe4\\xba\\x8e\\xe7\\xa8\\x8b\\xe5\\xba\\x8f\\xe5\\x91\\x98\\xe7\\x9a\\x84\\xe8\\xaf\\x8d\\xe5\\x85\\xb8\\xef\\xbc\\x8c\\xe4\\xb8\\xbb\\xe8\\xa6\\x81\\xe6\\x98\\xaf\\xe6\\x83\\xb3\\xe6\\x94\\xb6\\xe9\\x9b\\x86\\xe4\\xb8\\x80\\xe4\\xba\\x9b\\xe5\\xb9\\xb3\\xe6\\x97\\xb6\\xe5\\xa4\\xa7\\xe5\\xae\\xb6\\xe4\\xb8\\x8d\\xe8\\x83\\xbd\\xe7\\xa1\\xae\\xe5\\xae\\x9a\\xe6\\xa0\\x87\\xe5\\x87\\x86\\xe8\\xaf\\xbb\\xe9\\x9f\\xb3\\xe7\\x9a\\x84\\xef\\xbc\\x8c\\xe5\\xb0\\xa4\\xe5\\x85\\xb6\\xe6\\x98\\xaf\\xe4\\xb8\\x80\\xe4\\xba\\x9b\\xe5\\xad\\x97\\xe5\\x85\\xb8\\xe9\\x87\\x8c\\xe6\\xb2\\xa1\\xe6\\x9c\\x89\\xe7\\x9a\\x84\\xe5\\x90\\x8d\\xe8\\xaf\\x8d\\xe3\\x80\\x82\\xe5\\x8f\\xaf\\xe8\\x83\\xbd\\xe6\\x98\\xaf\\xe5\\x9c\\xa8\\xe5\\xae\\x98\\xe7\\xbd\\x91\\xe7\\xbb\\x99\\xe5\\x87\\xba\\xe4\\xba\\x86\\xe8\\xaf\\xbb\\xe9\\x9f\\xb3\\xef\\xbc\\x8c\\xe6\\x88\\x96\\xe8\\x80\\x85\\xe4\\xbd\\x9c\\xe8\\x80\\x85\\xe7\\xbb\\x99\\xe5\\x87\\xba\\xe4\\xba\\x86\\xe8\\xaf\\xbb\\xe9\\x9f\\xb3\\xe7\\x9a\\x84\\xef\\xbc\\x8c\\xe5\\xb8\\x8c\\xe6\\x9c\\x9b\\xe5\\xa4\\xa7\\xe5\\xae\\xb6\\xe8\\x83\\xbd\\xe6\\x8f\\x90\\xe4\\xbe\\x9b\\xe4\\xb8\\x80\\xe4\\xba\\x9b\\xe8\\xbf\\x99\\xe6\\xa0\\xb7\\xe7\\x9a\\x84\\xe5\\x90\\x8d\\xe8\\xaf\\x8d\\xef\\xbc\\x8c\\xe6\\x88\\x91\\xe5\\x8e\\xbb\\xe6\\x89\\xbe\\xe6\\xa0\\x87\\xe5\\x87\\x86\\xe8\\xaf\\xbb\\xe9\\x9f\\xb3\\xef\\xbc\\x8c\\xe8\\xb0\\xa2\\xe8\\xb0\\xa2\\xe5\\x95\\xa6~   \\\\u000D\\\\u000A[Demo]( http://120.24.179.35:8099/)\",\\n        \"content_rendered\" : \"\\\\u003Cp\\\\u003E\\xe5\\x89\\x8d\\xe7\\xab\\xaf\\xe6\\x96\\xb0\\xe4\\xba\\xba\\xef\\xbc\\x8c\\xe5\\x85\\xa5\\xe9\\x97\\xa8\\xe8\\xbf\\x87\\xe7\\xa8\\x8b\\xe4\\xb8\\xad\\xe5\\x81\\x9a\\xe4\\xba\\x86\\xe4\\xb8\\xaa\\xe7\\xa7\\xbb\\xe5\\x8a\\xa8\\xe7\\xab\\xaf\\xe5\\x8d\\x95\\xe9\\xa1\\xb5\\xe5\\xba\\x94\\xe7\\x94\\xa8\\xef\\xbc\\x8c\\xe6\\x98\\xaf\\xe4\\xb8\\x80\\xe6\\xac\\xbe\\xe9\\x92\\x88\\xe5\\xaf\\xb9\\xe4\\xba\\x8e\\xe7\\xa8\\x8b\\xe5\\xba\\x8f\\xe5\\x91\\x98\\xe7\\x9a\\x84\\xe8\\xaf\\x8d\\xe5\\x85\\xb8\\xef\\xbc\\x8c\\xe4\\xb8\\xbb\\xe8\\xa6\\x81\\xe6\\x98\\xaf\\xe6\\x83\\xb3\\xe6\\x94\\xb6\\xe9\\x9b\\x86\\xe4\\xb8\\x80\\xe4\\xba\\x9b\\xe5\\xb9\\xb3\\xe6\\x97\\xb6\\xe5\\xa4\\xa7\\xe5\\xae\\xb6\\xe4\\xb8\\x8d\\xe8\\x83\\xbd\\xe7\\xa1\\xae\\xe5\\xae\\x9a\\xe6\\xa0\\x87\\xe5\\x87\\x86\\xe8\\xaf\\xbb\\xe9\\x9f\\xb3\\xe7\\x9a\\x84\\xef\\xbc\\x8c\\xe5\\xb0\\xa4\\xe5\\x85\\xb6\\xe6\\x98\\xaf\\xe4\\xb8\\x80\\xe4\\xba\\x9b\\xe5\\xad\\x97\\xe5\\x85\\xb8\\xe9\\x87\\x8c\\xe6\\xb2\\xa1\\xe6\\x9c\\x89\\xe7\\x9a\\x84\\xe5\\x90\\x8d\\xe8\\xaf\\x8d\\xe3\\x80\\x82\\xe5\\x8f\\xaf\\xe8\\x83\\xbd\\xe6\\x98\\xaf\\xe5\\x9c\\xa8\\xe5\\xae\\x98\\xe7\\xbd\\x91\\xe7\\xbb\\x99\\xe5\\x87\\xba\\xe4\\xba\\x86\\xe8\\xaf\\xbb\\xe9\\x9f\\xb3\\xef\\xbc\\x8c\\xe6\\x88\\x96\\xe8\\x80\\x85\\xe4\\xbd\\x9c\\xe8\\x80\\x85\\xe7\\xbb\\x99\\xe5\\x87\\xba\\xe4\\xba\\x86\\xe8\\xaf\\xbb\\xe9\\x9f\\xb3\\xe7\\x9a\\x84\\xef\\xbc\\x8c\\xe5\\xb8\\x8c\\xe6\\x9c\\x9b\\xe5\\xa4\\xa7\\xe5\\xae\\xb6\\xe8\\x83\\xbd\\xe6\\x8f\\x90\\xe4\\xbe\\x9b\\xe4\\xb8\\x80\\xe4\\xba\\x9b\\xe8\\xbf\\x99\\xe6\\xa0\\xb7\\xe7\\x9a\\x84\\xe5\\x90\\x8d\\xe8\\xaf\\x8d\\xef\\xbc\\x8c\\xe6\\x88\\x91\\xe5\\x8e\\xbb\\xe6\\x89\\xbe\\xe6\\xa0\\x87\\xe5\\x87\\x86\\xe8\\xaf\\xbb\\xe9\\x9f\\xb3\\xef\\xbc\\x8c\\xe8\\xb0\\xa2\\xe8\\xb0\\xa2\\xe5\\x95\\xa6~\\\\u003Cbr\\\\u003E\\\\u000A\\\\u003Ca href\\\\u003D\\\\u0022http://120.24.179.35:8099/\\\\u0022 rel\\\\u003D\\\\u0022nofollow\\\\u0022\\\\u003EDemo\\\\u003C/a\\\\u003E\\\\u003C/p\\\\u003E\\\\u000A\",\\n        \"replies\" : 120,\\n        \"member\" : {\\n            \"id\" : 180102,\\n            \"username\" : \"hzw758\",\\n            \"tagline\" : \"\",\\n            \"avatar_mini\" : \"//v2ex.assets.uxengine.net/avatar/5703/de35/180102_mini.png?m=1494211023\",\\n            \"avatar_normal\" : \"//v2ex.assets.uxengine.net/avatar/5703/de35/180102_normal.png?m=1494211023\",\\n            \"avatar_large\" : \"//v2ex.assets.uxengine.net/avatar/5703/de35/180102_large.png?m=1494211023\"\\n        },\\n        \"node\" : {\\n            \"id\" : 859,\\n            \"name\" : \"pronunciation\",\\n            \"title\" : \"\\xe5\\x8f\\x91\\xe9\\x9f\\xb3\",\\n            \"title_alternative\" : \"\",\\n            \"url\" : \"http://www.v2ex.com/go/pronunciation\",\\n            \"topics\" : 40,\\n            \"avatar_mini\" : \"/static/img/node_mini.png\",\\n            \"avatar_normal\" : \"/static/img/node_normal.png\",\\n            \"avatar_large\" : \"/static/img/node_large.png\"\\n        },\\n        \"created\" : 1495680258,\\n        \"last_modified\" : 1495691288,\\n        \"last_touched\" : 1495764388\\n    },\\n    \\n    {\\n        \"id\" : 363655,\\n        \"title\" : \"\\xe6\\x9c\\x80\\xe8\\xbf\\x91\\xe6\\x80\\xbb\\xe6\\x84\\x9f\\xe8\\xa7\\x89\\xe8\\x87\\xaa\\xe5\\xb7\\xb1\\xe4\\xbc\\x9a\\xe7\\xaa\\x81\\xe7\\x84\\xb6\\xe7\\xa6\\xbb\\xe5\\xbc\\x80\",\\n        \"url\" : \"http://www.v2ex.com/t/363655\",\\n        \"content\" : \"\\xe8\\x87\\xaa\\xe4\\xbb\\x8e\\xe4\\xb8\\x8a\\xe6\\x9c\\x88\\xe6\\x88\\x91\\xe8\\x80\\x81\\xe5\\xa9\\x86\\xe6\\x80\\x80\\xe5\\xad\\x95\\xe6\\xb5\\x81\\xe4\\xba\\xa7\\xe5\\x90\\x8e\\xef\\xbc\\x8c\\xe6\\x88\\x91\\xe6\\x85\\xa2\\xe6\\x85\\xa2\\xe5\\xb0\\xb1\\xe5\\xbc\\x80\\xe5\\xa7\\x8b\\xe6\\x9c\\x89\\xe8\\xbf\\x99\\xe7\\xa7\\x8d\\xe6\\x84\\x9f\\xe8\\xa7\\x89\\xe3\\x80\\x82\\xe5\\xb0\\xa4\\xe5\\x85\\xb6\\xe6\\x98\\xaf\\xe4\\xb8\\x80\\xe4\\xb8\\xaa\\xe4\\xba\\xba\\xe8\\xba\\xba\\xe5\\x9c\\xa8\\xe5\\xba\\x8a\\xe4\\xb8\\x8a\\xe6\\x88\\x96\\xe8\\x80\\x85\\xe8\\xb7\\xaf\\xe4\\xb8\\x8a\\xe8\\xa1\\x8c\\xe8\\xb5\\xb0\\xe7\\x9a\\x84\\xe6\\x97\\xb6\\xe5\\x80\\x99\\xef\\xbc\\x8c\\xe6\\x80\\xbb\\xe4\\xbc\\x9a\\xe6\\x83\\xb3\\xe8\\x87\\xaa\\xe5\\xb7\\xb1\\xe4\\xbc\\x9a\\xe4\\xb8\\x8d\\xe4\\xbc\\x9a\\xe4\\xb8\\x8d\\xe4\\xb9\\x85\\xe4\\xbb\\xa5\\xe5\\x90\\x8e\\xe7\\xa6\\xbb\\xe5\\xbc\\x80\\xe3\\x80\\x82\\xe6\\x9c\\x89\\xe8\\xbf\\x87\\xe6\\x83\\xb3\\xe6\\xb3\\x95\\xe7\\xbb\\x99\\xe8\\x87\\xaa\\xe5\\xb7\\xb1\\xe4\\xb9\\xb0\\xe4\\xb8\\xaa\\xe4\\xbf\\x9d\\xe9\\x99\\xa9\\xe4\\xb9\\x8b\\xe7\\xb1\\xbb\\xe7\\x9a\\x84\\xe4\\xb8\\x9c\\xe8\\xa5\\xbf\\xef\\xbc\\x8c\\xe9\\x98\\xb2\\xe6\\xad\\xa2\\xe8\\x87\\xaa\\xe5\\xb7\\xb1\\xe7\\xa6\\xbb\\xe5\\xbc\\x80\\xe5\\x90\\x8e\\xe5\\xae\\xb6\\xe4\\xba\\xba\\xe8\\xbf\\x98\\xe8\\x83\\xbd\\xe7\\x94\\x9f\\xe6\\xb4\\xbb\\xe4\\xb8\\x8b\\xe5\\x8e\\xbb\\xe3\\x80\\x82\\xe5\\x8f\\xa6\\xe5\\xa4\\x96\\xe6\\x88\\x91\\xe5\\xb7\\xa5\\xe4\\xbd\\x9c\\xe7\\x94\\x9f\\xe6\\xb4\\xbb\\xe4\\xb9\\x8b\\xe7\\xb1\\xbb\\xe4\\xb9\\x9f\\xe6\\xb2\\xa1\\xe4\\xbb\\x80\\xe4\\xb9\\x88\\xe5\\x85\\xb6\\xe4\\xbb\\x96\\xe7\\x9a\\x84\\xe7\\xb3\\x9f\\xe5\\xbf\\x83\\xe4\\xba\\x8b\\xef\\xbc\\x8c\\xe5\\xae\\xb6\\xe5\\xba\\xad\\xe5\\x85\\xb3\\xe7\\xb3\\xbb\\xe4\\xb9\\x9f\\xe4\\xb8\\x8d\\xe9\\x94\\x99\\xef\\xbc\\x8c\\xe5\\xb0\\xb1\\xe6\\x98\\xaf\\xe8\\x87\\xaa\\xe8\\xba\\xab\\xe6\\xaf\\x94\\xe8\\xbe\\x83\\xe5\\xae\\x85\\xef\\xbc\\x8c\\xe5\\x96\\x9c\\xe6\\xac\\xa2\\xe5\\x9c\\xa8\\xe5\\xae\\xb6\\xe6\\x89\\x93\\xe6\\xb8\\xb8\\xe6\\x88\\x8f\\xe3\\x80\\x82\\xe6\\xa0\\xb9\\xe6\\x9c\\xac\\xe5\\x8e\\x9f\\xe5\\x9b\\xa0\\xe5\\x8f\\xaf\\xe8\\x83\\xbd\\xe6\\x98\\xaf\\xe5\\xbc\\xba\\xe7\\x83\\x88\\xe7\\x9a\\x84\\xe4\\xb8\\x8d\\xe5\\xae\\x89\\xe5\\x85\\xa8\\xe6\\x84\\x9f\\xe5\\x90\\xa7\\xe3\\x80\\x82\\\\u000D\\\\u000A\\xe6\\x83\\xb3\\xe7\\xbb\\x99\\xe8\\x87\\xaa\\xe5\\xb7\\xb1\\xe5\\x81\\x9a\\xe4\\xb8\\xaa\\xe5\\x85\\xa8\\xe8\\xba\\xab\\xe6\\xa3\\x80\\xe6\\x9f\\xa5\\xef\\xbc\\x8c\\xe5\\x8f\\x88\\xe8\\x88\\x8d\\xe4\\xb8\\x8d\\xe5\\xbe\\x97\\xe5\\x87\\xa0\\xe5\\x8d\\x83\\xe5\\x9d\\x97\\xe7\\x9a\\x84\\xe4\\xbd\\x93\\xe6\\xa3\\x80\\xe8\\xb4\\xb9\\xe3\\x80\\x82\\xe5\\x9c\\xa8\\xe5\\xa4\\x96\\xe5\\x90\\x83\\xe4\\xb8\\x9c\\xe8\\xa5\\xbf\\xef\\xbc\\x8c\\xe6\\x80\\xbb\\xe6\\x84\\x9f\\xe8\\xa7\\x89\\xe4\\xb8\\x8d\\xe5\\x8d\\xab\\xe7\\x94\\x9f\\xe6\\x9c\\x89\\xe5\\xae\\xb3\\xe8\\xba\\xab\\xe4\\xbd\\x93\\xef\\xbc\\x8c\\xe4\\xbd\\x86\\xe6\\x98\\xaf\\xe4\\xbe\\x9d\\xe7\\x84\\xb6\\xe5\\x9c\\xa8\\xe5\\x90\\x83\\xe3\\x80\\x82\\xe7\\x8e\\xb0\\xe5\\x9c\\xa8 Q \\xe6\\xb5\\x81\\xe6\\x84\\x9f\\xef\\xbc\\x8c\\xe5\\x8f\\x88\\xe6\\x8b\\x85\\xe5\\xbf\\x83\\xe8\\x87\\xaa\\xe5\\xb7\\xb1\\xe4\\xbc\\x9a\\xe5\\xbe\\x97\\xef\\xbc\\x8c\\xe6\\x88\\x91\\xe8\\x80\\x81\\xe5\\xa9\\x86\\xe6\\xb5\\x81\\xe4\\xba\\xa7\\xe4\\xb9\\x8b\\xe5\\x89\\x8d\\xef\\xbc\\x8c\\xe6\\x88\\x91\\xe4\\xb8\\x80\\xe7\\x9b\\xb4\\xe4\\xbb\\xa5\\xe4\\xb8\\xba\\xe4\\xb8\\x8d\\xe5\\xb9\\xb8\\xe7\\xa6\\xbb\\xe8\\x87\\xaa\\xe5\\xb7\\xb1\\xe5\\xbe\\x88\\xe9\\x81\\xa5\\xe8\\xbf\\x9c\\xef\\xbc\\x8c\\xe4\\xb9\\x8b\\xe5\\x90\\x8e\\xe5\\x8f\\x88\\xe8\\xa7\\x89\\xe5\\xbe\\x97\\xe4\\xbb\\x80\\xe4\\xb9\\x88\\xe4\\xba\\x8b\\xe9\\x83\\xbd\\xe4\\xbc\\x9a\\xe5\\x8f\\x91\\xe7\\x94\\x9f\\xe5\\x9c\\xa8\\xe8\\x87\\xaa\\xe5\\xb7\\xb1\\xe8\\xba\\xab\\xe4\\xb8\\x8a\\xe3\\x80\\x82\\xe8\\xbf\\x99\\xe9\\x9a\\xbe\\xe9\\x81\\x93\\xe6\\x98\\xaf\\xe6\\x89\\x80\\xe8\\xb0\\x93\\xe6\\x83\\x8a\\xe5\\xbc\\x93\\xe4\\xb9\\x8b\\xe9\\xb8\\x9f\\xef\\xbc\\x9f\",\\n        \"content_rendered\" : \"\\\\u003Cp\\\\u003E\\xe8\\x87\\xaa\\xe4\\xbb\\x8e\\xe4\\xb8\\x8a\\xe6\\x9c\\x88\\xe6\\x88\\x91\\xe8\\x80\\x81\\xe5\\xa9\\x86\\xe6\\x80\\x80\\xe5\\xad\\x95\\xe6\\xb5\\x81\\xe4\\xba\\xa7\\xe5\\x90\\x8e\\xef\\xbc\\x8c\\xe6\\x88\\x91\\xe6\\x85\\xa2\\xe6\\x85\\xa2\\xe5\\xb0\\xb1\\xe5\\xbc\\x80\\xe5\\xa7\\x8b\\xe6\\x9c\\x89\\xe8\\xbf\\x99\\xe7\\xa7\\x8d\\xe6\\x84\\x9f\\xe8\\xa7\\x89\\xe3\\x80\\x82\\xe5\\xb0\\xa4\\xe5\\x85\\xb6\\xe6\\x98\\xaf\\xe4\\xb8\\x80\\xe4\\xb8\\xaa\\xe4\\xba\\xba\\xe8\\xba\\xba\\xe5\\x9c\\xa8\\xe5\\xba\\x8a\\xe4\\xb8\\x8a\\xe6\\x88\\x96\\xe8\\x80\\x85\\xe8\\xb7\\xaf\\xe4\\xb8\\x8a\\xe8\\xa1\\x8c\\xe8\\xb5\\xb0\\xe7\\x9a\\x84\\xe6\\x97\\xb6\\xe5\\x80\\x99\\xef\\xbc\\x8c\\xe6\\x80\\xbb\\xe4\\xbc\\x9a\\xe6\\x83\\xb3\\xe8\\x87\\xaa\\xe5\\xb7\\xb1\\xe4\\xbc\\x9a\\xe4\\xb8\\x8d\\xe4\\xbc\\x9a\\xe4\\xb8\\x8d\\xe4\\xb9\\x85\\xe4\\xbb\\xa5\\xe5\\x90\\x8e\\xe7\\xa6\\xbb\\xe5\\xbc\\x80\\xe3\\x80\\x82\\xe6\\x9c\\x89\\xe8\\xbf\\x87\\xe6\\x83\\xb3\\xe6\\xb3\\x95\\xe7\\xbb\\x99\\xe8\\x87\\xaa\\xe5\\xb7\\xb1\\xe4\\xb9\\xb0\\xe4\\xb8\\xaa\\xe4\\xbf\\x9d\\xe9\\x99\\xa9\\xe4\\xb9\\x8b\\xe7\\xb1\\xbb\\xe7\\x9a\\x84\\xe4\\xb8\\x9c\\xe8\\xa5\\xbf\\xef\\xbc\\x8c\\xe9\\x98\\xb2\\xe6\\xad\\xa2\\xe8\\x87\\xaa\\xe5\\xb7\\xb1\\xe7\\xa6\\xbb\\xe5\\xbc\\x80\\xe5\\x90\\x8e\\xe5\\xae\\xb6\\xe4\\xba\\xba\\xe8\\xbf\\x98\\xe8\\x83\\xbd\\xe7\\x94\\x9f\\xe6\\xb4\\xbb\\xe4\\xb8\\x8b\\xe5\\x8e\\xbb\\xe3\\x80\\x82\\xe5\\x8f\\xa6\\xe5\\xa4\\x96\\xe6\\x88\\x91\\xe5\\xb7\\xa5\\xe4\\xbd\\x9c\\xe7\\x94\\x9f\\xe6\\xb4\\xbb\\xe4\\xb9\\x8b\\xe7\\xb1\\xbb\\xe4\\xb9\\x9f\\xe6\\xb2\\xa1\\xe4\\xbb\\x80\\xe4\\xb9\\x88\\xe5\\x85\\xb6\\xe4\\xbb\\x96\\xe7\\x9a\\x84\\xe7\\xb3\\x9f\\xe5\\xbf\\x83\\xe4\\xba\\x8b\\xef\\xbc\\x8c\\xe5\\xae\\xb6\\xe5\\xba\\xad\\xe5\\x85\\xb3\\xe7\\xb3\\xbb\\xe4\\xb9\\x9f\\xe4\\xb8\\x8d\\xe9\\x94\\x99\\xef\\xbc\\x8c\\xe5\\xb0\\xb1\\xe6\\x98\\xaf\\xe8\\x87\\xaa\\xe8\\xba\\xab\\xe6\\xaf\\x94\\xe8\\xbe\\x83\\xe5\\xae\\x85\\xef\\xbc\\x8c\\xe5\\x96\\x9c\\xe6\\xac\\xa2\\xe5\\x9c\\xa8\\xe5\\xae\\xb6\\xe6\\x89\\x93\\xe6\\xb8\\xb8\\xe6\\x88\\x8f\\xe3\\x80\\x82\\xe6\\xa0\\xb9\\xe6\\x9c\\xac\\xe5\\x8e\\x9f\\xe5\\x9b\\xa0\\xe5\\x8f\\xaf\\xe8\\x83\\xbd\\xe6\\x98\\xaf\\xe5\\xbc\\xba\\xe7\\x83\\x88\\xe7\\x9a\\x84\\xe4\\xb8\\x8d\\xe5\\xae\\x89\\xe5\\x85\\xa8\\xe6\\x84\\x9f\\xe5\\x90\\xa7\\xe3\\x80\\x82\\\\u000A\\xe6\\x83\\xb3\\xe7\\xbb\\x99\\xe8\\x87\\xaa\\xe5\\xb7\\xb1\\xe5\\x81\\x9a\\xe4\\xb8\\xaa\\xe5\\x85\\xa8\\xe8\\xba\\xab\\xe6\\xa3\\x80\\xe6\\x9f\\xa5\\xef\\xbc\\x8c\\xe5\\x8f\\x88\\xe8\\x88\\x8d\\xe4\\xb8\\x8d\\xe5\\xbe\\x97\\xe5\\x87\\xa0\\xe5\\x8d\\x83\\xe5\\x9d\\x97\\xe7\\x9a\\x84\\xe4\\xbd\\x93\\xe6\\xa3\\x80\\xe8\\xb4\\xb9\\xe3\\x80\\x82\\xe5\\x9c\\xa8\\xe5\\xa4\\x96\\xe5\\x90\\x83\\xe4\\xb8\\x9c\\xe8\\xa5\\xbf\\xef\\xbc\\x8c\\xe6\\x80\\xbb\\xe6\\x84\\x9f\\xe8\\xa7\\x89\\xe4\\xb8\\x8d\\xe5\\x8d\\xab\\xe7\\x94\\x9f\\xe6\\x9c\\x89\\xe5\\xae\\xb3\\xe8\\xba\\xab\\xe4\\xbd\\x93\\xef\\xbc\\x8c\\xe4\\xbd\\x86\\xe6\\x98\\xaf\\xe4\\xbe\\x9d\\xe7\\x84\\xb6\\xe5\\x9c\\xa8\\xe5\\x90\\x83\\xe3\\x80\\x82\\xe7\\x8e\\xb0\\xe5\\x9c\\xa8 Q \\xe6\\xb5\\x81\\xe6\\x84\\x9f\\xef\\xbc\\x8c\\xe5\\x8f\\x88\\xe6\\x8b\\x85\\xe5\\xbf\\x83\\xe8\\x87\\xaa\\xe5\\xb7\\xb1\\xe4\\xbc\\x9a\\xe5\\xbe\\x97\\xef\\xbc\\x8c\\xe6\\x88\\x91\\xe8\\x80\\x81\\xe5\\xa9\\x86\\xe6\\xb5\\x81\\xe4\\xba\\xa7\\xe4\\xb9\\x8b\\xe5\\x89\\x8d\\xef\\xbc\\x8c\\xe6\\x88\\x91\\xe4\\xb8\\x80\\xe7\\x9b\\xb4\\xe4\\xbb\\xa5\\xe4\\xb8\\xba\\xe4\\xb8\\x8d\\xe5\\xb9\\xb8\\xe7\\xa6\\xbb\\xe8\\x87\\xaa\\xe5\\xb7\\xb1\\xe5\\xbe\\x88\\xe9\\x81\\xa5\\xe8\\xbf\\x9c\\xef\\xbc\\x8c\\xe4\\xb9\\x8b\\xe5\\x90\\x8e\\xe5\\x8f\\x88\\xe8\\xa7\\x89\\xe5\\xbe\\x97\\xe4\\xbb\\x80\\xe4\\xb9\\x88\\xe4\\xba\\x8b\\xe9\\x83\\xbd\\xe4\\xbc\\x9a\\xe5\\x8f\\x91\\xe7\\x94\\x9f\\xe5\\x9c\\xa8\\xe8\\x87\\xaa\\xe5\\xb7\\xb1\\xe8\\xba\\xab\\xe4\\xb8\\x8a\\xe3\\x80\\x82\\xe8\\xbf\\x99\\xe9\\x9a\\xbe\\xe9\\x81\\x93\\xe6\\x98\\xaf\\xe6\\x89\\x80\\xe8\\xb0\\x93\\xe6\\x83\\x8a\\xe5\\xbc\\x93\\xe4\\xb9\\x8b\\xe9\\xb8\\x9f\\xef\\xbc\\x9f\\\\u003C/p\\\\u003E\\\\u000A\",\\n        \"replies\" : 63,\\n        \"member\" : {\\n            \"id\" : 78777,\\n            \"username\" : \"nandaye\",\\n            \"tagline\" : \"\",\\n            \"avatar_mini\" : \"//v2ex.assets.uxengine.net/gravatar/57cfb83269169da07ba88cc2fa5377ee?s=24&d=retro\",\\n            \"avatar_normal\" : \"//v2ex.assets.uxengine.net/gravatar/57cfb83269169da07ba88cc2fa5377ee?s=48&d=retro\",\\n            \"avatar_large\" : \"//v2ex.assets.uxengine.net/gravatar/57cfb83269169da07ba88cc2fa5377ee?s=73&d=retro\"\\n        },\\n        \"node\" : {\\n            \"id\" : 12,\\n            \"name\" : \"qna\",\\n            \"title\" : \"\\xe9\\x97\\xae\\xe4\\xb8\\x8e\\xe7\\xad\\x94\",\\n            \"title_alternative\" : \"Questions and Answers\",\\n            \"url\" : \"http://www.v2ex.com/go/qna\",\\n            \"topics\" : 87858,\\n            \"avatar_mini\" : \"//v2ex.assets.uxengine.net/navatar/c20a/d4d7/12_mini.png?m=1494924127\",\\n            \"avatar_normal\" : \"//v2ex.assets.uxengine.net/navatar/c20a/d4d7/12_normal.png?m=1494924127\",\\n            \"avatar_large\" : \"//v2ex.assets.uxengine.net/navatar/c20a/d4d7/12_large.png?m=1494924127\"\\n        },\\n        \"created\" : 1495679422,\\n        \"last_modified\" : 1495679422,\\n        \"last_touched\" : 1495764311\\n    },\\n    \\n    {\\n        \"id\" : 363647,\\n        \"title\" : \"\\xe5\\xa6\\x82\\xe4\\xbd\\x95\\xe7\\x9c\\x8b\\xe5\\xbe\\x85 supersu v2.80 \\xe6\\xad\\xa3\\xe5\\xbc\\x8f\\xe7\\x89\\x88\\xe5\\x8a\\xa0\\xe5\\x85\\xa5\\xe5\\xa4\\xa7\\xe9\\x87\\x8f\\xe6\\x95\\x8f\\xe6\\x84\\x9f\\xe6\\x9d\\x83\\xe9\\x99\\x90\\xef\\xbc\\x9f\",\\n        \"url\" : \"http://www.v2ex.com/t/363647\",\\n        \"content\" : \"\\xe5\\x9c\\xa8 5 \\xe6\\x9c\\x88 24 \\xe6\\x97\\xa5\\xe6\\x9b\\xb4\\xe6\\x96\\xb0\\xe7\\x9a\\x84 supersu v2.80 \\xe6\\xad\\xa3\\xe5\\xbc\\x8f\\xe7\\x89\\x88\\xe4\\xb8\\xad\\xef\\xbc\\x8c\\xe6\\x96\\xb0\\xe5\\x8a\\xa0\\xe5\\x85\\xa5\\xe4\\xba\\x86\\xe8\\xaf\\xbb\\xe5\\x8f\\x96\\xe4\\xbd\\x8d\\xe7\\xbd\\xae\\xe4\\xbf\\xa1\\xe6\\x81\\xaf\\xe5\\x92\\x8c\\xe6\\x89\\x8b\\xe6\\x9c\\xba\\xe7\\x8a\\xb6\\xe6\\x80\\x81\\xe5\\x92\\x8c\\xe8\\xba\\xab\\xe4\\xbb\\xbd\\xe7\\xad\\x89\\xe5\\xa4\\x9a\\xe9\\xa1\\xb9\\xe6\\x95\\x8f\\xe6\\x84\\x9f\\xe6\\x9d\\x83\\xe9\\x99\\x90\\xef\\xbc\\x8c\\xe4\\xb8\\x8d\\xe7\\x9f\\xa5\\xe5\\x90\\x84\\xe4\\xbd\\x8d\\xe7\\x9c\\x8b\\xe6\\xb3\\x95\\xe5\\xa6\\x82\\xe4\\xbd\\x95\\xef\\xbc\\x9f\",\\n        \"content_rendered\" : \"\\xe5\\x9c\\xa8 5 \\xe6\\x9c\\x88 24 \\xe6\\x97\\xa5\\xe6\\x9b\\xb4\\xe6\\x96\\xb0\\xe7\\x9a\\x84 supersu v2.80 \\xe6\\xad\\xa3\\xe5\\xbc\\x8f\\xe7\\x89\\x88\\xe4\\xb8\\xad\\xef\\xbc\\x8c\\xe6\\x96\\xb0\\xe5\\x8a\\xa0\\xe5\\x85\\xa5\\xe4\\xba\\x86\\xe8\\xaf\\xbb\\xe5\\x8f\\x96\\xe4\\xbd\\x8d\\xe7\\xbd\\xae\\xe4\\xbf\\xa1\\xe6\\x81\\xaf\\xe5\\x92\\x8c\\xe6\\x89\\x8b\\xe6\\x9c\\xba\\xe7\\x8a\\xb6\\xe6\\x80\\x81\\xe5\\x92\\x8c\\xe8\\xba\\xab\\xe4\\xbb\\xbd\\xe7\\xad\\x89\\xe5\\xa4\\x9a\\xe9\\xa1\\xb9\\xe6\\x95\\x8f\\xe6\\x84\\x9f\\xe6\\x9d\\x83\\xe9\\x99\\x90\\xef\\xbc\\x8c\\xe4\\xb8\\x8d\\xe7\\x9f\\xa5\\xe5\\x90\\x84\\xe4\\xbd\\x8d\\xe7\\x9c\\x8b\\xe6\\xb3\\x95\\xe5\\xa6\\x82\\xe4\\xbd\\x95\\xef\\xbc\\x9f\",\\n        \"replies\" : 61,\\n        \"member\" : {\\n            \"id\" : 190239,\\n            \"username\" : \"Epsilon\",\\n            \"tagline\" : \"\",\\n            \"avatar_mini\" : \"//v2ex.assets.uxengine.net/avatar/d689/996a/190239_mini.png?m=1472901641\",\\n            \"avatar_normal\" : \"//v2ex.assets.uxengine.net/avatar/d689/996a/190239_normal.png?m=1472901641\",\\n            \"avatar_large\" : \"//v2ex.assets.uxengine.net/avatar/d689/996a/190239_large.png?m=1472901641\"\\n        },\\n        \"node\" : {\\n            \"id\" : 39,\\n            \"name\" : \"android\",\\n            \"title\" : \"Android\",\\n            \"title_alternative\" : \"Android\",\\n            \"url\" : \"http://www.v2ex.com/go/android\",\\n            \"topics\" : 3938,\\n            \"avatar_mini\" : \"//v2ex.assets.uxengine.net/navatar/d67d/8ab4/39_mini.png?m=1495572743\",\\n            \"avatar_normal\" : \"//v2ex.assets.uxengine.net/navatar/d67d/8ab4/39_normal.png?m=1495572743\",\\n            \"avatar_large\" : \"//v2ex.assets.uxengine.net/navatar/d67d/8ab4/39_large.png?m=1495572743\"\\n        },\\n        \"created\" : 1495678368,\\n        \"last_modified\" : 1495678368,\\n        \"last_touched\" : 1495707010\\n    },\\n    \\n    {\\n        \"id\" : 363653,\\n        \"title\" : \"Python \\xe7\\xa8\\x8b\\xe5\\xba\\x8f\\xe5\\x91\\x98\\xe7\\x9a\\x84\\xe6\\x98\\xaf\\xe8\\xa2\\xab\\xe7\\xa7\\xb0\\xe4\\xb8\\xba Pythonista \\xe5\\x90\\x97\\xef\\xbc\\x9f\\xe8\\xbf\\x98\\xe6\\x98\\xaf Pythoner\\xef\\xbc\\x9f\",\\n        \"url\" : \"http://www.v2ex.com/t/363653\",\\n        \"content\" : \"\\xe6\\x88\\x91\\xe9\\x9a\\x90\\xe7\\xba\\xa6\\xe8\\xae\\xb0\\xe5\\xbe\\x97\\xe6\\x98\\xaf pythonista\\xef\\xbc\\x8c\\xe4\\xbd\\x86\\xe4\\xb8\\x80\\xe6\\x90\\x9c\\xe6\\x80\\x8e\\xe4\\xb9\\x88\\xe6\\x98\\xaf\\xe4\\xb8\\xaa app \\xe7\\x9a\\x84\\xe5\\x90\\x8d\\xe5\\xad\\x97 \\xf0\\x9f\\x98\\x82\",\\n        \"content_rendered\" : \"\\xe6\\x88\\x91\\xe9\\x9a\\x90\\xe7\\xba\\xa6\\xe8\\xae\\xb0\\xe5\\xbe\\x97\\xe6\\x98\\xaf pythonista\\xef\\xbc\\x8c\\xe4\\xbd\\x86\\xe4\\xb8\\x80\\xe6\\x90\\x9c\\xe6\\x80\\x8e\\xe4\\xb9\\x88\\xe6\\x98\\xaf\\xe4\\xb8\\xaa app \\xe7\\x9a\\x84\\xe5\\x90\\x8d\\xe5\\xad\\x97 \\xf0\\x9f\\x98\\x82\",\\n        \"replies\" : 58,\\n        \"member\" : {\\n            \"id\" : 123350,\\n            \"username\" : \"gap\",\\n            \"tagline\" : \"\",\\n            \"avatar_mini\" : \"//v2ex.assets.uxengine.net/avatar/8af2/32d4/123350_mini.png?m=1434893711\",\\n            \"avatar_normal\" : \"//v2ex.assets.uxengine.net/avatar/8af2/32d4/123350_normal.png?m=1434893711\",\\n            \"avatar_large\" : \"//v2ex.assets.uxengine.net/avatar/8af2/32d4/123350_large.png?m=1434893711\"\\n        },\\n        \"node\" : {\\n            \"id\" : 90,\\n            \"name\" : \"python\",\\n            \"title\" : \"Python\",\\n            \"title_alternative\" : \"Python\",\\n            \"url\" : \"http://www.v2ex.com/go/python\",\\n            \"topics\" : 6997,\\n            \"avatar_mini\" : \"//v2ex.assets.uxengine.net/navatar/8613/985e/90_mini.png?m=1495503083\",\\n            \"avatar_normal\" : \"//v2ex.assets.uxengine.net/navatar/8613/985e/90_normal.png?m=1495503083\",\\n            \"avatar_large\" : \"//v2ex.assets.uxengine.net/navatar/8613/985e/90_large.png?m=1495503083\"\\n        },\\n        \"created\" : 1495678830,\\n        \"last_modified\" : 1495678837,\\n        \"last_touched\" : 1495742448\\n    },\\n    \\n    {\\n        \"id\" : 363766,\\n        \"title\" : \"\\xef\\xbc\\xbb\\xe5\\x8c\\x97\\xe4\\xba\\xac\\xef\\xbc\\xbd\\xef\\xbc\\xbb\\xe4\\xb8\\x8b\\xe5\\x8e\\xa8\\xe6\\x88\\xbf\\xef\\xbc\\xbd\\xef\\xbc\\xbb\\xe6\\x8b\\x9b\\xe8\\x81\\x98\\xef\\xbc\\xbd\\xe5\\x88\\x86\\xe4\\xba\\xab\\xe4\\xb8\\x80\\xe4\\xb8\\x8b\\xe6\\x88\\x91\\xe5\\x8f\\xb8\\xe9\\x82\\xa3\\xe4\\xba\\x9b\\xe8\\xae\\xa9\\xe6\\x88\\x91\\xe6\\x8f\\x90\\xe7\\xa5\\x9e\\xe9\\x86\\x92\\xe8\\x84\\x91\\xe7\\x9a\\x84\\xe8\\xaf\\xb7\\xe5\\x81\\x87\\xe7\\x90\\x86\\xe7\\x94\\xb1\",\\n        \"url\" : \"http://www.v2ex.com/t/363766\",\\n        \"content\" : \"## \\xe5\\x9b\\xb0\\xe4\\xba\\x86\\xe7\\xb4\\xaf\\xe4\\xba\\x86\\xe8\\xaf\\xb7\\xe4\\xb8\\xaa\\xe5\\x81\\x87\\\\u000D\\\\u000A\\xe4\\xb8\\x8b\\xe5\\x8d\\x88\\xe7\\x8a\\xaf\\xe5\\x9b\\xb0\\xe7\\x9a\\x84\\xe6\\x97\\xb6\\xe5\\x80\\x99\\xe9\\x99\\xa4\\xe4\\xba\\x86\\xe7\\x9d\\xa1\\xe4\\xb8\\x80\\xe8\\xa7\\x89\\xe8\\xbf\\x98\\xe8\\x83\\xbd\\xe5\\xb9\\xb2\\xe5\\x98\\x9b\\xe5\\x91\\xa2\\xef\\xbc\\x9f\\xe6\\x88\\x91\\xe6\\x9c\\x80\\xe8\\xbf\\x91\\xe9\\x83\\xbd\\xe6\\x98\\xaf\\xe9\\x80\\x9a\\xe8\\xbf\\x87\\xe6\\x9f\\xa5\\xe7\\x9c\\x8b\\xe4\\xb8\\x8b\\xe5\\x8e\\xa8\\xe6\\x88\\xbf\\xe7\\x9a\\x84\\xe8\\xaf\\xb7\\xe5\\x81\\x87\\xe9\\x82\\xae\\xe4\\xbb\\xb6\\xe6\\x9d\\xa5\\xe6\\x8f\\x90\\xe7\\xa5\\x9e\\xe9\\x86\\x92\\xe8\\x84\\x91\\xe7\\x9a\\x84\\xef\\xbc\\x8c\\xe5\\x90\\x84\\xe7\\xa7\\x8d\\xe8\\xaf\\xb7\\xe5\\x81\\x87\\xe7\\x90\\x86\\xe7\\x94\\xb1\\xe6\\x80\\xbb\\xe6\\x9c\\x89\\xe4\\xb8\\x80\\xe6\\xac\\xbe\\xe8\\x83\\xbd\\xe9\\x80\\x97\\xe9\\x86\\x92\\xe6\\x88\\x91\\xe3\\x80\\x82\\xe6\\x88\\x91\\xe6\\x8d\\xa1\\xe5\\x87\\xa0\\xe4\\xb8\\xaa\\xe4\\xbd\\xb3\\xe4\\xbd\\x9c\\xe7\\xa4\\xba\\xe4\\xbc\\x97\\xef\\xbc\\x88\\xe5\\xbe\\xae\\xe7\\xac\\x91\\\\u000D\\\\u000A\\\\u000D\\\\u000A![]( http://wx2.sinaimg.cn/large/6b4debedly1ffxlyyswjvj20hb00ndg0.jpg)\\\\u000D\\\\u000A* \\xf0\\x9f\\x91\\x86\\xe4\\xbd\\xa0\\xe5\\x88\\xb0\\xe5\\xba\\x95\\xe5\\x81\\x9a\\xe4\\xba\\x86\\xe4\\xbb\\x80\\xe4\\xb9\\x88\\xe4\\xb8\\x8d\\xe5\\x8f\\xaf\\xe6\\x8f\\x8f\\xe8\\xbf\\xb0\\xe7\\x9a\\x84\\xe6\\xa2\\xa6\\\\u000D\\\\u000A\\\\u000D\\\\u000A![]( http://wx3.sinaimg.cn/large/6b4debedly1ffxm0e3kw2j20gm00pwek.jpg)\\\\u000D\\\\u000A* \\xf0\\x9f\\x91\\x86\\xe6\\x88\\x91\\xe8\\xa6\\x81\\xe6\\x98\\xaf\\xe5\\x9b\\x9e\\xe5\\xa4\\x8d\\xe2\\x80\\x9c\\xe5\\x8f\\xaf\\xe4\\xbb\\xa5\\xe2\\x80\\x9d\\xe4\\xbd\\xa0\\xe4\\xbc\\x9a\\xe4\\xb8\\x8d\\xe4\\xbc\\x9a\\xe4\\xbb\\xa5\\xe4\\xb8\\xba\\xe6\\x88\\x91\\xe5\\x9c\\xa8\\xe5\\xbc\\x80\\xe7\\x8e\\xa9\\xe7\\xac\\x91\\\\u000D\\\\u000A\\\\u000D\\\\u000A![]( http://wx4.sinaimg.cn/large/6b4debedly1ffxm0log17j20hc00ndg2.jpg)\\\\u000D\\\\u000A* \\xf0\\x9f\\x91\\x86\\xe7\\x8c\\xab\\xe5\\x88\\xb0\\xe5\\xba\\x95\\xe5\\x81\\x9a\\xe9\\x94\\x99\\xe4\\xba\\x86\\xe4\\xbb\\x80\\xe4\\xb9\\x88\\xef\\xbc\\x9f\\xef\\xbc\\x81\\xe4\\xbb\\x96\\xe8\\xbf\\x98\\xe6\\x98\\xaf\\xe4\\xb8\\xaa\\xe5\\xad\\xa9\\xe5\\xad\\x90\\xef\\xbc\\x9f\\xef\\xbc\\x81\\\\u000D\\\\u000A\\\\u000D\\\\u000A![]( http://wx1.sinaimg.cn/large/6b4debedly1ffxm27rx4zj20gt00qglq.jpg)\\\\u000D\\\\u000A* \\xf0\\x9f\\x91\\x86\\xe6\\x88\\x91\\xe7\\x9a\\x84\\xe8\\x84\\xb8\\xe4\\xb8\\x8a\\xe8\\xbf\\x98\\xe8\\xa6\\x81\\xe4\\xbf\\x9d\\xe6\\x8c\\x81\\xe5\\x9b\\xb4\\xe7\\xac\\x91\\\\u000D\\\\u000A\\\\u000D\\\\u000A![]( http://wx1.sinaimg.cn/large/6b4debedly1ffxm2csl5cj20gk00sq2z.jpg)\\\\u000D\\\\u000A* \\xf0\\x9f\\x91\\x86\\xe6\\x89\\x80\\xe4\\xbb\\xa5\\xe6\\x9c\\x80\\xe5\\x90\\x8e\\xe6\\x89\\xbe\\xe5\\x88\\xb0\\xe4\\xba\\x86\\xe5\\x90\\x97\\xef\\xbc\\x9f\\\\u000D\\\\u000A\\\\u000D\\\\u000A![]( http://wx3.sinaimg.cn/large/6b4debedly1ffxm2tbgyjj20gm00rgln.jpg)\\\\u000D\\\\u000A* \\xf0\\x9f\\x91\\x86\\xe5\\xa5\\xbd\\xe7\\x9a\\x84\\xe5\\x8f\\xaf\\xe4\\xbb\\xa5\\\\u000D\\\\u000A\\\\u000D\\\\u000A![]( http://wx1.sinaimg.cn/large/6b4debedly1ffxm2x2d11j20j100pwek.jpg)\\\\u000D\\\\u000A* \\xf0\\x9f\\x91\\x86excuse me \\xef\\xbc\\x9f\\\\u000D\\\\u000A\\\\u000D\\\\u000A![]( http://wx3.sinaimg.cn/large/6b4debedly1ffxm3qg8zvj20gw00tmxa.jpg)\\\\u000D\\\\u000A* \\xf0\\x9f\\x91\\x86\\xe7\\xa5\\x9d\\xe4\\xbd\\xa0\\xe6\\x88\\x90\\xe5\\x8a\\x9f\\\\u000D\\\\u000A\\\\u000D\\\\u000A\\xe8\\xb0\\x83\\xe4\\xbe\\x83\\xe5\\xae\\x8c\\xe6\\xaf\\x95\\xef\\xbc\\x8c\\xe6\\x97\\xa0\\xe8\\xae\\xba\\xe5\\xa6\\x82\\xe4\\xbd\\x95\\xe6\\x88\\x91\\xe9\\x83\\xbd\\xe7\\x88\\xb1\\xe6\\x88\\x91\\xe6\\x8a\\x80\\xe6\\x9c\\xaf\\xe5\\x88\\xb0\\xe4\\xbd\\x8d\\xe5\\xa5\\xbd\\xe5\\xa5\\x87\\xe5\\xbf\\x83\\xe5\\xbc\\xba\\xe4\\xb8\\xaa\\xe6\\x80\\xa7\\xe6\\x9c\\x89\\xe8\\xb6\\xa3\\xe7\\x9a\\x84\\xe6\\x8a\\x80\\xe6\\x9c\\xaf\\xe5\\x9b\\xa2\\xe9\\x98\\x9f\\xe3\\x80\\x82\\\\u000D\\\\u000A![]( http://wx1.sinaimg.cn/mw690/6b4debedly1ffxnnnc2hwj21kw16okjm.jpg)\\\\u000D\\\\u000A\\\\u000D\\\\u000A\\\\u000D\\\\u000A\\xe6\\xad\\xa3\\xe7\\xbb\\x8f\\xe6\\x8b\\x9b\\xe8\\x81\\x98\\xe4\\xbf\\xa1\\xe6\\x81\\xaf\\xf0\\x9f\\x91\\x87\\\\u000D\\\\u000A\\\\u000D\\\\u000A\\\\u000D\\\\u000A## \\xe6\\x88\\x91\\xe4\\xbb\\xac\\xe6\\x98\\xaf\\xe8\\xb0\\x81\\\\u000D\\\\u000A\\\\u000D\\\\u000A* 6 \\xe5\\xb2\\x81\\xe7\\x9a\\x84 B \\xe8\\xbd\\xae\\xe5\\x88\\x9b\\xe4\\xb8\\x9a\\xe5\\x85\\xac\\xe5\\x8f\\xb8\\\\u000D\\\\u000A* \\xe6\\x8b\\xa5\\xe6\\x9c\\x89 1000 \\xe5\\xa4\\x9a\\xe4\\xb8\\x87\\xe6\\xb3\\xa8\\xe5\\x86\\x8c\\xe7\\x94\\xa8\\xe6\\x88\\xb7\\\\u000D\\\\u000A* 4000 \\xe5\\xa4\\x9a\\xe4\\xb8\\x87 App \\xe4\\xb8\\x8b\\xe8\\xbd\\xbd\\xe9\\x87\\x8f\\\\u000D\\\\u000A* \\xe8\\x8d\\xa3\\xe5\\xb9\\xb8\\xe5\\x85\\xa5\\xe9\\x80\\x89\\xe2\\x80\\x9c App Store 2013 \\xe5\\xb9\\xb4\\xe5\\xba\\xa6\\xe7\\xb2\\xbe\\xe9\\x80\\x89\\xe2\\x80\\x9d\\\\u000D\\\\u000A* \\xe8\\x8d\\xa3\\xe5\\xb9\\xb8\\xe5\\x85\\xa5\\xe9\\xa9\\xbb\\xe8\\x8b\\xb9\\xe6\\x9e\\x9c\\xe4\\xbd\\x93\\xe9\\xaa\\x8c\\xe5\\xba\\x97\\xef\\xbc\\x88\\xe4\\xb8\\xad\\xe5\\x9b\\xbd\\xe5\\x8c\\xba\\xef\\xbc\\x89\\xe4\\xbd\\x9c\\xe4\\xb8\\xba\\xe5\\xb1\\x95\\xe7\\xa4\\xba Demo\\\\u000D\\\\u000A\\\\u000D\\\\u000A## \\xe6\\x88\\x91\\xe4\\xbb\\xac\\xe5\\x9c\\xa8\\xe6\\x89\\xbe\\xe8\\xb0\\x81\\\\u000D\\\\u000A\\\\u000D\\\\u000A** \\xe5\\x85\\xa8\\xe8\\x81\\x8c \\\\u0026\\\\u0026 \\xe5\\xae\\x9e\\xe4\\xb9\\xa0 **\\\\u000D\\\\u000A\\\\u000D\\\\u000A*  Python\\\\u000D\\\\u000A*  Web \\xe5\\x89\\x8d\\xe7\\xab\\xaf\\\\u000D\\\\u000A*  iOS\\\\u000D\\\\u000A*  \\xe8\\xbf\\x90\\xe7\\xbb\\xb4\\xe5\\xb7\\xa5\\xe7\\xa8\\x8b\\xe5\\xb8\\x88\\\\u000D\\\\u000A\\\\u000D\\\\u000A\\\\u000D\\\\u000A## \\xe4\\xbd\\xa0\\xe6\\x9d\\xa5\\xe5\\x81\\x9a\\xe4\\xbb\\x80\\xe4\\xb9\\x88\\\\u000D\\\\u000A\\\\u000D\\\\u000A* \\xe4\\xbb\\x8e\\xe4\\xbb\\xbb\\xe5\\x8a\\xa1\\xe5\\x88\\x97\\xe8\\xa1\\xa8\\xe4\\xb8\\xad\\xe9\\x80\\x89\\xe6\\x8b\\xa9\\xe8\\x87\\xaa\\xe5\\xb7\\xb1\\xe5\\x96\\x9c\\xe6\\xac\\xa2\\xe5\\x81\\x9a\\xe7\\x9a\\x84\\xe4\\xba\\x8b\\xe6\\x83\\x85\\xe6\\x9d\\xa5\\xe5\\xae\\x8c\\xe6\\x88\\x90\\xef\\xbc\\x8c\\xe4\\xb9\\x9f\\xe5\\x8f\\xaf\\xe4\\xbb\\xa5\\xe8\\x87\\xaa\\xe5\\xb7\\xb1\\xe6\\x8f\\x90\\xe5\\x87\\xba\\xe9\\x9c\\x80\\xe6\\xb1\\x82\\xe6\\x9d\\xa5\\xe5\\x81\\x9a\\\\u000D\\\\u000A* \\xe5\\x8f\\x82\\xe4\\xb8\\x8e\\xe4\\xba\\xa7\\xe5\\x93\\x81\\xe3\\x80\\x81\\xe6\\x8a\\x80\\xe6\\x9c\\xaf\\xe3\\x80\\x81\\xe8\\xae\\xbe\\xe8\\xae\\xa1\\xe8\\xae\\xa8\\xe8\\xae\\xba\\xe3\\x80\\x82\\xe6\\x88\\x91\\xe4\\xbb\\xac\\xe5\\xb8\\x8c\\xe6\\x9c\\x9b\\xe4\\xbd\\xa0\\xe5\\x81\\x9a\\xe7\\x9a\\x84\\xe6\\xaf\\x8f\\xe4\\xb8\\x80\\xe4\\xb8\\xaa\\xe4\\xba\\xa7\\xe5\\x93\\x81\\xe9\\x83\\xbd\\xe6\\x98\\xaf\\xe8\\x87\\xaa\\xe5\\xb7\\xb1\\xe5\\xbf\\x83\\xe7\\x9b\\xae\\xe4\\xb8\\xad\\xe5\\xae\\x8c\\xe7\\xbe\\x8e\\xe7\\x9a\\x84\\xe4\\xba\\xa7\\xe5\\x93\\x81\\\\u000D\\\\u000A* \\xe6\\x8e\\xa5\\xe8\\xa7\\xa6\\xe5\\xb9\\xb6\\xe5\\xad\\xa6\\xe4\\xb9\\xa0 App\\xe3\\x80\\x81Web \\xe5\\xbc\\x80\\xe5\\x8f\\x91\\xe3\\x80\\x81\\xe7\\xb3\\xbb\\xe7\\xbb\\x9f\\xe8\\xbf\\x90\\xe7\\xbb\\xb4\\xe3\\x80\\x81\\xe6\\x95\\xb0\\xe6\\x8d\\xae\\xe5\\xba\\x93\\xe7\\xbb\\xb4\\xe6\\x8a\\xa4\\xe7\\xad\\x89\\xe5\\x90\\x84\\xe7\\xa7\\x8d\\xe6\\x8a\\x80\\xe6\\x9c\\xaf\\\\u000D\\\\u000A\\\\u000D\\\\u000A## \\xe6\\x88\\x91\\xe4\\xbb\\xac\\xe5\\xaf\\xb9\\xe4\\xbd\\xa0\\xe7\\x9a\\x84\\xe8\\xa6\\x81\\xe6\\xb1\\x82\\\\u000D\\\\u000A\\\\u000D\\\\u000A* \\xe5\\xaf\\xb9\\xe6\\x8a\\x80\\xe6\\x9c\\xaf\\xe6\\x9c\\x89\\xe7\\x83\\xad\\xe6\\x83\\x85\\\\u000D\\\\u000A* \\xe5\\x8f\\xaf\\xe4\\xbb\\xa5\\xe7\\x8b\\xac\\xe7\\xab\\x8b\\xe8\\xa7\\xa3\\xe5\\x86\\xb3\\xe9\\x97\\xae\\xe9\\xa2\\x98\\xef\\xbc\\x88\\xe7\\x86\\x9f\\xe7\\xbb\\x83\\xe6\\x8e\\x8c\\xe6\\x8f\\xa1 Google\\xe3\\x80\\x81Stackoverflow \\xef\\xbc\\x89\\\\u000D\\\\u000A* \\xe4\\xba\\x86\\xe8\\xa7\\xa3\\xe5\\x9f\\xba\\xe7\\xa1\\x80\\xe7\\x9f\\xa5\\xe8\\xaf\\x86\\\\u000D\\\\u000A* \\xe6\\x9c\\x89\\xe8\\x89\\xaf\\xe5\\xa5\\xbd\\xe7\\x9a\\x84\\xe8\\x8b\\xb1\\xe8\\xaf\\xad\\xe8\\xaf\\xbb\\xe5\\x86\\x99\\xe8\\x83\\xbd\\xe5\\x8a\\x9b\\\\u000D\\\\u000A* \\xe6\\x9c\\x89\\xe8\\x89\\xaf\\xe5\\xa5\\xbd\\xe7\\x9a\\x84\\xe5\\x9b\\xa2\\xe9\\x98\\x9f\\xe5\\x8d\\x8f\\xe4\\xbd\\x9c\\xe8\\x83\\xbd\\xe5\\x8a\\x9b\\\\u000D\\\\u000A* Web \\xe5\\xae\\x9e\\xe4\\xb9\\xa0\\xe7\\x94\\x9f\\xe9\\x9c\\x80\\xe8\\xa6\\x81\\xe5\\x9f\\xba\\xe6\\x9c\\xac\\xe7\\x9f\\xa5\\xe9\\x81\\x93 Python\\xe3\\x80\\x81Javascript\\xe3\\x80\\x81CSS \\xe7\\xad\\x89\\xe7\\x9b\\xb8\\xe5\\x85\\xb3\\xe7\\x9f\\xa5\\xe8\\xaf\\x86\\xef\\xbc\\x8c\\xe6\\x9c\\x89\\xe8\\xbf\\x87\\xe8\\x87\\xaa\\xe5\\xb7\\xb1\\xe5\\x86\\x99\\xe7\\xbd\\x91\\xe7\\xab\\x99\\xe7\\x9a\\x84\\xe7\\xbb\\x8f\\xe9\\xaa\\x8c\\\\u000D\\\\u000A* iOS \\xe5\\xae\\x9e\\xe4\\xb9\\xa0\\xe7\\x94\\x9f\\xe9\\x9c\\x80\\xe8\\xa6\\x81\\xe5\\x86\\x99\\xe8\\xbf\\x87\\xe7\\xae\\x80\\xe5\\x8d\\x95\\xe7\\x9a\\x84 App\\\\u000D\\\\u000A* \\xe5\\xae\\x9e\\xe4\\xb9\\xa0\\xe6\\x97\\xb6\\xe9\\x97\\xb4\\xe4\\xbf\\x9d\\xe8\\xaf\\x81\\xe4\\xb8\\x80\\xe5\\x91\\xa8 4 \\xe5\\xa4\\xa9\\xe4\\xbb\\xa5\\xe4\\xb8\\x8a\\xef\\xbc\\x8c\\xe6\\x8c\\x81\\xe7\\xbb\\xad 3 \\xe4\\xb8\\xaa\\xe6\\x9c\\x88\\xe4\\xbb\\xa5\\xe4\\xb8\\x8a\\\\u000D\\\\u000A* \\xe7\\xae\\x80\\xe5\\x8e\\x86\\xe9\\x99\\x84\\xe4\\xb8\\x8a\\xe4\\xb8\\xaa\\xe4\\xba\\xba\\xe5\\x8d\\x9a\\xe5\\xae\\xa2\\xe5\\x9c\\xb0\\xe5\\x9d\\x80\\xe5\\x92\\x8c Github \\xe5\\x9c\\xb0\\xe5\\x9d\\x80\\xef\\xbc\\x88\\xe5\\xa6\\x82\\xe6\\x9e\\x9c\\xe6\\x9c\\x89\\xe7\\x9a\\x84\\xe8\\xaf\\x9d\\xef\\xbc\\x89\\\\u000D\\\\u000A\\\\u000D\\\\u000A## \\xe5\\x90\\x8e\\xe7\\xab\\xaf\\xe6\\x8a\\x80\\xe6\\x9c\\xaf\\xe9\\x80\\x89\\xe5\\x9e\\x8b\\\\u000D\\\\u000A\\\\u000D\\\\u000A* \\xe8\\xaf\\xad\\xe8\\xa8\\x80\\xe4\\xbb\\xa5 Python \\xe4\\xb8\\xba\\xe4\\xb8\\xbb\\xef\\xbc\\x8c\\xe6\\xa1\\x86\\xe6\\x9e\\xb6\\xe4\\xb8\\xbb\\xe8\\xa6\\x81\\xe4\\xbd\\xbf\\xe7\\x94\\xa8 Flask\\xef\\xbc\\x8c\\xe6\\xa8\\xa1\\xe6\\x9d\\xbf\\xe7\\x94\\xa8 Mako\\\\u000D\\\\u000A* \\xe6\\x95\\xb0\\xe6\\x8d\\xae\\xe5\\xba\\x93\\xe4\\xb8\\xbb\\xe8\\xa6\\x81\\xe4\\xbd\\xbf\\xe7\\x94\\xa8 MySQL\\xef\\xbc\\x8c\\xe9\\x83\\xa8\\xe5\\x88\\x86\\xe4\\xbd\\xbf\\xe7\\x94\\xa8 Redis\\xef\\xbc\\x8c\\xe7\\xbc\\x93\\xe5\\xad\\x98\\xe4\\xbd\\xbf\\xe7\\x94\\xa8 Memcache\\\\u000D\\\\u000A* \\xe7\\xb3\\xbb\\xe7\\xbb\\x9f\\xe4\\xbd\\xbf\\xe7\\x94\\xa8 Ubuntu\\\\u000D\\\\u000A* \\xe5\\xad\\x98\\xe5\\x82\\xa8\\xe4\\xbd\\xbf\\xe7\\x94\\xa8 MFS\\\\u000D\\\\u000A\\\\u000D\\\\u000A## \\xe5\\x89\\x8d\\xe7\\xab\\xaf\\xe6\\x8a\\x80\\xe6\\x9c\\xaf\\xe9\\x80\\x89\\xe5\\x9e\\x8b\\\\u000D\\\\u000A* Babel + ES6\\\\u000D\\\\u000A* Vuejs + React\\\\u000D\\\\u000A* \\xe4\\xbd\\xbf\\xe7\\x94\\xa8 Webpack \\xe6\\x89\\x93\\xe5\\x8c\\x85\\\\u000D\\\\u000A\\\\u000D\\\\u000A## \\xe8\\x96\\xaa\\xe8\\xb5\\x84\\xe5\\xbe\\x85\\xe9\\x81\\x87\\\\u000D\\\\u000A\\\\u000D\\\\u000A\\xe6\\x88\\x91\\xe4\\xbb\\xac\\xe4\\xb8\\xba\\xe4\\xbd\\xa0\\xe6\\x8f\\x90\\xe4\\xbe\\x9b\\\\u000D\\\\u000A* \\xe8\\x88\\x92\\xe9\\x80\\x82\\xe7\\x9a\\x84\\xe5\\x8a\\x9e\\xe5\\x85\\xac\\xe5\\xae\\xa4\\\\u000D\\\\u000A* \\xe6\\x97\\xa0\\xe9\\x99\\x90\\xe9\\x87\\x8f\\xe9\\x9b\\xb6\\xe9\\xa3\\x9f\\xe4\\xbe\\x9b\\xe5\\xba\\x94\\\\u000D\\\\u000A* \\xe5\\x90\\x84\\xe7\\xa7\\x8d\\xe5\\x85\\xb4\\xe8\\xb6\\xa3\\xe5\\xb0\\x8f\\xe7\\xbb\\x84\\\\u000D\\\\u000A* \\xe5\\x85\\x8d\\xe8\\xb4\\xb9\\xe8\\x87\\xaa\\xe5\\x8a\\xa9\\xe5\\x8d\\x88\\xe9\\xa4\\x90\\\\u000D\\\\u000A* \\xe6\\xaf\\x8f\\xe5\\xb9\\xb4\\xe5\\x8d\\x81\\xe4\\xb8\\x80\\xe5\\xa4\\xa9\\xe5\\xb8\\xa6\\xe8\\x96\\xaa\\xe5\\x81\\x87\\xef\\xbc\\x88\\xe5\\x85\\xa5\\xe8\\x81\\x8c\\xe6\\xaf\\x8f\\xe5\\xa4\\x9a\\xe4\\xb8\\x80\\xe5\\xb9\\xb4\\xe5\\xa4\\x9a\\xe4\\xb8\\x80\\xe5\\xa4\\xa9\\xef\\xbc\\x89\\\\u000D\\\\u000A* \\xe5\\x8f\\x8c\\xe4\\xbc\\x91\\xef\\xbc\\x8c\\xe4\\xb8\\x8d\\xe6\\x8f\\x90\\xe5\\x80\\xa1\\xe5\\x8a\\xa0\\xe7\\x8f\\xad\\\\u000D\\\\u000A\\\\u000D\\\\u000A\\xe5\\xae\\x9e\\xe4\\xb9\\xa0\\xe8\\x96\\xaa\\xe8\\xb5\\x84 180 \\xef\\xbd\\x9e 200/\\xe5\\xa4\\xa9\\xef\\xbc\\x8c\\xe9\\x9d\\x9e\\xe5\\x8c\\x97\\xe4\\xba\\xac\\xe5\\x90\\x8c\\xe5\\xad\\xa6\\xe8\\xbf\\x98\\xe6\\x9c\\x89\\xe6\\xaf\\x8f\\xe6\\x9c\\x88 1500 \\xe4\\xbd\\x8f\\xe6\\x88\\xbf\\xe8\\xa1\\xa5\\xe5\\x8a\\xa9\\\\u000D\\\\u000A\\xe5\\x85\\xa8\\xe8\\x81\\x8c\\xe8\\x96\\xaa\\xe8\\xb5\\x84 10k ~ 30k, \\xe6\\xaf\\x8f\\xe5\\xb9\\xb4\\xe4\\xb8\\xa4\\xe6\\xac\\xa1\\xe8\\xb0\\x83\\xe8\\x96\\xaa\\\\u000D\\\\u000A\\xe8\\xaf\\xa6\\xe6\\x83\\x85\\xe5\\x8f\\xaf\\xe4\\xbb\\xa5\\xe6\\x9f\\xa5\\xe7\\x9c\\x8b [\\xe4\\xb8\\x8b\\xe5\\x8e\\xa8\\xe6\\x88\\xbf\\xe6\\x8b\\x9b\\xe8\\x81\\x98\\xe7\\xbd\\x91\\xe7\\xab\\x99]( http://www.xiachufang.com/job/ )\\\\u000D\\\\u000A\\xe4\\xb9\\x9f\\xe8\\xae\\xb8\\xe4\\xbd\\xa0\\xe5\\xb9\\xb6\\xe4\\xb8\\x8d\\xe6\\x83\\xb3\\xe6\\x8d\\xa2\\xe5\\xb7\\xa5\\xe4\\xbd\\x9c\\xef\\xbc\\x8c\\xe4\\xbd\\x86\\xe6\\x98\\xaf\\xe5\\xaf\\xb9\\xe6\\x88\\x91\\xe4\\xbb\\xac\\xe6\\x89\\x80\\xe5\\x81\\x9a\\xe7\\x9a\\x84\\xe4\\xba\\x8b\\xe6\\x84\\x9f\\xe5\\x85\\xb4\\xe8\\xb6\\xa3\\xef\\xbc\\x8c\\xe6\\x88\\x96\\xe8\\x80\\x85\\xe6\\x83\\xb3\\xe4\\xba\\x86\\xe8\\xa7\\xa3\\xe5\\x88\\x9b\\xe4\\xb8\\x9a\\xe8\\xbf\\x99\\xe4\\xbb\\xb6\\xe4\\xba\\x8b\\xe6\\x83\\x85\\xef\\xbc\\x8c\\xe4\\xb9\\x9f\\xe6\\xac\\xa2\\xe8\\xbf\\x8e\\xe6\\x9d\\xa5\\xe4\\xb8\\x8e\\xe6\\x88\\x91\\xe4\\xbb\\xac\\xe8\\x81\\x8a\\xe8\\x81\\x8a\\xe3\\x80\\x82\\\\u000D\\\\u000A\\\\u000D\\\\u000A\\\\u000D\\\\u000A## \\xe8\\x81\\x94\\xe7\\xb3\\xbb\\xe6\\x96\\xb9\\xe5\\xbc\\x8f\\\\u000D\\\\u000A\\\\u000D\\\\u000A\\xe5\\x85\\xac\\xe5\\x8f\\xb8\\xe5\\x9c\\xb0\\xe5\\x9d\\x80\\xef\\xbc\\x9a\\xe5\\x8c\\x97\\xe4\\xba\\xac\\xe5\\xb8\\x82\\xe6\\xb5\\xb7\\xe6\\xb7\\x80\\xe5\\x8c\\xba\\xe9\\xbb\\x91\\xe6\\xb3\\x89\\xe8\\xb7\\xaf\\xe5\\xae\\x9d\\xe7\\x9b\\x9b\\xe5\\xb9\\xbf\\xe5\\x9c\\xba\\\\u000D\\\\u000A\\\\u000D\\\\u000A\\xe9\\x82\\xae\\xe4\\xbb\\xb6\\xe4\\xb8\\xbb\\xe9\\xa2\\x98 \\xe5\\xba\\x94\\xe8\\x81\\x98\\xe5\\xb2\\x97\\xe4\\xbd\\x8d+\\xe5\\xa7\\x93\\xe5\\x90\\x8d+\\xe6\\x9d\\xa5\\xe8\\x87\\xaa v2ex\\xef\\xbc\\x8c\\xe4\\xbe\\x8b\\xe5\\xa6\\x82\\\\u0022\\xe5\\xba\\x94\\xe8\\x81\\x98 iOS + grumpy + \\xe6\\x9d\\xa5\\xe8\\x87\\xaa v2ex\\\\u0022\",\\n        \"content_rendered\" : \"\\\\u003Ch2\\\\u003E\\xe5\\x9b\\xb0\\xe4\\xba\\x86\\xe7\\xb4\\xaf\\xe4\\xba\\x86\\xe8\\xaf\\xb7\\xe4\\xb8\\xaa\\xe5\\x81\\x87\\\\u003C/h2\\\\u003E\\\\u000A\\\\u003Cp\\\\u003E\\xe4\\xb8\\x8b\\xe5\\x8d\\x88\\xe7\\x8a\\xaf\\xe5\\x9b\\xb0\\xe7\\x9a\\x84\\xe6\\x97\\xb6\\xe5\\x80\\x99\\xe9\\x99\\xa4\\xe4\\xba\\x86\\xe7\\x9d\\xa1\\xe4\\xb8\\x80\\xe8\\xa7\\x89\\xe8\\xbf\\x98\\xe8\\x83\\xbd\\xe5\\xb9\\xb2\\xe5\\x98\\x9b\\xe5\\x91\\xa2\\xef\\xbc\\x9f\\xe6\\x88\\x91\\xe6\\x9c\\x80\\xe8\\xbf\\x91\\xe9\\x83\\xbd\\xe6\\x98\\xaf\\xe9\\x80\\x9a\\xe8\\xbf\\x87\\xe6\\x9f\\xa5\\xe7\\x9c\\x8b\\xe4\\xb8\\x8b\\xe5\\x8e\\xa8\\xe6\\x88\\xbf\\xe7\\x9a\\x84\\xe8\\xaf\\xb7\\xe5\\x81\\x87\\xe9\\x82\\xae\\xe4\\xbb\\xb6\\xe6\\x9d\\xa5\\xe6\\x8f\\x90\\xe7\\xa5\\x9e\\xe9\\x86\\x92\\xe8\\x84\\x91\\xe7\\x9a\\x84\\xef\\xbc\\x8c\\xe5\\x90\\x84\\xe7\\xa7\\x8d\\xe8\\xaf\\xb7\\xe5\\x81\\x87\\xe7\\x90\\x86\\xe7\\x94\\xb1\\xe6\\x80\\xbb\\xe6\\x9c\\x89\\xe4\\xb8\\x80\\xe6\\xac\\xbe\\xe8\\x83\\xbd\\xe9\\x80\\x97\\xe9\\x86\\x92\\xe6\\x88\\x91\\xe3\\x80\\x82\\xe6\\x88\\x91\\xe6\\x8d\\xa1\\xe5\\x87\\xa0\\xe4\\xb8\\xaa\\xe4\\xbd\\xb3\\xe4\\xbd\\x9c\\xe7\\xa4\\xba\\xe4\\xbc\\x97\\xef\\xbc\\x88\\xe5\\xbe\\xae\\xe7\\xac\\x91\\\\u003C/p\\\\u003E\\\\u000A\\\\u003Cp\\\\u003E\\\\u003Cimg alt\\\\u003D\\\\u0022\\\\u0022 src\\\\u003D\\\\u0022http://wx2.sinaimg.cn/large/6b4debedly1ffxlyyswjvj20hb00ndg0.jpg\\\\u0022\\\\u003E\\\\u003C/p\\\\u003E\\\\u000A\\\\u003Cul\\\\u003E\\\\u000A\\\\u003Cli\\\\u003E\\xf0\\x9f\\x91\\x86\\xe4\\xbd\\xa0\\xe5\\x88\\xb0\\xe5\\xba\\x95\\xe5\\x81\\x9a\\xe4\\xba\\x86\\xe4\\xbb\\x80\\xe4\\xb9\\x88\\xe4\\xb8\\x8d\\xe5\\x8f\\xaf\\xe6\\x8f\\x8f\\xe8\\xbf\\xb0\\xe7\\x9a\\x84\\xe6\\xa2\\xa6\\\\u003C/li\\\\u003E\\\\u000A\\\\u003C/ul\\\\u003E\\\\u000A\\\\u003Cp\\\\u003E\\\\u003Cimg alt\\\\u003D\\\\u0022\\\\u0022 src\\\\u003D\\\\u0022http://wx3.sinaimg.cn/large/6b4debedly1ffxm0e3kw2j20gm00pwek.jpg\\\\u0022\\\\u003E\\\\u003C/p\\\\u003E\\\\u000A\\\\u003Cul\\\\u003E\\\\u000A\\\\u003Cli\\\\u003E\\xf0\\x9f\\x91\\x86\\xe6\\x88\\x91\\xe8\\xa6\\x81\\xe6\\x98\\xaf\\xe5\\x9b\\x9e\\xe5\\xa4\\x8d\\xe2\\x80\\x9c\\xe5\\x8f\\xaf\\xe4\\xbb\\xa5\\xe2\\x80\\x9d\\xe4\\xbd\\xa0\\xe4\\xbc\\x9a\\xe4\\xb8\\x8d\\xe4\\xbc\\x9a\\xe4\\xbb\\xa5\\xe4\\xb8\\xba\\xe6\\x88\\x91\\xe5\\x9c\\xa8\\xe5\\xbc\\x80\\xe7\\x8e\\xa9\\xe7\\xac\\x91\\\\u003C/li\\\\u003E\\\\u000A\\\\u003C/ul\\\\u003E\\\\u000A\\\\u003Cp\\\\u003E\\\\u003Cimg alt\\\\u003D\\\\u0022\\\\u0022 src\\\\u003D\\\\u0022http://wx4.sinaimg.cn/large/6b4debedly1ffxm0log17j20hc00ndg2.jpg\\\\u0022\\\\u003E\\\\u003C/p\\\\u003E\\\\u000A\\\\u003Cul\\\\u003E\\\\u000A\\\\u003Cli\\\\u003E\\xf0\\x9f\\x91\\x86\\xe7\\x8c\\xab\\xe5\\x88\\xb0\\xe5\\xba\\x95\\xe5\\x81\\x9a\\xe9\\x94\\x99\\xe4\\xba\\x86\\xe4\\xbb\\x80\\xe4\\xb9\\x88\\xef\\xbc\\x9f\\xef\\xbc\\x81\\xe4\\xbb\\x96\\xe8\\xbf\\x98\\xe6\\x98\\xaf\\xe4\\xb8\\xaa\\xe5\\xad\\xa9\\xe5\\xad\\x90\\xef\\xbc\\x9f\\xef\\xbc\\x81\\\\u003C/li\\\\u003E\\\\u000A\\\\u003C/ul\\\\u003E\\\\u000A\\\\u003Cp\\\\u003E\\\\u003Cimg alt\\\\u003D\\\\u0022\\\\u0022 src\\\\u003D\\\\u0022http://wx1.sinaimg.cn/large/6b4debedly1ffxm27rx4zj20gt00qglq.jpg\\\\u0022\\\\u003E\\\\u003C/p\\\\u003E\\\\u000A\\\\u003Cul\\\\u003E\\\\u000A\\\\u003Cli\\\\u003E\\xf0\\x9f\\x91\\x86\\xe6\\x88\\x91\\xe7\\x9a\\x84\\xe8\\x84\\xb8\\xe4\\xb8\\x8a\\xe8\\xbf\\x98\\xe8\\xa6\\x81\\xe4\\xbf\\x9d\\xe6\\x8c\\x81\\xe5\\x9b\\xb4\\xe7\\xac\\x91\\\\u003C/li\\\\u003E\\\\u000A\\\\u003C/ul\\\\u003E\\\\u000A\\\\u003Cp\\\\u003E\\\\u003Cimg alt\\\\u003D\\\\u0022\\\\u0022 src\\\\u003D\\\\u0022http://wx1.sinaimg.cn/large/6b4debedly1ffxm2csl5cj20gk00sq2z.jpg\\\\u0022\\\\u003E\\\\u003C/p\\\\u003E\\\\u000A\\\\u003Cul\\\\u003E\\\\u000A\\\\u003Cli\\\\u003E\\xf0\\x9f\\x91\\x86\\xe6\\x89\\x80\\xe4\\xbb\\xa5\\xe6\\x9c\\x80\\xe5\\x90\\x8e\\xe6\\x89\\xbe\\xe5\\x88\\xb0\\xe4\\xba\\x86\\xe5\\x90\\x97\\xef\\xbc\\x9f\\\\u003C/li\\\\u003E\\\\u000A\\\\u003C/ul\\\\u003E\\\\u000A\\\\u003Cp\\\\u003E\\\\u003Cimg alt\\\\u003D\\\\u0022\\\\u0022 src\\\\u003D\\\\u0022http://wx3.sinaimg.cn/large/6b4debedly1ffxm2tbgyjj20gm00rgln.jpg\\\\u0022\\\\u003E\\\\u003C/p\\\\u003E\\\\u000A\\\\u003Cul\\\\u003E\\\\u000A\\\\u003Cli\\\\u003E\\xf0\\x9f\\x91\\x86\\xe5\\xa5\\xbd\\xe7\\x9a\\x84\\xe5\\x8f\\xaf\\xe4\\xbb\\xa5\\\\u003C/li\\\\u003E\\\\u000A\\\\u003C/ul\\\\u003E\\\\u000A\\\\u003Cp\\\\u003E\\\\u003Cimg alt\\\\u003D\\\\u0022\\\\u0022 src\\\\u003D\\\\u0022http://wx1.sinaimg.cn/large/6b4debedly1ffxm2x2d11j20j100pwek.jpg\\\\u0022\\\\u003E\\\\u003C/p\\\\u003E\\\\u000A\\\\u003Cul\\\\u003E\\\\u000A\\\\u003Cli\\\\u003E\\xf0\\x9f\\x91\\x86excuse me \\xef\\xbc\\x9f\\\\u003C/li\\\\u003E\\\\u000A\\\\u003C/ul\\\\u003E\\\\u000A\\\\u003Cp\\\\u003E\\\\u003Cimg alt\\\\u003D\\\\u0022\\\\u0022 src\\\\u003D\\\\u0022http://wx3.sinaimg.cn/large/6b4debedly1ffxm3qg8zvj20gw00tmxa.jpg\\\\u0022\\\\u003E\\\\u003C/p\\\\u003E\\\\u000A\\\\u003Cul\\\\u003E\\\\u000A\\\\u003Cli\\\\u003E\\xf0\\x9f\\x91\\x86\\xe7\\xa5\\x9d\\xe4\\xbd\\xa0\\xe6\\x88\\x90\\xe5\\x8a\\x9f\\\\u003C/li\\\\u003E\\\\u000A\\\\u003C/ul\\\\u003E\\\\u000A\\\\u003Cp\\\\u003E\\xe8\\xb0\\x83\\xe4\\xbe\\x83\\xe5\\xae\\x8c\\xe6\\xaf\\x95\\xef\\xbc\\x8c\\xe6\\x97\\xa0\\xe8\\xae\\xba\\xe5\\xa6\\x82\\xe4\\xbd\\x95\\xe6\\x88\\x91\\xe9\\x83\\xbd\\xe7\\x88\\xb1\\xe6\\x88\\x91\\xe6\\x8a\\x80\\xe6\\x9c\\xaf\\xe5\\x88\\xb0\\xe4\\xbd\\x8d\\xe5\\xa5\\xbd\\xe5\\xa5\\x87\\xe5\\xbf\\x83\\xe5\\xbc\\xba\\xe4\\xb8\\xaa\\xe6\\x80\\xa7\\xe6\\x9c\\x89\\xe8\\xb6\\xa3\\xe7\\x9a\\x84\\xe6\\x8a\\x80\\xe6\\x9c\\xaf\\xe5\\x9b\\xa2\\xe9\\x98\\x9f\\xe3\\x80\\x82\\\\u000A\\\\u003Cimg alt\\\\u003D\\\\u0022\\\\u0022 src\\\\u003D\\\\u0022http://wx1.sinaimg.cn/mw690/6b4debedly1ffxnnnc2hwj21kw16okjm.jpg\\\\u0022\\\\u003E\\\\u003C/p\\\\u003E\\\\u000A\\\\u003Cp\\\\u003E\\xe6\\xad\\xa3\\xe7\\xbb\\x8f\\xe6\\x8b\\x9b\\xe8\\x81\\x98\\xe4\\xbf\\xa1\\xe6\\x81\\xaf\\xf0\\x9f\\x91\\x87\\\\u003C/p\\\\u003E\\\\u000A\\\\u003Ch2\\\\u003E\\xe6\\x88\\x91\\xe4\\xbb\\xac\\xe6\\x98\\xaf\\xe8\\xb0\\x81\\\\u003C/h2\\\\u003E\\\\u000A\\\\u003Cul\\\\u003E\\\\u000A\\\\u003Cli\\\\u003E6 \\xe5\\xb2\\x81\\xe7\\x9a\\x84 B \\xe8\\xbd\\xae\\xe5\\x88\\x9b\\xe4\\xb8\\x9a\\xe5\\x85\\xac\\xe5\\x8f\\xb8\\\\u003C/li\\\\u003E\\\\u000A\\\\u003Cli\\\\u003E\\xe6\\x8b\\xa5\\xe6\\x9c\\x89 1000 \\xe5\\xa4\\x9a\\xe4\\xb8\\x87\\xe6\\xb3\\xa8\\xe5\\x86\\x8c\\xe7\\x94\\xa8\\xe6\\x88\\xb7\\\\u003C/li\\\\u003E\\\\u000A\\\\u003Cli\\\\u003E4000 \\xe5\\xa4\\x9a\\xe4\\xb8\\x87 App \\xe4\\xb8\\x8b\\xe8\\xbd\\xbd\\xe9\\x87\\x8f\\\\u003C/li\\\\u003E\\\\u000A\\\\u003Cli\\\\u003E\\xe8\\x8d\\xa3\\xe5\\xb9\\xb8\\xe5\\x85\\xa5\\xe9\\x80\\x89\\xe2\\x80\\x9c App Store 2013 \\xe5\\xb9\\xb4\\xe5\\xba\\xa6\\xe7\\xb2\\xbe\\xe9\\x80\\x89\\xe2\\x80\\x9d\\\\u003C/li\\\\u003E\\\\u000A\\\\u003Cli\\\\u003E\\xe8\\x8d\\xa3\\xe5\\xb9\\xb8\\xe5\\x85\\xa5\\xe9\\xa9\\xbb\\xe8\\x8b\\xb9\\xe6\\x9e\\x9c\\xe4\\xbd\\x93\\xe9\\xaa\\x8c\\xe5\\xba\\x97\\xef\\xbc\\x88\\xe4\\xb8\\xad\\xe5\\x9b\\xbd\\xe5\\x8c\\xba\\xef\\xbc\\x89\\xe4\\xbd\\x9c\\xe4\\xb8\\xba\\xe5\\xb1\\x95\\xe7\\xa4\\xba Demo\\\\u003C/li\\\\u003E\\\\u000A\\\\u003C/ul\\\\u003E\\\\u000A\\\\u003Ch2\\\\u003E\\xe6\\x88\\x91\\xe4\\xbb\\xac\\xe5\\x9c\\xa8\\xe6\\x89\\xbe\\xe8\\xb0\\x81\\\\u003C/h2\\\\u003E\\\\u000A\\\\u003Cp\\\\u003E** \\xe5\\x85\\xa8\\xe8\\x81\\x8c \\\\u0026amp\\\\u003B\\\\u0026amp\\\\u003B \\xe5\\xae\\x9e\\xe4\\xb9\\xa0 **\\\\u003C/p\\\\u003E\\\\u000A\\\\u003Cul\\\\u003E\\\\u000A\\\\u003Cli\\\\u003EPython\\\\u003C/li\\\\u003E\\\\u000A\\\\u003Cli\\\\u003EWeb \\xe5\\x89\\x8d\\xe7\\xab\\xaf\\\\u003C/li\\\\u003E\\\\u000A\\\\u003Cli\\\\u003EiOS\\\\u003C/li\\\\u003E\\\\u000A\\\\u003Cli\\\\u003E\\xe8\\xbf\\x90\\xe7\\xbb\\xb4\\xe5\\xb7\\xa5\\xe7\\xa8\\x8b\\xe5\\xb8\\x88\\\\u003C/li\\\\u003E\\\\u000A\\\\u003C/ul\\\\u003E\\\\u000A\\\\u003Ch2\\\\u003E\\xe4\\xbd\\xa0\\xe6\\x9d\\xa5\\xe5\\x81\\x9a\\xe4\\xbb\\x80\\xe4\\xb9\\x88\\\\u003C/h2\\\\u003E\\\\u000A\\\\u003Cul\\\\u003E\\\\u000A\\\\u003Cli\\\\u003E\\xe4\\xbb\\x8e\\xe4\\xbb\\xbb\\xe5\\x8a\\xa1\\xe5\\x88\\x97\\xe8\\xa1\\xa8\\xe4\\xb8\\xad\\xe9\\x80\\x89\\xe6\\x8b\\xa9\\xe8\\x87\\xaa\\xe5\\xb7\\xb1\\xe5\\x96\\x9c\\xe6\\xac\\xa2\\xe5\\x81\\x9a\\xe7\\x9a\\x84\\xe4\\xba\\x8b\\xe6\\x83\\x85\\xe6\\x9d\\xa5\\xe5\\xae\\x8c\\xe6\\x88\\x90\\xef\\xbc\\x8c\\xe4\\xb9\\x9f\\xe5\\x8f\\xaf\\xe4\\xbb\\xa5\\xe8\\x87\\xaa\\xe5\\xb7\\xb1\\xe6\\x8f\\x90\\xe5\\x87\\xba\\xe9\\x9c\\x80\\xe6\\xb1\\x82\\xe6\\x9d\\xa5\\xe5\\x81\\x9a\\\\u003C/li\\\\u003E\\\\u000A\\\\u003Cli\\\\u003E\\xe5\\x8f\\x82\\xe4\\xb8\\x8e\\xe4\\xba\\xa7\\xe5\\x93\\x81\\xe3\\x80\\x81\\xe6\\x8a\\x80\\xe6\\x9c\\xaf\\xe3\\x80\\x81\\xe8\\xae\\xbe\\xe8\\xae\\xa1\\xe8\\xae\\xa8\\xe8\\xae\\xba\\xe3\\x80\\x82\\xe6\\x88\\x91\\xe4\\xbb\\xac\\xe5\\xb8\\x8c\\xe6\\x9c\\x9b\\xe4\\xbd\\xa0\\xe5\\x81\\x9a\\xe7\\x9a\\x84\\xe6\\xaf\\x8f\\xe4\\xb8\\x80\\xe4\\xb8\\xaa\\xe4\\xba\\xa7\\xe5\\x93\\x81\\xe9\\x83\\xbd\\xe6\\x98\\xaf\\xe8\\x87\\xaa\\xe5\\xb7\\xb1\\xe5\\xbf\\x83\\xe7\\x9b\\xae\\xe4\\xb8\\xad\\xe5\\xae\\x8c\\xe7\\xbe\\x8e\\xe7\\x9a\\x84\\xe4\\xba\\xa7\\xe5\\x93\\x81\\\\u003C/li\\\\u003E\\\\u000A\\\\u003Cli\\\\u003E\\xe6\\x8e\\xa5\\xe8\\xa7\\xa6\\xe5\\xb9\\xb6\\xe5\\xad\\xa6\\xe4\\xb9\\xa0 App\\xe3\\x80\\x81Web \\xe5\\xbc\\x80\\xe5\\x8f\\x91\\xe3\\x80\\x81\\xe7\\xb3\\xbb\\xe7\\xbb\\x9f\\xe8\\xbf\\x90\\xe7\\xbb\\xb4\\xe3\\x80\\x81\\xe6\\x95\\xb0\\xe6\\x8d\\xae\\xe5\\xba\\x93\\xe7\\xbb\\xb4\\xe6\\x8a\\xa4\\xe7\\xad\\x89\\xe5\\x90\\x84\\xe7\\xa7\\x8d\\xe6\\x8a\\x80\\xe6\\x9c\\xaf\\\\u003C/li\\\\u003E\\\\u000A\\\\u003C/ul\\\\u003E\\\\u000A\\\\u003Ch2\\\\u003E\\xe6\\x88\\x91\\xe4\\xbb\\xac\\xe5\\xaf\\xb9\\xe4\\xbd\\xa0\\xe7\\x9a\\x84\\xe8\\xa6\\x81\\xe6\\xb1\\x82\\\\u003C/h2\\\\u003E\\\\u000A\\\\u003Cul\\\\u003E\\\\u000A\\\\u003Cli\\\\u003E\\xe5\\xaf\\xb9\\xe6\\x8a\\x80\\xe6\\x9c\\xaf\\xe6\\x9c\\x89\\xe7\\x83\\xad\\xe6\\x83\\x85\\\\u003C/li\\\\u003E\\\\u000A\\\\u003Cli\\\\u003E\\xe5\\x8f\\xaf\\xe4\\xbb\\xa5\\xe7\\x8b\\xac\\xe7\\xab\\x8b\\xe8\\xa7\\xa3\\xe5\\x86\\xb3\\xe9\\x97\\xae\\xe9\\xa2\\x98\\xef\\xbc\\x88\\xe7\\x86\\x9f\\xe7\\xbb\\x83\\xe6\\x8e\\x8c\\xe6\\x8f\\xa1 Google\\xe3\\x80\\x81Stackoverflow \\xef\\xbc\\x89\\\\u003C/li\\\\u003E\\\\u000A\\\\u003Cli\\\\u003E\\xe4\\xba\\x86\\xe8\\xa7\\xa3\\xe5\\x9f\\xba\\xe7\\xa1\\x80\\xe7\\x9f\\xa5\\xe8\\xaf\\x86\\\\u003C/li\\\\u003E\\\\u000A\\\\u003Cli\\\\u003E\\xe6\\x9c\\x89\\xe8\\x89\\xaf\\xe5\\xa5\\xbd\\xe7\\x9a\\x84\\xe8\\x8b\\xb1\\xe8\\xaf\\xad\\xe8\\xaf\\xbb\\xe5\\x86\\x99\\xe8\\x83\\xbd\\xe5\\x8a\\x9b\\\\u003C/li\\\\u003E\\\\u000A\\\\u003Cli\\\\u003E\\xe6\\x9c\\x89\\xe8\\x89\\xaf\\xe5\\xa5\\xbd\\xe7\\x9a\\x84\\xe5\\x9b\\xa2\\xe9\\x98\\x9f\\xe5\\x8d\\x8f\\xe4\\xbd\\x9c\\xe8\\x83\\xbd\\xe5\\x8a\\x9b\\\\u003C/li\\\\u003E\\\\u000A\\\\u003Cli\\\\u003EWeb \\xe5\\xae\\x9e\\xe4\\xb9\\xa0\\xe7\\x94\\x9f\\xe9\\x9c\\x80\\xe8\\xa6\\x81\\xe5\\x9f\\xba\\xe6\\x9c\\xac\\xe7\\x9f\\xa5\\xe9\\x81\\x93 Python\\xe3\\x80\\x81Javascript\\xe3\\x80\\x81CSS \\xe7\\xad\\x89\\xe7\\x9b\\xb8\\xe5\\x85\\xb3\\xe7\\x9f\\xa5\\xe8\\xaf\\x86\\xef\\xbc\\x8c\\xe6\\x9c\\x89\\xe8\\xbf\\x87\\xe8\\x87\\xaa\\xe5\\xb7\\xb1\\xe5\\x86\\x99\\xe7\\xbd\\x91\\xe7\\xab\\x99\\xe7\\x9a\\x84\\xe7\\xbb\\x8f\\xe9\\xaa\\x8c\\\\u003C/li\\\\u003E\\\\u000A\\\\u003Cli\\\\u003EiOS \\xe5\\xae\\x9e\\xe4\\xb9\\xa0\\xe7\\x94\\x9f\\xe9\\x9c\\x80\\xe8\\xa6\\x81\\xe5\\x86\\x99\\xe8\\xbf\\x87\\xe7\\xae\\x80\\xe5\\x8d\\x95\\xe7\\x9a\\x84 App\\\\u003C/li\\\\u003E\\\\u000A\\\\u003Cli\\\\u003E\\xe5\\xae\\x9e\\xe4\\xb9\\xa0\\xe6\\x97\\xb6\\xe9\\x97\\xb4\\xe4\\xbf\\x9d\\xe8\\xaf\\x81\\xe4\\xb8\\x80\\xe5\\x91\\xa8 4 \\xe5\\xa4\\xa9\\xe4\\xbb\\xa5\\xe4\\xb8\\x8a\\xef\\xbc\\x8c\\xe6\\x8c\\x81\\xe7\\xbb\\xad 3 \\xe4\\xb8\\xaa\\xe6\\x9c\\x88\\xe4\\xbb\\xa5\\xe4\\xb8\\x8a\\\\u003C/li\\\\u003E\\\\u000A\\\\u003Cli\\\\u003E\\xe7\\xae\\x80\\xe5\\x8e\\x86\\xe9\\x99\\x84\\xe4\\xb8\\x8a\\xe4\\xb8\\xaa\\xe4\\xba\\xba\\xe5\\x8d\\x9a\\xe5\\xae\\xa2\\xe5\\x9c\\xb0\\xe5\\x9d\\x80\\xe5\\x92\\x8c Github \\xe5\\x9c\\xb0\\xe5\\x9d\\x80\\xef\\xbc\\x88\\xe5\\xa6\\x82\\xe6\\x9e\\x9c\\xe6\\x9c\\x89\\xe7\\x9a\\x84\\xe8\\xaf\\x9d\\xef\\xbc\\x89\\\\u003C/li\\\\u003E\\\\u000A\\\\u003C/ul\\\\u003E\\\\u000A\\\\u003Ch2\\\\u003E\\xe5\\x90\\x8e\\xe7\\xab\\xaf\\xe6\\x8a\\x80\\xe6\\x9c\\xaf\\xe9\\x80\\x89\\xe5\\x9e\\x8b\\\\u003C/h2\\\\u003E\\\\u000A\\\\u003Cul\\\\u003E\\\\u000A\\\\u003Cli\\\\u003E\\xe8\\xaf\\xad\\xe8\\xa8\\x80\\xe4\\xbb\\xa5 Python \\xe4\\xb8\\xba\\xe4\\xb8\\xbb\\xef\\xbc\\x8c\\xe6\\xa1\\x86\\xe6\\x9e\\xb6\\xe4\\xb8\\xbb\\xe8\\xa6\\x81\\xe4\\xbd\\xbf\\xe7\\x94\\xa8 Flask\\xef\\xbc\\x8c\\xe6\\xa8\\xa1\\xe6\\x9d\\xbf\\xe7\\x94\\xa8 Mako\\\\u003C/li\\\\u003E\\\\u000A\\\\u003Cli\\\\u003E\\xe6\\x95\\xb0\\xe6\\x8d\\xae\\xe5\\xba\\x93\\xe4\\xb8\\xbb\\xe8\\xa6\\x81\\xe4\\xbd\\xbf\\xe7\\x94\\xa8 MySQL\\xef\\xbc\\x8c\\xe9\\x83\\xa8\\xe5\\x88\\x86\\xe4\\xbd\\xbf\\xe7\\x94\\xa8 Redis\\xef\\xbc\\x8c\\xe7\\xbc\\x93\\xe5\\xad\\x98\\xe4\\xbd\\xbf\\xe7\\x94\\xa8 Memcache\\\\u003C/li\\\\u003E\\\\u000A\\\\u003Cli\\\\u003E\\xe7\\xb3\\xbb\\xe7\\xbb\\x9f\\xe4\\xbd\\xbf\\xe7\\x94\\xa8 Ubuntu\\\\u003C/li\\\\u003E\\\\u000A\\\\u003Cli\\\\u003E\\xe5\\xad\\x98\\xe5\\x82\\xa8\\xe4\\xbd\\xbf\\xe7\\x94\\xa8 MFS\\\\u003C/li\\\\u003E\\\\u000A\\\\u003C/ul\\\\u003E\\\\u000A\\\\u003Ch2\\\\u003E\\xe5\\x89\\x8d\\xe7\\xab\\xaf\\xe6\\x8a\\x80\\xe6\\x9c\\xaf\\xe9\\x80\\x89\\xe5\\x9e\\x8b\\\\u003C/h2\\\\u003E\\\\u000A\\\\u003Cul\\\\u003E\\\\u000A\\\\u003Cli\\\\u003EBabel + ES6\\\\u003C/li\\\\u003E\\\\u000A\\\\u003Cli\\\\u003EVuejs + React\\\\u003C/li\\\\u003E\\\\u000A\\\\u003Cli\\\\u003E\\xe4\\xbd\\xbf\\xe7\\x94\\xa8 Webpack \\xe6\\x89\\x93\\xe5\\x8c\\x85\\\\u003C/li\\\\u003E\\\\u000A\\\\u003C/ul\\\\u003E\\\\u000A\\\\u003Ch2\\\\u003E\\xe8\\x96\\xaa\\xe8\\xb5\\x84\\xe5\\xbe\\x85\\xe9\\x81\\x87\\\\u003C/h2\\\\u003E\\\\u000A\\\\u003Cp\\\\u003E\\xe6\\x88\\x91\\xe4\\xbb\\xac\\xe4\\xb8\\xba\\xe4\\xbd\\xa0\\xe6\\x8f\\x90\\xe4\\xbe\\x9b\\\\u003C/p\\\\u003E\\\\u000A\\\\u003Cul\\\\u003E\\\\u000A\\\\u003Cli\\\\u003E\\xe8\\x88\\x92\\xe9\\x80\\x82\\xe7\\x9a\\x84\\xe5\\x8a\\x9e\\xe5\\x85\\xac\\xe5\\xae\\xa4\\\\u003C/li\\\\u003E\\\\u000A\\\\u003Cli\\\\u003E\\xe6\\x97\\xa0\\xe9\\x99\\x90\\xe9\\x87\\x8f\\xe9\\x9b\\xb6\\xe9\\xa3\\x9f\\xe4\\xbe\\x9b\\xe5\\xba\\x94\\\\u003C/li\\\\u003E\\\\u000A\\\\u003Cli\\\\u003E\\xe5\\x90\\x84\\xe7\\xa7\\x8d\\xe5\\x85\\xb4\\xe8\\xb6\\xa3\\xe5\\xb0\\x8f\\xe7\\xbb\\x84\\\\u003C/li\\\\u003E\\\\u000A\\\\u003Cli\\\\u003E\\xe5\\x85\\x8d\\xe8\\xb4\\xb9\\xe8\\x87\\xaa\\xe5\\x8a\\xa9\\xe5\\x8d\\x88\\xe9\\xa4\\x90\\\\u003C/li\\\\u003E\\\\u000A\\\\u003Cli\\\\u003E\\xe6\\xaf\\x8f\\xe5\\xb9\\xb4\\xe5\\x8d\\x81\\xe4\\xb8\\x80\\xe5\\xa4\\xa9\\xe5\\xb8\\xa6\\xe8\\x96\\xaa\\xe5\\x81\\x87\\xef\\xbc\\x88\\xe5\\x85\\xa5\\xe8\\x81\\x8c\\xe6\\xaf\\x8f\\xe5\\xa4\\x9a\\xe4\\xb8\\x80\\xe5\\xb9\\xb4\\xe5\\xa4\\x9a\\xe4\\xb8\\x80\\xe5\\xa4\\xa9\\xef\\xbc\\x89\\\\u003C/li\\\\u003E\\\\u000A\\\\u003Cli\\\\u003E\\xe5\\x8f\\x8c\\xe4\\xbc\\x91\\xef\\xbc\\x8c\\xe4\\xb8\\x8d\\xe6\\x8f\\x90\\xe5\\x80\\xa1\\xe5\\x8a\\xa0\\xe7\\x8f\\xad\\\\u003C/li\\\\u003E\\\\u000A\\\\u003C/ul\\\\u003E\\\\u000A\\\\u003Cp\\\\u003E\\xe5\\xae\\x9e\\xe4\\xb9\\xa0\\xe8\\x96\\xaa\\xe8\\xb5\\x84 180 \\xef\\xbd\\x9e 200/\\xe5\\xa4\\xa9\\xef\\xbc\\x8c\\xe9\\x9d\\x9e\\xe5\\x8c\\x97\\xe4\\xba\\xac\\xe5\\x90\\x8c\\xe5\\xad\\xa6\\xe8\\xbf\\x98\\xe6\\x9c\\x89\\xe6\\xaf\\x8f\\xe6\\x9c\\x88 1500 \\xe4\\xbd\\x8f\\xe6\\x88\\xbf\\xe8\\xa1\\xa5\\xe5\\x8a\\xa9\\\\u000A\\xe5\\x85\\xa8\\xe8\\x81\\x8c\\xe8\\x96\\xaa\\xe8\\xb5\\x84 10k ~ 30k, \\xe6\\xaf\\x8f\\xe5\\xb9\\xb4\\xe4\\xb8\\xa4\\xe6\\xac\\xa1\\xe8\\xb0\\x83\\xe8\\x96\\xaa\\\\u000A\\xe8\\xaf\\xa6\\xe6\\x83\\x85\\xe5\\x8f\\xaf\\xe4\\xbb\\xa5\\xe6\\x9f\\xa5\\xe7\\x9c\\x8b \\\\u003Ca href\\\\u003D\\\\u0022http://www.xiachufang.com/job/\\\\u0022 rel\\\\u003D\\\\u0022nofollow\\\\u0022\\\\u003E\\xe4\\xb8\\x8b\\xe5\\x8e\\xa8\\xe6\\x88\\xbf\\xe6\\x8b\\x9b\\xe8\\x81\\x98\\xe7\\xbd\\x91\\xe7\\xab\\x99\\\\u003C/a\\\\u003E\\\\u000A\\xe4\\xb9\\x9f\\xe8\\xae\\xb8\\xe4\\xbd\\xa0\\xe5\\xb9\\xb6\\xe4\\xb8\\x8d\\xe6\\x83\\xb3\\xe6\\x8d\\xa2\\xe5\\xb7\\xa5\\xe4\\xbd\\x9c\\xef\\xbc\\x8c\\xe4\\xbd\\x86\\xe6\\x98\\xaf\\xe5\\xaf\\xb9\\xe6\\x88\\x91\\xe4\\xbb\\xac\\xe6\\x89\\x80\\xe5\\x81\\x9a\\xe7\\x9a\\x84\\xe4\\xba\\x8b\\xe6\\x84\\x9f\\xe5\\x85\\xb4\\xe8\\xb6\\xa3\\xef\\xbc\\x8c\\xe6\\x88\\x96\\xe8\\x80\\x85\\xe6\\x83\\xb3\\xe4\\xba\\x86\\xe8\\xa7\\xa3\\xe5\\x88\\x9b\\xe4\\xb8\\x9a\\xe8\\xbf\\x99\\xe4\\xbb\\xb6\\xe4\\xba\\x8b\\xe6\\x83\\x85\\xef\\xbc\\x8c\\xe4\\xb9\\x9f\\xe6\\xac\\xa2\\xe8\\xbf\\x8e\\xe6\\x9d\\xa5\\xe4\\xb8\\x8e\\xe6\\x88\\x91\\xe4\\xbb\\xac\\xe8\\x81\\x8a\\xe8\\x81\\x8a\\xe3\\x80\\x82\\\\u003C/p\\\\u003E\\\\u000A\\\\u003Ch2\\\\u003E\\xe8\\x81\\x94\\xe7\\xb3\\xbb\\xe6\\x96\\xb9\\xe5\\xbc\\x8f\\\\u003C/h2\\\\u003E\\\\u000A\\\\u003Cp\\\\u003E\\xe5\\x85\\xac\\xe5\\x8f\\xb8\\xe5\\x9c\\xb0\\xe5\\x9d\\x80\\xef\\xbc\\x9a\\xe5\\x8c\\x97\\xe4\\xba\\xac\\xe5\\xb8\\x82\\xe6\\xb5\\xb7\\xe6\\xb7\\x80\\xe5\\x8c\\xba\\xe9\\xbb\\x91\\xe6\\xb3\\x89\\xe8\\xb7\\xaf\\xe5\\xae\\x9d\\xe7\\x9b\\x9b\\xe5\\xb9\\xbf\\xe5\\x9c\\xba\\\\u003C/p\\\\u003E\\\\u000A\\\\u003Cp\\\\u003E\\xe9\\x82\\xae\\xe4\\xbb\\xb6\\xe4\\xb8\\xbb\\xe9\\xa2\\x98 \\xe5\\xba\\x94\\xe8\\x81\\x98\\xe5\\xb2\\x97\\xe4\\xbd\\x8d+\\xe5\\xa7\\x93\\xe5\\x90\\x8d+\\xe6\\x9d\\xa5\\xe8\\x87\\xaa v2ex\\xef\\xbc\\x8c\\xe4\\xbe\\x8b\\xe5\\xa6\\x82\\\\u0022\\xe5\\xba\\x94\\xe8\\x81\\x98 iOS + grumpy + \\xe6\\x9d\\xa5\\xe8\\x87\\xaa v2ex\\\\u0022\\\\u003C/p\\\\u003E\\\\u000A\",\\n        \"replies\" : 58,\\n        \"member\" : {\\n            \"id\" : 151481,\\n            \"username\" : \"Grumpy\",\\n            \"tagline\" : \"\",\\n            \"avatar_mini\" : \"//v2ex.assets.uxengine.net/avatar/3904/ffc3/151481_mini.png?m=1459941347\",\\n            \"avatar_normal\" : \"//v2ex.assets.uxengine.net/avatar/3904/ffc3/151481_normal.png?m=1459941347\",\\n            \"avatar_large\" : \"//v2ex.assets.uxengine.net/avatar/3904/ffc3/151481_large.png?m=1459941347\"\\n        },\\n        \"node\" : {\\n            \"id\" : 43,\\n            \"name\" : \"jobs\",\\n            \"title\" : \"\\xe9\\x85\\xb7\\xe5\\xb7\\xa5\\xe4\\xbd\\x9c\",\\n            \"title_alternative\" : \"Jobs\",\\n            \"url\" : \"http://www.v2ex.com/go/jobs\",\\n            \"topics\" : 20459,\\n            \"avatar_mini\" : \"//v2ex.assets.uxengine.net/navatar/17e6/2166/43_mini.png?m=1495610093\",\\n            \"avatar_normal\" : \"//v2ex.assets.uxengine.net/navatar/17e6/2166/43_normal.png?m=1495610093\",\\n            \"avatar_large\" : \"//v2ex.assets.uxengine.net/navatar/17e6/2166/43_large.png?m=1495610093\"\\n        },\\n        \"created\" : 1495698555,\\n        \"last_modified\" : 1495698555,\\n        \"last_touched\" : 1495764442\\n    },\\n    \\n    {\\n        \"id\" : 363781,\\n        \"title\" : \"\\xe8\\xa3\\x81\\xe5\\x91\\x98\\xe4\\xba\\x86, \\xe7\\xad\\xbe\\xe4\\xba\\x86 N+1 \\xe8\\xb5\\x94\\xe5\\x81\\xbf\\xe5\\x8d\\x8f\\xe8\\xae\\xae\\xe5\\xa4\\x96\\xe8\\xbf\\x98\\xe5\\xa1\\xab\\xe4\\xba\\x86\\xe4\\xb8\\xaa\\xe8\\xbe\\x9e\\xe8\\x81\\x8c\\xe4\\xb9\\xa6, \\xe8\\xbf\\x99\\xe6\\x98\\xaf\\xe4\\xbb\\x80\\xe4\\xb9\\x88\\xe5\\xa5\\x97\\xe8\\xb7\\xaf?\",\\n        \"url\" : \"http://www.v2ex.com/t/363781\",\\n        \"content\" : \"\\xe5\\xb7\\xa5\\xe4\\xbd\\x9c\\xe6\\x97\\xb6\\xe9\\x97\\xb4\\xe5\\xb7\\xae\\xe4\\xb8\\x80\\xe4\\xba\\x9b\\xe6\\xbb\\xa1\\xe4\\xb8\\x80\\xe5\\xb9\\xb4, \\xe7\\xad\\xbe\\xe4\\xba\\x86\\xe4\\xb8\\xaa 1+1, \\xe5\\xb0\\xb1\\xe6\\x98\\xaf HR \\xe8\\xaf\\xb4\\xe4\\xb8\\xba\\xe4\\xba\\x86\\xe6\\x88\\x91\\xe4\\xb8\\x8b\\xe5\\xae\\xb6\\xe7\\x9a\\x84\\xe8\\x83\\x8c\\xe8\\xb0\\x83\\xe4\\xbb\\xa5\\xe5\\x8f\\x8a\\xe5\\x85\\xb6\\xe4\\xbb\\x96\\xe4\\xb8\\x80\\xe4\\xba\\x9b\\xe4\\xba\\x8b\\xe6\\x83\\x85\\xe6\\xaf\\x94\\xe8\\xbe\\x83\\xe6\\x96\\xb9\\xe4\\xbe\\xbf\\xe8\\xae\\xa9\\xe6\\x88\\x91\\xe5\\x86\\x8d\\xe5\\xa1\\xab\\xe4\\xb8\\x80\\xe4\\xbb\\xbd\\xe8\\xbe\\x9e\\xe8\\x81\\x8c\\xe4\\xb9\\xa6, \\xe8\\xbf\\xb7\\xe8\\xbf\\xb7\\xe7\\xb3\\x8a\\xe7\\xb3\\x8a\\xe5\\xb0\\xb1\\xe5\\xa1\\xab\\xe4\\xba\\x86, \\xe5\\xba\\x94\\xe8\\xaf\\xa5\\xe6\\xb2\\xa1\\xe8\\xb8\\xa9\\xe5\\x9d\\x91\\xe5\\x90\\xa7?\",\\n        \"content_rendered\" : \"\\xe5\\xb7\\xa5\\xe4\\xbd\\x9c\\xe6\\x97\\xb6\\xe9\\x97\\xb4\\xe5\\xb7\\xae\\xe4\\xb8\\x80\\xe4\\xba\\x9b\\xe6\\xbb\\xa1\\xe4\\xb8\\x80\\xe5\\xb9\\xb4, \\xe7\\xad\\xbe\\xe4\\xba\\x86\\xe4\\xb8\\xaa 1+1, \\xe5\\xb0\\xb1\\xe6\\x98\\xaf HR \\xe8\\xaf\\xb4\\xe4\\xb8\\xba\\xe4\\xba\\x86\\xe6\\x88\\x91\\xe4\\xb8\\x8b\\xe5\\xae\\xb6\\xe7\\x9a\\x84\\xe8\\x83\\x8c\\xe8\\xb0\\x83\\xe4\\xbb\\xa5\\xe5\\x8f\\x8a\\xe5\\x85\\xb6\\xe4\\xbb\\x96\\xe4\\xb8\\x80\\xe4\\xba\\x9b\\xe4\\xba\\x8b\\xe6\\x83\\x85\\xe6\\xaf\\x94\\xe8\\xbe\\x83\\xe6\\x96\\xb9\\xe4\\xbe\\xbf\\xe8\\xae\\xa9\\xe6\\x88\\x91\\xe5\\x86\\x8d\\xe5\\xa1\\xab\\xe4\\xb8\\x80\\xe4\\xbb\\xbd\\xe8\\xbe\\x9e\\xe8\\x81\\x8c\\xe4\\xb9\\xa6, \\xe8\\xbf\\xb7\\xe8\\xbf\\xb7\\xe7\\xb3\\x8a\\xe7\\xb3\\x8a\\xe5\\xb0\\xb1\\xe5\\xa1\\xab\\xe4\\xba\\x86, \\xe5\\xba\\x94\\xe8\\xaf\\xa5\\xe6\\xb2\\xa1\\xe8\\xb8\\xa9\\xe5\\x9d\\x91\\xe5\\x90\\xa7?\",\\n        \"replies\" : 54,\\n        \"member\" : {\\n            \"id\" : 172741,\\n            \"username\" : \"Hstar\",\\n            \"tagline\" : \"\",\\n            \"avatar_mini\" : \"//v2ex.assets.uxengine.net/gravatar/4b4f5fde6b585013330c49a0311c1d68?s=24&d=retro\",\\n            \"avatar_normal\" : \"//v2ex.assets.uxengine.net/gravatar/4b4f5fde6b585013330c49a0311c1d68?s=48&d=retro\",\\n            \"avatar_large\" : \"//v2ex.assets.uxengine.net/gravatar/4b4f5fde6b585013330c49a0311c1d68?s=73&d=retro\"\\n        },\\n        \"node\" : {\\n            \"id\" : 770,\\n            \"name\" : \"career\",\\n            \"title\" : \"\\xe8\\x81\\x8c\\xe5\\x9c\\xba\\xe8\\xaf\\x9d\\xe9\\xa2\\x98\",\\n            \"title_alternative\" : \"Career\",\\n            \"url\" : \"http://www.v2ex.com/go/career\",\\n            \"topics\" : 2692,\\n            \"avatar_mini\" : \"//v2ex.assets.uxengine.net/navatar/4ea0/6fbc/770_mini.png?m=1495610120\",\\n            \"avatar_normal\" : \"//v2ex.assets.uxengine.net/navatar/4ea0/6fbc/770_normal.png?m=1495610120\",\\n            \"avatar_large\" : \"//v2ex.assets.uxengine.net/navatar/4ea0/6fbc/770_large.png?m=1495610120\"\\n        },\\n        \"created\" : 1495700693,\\n        \"last_modified\" : 1495700693,\\n        \"last_touched\" : 1495763632\\n    },\\n    \\n    {\\n        \"id\" : 363729,\\n        \"title\" : \"\\xe5\\xbf\\xab\\xe6\\x9d\\xa5\\xe6\\x8b\\x8d\\xe5\\x91\\x80\\xef\\xbc\\x8c\\xe5\\x81\\x9a\\xe4\\xba\\x86\\xe4\\xb8\\xaa\\xe7\\x89\\xb9\\xe7\\x83\\x82\\xe5\\xa4\\xa7\\xe8\\xa1\\x97\\xe7\\x9a\\x84\\xe6\\xb7\\x98\\xe5\\xae\\xa2\\xe7\\xbd\\x91\\xe7\\xab\\x99\",\\n        \"url\" : \"http://www.v2ex.com/t/363729\",\\n        \"content\" : \"\\xe5\\x9c\\xb0\\xe5\\x9d\\x80\\xef\\xbc\\x9a https://huitaodang.com\\\\u000D\\\\u000A\\\\u000D\\\\u000A\\xe6\\x89\\x80\\xe6\\x9c\\x89\\xe6\\x95\\xb0\\xe6\\x8d\\xae\\xe9\\x83\\xbd\\xe6\\x98\\xaf\\xe9\\x80\\x9a\\xe8\\xbf\\x87\\xe7\\x88\\xac\\xe6\\xb7\\x98\\xe5\\xae\\x9d\\xe8\\x81\\x94\\xe7\\x9b\\x9f\\xe4\\xb8\\x8a\\xe9\\x9d\\xa2\\xe7\\x9a\\x84\\xe6\\x95\\xb0\\xe6\\x8d\\xae\\xef\\xbc\\x8c\\xe6\\x88\\x91\\xe8\\xb4\\x9f\\xe8\\xb4\\xa3\\xe5\\x89\\x8d\\xe7\\xab\\xaf\\xef\\xbc\\x8c\",\\n        \"content_rendered\" : \"\\\\u003Cp\\\\u003E\\xe5\\x9c\\xb0\\xe5\\x9d\\x80\\xef\\xbc\\x9a \\\\u003Ca href\\\\u003D\\\\u0022https://huitaodang.com\\\\u0022 rel\\\\u003D\\\\u0022nofollow\\\\u0022\\\\u003Ehttps://huitaodang.com\\\\u003C/a\\\\u003E\\\\u003C/p\\\\u003E\\\\u000A\\\\u003Cp\\\\u003E\\xe6\\x89\\x80\\xe6\\x9c\\x89\\xe6\\x95\\xb0\\xe6\\x8d\\xae\\xe9\\x83\\xbd\\xe6\\x98\\xaf\\xe9\\x80\\x9a\\xe8\\xbf\\x87\\xe7\\x88\\xac\\xe6\\xb7\\x98\\xe5\\xae\\x9d\\xe8\\x81\\x94\\xe7\\x9b\\x9f\\xe4\\xb8\\x8a\\xe9\\x9d\\xa2\\xe7\\x9a\\x84\\xe6\\x95\\xb0\\xe6\\x8d\\xae\\xef\\xbc\\x8c\\xe6\\x88\\x91\\xe8\\xb4\\x9f\\xe8\\xb4\\xa3\\xe5\\x89\\x8d\\xe7\\xab\\xaf\\xef\\xbc\\x8c\\\\u003C/p\\\\u003E\\\\u000A\",\\n        \"replies\" : 53,\\n        \"member\" : {\\n            \"id\" : 232205,\\n            \"username\" : \"xiaomeimei\",\\n            \"tagline\" : \"\\xe6\\x88\\x91\\xe4\\xb8\\x80\\xe5\\xae\\x9a\\xe6\\x98\\xaf\\xe4\\xb8\\xaa\\xe8\\x90\\x8c\\xe5\\xa6\\xb9\\xe5\\xad\\x90\\xef\\xbc\\x8c\\xe5\\x97\\xaf\\xef\\xbc\\x8c\\xe6\\x98\\xaf\\xe7\\x9a\\x84\\xef\\xbc\\x81\",\\n            \"avatar_mini\" : \"//v2ex.assets.uxengine.net/avatar/39a2/69d4/232205_mini.png?m=1495591832\",\\n            \"avatar_normal\" : \"//v2ex.assets.uxengine.net/avatar/39a2/69d4/232205_normal.png?m=1495591832\",\\n            \"avatar_large\" : \"//v2ex.assets.uxengine.net/avatar/39a2/69d4/232205_large.png?m=1495591832\"\\n        },\\n        \"node\" : {\\n            \"id\" : 17,\\n            \"name\" : \"create\",\\n            \"title\" : \"\\xe5\\x88\\x86\\xe4\\xba\\xab\\xe5\\x88\\x9b\\xe9\\x80\\xa0\",\\n            \"title_alternative\" : \"Create\",\\n            \"url\" : \"http://www.v2ex.com/go/create\",\\n            \"topics\" : 7442,\\n            \"avatar_mini\" : \"//v2ex.assets.uxengine.net/navatar/70ef/df2e/17_mini.png?m=1495609378\",\\n            \"avatar_normal\" : \"//v2ex.assets.uxengine.net/navatar/70ef/df2e/17_normal.png?m=1495609378\",\\n            \"avatar_large\" : \"//v2ex.assets.uxengine.net/navatar/70ef/df2e/17_large.png?m=1495609378\"\\n        },\\n        \"created\" : 1495693053,\\n        \"last_modified\" : 1495693053,\\n        \"last_touched\" : 1495764197\\n    },\\n    \\n    {\\n        \"id\" : 363671,\\n        \"title\" : \"\\xe4\\xbd\\xa0\\xe4\\xbb\\xac mac os \\xe4\\xb8\\x8b\\xe9\\x83\\xbd\\xe7\\x94\\xa8\\xe4\\xbb\\x80\\xe4\\xb9\\x88\\xe5\\x8a\\xa0\\xe5\\x8e\\x8b\\xe5\\xb7\\xa5\\xe5\\x85\\xb7??\",\\n        \"url\" : \"http://www.v2ex.com/t/363671\",\\n        \"content\" : \"\\xe5\\xa4\\x9a\\xe4\\xb8\\xaa\\xe5\\xb7\\xa5\\xe5\\x85\\xb7\\xe5\\x88\\x87\\xe6\\x8d\\xa2\\xe7\\x94\\xa8,\\xe8\\xbf\\x98\\xe6\\x98\\xaf\\xe4\\xb8\\x80\\xe4\\xb8\\xaa\\xe5\\xb7\\xa5\\xe5\\x85\\xb7\\xe8\\xa7\\xa3\\xe5\\x8d\\x83\\xe6\\x84\\x81.\\\\u000D\\\\u000A\\\\u000D\\\\u000A\\xe5\\x85\\xb7\\xe4\\xbd\\x93\\xe6\\x8e\\xa8\\xe8\\x8d\\x90\\xe5\\x93\\xaa\\xe4\\xb8\\xaa\\xe5\\xb7\\xa5\\xe5\\x85\\xb7??\",\\n        \"content_rendered\" : \"\\\\u003Cp\\\\u003E\\xe5\\xa4\\x9a\\xe4\\xb8\\xaa\\xe5\\xb7\\xa5\\xe5\\x85\\xb7\\xe5\\x88\\x87\\xe6\\x8d\\xa2\\xe7\\x94\\xa8,\\xe8\\xbf\\x98\\xe6\\x98\\xaf\\xe4\\xb8\\x80\\xe4\\xb8\\xaa\\xe5\\xb7\\xa5\\xe5\\x85\\xb7\\xe8\\xa7\\xa3\\xe5\\x8d\\x83\\xe6\\x84\\x81.\\\\u003C/p\\\\u003E\\\\u000A\\\\u003Cp\\\\u003E\\xe5\\x85\\xb7\\xe4\\xbd\\x93\\xe6\\x8e\\xa8\\xe8\\x8d\\x90\\xe5\\x93\\xaa\\xe4\\xb8\\xaa\\xe5\\xb7\\xa5\\xe5\\x85\\xb7??\\\\u003C/p\\\\u003E\\\\u000A\",\\n        \"replies\" : 43,\\n        \"member\" : {\\n            \"id\" : 34223,\\n            \"username\" : \"zyllwy\",\\n            \"tagline\" : \"\",\\n            \"avatar_mini\" : \"//v2ex.assets.uxengine.net/gravatar/38c9a9b43eeccbeadffa8ce0588aaf90?s=24&d=retro\",\\n            \"avatar_normal\" : \"//v2ex.assets.uxengine.net/gravatar/38c9a9b43eeccbeadffa8ce0588aaf90?s=48&d=retro\",\\n            \"avatar_large\" : \"//v2ex.assets.uxengine.net/gravatar/38c9a9b43eeccbeadffa8ce0588aaf90?s=73&d=retro\"\\n        },\\n        \"node\" : {\\n            \"id\" : 22,\\n            \"name\" : \"macos\",\\n            \"title\" : \"macOS\",\\n            \"title_alternative\" : \"macOS\",\\n            \"url\" : \"http://www.v2ex.com/go/macos\",\\n            \"topics\" : 10096,\\n            \"avatar_mini\" : \"//v2ex.assets.uxengine.net/navatar/b6d7/67d2/22_mini.png?m=1495503066\",\\n            \"avatar_normal\" : \"//v2ex.assets.uxengine.net/navatar/b6d7/67d2/22_normal.png?m=1495503066\",\\n            \"avatar_large\" : \"//v2ex.assets.uxengine.net/navatar/b6d7/67d2/22_large.png?m=1495503066\"\\n        },\\n        \"created\" : 1495681489,\\n        \"last_modified\" : 1495681489,\\n        \"last_touched\" : 1495733471\\n    },\\n    \\n    {\\n        \"id\" : 363846,\\n        \"title\" : \"Android \\xe6\\x83\\xb3\\xe7\\x9c\\x81\\xe5\\xbf\\x83\\xef\\xbc\\x8c\\xe9\\xa6\\x96\\xe5\\x85\\x88\\xe4\\xbd\\xa0\\xe5\\xbe\\x97\\xe8\\x8a\\xb1\\xe6\\x8e\\x89\\xe4\\xb8\\x80\\xe4\\xba\\x9b\\xe6\\x97\\xb6\\xe9\\x97\\xb4\",\\n        \"url\" : \"http://www.v2ex.com/t/363846\",\\n        \"content\" : \"\\xe5\\x9b\\xa0\\xe4\\xb8\\xba\\xe5\\x88\\xb7\\xe4\\xba\\x86 GPE Rom\\xef\\xbc\\x8c\\xe9\\x9d\\x9e\\xe5\\xb8\\xb8\\xe7\\xa8\\xb3\\xe5\\xae\\x9a\\xef\\xbc\\x8c\\xe5\\xb7\\xb2\\xe7\\xbb\\x8f\\xe4\\xb8\\x80\\xe5\\xb9\\xb4\\xe5\\xa4\\x9a\\xe4\\xb8\\x8d\\xe9\\x9c\\x80\\xe8\\xa6\\x81\\xe6\\x8a\\x98\\xe8\\x85\\xbe Rom \\xe4\\xba\\x86\\xef\\xbc\\x8c\\xe4\\xb8\\x8a\\xe5\\x91\\xa8\\xe5\\x8f\\x91\\xe8\\xa7\\x89\\xe6\\x89\\x8b\\xe9\\x87\\x8c\\xe7\\x9a\\x84 Android \\xe6\\x9c\\xba\\xe8\\x8e\\xab\\xe5\\x90\\x8d\\xe7\\x9a\\x84\\xe5\\x8f\\x91\\xe7\\x83\\xab\\xef\\xbc\\x88\\xe5\\x8f\\xaf\\xe8\\x83\\xbd\\xe6\\x98\\xaf\\xe4\\xb9\\x8b\\xe5\\x89\\x8d\\xe5\\xb0\\x8f\\xe5\\x88\\xb7\\xe4\\xba\\x86\\xe4\\xb8\\x80\\xe4\\xb8\\xaa gpe \\xe5\\xae\\x89\\xe5\\x85\\xa8\\xe8\\xa1\\xa5\\xe4\\xb8\\x81\\xe7\\x9a\\x84\\xe9\\x97\\xae\\xe9\\xa2\\x98\\xef\\xbc\\x89\\xef\\xbc\\x8c\\xe6\\x95\\x85\\xe6\\x89\\x93\\xe7\\xae\\x97\\xe7\\xbb\\x99\\xe6\\x89\\x8b\\xe6\\x9c\\xba\\xe5\\x81\\x9a\\xe4\\xb8\\x80\\xe6\\xac\\xa1\\xe4\\xb9\\x85\\xe8\\xbf\\x9d\\xe7\\x9a\\x84\\xe5\\x8f\\x8c\\xe6\\xb8\\x85\\xef\\xbc\\x8c\\xe7\\x9c\\x8b\\xe7\\x9c\\x8b\\xe8\\x83\\xbd\\xe4\\xb8\\x8d\\xe8\\x83\\xbd\\xe8\\xa7\\xa3\\xe5\\x86\\xb3\\xe9\\x97\\xae\\xe9\\xa2\\x98\\xe3\\x80\\x82\\xe5\\xa4\\xa7\\xe6\\xa6\\x82\\xe6\\xb5\\x81\\xe7\\xa8\\x8b\\xe6\\x98\\xaf\\xe8\\xbf\\x99\\xe6\\xa0\\xb7\\xe7\\x9a\\x84\\xef\\xbc\\x9a\\\\u000D\\\\u000A\\\\u000D\\\\u000A\\xe5\\x85\\x88\\xe7\\x94\\xa8\\xe9\\x92\\x9b\\xe5\\xa4\\x87\\xe4\\xbb\\xbd\\xe6\\x8a\\x8a 200 \\xe4\\xb8\\xaa\\xe5\\xba\\x94\\xe7\\x94\\xa8\\xe5\\x85\\xa8\\xe9\\x83\\xa8\\xe5\\xa4\\x87\\xe4\\xbb\\xbd\\xe4\\xb8\\x80\\xe4\\xb8\\x8b\\xef\\xbc\\x8c\\xe7\\x84\\xb6\\xe5\\x90\\x8e\\xe8\\xbf\\x9b Rec \\xe6\\x89\\xa7\\xe8\\xa1\\x8c\\xe5\\x8f\\x8c\\xe6\\xb8\\x85\\xef\\xbc\\x8c\\xe4\\xb8\\x80\\xe7\\x9b\\xb4\\xe6\\x8a\\x98\\xe8\\x85\\xbe\\xe5\\x88\\xb0\\xe8\\xa3\\x85\\xe5\\xa5\\xbd SS \\xe5\\x92\\x8c\\xe9\\x92\\x9b\\xe5\\xa4\\x87\\xe4\\xbb\\xbd\\xef\\xbc\\x8c\\xe5\\x90\\x8e\\xe9\\x9d\\xa2\\xe5\\xb0\\xb1\\xe5\\xbc\\x80\\xe5\\xa7\\x8b\\xe7\\x94\\xa8\\xe9\\x92\\x9b\\xe5\\xa4\\x87\\xe4\\xbb\\xbd\\xe6\\x81\\xa2\\xe5\\xa4\\x8d\\xe4\\xb8\\x80\\xe5\\x88\\x87\\xe3\\x80\\x82\\\\u000D\\\\u000A\\\\u000D\\\\u000A\\xe5\\x9b\\xa0\\xe4\\xb8\\xba\\xe7\\xbd\\x95\\xe8\\xa7\\x81\\xe7\\x9a\\x84\\xe6\\x89\\x8b\\xe6\\xae\\x8b\\xe4\\xba\\x86\\xe4\\xb8\\x80\\xe4\\xb8\\x8b\\xef\\xbc\\x88\\xe4\\xb8\\x8d\\xe6\\x83\\xb3\\xe6\\x8f\\x90\\xe4\\xba\\x86\\xef\\xbc\\x89\\xef\\xbc\\x8c\\xe6\\x8a\\x8a\\xe4\\xbf\\x9d\\xe5\\xad\\x98\\xe5\\x9c\\xa8 SD \\xe5\\x8d\\xa1\\xe4\\xb8\\x8a\\xe7\\x9a\\x84\\xe9\\x92\\x9b\\xe5\\xa4\\x87\\xe4\\xbb\\xbd\\xe6\\x96\\x87\\xe4\\xbb\\xb6\\xe5\\xa4\\xb9\\xe7\\xbb\\x99\\xe5\\x88\\xa0\\xe4\\xba\\x86\\xe3\\x80\\x82\\xe7\\x84\\xb6\\xe5\\x90\\x8e\\xe5\\x99\\xa9\\xe6\\xa2\\xa6\\xe5\\xbc\\x80\\xe5\\xa7\\x8b\\xe4\\xba\\x86\\xe3\\x80\\x82\\xe3\\x80\\x82\\xe3\\x80\\x82\\\\u000D\\\\u000A\\\\u000D\\\\u000A\\xe6\\x81\\xa2\\xe5\\xa4\\x8d\\xe6\\x95\\xb0\\xe6\\x8d\\xae\\xe7\\x9a\\x84\\xe5\\x90\\x84\\xe7\\xa7\\x8d\\xe6\\x96\\xb9\\xe6\\xb3\\x95\\xe9\\x83\\xbd\\xe8\\xaf\\x95\\xe4\\xba\\x86\\xef\\xbc\\x88\\xe5\\x8c\\x85\\xe6\\x8b\\xac\\xe6\\xb7\\x98\\xe5\\xae\\x9d\\xef\\xbc\\x89\\xef\\xbc\\x8c\\xe5\\xbd\\xbb\\xe5\\xba\\x95\\xe6\\x97\\xa0\\xe6\\x9e\\x9c\\xe3\\x80\\x82\\xe5\\x90\\x8e\\xe6\\x9d\\xa5\\xe5\\x8f\\xaa\\xe5\\xa5\\xbd\\xe8\\xae\\xa4\\xe4\\xba\\x86\\xef\\xbc\\x8c\\xe5\\xbd\\x93\\xe5\\xa4\\xa9\\xe6\\x88\\x91\\xe7\\x9d\\xa1\\xe5\\xbe\\x97\\xe5\\xb7\\xa8\\xe6\\x99\\x9a\\xef\\xbc\\x8c\\xe5\\x9b\\xa0\\xe4\\xb8\\xba\\xe4\\xb8\\x80\\xe8\\xbe\\xb9\\xe9\\x83\\x81\\xe9\\x97\\xb7\\xef\\xbc\\x8c\\xe4\\xb8\\x80\\xe8\\xbe\\xb9\\xe5\\x87\\xad\\xe7\\x9d\\x80\\xe7\\x9f\\xad\\xe6\\x9a\\x82\\xe7\\x9a\\x84\\xe8\\xae\\xb0\\xe5\\xbf\\x86\\xef\\xbc\\x8c\\xe4\\xb8\\x80\\xe9\\xa1\\xb9\\xe4\\xb8\\x80\\xe9\\xa1\\xb9\\xe7\\x9a\\x84\\xe8\\xbf\\x9b\\xe8\\xa1\\x8c\\xe6\\x81\\xa2\\xe5\\xa4\\x8d\\xe5\\xb7\\xa5\\xe4\\xbd\\x9c\\xe3\\x80\\x82\\xe3\\x80\\x82\\xe3\\x80\\x82\\xe6\\x82\\xb2\\xe6\\x83\\xa8\\xe6\\xb5\\x81\\xe7\\xa8\\x8b\\xe6\\x98\\xaf\\xe8\\xbf\\x99\\xe6\\xa0\\xb7\\xe7\\x9a\\x84\\xef\\xbc\\x9a\\\\u000D\\\\u000A\\\\u000D\\\\u000A#### \\xe8\\x81\\x94\\xe7\\xb3\\xbb\\xe4\\xba\\xba\\xe3\\x80\\x81\\xe5\\xba\\x94\\xe7\\x94\\xa8\\\\u000D\\\\u000A\\\\u000D\\\\u000A\\xe5\\xa5\\xbd\\xe5\\x9c\\xa8\\xe6\\x88\\x91\\xe4\\xb8\\x80\\xe7\\x9b\\xb4\\xe5\\x9c\\xa8 play \\xe4\\xb8\\x8b\\xe5\\xba\\x94\\xe7\\x94\\xa8\\xef\\xbc\\x8c\\xe6\\x89\\x80\\xe4\\xbb\\xa5\\xe5\\xa4\\xa7\\xe9\\x83\\xa8\\xe5\\x88\\x86\\xe5\\xba\\x94\\xe7\\x94\\xa8\\xe9\\x83\\xbd\\xe8\\x83\\xbd\\xe4\\xbb\\x8e play \\xe9\\x87\\x8d\\xe6\\x96\\xb0\\xe4\\xb8\\x8b\\xe8\\xbd\\xbd\\xef\\xbc\\x8c\\xe4\\xbd\\x86\\xe6\\x98\\xaf\\xe6\\x95\\xb0\\xe6\\x8d\\xae\\xe4\\xb8\\x8d\\xe5\\xad\\x98\\xe5\\x9c\\xa8\\xe4\\xba\\x86\\xef\\xbc\\x8cplay \\xe6\\xb2\\xa1\\xe6\\x9c\\x89\\xe7\\x9a\\x84\\xe5\\xba\\x94\\xe7\\x94\\xa8\\xe8\\xbf\\x98\\xe8\\xa6\\x81\\xe7\\x94\\xa8\\xe9\\x85\\xb7\\xe5\\xae\\x89\\xe6\\x9d\\xa5\\xe8\\xa1\\xa5\\xe9\\xbd\\x90\\xef\\xbc\\x8c\\xe8\\xbf\\x99\\xe9\\x83\\xa8\\xe5\\x88\\x86\\xe5\\xb0\\xb1\\xe8\\xa6\\x81\\xe5\\x87\\xad\\xe8\\xae\\xb0\\xe5\\xbf\\x86\\xe4\\xba\\x86\\xef\\xbc\\x8c\\xe8\\xae\\xb0\\xe4\\xb8\\x8d\\xe4\\xbd\\x8f\\xe7\\x9a\\x84\\xe5\\x8f\\xaa\\xe8\\x83\\xbd\\xe4\\xbb\\xa5\\xe5\\x90\\x8e\\xe7\\x94\\xa8\\xe5\\x88\\xb0\\xe7\\x9a\\x84\\xe6\\x97\\xb6\\xe5\\x80\\x99\\xe5\\x86\\x8d\\xe4\\xb8\\x8b\\xe3\\x80\\x82\\xe8\\x87\\xb3\\xe4\\xbb\\x8a\\xe4\\xb9\\x9f\\xe6\\xb2\\xa1\\xe5\\xbc\\x84\\xe6\\x87\\x82 Android \\xe8\\x87\\xaa\\xe5\\xb8\\xa6\\xe7\\x9a\\x84\\xe4\\xba\\x91\\xe5\\xa4\\x87\\xe4\\xbb\\xbd\\xe6\\x9c\\x89\\xe5\\x95\\xa5\\xe7\\x94\\xa8\\xef\\xbc\\x8c\\xe6\\x84\\x9f\\xe8\\xa7\\x89\\xe4\\xbb\\x96\\xe5\\x8f\\xaa\\xe8\\x83\\xbd\\xe5\\xa4\\x87\\xe4\\xbb\\xbd\\xe4\\xb8\\xaa\\xe8\\x81\\x94\\xe7\\xb3\\xbb\\xe4\\xba\\xba\\xef\\xbc\\x88\\xe6\\x88\\x96\\xe8\\x80\\x85\\xe9\\x83\\xa8\\xe5\\x88\\x86\\xe6\\x95\\xb0\\xe6\\x8d\\xae\\xef\\xbc\\x9f\\xef\\xbc\\x89\\xe8\\x80\\x8c\\xe5\\xb7\\xb2\\xef\\xbc\\x8c\\xe8\\x80\\x8c\\xe5\\x90\\x8c\\xe6\\xa0\\xb7\\xe6\\x98\\xaf iOS \\xe7\\xb3\\xbb\\xe7\\xbb\\x9f\\xe4\\xb8\\xad\\xe5\\x86\\x85\\xe7\\xbd\\xae\\xe7\\x9a\\x84 iCloud\\xef\\xbc\\x8c\\xe4\\xb8\\x8d\\xe4\\xbb\\x85\\xe8\\x83\\xbd\\xe4\\xba\\x91\\xe5\\xa4\\x87\\xe4\\xbb\\xbd\\xe5\\x85\\xa8\\xe9\\x83\\xa8\\xe5\\xba\\x94\\xe7\\x94\\xa8\\xe5\\x8f\\x8a\\xe6\\x95\\xb0\\xe6\\x8d\\xae\\xef\\xbc\\x8c\\xe4\\xb8\\x94\\xe6\\x93\\x8d\\xe4\\xbd\\x9c\\xe7\\xae\\x80\\xe5\\x8d\\x95\\xef\\xbc\\x8c\\xe9\\x99\\xa4\\xe4\\xba\\x86\\xe7\\xbd\\x91\\xe7\\xbb\\x9c\\xe6\\x8a\\xbd\\xe9\\xa3\\x8e\\xe3\\x80\\x82\\\\u000D\\\\u000A\\\\u000D\\\\u000A#### nova \\xe8\\xae\\xbe\\xe7\\xbd\\xae\\\\u000D\\\\u000A\\\\u000D\\\\u000A\\xe6\\xa1\\x8c\\xe9\\x9d\\xa2\\xe6\\x8e\\x92\\xe5\\x88\\x97\\xe6\\x98\\xaf\\xe6\\x9c\\x80\\xe7\\xbb\\x9d\\xe6\\x9c\\x9b\\xe7\\x9a\\x84\\xef\\xbc\\x8c\\xe5\\x9b\\xa0\\xe4\\xb8\\xba\\xe5\\xa4\\xaa\\xe4\\xbf\\xa1\\xe4\\xbb\\xbb\\xe9\\x92\\x9b\\xe5\\xa4\\x87\\xe4\\xbb\\xbd\\xef\\xbc\\x8c\\xe5\\x9f\\xba\\xe6\\x9c\\xac\\xe4\\xb8\\x8a nova \\xe8\\xae\\xbe\\xe7\\xbd\\xae\\xe6\\xb2\\xa1\\xe6\\x80\\x8e\\xe4\\xb9\\x88\\xe5\\x8d\\x95\\xe7\\x8b\\xac\\xe5\\xa4\\x87\\xe4\\xbb\\xbd\\xe8\\xbf\\x87\\xef\\xbc\\x8c\\xe5\\x8f\\xaa\\xe5\\xa5\\xbd\\xe5\\x87\\xad\\xe7\\x9d\\x80\\xe8\\xae\\xb0\\xe5\\xbf\\x86\\xe4\\xb8\\x80\\xe4\\xb8\\xaa\\xe4\\xb8\\xaa\\xe5\\xbe\\x80\\xe6\\xa1\\x8c\\xe9\\x9d\\xa2\\xe5\\x92\\x8c\\xe6\\x96\\x87\\xe4\\xbb\\xb6\\xe5\\xa4\\xb9\\xe6\\x8b\\x96\\xef\\xbc\\x8c\\xe8\\xbf\\x98\\xe4\\xb8\\x8d\\xe4\\xb8\\x80\\xe5\\xae\\x9a\\xe8\\x83\\xbd\\xe5\\xae\\x8c\\xe5\\x85\\xa8\\xe5\\xa4\\x8d\\xe5\\x8e\\x9f\\xef\\xbc\\x8c\\xe5\\xbc\\xba\\xe8\\xbf\\xab\\xe7\\x97\\x87\\xe9\\x83\\x81\\xe9\\x97\\xb7\\xe8\\x87\\xb3\\xe6\\x9e\\x81\\xef\\xbc\\x81\\xe8\\x80\\x8c iCloud \\xe5\\x8d\\xb4\\xe8\\x83\\xbd\\xe6\\x8a\\x8a\\xe6\\xa1\\x8c\\xe9\\x9d\\xa2\\xe7\\x9a\\x84\\xe6\\x8e\\x92\\xe5\\x88\\x97\\xe5\\x8e\\x9f\\xe5\\xb0\\x81\\xe4\\xb8\\x8d\\xe5\\x8a\\xa8\\xe7\\x9a\\x84\\xe6\\x81\\xa2\\xe5\\xa4\\x8d\\xef\\xbc\\x88\\xe5\\xbc\\xba\\xe8\\xbf\\xab\\xe7\\x97\\x87\\xe7\\xa6\\x8f\\xe5\\x88\\xa9\\xef\\xbc\\x89\\xef\\xbc\\x81\\xe8\\xbf\\x99\\xe9\\x87\\x8c\\xe6\\x88\\x91\\xe8\\xa6\\x81\\xe8\\xa7\\xa3\\xe9\\x87\\x8a\\xe4\\xb8\\x80\\xe4\\xb8\\x8b\\xef\\xbc\\x8c\\xe6\\x88\\x91\\xe6\\x83\\xb3\\xe5\\x90\\x90\\xe6\\xa7\\xbd\\xe7\\x9a\\x84\\xe5\\xb9\\xb6\\xe4\\xb8\\x8d\\xe6\\x98\\xaf Android \\xe6\\x83\\xb3\\xe6\\x8a\\x98\\xe8\\x85\\xbe\\xe5\\xbe\\x88\\xe5\\xa4\\x9a\\xe5\\xa5\\xbd\\xe7\\x8e\\xa9\\xe7\\x9a\\x84\\xe8\\x80\\x8c\\xe8\\x8a\\xb1\\xe8\\xb4\\xb9\\xe7\\x9a\\x84\\xe9\\xa2\\x9d\\xe5\\xa4\\x96\\xe6\\x97\\xb6\\xe9\\x97\\xb4\\xe8\\xbf\\x99\\xe4\\xba\\x8b\\xe5\\x84\\xbf\\xef\\xbc\\x8c\\xe7\\x9b\\xb8\\xe5\\x8f\\x8d\\xe8\\xbf\\x99\\xe6\\x98\\xaf Android \\xe4\\xbc\\x98\\xe4\\xba\\x8e iOS \\xe7\\x9a\\x84\\xe5\\x9c\\xb0\\xe6\\x96\\xb9\\xef\\xbc\\x8c\\xe6\\x88\\x91\\xe6\\x83\\xb3\\xe8\\xaf\\xb4\\xe7\\x9a\\x84\\xe6\\x98\\xaf\\xe8\\xbf\\x99\\xe4\\xbf\\xa9\\xe7\\xb3\\xbb\\xe7\\xbb\\x9f\\xe8\\xbe\\xbe\\xe5\\x88\\xb0\\xe5\\x90\\x8c\\xe6\\xa0\\xb7\\xe7\\x9a\\x84\\xe4\\xbd\\x93\\xe9\\xaa\\x8c\\xe6\\xb0\\xb4\\xe5\\x87\\x86\\xe6\\x97\\xb6 Android \\xe5\\xbe\\x80\\xe5\\xbe\\x80\\xe9\\x9c\\x80\\xe8\\xa6\\x81\\xe8\\x80\\x97\\xe8\\xb4\\xb9\\xe9\\xa2\\x9d\\xe5\\xa4\\x96\\xe6\\x9b\\xb4\\xe5\\xa4\\x9a\\xe7\\x9a\\x84\\xe7\\xb2\\xbe\\xe5\\x8a\\x9b\\xe3\\x80\\x82\\xe5\\xa6\\x82\\xe6\\x9e\\x9c Android \\xe8\\x87\\xaa\\xe5\\xb8\\xa6\\xe7\\x9a\\x84\\xe4\\xba\\x91\\xe5\\xa4\\x87\\xe4\\xbb\\xbd\\xe8\\x83\\xbd\\xe7\\xbb\\x99\\xe5\\x8a\\x9b\\xe7\\x82\\xb9\\xef\\xbc\\x8c\\xe6\\x88\\x91\\xe5\\xb0\\xb1\\xe4\\xb8\\x8d\\xe7\\x94\\xa8\\xe5\\x87\\xad\\xe7\\x9d\\x80\\xe6\\xae\\x8b\\xe7\\xbc\\xba\\xe7\\x9a\\x84\\xe8\\xae\\xb0\\xe5\\xbf\\x86\\xe4\\xb8\\x80\\xe4\\xb8\\xaa\\xe4\\xb8\\x80\\xe4\\xb8\\xaa\\xe7\\x9a\\x84\\xe6\\x8b\\x96\\xe5\\x9b\\xbe\\xe6\\xa0\\x87\\xe4\\xba\\x86\\xe3\\x80\\x82\\\\u000D\\\\u000A\\\\u000D\\\\u000A#### xposed\\xe3\\x80\\x81\\xe9\\xbb\\x91\\xe5\\x9f\\x9f\\xe6\\x88\\x96\\xe7\\xbb\\xbf\\xe8\\x89\\xb2\\xe5\\xae\\x88\\xe6\\x8a\\xa4\\xe3\\x80\\x81\\xe5\\x86\\xb0\\xe7\\xae\\xb1\\xe3\\x80\\x81amplify\\xe3\\x80\\x81\\xe5\\x86\\x99\\xe8\\xbd\\xae\\xe7\\x9c\\xbc\\xe3\\x80\\x81\\xe4\\xbf\\xae\\xe6\\x94\\xb9\\xe7\\x89\\x88\\xe8\\xbd\\xaf\\xe4\\xbb\\xb6\\\\u000D\\\\u000A\\\\u000D\\\\u000A\\xe8\\xbf\\x99\\xe4\\xb8\\x80\\xe6\\xad\\xa5\\xe7\\x9a\\x84\\xe5\\xa4\\xa7\\xe9\\x83\\xa8\\xe5\\x88\\x86\\xe8\\xae\\xbe\\xe7\\xbd\\xae\\xe5\\x85\\xb6\\xe5\\xae\\x9e\\xe9\\x83\\xbd\\xe6\\x98\\xaf\\xe4\\xb8\\xba\\xe4\\xba\\x86\\xe5\\xba\\x94\\xe5\\xaf\\xb9\\xe5\\x90\\x84\\xe7\\xa7\\x8d\\xe6\\xaf\\x92\\xe7\\x98\\xa4\\xe7\\x9a\\x84\\xef\\xbc\\x88\\xe9\\x99\\xa4\\xe4\\xba\\x86\\xe5\\x85\\xb6\\xe4\\xbb\\x96\\xe5\\x87\\xa0\\xe4\\xb8\\xaa xposed \\xe6\\x8f\\x92\\xe4\\xbb\\xb6\\xe4\\xbb\\xa5\\xe5\\xa4\\x96\\xef\\xbc\\x89\\xe3\\x80\\x82\\xe9\\xa6\\x96\\xe5\\x85\\x88\\xe6\\x88\\x91\\xe4\\xbd\\xbf\\xe7\\x94\\xa8\\xe6\\x96\\xb0\\xe7\\x89\\x88\\xe9\\xbb\\x91\\xe5\\x9f\\x9f\\xef\\xbc\\x8c\\xe6\\x96\\xb0\\xe7\\x9a\\x84\\xe9\\x98\\xbb\\xe6\\xad\\xa2 list \\xe8\\xa6\\x81\\xe8\\x87\\xaa\\xe5\\xb7\\xb1\\xe4\\xb8\\x80\\xe4\\xb8\\xaa\\xe4\\xb8\\xaa\\xe7\\x9a\\x84\\xe9\\x87\\x8d\\xe6\\x96\\xb0\\xe6\\xb7\\xbb\\xe5\\x8a\\xa0\\xe4\\xba\\x86\\xe3\\x80\\x82\\xe5\\x9b\\xa0\\xe4\\xb8\\xba\\xe6\\x96\\xb0\\xe7\\x89\\x88\\xe9\\xbb\\x91\\xe5\\x9f\\x9f\\xe6\\x98\\xaf\\xe4\\xb8\\x8d\\xe8\\xa7\\xa3\\xe5\\x86\\xb3\\xe5\\xba\\x94\\xe7\\x94\\xa8\\xe5\\x94\\xa4\\xe9\\x86\\x92\\xe7\\x9a\\x84\\xef\\xbc\\x8c\\xe6\\x89\\x80\\xe4\\xbb\\xa5\\xe6\\x88\\x91\\xe4\\xbd\\xbf\\xe7\\x94\\xa8\\xe7\\xbb\\xbf\\xe8\\x89\\xb2\\xe5\\xae\\x88\\xe6\\x8a\\xa4\\xe7\\x9a\\x84\\xe5\\x94\\xa4\\xe9\\x86\\x92\\xe8\\xbf\\xbd\\xe8\\xb8\\xaa\\xe5\\x8a\\x9f\\xe8\\x83\\xbd\\xe6\\x9d\\xa5\\xe5\\x88\\x87\\xe6\\x96\\xad\\xe5\\xba\\x94\\xe7\\x94\\xa8\\xe4\\xb9\\x8b\\xe9\\x97\\xb4\\xe7\\x9a\\x84\\xe5\\x94\\xa4\\xe9\\x86\\x92\\xef\\xbc\\x8c\\xe8\\xbf\\x99\\xe4\\xb8\\xaa\\xe4\\xb9\\x9f\\xe8\\xa6\\x81\\xe6\\x85\\xa2\\xe6\\x85\\xa2\\xe4\\xb8\\x80\\xe4\\xb8\\xaa\\xe4\\xb8\\xaa\\xe9\\x87\\x8d\\xe6\\x96\\xb0\\xe5\\x88\\x87\\xe6\\x96\\xad\\xe3\\x80\\x82\\xe7\\x84\\xb6\\xe5\\x90\\x8e\\xe6\\x98\\xaf\\xe5\\x86\\xb0\\xe7\\xae\\xb1\\xef\\xbc\\x8c\\xe4\\xb8\\x80\\xe4\\xba\\x9b\\xe4\\xb8\\x8d\\xe5\\xa4\\xaa\\xe5\\xb8\\xb8\\xe7\\x94\\xa8\\xe7\\x9a\\x84\\xe5\\xa4\\xa7\\xe6\\xaf\\x92\\xe7\\x98\\xa4\\xe5\\xba\\x94\\xe7\\x94\\xa8\\xe8\\xa6\\x81\\xe6\\x94\\xbe\\xe5\\x85\\xa5\\xe5\\x86\\xb0\\xe7\\xae\\xb1\\xef\\xbc\\x8c\\xe5\\xbd\\xbb\\xe5\\xba\\x95\\xe5\\xb0\\x86\\xe5\\x85\\xb6\\xe6\\x89\\x93\\xe5\\x85\\xa5\\xe6\\xb7\\xb1\\xe6\\xb8\\x8a\\xef\\xbc\\x8c\\xe8\\xbf\\x99\\xe4\\xb8\\x80\\xe6\\xad\\xa5\\xe5\\x90\\x8c\\xe6\\xa0\\xb7\\xe9\\x9c\\x80\\xe8\\xa6\\x81\\xe8\\x87\\xaa\\xe5\\xb7\\xb1\\xe6\\x89\\x8b\\xe5\\x8a\\xa8\\xe4\\xb8\\x80\\xe4\\xb8\\xaa\\xe4\\xb8\\xaa\\xe7\\x9a\\x84\\xe6\\xb7\\xbb\\xe5\\x8a\\xa0\\xe3\\x80\\x82\\xe5\\x86\\x8d\\xe6\\x9d\\xa5\\xe6\\x98\\xaf xposed\\xef\\xbc\\x8c\\xe7\\xbb\\xbf\\xe5\\xae\\x88\\xe7\\x9a\\x84\\xe9\\xab\\x98\\xe7\\xba\\xa7\\xe5\\x8a\\x9f\\xe8\\x83\\xbd\\xe5\\x92\\x8c amlify \\xe9\\x83\\xbd\\xe9\\x9c\\x80\\xe8\\xa6\\x81\\xe5\\xae\\x83\\xef\\xbc\\x8camlify \\xe6\\x98\\xaf\\xe8\\xae\\xbe\\xe7\\xbd\\xae\\xe5\\x94\\xa4\\xe9\\x86\\x92\\xe9\\x94\\x81\\xe7\\x9a\\x84\\xef\\xbc\\x8c\\xe5\\xaf\\xb9\\xe4\\xbb\\x98 google \\xe9\\x83\\xa8\\xe5\\x88\\x86\\xe6\\x9c\\x8d\\xe5\\x8a\\xa1\\xe5\\x92\\x8c\\xe5\\xbe\\xae\\xe4\\xbf\\xa1\\xe7\\x9a\\x84\\xe4\\xb8\\xa7\\xe5\\xbf\\x83\\xe7\\x97\\x85\\xe7\\x8b\\x82\\xe7\\x9a\\x84\\xe5\\x94\\xa4\\xe9\\x86\\x92\\xe6\\x9c\\x89\\xe5\\xa5\\x87\\xe6\\x95\\x88\\xe3\\x80\\x82\\xe5\\x86\\x8d\\xe7\\x84\\xb6\\xe5\\x90\\x8e\\xe6\\x98\\xaf\\xe5\\x86\\x99\\xe8\\xbd\\xae\\xe7\\x9c\\xbc\\xef\\xbc\\x8c\\xe8\\xbf\\x99\\xe4\\xb8\\xaa\\xe6\\xaf\\x94\\xe7\\xbb\\xbf\\xe5\\xae\\x88\\xe7\\x9a\\x84\\xe5\\x94\\xa4\\xe9\\x86\\x92\\xe5\\x88\\x87\\xe6\\x96\\xad\\xe6\\x9b\\xb4\\xe9\\xba\\xbb\\xe7\\x83\\xa6\\xef\\xbc\\x8c\\xe7\\x94\\xb1\\xe4\\xba\\x8e\\xe4\\xb9\\x8b\\xe5\\x89\\x8d\\xe5\\xaf\\xb9\\xe4\\xba\\x8e\\xe6\\xaf\\x8f\\xe4\\xb8\\xaa\\xe6\\xaf\\x92\\xe7\\x98\\xa4\\xe5\\xba\\x94\\xe7\\x94\\xa8\\xe7\\x9a\\x84\\xe7\\x89\\xb9\\xe6\\xae\\x8a\\xe5\\xa4\\x84\\xe7\\x90\\x86\\xe5\\x85\\xa8\\xe9\\x83\\xbd\\xe4\\xb8\\xa2\\xe4\\xba\\x86\\xef\\xbc\\x8c\\xe5\\x8f\\xaa\\xe8\\x83\\xbd\\xe9\\x9a\\x8f\\xe7\\x9d\\x80\\xe4\\xbb\\xa5\\xe5\\x90\\x8e\\xe7\\x9a\\x84\\xe4\\xbd\\xbf\\xe7\\x94\\xa8\\xe6\\x85\\xa2\\xe6\\x85\\xa2\\xe8\\xb0\\x83\\xe6\\x95\\x99\\xe4\\xba\\x86\\xef\\xbc\\x8c\\xe5\\x8c\\x85\\xe6\\x8b\\xac\\xe5\\xbc\\x84\\xe6\\xad\\xbb\\xe9\\x83\\xa8\\xe5\\x88\\x86\\xe5\\xba\\x94\\xe7\\x94\\xa8\\xe6\\x97\\xa0\\xe6\\xb3\\x95\\xe5\\x85\\xb3\\xe6\\x8e\\x89\\xe7\\x9a\\x84 sync \\xe6\\x9c\\x8d\\xe5\\x8a\\xa1\\xef\\xbc\\x81\\xe6\\x9c\\x80\\xe5\\x90\\x8e\\xe6\\x98\\xaf\\xe5\\xae\\x89\\xe8\\xa3\\x85\\xe4\\xb8\\x80\\xe4\\xba\\x9b\\xe5\\xb8\\xb8\\xe7\\x94\\xa8\\xe7\\x9a\\x84\\xe6\\xaf\\x92\\xe7\\x98\\xa4\\xe5\\xba\\x94\\xe7\\x94\\xa8\\xe7\\x9a\\x84\\xe4\\xbf\\xae\\xe6\\x94\\xb9\\xe7\\x89\\x88\\xef\\xbc\\x8c\\xe8\\xad\\xac\\xe5\\xa6\\x82\\xe9\\xab\\x98\\xe5\\xbe\\xb7\\xe7\\x9a\\x84\\xe9\\x94\\xa4\\xe5\\xad\\x90\\xe5\\xae\\x9a\\xe5\\x88\\xb6\\xe7\\x89\\x88\\xef\\xbc\\x8c\\xe4\\xb8\\xba\\xe7\\x9a\\x84\\xe6\\x98\\xaf\\xe5\\x8e\\xbb\\xe6\\x8e\\x89\\xe6\\x97\\xa0\\xe7\\x94\\xa8\\xe7\\x9a\\x84\\xe6\\x9c\\x8d\\xe5\\x8a\\xa1\\xef\\xbc\\x8c\\xe6\\x9c\\x80\\xe5\\xa4\\xa7\\xe9\\x99\\x90\\xe5\\xba\\xa6\\xe4\\xbf\\x9d\\xe6\\x8c\\x81\\xe5\\xb8\\xb8\\xe7\\x94\\xa8\\xe5\\xba\\x94\\xe7\\x94\\xa8\\xe7\\x9a\\x84\\xe6\\xb5\\x81\\xe7\\x95\\x85\\xe3\\x80\\x82\\xe4\\xbb\\xa5\\xe4\\xb8\\x8a\\xe6\\x89\\x80\\xe6\\x9c\\x89\\xe7\\x9a\\x84\\xe4\\xb8\\x80\\xe5\\x88\\x87\\xe5\\xb7\\xa5\\xe4\\xbd\\x9c\\xe9\\x83\\xbd\\xe6\\x98\\xaf\\xe5\\x9b\\xa0\\xe4\\xb8\\xba\\xe9\\x92\\x9b\\xe5\\xa4\\x87\\xe4\\xbb\\xbd\\xe7\\x9a\\x84\\xe6\\x95\\xb0\\xe6\\x8d\\xae\\xe4\\xb8\\xa2\\xe5\\xa4\\xb1\\xe9\\x80\\xa0\\xe6\\x88\\x90\\xe7\\x9a\\x84\\xe3\\x80\\x82\\xe5\\x8f\\xaf\\xe6\\x82\\xb2\\xe7\\x9a\\x84\\xe6\\x98\\xaf\\xef\\xbc\\x8c\\xe5\\xaf\\xb9\\xe4\\xba\\x8e iOS \\xe6\\x9d\\xa5\\xe8\\xaf\\xb4\\xef\\xbc\\x8c\\xe8\\xbf\\x99\\xe4\\xb8\\x80\\xe5\\x88\\x87\\xe6\\xa0\\xb9\\xe6\\x9c\\xac\\xe4\\xb8\\x8d\\xe9\\x9c\\x80\\xe8\\xa6\\x81\\xe5\\xa4\\x9a\\xe8\\x99\\x91\\xef\\xbc\\x8c\\xe5\\xbd\\x93\\xe7\\x84\\xb6\\xe4\\xb9\\x9f\\xe4\\xb8\\x8d\\xe4\\xbc\\x9a\\xe6\\x9c\\x89\\xe9\\xbb\\x91\\xe5\\x9f\\x9f\\xe8\\xbf\\x99\\xe4\\xba\\x9b\\xe7\\x9a\\x84\\xe5\\xba\\x94\\xe7\\x94\\xa8\\xe5\\xad\\x98\\xe5\\x9c\\xa8\\xe3\\x80\\x82\\xe3\\x80\\x82\\xe3\\x80\\x82\\\\u000D\\\\u000A\\\\u000D\\\\u000A\\xe6\\x88\\x91\\xe4\\xb8\\x80\\xe7\\x9b\\xb4\\xe6\\x98\\xaf iOS \\xe5\\x92\\x8c Android \\xe5\\x8f\\x8c\\xe8\\xae\\xbe\\xe5\\xa4\\x87\\xef\\xbc\\x8c\\xe6\\x88\\x91\\xe4\\xb9\\x9f\\xe4\\xb8\\x80\\xe7\\x9b\\xb4\\xe9\\x83\\xbd\\xe8\\xa7\\x89\\xe5\\xbe\\x97\\xe4\\xb8\\xa4\\xe8\\x80\\x85\\xe6\\x98\\xaf\\xe5\\x90\\x84\\xe6\\x9c\\x89\\xe6\\x89\\x80\\xe9\\x95\\xbf\\xe3\\x80\\x82\\xe6\\xaf\\x8f\\xe6\\xac\\xa1\\xe6\\x88\\x91\\xe6\\x9c\\x89\\xe6\\x9c\\x8b\\xe5\\x8f\\x8b\\xe5\\x87\\xad\\xe7\\x9d\\x80\\xe4\\xb9\\x85\\xe8\\xbf\\x9c\\xe7\\x9a\\x84\\xe8\\xae\\xb0\\xe5\\xbf\\x86\\xe6\\x9d\\xa5\\xe5\\x92\\x8c\\xe6\\x88\\x91\\xe8\\xaf\\xb4 Android \\xe7\\x94\\xa8\\xe4\\xb9\\x85\\xe4\\xba\\x86\\xe4\\xbc\\x9a\\xe4\\xb8\\x8d\\xe4\\xbc\\x9a\\xe5\\xbe\\x88\\xe5\\x8d\\xa1\\xe7\\x9a\\x84\\xe6\\x97\\xb6\\xe5\\x80\\x99\\xef\\xbc\\x8c\\xe6\\x88\\x91\\xe9\\x83\\xbd\\xe4\\xbc\\x9a\\xe7\\x95\\xa5\\xe9\\x84\\x99\\xe5\\xa4\\xb7\\xe7\\x9a\\x84\\xe5\\x9b\\x9e\\xe5\\xa4\\x8d\\xe4\\xb8\\x80\\xe5\\x8f\\xa5\\xef\\xbc\\x9a\\xe9\\x82\\xa3\\xe6\\x98\\xaf\\xe4\\xbd\\xa0\\xe4\\xb8\\x8d\\xe4\\xbc\\x9a\\xe7\\x94\\xa8\\xef\\xbc\\x81\\xe5\\x8f\\xaf\\xe8\\xbf\\x99\\xe6\\xac\\xa1\\xe6\\x95\\xb0\\xe6\\x8d\\xae\\xe4\\xb8\\xa2\\xe5\\xa4\\xb1\\xef\\xbc\\x8c\\xe8\\xae\\xa9\\xe6\\x88\\x91\\xe6\\x98\\x8e\\xe7\\x99\\xbd\\xe4\\xba\\x86\\xe8\\xbf\\x99\\xe4\\xb8\\xaa\\xe6\\x89\\x80\\xe8\\xb0\\x93\\xe7\\x9a\\x84\\xe3\\x80\\x8e\\xe4\\xbc\\x9a\\xe7\\x94\\xa8\\xe3\\x80\\x8f\\xe6\\x98\\xaf\\xe5\\xa4\\x9a\\xe4\\xb9\\x88\\xe7\\x9a\\x84\\xe8\\xbe\\x9b\\xe9\\x85\\xb8\\xef\\xbc\\x8c\\xe4\\xbb\\xa5\\xe4\\xb8\\x8a\\xe8\\xbf\\x99\\xe4\\xba\\x9b\\xe6\\x8a\\x80\\xe8\\x83\\xbd\\xe7\\x9c\\x9f\\xe4\\xb8\\x8d\\xe6\\x98\\xaf\\xe4\\xb8\\x80\\xe8\\x88\\xac\\xe7\\x94\\xa8\\xe6\\x88\\xb7\\xe5\\xba\\x94\\xe8\\xaf\\xa5\\xe5\\x85\\xb7\\xe5\\xa4\\x87\\xe7\\x9a\\x84\\xef\\xbc\\x8c\\xe5\\xa4\\xa7\\xe5\\xae\\xb6\\xe7\\x9c\\x9f\\xe7\\x9a\\x84\\xe6\\x98\\xaf\\xe8\\xa2\\xab\\xe9\\x80\\xbc\\xe7\\x9a\\x84\\xe5\\x95\\x8a\\xef\\xbc\\x81\\xe7\\xbb\\x93\\xe6\\x9e\\x9c\\xe6\\x8a\\x98\\xe8\\x85\\xbe\\xe5\\x88\\xb0\\xe6\\x9c\\x80\\xe5\\x90\\x8e\\xe7\\x9a\\x84\\xe4\\xba\\xba\\xe7\\xab\\x9f\\xe7\\x84\\xb6\\xe4\\xbc\\x9a\\xe4\\xba\\xa7\\xe7\\x94\\x9f\\xe7\\x95\\xa5\\xe7\\x95\\xb8\\xe5\\xbd\\xa2\\xe7\\x9a\\x84\\xe4\\xbc\\x98\\xe8\\xb6\\x8a\\xe6\\x84\\x9f\\xef\\xbc\\x8c\\xe7\\x9c\\x9f\\xe7\\x9a\\x84\\xe6\\x98\\xaf\\xe8\\x80\\x90\\xe4\\xba\\xba\\xe5\\xaf\\xbb\\xe5\\x91\\xb3\\xe3\\x80\\x82Android \\xe8\\xa6\\x81\\xe6\\x83\\xb3\\xe5\\x92\\x8c iOS \\xe5\\x9c\\xa8\\xe6\\x89\\x8b\\xe6\\x9c\\xba\\xe7\\x9a\\x84\\xe5\\x9f\\xba\\xe6\\x9c\\xac\\xe4\\xbd\\x93\\xe9\\xaa\\x8c\\xe4\\xb8\\x8a\\xe7\\xab\\x99\\xe5\\x9c\\xa8\\xe5\\x90\\x8c\\xe4\\xb8\\x80\\xe5\\x8f\\xb0\\xe9\\x98\\xb6\\xe7\\x9a\\x84\\xe8\\xaf\\x9d\\xef\\xbc\\x8c\\xe7\\x9c\\x9f\\xe7\\x9a\\x84\\xe9\\x9c\\x80\\xe8\\xa6\\x81\\xe8\\x8a\\xb1\\xe4\\xb8\\x80\\xe4\\xba\\x9b\\xe6\\x97\\xb6\\xe9\\x97\\xb4\\xe3\\x80\\x82\\xe7\\xbb\\x9d\\xe5\\xa4\\xa7\\xe9\\x83\\xa8\\xe5\\x88\\x86\\xe7\\x94\\xa8\\xe6\\x88\\xb7\\xe4\\xb8\\x8d\\xe4\\xbc\\x9a\\xe8\\xbf\\x99\\xe4\\xb9\\x88\\xe6\\x93\\x8d\\xe4\\xbd\\x9c\\xef\\xbc\\x8c\\xe4\\xbb\\x96\\xe4\\xbb\\xac\\xe5\\x9c\\xa8\\xe6\\x89\\x8b\\xe6\\x9c\\xba\\xe7\\x94\\xa8\\xe4\\xb9\\x85\\xe4\\xba\\x86\\xe4\\xb9\\x8b\\xe5\\x90\\x8e\\xe8\\x87\\xaa\\xe7\\x84\\xb6\\xe5\\xb0\\xb1\\xe4\\xbc\\x9a\\xe4\\xba\\xa7\\xe7\\x94\\x9f Android \\xe3\\x80\\x8e\\xe7\\x94\\xa8\\xe4\\xb9\\x85\\xe4\\xba\\x86\\xe9\\x83\\xbd\\xe4\\xbc\\x9a\\xe5\\x8d\\xa1\\xe3\\x80\\x8f\\xe7\\x9a\\x84\\xe6\\x80\\xa8\\xe5\\xbf\\xb5\\xef\\xbc\\x8c\\xe8\\xbf\\x99\\xe4\\xb9\\x9f\\xe6\\x98\\xaf\\xe7\\x9c\\x9f\\xe7\\x9a\\x84\\xe6\\x97\\xa0\\xe5\\xa5\\x88\\xe3\\x80\\x82\\xe6\\x9c\\x80\\xe5\\x90\\x8e\\xe6\\x88\\x91\\xe5\\xb9\\xb6\\xe4\\xb8\\x8d\\xe7\\x9b\\xb8\\xe4\\xbf\\xa1\\xe5\\x8d\\x8e\\xe4\\xb8\\xba\\xe9\\xbc\\x93\\xe5\\x90\\xb9\\xe7\\x9a\\x84\\xe6\\x89\\x80\\xe8\\xb0\\x93 18 \\xe4\\xb8\\xaa\\xe6\\x9c\\x88\\xe4\\xb8\\x8d\\xe5\\x8d\\xa1\\xe7\\x9a\\x84\\xe9\\xbb\\x91\\xe7\\xa7\\x91\\xe6\\x8a\\x80\\xef\\xbc\\x8c\\xe4\\xb8\\x8d\\xe6\\x8a\\x98\\xe8\\x85\\xbe\\xe4\\xb8\\x80\\xe7\\x95\\xaa\\xe7\\x9a\\x84\\xe8\\xaf\\x9d\\xef\\xbc\\x8c\\xe5\\x8d\\xa1\\xe6\\x88\\x96\\xe8\\xae\\xb8\\xe4\\xbc\\x9a\\xe6\\x99\\x9a\\xe6\\x9d\\xa5\\xef\\xbc\\x8c\\xe4\\xbd\\x86\\xe7\\xbb\\x9d\\xe4\\xb8\\x8d\\xe4\\xbc\\x9a\\xe7\\xbc\\xba\\xe5\\xb8\\xad\\xe3\\x80\\x82\\xe3\\x80\\x82\\xe3\\x80\\x82\",\\n        \"content_rendered\" : \"\\\\u003Cp\\\\u003E\\xe5\\x9b\\xa0\\xe4\\xb8\\xba\\xe5\\x88\\xb7\\xe4\\xba\\x86 GPE Rom\\xef\\xbc\\x8c\\xe9\\x9d\\x9e\\xe5\\xb8\\xb8\\xe7\\xa8\\xb3\\xe5\\xae\\x9a\\xef\\xbc\\x8c\\xe5\\xb7\\xb2\\xe7\\xbb\\x8f\\xe4\\xb8\\x80\\xe5\\xb9\\xb4\\xe5\\xa4\\x9a\\xe4\\xb8\\x8d\\xe9\\x9c\\x80\\xe8\\xa6\\x81\\xe6\\x8a\\x98\\xe8\\x85\\xbe Rom \\xe4\\xba\\x86\\xef\\xbc\\x8c\\xe4\\xb8\\x8a\\xe5\\x91\\xa8\\xe5\\x8f\\x91\\xe8\\xa7\\x89\\xe6\\x89\\x8b\\xe9\\x87\\x8c\\xe7\\x9a\\x84 Android \\xe6\\x9c\\xba\\xe8\\x8e\\xab\\xe5\\x90\\x8d\\xe7\\x9a\\x84\\xe5\\x8f\\x91\\xe7\\x83\\xab\\xef\\xbc\\x88\\xe5\\x8f\\xaf\\xe8\\x83\\xbd\\xe6\\x98\\xaf\\xe4\\xb9\\x8b\\xe5\\x89\\x8d\\xe5\\xb0\\x8f\\xe5\\x88\\xb7\\xe4\\xba\\x86\\xe4\\xb8\\x80\\xe4\\xb8\\xaa gpe \\xe5\\xae\\x89\\xe5\\x85\\xa8\\xe8\\xa1\\xa5\\xe4\\xb8\\x81\\xe7\\x9a\\x84\\xe9\\x97\\xae\\xe9\\xa2\\x98\\xef\\xbc\\x89\\xef\\xbc\\x8c\\xe6\\x95\\x85\\xe6\\x89\\x93\\xe7\\xae\\x97\\xe7\\xbb\\x99\\xe6\\x89\\x8b\\xe6\\x9c\\xba\\xe5\\x81\\x9a\\xe4\\xb8\\x80\\xe6\\xac\\xa1\\xe4\\xb9\\x85\\xe8\\xbf\\x9d\\xe7\\x9a\\x84\\xe5\\x8f\\x8c\\xe6\\xb8\\x85\\xef\\xbc\\x8c\\xe7\\x9c\\x8b\\xe7\\x9c\\x8b\\xe8\\x83\\xbd\\xe4\\xb8\\x8d\\xe8\\x83\\xbd\\xe8\\xa7\\xa3\\xe5\\x86\\xb3\\xe9\\x97\\xae\\xe9\\xa2\\x98\\xe3\\x80\\x82\\xe5\\xa4\\xa7\\xe6\\xa6\\x82\\xe6\\xb5\\x81\\xe7\\xa8\\x8b\\xe6\\x98\\xaf\\xe8\\xbf\\x99\\xe6\\xa0\\xb7\\xe7\\x9a\\x84\\xef\\xbc\\x9a\\\\u003C/p\\\\u003E\\\\u000A\\\\u003Cp\\\\u003E\\xe5\\x85\\x88\\xe7\\x94\\xa8\\xe9\\x92\\x9b\\xe5\\xa4\\x87\\xe4\\xbb\\xbd\\xe6\\x8a\\x8a 200 \\xe4\\xb8\\xaa\\xe5\\xba\\x94\\xe7\\x94\\xa8\\xe5\\x85\\xa8\\xe9\\x83\\xa8\\xe5\\xa4\\x87\\xe4\\xbb\\xbd\\xe4\\xb8\\x80\\xe4\\xb8\\x8b\\xef\\xbc\\x8c\\xe7\\x84\\xb6\\xe5\\x90\\x8e\\xe8\\xbf\\x9b Rec \\xe6\\x89\\xa7\\xe8\\xa1\\x8c\\xe5\\x8f\\x8c\\xe6\\xb8\\x85\\xef\\xbc\\x8c\\xe4\\xb8\\x80\\xe7\\x9b\\xb4\\xe6\\x8a\\x98\\xe8\\x85\\xbe\\xe5\\x88\\xb0\\xe8\\xa3\\x85\\xe5\\xa5\\xbd SS \\xe5\\x92\\x8c\\xe9\\x92\\x9b\\xe5\\xa4\\x87\\xe4\\xbb\\xbd\\xef\\xbc\\x8c\\xe5\\x90\\x8e\\xe9\\x9d\\xa2\\xe5\\xb0\\xb1\\xe5\\xbc\\x80\\xe5\\xa7\\x8b\\xe7\\x94\\xa8\\xe9\\x92\\x9b\\xe5\\xa4\\x87\\xe4\\xbb\\xbd\\xe6\\x81\\xa2\\xe5\\xa4\\x8d\\xe4\\xb8\\x80\\xe5\\x88\\x87\\xe3\\x80\\x82\\\\u003C/p\\\\u003E\\\\u000A\\\\u003Cp\\\\u003E\\xe5\\x9b\\xa0\\xe4\\xb8\\xba\\xe7\\xbd\\x95\\xe8\\xa7\\x81\\xe7\\x9a\\x84\\xe6\\x89\\x8b\\xe6\\xae\\x8b\\xe4\\xba\\x86\\xe4\\xb8\\x80\\xe4\\xb8\\x8b\\xef\\xbc\\x88\\xe4\\xb8\\x8d\\xe6\\x83\\xb3\\xe6\\x8f\\x90\\xe4\\xba\\x86\\xef\\xbc\\x89\\xef\\xbc\\x8c\\xe6\\x8a\\x8a\\xe4\\xbf\\x9d\\xe5\\xad\\x98\\xe5\\x9c\\xa8 SD \\xe5\\x8d\\xa1\\xe4\\xb8\\x8a\\xe7\\x9a\\x84\\xe9\\x92\\x9b\\xe5\\xa4\\x87\\xe4\\xbb\\xbd\\xe6\\x96\\x87\\xe4\\xbb\\xb6\\xe5\\xa4\\xb9\\xe7\\xbb\\x99\\xe5\\x88\\xa0\\xe4\\xba\\x86\\xe3\\x80\\x82\\xe7\\x84\\xb6\\xe5\\x90\\x8e\\xe5\\x99\\xa9\\xe6\\xa2\\xa6\\xe5\\xbc\\x80\\xe5\\xa7\\x8b\\xe4\\xba\\x86\\xe3\\x80\\x82\\xe3\\x80\\x82\\xe3\\x80\\x82\\\\u003C/p\\\\u003E\\\\u000A\\\\u003Cp\\\\u003E\\xe6\\x81\\xa2\\xe5\\xa4\\x8d\\xe6\\x95\\xb0\\xe6\\x8d\\xae\\xe7\\x9a\\x84\\xe5\\x90\\x84\\xe7\\xa7\\x8d\\xe6\\x96\\xb9\\xe6\\xb3\\x95\\xe9\\x83\\xbd\\xe8\\xaf\\x95\\xe4\\xba\\x86\\xef\\xbc\\x88\\xe5\\x8c\\x85\\xe6\\x8b\\xac\\xe6\\xb7\\x98\\xe5\\xae\\x9d\\xef\\xbc\\x89\\xef\\xbc\\x8c\\xe5\\xbd\\xbb\\xe5\\xba\\x95\\xe6\\x97\\xa0\\xe6\\x9e\\x9c\\xe3\\x80\\x82\\xe5\\x90\\x8e\\xe6\\x9d\\xa5\\xe5\\x8f\\xaa\\xe5\\xa5\\xbd\\xe8\\xae\\xa4\\xe4\\xba\\x86\\xef\\xbc\\x8c\\xe5\\xbd\\x93\\xe5\\xa4\\xa9\\xe6\\x88\\x91\\xe7\\x9d\\xa1\\xe5\\xbe\\x97\\xe5\\xb7\\xa8\\xe6\\x99\\x9a\\xef\\xbc\\x8c\\xe5\\x9b\\xa0\\xe4\\xb8\\xba\\xe4\\xb8\\x80\\xe8\\xbe\\xb9\\xe9\\x83\\x81\\xe9\\x97\\xb7\\xef\\xbc\\x8c\\xe4\\xb8\\x80\\xe8\\xbe\\xb9\\xe5\\x87\\xad\\xe7\\x9d\\x80\\xe7\\x9f\\xad\\xe6\\x9a\\x82\\xe7\\x9a\\x84\\xe8\\xae\\xb0\\xe5\\xbf\\x86\\xef\\xbc\\x8c\\xe4\\xb8\\x80\\xe9\\xa1\\xb9\\xe4\\xb8\\x80\\xe9\\xa1\\xb9\\xe7\\x9a\\x84\\xe8\\xbf\\x9b\\xe8\\xa1\\x8c\\xe6\\x81\\xa2\\xe5\\xa4\\x8d\\xe5\\xb7\\xa5\\xe4\\xbd\\x9c\\xe3\\x80\\x82\\xe3\\x80\\x82\\xe3\\x80\\x82\\xe6\\x82\\xb2\\xe6\\x83\\xa8\\xe6\\xb5\\x81\\xe7\\xa8\\x8b\\xe6\\x98\\xaf\\xe8\\xbf\\x99\\xe6\\xa0\\xb7\\xe7\\x9a\\x84\\xef\\xbc\\x9a\\\\u003C/p\\\\u003E\\\\u000A\\\\u003Ch4\\\\u003E\\xe8\\x81\\x94\\xe7\\xb3\\xbb\\xe4\\xba\\xba\\xe3\\x80\\x81\\xe5\\xba\\x94\\xe7\\x94\\xa8\\\\u003C/h4\\\\u003E\\\\u000A\\\\u003Cp\\\\u003E\\xe5\\xa5\\xbd\\xe5\\x9c\\xa8\\xe6\\x88\\x91\\xe4\\xb8\\x80\\xe7\\x9b\\xb4\\xe5\\x9c\\xa8 play \\xe4\\xb8\\x8b\\xe5\\xba\\x94\\xe7\\x94\\xa8\\xef\\xbc\\x8c\\xe6\\x89\\x80\\xe4\\xbb\\xa5\\xe5\\xa4\\xa7\\xe9\\x83\\xa8\\xe5\\x88\\x86\\xe5\\xba\\x94\\xe7\\x94\\xa8\\xe9\\x83\\xbd\\xe8\\x83\\xbd\\xe4\\xbb\\x8e play \\xe9\\x87\\x8d\\xe6\\x96\\xb0\\xe4\\xb8\\x8b\\xe8\\xbd\\xbd\\xef\\xbc\\x8c\\xe4\\xbd\\x86\\xe6\\x98\\xaf\\xe6\\x95\\xb0\\xe6\\x8d\\xae\\xe4\\xb8\\x8d\\xe5\\xad\\x98\\xe5\\x9c\\xa8\\xe4\\xba\\x86\\xef\\xbc\\x8cplay \\xe6\\xb2\\xa1\\xe6\\x9c\\x89\\xe7\\x9a\\x84\\xe5\\xba\\x94\\xe7\\x94\\xa8\\xe8\\xbf\\x98\\xe8\\xa6\\x81\\xe7\\x94\\xa8\\xe9\\x85\\xb7\\xe5\\xae\\x89\\xe6\\x9d\\xa5\\xe8\\xa1\\xa5\\xe9\\xbd\\x90\\xef\\xbc\\x8c\\xe8\\xbf\\x99\\xe9\\x83\\xa8\\xe5\\x88\\x86\\xe5\\xb0\\xb1\\xe8\\xa6\\x81\\xe5\\x87\\xad\\xe8\\xae\\xb0\\xe5\\xbf\\x86\\xe4\\xba\\x86\\xef\\xbc\\x8c\\xe8\\xae\\xb0\\xe4\\xb8\\x8d\\xe4\\xbd\\x8f\\xe7\\x9a\\x84\\xe5\\x8f\\xaa\\xe8\\x83\\xbd\\xe4\\xbb\\xa5\\xe5\\x90\\x8e\\xe7\\x94\\xa8\\xe5\\x88\\xb0\\xe7\\x9a\\x84\\xe6\\x97\\xb6\\xe5\\x80\\x99\\xe5\\x86\\x8d\\xe4\\xb8\\x8b\\xe3\\x80\\x82\\xe8\\x87\\xb3\\xe4\\xbb\\x8a\\xe4\\xb9\\x9f\\xe6\\xb2\\xa1\\xe5\\xbc\\x84\\xe6\\x87\\x82 Android \\xe8\\x87\\xaa\\xe5\\xb8\\xa6\\xe7\\x9a\\x84\\xe4\\xba\\x91\\xe5\\xa4\\x87\\xe4\\xbb\\xbd\\xe6\\x9c\\x89\\xe5\\x95\\xa5\\xe7\\x94\\xa8\\xef\\xbc\\x8c\\xe6\\x84\\x9f\\xe8\\xa7\\x89\\xe4\\xbb\\x96\\xe5\\x8f\\xaa\\xe8\\x83\\xbd\\xe5\\xa4\\x87\\xe4\\xbb\\xbd\\xe4\\xb8\\xaa\\xe8\\x81\\x94\\xe7\\xb3\\xbb\\xe4\\xba\\xba\\xef\\xbc\\x88\\xe6\\x88\\x96\\xe8\\x80\\x85\\xe9\\x83\\xa8\\xe5\\x88\\x86\\xe6\\x95\\xb0\\xe6\\x8d\\xae\\xef\\xbc\\x9f\\xef\\xbc\\x89\\xe8\\x80\\x8c\\xe5\\xb7\\xb2\\xef\\xbc\\x8c\\xe8\\x80\\x8c\\xe5\\x90\\x8c\\xe6\\xa0\\xb7\\xe6\\x98\\xaf iOS \\xe7\\xb3\\xbb\\xe7\\xbb\\x9f\\xe4\\xb8\\xad\\xe5\\x86\\x85\\xe7\\xbd\\xae\\xe7\\x9a\\x84 iCloud\\xef\\xbc\\x8c\\xe4\\xb8\\x8d\\xe4\\xbb\\x85\\xe8\\x83\\xbd\\xe4\\xba\\x91\\xe5\\xa4\\x87\\xe4\\xbb\\xbd\\xe5\\x85\\xa8\\xe9\\x83\\xa8\\xe5\\xba\\x94\\xe7\\x94\\xa8\\xe5\\x8f\\x8a\\xe6\\x95\\xb0\\xe6\\x8d\\xae\\xef\\xbc\\x8c\\xe4\\xb8\\x94\\xe6\\x93\\x8d\\xe4\\xbd\\x9c\\xe7\\xae\\x80\\xe5\\x8d\\x95\\xef\\xbc\\x8c\\xe9\\x99\\xa4\\xe4\\xba\\x86\\xe7\\xbd\\x91\\xe7\\xbb\\x9c\\xe6\\x8a\\xbd\\xe9\\xa3\\x8e\\xe3\\x80\\x82\\\\u003C/p\\\\u003E\\\\u000A\\\\u003Ch4\\\\u003Enova \\xe8\\xae\\xbe\\xe7\\xbd\\xae\\\\u003C/h4\\\\u003E\\\\u000A\\\\u003Cp\\\\u003E\\xe6\\xa1\\x8c\\xe9\\x9d\\xa2\\xe6\\x8e\\x92\\xe5\\x88\\x97\\xe6\\x98\\xaf\\xe6\\x9c\\x80\\xe7\\xbb\\x9d\\xe6\\x9c\\x9b\\xe7\\x9a\\x84\\xef\\xbc\\x8c\\xe5\\x9b\\xa0\\xe4\\xb8\\xba\\xe5\\xa4\\xaa\\xe4\\xbf\\xa1\\xe4\\xbb\\xbb\\xe9\\x92\\x9b\\xe5\\xa4\\x87\\xe4\\xbb\\xbd\\xef\\xbc\\x8c\\xe5\\x9f\\xba\\xe6\\x9c\\xac\\xe4\\xb8\\x8a nova \\xe8\\xae\\xbe\\xe7\\xbd\\xae\\xe6\\xb2\\xa1\\xe6\\x80\\x8e\\xe4\\xb9\\x88\\xe5\\x8d\\x95\\xe7\\x8b\\xac\\xe5\\xa4\\x87\\xe4\\xbb\\xbd\\xe8\\xbf\\x87\\xef\\xbc\\x8c\\xe5\\x8f\\xaa\\xe5\\xa5\\xbd\\xe5\\x87\\xad\\xe7\\x9d\\x80\\xe8\\xae\\xb0\\xe5\\xbf\\x86\\xe4\\xb8\\x80\\xe4\\xb8\\xaa\\xe4\\xb8\\xaa\\xe5\\xbe\\x80\\xe6\\xa1\\x8c\\xe9\\x9d\\xa2\\xe5\\x92\\x8c\\xe6\\x96\\x87\\xe4\\xbb\\xb6\\xe5\\xa4\\xb9\\xe6\\x8b\\x96\\xef\\xbc\\x8c\\xe8\\xbf\\x98\\xe4\\xb8\\x8d\\xe4\\xb8\\x80\\xe5\\xae\\x9a\\xe8\\x83\\xbd\\xe5\\xae\\x8c\\xe5\\x85\\xa8\\xe5\\xa4\\x8d\\xe5\\x8e\\x9f\\xef\\xbc\\x8c\\xe5\\xbc\\xba\\xe8\\xbf\\xab\\xe7\\x97\\x87\\xe9\\x83\\x81\\xe9\\x97\\xb7\\xe8\\x87\\xb3\\xe6\\x9e\\x81\\xef\\xbc\\x81\\xe8\\x80\\x8c iCloud \\xe5\\x8d\\xb4\\xe8\\x83\\xbd\\xe6\\x8a\\x8a\\xe6\\xa1\\x8c\\xe9\\x9d\\xa2\\xe7\\x9a\\x84\\xe6\\x8e\\x92\\xe5\\x88\\x97\\xe5\\x8e\\x9f\\xe5\\xb0\\x81\\xe4\\xb8\\x8d\\xe5\\x8a\\xa8\\xe7\\x9a\\x84\\xe6\\x81\\xa2\\xe5\\xa4\\x8d\\xef\\xbc\\x88\\xe5\\xbc\\xba\\xe8\\xbf\\xab\\xe7\\x97\\x87\\xe7\\xa6\\x8f\\xe5\\x88\\xa9\\xef\\xbc\\x89\\xef\\xbc\\x81\\xe8\\xbf\\x99\\xe9\\x87\\x8c\\xe6\\x88\\x91\\xe8\\xa6\\x81\\xe8\\xa7\\xa3\\xe9\\x87\\x8a\\xe4\\xb8\\x80\\xe4\\xb8\\x8b\\xef\\xbc\\x8c\\xe6\\x88\\x91\\xe6\\x83\\xb3\\xe5\\x90\\x90\\xe6\\xa7\\xbd\\xe7\\x9a\\x84\\xe5\\xb9\\xb6\\xe4\\xb8\\x8d\\xe6\\x98\\xaf Android \\xe6\\x83\\xb3\\xe6\\x8a\\x98\\xe8\\x85\\xbe\\xe5\\xbe\\x88\\xe5\\xa4\\x9a\\xe5\\xa5\\xbd\\xe7\\x8e\\xa9\\xe7\\x9a\\x84\\xe8\\x80\\x8c\\xe8\\x8a\\xb1\\xe8\\xb4\\xb9\\xe7\\x9a\\x84\\xe9\\xa2\\x9d\\xe5\\xa4\\x96\\xe6\\x97\\xb6\\xe9\\x97\\xb4\\xe8\\xbf\\x99\\xe4\\xba\\x8b\\xe5\\x84\\xbf\\xef\\xbc\\x8c\\xe7\\x9b\\xb8\\xe5\\x8f\\x8d\\xe8\\xbf\\x99\\xe6\\x98\\xaf Android \\xe4\\xbc\\x98\\xe4\\xba\\x8e iOS \\xe7\\x9a\\x84\\xe5\\x9c\\xb0\\xe6\\x96\\xb9\\xef\\xbc\\x8c\\xe6\\x88\\x91\\xe6\\x83\\xb3\\xe8\\xaf\\xb4\\xe7\\x9a\\x84\\xe6\\x98\\xaf\\xe8\\xbf\\x99\\xe4\\xbf\\xa9\\xe7\\xb3\\xbb\\xe7\\xbb\\x9f\\xe8\\xbe\\xbe\\xe5\\x88\\xb0\\xe5\\x90\\x8c\\xe6\\xa0\\xb7\\xe7\\x9a\\x84\\xe4\\xbd\\x93\\xe9\\xaa\\x8c\\xe6\\xb0\\xb4\\xe5\\x87\\x86\\xe6\\x97\\xb6 Android \\xe5\\xbe\\x80\\xe5\\xbe\\x80\\xe9\\x9c\\x80\\xe8\\xa6\\x81\\xe8\\x80\\x97\\xe8\\xb4\\xb9\\xe9\\xa2\\x9d\\xe5\\xa4\\x96\\xe6\\x9b\\xb4\\xe5\\xa4\\x9a\\xe7\\x9a\\x84\\xe7\\xb2\\xbe\\xe5\\x8a\\x9b\\xe3\\x80\\x82\\xe5\\xa6\\x82\\xe6\\x9e\\x9c Android \\xe8\\x87\\xaa\\xe5\\xb8\\xa6\\xe7\\x9a\\x84\\xe4\\xba\\x91\\xe5\\xa4\\x87\\xe4\\xbb\\xbd\\xe8\\x83\\xbd\\xe7\\xbb\\x99\\xe5\\x8a\\x9b\\xe7\\x82\\xb9\\xef\\xbc\\x8c\\xe6\\x88\\x91\\xe5\\xb0\\xb1\\xe4\\xb8\\x8d\\xe7\\x94\\xa8\\xe5\\x87\\xad\\xe7\\x9d\\x80\\xe6\\xae\\x8b\\xe7\\xbc\\xba\\xe7\\x9a\\x84\\xe8\\xae\\xb0\\xe5\\xbf\\x86\\xe4\\xb8\\x80\\xe4\\xb8\\xaa\\xe4\\xb8\\x80\\xe4\\xb8\\xaa\\xe7\\x9a\\x84\\xe6\\x8b\\x96\\xe5\\x9b\\xbe\\xe6\\xa0\\x87\\xe4\\xba\\x86\\xe3\\x80\\x82\\\\u003C/p\\\\u003E\\\\u000A\\\\u003Ch4\\\\u003Exposed\\xe3\\x80\\x81\\xe9\\xbb\\x91\\xe5\\x9f\\x9f\\xe6\\x88\\x96\\xe7\\xbb\\xbf\\xe8\\x89\\xb2\\xe5\\xae\\x88\\xe6\\x8a\\xa4\\xe3\\x80\\x81\\xe5\\x86\\xb0\\xe7\\xae\\xb1\\xe3\\x80\\x81amplify\\xe3\\x80\\x81\\xe5\\x86\\x99\\xe8\\xbd\\xae\\xe7\\x9c\\xbc\\xe3\\x80\\x81\\xe4\\xbf\\xae\\xe6\\x94\\xb9\\xe7\\x89\\x88\\xe8\\xbd\\xaf\\xe4\\xbb\\xb6\\\\u003C/h4\\\\u003E\\\\u000A\\\\u003Cp\\\\u003E\\xe8\\xbf\\x99\\xe4\\xb8\\x80\\xe6\\xad\\xa5\\xe7\\x9a\\x84\\xe5\\xa4\\xa7\\xe9\\x83\\xa8\\xe5\\x88\\x86\\xe8\\xae\\xbe\\xe7\\xbd\\xae\\xe5\\x85\\xb6\\xe5\\xae\\x9e\\xe9\\x83\\xbd\\xe6\\x98\\xaf\\xe4\\xb8\\xba\\xe4\\xba\\x86\\xe5\\xba\\x94\\xe5\\xaf\\xb9\\xe5\\x90\\x84\\xe7\\xa7\\x8d\\xe6\\xaf\\x92\\xe7\\x98\\xa4\\xe7\\x9a\\x84\\xef\\xbc\\x88\\xe9\\x99\\xa4\\xe4\\xba\\x86\\xe5\\x85\\xb6\\xe4\\xbb\\x96\\xe5\\x87\\xa0\\xe4\\xb8\\xaa xposed \\xe6\\x8f\\x92\\xe4\\xbb\\xb6\\xe4\\xbb\\xa5\\xe5\\xa4\\x96\\xef\\xbc\\x89\\xe3\\x80\\x82\\xe9\\xa6\\x96\\xe5\\x85\\x88\\xe6\\x88\\x91\\xe4\\xbd\\xbf\\xe7\\x94\\xa8\\xe6\\x96\\xb0\\xe7\\x89\\x88\\xe9\\xbb\\x91\\xe5\\x9f\\x9f\\xef\\xbc\\x8c\\xe6\\x96\\xb0\\xe7\\x9a\\x84\\xe9\\x98\\xbb\\xe6\\xad\\xa2 list \\xe8\\xa6\\x81\\xe8\\x87\\xaa\\xe5\\xb7\\xb1\\xe4\\xb8\\x80\\xe4\\xb8\\xaa\\xe4\\xb8\\xaa\\xe7\\x9a\\x84\\xe9\\x87\\x8d\\xe6\\x96\\xb0\\xe6\\xb7\\xbb\\xe5\\x8a\\xa0\\xe4\\xba\\x86\\xe3\\x80\\x82\\xe5\\x9b\\xa0\\xe4\\xb8\\xba\\xe6\\x96\\xb0\\xe7\\x89\\x88\\xe9\\xbb\\x91\\xe5\\x9f\\x9f\\xe6\\x98\\xaf\\xe4\\xb8\\x8d\\xe8\\xa7\\xa3\\xe5\\x86\\xb3\\xe5\\xba\\x94\\xe7\\x94\\xa8\\xe5\\x94\\xa4\\xe9\\x86\\x92\\xe7\\x9a\\x84\\xef\\xbc\\x8c\\xe6\\x89\\x80\\xe4\\xbb\\xa5\\xe6\\x88\\x91\\xe4\\xbd\\xbf\\xe7\\x94\\xa8\\xe7\\xbb\\xbf\\xe8\\x89\\xb2\\xe5\\xae\\x88\\xe6\\x8a\\xa4\\xe7\\x9a\\x84\\xe5\\x94\\xa4\\xe9\\x86\\x92\\xe8\\xbf\\xbd\\xe8\\xb8\\xaa\\xe5\\x8a\\x9f\\xe8\\x83\\xbd\\xe6\\x9d\\xa5\\xe5\\x88\\x87\\xe6\\x96\\xad\\xe5\\xba\\x94\\xe7\\x94\\xa8\\xe4\\xb9\\x8b\\xe9\\x97\\xb4\\xe7\\x9a\\x84\\xe5\\x94\\xa4\\xe9\\x86\\x92\\xef\\xbc\\x8c\\xe8\\xbf\\x99\\xe4\\xb8\\xaa\\xe4\\xb9\\x9f\\xe8\\xa6\\x81\\xe6\\x85\\xa2\\xe6\\x85\\xa2\\xe4\\xb8\\x80\\xe4\\xb8\\xaa\\xe4\\xb8\\xaa\\xe9\\x87\\x8d\\xe6\\x96\\xb0\\xe5\\x88\\x87\\xe6\\x96\\xad\\xe3\\x80\\x82\\xe7\\x84\\xb6\\xe5\\x90\\x8e\\xe6\\x98\\xaf\\xe5\\x86\\xb0\\xe7\\xae\\xb1\\xef\\xbc\\x8c\\xe4\\xb8\\x80\\xe4\\xba\\x9b\\xe4\\xb8\\x8d\\xe5\\xa4\\xaa\\xe5\\xb8\\xb8\\xe7\\x94\\xa8\\xe7\\x9a\\x84\\xe5\\xa4\\xa7\\xe6\\xaf\\x92\\xe7\\x98\\xa4\\xe5\\xba\\x94\\xe7\\x94\\xa8\\xe8\\xa6\\x81\\xe6\\x94\\xbe\\xe5\\x85\\xa5\\xe5\\x86\\xb0\\xe7\\xae\\xb1\\xef\\xbc\\x8c\\xe5\\xbd\\xbb\\xe5\\xba\\x95\\xe5\\xb0\\x86\\xe5\\x85\\xb6\\xe6\\x89\\x93\\xe5\\x85\\xa5\\xe6\\xb7\\xb1\\xe6\\xb8\\x8a\\xef\\xbc\\x8c\\xe8\\xbf\\x99\\xe4\\xb8\\x80\\xe6\\xad\\xa5\\xe5\\x90\\x8c\\xe6\\xa0\\xb7\\xe9\\x9c\\x80\\xe8\\xa6\\x81\\xe8\\x87\\xaa\\xe5\\xb7\\xb1\\xe6\\x89\\x8b\\xe5\\x8a\\xa8\\xe4\\xb8\\x80\\xe4\\xb8\\xaa\\xe4\\xb8\\xaa\\xe7\\x9a\\x84\\xe6\\xb7\\xbb\\xe5\\x8a\\xa0\\xe3\\x80\\x82\\xe5\\x86\\x8d\\xe6\\x9d\\xa5\\xe6\\x98\\xaf xposed\\xef\\xbc\\x8c\\xe7\\xbb\\xbf\\xe5\\xae\\x88\\xe7\\x9a\\x84\\xe9\\xab\\x98\\xe7\\xba\\xa7\\xe5\\x8a\\x9f\\xe8\\x83\\xbd\\xe5\\x92\\x8c amlify \\xe9\\x83\\xbd\\xe9\\x9c\\x80\\xe8\\xa6\\x81\\xe5\\xae\\x83\\xef\\xbc\\x8camlify \\xe6\\x98\\xaf\\xe8\\xae\\xbe\\xe7\\xbd\\xae\\xe5\\x94\\xa4\\xe9\\x86\\x92\\xe9\\x94\\x81\\xe7\\x9a\\x84\\xef\\xbc\\x8c\\xe5\\xaf\\xb9\\xe4\\xbb\\x98 google \\xe9\\x83\\xa8\\xe5\\x88\\x86\\xe6\\x9c\\x8d\\xe5\\x8a\\xa1\\xe5\\x92\\x8c\\xe5\\xbe\\xae\\xe4\\xbf\\xa1\\xe7\\x9a\\x84\\xe4\\xb8\\xa7\\xe5\\xbf\\x83\\xe7\\x97\\x85\\xe7\\x8b\\x82\\xe7\\x9a\\x84\\xe5\\x94\\xa4\\xe9\\x86\\x92\\xe6\\x9c\\x89\\xe5\\xa5\\x87\\xe6\\x95\\x88\\xe3\\x80\\x82\\xe5\\x86\\x8d\\xe7\\x84\\xb6\\xe5\\x90\\x8e\\xe6\\x98\\xaf\\xe5\\x86\\x99\\xe8\\xbd\\xae\\xe7\\x9c\\xbc\\xef\\xbc\\x8c\\xe8\\xbf\\x99\\xe4\\xb8\\xaa\\xe6\\xaf\\x94\\xe7\\xbb\\xbf\\xe5\\xae\\x88\\xe7\\x9a\\x84\\xe5\\x94\\xa4\\xe9\\x86\\x92\\xe5\\x88\\x87\\xe6\\x96\\xad\\xe6\\x9b\\xb4\\xe9\\xba\\xbb\\xe7\\x83\\xa6\\xef\\xbc\\x8c\\xe7\\x94\\xb1\\xe4\\xba\\x8e\\xe4\\xb9\\x8b\\xe5\\x89\\x8d\\xe5\\xaf\\xb9\\xe4\\xba\\x8e\\xe6\\xaf\\x8f\\xe4\\xb8\\xaa\\xe6\\xaf\\x92\\xe7\\x98\\xa4\\xe5\\xba\\x94\\xe7\\x94\\xa8\\xe7\\x9a\\x84\\xe7\\x89\\xb9\\xe6\\xae\\x8a\\xe5\\xa4\\x84\\xe7\\x90\\x86\\xe5\\x85\\xa8\\xe9\\x83\\xbd\\xe4\\xb8\\xa2\\xe4\\xba\\x86\\xef\\xbc\\x8c\\xe5\\x8f\\xaa\\xe8\\x83\\xbd\\xe9\\x9a\\x8f\\xe7\\x9d\\x80\\xe4\\xbb\\xa5\\xe5\\x90\\x8e\\xe7\\x9a\\x84\\xe4\\xbd\\xbf\\xe7\\x94\\xa8\\xe6\\x85\\xa2\\xe6\\x85\\xa2\\xe8\\xb0\\x83\\xe6\\x95\\x99\\xe4\\xba\\x86\\xef\\xbc\\x8c\\xe5\\x8c\\x85\\xe6\\x8b\\xac\\xe5\\xbc\\x84\\xe6\\xad\\xbb\\xe9\\x83\\xa8\\xe5\\x88\\x86\\xe5\\xba\\x94\\xe7\\x94\\xa8\\xe6\\x97\\xa0\\xe6\\xb3\\x95\\xe5\\x85\\xb3\\xe6\\x8e\\x89\\xe7\\x9a\\x84 sync \\xe6\\x9c\\x8d\\xe5\\x8a\\xa1\\xef\\xbc\\x81\\xe6\\x9c\\x80\\xe5\\x90\\x8e\\xe6\\x98\\xaf\\xe5\\xae\\x89\\xe8\\xa3\\x85\\xe4\\xb8\\x80\\xe4\\xba\\x9b\\xe5\\xb8\\xb8\\xe7\\x94\\xa8\\xe7\\x9a\\x84\\xe6\\xaf\\x92\\xe7\\x98\\xa4\\xe5\\xba\\x94\\xe7\\x94\\xa8\\xe7\\x9a\\x84\\xe4\\xbf\\xae\\xe6\\x94\\xb9\\xe7\\x89\\x88\\xef\\xbc\\x8c\\xe8\\xad\\xac\\xe5\\xa6\\x82\\xe9\\xab\\x98\\xe5\\xbe\\xb7\\xe7\\x9a\\x84\\xe9\\x94\\xa4\\xe5\\xad\\x90\\xe5\\xae\\x9a\\xe5\\x88\\xb6\\xe7\\x89\\x88\\xef\\xbc\\x8c\\xe4\\xb8\\xba\\xe7\\x9a\\x84\\xe6\\x98\\xaf\\xe5\\x8e\\xbb\\xe6\\x8e\\x89\\xe6\\x97\\xa0\\xe7\\x94\\xa8\\xe7\\x9a\\x84\\xe6\\x9c\\x8d\\xe5\\x8a\\xa1\\xef\\xbc\\x8c\\xe6\\x9c\\x80\\xe5\\xa4\\xa7\\xe9\\x99\\x90\\xe5\\xba\\xa6\\xe4\\xbf\\x9d\\xe6\\x8c\\x81\\xe5\\xb8\\xb8\\xe7\\x94\\xa8\\xe5\\xba\\x94\\xe7\\x94\\xa8\\xe7\\x9a\\x84\\xe6\\xb5\\x81\\xe7\\x95\\x85\\xe3\\x80\\x82\\xe4\\xbb\\xa5\\xe4\\xb8\\x8a\\xe6\\x89\\x80\\xe6\\x9c\\x89\\xe7\\x9a\\x84\\xe4\\xb8\\x80\\xe5\\x88\\x87\\xe5\\xb7\\xa5\\xe4\\xbd\\x9c\\xe9\\x83\\xbd\\xe6\\x98\\xaf\\xe5\\x9b\\xa0\\xe4\\xb8\\xba\\xe9\\x92\\x9b\\xe5\\xa4\\x87\\xe4\\xbb\\xbd\\xe7\\x9a\\x84\\xe6\\x95\\xb0\\xe6\\x8d\\xae\\xe4\\xb8\\xa2\\xe5\\xa4\\xb1\\xe9\\x80\\xa0\\xe6\\x88\\x90\\xe7\\x9a\\x84\\xe3\\x80\\x82\\xe5\\x8f\\xaf\\xe6\\x82\\xb2\\xe7\\x9a\\x84\\xe6\\x98\\xaf\\xef\\xbc\\x8c\\xe5\\xaf\\xb9\\xe4\\xba\\x8e iOS \\xe6\\x9d\\xa5\\xe8\\xaf\\xb4\\xef\\xbc\\x8c\\xe8\\xbf\\x99\\xe4\\xb8\\x80\\xe5\\x88\\x87\\xe6\\xa0\\xb9\\xe6\\x9c\\xac\\xe4\\xb8\\x8d\\xe9\\x9c\\x80\\xe8\\xa6\\x81\\xe5\\xa4\\x9a\\xe8\\x99\\x91\\xef\\xbc\\x8c\\xe5\\xbd\\x93\\xe7\\x84\\xb6\\xe4\\xb9\\x9f\\xe4\\xb8\\x8d\\xe4\\xbc\\x9a\\xe6\\x9c\\x89\\xe9\\xbb\\x91\\xe5\\x9f\\x9f\\xe8\\xbf\\x99\\xe4\\xba\\x9b\\xe7\\x9a\\x84\\xe5\\xba\\x94\\xe7\\x94\\xa8\\xe5\\xad\\x98\\xe5\\x9c\\xa8\\xe3\\x80\\x82\\xe3\\x80\\x82\\xe3\\x80\\x82\\\\u003C/p\\\\u003E\\\\u000A\\\\u003Cp\\\\u003E\\xe6\\x88\\x91\\xe4\\xb8\\x80\\xe7\\x9b\\xb4\\xe6\\x98\\xaf iOS \\xe5\\x92\\x8c Android \\xe5\\x8f\\x8c\\xe8\\xae\\xbe\\xe5\\xa4\\x87\\xef\\xbc\\x8c\\xe6\\x88\\x91\\xe4\\xb9\\x9f\\xe4\\xb8\\x80\\xe7\\x9b\\xb4\\xe9\\x83\\xbd\\xe8\\xa7\\x89\\xe5\\xbe\\x97\\xe4\\xb8\\xa4\\xe8\\x80\\x85\\xe6\\x98\\xaf\\xe5\\x90\\x84\\xe6\\x9c\\x89\\xe6\\x89\\x80\\xe9\\x95\\xbf\\xe3\\x80\\x82\\xe6\\xaf\\x8f\\xe6\\xac\\xa1\\xe6\\x88\\x91\\xe6\\x9c\\x89\\xe6\\x9c\\x8b\\xe5\\x8f\\x8b\\xe5\\x87\\xad\\xe7\\x9d\\x80\\xe4\\xb9\\x85\\xe8\\xbf\\x9c\\xe7\\x9a\\x84\\xe8\\xae\\xb0\\xe5\\xbf\\x86\\xe6\\x9d\\xa5\\xe5\\x92\\x8c\\xe6\\x88\\x91\\xe8\\xaf\\xb4 Android \\xe7\\x94\\xa8\\xe4\\xb9\\x85\\xe4\\xba\\x86\\xe4\\xbc\\x9a\\xe4\\xb8\\x8d\\xe4\\xbc\\x9a\\xe5\\xbe\\x88\\xe5\\x8d\\xa1\\xe7\\x9a\\x84\\xe6\\x97\\xb6\\xe5\\x80\\x99\\xef\\xbc\\x8c\\xe6\\x88\\x91\\xe9\\x83\\xbd\\xe4\\xbc\\x9a\\xe7\\x95\\xa5\\xe9\\x84\\x99\\xe5\\xa4\\xb7\\xe7\\x9a\\x84\\xe5\\x9b\\x9e\\xe5\\xa4\\x8d\\xe4\\xb8\\x80\\xe5\\x8f\\xa5\\xef\\xbc\\x9a\\xe9\\x82\\xa3\\xe6\\x98\\xaf\\xe4\\xbd\\xa0\\xe4\\xb8\\x8d\\xe4\\xbc\\x9a\\xe7\\x94\\xa8\\xef\\xbc\\x81\\xe5\\x8f\\xaf\\xe8\\xbf\\x99\\xe6\\xac\\xa1\\xe6\\x95\\xb0\\xe6\\x8d\\xae\\xe4\\xb8\\xa2\\xe5\\xa4\\xb1\\xef\\xbc\\x8c\\xe8\\xae\\xa9\\xe6\\x88\\x91\\xe6\\x98\\x8e\\xe7\\x99\\xbd\\xe4\\xba\\x86\\xe8\\xbf\\x99\\xe4\\xb8\\xaa\\xe6\\x89\\x80\\xe8\\xb0\\x93\\xe7\\x9a\\x84\\xe3\\x80\\x8e\\xe4\\xbc\\x9a\\xe7\\x94\\xa8\\xe3\\x80\\x8f\\xe6\\x98\\xaf\\xe5\\xa4\\x9a\\xe4\\xb9\\x88\\xe7\\x9a\\x84\\xe8\\xbe\\x9b\\xe9\\x85\\xb8\\xef\\xbc\\x8c\\xe4\\xbb\\xa5\\xe4\\xb8\\x8a\\xe8\\xbf\\x99\\xe4\\xba\\x9b\\xe6\\x8a\\x80\\xe8\\x83\\xbd\\xe7\\x9c\\x9f\\xe4\\xb8\\x8d\\xe6\\x98\\xaf\\xe4\\xb8\\x80\\xe8\\x88\\xac\\xe7\\x94\\xa8\\xe6\\x88\\xb7\\xe5\\xba\\x94\\xe8\\xaf\\xa5\\xe5\\x85\\xb7\\xe5\\xa4\\x87\\xe7\\x9a\\x84\\xef\\xbc\\x8c\\xe5\\xa4\\xa7\\xe5\\xae\\xb6\\xe7\\x9c\\x9f\\xe7\\x9a\\x84\\xe6\\x98\\xaf\\xe8\\xa2\\xab\\xe9\\x80\\xbc\\xe7\\x9a\\x84\\xe5\\x95\\x8a\\xef\\xbc\\x81\\xe7\\xbb\\x93\\xe6\\x9e\\x9c\\xe6\\x8a\\x98\\xe8\\x85\\xbe\\xe5\\x88\\xb0\\xe6\\x9c\\x80\\xe5\\x90\\x8e\\xe7\\x9a\\x84\\xe4\\xba\\xba\\xe7\\xab\\x9f\\xe7\\x84\\xb6\\xe4\\xbc\\x9a\\xe4\\xba\\xa7\\xe7\\x94\\x9f\\xe7\\x95\\xa5\\xe7\\x95\\xb8\\xe5\\xbd\\xa2\\xe7\\x9a\\x84\\xe4\\xbc\\x98\\xe8\\xb6\\x8a\\xe6\\x84\\x9f\\xef\\xbc\\x8c\\xe7\\x9c\\x9f\\xe7\\x9a\\x84\\xe6\\x98\\xaf\\xe8\\x80\\x90\\xe4\\xba\\xba\\xe5\\xaf\\xbb\\xe5\\x91\\xb3\\xe3\\x80\\x82Android \\xe8\\xa6\\x81\\xe6\\x83\\xb3\\xe5\\x92\\x8c iOS \\xe5\\x9c\\xa8\\xe6\\x89\\x8b\\xe6\\x9c\\xba\\xe7\\x9a\\x84\\xe5\\x9f\\xba\\xe6\\x9c\\xac\\xe4\\xbd\\x93\\xe9\\xaa\\x8c\\xe4\\xb8\\x8a\\xe7\\xab\\x99\\xe5\\x9c\\xa8\\xe5\\x90\\x8c\\xe4\\xb8\\x80\\xe5\\x8f\\xb0\\xe9\\x98\\xb6\\xe7\\x9a\\x84\\xe8\\xaf\\x9d\\xef\\xbc\\x8c\\xe7\\x9c\\x9f\\xe7\\x9a\\x84\\xe9\\x9c\\x80\\xe8\\xa6\\x81\\xe8\\x8a\\xb1\\xe4\\xb8\\x80\\xe4\\xba\\x9b\\xe6\\x97\\xb6\\xe9\\x97\\xb4\\xe3\\x80\\x82\\xe7\\xbb\\x9d\\xe5\\xa4\\xa7\\xe9\\x83\\xa8\\xe5\\x88\\x86\\xe7\\x94\\xa8\\xe6\\x88\\xb7\\xe4\\xb8\\x8d\\xe4\\xbc\\x9a\\xe8\\xbf\\x99\\xe4\\xb9\\x88\\xe6\\x93\\x8d\\xe4\\xbd\\x9c\\xef\\xbc\\x8c\\xe4\\xbb\\x96\\xe4\\xbb\\xac\\xe5\\x9c\\xa8\\xe6\\x89\\x8b\\xe6\\x9c\\xba\\xe7\\x94\\xa8\\xe4\\xb9\\x85\\xe4\\xba\\x86\\xe4\\xb9\\x8b\\xe5\\x90\\x8e\\xe8\\x87\\xaa\\xe7\\x84\\xb6\\xe5\\xb0\\xb1\\xe4\\xbc\\x9a\\xe4\\xba\\xa7\\xe7\\x94\\x9f Android \\xe3\\x80\\x8e\\xe7\\x94\\xa8\\xe4\\xb9\\x85\\xe4\\xba\\x86\\xe9\\x83\\xbd\\xe4\\xbc\\x9a\\xe5\\x8d\\xa1\\xe3\\x80\\x8f\\xe7\\x9a\\x84\\xe6\\x80\\xa8\\xe5\\xbf\\xb5\\xef\\xbc\\x8c\\xe8\\xbf\\x99\\xe4\\xb9\\x9f\\xe6\\x98\\xaf\\xe7\\x9c\\x9f\\xe7\\x9a\\x84\\xe6\\x97\\xa0\\xe5\\xa5\\x88\\xe3\\x80\\x82\\xe6\\x9c\\x80\\xe5\\x90\\x8e\\xe6\\x88\\x91\\xe5\\xb9\\xb6\\xe4\\xb8\\x8d\\xe7\\x9b\\xb8\\xe4\\xbf\\xa1\\xe5\\x8d\\x8e\\xe4\\xb8\\xba\\xe9\\xbc\\x93\\xe5\\x90\\xb9\\xe7\\x9a\\x84\\xe6\\x89\\x80\\xe8\\xb0\\x93 18 \\xe4\\xb8\\xaa\\xe6\\x9c\\x88\\xe4\\xb8\\x8d\\xe5\\x8d\\xa1\\xe7\\x9a\\x84\\xe9\\xbb\\x91\\xe7\\xa7\\x91\\xe6\\x8a\\x80\\xef\\xbc\\x8c\\xe4\\xb8\\x8d\\xe6\\x8a\\x98\\xe8\\x85\\xbe\\xe4\\xb8\\x80\\xe7\\x95\\xaa\\xe7\\x9a\\x84\\xe8\\xaf\\x9d\\xef\\xbc\\x8c\\xe5\\x8d\\xa1\\xe6\\x88\\x96\\xe8\\xae\\xb8\\xe4\\xbc\\x9a\\xe6\\x99\\x9a\\xe6\\x9d\\xa5\\xef\\xbc\\x8c\\xe4\\xbd\\x86\\xe7\\xbb\\x9d\\xe4\\xb8\\x8d\\xe4\\xbc\\x9a\\xe7\\xbc\\xba\\xe5\\xb8\\xad\\xe3\\x80\\x82\\xe3\\x80\\x82\\xe3\\x80\\x82\\\\u003C/p\\\\u003E\\\\u000A\",\\n        \"replies\" : 40,\\n        \"member\" : {\\n            \"id\" : 12594,\\n            \"username\" : \"weicaizhi\",\\n            \"tagline\" : \"Permission to be human!\",\\n            \"avatar_mini\" : \"//v2ex.assets.uxengine.net/avatar/0dce/2089/12594_mini.png?m=1359604048\",\\n            \"avatar_normal\" : \"//v2ex.assets.uxengine.net/avatar/0dce/2089/12594_normal.png?m=1359604048\",\\n            \"avatar_large\" : \"//v2ex.assets.uxengine.net/avatar/0dce/2089/12594_large.png?m=1359604048\"\\n        },\\n        \"node\" : {\\n            \"id\" : 39,\\n            \"name\" : \"android\",\\n            \"title\" : \"Android\",\\n            \"title_alternative\" : \"Android\",\\n            \"url\" : \"http://www.v2ex.com/go/android\",\\n            \"topics\" : 3938,\\n            \"avatar_mini\" : \"//v2ex.assets.uxengine.net/navatar/d67d/8ab4/39_mini.png?m=1495572743\",\\n            \"avatar_normal\" : \"//v2ex.assets.uxengine.net/navatar/d67d/8ab4/39_normal.png?m=1495572743\",\\n            \"avatar_large\" : \"//v2ex.assets.uxengine.net/navatar/d67d/8ab4/39_large.png?m=1495572743\"\\n        },\\n        \"created\" : 1495721492,\\n        \"last_modified\" : 1495721538,\\n        \"last_touched\" : 1495763074\\n    }\\n    \\n]'"
      ]
     },
     "execution_count": 64,
     "metadata": {},
     "output_type": "execute_result"
    }
   ],
   "source": [
    "r.content #一二进制的方式返回数据"
   ]
  },
  {
   "cell_type": "markdown",
   "metadata": {},
   "source": [
    "#### 以请求返回二进制数据来创建一张图片"
   ]
  },
  {
   "cell_type": "code",
   "execution_count": 73,
   "metadata": {
    "collapsed": false
   },
   "outputs": [],
   "source": [
    "from PIL import Image\n",
    "from io import BytesIO\n",
    "data = requests.get('http://v2ex.assets.uxengine.net/avatar/5703/de35/180102_large.png?m=1494211023')\n",
    "i = Image.open(BytesIO(data.content))"
   ]
  },
  {
   "cell_type": "code",
   "execution_count": 75,
   "metadata": {
    "collapsed": false
   },
   "outputs": [
    {
     "data": {
      "image/png": "[encoded data removed]",
      "text/plain": [
       "<PIL.PngImagePlugin.PngImageFile image mode=RGB size=73x73 at 0x104359DD0>"
      ]
     },
     "execution_count": 75,
     "metadata": {},
     "output_type": "execute_result"
    }
   ],
   "source": [
    "i"
   ]
  },
  {
   "cell_type": "markdown",
   "metadata": {},
   "source": [
    "### Json响应内容"
   ]
  },
  {
   "cell_type": "code",
   "execution_count": 97,
   "metadata": {
    "collapsed": false
   },
   "outputs": [],
   "source": [
    "r = requests.get(url)"
   ]
  },
  {
   "cell_type": "code",
   "execution_count": 98,
   "metadata": {
    "collapsed": false
   },
   "outputs": [],
   "source": [
    "json = r.json()"
   ]
  },
  {
   "cell_type": "code",
   "execution_count": 99,
   "metadata": {
    "collapsed": false
   },
   "outputs": [
    {
     "data": {
      "text/plain": [
       "[{u'content': u'\\u672c\\u4eba\\u4e0d\\u600e\\u4e48\\u503e\\u5411\\u65e5\\u7cfb\\uff0c\\u5927\\u5bb6\\u4e2a\\u63a8\\u8350\\u4e00\\u4e0b\\u5427\\uff01',\n",
       "  u'content_rendered': u'<p>\\u672c\\u4eba\\u4e0d\\u600e\\u4e48\\u503e\\u5411\\u65e5\\u7cfb\\uff0c\\u5927\\u5bb6\\u4e2a\\u63a8\\u8350\\u4e00\\u4e0b\\u5427\\uff01</p>\\n',\n",
       "  u'created': 1495702079,\n",
       "  u'id': 363785,\n",
       "  u'last_modified': 1495709799,\n",
       "  u'last_touched': 1495765673,\n",
       "  u'member': {u'avatar_large': u'//v2ex.assets.uxengine.net/avatar/dcbe/4be7/21612_large.png?m=1371455312',\n",
       "   u'avatar_mini': u'//v2ex.assets.uxengine.net/avatar/dcbe/4be7/21612_mini.png?m=1371455312',\n",
       "   u'avatar_normal': u'//v2ex.assets.uxengine.net/avatar/dcbe/4be7/21612_normal.png?m=1371455312',\n",
       "   u'id': 21612,\n",
       "   u'tagline': u'',\n",
       "   u'username': u'assad'},\n",
       "  u'node': {u'avatar_large': u'//v2ex.assets.uxengine.net/navatar/38af/8613/176_large.png?m=1408012248',\n",
       "   u'avatar_mini': u'//v2ex.assets.uxengine.net/navatar/38af/8613/176_mini.png?m=1408012248',\n",
       "   u'avatar_normal': u'//v2ex.assets.uxengine.net/navatar/38af/8613/176_normal.png?m=1408012248',\n",
       "   u'id': 176,\n",
       "   u'name': u'car',\n",
       "   u'title': u'\\u6c7d\\u8f66',\n",
       "   u'title_alternative': u'Car',\n",
       "   u'topics': 356,\n",
       "   u'url': u'http://www.v2ex.com/go/car'},\n",
       "  u'replies': 140,\n",
       "  u'title': u'18-23 \\u4e07\\uff0c\\u4e70\\u4e2a\\u4ec0\\u4e48\\u8f66\\u6bd4\\u8f83\\u597d\\uff1f',\n",
       "  u'url': u'http://www.v2ex.com/t/363785'},\n",
       " {u'content': u'\\u524d\\u7aef\\u65b0\\u4eba\\uff0c\\u5165\\u95e8\\u8fc7\\u7a0b\\u4e2d\\u505a\\u4e86\\u4e2a\\u79fb\\u52a8\\u7aef\\u5355\\u9875\\u5e94\\u7528\\uff0c\\u662f\\u4e00\\u6b3e\\u9488\\u5bf9\\u4e8e\\u7a0b\\u5e8f\\u5458\\u7684\\u8bcd\\u5178\\uff0c\\u4e3b\\u8981\\u662f\\u60f3\\u6536\\u96c6\\u4e00\\u4e9b\\u5e73\\u65f6\\u5927\\u5bb6\\u4e0d\\u80fd\\u786e\\u5b9a\\u6807\\u51c6\\u8bfb\\u97f3\\u7684\\uff0c\\u5c24\\u5176\\u662f\\u4e00\\u4e9b\\u5b57\\u5178\\u91cc\\u6ca1\\u6709\\u7684\\u540d\\u8bcd\\u3002\\u53ef\\u80fd\\u662f\\u5728\\u5b98\\u7f51\\u7ed9\\u51fa\\u4e86\\u8bfb\\u97f3\\uff0c\\u6216\\u8005\\u4f5c\\u8005\\u7ed9\\u51fa\\u4e86\\u8bfb\\u97f3\\u7684\\uff0c\\u5e0c\\u671b\\u5927\\u5bb6\\u80fd\\u63d0\\u4f9b\\u4e00\\u4e9b\\u8fd9\\u6837\\u7684\\u540d\\u8bcd\\uff0c\\u6211\\u53bb\\u627e\\u6807\\u51c6\\u8bfb\\u97f3\\uff0c\\u8c22\\u8c22\\u5566~   \\r\\n[Demo]( http://120.24.179.35:8099/)',\n",
       "  u'content_rendered': u'<p>\\u524d\\u7aef\\u65b0\\u4eba\\uff0c\\u5165\\u95e8\\u8fc7\\u7a0b\\u4e2d\\u505a\\u4e86\\u4e2a\\u79fb\\u52a8\\u7aef\\u5355\\u9875\\u5e94\\u7528\\uff0c\\u662f\\u4e00\\u6b3e\\u9488\\u5bf9\\u4e8e\\u7a0b\\u5e8f\\u5458\\u7684\\u8bcd\\u5178\\uff0c\\u4e3b\\u8981\\u662f\\u60f3\\u6536\\u96c6\\u4e00\\u4e9b\\u5e73\\u65f6\\u5927\\u5bb6\\u4e0d\\u80fd\\u786e\\u5b9a\\u6807\\u51c6\\u8bfb\\u97f3\\u7684\\uff0c\\u5c24\\u5176\\u662f\\u4e00\\u4e9b\\u5b57\\u5178\\u91cc\\u6ca1\\u6709\\u7684\\u540d\\u8bcd\\u3002\\u53ef\\u80fd\\u662f\\u5728\\u5b98\\u7f51\\u7ed9\\u51fa\\u4e86\\u8bfb\\u97f3\\uff0c\\u6216\\u8005\\u4f5c\\u8005\\u7ed9\\u51fa\\u4e86\\u8bfb\\u97f3\\u7684\\uff0c\\u5e0c\\u671b\\u5927\\u5bb6\\u80fd\\u63d0\\u4f9b\\u4e00\\u4e9b\\u8fd9\\u6837\\u7684\\u540d\\u8bcd\\uff0c\\u6211\\u53bb\\u627e\\u6807\\u51c6\\u8bfb\\u97f3\\uff0c\\u8c22\\u8c22\\u5566~<br>\\n<a href=\"http://120.24.179.35:8099/\" rel=\"nofollow\">Demo</a></p>\\n',\n",
       "  u'created': 1495680258,\n",
       "  u'id': 363663,\n",
       "  u'last_modified': 1495691288,\n",
       "  u'last_touched': 1495764388,\n",
       "  u'member': {u'avatar_large': u'//v2ex.assets.uxengine.net/avatar/5703/de35/180102_large.png?m=1494211023',\n",
       "   u'avatar_mini': u'//v2ex.assets.uxengine.net/avatar/5703/de35/180102_mini.png?m=1494211023',\n",
       "   u'avatar_normal': u'//v2ex.assets.uxengine.net/avatar/5703/de35/180102_normal.png?m=1494211023',\n",
       "   u'id': 180102,\n",
       "   u'tagline': u'',\n",
       "   u'username': u'hzw758'},\n",
       "  u'node': {u'avatar_large': u'/static/img/node_large.png',\n",
       "   u'avatar_mini': u'/static/img/node_mini.png',\n",
       "   u'avatar_normal': u'/static/img/node_normal.png',\n",
       "   u'id': 859,\n",
       "   u'name': u'pronunciation',\n",
       "   u'title': u'\\u53d1\\u97f3',\n",
       "   u'title_alternative': u'',\n",
       "   u'topics': 40,\n",
       "   u'url': u'http://www.v2ex.com/go/pronunciation'},\n",
       "  u'replies': 120,\n",
       "  u'title': u'\\u5927\\u5bb6\\u5e73\\u65f6\\u6709\\u4ec0\\u4e48\\u4e0d\\u786e\\u5b9a\\u8bfb\\u97f3\\u7684\\u5355\\u8bcd\\u5417',\n",
       "  u'url': u'http://www.v2ex.com/t/363663'},\n",
       " {u'content': u'\\u81ea\\u4ece\\u4e0a\\u6708\\u6211\\u8001\\u5a46\\u6000\\u5b55\\u6d41\\u4ea7\\u540e\\uff0c\\u6211\\u6162\\u6162\\u5c31\\u5f00\\u59cb\\u6709\\u8fd9\\u79cd\\u611f\\u89c9\\u3002\\u5c24\\u5176\\u662f\\u4e00\\u4e2a\\u4eba\\u8eba\\u5728\\u5e8a\\u4e0a\\u6216\\u8005\\u8def\\u4e0a\\u884c\\u8d70\\u7684\\u65f6\\u5019\\uff0c\\u603b\\u4f1a\\u60f3\\u81ea\\u5df1\\u4f1a\\u4e0d\\u4f1a\\u4e0d\\u4e45\\u4ee5\\u540e\\u79bb\\u5f00\\u3002\\u6709\\u8fc7\\u60f3\\u6cd5\\u7ed9\\u81ea\\u5df1\\u4e70\\u4e2a\\u4fdd\\u9669\\u4e4b\\u7c7b\\u7684\\u4e1c\\u897f\\uff0c\\u9632\\u6b62\\u81ea\\u5df1\\u79bb\\u5f00\\u540e\\u5bb6\\u4eba\\u8fd8\\u80fd\\u751f\\u6d3b\\u4e0b\\u53bb\\u3002\\u53e6\\u5916\\u6211\\u5de5\\u4f5c\\u751f\\u6d3b\\u4e4b\\u7c7b\\u4e5f\\u6ca1\\u4ec0\\u4e48\\u5176\\u4ed6\\u7684\\u7cdf\\u5fc3\\u4e8b\\uff0c\\u5bb6\\u5ead\\u5173\\u7cfb\\u4e5f\\u4e0d\\u9519\\uff0c\\u5c31\\u662f\\u81ea\\u8eab\\u6bd4\\u8f83\\u5b85\\uff0c\\u559c\\u6b22\\u5728\\u5bb6\\u6253\\u6e38\\u620f\\u3002\\u6839\\u672c\\u539f\\u56e0\\u53ef\\u80fd\\u662f\\u5f3a\\u70c8\\u7684\\u4e0d\\u5b89\\u5168\\u611f\\u5427\\u3002\\r\\n\\u60f3\\u7ed9\\u81ea\\u5df1\\u505a\\u4e2a\\u5168\\u8eab\\u68c0\\u67e5\\uff0c\\u53c8\\u820d\\u4e0d\\u5f97\\u51e0\\u5343\\u5757\\u7684\\u4f53\\u68c0\\u8d39\\u3002\\u5728\\u5916\\u5403\\u4e1c\\u897f\\uff0c\\u603b\\u611f\\u89c9\\u4e0d\\u536b\\u751f\\u6709\\u5bb3\\u8eab\\u4f53\\uff0c\\u4f46\\u662f\\u4f9d\\u7136\\u5728\\u5403\\u3002\\u73b0\\u5728 Q \\u6d41\\u611f\\uff0c\\u53c8\\u62c5\\u5fc3\\u81ea\\u5df1\\u4f1a\\u5f97\\uff0c\\u6211\\u8001\\u5a46\\u6d41\\u4ea7\\u4e4b\\u524d\\uff0c\\u6211\\u4e00\\u76f4\\u4ee5\\u4e3a\\u4e0d\\u5e78\\u79bb\\u81ea\\u5df1\\u5f88\\u9065\\u8fdc\\uff0c\\u4e4b\\u540e\\u53c8\\u89c9\\u5f97\\u4ec0\\u4e48\\u4e8b\\u90fd\\u4f1a\\u53d1\\u751f\\u5728\\u81ea\\u5df1\\u8eab\\u4e0a\\u3002\\u8fd9\\u96be\\u9053\\u662f\\u6240\\u8c13\\u60ca\\u5f13\\u4e4b\\u9e1f\\uff1f',\n",
       "  u'content_rendered': u'<p>\\u81ea\\u4ece\\u4e0a\\u6708\\u6211\\u8001\\u5a46\\u6000\\u5b55\\u6d41\\u4ea7\\u540e\\uff0c\\u6211\\u6162\\u6162\\u5c31\\u5f00\\u59cb\\u6709\\u8fd9\\u79cd\\u611f\\u89c9\\u3002\\u5c24\\u5176\\u662f\\u4e00\\u4e2a\\u4eba\\u8eba\\u5728\\u5e8a\\u4e0a\\u6216\\u8005\\u8def\\u4e0a\\u884c\\u8d70\\u7684\\u65f6\\u5019\\uff0c\\u603b\\u4f1a\\u60f3\\u81ea\\u5df1\\u4f1a\\u4e0d\\u4f1a\\u4e0d\\u4e45\\u4ee5\\u540e\\u79bb\\u5f00\\u3002\\u6709\\u8fc7\\u60f3\\u6cd5\\u7ed9\\u81ea\\u5df1\\u4e70\\u4e2a\\u4fdd\\u9669\\u4e4b\\u7c7b\\u7684\\u4e1c\\u897f\\uff0c\\u9632\\u6b62\\u81ea\\u5df1\\u79bb\\u5f00\\u540e\\u5bb6\\u4eba\\u8fd8\\u80fd\\u751f\\u6d3b\\u4e0b\\u53bb\\u3002\\u53e6\\u5916\\u6211\\u5de5\\u4f5c\\u751f\\u6d3b\\u4e4b\\u7c7b\\u4e5f\\u6ca1\\u4ec0\\u4e48\\u5176\\u4ed6\\u7684\\u7cdf\\u5fc3\\u4e8b\\uff0c\\u5bb6\\u5ead\\u5173\\u7cfb\\u4e5f\\u4e0d\\u9519\\uff0c\\u5c31\\u662f\\u81ea\\u8eab\\u6bd4\\u8f83\\u5b85\\uff0c\\u559c\\u6b22\\u5728\\u5bb6\\u6253\\u6e38\\u620f\\u3002\\u6839\\u672c\\u539f\\u56e0\\u53ef\\u80fd\\u662f\\u5f3a\\u70c8\\u7684\\u4e0d\\u5b89\\u5168\\u611f\\u5427\\u3002\\n\\u60f3\\u7ed9\\u81ea\\u5df1\\u505a\\u4e2a\\u5168\\u8eab\\u68c0\\u67e5\\uff0c\\u53c8\\u820d\\u4e0d\\u5f97\\u51e0\\u5343\\u5757\\u7684\\u4f53\\u68c0\\u8d39\\u3002\\u5728\\u5916\\u5403\\u4e1c\\u897f\\uff0c\\u603b\\u611f\\u89c9\\u4e0d\\u536b\\u751f\\u6709\\u5bb3\\u8eab\\u4f53\\uff0c\\u4f46\\u662f\\u4f9d\\u7136\\u5728\\u5403\\u3002\\u73b0\\u5728 Q \\u6d41\\u611f\\uff0c\\u53c8\\u62c5\\u5fc3\\u81ea\\u5df1\\u4f1a\\u5f97\\uff0c\\u6211\\u8001\\u5a46\\u6d41\\u4ea7\\u4e4b\\u524d\\uff0c\\u6211\\u4e00\\u76f4\\u4ee5\\u4e3a\\u4e0d\\u5e78\\u79bb\\u81ea\\u5df1\\u5f88\\u9065\\u8fdc\\uff0c\\u4e4b\\u540e\\u53c8\\u89c9\\u5f97\\u4ec0\\u4e48\\u4e8b\\u90fd\\u4f1a\\u53d1\\u751f\\u5728\\u81ea\\u5df1\\u8eab\\u4e0a\\u3002\\u8fd9\\u96be\\u9053\\u662f\\u6240\\u8c13\\u60ca\\u5f13\\u4e4b\\u9e1f\\uff1f</p>\\n',\n",
       "  u'created': 1495679422,\n",
       "  u'id': 363655,\n",
       "  u'last_modified': 1495679422,\n",
       "  u'last_touched': 1495764311,\n",
       "  u'member': {u'avatar_large': u'//v2ex.assets.uxengine.net/gravatar/57cfb83269169da07ba88cc2fa5377ee?s=73&d=retro',\n",
       "   u'avatar_mini': u'//v2ex.assets.uxengine.net/gravatar/57cfb83269169da07ba88cc2fa5377ee?s=24&d=retro',\n",
       "   u'avatar_normal': u'//v2ex.assets.uxengine.net/gravatar/57cfb83269169da07ba88cc2fa5377ee?s=48&d=retro',\n",
       "   u'id': 78777,\n",
       "   u'tagline': u'',\n",
       "   u'username': u'nandaye'},\n",
       "  u'node': {u'avatar_large': u'//v2ex.assets.uxengine.net/navatar/c20a/d4d7/12_large.png?m=1494924127',\n",
       "   u'avatar_mini': u'//v2ex.assets.uxengine.net/navatar/c20a/d4d7/12_mini.png?m=1494924127',\n",
       "   u'avatar_normal': u'//v2ex.assets.uxengine.net/navatar/c20a/d4d7/12_normal.png?m=1494924127',\n",
       "   u'id': 12,\n",
       "   u'name': u'qna',\n",
       "   u'title': u'\\u95ee\\u4e0e\\u7b54',\n",
       "   u'title_alternative': u'Questions and Answers',\n",
       "   u'topics': 87858,\n",
       "   u'url': u'http://www.v2ex.com/go/qna'},\n",
       "  u'replies': 63,\n",
       "  u'title': u'\\u6700\\u8fd1\\u603b\\u611f\\u89c9\\u81ea\\u5df1\\u4f1a\\u7a81\\u7136\\u79bb\\u5f00',\n",
       "  u'url': u'http://www.v2ex.com/t/363655'},\n",
       " {u'content': u'## \\u56f0\\u4e86\\u7d2f\\u4e86\\u8bf7\\u4e2a\\u5047\\r\\n\\u4e0b\\u5348\\u72af\\u56f0\\u7684\\u65f6\\u5019\\u9664\\u4e86\\u7761\\u4e00\\u89c9\\u8fd8\\u80fd\\u5e72\\u561b\\u5462\\uff1f\\u6211\\u6700\\u8fd1\\u90fd\\u662f\\u901a\\u8fc7\\u67e5\\u770b\\u4e0b\\u53a8\\u623f\\u7684\\u8bf7\\u5047\\u90ae\\u4ef6\\u6765\\u63d0\\u795e\\u9192\\u8111\\u7684\\uff0c\\u5404\\u79cd\\u8bf7\\u5047\\u7406\\u7531\\u603b\\u6709\\u4e00\\u6b3e\\u80fd\\u9017\\u9192\\u6211\\u3002\\u6211\\u6361\\u51e0\\u4e2a\\u4f73\\u4f5c\\u793a\\u4f17\\uff08\\u5fae\\u7b11\\r\\n\\r\\n![]( http://wx2.sinaimg.cn/large/6b4debedly1ffxlyyswjvj20hb00ndg0.jpg)\\r\\n* \\U0001f446\\u4f60\\u5230\\u5e95\\u505a\\u4e86\\u4ec0\\u4e48\\u4e0d\\u53ef\\u63cf\\u8ff0\\u7684\\u68a6\\r\\n\\r\\n![]( http://wx3.sinaimg.cn/large/6b4debedly1ffxm0e3kw2j20gm00pwek.jpg)\\r\\n* \\U0001f446\\u6211\\u8981\\u662f\\u56de\\u590d\\u201c\\u53ef\\u4ee5\\u201d\\u4f60\\u4f1a\\u4e0d\\u4f1a\\u4ee5\\u4e3a\\u6211\\u5728\\u5f00\\u73a9\\u7b11\\r\\n\\r\\n![]( http://wx4.sinaimg.cn/large/6b4debedly1ffxm0log17j20hc00ndg2.jpg)\\r\\n* \\U0001f446\\u732b\\u5230\\u5e95\\u505a\\u9519\\u4e86\\u4ec0\\u4e48\\uff1f\\uff01\\u4ed6\\u8fd8\\u662f\\u4e2a\\u5b69\\u5b50\\uff1f\\uff01\\r\\n\\r\\n![]( http://wx1.sinaimg.cn/large/6b4debedly1ffxm27rx4zj20gt00qglq.jpg)\\r\\n* \\U0001f446\\u6211\\u7684\\u8138\\u4e0a\\u8fd8\\u8981\\u4fdd\\u6301\\u56f4\\u7b11\\r\\n\\r\\n![]( http://wx1.sinaimg.cn/large/6b4debedly1ffxm2csl5cj20gk00sq2z.jpg)\\r\\n* \\U0001f446\\u6240\\u4ee5\\u6700\\u540e\\u627e\\u5230\\u4e86\\u5417\\uff1f\\r\\n\\r\\n![]( http://wx3.sinaimg.cn/large/6b4debedly1ffxm2tbgyjj20gm00rgln.jpg)\\r\\n* \\U0001f446\\u597d\\u7684\\u53ef\\u4ee5\\r\\n\\r\\n![]( http://wx1.sinaimg.cn/large/6b4debedly1ffxm2x2d11j20j100pwek.jpg)\\r\\n* \\U0001f446excuse me \\uff1f\\r\\n\\r\\n![]( http://wx3.sinaimg.cn/large/6b4debedly1ffxm3qg8zvj20gw00tmxa.jpg)\\r\\n* \\U0001f446\\u795d\\u4f60\\u6210\\u529f\\r\\n\\r\\n\\u8c03\\u4f83\\u5b8c\\u6bd5\\uff0c\\u65e0\\u8bba\\u5982\\u4f55\\u6211\\u90fd\\u7231\\u6211\\u6280\\u672f\\u5230\\u4f4d\\u597d\\u5947\\u5fc3\\u5f3a\\u4e2a\\u6027\\u6709\\u8da3\\u7684\\u6280\\u672f\\u56e2\\u961f\\u3002\\r\\n![]( http://wx1.sinaimg.cn/mw690/6b4debedly1ffxnnnc2hwj21kw16okjm.jpg)\\r\\n\\r\\n\\r\\n\\u6b63\\u7ecf\\u62db\\u8058\\u4fe1\\u606f\\U0001f447\\r\\n\\r\\n\\r\\n## \\u6211\\u4eec\\u662f\\u8c01\\r\\n\\r\\n* 6 \\u5c81\\u7684 B \\u8f6e\\u521b\\u4e1a\\u516c\\u53f8\\r\\n* \\u62e5\\u6709 1000 \\u591a\\u4e07\\u6ce8\\u518c\\u7528\\u6237\\r\\n* 4000 \\u591a\\u4e07 App \\u4e0b\\u8f7d\\u91cf\\r\\n* \\u8363\\u5e78\\u5165\\u9009\\u201c App Store 2013 \\u5e74\\u5ea6\\u7cbe\\u9009\\u201d\\r\\n* \\u8363\\u5e78\\u5165\\u9a7b\\u82f9\\u679c\\u4f53\\u9a8c\\u5e97\\uff08\\u4e2d\\u56fd\\u533a\\uff09\\u4f5c\\u4e3a\\u5c55\\u793a Demo\\r\\n\\r\\n## \\u6211\\u4eec\\u5728\\u627e\\u8c01\\r\\n\\r\\n** \\u5168\\u804c && \\u5b9e\\u4e60 **\\r\\n\\r\\n*  Python\\r\\n*  Web \\u524d\\u7aef\\r\\n*  iOS\\r\\n*  \\u8fd0\\u7ef4\\u5de5\\u7a0b\\u5e08\\r\\n\\r\\n\\r\\n## \\u4f60\\u6765\\u505a\\u4ec0\\u4e48\\r\\n\\r\\n* \\u4ece\\u4efb\\u52a1\\u5217\\u8868\\u4e2d\\u9009\\u62e9\\u81ea\\u5df1\\u559c\\u6b22\\u505a\\u7684\\u4e8b\\u60c5\\u6765\\u5b8c\\u6210\\uff0c\\u4e5f\\u53ef\\u4ee5\\u81ea\\u5df1\\u63d0\\u51fa\\u9700\\u6c42\\u6765\\u505a\\r\\n* \\u53c2\\u4e0e\\u4ea7\\u54c1\\u3001\\u6280\\u672f\\u3001\\u8bbe\\u8ba1\\u8ba8\\u8bba\\u3002\\u6211\\u4eec\\u5e0c\\u671b\\u4f60\\u505a\\u7684\\u6bcf\\u4e00\\u4e2a\\u4ea7\\u54c1\\u90fd\\u662f\\u81ea\\u5df1\\u5fc3\\u76ee\\u4e2d\\u5b8c\\u7f8e\\u7684\\u4ea7\\u54c1\\r\\n* \\u63a5\\u89e6\\u5e76\\u5b66\\u4e60 App\\u3001Web \\u5f00\\u53d1\\u3001\\u7cfb\\u7edf\\u8fd0\\u7ef4\\u3001\\u6570\\u636e\\u5e93\\u7ef4\\u62a4\\u7b49\\u5404\\u79cd\\u6280\\u672f\\r\\n\\r\\n## \\u6211\\u4eec\\u5bf9\\u4f60\\u7684\\u8981\\u6c42\\r\\n\\r\\n* \\u5bf9\\u6280\\u672f\\u6709\\u70ed\\u60c5\\r\\n* \\u53ef\\u4ee5\\u72ec\\u7acb\\u89e3\\u51b3\\u95ee\\u9898\\uff08\\u719f\\u7ec3\\u638c\\u63e1 Google\\u3001Stackoverflow \\uff09\\r\\n* \\u4e86\\u89e3\\u57fa\\u7840\\u77e5\\u8bc6\\r\\n* \\u6709\\u826f\\u597d\\u7684\\u82f1\\u8bed\\u8bfb\\u5199\\u80fd\\u529b\\r\\n* \\u6709\\u826f\\u597d\\u7684\\u56e2\\u961f\\u534f\\u4f5c\\u80fd\\u529b\\r\\n* Web \\u5b9e\\u4e60\\u751f\\u9700\\u8981\\u57fa\\u672c\\u77e5\\u9053 Python\\u3001Javascript\\u3001CSS \\u7b49\\u76f8\\u5173\\u77e5\\u8bc6\\uff0c\\u6709\\u8fc7\\u81ea\\u5df1\\u5199\\u7f51\\u7ad9\\u7684\\u7ecf\\u9a8c\\r\\n* iOS \\u5b9e\\u4e60\\u751f\\u9700\\u8981\\u5199\\u8fc7\\u7b80\\u5355\\u7684 App\\r\\n* \\u5b9e\\u4e60\\u65f6\\u95f4\\u4fdd\\u8bc1\\u4e00\\u5468 4 \\u5929\\u4ee5\\u4e0a\\uff0c\\u6301\\u7eed 3 \\u4e2a\\u6708\\u4ee5\\u4e0a\\r\\n* \\u7b80\\u5386\\u9644\\u4e0a\\u4e2a\\u4eba\\u535a\\u5ba2\\u5730\\u5740\\u548c Github \\u5730\\u5740\\uff08\\u5982\\u679c\\u6709\\u7684\\u8bdd\\uff09\\r\\n\\r\\n## \\u540e\\u7aef\\u6280\\u672f\\u9009\\u578b\\r\\n\\r\\n* \\u8bed\\u8a00\\u4ee5 Python \\u4e3a\\u4e3b\\uff0c\\u6846\\u67b6\\u4e3b\\u8981\\u4f7f\\u7528 Flask\\uff0c\\u6a21\\u677f\\u7528 Mako\\r\\n* \\u6570\\u636e\\u5e93\\u4e3b\\u8981\\u4f7f\\u7528 MySQL\\uff0c\\u90e8\\u5206\\u4f7f\\u7528 Redis\\uff0c\\u7f13\\u5b58\\u4f7f\\u7528 Memcache\\r\\n* \\u7cfb\\u7edf\\u4f7f\\u7528 Ubuntu\\r\\n* \\u5b58\\u50a8\\u4f7f\\u7528 MFS\\r\\n\\r\\n## \\u524d\\u7aef\\u6280\\u672f\\u9009\\u578b\\r\\n* Babel + ES6\\r\\n* Vuejs + React\\r\\n* \\u4f7f\\u7528 Webpack \\u6253\\u5305\\r\\n\\r\\n## \\u85aa\\u8d44\\u5f85\\u9047\\r\\n\\r\\n\\u6211\\u4eec\\u4e3a\\u4f60\\u63d0\\u4f9b\\r\\n* \\u8212\\u9002\\u7684\\u529e\\u516c\\u5ba4\\r\\n* \\u65e0\\u9650\\u91cf\\u96f6\\u98df\\u4f9b\\u5e94\\r\\n* \\u5404\\u79cd\\u5174\\u8da3\\u5c0f\\u7ec4\\r\\n* \\u514d\\u8d39\\u81ea\\u52a9\\u5348\\u9910\\r\\n* \\u6bcf\\u5e74\\u5341\\u4e00\\u5929\\u5e26\\u85aa\\u5047\\uff08\\u5165\\u804c\\u6bcf\\u591a\\u4e00\\u5e74\\u591a\\u4e00\\u5929\\uff09\\r\\n* \\u53cc\\u4f11\\uff0c\\u4e0d\\u63d0\\u5021\\u52a0\\u73ed\\r\\n\\r\\n\\u5b9e\\u4e60\\u85aa\\u8d44 180 \\uff5e 200/\\u5929\\uff0c\\u975e\\u5317\\u4eac\\u540c\\u5b66\\u8fd8\\u6709\\u6bcf\\u6708 1500 \\u4f4f\\u623f\\u8865\\u52a9\\r\\n\\u5168\\u804c\\u85aa\\u8d44 10k ~ 30k, \\u6bcf\\u5e74\\u4e24\\u6b21\\u8c03\\u85aa\\r\\n\\u8be6\\u60c5\\u53ef\\u4ee5\\u67e5\\u770b [\\u4e0b\\u53a8\\u623f\\u62db\\u8058\\u7f51\\u7ad9]( http://www.xiachufang.com/job/ )\\r\\n\\u4e5f\\u8bb8\\u4f60\\u5e76\\u4e0d\\u60f3\\u6362\\u5de5\\u4f5c\\uff0c\\u4f46\\u662f\\u5bf9\\u6211\\u4eec\\u6240\\u505a\\u7684\\u4e8b\\u611f\\u5174\\u8da3\\uff0c\\u6216\\u8005\\u60f3\\u4e86\\u89e3\\u521b\\u4e1a\\u8fd9\\u4ef6\\u4e8b\\u60c5\\uff0c\\u4e5f\\u6b22\\u8fce\\u6765\\u4e0e\\u6211\\u4eec\\u804a\\u804a\\u3002\\r\\n\\r\\n\\r\\n## \\u8054\\u7cfb\\u65b9\\u5f0f\\r\\n\\r\\n\\u516c\\u53f8\\u5730\\u5740\\uff1a\\u5317\\u4eac\\u5e02\\u6d77\\u6dc0\\u533a\\u9ed1\\u6cc9\\u8def\\u5b9d\\u76db\\u5e7f\\u573a\\r\\n\\r\\n\\u90ae\\u4ef6\\u4e3b\\u9898 \\u5e94\\u8058\\u5c97\\u4f4d+\\u59d3\\u540d+\\u6765\\u81ea v2ex\\uff0c\\u4f8b\\u5982\"\\u5e94\\u8058 iOS + grumpy + \\u6765\\u81ea v2ex\"',\n",
       "  u'content_rendered': u'<h2>\\u56f0\\u4e86\\u7d2f\\u4e86\\u8bf7\\u4e2a\\u5047</h2>\\n<p>\\u4e0b\\u5348\\u72af\\u56f0\\u7684\\u65f6\\u5019\\u9664\\u4e86\\u7761\\u4e00\\u89c9\\u8fd8\\u80fd\\u5e72\\u561b\\u5462\\uff1f\\u6211\\u6700\\u8fd1\\u90fd\\u662f\\u901a\\u8fc7\\u67e5\\u770b\\u4e0b\\u53a8\\u623f\\u7684\\u8bf7\\u5047\\u90ae\\u4ef6\\u6765\\u63d0\\u795e\\u9192\\u8111\\u7684\\uff0c\\u5404\\u79cd\\u8bf7\\u5047\\u7406\\u7531\\u603b\\u6709\\u4e00\\u6b3e\\u80fd\\u9017\\u9192\\u6211\\u3002\\u6211\\u6361\\u51e0\\u4e2a\\u4f73\\u4f5c\\u793a\\u4f17\\uff08\\u5fae\\u7b11</p>\\n<p><img alt=\"\" src=\"http://wx2.sinaimg.cn/large/6b4debedly1ffxlyyswjvj20hb00ndg0.jpg\"></p>\\n<ul>\\n<li>\\U0001f446\\u4f60\\u5230\\u5e95\\u505a\\u4e86\\u4ec0\\u4e48\\u4e0d\\u53ef\\u63cf\\u8ff0\\u7684\\u68a6</li>\\n</ul>\\n<p><img alt=\"\" src=\"http://wx3.sinaimg.cn/large/6b4debedly1ffxm0e3kw2j20gm00pwek.jpg\"></p>\\n<ul>\\n<li>\\U0001f446\\u6211\\u8981\\u662f\\u56de\\u590d\\u201c\\u53ef\\u4ee5\\u201d\\u4f60\\u4f1a\\u4e0d\\u4f1a\\u4ee5\\u4e3a\\u6211\\u5728\\u5f00\\u73a9\\u7b11</li>\\n</ul>\\n<p><img alt=\"\" src=\"http://wx4.sinaimg.cn/large/6b4debedly1ffxm0log17j20hc00ndg2.jpg\"></p>\\n<ul>\\n<li>\\U0001f446\\u732b\\u5230\\u5e95\\u505a\\u9519\\u4e86\\u4ec0\\u4e48\\uff1f\\uff01\\u4ed6\\u8fd8\\u662f\\u4e2a\\u5b69\\u5b50\\uff1f\\uff01</li>\\n</ul>\\n<p><img alt=\"\" src=\"http://wx1.sinaimg.cn/large/6b4debedly1ffxm27rx4zj20gt00qglq.jpg\"></p>\\n<ul>\\n<li>\\U0001f446\\u6211\\u7684\\u8138\\u4e0a\\u8fd8\\u8981\\u4fdd\\u6301\\u56f4\\u7b11</li>\\n</ul>\\n<p><img alt=\"\" src=\"http://wx1.sinaimg.cn/large/6b4debedly1ffxm2csl5cj20gk00sq2z.jpg\"></p>\\n<ul>\\n<li>\\U0001f446\\u6240\\u4ee5\\u6700\\u540e\\u627e\\u5230\\u4e86\\u5417\\uff1f</li>\\n</ul>\\n<p><img alt=\"\" src=\"http://wx3.sinaimg.cn/large/6b4debedly1ffxm2tbgyjj20gm00rgln.jpg\"></p>\\n<ul>\\n<li>\\U0001f446\\u597d\\u7684\\u53ef\\u4ee5</li>\\n</ul>\\n<p><img alt=\"\" src=\"http://wx1.sinaimg.cn/large/6b4debedly1ffxm2x2d11j20j100pwek.jpg\"></p>\\n<ul>\\n<li>\\U0001f446excuse me \\uff1f</li>\\n</ul>\\n<p><img alt=\"\" src=\"http://wx3.sinaimg.cn/large/6b4debedly1ffxm3qg8zvj20gw00tmxa.jpg\"></p>\\n<ul>\\n<li>\\U0001f446\\u795d\\u4f60\\u6210\\u529f</li>\\n</ul>\\n<p>\\u8c03\\u4f83\\u5b8c\\u6bd5\\uff0c\\u65e0\\u8bba\\u5982\\u4f55\\u6211\\u90fd\\u7231\\u6211\\u6280\\u672f\\u5230\\u4f4d\\u597d\\u5947\\u5fc3\\u5f3a\\u4e2a\\u6027\\u6709\\u8da3\\u7684\\u6280\\u672f\\u56e2\\u961f\\u3002\\n<img alt=\"\" src=\"http://wx1.sinaimg.cn/mw690/6b4debedly1ffxnnnc2hwj21kw16okjm.jpg\"></p>\\n<p>\\u6b63\\u7ecf\\u62db\\u8058\\u4fe1\\u606f\\U0001f447</p>\\n<h2>\\u6211\\u4eec\\u662f\\u8c01</h2>\\n<ul>\\n<li>6 \\u5c81\\u7684 B \\u8f6e\\u521b\\u4e1a\\u516c\\u53f8</li>\\n<li>\\u62e5\\u6709 1000 \\u591a\\u4e07\\u6ce8\\u518c\\u7528\\u6237</li>\\n<li>4000 \\u591a\\u4e07 App \\u4e0b\\u8f7d\\u91cf</li>\\n<li>\\u8363\\u5e78\\u5165\\u9009\\u201c App Store 2013 \\u5e74\\u5ea6\\u7cbe\\u9009\\u201d</li>\\n<li>\\u8363\\u5e78\\u5165\\u9a7b\\u82f9\\u679c\\u4f53\\u9a8c\\u5e97\\uff08\\u4e2d\\u56fd\\u533a\\uff09\\u4f5c\\u4e3a\\u5c55\\u793a Demo</li>\\n</ul>\\n<h2>\\u6211\\u4eec\\u5728\\u627e\\u8c01</h2>\\n<p>** \\u5168\\u804c &amp;&amp; \\u5b9e\\u4e60 **</p>\\n<ul>\\n<li>Python</li>\\n<li>Web \\u524d\\u7aef</li>\\n<li>iOS</li>\\n<li>\\u8fd0\\u7ef4\\u5de5\\u7a0b\\u5e08</li>\\n</ul>\\n<h2>\\u4f60\\u6765\\u505a\\u4ec0\\u4e48</h2>\\n<ul>\\n<li>\\u4ece\\u4efb\\u52a1\\u5217\\u8868\\u4e2d\\u9009\\u62e9\\u81ea\\u5df1\\u559c\\u6b22\\u505a\\u7684\\u4e8b\\u60c5\\u6765\\u5b8c\\u6210\\uff0c\\u4e5f\\u53ef\\u4ee5\\u81ea\\u5df1\\u63d0\\u51fa\\u9700\\u6c42\\u6765\\u505a</li>\\n<li>\\u53c2\\u4e0e\\u4ea7\\u54c1\\u3001\\u6280\\u672f\\u3001\\u8bbe\\u8ba1\\u8ba8\\u8bba\\u3002\\u6211\\u4eec\\u5e0c\\u671b\\u4f60\\u505a\\u7684\\u6bcf\\u4e00\\u4e2a\\u4ea7\\u54c1\\u90fd\\u662f\\u81ea\\u5df1\\u5fc3\\u76ee\\u4e2d\\u5b8c\\u7f8e\\u7684\\u4ea7\\u54c1</li>\\n<li>\\u63a5\\u89e6\\u5e76\\u5b66\\u4e60 App\\u3001Web \\u5f00\\u53d1\\u3001\\u7cfb\\u7edf\\u8fd0\\u7ef4\\u3001\\u6570\\u636e\\u5e93\\u7ef4\\u62a4\\u7b49\\u5404\\u79cd\\u6280\\u672f</li>\\n</ul>\\n<h2>\\u6211\\u4eec\\u5bf9\\u4f60\\u7684\\u8981\\u6c42</h2>\\n<ul>\\n<li>\\u5bf9\\u6280\\u672f\\u6709\\u70ed\\u60c5</li>\\n<li>\\u53ef\\u4ee5\\u72ec\\u7acb\\u89e3\\u51b3\\u95ee\\u9898\\uff08\\u719f\\u7ec3\\u638c\\u63e1 Google\\u3001Stackoverflow \\uff09</li>\\n<li>\\u4e86\\u89e3\\u57fa\\u7840\\u77e5\\u8bc6</li>\\n<li>\\u6709\\u826f\\u597d\\u7684\\u82f1\\u8bed\\u8bfb\\u5199\\u80fd\\u529b</li>\\n<li>\\u6709\\u826f\\u597d\\u7684\\u56e2\\u961f\\u534f\\u4f5c\\u80fd\\u529b</li>\\n<li>Web \\u5b9e\\u4e60\\u751f\\u9700\\u8981\\u57fa\\u672c\\u77e5\\u9053 Python\\u3001Javascript\\u3001CSS \\u7b49\\u76f8\\u5173\\u77e5\\u8bc6\\uff0c\\u6709\\u8fc7\\u81ea\\u5df1\\u5199\\u7f51\\u7ad9\\u7684\\u7ecf\\u9a8c</li>\\n<li>iOS \\u5b9e\\u4e60\\u751f\\u9700\\u8981\\u5199\\u8fc7\\u7b80\\u5355\\u7684 App</li>\\n<li>\\u5b9e\\u4e60\\u65f6\\u95f4\\u4fdd\\u8bc1\\u4e00\\u5468 4 \\u5929\\u4ee5\\u4e0a\\uff0c\\u6301\\u7eed 3 \\u4e2a\\u6708\\u4ee5\\u4e0a</li>\\n<li>\\u7b80\\u5386\\u9644\\u4e0a\\u4e2a\\u4eba\\u535a\\u5ba2\\u5730\\u5740\\u548c Github \\u5730\\u5740\\uff08\\u5982\\u679c\\u6709\\u7684\\u8bdd\\uff09</li>\\n</ul>\\n<h2>\\u540e\\u7aef\\u6280\\u672f\\u9009\\u578b</h2>\\n<ul>\\n<li>\\u8bed\\u8a00\\u4ee5 Python \\u4e3a\\u4e3b\\uff0c\\u6846\\u67b6\\u4e3b\\u8981\\u4f7f\\u7528 Flask\\uff0c\\u6a21\\u677f\\u7528 Mako</li>\\n<li>\\u6570\\u636e\\u5e93\\u4e3b\\u8981\\u4f7f\\u7528 MySQL\\uff0c\\u90e8\\u5206\\u4f7f\\u7528 Redis\\uff0c\\u7f13\\u5b58\\u4f7f\\u7528 Memcache</li>\\n<li>\\u7cfb\\u7edf\\u4f7f\\u7528 Ubuntu</li>\\n<li>\\u5b58\\u50a8\\u4f7f\\u7528 MFS</li>\\n</ul>\\n<h2>\\u524d\\u7aef\\u6280\\u672f\\u9009\\u578b</h2>\\n<ul>\\n<li>Babel + ES6</li>\\n<li>Vuejs + React</li>\\n<li>\\u4f7f\\u7528 Webpack \\u6253\\u5305</li>\\n</ul>\\n<h2>\\u85aa\\u8d44\\u5f85\\u9047</h2>\\n<p>\\u6211\\u4eec\\u4e3a\\u4f60\\u63d0\\u4f9b</p>\\n<ul>\\n<li>\\u8212\\u9002\\u7684\\u529e\\u516c\\u5ba4</li>\\n<li>\\u65e0\\u9650\\u91cf\\u96f6\\u98df\\u4f9b\\u5e94</li>\\n<li>\\u5404\\u79cd\\u5174\\u8da3\\u5c0f\\u7ec4</li>\\n<li>\\u514d\\u8d39\\u81ea\\u52a9\\u5348\\u9910</li>\\n<li>\\u6bcf\\u5e74\\u5341\\u4e00\\u5929\\u5e26\\u85aa\\u5047\\uff08\\u5165\\u804c\\u6bcf\\u591a\\u4e00\\u5e74\\u591a\\u4e00\\u5929\\uff09</li>\\n<li>\\u53cc\\u4f11\\uff0c\\u4e0d\\u63d0\\u5021\\u52a0\\u73ed</li>\\n</ul>\\n<p>\\u5b9e\\u4e60\\u85aa\\u8d44 180 \\uff5e 200/\\u5929\\uff0c\\u975e\\u5317\\u4eac\\u540c\\u5b66\\u8fd8\\u6709\\u6bcf\\u6708 1500 \\u4f4f\\u623f\\u8865\\u52a9\\n\\u5168\\u804c\\u85aa\\u8d44 10k ~ 30k, \\u6bcf\\u5e74\\u4e24\\u6b21\\u8c03\\u85aa\\n\\u8be6\\u60c5\\u53ef\\u4ee5\\u67e5\\u770b <a href=\"http://www.xiachufang.com/job/\" rel=\"nofollow\">\\u4e0b\\u53a8\\u623f\\u62db\\u8058\\u7f51\\u7ad9</a>\\n\\u4e5f\\u8bb8\\u4f60\\u5e76\\u4e0d\\u60f3\\u6362\\u5de5\\u4f5c\\uff0c\\u4f46\\u662f\\u5bf9\\u6211\\u4eec\\u6240\\u505a\\u7684\\u4e8b\\u611f\\u5174\\u8da3\\uff0c\\u6216\\u8005\\u60f3\\u4e86\\u89e3\\u521b\\u4e1a\\u8fd9\\u4ef6\\u4e8b\\u60c5\\uff0c\\u4e5f\\u6b22\\u8fce\\u6765\\u4e0e\\u6211\\u4eec\\u804a\\u804a\\u3002</p>\\n<h2>\\u8054\\u7cfb\\u65b9\\u5f0f</h2>\\n<p>\\u516c\\u53f8\\u5730\\u5740\\uff1a\\u5317\\u4eac\\u5e02\\u6d77\\u6dc0\\u533a\\u9ed1\\u6cc9\\u8def\\u5b9d\\u76db\\u5e7f\\u573a</p>\\n<p>\\u90ae\\u4ef6\\u4e3b\\u9898 \\u5e94\\u8058\\u5c97\\u4f4d+\\u59d3\\u540d+\\u6765\\u81ea v2ex\\uff0c\\u4f8b\\u5982\"\\u5e94\\u8058 iOS + grumpy + \\u6765\\u81ea v2ex\"</p>\\n',\n",
       "  u'created': 1495698555,\n",
       "  u'id': 363766,\n",
       "  u'last_modified': 1495698555,\n",
       "  u'last_touched': 1495764815,\n",
       "  u'member': {u'avatar_large': u'//v2ex.assets.uxengine.net/avatar/3904/ffc3/151481_large.png?m=1459941347',\n",
       "   u'avatar_mini': u'//v2ex.assets.uxengine.net/avatar/3904/ffc3/151481_mini.png?m=1459941347',\n",
       "   u'avatar_normal': u'//v2ex.assets.uxengine.net/avatar/3904/ffc3/151481_normal.png?m=1459941347',\n",
       "   u'id': 151481,\n",
       "   u'tagline': u'',\n",
       "   u'username': u'Grumpy'},\n",
       "  u'node': {u'avatar_large': u'//v2ex.assets.uxengine.net/navatar/17e6/2166/43_large.png?m=1495610093',\n",
       "   u'avatar_mini': u'//v2ex.assets.uxengine.net/navatar/17e6/2166/43_mini.png?m=1495610093',\n",
       "   u'avatar_normal': u'//v2ex.assets.uxengine.net/navatar/17e6/2166/43_normal.png?m=1495610093',\n",
       "   u'id': 43,\n",
       "   u'name': u'jobs',\n",
       "   u'title': u'\\u9177\\u5de5\\u4f5c',\n",
       "   u'title_alternative': u'Jobs',\n",
       "   u'topics': 20459,\n",
       "   u'url': u'http://www.v2ex.com/go/jobs'},\n",
       "  u'replies': 59,\n",
       "  u'title': u'\\uff3b\\u5317\\u4eac\\uff3d\\uff3b\\u4e0b\\u53a8\\u623f\\uff3d\\uff3b\\u62db\\u8058\\uff3d\\u5206\\u4eab\\u4e00\\u4e0b\\u6211\\u53f8\\u90a3\\u4e9b\\u8ba9\\u6211\\u63d0\\u795e\\u9192\\u8111\\u7684\\u8bf7\\u5047\\u7406\\u7531',\n",
       "  u'url': u'http://www.v2ex.com/t/363766'},\n",
       " {u'content': u'\\u5de5\\u4f5c\\u65f6\\u95f4\\u5dee\\u4e00\\u4e9b\\u6ee1\\u4e00\\u5e74, \\u7b7e\\u4e86\\u4e2a 1+1, \\u5c31\\u662f HR \\u8bf4\\u4e3a\\u4e86\\u6211\\u4e0b\\u5bb6\\u7684\\u80cc\\u8c03\\u4ee5\\u53ca\\u5176\\u4ed6\\u4e00\\u4e9b\\u4e8b\\u60c5\\u6bd4\\u8f83\\u65b9\\u4fbf\\u8ba9\\u6211\\u518d\\u586b\\u4e00\\u4efd\\u8f9e\\u804c\\u4e66, \\u8ff7\\u8ff7\\u7cca\\u7cca\\u5c31\\u586b\\u4e86, \\u5e94\\u8be5\\u6ca1\\u8e29\\u5751\\u5427?',\n",
       "  u'content_rendered': u'\\u5de5\\u4f5c\\u65f6\\u95f4\\u5dee\\u4e00\\u4e9b\\u6ee1\\u4e00\\u5e74, \\u7b7e\\u4e86\\u4e2a 1+1, \\u5c31\\u662f HR \\u8bf4\\u4e3a\\u4e86\\u6211\\u4e0b\\u5bb6\\u7684\\u80cc\\u8c03\\u4ee5\\u53ca\\u5176\\u4ed6\\u4e00\\u4e9b\\u4e8b\\u60c5\\u6bd4\\u8f83\\u65b9\\u4fbf\\u8ba9\\u6211\\u518d\\u586b\\u4e00\\u4efd\\u8f9e\\u804c\\u4e66, \\u8ff7\\u8ff7\\u7cca\\u7cca\\u5c31\\u586b\\u4e86, \\u5e94\\u8be5\\u6ca1\\u8e29\\u5751\\u5427?',\n",
       "  u'created': 1495700693,\n",
       "  u'id': 363781,\n",
       "  u'last_modified': 1495700693,\n",
       "  u'last_touched': 1495765452,\n",
       "  u'member': {u'avatar_large': u'//v2ex.assets.uxengine.net/gravatar/4b4f5fde6b585013330c49a0311c1d68?s=73&d=retro',\n",
       "   u'avatar_mini': u'//v2ex.assets.uxengine.net/gravatar/4b4f5fde6b585013330c49a0311c1d68?s=24&d=retro',\n",
       "   u'avatar_normal': u'//v2ex.assets.uxengine.net/gravatar/4b4f5fde6b585013330c49a0311c1d68?s=48&d=retro',\n",
       "   u'id': 172741,\n",
       "   u'tagline': u'',\n",
       "   u'username': u'Hstar'},\n",
       "  u'node': {u'avatar_large': u'//v2ex.assets.uxengine.net/navatar/4ea0/6fbc/770_large.png?m=1495610120',\n",
       "   u'avatar_mini': u'//v2ex.assets.uxengine.net/navatar/4ea0/6fbc/770_mini.png?m=1495610120',\n",
       "   u'avatar_normal': u'//v2ex.assets.uxengine.net/navatar/4ea0/6fbc/770_normal.png?m=1495610120',\n",
       "   u'id': 770,\n",
       "   u'name': u'career',\n",
       "   u'title': u'\\u804c\\u573a\\u8bdd\\u9898',\n",
       "   u'title_alternative': u'Career',\n",
       "   u'topics': 2692,\n",
       "   u'url': u'http://www.v2ex.com/go/career'},\n",
       "  u'replies': 57,\n",
       "  u'title': u'\\u88c1\\u5458\\u4e86, \\u7b7e\\u4e86 N+1 \\u8d54\\u507f\\u534f\\u8bae\\u5916\\u8fd8\\u586b\\u4e86\\u4e2a\\u8f9e\\u804c\\u4e66, \\u8fd9\\u662f\\u4ec0\\u4e48\\u5957\\u8def?',\n",
       "  u'url': u'http://www.v2ex.com/t/363781'},\n",
       " {u'content': u'\\u5730\\u5740\\uff1a https://huitaodang.com\\r\\n\\r\\n\\u6240\\u6709\\u6570\\u636e\\u90fd\\u662f\\u901a\\u8fc7\\u722c\\u6dd8\\u5b9d\\u8054\\u76df\\u4e0a\\u9762\\u7684\\u6570\\u636e\\uff0c\\u6211\\u8d1f\\u8d23\\u524d\\u7aef\\uff0c',\n",
       "  u'content_rendered': u'<p>\\u5730\\u5740\\uff1a <a href=\"https://huitaodang.com\" rel=\"nofollow\">https://huitaodang.com</a></p>\\n<p>\\u6240\\u6709\\u6570\\u636e\\u90fd\\u662f\\u901a\\u8fc7\\u722c\\u6dd8\\u5b9d\\u8054\\u76df\\u4e0a\\u9762\\u7684\\u6570\\u636e\\uff0c\\u6211\\u8d1f\\u8d23\\u524d\\u7aef\\uff0c</p>\\n',\n",
       "  u'created': 1495693053,\n",
       "  u'id': 363729,\n",
       "  u'last_modified': 1495693053,\n",
       "  u'last_touched': 1495765730,\n",
       "  u'member': {u'avatar_large': u'//v2ex.assets.uxengine.net/avatar/39a2/69d4/232205_large.png?m=1495591832',\n",
       "   u'avatar_mini': u'//v2ex.assets.uxengine.net/avatar/39a2/69d4/232205_mini.png?m=1495591832',\n",
       "   u'avatar_normal': u'//v2ex.assets.uxengine.net/avatar/39a2/69d4/232205_normal.png?m=1495591832',\n",
       "   u'id': 232205,\n",
       "   u'tagline': u'\\u6211\\u4e00\\u5b9a\\u662f\\u4e2a\\u840c\\u59b9\\u5b50\\uff0c\\u55ef\\uff0c\\u662f\\u7684\\uff01',\n",
       "   u'username': u'xiaomeimei'},\n",
       "  u'node': {u'avatar_large': u'//v2ex.assets.uxengine.net/navatar/70ef/df2e/17_large.png?m=1495609378',\n",
       "   u'avatar_mini': u'//v2ex.assets.uxengine.net/navatar/70ef/df2e/17_mini.png?m=1495609378',\n",
       "   u'avatar_normal': u'//v2ex.assets.uxengine.net/navatar/70ef/df2e/17_normal.png?m=1495609378',\n",
       "   u'id': 17,\n",
       "   u'name': u'create',\n",
       "   u'title': u'\\u5206\\u4eab\\u521b\\u9020',\n",
       "   u'title_alternative': u'Create',\n",
       "   u'topics': 7442,\n",
       "   u'url': u'http://www.v2ex.com/go/create'},\n",
       "  u'replies': 56,\n",
       "  u'title': u'\\u5feb\\u6765\\u62cd\\u5440\\uff0c\\u505a\\u4e86\\u4e2a\\u7279\\u70c2\\u5927\\u8857\\u7684\\u6dd8\\u5ba2\\u7f51\\u7ad9',\n",
       "  u'url': u'http://www.v2ex.com/t/363729'},\n",
       " {u'content': u'\\u591a\\u4e2a\\u5de5\\u5177\\u5207\\u6362\\u7528,\\u8fd8\\u662f\\u4e00\\u4e2a\\u5de5\\u5177\\u89e3\\u5343\\u6101.\\r\\n\\r\\n\\u5177\\u4f53\\u63a8\\u8350\\u54ea\\u4e2a\\u5de5\\u5177??',\n",
       "  u'content_rendered': u'<p>\\u591a\\u4e2a\\u5de5\\u5177\\u5207\\u6362\\u7528,\\u8fd8\\u662f\\u4e00\\u4e2a\\u5de5\\u5177\\u89e3\\u5343\\u6101.</p>\\n<p>\\u5177\\u4f53\\u63a8\\u8350\\u54ea\\u4e2a\\u5de5\\u5177??</p>\\n',\n",
       "  u'created': 1495681489,\n",
       "  u'id': 363671,\n",
       "  u'last_modified': 1495681489,\n",
       "  u'last_touched': 1495744271,\n",
       "  u'member': {u'avatar_large': u'//v2ex.assets.uxengine.net/gravatar/38c9a9b43eeccbeadffa8ce0588aaf90?s=73&d=retro',\n",
       "   u'avatar_mini': u'//v2ex.assets.uxengine.net/gravatar/38c9a9b43eeccbeadffa8ce0588aaf90?s=24&d=retro',\n",
       "   u'avatar_normal': u'//v2ex.assets.uxengine.net/gravatar/38c9a9b43eeccbeadffa8ce0588aaf90?s=48&d=retro',\n",
       "   u'id': 34223,\n",
       "   u'tagline': u'',\n",
       "   u'username': u'zyllwy'},\n",
       "  u'node': {u'avatar_large': u'//v2ex.assets.uxengine.net/navatar/b6d7/67d2/22_large.png?m=1495503066',\n",
       "   u'avatar_mini': u'//v2ex.assets.uxengine.net/navatar/b6d7/67d2/22_mini.png?m=1495503066',\n",
       "   u'avatar_normal': u'//v2ex.assets.uxengine.net/navatar/b6d7/67d2/22_normal.png?m=1495503066',\n",
       "   u'id': 22,\n",
       "   u'name': u'macos',\n",
       "   u'title': u'macOS',\n",
       "   u'title_alternative': u'macOS',\n",
       "   u'topics': 10096,\n",
       "   u'url': u'http://www.v2ex.com/go/macos'},\n",
       "  u'replies': 46,\n",
       "  u'title': u'\\u4f60\\u4eec mac os \\u4e0b\\u90fd\\u7528\\u4ec0\\u4e48\\u52a0\\u538b\\u5de5\\u5177??',\n",
       "  u'url': u'http://www.v2ex.com/t/363671'},\n",
       " {u'content': u'\\u56e0\\u4e3a\\u5237\\u4e86 GPE Rom\\uff0c\\u975e\\u5e38\\u7a33\\u5b9a\\uff0c\\u5df2\\u7ecf\\u4e00\\u5e74\\u591a\\u4e0d\\u9700\\u8981\\u6298\\u817e Rom \\u4e86\\uff0c\\u4e0a\\u5468\\u53d1\\u89c9\\u624b\\u91cc\\u7684 Android \\u673a\\u83ab\\u540d\\u7684\\u53d1\\u70eb\\uff08\\u53ef\\u80fd\\u662f\\u4e4b\\u524d\\u5c0f\\u5237\\u4e86\\u4e00\\u4e2a gpe \\u5b89\\u5168\\u8865\\u4e01\\u7684\\u95ee\\u9898\\uff09\\uff0c\\u6545\\u6253\\u7b97\\u7ed9\\u624b\\u673a\\u505a\\u4e00\\u6b21\\u4e45\\u8fdd\\u7684\\u53cc\\u6e05\\uff0c\\u770b\\u770b\\u80fd\\u4e0d\\u80fd\\u89e3\\u51b3\\u95ee\\u9898\\u3002\\u5927\\u6982\\u6d41\\u7a0b\\u662f\\u8fd9\\u6837\\u7684\\uff1a\\r\\n\\r\\n\\u5148\\u7528\\u949b\\u5907\\u4efd\\u628a 200 \\u4e2a\\u5e94\\u7528\\u5168\\u90e8\\u5907\\u4efd\\u4e00\\u4e0b\\uff0c\\u7136\\u540e\\u8fdb Rec \\u6267\\u884c\\u53cc\\u6e05\\uff0c\\u4e00\\u76f4\\u6298\\u817e\\u5230\\u88c5\\u597d SS \\u548c\\u949b\\u5907\\u4efd\\uff0c\\u540e\\u9762\\u5c31\\u5f00\\u59cb\\u7528\\u949b\\u5907\\u4efd\\u6062\\u590d\\u4e00\\u5207\\u3002\\r\\n\\r\\n\\u56e0\\u4e3a\\u7f55\\u89c1\\u7684\\u624b\\u6b8b\\u4e86\\u4e00\\u4e0b\\uff08\\u4e0d\\u60f3\\u63d0\\u4e86\\uff09\\uff0c\\u628a\\u4fdd\\u5b58\\u5728 SD \\u5361\\u4e0a\\u7684\\u949b\\u5907\\u4efd\\u6587\\u4ef6\\u5939\\u7ed9\\u5220\\u4e86\\u3002\\u7136\\u540e\\u5669\\u68a6\\u5f00\\u59cb\\u4e86\\u3002\\u3002\\u3002\\r\\n\\r\\n\\u6062\\u590d\\u6570\\u636e\\u7684\\u5404\\u79cd\\u65b9\\u6cd5\\u90fd\\u8bd5\\u4e86\\uff08\\u5305\\u62ec\\u6dd8\\u5b9d\\uff09\\uff0c\\u5f7b\\u5e95\\u65e0\\u679c\\u3002\\u540e\\u6765\\u53ea\\u597d\\u8ba4\\u4e86\\uff0c\\u5f53\\u5929\\u6211\\u7761\\u5f97\\u5de8\\u665a\\uff0c\\u56e0\\u4e3a\\u4e00\\u8fb9\\u90c1\\u95f7\\uff0c\\u4e00\\u8fb9\\u51ed\\u7740\\u77ed\\u6682\\u7684\\u8bb0\\u5fc6\\uff0c\\u4e00\\u9879\\u4e00\\u9879\\u7684\\u8fdb\\u884c\\u6062\\u590d\\u5de5\\u4f5c\\u3002\\u3002\\u3002\\u60b2\\u60e8\\u6d41\\u7a0b\\u662f\\u8fd9\\u6837\\u7684\\uff1a\\r\\n\\r\\n#### \\u8054\\u7cfb\\u4eba\\u3001\\u5e94\\u7528\\r\\n\\r\\n\\u597d\\u5728\\u6211\\u4e00\\u76f4\\u5728 play \\u4e0b\\u5e94\\u7528\\uff0c\\u6240\\u4ee5\\u5927\\u90e8\\u5206\\u5e94\\u7528\\u90fd\\u80fd\\u4ece play \\u91cd\\u65b0\\u4e0b\\u8f7d\\uff0c\\u4f46\\u662f\\u6570\\u636e\\u4e0d\\u5b58\\u5728\\u4e86\\uff0cplay \\u6ca1\\u6709\\u7684\\u5e94\\u7528\\u8fd8\\u8981\\u7528\\u9177\\u5b89\\u6765\\u8865\\u9f50\\uff0c\\u8fd9\\u90e8\\u5206\\u5c31\\u8981\\u51ed\\u8bb0\\u5fc6\\u4e86\\uff0c\\u8bb0\\u4e0d\\u4f4f\\u7684\\u53ea\\u80fd\\u4ee5\\u540e\\u7528\\u5230\\u7684\\u65f6\\u5019\\u518d\\u4e0b\\u3002\\u81f3\\u4eca\\u4e5f\\u6ca1\\u5f04\\u61c2 Android \\u81ea\\u5e26\\u7684\\u4e91\\u5907\\u4efd\\u6709\\u5565\\u7528\\uff0c\\u611f\\u89c9\\u4ed6\\u53ea\\u80fd\\u5907\\u4efd\\u4e2a\\u8054\\u7cfb\\u4eba\\uff08\\u6216\\u8005\\u90e8\\u5206\\u6570\\u636e\\uff1f\\uff09\\u800c\\u5df2\\uff0c\\u800c\\u540c\\u6837\\u662f iOS \\u7cfb\\u7edf\\u4e2d\\u5185\\u7f6e\\u7684 iCloud\\uff0c\\u4e0d\\u4ec5\\u80fd\\u4e91\\u5907\\u4efd\\u5168\\u90e8\\u5e94\\u7528\\u53ca\\u6570\\u636e\\uff0c\\u4e14\\u64cd\\u4f5c\\u7b80\\u5355\\uff0c\\u9664\\u4e86\\u7f51\\u7edc\\u62bd\\u98ce\\u3002\\r\\n\\r\\n#### nova \\u8bbe\\u7f6e\\r\\n\\r\\n\\u684c\\u9762\\u6392\\u5217\\u662f\\u6700\\u7edd\\u671b\\u7684\\uff0c\\u56e0\\u4e3a\\u592a\\u4fe1\\u4efb\\u949b\\u5907\\u4efd\\uff0c\\u57fa\\u672c\\u4e0a nova \\u8bbe\\u7f6e\\u6ca1\\u600e\\u4e48\\u5355\\u72ec\\u5907\\u4efd\\u8fc7\\uff0c\\u53ea\\u597d\\u51ed\\u7740\\u8bb0\\u5fc6\\u4e00\\u4e2a\\u4e2a\\u5f80\\u684c\\u9762\\u548c\\u6587\\u4ef6\\u5939\\u62d6\\uff0c\\u8fd8\\u4e0d\\u4e00\\u5b9a\\u80fd\\u5b8c\\u5168\\u590d\\u539f\\uff0c\\u5f3a\\u8feb\\u75c7\\u90c1\\u95f7\\u81f3\\u6781\\uff01\\u800c iCloud \\u5374\\u80fd\\u628a\\u684c\\u9762\\u7684\\u6392\\u5217\\u539f\\u5c01\\u4e0d\\u52a8\\u7684\\u6062\\u590d\\uff08\\u5f3a\\u8feb\\u75c7\\u798f\\u5229\\uff09\\uff01\\u8fd9\\u91cc\\u6211\\u8981\\u89e3\\u91ca\\u4e00\\u4e0b\\uff0c\\u6211\\u60f3\\u5410\\u69fd\\u7684\\u5e76\\u4e0d\\u662f Android \\u60f3\\u6298\\u817e\\u5f88\\u591a\\u597d\\u73a9\\u7684\\u800c\\u82b1\\u8d39\\u7684\\u989d\\u5916\\u65f6\\u95f4\\u8fd9\\u4e8b\\u513f\\uff0c\\u76f8\\u53cd\\u8fd9\\u662f Android \\u4f18\\u4e8e iOS \\u7684\\u5730\\u65b9\\uff0c\\u6211\\u60f3\\u8bf4\\u7684\\u662f\\u8fd9\\u4fe9\\u7cfb\\u7edf\\u8fbe\\u5230\\u540c\\u6837\\u7684\\u4f53\\u9a8c\\u6c34\\u51c6\\u65f6 Android \\u5f80\\u5f80\\u9700\\u8981\\u8017\\u8d39\\u989d\\u5916\\u66f4\\u591a\\u7684\\u7cbe\\u529b\\u3002\\u5982\\u679c Android \\u81ea\\u5e26\\u7684\\u4e91\\u5907\\u4efd\\u80fd\\u7ed9\\u529b\\u70b9\\uff0c\\u6211\\u5c31\\u4e0d\\u7528\\u51ed\\u7740\\u6b8b\\u7f3a\\u7684\\u8bb0\\u5fc6\\u4e00\\u4e2a\\u4e00\\u4e2a\\u7684\\u62d6\\u56fe\\u6807\\u4e86\\u3002\\r\\n\\r\\n#### xposed\\u3001\\u9ed1\\u57df\\u6216\\u7eff\\u8272\\u5b88\\u62a4\\u3001\\u51b0\\u7bb1\\u3001amplify\\u3001\\u5199\\u8f6e\\u773c\\u3001\\u4fee\\u6539\\u7248\\u8f6f\\u4ef6\\r\\n\\r\\n\\u8fd9\\u4e00\\u6b65\\u7684\\u5927\\u90e8\\u5206\\u8bbe\\u7f6e\\u5176\\u5b9e\\u90fd\\u662f\\u4e3a\\u4e86\\u5e94\\u5bf9\\u5404\\u79cd\\u6bd2\\u7624\\u7684\\uff08\\u9664\\u4e86\\u5176\\u4ed6\\u51e0\\u4e2a xposed \\u63d2\\u4ef6\\u4ee5\\u5916\\uff09\\u3002\\u9996\\u5148\\u6211\\u4f7f\\u7528\\u65b0\\u7248\\u9ed1\\u57df\\uff0c\\u65b0\\u7684\\u963b\\u6b62 list \\u8981\\u81ea\\u5df1\\u4e00\\u4e2a\\u4e2a\\u7684\\u91cd\\u65b0\\u6dfb\\u52a0\\u4e86\\u3002\\u56e0\\u4e3a\\u65b0\\u7248\\u9ed1\\u57df\\u662f\\u4e0d\\u89e3\\u51b3\\u5e94\\u7528\\u5524\\u9192\\u7684\\uff0c\\u6240\\u4ee5\\u6211\\u4f7f\\u7528\\u7eff\\u8272\\u5b88\\u62a4\\u7684\\u5524\\u9192\\u8ffd\\u8e2a\\u529f\\u80fd\\u6765\\u5207\\u65ad\\u5e94\\u7528\\u4e4b\\u95f4\\u7684\\u5524\\u9192\\uff0c\\u8fd9\\u4e2a\\u4e5f\\u8981\\u6162\\u6162\\u4e00\\u4e2a\\u4e2a\\u91cd\\u65b0\\u5207\\u65ad\\u3002\\u7136\\u540e\\u662f\\u51b0\\u7bb1\\uff0c\\u4e00\\u4e9b\\u4e0d\\u592a\\u5e38\\u7528\\u7684\\u5927\\u6bd2\\u7624\\u5e94\\u7528\\u8981\\u653e\\u5165\\u51b0\\u7bb1\\uff0c\\u5f7b\\u5e95\\u5c06\\u5176\\u6253\\u5165\\u6df1\\u6e0a\\uff0c\\u8fd9\\u4e00\\u6b65\\u540c\\u6837\\u9700\\u8981\\u81ea\\u5df1\\u624b\\u52a8\\u4e00\\u4e2a\\u4e2a\\u7684\\u6dfb\\u52a0\\u3002\\u518d\\u6765\\u662f xposed\\uff0c\\u7eff\\u5b88\\u7684\\u9ad8\\u7ea7\\u529f\\u80fd\\u548c amlify \\u90fd\\u9700\\u8981\\u5b83\\uff0camlify \\u662f\\u8bbe\\u7f6e\\u5524\\u9192\\u9501\\u7684\\uff0c\\u5bf9\\u4ed8 google \\u90e8\\u5206\\u670d\\u52a1\\u548c\\u5fae\\u4fe1\\u7684\\u4e27\\u5fc3\\u75c5\\u72c2\\u7684\\u5524\\u9192\\u6709\\u5947\\u6548\\u3002\\u518d\\u7136\\u540e\\u662f\\u5199\\u8f6e\\u773c\\uff0c\\u8fd9\\u4e2a\\u6bd4\\u7eff\\u5b88\\u7684\\u5524\\u9192\\u5207\\u65ad\\u66f4\\u9ebb\\u70e6\\uff0c\\u7531\\u4e8e\\u4e4b\\u524d\\u5bf9\\u4e8e\\u6bcf\\u4e2a\\u6bd2\\u7624\\u5e94\\u7528\\u7684\\u7279\\u6b8a\\u5904\\u7406\\u5168\\u90fd\\u4e22\\u4e86\\uff0c\\u53ea\\u80fd\\u968f\\u7740\\u4ee5\\u540e\\u7684\\u4f7f\\u7528\\u6162\\u6162\\u8c03\\u6559\\u4e86\\uff0c\\u5305\\u62ec\\u5f04\\u6b7b\\u90e8\\u5206\\u5e94\\u7528\\u65e0\\u6cd5\\u5173\\u6389\\u7684 sync \\u670d\\u52a1\\uff01\\u6700\\u540e\\u662f\\u5b89\\u88c5\\u4e00\\u4e9b\\u5e38\\u7528\\u7684\\u6bd2\\u7624\\u5e94\\u7528\\u7684\\u4fee\\u6539\\u7248\\uff0c\\u8b6c\\u5982\\u9ad8\\u5fb7\\u7684\\u9524\\u5b50\\u5b9a\\u5236\\u7248\\uff0c\\u4e3a\\u7684\\u662f\\u53bb\\u6389\\u65e0\\u7528\\u7684\\u670d\\u52a1\\uff0c\\u6700\\u5927\\u9650\\u5ea6\\u4fdd\\u6301\\u5e38\\u7528\\u5e94\\u7528\\u7684\\u6d41\\u7545\\u3002\\u4ee5\\u4e0a\\u6240\\u6709\\u7684\\u4e00\\u5207\\u5de5\\u4f5c\\u90fd\\u662f\\u56e0\\u4e3a\\u949b\\u5907\\u4efd\\u7684\\u6570\\u636e\\u4e22\\u5931\\u9020\\u6210\\u7684\\u3002\\u53ef\\u60b2\\u7684\\u662f\\uff0c\\u5bf9\\u4e8e iOS \\u6765\\u8bf4\\uff0c\\u8fd9\\u4e00\\u5207\\u6839\\u672c\\u4e0d\\u9700\\u8981\\u591a\\u8651\\uff0c\\u5f53\\u7136\\u4e5f\\u4e0d\\u4f1a\\u6709\\u9ed1\\u57df\\u8fd9\\u4e9b\\u7684\\u5e94\\u7528\\u5b58\\u5728\\u3002\\u3002\\u3002\\r\\n\\r\\n\\u6211\\u4e00\\u76f4\\u662f iOS \\u548c Android \\u53cc\\u8bbe\\u5907\\uff0c\\u6211\\u4e5f\\u4e00\\u76f4\\u90fd\\u89c9\\u5f97\\u4e24\\u8005\\u662f\\u5404\\u6709\\u6240\\u957f\\u3002\\u6bcf\\u6b21\\u6211\\u6709\\u670b\\u53cb\\u51ed\\u7740\\u4e45\\u8fdc\\u7684\\u8bb0\\u5fc6\\u6765\\u548c\\u6211\\u8bf4 Android \\u7528\\u4e45\\u4e86\\u4f1a\\u4e0d\\u4f1a\\u5f88\\u5361\\u7684\\u65f6\\u5019\\uff0c\\u6211\\u90fd\\u4f1a\\u7565\\u9119\\u5937\\u7684\\u56de\\u590d\\u4e00\\u53e5\\uff1a\\u90a3\\u662f\\u4f60\\u4e0d\\u4f1a\\u7528\\uff01\\u53ef\\u8fd9\\u6b21\\u6570\\u636e\\u4e22\\u5931\\uff0c\\u8ba9\\u6211\\u660e\\u767d\\u4e86\\u8fd9\\u4e2a\\u6240\\u8c13\\u7684\\u300e\\u4f1a\\u7528\\u300f\\u662f\\u591a\\u4e48\\u7684\\u8f9b\\u9178\\uff0c\\u4ee5\\u4e0a\\u8fd9\\u4e9b\\u6280\\u80fd\\u771f\\u4e0d\\u662f\\u4e00\\u822c\\u7528\\u6237\\u5e94\\u8be5\\u5177\\u5907\\u7684\\uff0c\\u5927\\u5bb6\\u771f\\u7684\\u662f\\u88ab\\u903c\\u7684\\u554a\\uff01\\u7ed3\\u679c\\u6298\\u817e\\u5230\\u6700\\u540e\\u7684\\u4eba\\u7adf\\u7136\\u4f1a\\u4ea7\\u751f\\u7565\\u7578\\u5f62\\u7684\\u4f18\\u8d8a\\u611f\\uff0c\\u771f\\u7684\\u662f\\u8010\\u4eba\\u5bfb\\u5473\\u3002Android \\u8981\\u60f3\\u548c iOS \\u5728\\u624b\\u673a\\u7684\\u57fa\\u672c\\u4f53\\u9a8c\\u4e0a\\u7ad9\\u5728\\u540c\\u4e00\\u53f0\\u9636\\u7684\\u8bdd\\uff0c\\u771f\\u7684\\u9700\\u8981\\u82b1\\u4e00\\u4e9b\\u65f6\\u95f4\\u3002\\u7edd\\u5927\\u90e8\\u5206\\u7528\\u6237\\u4e0d\\u4f1a\\u8fd9\\u4e48\\u64cd\\u4f5c\\uff0c\\u4ed6\\u4eec\\u5728\\u624b\\u673a\\u7528\\u4e45\\u4e86\\u4e4b\\u540e\\u81ea\\u7136\\u5c31\\u4f1a\\u4ea7\\u751f Android \\u300e\\u7528\\u4e45\\u4e86\\u90fd\\u4f1a\\u5361\\u300f\\u7684\\u6028\\u5ff5\\uff0c\\u8fd9\\u4e5f\\u662f\\u771f\\u7684\\u65e0\\u5948\\u3002\\u6700\\u540e\\u6211\\u5e76\\u4e0d\\u76f8\\u4fe1\\u534e\\u4e3a\\u9f13\\u5439\\u7684\\u6240\\u8c13 18 \\u4e2a\\u6708\\u4e0d\\u5361\\u7684\\u9ed1\\u79d1\\u6280\\uff0c\\u4e0d\\u6298\\u817e\\u4e00\\u756a\\u7684\\u8bdd\\uff0c\\u5361\\u6216\\u8bb8\\u4f1a\\u665a\\u6765\\uff0c\\u4f46\\u7edd\\u4e0d\\u4f1a\\u7f3a\\u5e2d\\u3002\\u3002\\u3002',\n",
       "  u'content_rendered': u'<p>\\u56e0\\u4e3a\\u5237\\u4e86 GPE Rom\\uff0c\\u975e\\u5e38\\u7a33\\u5b9a\\uff0c\\u5df2\\u7ecf\\u4e00\\u5e74\\u591a\\u4e0d\\u9700\\u8981\\u6298\\u817e Rom \\u4e86\\uff0c\\u4e0a\\u5468\\u53d1\\u89c9\\u624b\\u91cc\\u7684 Android \\u673a\\u83ab\\u540d\\u7684\\u53d1\\u70eb\\uff08\\u53ef\\u80fd\\u662f\\u4e4b\\u524d\\u5c0f\\u5237\\u4e86\\u4e00\\u4e2a gpe \\u5b89\\u5168\\u8865\\u4e01\\u7684\\u95ee\\u9898\\uff09\\uff0c\\u6545\\u6253\\u7b97\\u7ed9\\u624b\\u673a\\u505a\\u4e00\\u6b21\\u4e45\\u8fdd\\u7684\\u53cc\\u6e05\\uff0c\\u770b\\u770b\\u80fd\\u4e0d\\u80fd\\u89e3\\u51b3\\u95ee\\u9898\\u3002\\u5927\\u6982\\u6d41\\u7a0b\\u662f\\u8fd9\\u6837\\u7684\\uff1a</p>\\n<p>\\u5148\\u7528\\u949b\\u5907\\u4efd\\u628a 200 \\u4e2a\\u5e94\\u7528\\u5168\\u90e8\\u5907\\u4efd\\u4e00\\u4e0b\\uff0c\\u7136\\u540e\\u8fdb Rec \\u6267\\u884c\\u53cc\\u6e05\\uff0c\\u4e00\\u76f4\\u6298\\u817e\\u5230\\u88c5\\u597d SS \\u548c\\u949b\\u5907\\u4efd\\uff0c\\u540e\\u9762\\u5c31\\u5f00\\u59cb\\u7528\\u949b\\u5907\\u4efd\\u6062\\u590d\\u4e00\\u5207\\u3002</p>\\n<p>\\u56e0\\u4e3a\\u7f55\\u89c1\\u7684\\u624b\\u6b8b\\u4e86\\u4e00\\u4e0b\\uff08\\u4e0d\\u60f3\\u63d0\\u4e86\\uff09\\uff0c\\u628a\\u4fdd\\u5b58\\u5728 SD \\u5361\\u4e0a\\u7684\\u949b\\u5907\\u4efd\\u6587\\u4ef6\\u5939\\u7ed9\\u5220\\u4e86\\u3002\\u7136\\u540e\\u5669\\u68a6\\u5f00\\u59cb\\u4e86\\u3002\\u3002\\u3002</p>\\n<p>\\u6062\\u590d\\u6570\\u636e\\u7684\\u5404\\u79cd\\u65b9\\u6cd5\\u90fd\\u8bd5\\u4e86\\uff08\\u5305\\u62ec\\u6dd8\\u5b9d\\uff09\\uff0c\\u5f7b\\u5e95\\u65e0\\u679c\\u3002\\u540e\\u6765\\u53ea\\u597d\\u8ba4\\u4e86\\uff0c\\u5f53\\u5929\\u6211\\u7761\\u5f97\\u5de8\\u665a\\uff0c\\u56e0\\u4e3a\\u4e00\\u8fb9\\u90c1\\u95f7\\uff0c\\u4e00\\u8fb9\\u51ed\\u7740\\u77ed\\u6682\\u7684\\u8bb0\\u5fc6\\uff0c\\u4e00\\u9879\\u4e00\\u9879\\u7684\\u8fdb\\u884c\\u6062\\u590d\\u5de5\\u4f5c\\u3002\\u3002\\u3002\\u60b2\\u60e8\\u6d41\\u7a0b\\u662f\\u8fd9\\u6837\\u7684\\uff1a</p>\\n<h4>\\u8054\\u7cfb\\u4eba\\u3001\\u5e94\\u7528</h4>\\n<p>\\u597d\\u5728\\u6211\\u4e00\\u76f4\\u5728 play \\u4e0b\\u5e94\\u7528\\uff0c\\u6240\\u4ee5\\u5927\\u90e8\\u5206\\u5e94\\u7528\\u90fd\\u80fd\\u4ece play \\u91cd\\u65b0\\u4e0b\\u8f7d\\uff0c\\u4f46\\u662f\\u6570\\u636e\\u4e0d\\u5b58\\u5728\\u4e86\\uff0cplay \\u6ca1\\u6709\\u7684\\u5e94\\u7528\\u8fd8\\u8981\\u7528\\u9177\\u5b89\\u6765\\u8865\\u9f50\\uff0c\\u8fd9\\u90e8\\u5206\\u5c31\\u8981\\u51ed\\u8bb0\\u5fc6\\u4e86\\uff0c\\u8bb0\\u4e0d\\u4f4f\\u7684\\u53ea\\u80fd\\u4ee5\\u540e\\u7528\\u5230\\u7684\\u65f6\\u5019\\u518d\\u4e0b\\u3002\\u81f3\\u4eca\\u4e5f\\u6ca1\\u5f04\\u61c2 Android \\u81ea\\u5e26\\u7684\\u4e91\\u5907\\u4efd\\u6709\\u5565\\u7528\\uff0c\\u611f\\u89c9\\u4ed6\\u53ea\\u80fd\\u5907\\u4efd\\u4e2a\\u8054\\u7cfb\\u4eba\\uff08\\u6216\\u8005\\u90e8\\u5206\\u6570\\u636e\\uff1f\\uff09\\u800c\\u5df2\\uff0c\\u800c\\u540c\\u6837\\u662f iOS \\u7cfb\\u7edf\\u4e2d\\u5185\\u7f6e\\u7684 iCloud\\uff0c\\u4e0d\\u4ec5\\u80fd\\u4e91\\u5907\\u4efd\\u5168\\u90e8\\u5e94\\u7528\\u53ca\\u6570\\u636e\\uff0c\\u4e14\\u64cd\\u4f5c\\u7b80\\u5355\\uff0c\\u9664\\u4e86\\u7f51\\u7edc\\u62bd\\u98ce\\u3002</p>\\n<h4>nova \\u8bbe\\u7f6e</h4>\\n<p>\\u684c\\u9762\\u6392\\u5217\\u662f\\u6700\\u7edd\\u671b\\u7684\\uff0c\\u56e0\\u4e3a\\u592a\\u4fe1\\u4efb\\u949b\\u5907\\u4efd\\uff0c\\u57fa\\u672c\\u4e0a nova \\u8bbe\\u7f6e\\u6ca1\\u600e\\u4e48\\u5355\\u72ec\\u5907\\u4efd\\u8fc7\\uff0c\\u53ea\\u597d\\u51ed\\u7740\\u8bb0\\u5fc6\\u4e00\\u4e2a\\u4e2a\\u5f80\\u684c\\u9762\\u548c\\u6587\\u4ef6\\u5939\\u62d6\\uff0c\\u8fd8\\u4e0d\\u4e00\\u5b9a\\u80fd\\u5b8c\\u5168\\u590d\\u539f\\uff0c\\u5f3a\\u8feb\\u75c7\\u90c1\\u95f7\\u81f3\\u6781\\uff01\\u800c iCloud \\u5374\\u80fd\\u628a\\u684c\\u9762\\u7684\\u6392\\u5217\\u539f\\u5c01\\u4e0d\\u52a8\\u7684\\u6062\\u590d\\uff08\\u5f3a\\u8feb\\u75c7\\u798f\\u5229\\uff09\\uff01\\u8fd9\\u91cc\\u6211\\u8981\\u89e3\\u91ca\\u4e00\\u4e0b\\uff0c\\u6211\\u60f3\\u5410\\u69fd\\u7684\\u5e76\\u4e0d\\u662f Android \\u60f3\\u6298\\u817e\\u5f88\\u591a\\u597d\\u73a9\\u7684\\u800c\\u82b1\\u8d39\\u7684\\u989d\\u5916\\u65f6\\u95f4\\u8fd9\\u4e8b\\u513f\\uff0c\\u76f8\\u53cd\\u8fd9\\u662f Android \\u4f18\\u4e8e iOS \\u7684\\u5730\\u65b9\\uff0c\\u6211\\u60f3\\u8bf4\\u7684\\u662f\\u8fd9\\u4fe9\\u7cfb\\u7edf\\u8fbe\\u5230\\u540c\\u6837\\u7684\\u4f53\\u9a8c\\u6c34\\u51c6\\u65f6 Android \\u5f80\\u5f80\\u9700\\u8981\\u8017\\u8d39\\u989d\\u5916\\u66f4\\u591a\\u7684\\u7cbe\\u529b\\u3002\\u5982\\u679c Android \\u81ea\\u5e26\\u7684\\u4e91\\u5907\\u4efd\\u80fd\\u7ed9\\u529b\\u70b9\\uff0c\\u6211\\u5c31\\u4e0d\\u7528\\u51ed\\u7740\\u6b8b\\u7f3a\\u7684\\u8bb0\\u5fc6\\u4e00\\u4e2a\\u4e00\\u4e2a\\u7684\\u62d6\\u56fe\\u6807\\u4e86\\u3002</p>\\n<h4>xposed\\u3001\\u9ed1\\u57df\\u6216\\u7eff\\u8272\\u5b88\\u62a4\\u3001\\u51b0\\u7bb1\\u3001amplify\\u3001\\u5199\\u8f6e\\u773c\\u3001\\u4fee\\u6539\\u7248\\u8f6f\\u4ef6</h4>\\n<p>\\u8fd9\\u4e00\\u6b65\\u7684\\u5927\\u90e8\\u5206\\u8bbe\\u7f6e\\u5176\\u5b9e\\u90fd\\u662f\\u4e3a\\u4e86\\u5e94\\u5bf9\\u5404\\u79cd\\u6bd2\\u7624\\u7684\\uff08\\u9664\\u4e86\\u5176\\u4ed6\\u51e0\\u4e2a xposed \\u63d2\\u4ef6\\u4ee5\\u5916\\uff09\\u3002\\u9996\\u5148\\u6211\\u4f7f\\u7528\\u65b0\\u7248\\u9ed1\\u57df\\uff0c\\u65b0\\u7684\\u963b\\u6b62 list \\u8981\\u81ea\\u5df1\\u4e00\\u4e2a\\u4e2a\\u7684\\u91cd\\u65b0\\u6dfb\\u52a0\\u4e86\\u3002\\u56e0\\u4e3a\\u65b0\\u7248\\u9ed1\\u57df\\u662f\\u4e0d\\u89e3\\u51b3\\u5e94\\u7528\\u5524\\u9192\\u7684\\uff0c\\u6240\\u4ee5\\u6211\\u4f7f\\u7528\\u7eff\\u8272\\u5b88\\u62a4\\u7684\\u5524\\u9192\\u8ffd\\u8e2a\\u529f\\u80fd\\u6765\\u5207\\u65ad\\u5e94\\u7528\\u4e4b\\u95f4\\u7684\\u5524\\u9192\\uff0c\\u8fd9\\u4e2a\\u4e5f\\u8981\\u6162\\u6162\\u4e00\\u4e2a\\u4e2a\\u91cd\\u65b0\\u5207\\u65ad\\u3002\\u7136\\u540e\\u662f\\u51b0\\u7bb1\\uff0c\\u4e00\\u4e9b\\u4e0d\\u592a\\u5e38\\u7528\\u7684\\u5927\\u6bd2\\u7624\\u5e94\\u7528\\u8981\\u653e\\u5165\\u51b0\\u7bb1\\uff0c\\u5f7b\\u5e95\\u5c06\\u5176\\u6253\\u5165\\u6df1\\u6e0a\\uff0c\\u8fd9\\u4e00\\u6b65\\u540c\\u6837\\u9700\\u8981\\u81ea\\u5df1\\u624b\\u52a8\\u4e00\\u4e2a\\u4e2a\\u7684\\u6dfb\\u52a0\\u3002\\u518d\\u6765\\u662f xposed\\uff0c\\u7eff\\u5b88\\u7684\\u9ad8\\u7ea7\\u529f\\u80fd\\u548c amlify \\u90fd\\u9700\\u8981\\u5b83\\uff0camlify \\u662f\\u8bbe\\u7f6e\\u5524\\u9192\\u9501\\u7684\\uff0c\\u5bf9\\u4ed8 google \\u90e8\\u5206\\u670d\\u52a1\\u548c\\u5fae\\u4fe1\\u7684\\u4e27\\u5fc3\\u75c5\\u72c2\\u7684\\u5524\\u9192\\u6709\\u5947\\u6548\\u3002\\u518d\\u7136\\u540e\\u662f\\u5199\\u8f6e\\u773c\\uff0c\\u8fd9\\u4e2a\\u6bd4\\u7eff\\u5b88\\u7684\\u5524\\u9192\\u5207\\u65ad\\u66f4\\u9ebb\\u70e6\\uff0c\\u7531\\u4e8e\\u4e4b\\u524d\\u5bf9\\u4e8e\\u6bcf\\u4e2a\\u6bd2\\u7624\\u5e94\\u7528\\u7684\\u7279\\u6b8a\\u5904\\u7406\\u5168\\u90fd\\u4e22\\u4e86\\uff0c\\u53ea\\u80fd\\u968f\\u7740\\u4ee5\\u540e\\u7684\\u4f7f\\u7528\\u6162\\u6162\\u8c03\\u6559\\u4e86\\uff0c\\u5305\\u62ec\\u5f04\\u6b7b\\u90e8\\u5206\\u5e94\\u7528\\u65e0\\u6cd5\\u5173\\u6389\\u7684 sync \\u670d\\u52a1\\uff01\\u6700\\u540e\\u662f\\u5b89\\u88c5\\u4e00\\u4e9b\\u5e38\\u7528\\u7684\\u6bd2\\u7624\\u5e94\\u7528\\u7684\\u4fee\\u6539\\u7248\\uff0c\\u8b6c\\u5982\\u9ad8\\u5fb7\\u7684\\u9524\\u5b50\\u5b9a\\u5236\\u7248\\uff0c\\u4e3a\\u7684\\u662f\\u53bb\\u6389\\u65e0\\u7528\\u7684\\u670d\\u52a1\\uff0c\\u6700\\u5927\\u9650\\u5ea6\\u4fdd\\u6301\\u5e38\\u7528\\u5e94\\u7528\\u7684\\u6d41\\u7545\\u3002\\u4ee5\\u4e0a\\u6240\\u6709\\u7684\\u4e00\\u5207\\u5de5\\u4f5c\\u90fd\\u662f\\u56e0\\u4e3a\\u949b\\u5907\\u4efd\\u7684\\u6570\\u636e\\u4e22\\u5931\\u9020\\u6210\\u7684\\u3002\\u53ef\\u60b2\\u7684\\u662f\\uff0c\\u5bf9\\u4e8e iOS \\u6765\\u8bf4\\uff0c\\u8fd9\\u4e00\\u5207\\u6839\\u672c\\u4e0d\\u9700\\u8981\\u591a\\u8651\\uff0c\\u5f53\\u7136\\u4e5f\\u4e0d\\u4f1a\\u6709\\u9ed1\\u57df\\u8fd9\\u4e9b\\u7684\\u5e94\\u7528\\u5b58\\u5728\\u3002\\u3002\\u3002</p>\\n<p>\\u6211\\u4e00\\u76f4\\u662f iOS \\u548c Android \\u53cc\\u8bbe\\u5907\\uff0c\\u6211\\u4e5f\\u4e00\\u76f4\\u90fd\\u89c9\\u5f97\\u4e24\\u8005\\u662f\\u5404\\u6709\\u6240\\u957f\\u3002\\u6bcf\\u6b21\\u6211\\u6709\\u670b\\u53cb\\u51ed\\u7740\\u4e45\\u8fdc\\u7684\\u8bb0\\u5fc6\\u6765\\u548c\\u6211\\u8bf4 Android \\u7528\\u4e45\\u4e86\\u4f1a\\u4e0d\\u4f1a\\u5f88\\u5361\\u7684\\u65f6\\u5019\\uff0c\\u6211\\u90fd\\u4f1a\\u7565\\u9119\\u5937\\u7684\\u56de\\u590d\\u4e00\\u53e5\\uff1a\\u90a3\\u662f\\u4f60\\u4e0d\\u4f1a\\u7528\\uff01\\u53ef\\u8fd9\\u6b21\\u6570\\u636e\\u4e22\\u5931\\uff0c\\u8ba9\\u6211\\u660e\\u767d\\u4e86\\u8fd9\\u4e2a\\u6240\\u8c13\\u7684\\u300e\\u4f1a\\u7528\\u300f\\u662f\\u591a\\u4e48\\u7684\\u8f9b\\u9178\\uff0c\\u4ee5\\u4e0a\\u8fd9\\u4e9b\\u6280\\u80fd\\u771f\\u4e0d\\u662f\\u4e00\\u822c\\u7528\\u6237\\u5e94\\u8be5\\u5177\\u5907\\u7684\\uff0c\\u5927\\u5bb6\\u771f\\u7684\\u662f\\u88ab\\u903c\\u7684\\u554a\\uff01\\u7ed3\\u679c\\u6298\\u817e\\u5230\\u6700\\u540e\\u7684\\u4eba\\u7adf\\u7136\\u4f1a\\u4ea7\\u751f\\u7565\\u7578\\u5f62\\u7684\\u4f18\\u8d8a\\u611f\\uff0c\\u771f\\u7684\\u662f\\u8010\\u4eba\\u5bfb\\u5473\\u3002Android \\u8981\\u60f3\\u548c iOS \\u5728\\u624b\\u673a\\u7684\\u57fa\\u672c\\u4f53\\u9a8c\\u4e0a\\u7ad9\\u5728\\u540c\\u4e00\\u53f0\\u9636\\u7684\\u8bdd\\uff0c\\u771f\\u7684\\u9700\\u8981\\u82b1\\u4e00\\u4e9b\\u65f6\\u95f4\\u3002\\u7edd\\u5927\\u90e8\\u5206\\u7528\\u6237\\u4e0d\\u4f1a\\u8fd9\\u4e48\\u64cd\\u4f5c\\uff0c\\u4ed6\\u4eec\\u5728\\u624b\\u673a\\u7528\\u4e45\\u4e86\\u4e4b\\u540e\\u81ea\\u7136\\u5c31\\u4f1a\\u4ea7\\u751f Android \\u300e\\u7528\\u4e45\\u4e86\\u90fd\\u4f1a\\u5361\\u300f\\u7684\\u6028\\u5ff5\\uff0c\\u8fd9\\u4e5f\\u662f\\u771f\\u7684\\u65e0\\u5948\\u3002\\u6700\\u540e\\u6211\\u5e76\\u4e0d\\u76f8\\u4fe1\\u534e\\u4e3a\\u9f13\\u5439\\u7684\\u6240\\u8c13 18 \\u4e2a\\u6708\\u4e0d\\u5361\\u7684\\u9ed1\\u79d1\\u6280\\uff0c\\u4e0d\\u6298\\u817e\\u4e00\\u756a\\u7684\\u8bdd\\uff0c\\u5361\\u6216\\u8bb8\\u4f1a\\u665a\\u6765\\uff0c\\u4f46\\u7edd\\u4e0d\\u4f1a\\u7f3a\\u5e2d\\u3002\\u3002\\u3002</p>\\n',\n",
       "  u'created': 1495721492,\n",
       "  u'id': 363846,\n",
       "  u'last_modified': 1495721538,\n",
       "  u'last_touched': 1495763074,\n",
       "  u'member': {u'avatar_large': u'//v2ex.assets.uxengine.net/avatar/0dce/2089/12594_large.png?m=1359604048',\n",
       "   u'avatar_mini': u'//v2ex.assets.uxengine.net/avatar/0dce/2089/12594_mini.png?m=1359604048',\n",
       "   u'avatar_normal': u'//v2ex.assets.uxengine.net/avatar/0dce/2089/12594_normal.png?m=1359604048',\n",
       "   u'id': 12594,\n",
       "   u'tagline': u'Permission to be human!',\n",
       "   u'username': u'weicaizhi'},\n",
       "  u'node': {u'avatar_large': u'//v2ex.assets.uxengine.net/navatar/d67d/8ab4/39_large.png?m=1495572743',\n",
       "   u'avatar_mini': u'//v2ex.assets.uxengine.net/navatar/d67d/8ab4/39_mini.png?m=1495572743',\n",
       "   u'avatar_normal': u'//v2ex.assets.uxengine.net/navatar/d67d/8ab4/39_normal.png?m=1495572743',\n",
       "   u'id': 39,\n",
       "   u'name': u'android',\n",
       "   u'title': u'Android',\n",
       "   u'title_alternative': u'Android',\n",
       "   u'topics': 3938,\n",
       "   u'url': u'http://www.v2ex.com/go/android'},\n",
       "  u'replies': 40,\n",
       "  u'title': u'Android \\u60f3\\u7701\\u5fc3\\uff0c\\u9996\\u5148\\u4f60\\u5f97\\u82b1\\u6389\\u4e00\\u4e9b\\u65f6\\u95f4',\n",
       "  u'url': u'http://www.v2ex.com/t/363846'},\n",
       " {u'content': u'\\u624b\\u63e1\\u8001\\u6b3e rMBP\\uff0c\\u4e0d\\u6253\\u7b97\\u6362\\u65b0\\u6b3e\\u3002\\r\\n\\r\\n\\u9884\\u7b97\\u5bf9\\u5e94\\u7684\\u914d\\u7f6e\\u5927\\u6982\\u662f i7+16g \\u5185\\u5b58\\uff0c\\u9700\\u6c42\\u4e3b\\u8981\\u662f\\u7f51\\u9875\\u6d4f\\u89c8\\uff0c\\u4e0a\\u8bfe\\u505a\\u7b14\\u8bb0\\uff0c\\u7f16\\u8f91\\u9605\\u8bfb\\u6587\\u6863\\uff0c\\u7f16\\u7a0b\\u3002\\u552f\\u4e00\\u7684\\u6e38\\u620f\\u9700\\u6c42\\u662f\\u7089\\u77f3\\u3002\\r\\n\\r\\nSP5 \\r\\n\\u7fa1\\u6155\\u4e0a\\u8bfe\\u7684\\u65f6\\u5019\\u670b\\u53cb\\u62ff\\u7b14\\u5728 onenote \\u4e0a\\u753b\\u753b\\uff0c\\u6211\\u53ea\\u80fd\\u82e6\\u903c\\u7684\\u7528\\u952e\\u76d8\\u6253\\uff1b\\u5728\\u4e0a\\u9762\\u6253\\u7089\\u77f3\\u4e5f\\u633a\\u723d\\u7684\\u3002\\r\\n\\u4ef7\\u683c\\u504f\\u9ad8\\uff0c\\u5c4f\\u5e55\\u504f\\u5c0f\\uff0c\\u952e\\u76d8\\u504f...\\r\\n\\u73b0\\u5728\\u4e70 SP4 \\u597d\\u50cf\\u5f88\\u5212\\u7b97\\u7684\\u6837\\u5b50\\u3002\\r\\n\\r\\nTP X1\\r\\n\\u5e05\\uff0c\\u65e0\\u654c\\u3002\\r\\n\\u636e\\u8bf4\\u5c4f\\u5e55\\u611f\\u4eba\\u3002\\r\\n\\r\\nXPS 13 \\u7684\\u5370\\u8c61\\u4e0d\\u591a\\uff0c\\u542c\\u8bf4\\u54c1\\u63a7\\u4e00\\u822c\\u3002XPS 15 \\u770b\\u7740\\u4e5f\\u4e0d\\u9519\\u3002\\r\\n\\r\\n\\u6c42\\u5927\\u5bb6\\u62ff\\u62ff\\u4e3b\\u610f\\uff0c\\u6216\\u8005\\u63a8\\u8350\\u4e0b\\u5176\\u5b83\\u7684\\u7b14\\u8bb0\\u672c\\u3002',\n",
       "  u'content_rendered': u'\\u624b\\u63e1\\u8001\\u6b3e rMBP\\uff0c\\u4e0d\\u6253\\u7b97\\u6362\\u65b0\\u6b3e\\u3002\\r<br />\\r<br />\\u9884\\u7b97\\u5bf9\\u5e94\\u7684\\u914d\\u7f6e\\u5927\\u6982\\u662f i7+16g \\u5185\\u5b58\\uff0c\\u9700\\u6c42\\u4e3b\\u8981\\u662f\\u7f51\\u9875\\u6d4f\\u89c8\\uff0c\\u4e0a\\u8bfe\\u505a\\u7b14\\u8bb0\\uff0c\\u7f16\\u8f91\\u9605\\u8bfb\\u6587\\u6863\\uff0c\\u7f16\\u7a0b\\u3002\\u552f\\u4e00\\u7684\\u6e38\\u620f\\u9700\\u6c42\\u662f\\u7089\\u77f3\\u3002\\r<br />\\r<br />SP5 \\r<br />\\u7fa1\\u6155\\u4e0a\\u8bfe\\u7684\\u65f6\\u5019\\u670b\\u53cb\\u62ff\\u7b14\\u5728 onenote \\u4e0a\\u753b\\u753b\\uff0c\\u6211\\u53ea\\u80fd\\u82e6\\u903c\\u7684\\u7528\\u952e\\u76d8\\u6253\\uff1b\\u5728\\u4e0a\\u9762\\u6253\\u7089\\u77f3\\u4e5f\\u633a\\u723d\\u7684\\u3002\\r<br />\\u4ef7\\u683c\\u504f\\u9ad8\\uff0c\\u5c4f\\u5e55\\u504f\\u5c0f\\uff0c\\u952e\\u76d8\\u504f...\\r<br />\\u73b0\\u5728\\u4e70 SP4 \\u597d\\u50cf\\u5f88\\u5212\\u7b97\\u7684\\u6837\\u5b50\\u3002\\r<br />\\r<br />TP X1\\r<br />\\u5e05\\uff0c\\u65e0\\u654c\\u3002\\r<br />\\u636e\\u8bf4\\u5c4f\\u5e55\\u611f\\u4eba\\u3002\\r<br />\\r<br />XPS 13 \\u7684\\u5370\\u8c61\\u4e0d\\u591a\\uff0c\\u542c\\u8bf4\\u54c1\\u63a7\\u4e00\\u822c\\u3002XPS 15 \\u770b\\u7740\\u4e5f\\u4e0d\\u9519\\u3002\\r<br />\\r<br />\\u6c42\\u5927\\u5bb6\\u62ff\\u62ff\\u4e3b\\u610f\\uff0c\\u6216\\u8005\\u63a8\\u8350\\u4e0b\\u5176\\u5b83\\u7684\\u7b14\\u8bb0\\u672c\\u3002',\n",
       "  u'created': 1495705024,\n",
       "  u'id': 363794,\n",
       "  u'last_modified': 1495705024,\n",
       "  u'last_touched': 1495748485,\n",
       "  u'member': {u'avatar_large': u'//v2ex.assets.uxengine.net/avatar/4fbc/ff06/71699_large.png?m=1459737530',\n",
       "   u'avatar_mini': u'//v2ex.assets.uxengine.net/avatar/4fbc/ff06/71699_mini.png?m=1459737530',\n",
       "   u'avatar_normal': u'//v2ex.assets.uxengine.net/avatar/4fbc/ff06/71699_normal.png?m=1459737530',\n",
       "   u'id': 71699,\n",
       "   u'tagline': u'',\n",
       "   u'username': u'philobscur'},\n",
       "  u'node': {u'avatar_large': u'//v2ex.assets.uxengine.net/navatar/9a11/5815/52_large.png?m=1480930418',\n",
       "   u'avatar_mini': u'//v2ex.assets.uxengine.net/navatar/9a11/5815/52_mini.png?m=1480930418',\n",
       "   u'avatar_normal': u'//v2ex.assets.uxengine.net/navatar/9a11/5815/52_normal.png?m=1480930418',\n",
       "   u'id': 52,\n",
       "   u'name': u'hardware',\n",
       "   u'title': u'\\u786c\\u4ef6',\n",
       "   u'title_alternative': u'Hardware',\n",
       "   u'topics': 1531,\n",
       "   u'url': u'http://www.v2ex.com/go/hardware'},\n",
       "  u'replies': 36,\n",
       "  u'title': u'17 \\u5e74\\u4e0b\\u534a\\u5e74\\u60f3\\u5165\\u4e00\\u53f0 windows \\u7b14\\u8bb0\\u672c\\uff0c\\u76ee\\u524d\\u5728 XPS 13, ThinkPad X1 \\u548c SP5 \\u4e2d\\u7ea0\\u7ed3\\u3002',\n",
       "  u'url': u'http://www.v2ex.com/t/363794'},\n",
       " {u'content': u'\\u540c\\u884c\\uff0c\\u90fd\\u5728\\u6cb3\\u897f\\u9e93\\u8c37\\u5de5\\u4f5c\\uff0c\\u85aa\\u6c34\\u5408\\u8d77\\u6765\\u521a\\u8fc7\\u4e07\\uff0c\\u76ee\\u524d\\u79df\\u623f\\uff0c\\u65e0\\u8f66\\u3002\\r\\n\\u5bb6\\u957f\\u51fa\\u8d44\\u5e2e\\u5fd9\\u8d2d\\u623f\\u5e76\\u9009\\u4e86\\u5317\\u8fb0\\u4e09\\u89d2\\u6d32\\uff08\\u5730\\u6bb5\\u597d\\uff0c\\u6709\\u5b66\\u4f4d\\uff09\\uff0c\\u5728\\u7b49\\u5f00\\u76d8\\uff0c\\u5927\\u4e09\\u623f 150w \\u5de6\\u53f3\\uff0c19 \\u5e74\\u4ea4\\u623f\\uff0c\\u5206\\u671f\\u8fd8\\u6b3e\\u3002\\r\\n\\u76ee\\u524d\\u6709\\u5206\\u6b67\\uff1a\\r\\n\\u4e00\\u65b9\\u4e3b\\u5f20\\u5317\\u8fb0\\uff08\\u51fa\\u94b1\\u65b9\\uff09\\r\\n\\u4ea4\\u623f\\u524d\\u79df\\u623f\\uff0c\\u5730\\u6bb5\\u548c\\u5c0f\\u5b69\\u5c06\\u6765\\u6709\\u4e66\\u8bfb\\u91cd\\u8981\\uff0c\\u8d1f\\u62c5\\u91cd\\u70b9\\u6ca1\\u5173\\u7cfb\\uff08\\u6708\\u4f9b 5k \\u5de6\\u53f3\\uff09\\r\\n\\u4e00\\u65b9\\u5e0c\\u671b\\u5c31\\u8fd1\\u4e0a\\u73ed\\r\\n\\u53ef\\u4ee5\\u5148\\u5c0f\\u4e8c\\u623f\\uff0c\\u80fd\\u5c3d\\u5feb\\u4ea4\\u623f\\u5165\\u4f4f\\uff08\\u503e\\u5411\\u4e8e\\u4e8c\\u624b\\u623f\\uff09\\uff0c\\u5c3d\\u91cf\\u5c11\\u8981\\u9996\\u4ed8\\uff0c\\u6708\\u4f9b 3k \\u5de6\\u53f3\\u3002',\n",
       "  u'content_rendered': u'\\u540c\\u884c\\uff0c\\u90fd\\u5728\\u6cb3\\u897f\\u9e93\\u8c37\\u5de5\\u4f5c\\uff0c\\u85aa\\u6c34\\u5408\\u8d77\\u6765\\u521a\\u8fc7\\u4e07\\uff0c\\u76ee\\u524d\\u79df\\u623f\\uff0c\\u65e0\\u8f66\\u3002\\r<br />\\u5bb6\\u957f\\u51fa\\u8d44\\u5e2e\\u5fd9\\u8d2d\\u623f\\u5e76\\u9009\\u4e86\\u5317\\u8fb0\\u4e09\\u89d2\\u6d32\\uff08\\u5730\\u6bb5\\u597d\\uff0c\\u6709\\u5b66\\u4f4d\\uff09\\uff0c\\u5728\\u7b49\\u5f00\\u76d8\\uff0c\\u5927\\u4e09\\u623f 150w \\u5de6\\u53f3\\uff0c19 \\u5e74\\u4ea4\\u623f\\uff0c\\u5206\\u671f\\u8fd8\\u6b3e\\u3002\\r<br />\\u76ee\\u524d\\u6709\\u5206\\u6b67\\uff1a\\r<br />\\u4e00\\u65b9\\u4e3b\\u5f20\\u5317\\u8fb0\\uff08\\u51fa\\u94b1\\u65b9\\uff09\\r<br />\\u4ea4\\u623f\\u524d\\u79df\\u623f\\uff0c\\u5730\\u6bb5\\u548c\\u5c0f\\u5b69\\u5c06\\u6765\\u6709\\u4e66\\u8bfb\\u91cd\\u8981\\uff0c\\u8d1f\\u62c5\\u91cd\\u70b9\\u6ca1\\u5173\\u7cfb\\uff08\\u6708\\u4f9b 5k \\u5de6\\u53f3\\uff09\\r<br />\\u4e00\\u65b9\\u5e0c\\u671b\\u5c31\\u8fd1\\u4e0a\\u73ed\\r<br />\\u53ef\\u4ee5\\u5148\\u5c0f\\u4e8c\\u623f\\uff0c\\u80fd\\u5c3d\\u5feb\\u4ea4\\u623f\\u5165\\u4f4f\\uff08\\u503e\\u5411\\u4e8e\\u4e8c\\u624b\\u623f\\uff09\\uff0c\\u5c3d\\u91cf\\u5c11\\u8981\\u9996\\u4ed8\\uff0c\\u6708\\u4f9b 3k \\u5de6\\u53f3\\u3002',\n",
       "  u'created': 1495682906,\n",
       "  u'id': 363675,\n",
       "  u'last_modified': 1495683150,\n",
       "  u'last_touched': 1495765281,\n",
       "  u'member': {u'avatar_large': u'//v2ex.assets.uxengine.net/gravatar/e253f24d20097981f1ed5fbf1e63a3ed?s=73&d=retro',\n",
       "   u'avatar_mini': u'//v2ex.assets.uxengine.net/gravatar/e253f24d20097981f1ed5fbf1e63a3ed?s=24&d=retro',\n",
       "   u'avatar_normal': u'//v2ex.assets.uxengine.net/gravatar/e253f24d20097981f1ed5fbf1e63a3ed?s=48&d=retro',\n",
       "   u'id': 223879,\n",
       "   u'tagline': u'',\n",
       "   u'username': u'cvxxx'},\n",
       "  u'node': {u'avatar_large': u'//v2ex.assets.uxengine.net/navatar/c20a/d4d7/12_large.png?m=1494924127',\n",
       "   u'avatar_mini': u'//v2ex.assets.uxengine.net/navatar/c20a/d4d7/12_mini.png?m=1494924127',\n",
       "   u'avatar_normal': u'//v2ex.assets.uxengine.net/navatar/c20a/d4d7/12_normal.png?m=1494924127',\n",
       "   u'id': 12,\n",
       "   u'name': u'qna',\n",
       "   u'title': u'\\u95ee\\u4e0e\\u7b54',\n",
       "   u'title_alternative': u'Questions and Answers',\n",
       "   u'topics': 87858,\n",
       "   u'url': u'http://www.v2ex.com/go/qna'},\n",
       "  u'replies': 36,\n",
       "  u'title': u'\\u957f\\u6c99\\u521a\\u9700\\u5a5a\\u623f\\uff0c 1 \\u767e\\u4e07\\u9884\\u7b97\\uff0c\\u76ee\\u524d\\u5de5\\u4f5c\\u5728\\u6cb3\\u897f\\uff0c\\u6c42\\u63a8\\u8350\\u548c\\u5efa\\u8bae\\uff1f',\n",
       "  u'url': u'http://www.v2ex.com/t/363675'}]"
      ]
     },
     "execution_count": 99,
     "metadata": {},
     "output_type": "execute_result"
    }
   ],
   "source": [
    "json"
   ]
  },
  {
   "cell_type": "code",
   "execution_count": 110,
   "metadata": {
    "collapsed": false
   },
   "outputs": [
    {
     "name": "stdout",
     "output_type": "stream",
     "text": [
      "http://v2ex.assets.uxengine.net/avatar/dcbe/4be7/21612_large.png?m=1371455312\n",
      "http://v2ex.assets.uxengine.net/avatar/5703/de35/180102_large.png?m=1494211023\n",
      "http://v2ex.assets.uxengine.net/gravatar/57cfb83269169da07ba88cc2fa5377ee?s=73&d=retro\n",
      "http://v2ex.assets.uxengine.net/avatar/3904/ffc3/151481_large.png?m=1459941347\n",
      "http://v2ex.assets.uxengine.net/gravatar/4b4f5fde6b585013330c49a0311c1d68?s=73&d=retro\n",
      "http://v2ex.assets.uxengine.net/avatar/39a2/69d4/232205_large.png?m=1495591832\n",
      "http://v2ex.assets.uxengine.net/gravatar/38c9a9b43eeccbeadffa8ce0588aaf90?s=73&d=retro\n",
      "http://v2ex.assets.uxengine.net/avatar/0dce/2089/12594_large.png?m=1359604048\n",
      "http://v2ex.assets.uxengine.net/avatar/4fbc/ff06/71699_large.png?m=1459737530\n",
      "http://v2ex.assets.uxengine.net/gravatar/e253f24d20097981f1ed5fbf1e63a3ed?s=73&d=retro\n"
     ]
    }
   ],
   "source": [
    "for dic in json:\n",
    "    url = 'http:' + dic['member']['avatar_large']\n",
    "    print url"
   ]
  },
  {
   "cell_type": "markdown",
   "metadata": {},
   "source": [
    "### 原始响应内容"
   ]
  },
  {
   "cell_type": "code",
   "execution_count": 76,
   "metadata": {
    "collapsed": true
   },
   "outputs": [],
   "source": [
    "r = requests.get(url,stream = True)"
   ]
  },
  {
   "cell_type": "code",
   "execution_count": 77,
   "metadata": {
    "collapsed": false
   },
   "outputs": [
    {
     "data": {
      "text/plain": [
       "<requests.packages.urllib3.response.HTTPResponse at 0x105078510>"
      ]
     },
     "execution_count": 77,
     "metadata": {},
     "output_type": "execute_result"
    }
   ],
   "source": [
    "r.raw"
   ]
  },
  {
   "cell_type": "code",
   "execution_count": 82,
   "metadata": {
    "collapsed": false
   },
   "outputs": [
    {
     "data": {
      "text/plain": [
       "'\\xdd\\xbb\\xbd<=6=\\xee\\xc4;'"
      ]
     },
     "execution_count": 82,
     "metadata": {},
     "output_type": "execute_result"
    }
   ],
   "source": [
    "r.raw.read(10) #获取来自服务器的原始嵌套字响应"
   ]
  },
  {
   "cell_type": "code",
   "execution_count": 121,
   "metadata": {
    "collapsed": false
   },
   "outputs": [],
   "source": [
    "#把文本流保存在文本中\n",
    "with open('requests.txt','wb') as fd:\n",
    "    for chunk in r.iter_content(chunk_size=1):\n",
    "        fd.write(chunk)"
   ]
  },
  {
   "cell_type": "markdown",
   "metadata": {},
   "source": [
    "### 定制请求头"
   ]
  },
  {
   "cell_type": "code",
   "execution_count": 123,
   "metadata": {
    "collapsed": false
   },
   "outputs": [],
   "source": [
    "url = 'https://www.v2ex.com/api/topics/hot.json'"
   ]
  },
  {
   "cell_type": "code",
   "execution_count": 124,
   "metadata": {
    "collapsed": true
   },
   "outputs": [],
   "source": [
    "headers = {'user-agent':'Ghost'}"
   ]
  },
  {
   "cell_type": "code",
   "execution_count": 125,
   "metadata": {
    "collapsed": true
   },
   "outputs": [],
   "source": [
    "r = requests.get(url,headers)"
   ]
  },
  {
   "cell_type": "markdown",
   "metadata": {},
   "source": [
    "### 更加复杂的POST请求"
   ]
  },
  {
   "cell_type": "code",
   "execution_count": 130,
   "metadata": {
    "collapsed": true
   },
   "outputs": [],
   "source": [
    "url = 'http://httpbin.org/post'"
   ]
  },
  {
   "cell_type": "code",
   "execution_count": 129,
   "metadata": {
    "collapsed": true
   },
   "outputs": [],
   "source": [
    "payload = {'k':'value1','k2':'value2'}"
   ]
  },
  {
   "cell_type": "code",
   "execution_count": 133,
   "metadata": {
    "collapsed": true
   },
   "outputs": [],
   "source": [
    "r = requests.post(url,data=payload)"
   ]
  },
  {
   "cell_type": "code",
   "execution_count": 137,
   "metadata": {
    "collapsed": false
   },
   "outputs": [
    {
     "data": {
      "text/plain": [
       "'Ghost'"
      ]
     },
     "execution_count": 137,
     "metadata": {},
     "output_type": "execute_result"
    }
   ],
   "source": [
    "r.headers"
   ]
  },
  {
   "cell_type": "code",
   "execution_count": 136,
   "metadata": {
    "collapsed": false
   },
   "outputs": [
    {
     "name": "stdout",
     "output_type": "stream",
     "text": [
      "{\n",
      "  \"args\": {}, \n",
      "  \"data\": \"\", \n",
      "  \"files\": {}, \n",
      "  \"form\": {\n",
      "    \"k\": \"value1\", \n",
      "    \"k2\": \"value2\"\n",
      "  }, \n",
      "  \"headers\": {\n",
      "    \"Accept\": \"*/*\", \n",
      "    \"Accept-Encoding\": \"gzip, deflate\", \n",
      "    \"Connection\": \"close\", \n",
      "    \"Content-Length\": \"18\", \n",
      "    \"Content-Type\": \"application/x-www-form-urlencoded\", \n",
      "    \"Host\": \"httpbin.org\", \n",
      "    \"User-Agent\": \"python-requests/2.12.4\"\n",
      "  }, \n",
      "  \"json\": null, \n",
      "  \"origin\": \"117.136.40.190\", \n",
      "  \"url\": \"http://httpbin.org/post\"\n",
      "}\n",
      "\n"
     ]
    }
   ],
   "source": [
    "print r.text"
   ]
  },
  {
   "cell_type": "markdown",
   "metadata": {},
   "source": [
    "### POST一个多部分编码文件"
   ]
  },
  {
   "cell_type": "code",
   "execution_count": 138,
   "metadata": {
    "collapsed": true
   },
   "outputs": [],
   "source": [
    "url = 'http://httpbin.org/post'"
   ]
  },
  {
   "cell_type": "code",
   "execution_count": 139,
   "metadata": {
    "collapsed": true
   },
   "outputs": [],
   "source": [
    "files = {'file':open('终端Git提交.rtf','rb'),'appl'}"
   ]
  },
  {
   "cell_type": "code",
   "execution_count": 142,
   "metadata": {
    "collapsed": false
   },
   "outputs": [],
   "source": [
    "r = requests.post(url=url,files=files)"
   ]
  },
  {
   "cell_type": "code",
   "execution_count": 144,
   "metadata": {
    "collapsed": false
   },
   "outputs": [
    {
     "data": {
      "text/plain": [
       "{u'args': {},\n",
       " u'data': u'',\n",
       " u'files': {u'file': u'{\\\\rtf1\\\\ansi\\\\ansicpg936\\\\cocoartf1504\\\\cocoasubrtf760\\n{\\\\fonttbl\\\\f0\\\\fnil\\\\fcharset0 Menlo-Regular;\\\\f1\\\\fnil\\\\fcharset134 PingFangSC-Regular;}\\n{\\\\colortbl;\\\\red255\\\\green255\\\\blue255;\\\\red0\\\\green0\\\\blue0;\\\\red255\\\\green255\\\\blue255;}\\n{\\\\*\\\\expandedcolortbl;;\\\\csgray\\\\c0;\\\\csgray\\\\c100000;}\\n\\\\paperw11900\\\\paperh16840\\\\margl1440\\\\margr1440\\\\vieww10800\\\\viewh8400\\\\viewkind0\\n\\\\pard\\\\tx560\\\\tx1120\\\\tx1680\\\\tx2240\\\\tx2800\\\\tx3360\\\\tx3920\\\\tx4480\\\\tx5040\\\\tx5600\\\\tx6160\\\\tx6720\\\\pardirnatural\\\\partightenfactor0\\n\\n\\\\f0\\\\fs32 \\\\cf2 \\\\cb3 \\\\CocoaLigature0 git pull origin develop\\\\\\ngit commit -m \"\\n\\\\f1 \\\\\\'cd\\\\\\'ac\\\\\\'b2\\\\\\'bd\\\\\\'b4\\\\\\'fa\\\\\\'c2\\\\\\'eb\\n\\\\f0 \"\\\\\\ngit add .\\\\\\ngit status\\\\\\ngit push\\\\\\n}'},\n",
       " u'form': {},\n",
       " u'headers': {u'Accept': u'*/*',\n",
       "  u'Accept-Encoding': u'gzip, deflate',\n",
       "  u'Connection': u'close',\n",
       "  u'Content-Length': u'805',\n",
       "  u'Content-Type': u'multipart/form-data; boundary=8b45f441f67a4e18a743e33e73cb050d',\n",
       "  u'Host': u'httpbin.org',\n",
       "  u'User-Agent': u'python-requests/2.12.4'},\n",
       " u'json': None,\n",
       " u'origin': u'117.136.40.190',\n",
       " u'url': u'http://httpbin.org/post'}"
      ]
     },
     "execution_count": 144,
     "metadata": {},
     "output_type": "execute_result"
    }
   ],
   "source": [
    "r.json()"
   ]
  },
  {
   "cell_type": "markdown",
   "metadata": {},
   "source": [
    "### 响应码"
   ]
  },
  {
   "cell_type": "code",
   "execution_count": 150,
   "metadata": {
    "collapsed": true
   },
   "outputs": [],
   "source": [
    "url = 'http://httpbin.org/get'"
   ]
  },
  {
   "cell_type": "code",
   "execution_count": 151,
   "metadata": {
    "collapsed": true
   },
   "outputs": [],
   "source": [
    "r = requests.get(url)"
   ]
  },
  {
   "cell_type": "code",
   "execution_count": 152,
   "metadata": {
    "collapsed": false
   },
   "outputs": [
    {
     "data": {
      "text/plain": [
       "200"
      ]
     },
     "execution_count": 152,
     "metadata": {},
     "output_type": "execute_result"
    }
   ],
   "source": [
    "r.status_code"
   ]
  },
  {
   "cell_type": "code",
   "execution_count": 153,
   "metadata": {
    "collapsed": false
   },
   "outputs": [
    {
     "data": {
      "text/plain": [
       "True"
      ]
     },
     "execution_count": 153,
     "metadata": {},
     "output_type": "execute_result"
    }
   ],
   "source": [
    "r.status_code == requests.codes.ok"
   ]
  },
  {
   "cell_type": "code",
   "execution_count": 157,
   "metadata": {
    "collapsed": false
   },
   "outputs": [
    {
     "data": {
      "text/plain": [
       "200"
      ]
     },
     "execution_count": 157,
     "metadata": {},
     "output_type": "execute_result"
    }
   ],
   "source": [
    "requests.codes.OK"
   ]
  },
  {
   "cell_type": "code",
   "execution_count": 158,
   "metadata": {
    "collapsed": true
   },
   "outputs": [],
   "source": [
    "url = 'http://httpbin.org/status/404'"
   ]
  },
  {
   "cell_type": "code",
   "execution_count": 159,
   "metadata": {
    "collapsed": true
   },
   "outputs": [],
   "source": [
    "bad_r = requests.get(url)"
   ]
  },
  {
   "cell_type": "code",
   "execution_count": 160,
   "metadata": {
    "collapsed": false
   },
   "outputs": [
    {
     "data": {
      "text/plain": [
       "404"
      ]
     },
     "execution_count": 160,
     "metadata": {},
     "output_type": "execute_result"
    }
   ],
   "source": [
    "bad_r.status_code"
   ]
  },
  {
   "cell_type": "code",
   "execution_count": 165,
   "metadata": {
    "collapsed": false
   },
   "outputs": [],
   "source": [
    "r.raise_for_status()"
   ]
  },
  {
   "cell_type": "markdown",
   "metadata": {},
   "source": [
    "### 响应头"
   ]
  },
  {
   "cell_type": "code",
   "execution_count": 168,
   "metadata": {
    "collapsed": false
   },
   "outputs": [
    {
     "data": {
      "text/plain": [
       "{'Content-Length': '267', 'X-Processed-Time': '0.00175786018372', 'X-Powered-By': 'Flask', 'Server': 'meinheld/0.6.1', 'Connection': 'keep-alive', 'Via': '1.1 vegur', 'Access-Control-Allow-Credentials': 'true', 'Date': 'Fri, 26 May 2017 03:59:04 GMT', 'Access-Control-Allow-Origin': '*', 'Content-Type': 'application/json'}"
      ]
     },
     "execution_count": 168,
     "metadata": {},
     "output_type": "execute_result"
    }
   ],
   "source": [
    "r.headers"
   ]
  },
  {
   "cell_type": "code",
   "execution_count": 170,
   "metadata": {
    "collapsed": false
   },
   "outputs": [
    {
     "data": {
      "text/plain": [
       "'Fri, 26 May 2017 03:59:04 GMT'"
      ]
     },
     "execution_count": 170,
     "metadata": {},
     "output_type": "execute_result"
    }
   ],
   "source": [
    "r.headers['Date']"
   ]
  },
  {
   "cell_type": "markdown",
   "metadata": {},
   "source": [
    "### Cookie"
   ]
  },
  {
   "cell_type": "code",
   "execution_count": 179,
   "metadata": {
    "collapsed": true
   },
   "outputs": [],
   "source": [
    "url = 'https://www.v2ex.com/api/topics/hot.json'"
   ]
  },
  {
   "cell_type": "code",
   "execution_count": 180,
   "metadata": {
    "collapsed": true
   },
   "outputs": [],
   "source": [
    "r = requests.get(url)"
   ]
  },
  {
   "cell_type": "code",
   "execution_count": 183,
   "metadata": {
    "collapsed": false
   },
   "outputs": [
    {
     "data": {
      "text/plain": [
       "{'X-Rate-Limit-Remaining': '119', 'Google': 'XY', 'Content-Encoding': 'gzip', 'Transfer-Encoding': 'chunked', 'Strict-Transport-Security': 'max-age=10886400', 'Vary': 'Accept-Encoding', 'Server': 'Galaxy/3.9.7.5', 'Connection': 'keep-alive', 'Etag': 'W/\"3ec24d627b3af1f07dd0a3d4851eb4663c59750f\"', 'X-Rate-Limit-Reset': '1495774800', 'Cache-Control': 'max-age=120', 'Date': 'Fri, 26 May 2017 04:07:08 GMT', 'X-Rate-Limit-Limit': '120', 'Content-Type': 'application/json;charset=UTF-8', 'X-ORCA-Accelerator': 'EXPIRED from k01.chn.szx01.cn.krill.zenlogic.net'}"
      ]
     },
     "execution_count": 183,
     "metadata": {},
     "output_type": "execute_result"
    }
   ],
   "source": [
    "r.headers"
   ]
  },
  {
   "cell_type": "code",
   "execution_count": 185,
   "metadata": {
    "collapsed": false
   },
   "outputs": [],
   "source": [
    "r.cookies?"
   ]
  },
  {
   "cell_type": "markdown",
   "metadata": {},
   "source": [
    "### 重定向和请求历史"
   ]
  },
  {
   "cell_type": "code",
   "execution_count": 191,
   "metadata": {
    "collapsed": true
   },
   "outputs": [],
   "source": [
    "url = 'http://github.com'"
   ]
  },
  {
   "cell_type": "code",
   "execution_count": 192,
   "metadata": {
    "collapsed": true
   },
   "outputs": [],
   "source": [
    "r = requests.get(url)"
   ]
  },
  {
   "cell_type": "code",
   "execution_count": 193,
   "metadata": {
    "collapsed": false
   },
   "outputs": [
    {
     "data": {
      "text/plain": [
       "u'https://github.com/'"
      ]
     },
     "execution_count": 193,
     "metadata": {},
     "output_type": "execute_result"
    }
   ],
   "source": [
    "r.url"
   ]
  },
  {
   "cell_type": "code",
   "execution_count": 194,
   "metadata": {
    "collapsed": false
   },
   "outputs": [
    {
     "data": {
      "text/plain": [
       "200"
      ]
     },
     "execution_count": 194,
     "metadata": {},
     "output_type": "execute_result"
    }
   ],
   "source": [
    "r.status_code"
   ]
  },
  {
   "cell_type": "code",
   "execution_count": 195,
   "metadata": {
    "collapsed": false
   },
   "outputs": [
    {
     "data": {
      "text/plain": [
       "[<Response [301]>]"
      ]
     },
     "execution_count": 195,
     "metadata": {},
     "output_type": "execute_result"
    }
   ],
   "source": [
    "r.history"
   ]
  },
  {
   "cell_type": "markdown",
   "metadata": {},
   "source": [
    "### 超时"
   ]
  },
  {
   "cell_type": "code",
   "execution_count": 198,
   "metadata": {
    "collapsed": true
   },
   "outputs": [],
   "source": [
    "url = 'http://github.com'"
   ]
  },
  {
   "cell_type": "code",
   "execution_count": 200,
   "metadata": {
    "collapsed": false
   },
   "outputs": [],
   "source": [
    "import requests"
   ]
  },
  {
   "cell_type": "code",
   "execution_count": 214,
   "metadata": {
    "collapsed": false
   },
   "outputs": [
    {
     "name": "stdout",
     "output_type": "stream",
     "text": [
      "HTTPConnectionPool(host='github.com', port=80): Max retries exceeded with url: / (Caused by ConnectTimeoutError(<requests.packages.urllib3.connection.HTTPConnection object at 0x10527b750>, 'Connection to github.com timed out. (connect timeout=0.02)'))\n",
      "error\n"
     ]
    }
   ],
   "source": [
    "try:\n",
    "    requests.get(url,timeout=0.02)\n",
    "except requests.ConnectionError as error:\n",
    "    print error\n",
    "finally:\n",
    "    print 'error'"
   ]
  },
  {
   "cell_type": "markdown",
   "metadata": {},
   "source": [
    "### 错误和异常"
   ]
  },
  {
   "cell_type": "code",
   "execution_count": 217,
   "metadata": {
    "collapsed": false
   },
   "outputs": [],
   "source": [
    "requests.ConnectionError?"
   ]
  },
  {
   "cell_type": "code",
   "execution_count": 220,
   "metadata": {
    "collapsed": false
   },
   "outputs": [],
   "source": [
    "requests.ConnectTimeout?"
   ]
  },
  {
   "cell_type": "code",
   "execution_count": null,
   "metadata": {
    "collapsed": true
   },
   "outputs": [],
   "source": []
  }
 ],
 "metadata": {
  "kernelspec": {
   "display_name": "Python 2",
   "language": "python",
   "name": "python2"
  },
  "language_info": {
   "codemirror_mode": {
    "name": "ipython",
    "version": 2
   },
   "file_extension": ".py",
   "mimetype": "text/x-python",
   "name": "python",
   "nbconvert_exporter": "python",
   "pygments_lexer": "ipython2",
   "version": "2.7.13"
  }
 },
 "nbformat": 4,
 "nbformat_minor": 2
}
