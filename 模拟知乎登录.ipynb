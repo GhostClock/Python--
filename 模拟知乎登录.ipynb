{
 "cells": [
  {
   "cell_type": "code",
   "execution_count": 1,
   "metadata": {
    "collapsed": true
   },
   "outputs": [],
   "source": [
    "import requests"
   ]
  },
  {
   "cell_type": "code",
   "execution_count": 6,
   "metadata": {
    "collapsed": true
   },
   "outputs": [],
   "source": [
    "url = \"https://www.zhihu.com/#signin\""
   ]
  },
  {
   "cell_type": "code",
   "execution_count": 4,
   "metadata": {
    "collapsed": false
   },
   "outputs": [
    {
     "name": "stdout",
     "output_type": "stream",
     "text": [
      "500\n"
     ]
    }
   ],
   "source": [
    "print z.status_code"
   ]
  },
  {
   "cell_type": "code",
   "execution_count": null,
   "metadata": {
    "collapsed": true
   },
   "outputs": [],
   "source": [
    "z = requests.get(url)"
   ]
  },
  {
   "cell_type": "code",
   "execution_count": 5,
   "metadata": {
    "collapsed": true
   },
   "outputs": [],
   "source": [
    "headers = {\n",
    "    'User-Agent':'Mozilla/5.0 (Macintosh; Intel Mac OS X 10_12_4) AppleWebKit/537.36 (KHTML, like Gecko) Chrome/57.0.2987.133 Safari/537.36'\n",
    "}"
   ]
  },
  {
   "cell_type": "code",
   "execution_count": 6,
   "metadata": {
    "collapsed": true
   },
   "outputs": [],
   "source": [
    "x1 = requests.get(url,headers=headers)"
   ]
  },
  {
   "cell_type": "code",
   "execution_count": 7,
   "metadata": {
    "collapsed": false
   },
   "outputs": [
    {
     "data": {
      "text/plain": [
       "200"
      ]
     },
     "execution_count": 7,
     "metadata": {},
     "output_type": "execute_result"
    }
   ],
   "source": [
    "x1.status_code"
   ]
  },
  {
   "cell_type": "code",
   "execution_count": 8,
   "metadata": {
    "collapsed": true
   },
   "outputs": [],
   "source": [
    "from lxml import etree"
   ]
  },
  {
   "cell_type": "code",
   "execution_count": 9,
   "metadata": {
    "collapsed": true
   },
   "outputs": [],
   "source": [
    "sel = etree.HTML(x1.content)"
   ]
  },
  {
   "cell_type": "code",
   "execution_count": 12,
   "metadata": {
    "collapsed": false
   },
   "outputs": [
    {
     "name": "stdout",
     "output_type": "stream",
     "text": [
      "005e4fe9a0fea2661f80f4c5c877386c\n"
     ]
    }
   ],
   "source": [
    "_xsrf = sel.xpath('//input[@name=\"_xsrf\"]/@value')[0]\n",
    "print _xsrf"
   ]
  },
  {
   "cell_type": "code",
   "execution_count": 34,
   "metadata": {
    "collapsed": false
   },
   "outputs": [
    {
     "name": "stdout",
     "output_type": "stream",
     "text": [
      "200\n"
     ]
    }
   ],
   "source": [
    "# 模拟登录\n",
    "loginurl = 'https://www.zhihu.com/login/email'\n",
    "formdata = {\n",
    "    '_xsrf':_xsrf,\n",
    "'password':'yuanhappy131',\n",
    "# 'captcha':'SUV6',\n",
    "'email':'zhangyuanlaifen@163.com',\n",
    "}\n",
    "z2 = requests.post(url=loginurl,data=formdata,headers=headers)\n",
    "\n",
    "print z2.status_code"
   ]
  },
  {
   "cell_type": "code",
   "execution_count": 35,
   "metadata": {
    "collapsed": false
   },
   "outputs": [
    {
     "name": "stdout",
     "output_type": "stream",
     "text": [
      "200\n"
     ]
    }
   ],
   "source": [
    "mylog = \"https://www.zhihu.com/people/pa-chong-21/logs\"\n",
    "z3 = requests.get(url = mylog,headers=headers)\n",
    "print z3.status_code"
   ]
  },
  {
   "cell_type": "code",
   "execution_count": 29,
   "metadata": {
    "collapsed": false
   },
   "outputs": [
    {
     "name": "stdout",
     "output_type": "stream",
     "text": [
      "https://www.zhihu.com/?next=%2Fpeople%2Fpa-chong-21%2Flogs\n"
     ]
    }
   ],
   "source": [
    "print z3.url"
   ]
  },
  {
   "cell_type": "code",
   "execution_count": 19,
   "metadata": {
    "collapsed": false
   },
   "outputs": [
    {
     "name": "stdout",
     "output_type": "stream",
     "text": [
      "<!DOCTYPE html>\n",
      "<html lang=\"zh-CN\" class=\"\">\n",
      "<head>\n",
      "<meta charset=\"utf-8\">\n",
      "<meta http-equiv=\"X-UA-Compatible\" content=\"IE=edge,chrome=1\" />\n",
      "<meta name=\"renderer\" content=\"webkit\" />\n",
      "<meta name=\"description\" content=\"一个真实的网络问答社区，帮助你寻找答案，分享知识。\"/>\n",
      "<meta name=\"viewport\" content=\"user-scalable=no, width=device-width, initial-scale=1.0, maximum-scale=1.0\"/>\n",
      "<title>知乎 - 与世界分享你的知识、经验和见解</title>\n",
      "\n",
      "\n",
      "\n",
      "<link rel=\"apple-touch-icon\" href=\"https://static.zhihu.com/static/revved/img/ios/touch-icon-152.87c020b9.png\" sizes=\"152x152\">\n",
      "<link rel=\"apple-touch-icon\" href=\"https://static.zhihu.com/static/revved/img/ios/touch-icon-120.496c913b.png\" sizes=\"120x120\">\n",
      "<link rel=\"apple-touch-icon\" href=\"https://static.zhihu.com/static/revved/img/ios/touch-icon-76.dcf79352.png\" sizes=\"76x76\">\n",
      "<link rel=\"apple-touch-icon\" href=\"https://static.zhihu.com/static/revved/img/ios/touch-icon-60.9911cffb.png\" sizes=\"60x60\">\n",
      "\n",
      "<link rel=\"shortcut icon\" href=\"https://static.zhihu.com/static/favicon.ico\" type=\"image/x-icon\" />\n",
      "<link rel=\"dns-prefetch\" href=\"p1.zhimg.com\"/>\n",
      "<link rel=\"dns-prefetch\" href=\"p2.zhimg.com\"/>\n",
      "<link rel=\"dns-prefetch\" href=\"p3.zhimg.com\"/>\n",
      "<link rel=\"dns-prefetch\" href=\"p4.zhimg.com\"/>\n",
      "<link rel=\"dns-prefetch\" href=\"comet.zhihu.com\"/>\n",
      "<link rel=\"dns-prefetch\" href=\"static.zhihu.com\"/>\n",
      "<link rel=\"dns-prefetch\" href=\"upload.zhihu.com\"/>\n",
      "<link rel=\"stylesheet\" href=\"https://static.zhihu.com/static/revved/-/css/pages/unlogin-index/main.db431217.css\">\n",
      "<meta name=\"google-site-verification\" content=\"FTeR0c8arOPKh8c5DYh_9uu98_zJbaWw53J-Sch9MTg\" />\n",
      "<meta name=\"baidu-site-verification\" content=\"KPFppAFoYF4Kkdv9\" />\n",
      "<meta property=\"qc:admins\" content=\"00544670776201056375\" />\n",
      "<link rel=\"canonical\" href=\"http://www.zhihu.com\" />\n",
      "<meta id=\"znonce\" name=\"znonce\" content=\"5c7201007a664712b112d39fefc5c4a3\">\n",
      "<!--[if lt IE 9]>\n",
      "<script src=\"https://static.zhihu.com/static/components/respond/dest/respond.min.js\"></script>\n",
      "<link href=\"https://static.zhihu.com/static/components/respond/cross-domain/respond-proxy.html\" id=\"respond-proxy\" rel=\"respond-proxy\" />\n",
      "<link href=\"/static/components/respond/cross-domain/respond.proxy.gif\" id=\"respond-redirect\" rel=\"respond-redirect\" />\n",
      "<script src=\"/static/components/respond/cross-domain/respond.proxy.js\"></script>\n",
      "<![endif]-->\n",
      "<script src=\"https://static.zhihu.com/static/revved/-/js/instant.14757a4a.js\"></script>\n",
      "</head>\n",
      "<body class=\"zhi \">\n",
      "\n",
      "\n",
      "\n",
      "\n",
      "<div class=\"index-main\">\n",
      "<div class=\"index-main-body\">\n",
      "<div class=\"index-header\">\n",
      "\n",
      "<h1 class=\"logo hide-text\">知乎</h1>\n",
      "\n",
      "<h2 class=\"subtitle\">与世界分享你的知识、经验和见解</h2>\n",
      "</div>\n",
      "\n",
      "<div class=\"desk-front sign-flow clearfix sign-flow-simple\">\n",
      "\n",
      "<div class=\"index-tab-navs\">\n",
      "<div class=\"navs-slider\">\n",
      "<a href=\"#signup\" class=\"active\">注册</a>\n",
      "<a href=\"#signin\">登录</a>\n",
      "<span class=\"navs-slider-bar\"></span>\n",
      "</div>\n",
      "</div>\n",
      "\n",
      "\n",
      "<div class=\"view view-signin\" data-za-module=\"SignInForm\">\n",
      "<form method=\"POST\">\n",
      "<input type=\"hidden\" name=\"_xsrf\" value=\"a3692792c6410dce709f211c0a95f6d1\"/>\n",
      "<div class=\"group-inputs\">\n",
      "\n",
      "<div class=\"account input-wrapper\">\n",
      "\n",
      "<input type=\"text\" name=\"account\" aria-label=\"手机号或邮箱\" placeholder=\"手机号或邮箱\" required>\n",
      "</div>\n",
      "<div class=\"verification input-wrapper\">\n",
      "<input type=\"password\" name=\"password\" aria-label=\"密码\" placeholder=\"密码\" required /><button type=\"button\" class=\"send-code-button\">获取验证码</button>\n",
      "</div>\n",
      "\n",
      "<div class=\"Captcha input-wrapper\" data-type=\"cn\" data-za-module=\"Captcha\">\n",
      "<div class=\"Captcha-operate\">\n",
      "<input type=\"hidden\" name=\"captcha\" required data-rule-required=\"true\" data-msg-required=\"请点击图中所有倒立的文字\">\n",
      "<input type=\"hidden\" name=\"captcha_type\" value=\"cn\" required>\n",
      "<label class=\"Captcha-prompt\">请点击图中所有倒立的文字</label>\n",
      "<span class=\"Captcha-refresh js-refreshCaptcha sprite-index-icon-refresh\"></span>\n",
      "</div>\n",
      "<div class=\"Captcha-imageConatiner\">\n",
      "<img class=\"Captcha-image\" alt=\"验证码\" >\n",
      "</div>\n",
      "</div>\n",
      "\n",
      "</div>\n",
      "<div class=\"button-wrapper command\">\n",
      "<button class=\"sign-button submit\" type=\"submit\">登录</button>\n",
      "</div>\n",
      "<div class=\"signin-misc-wrapper clearfix\">\n",
      "\n",
      "<button type=\"button\" class=\"signin-switch-button\">手机验证码登录</button>\n",
      "\n",
      "<a class=\"unable-login\" href=\"#\">无法登录？</a>\n",
      "</div>\n",
      "\n",
      "<div class=\"social-signup-wrapper\" data-za-module=\"SNSSignIn\">\n",
      "<span class=\"name js-toggle-sns-buttons\">社交帐号登录</span>\n",
      "\n",
      "<div class=\"sns-buttons\">\n",
      "<a title=\"微信登录\" class=\"js-bindwechat\" href=\"#\"><i class=\"sprite-index-icon-wechat\"></i></a>\n",
      "<a title=\"微博登录\" class=\"js-bindweibo\" href=\"#\"><i class=\"sprite-index-icon-weibo\"></i></a>\n",
      "<a title=\"QQ 登录\" class=\"js-bindqq\" href=\"#\"><i class=\"sprite-index-icon-qq\"></i></a>\n",
      "</div>\n",
      "\n",
      "\n",
      "</div>\n",
      "\n",
      "</form>\n",
      "\n",
      "<div class=\"QRCode\">\n",
      "<button class=\"QRCode-toggleButton\">\n",
      "<span class=\"sprite-global-icon-qrcode\"></span>\n",
      "<span class=\"QRCode-toggleButtonText \">下载知乎 App</span>\n",
      "</button>\n",
      "<div class=\"QRCode-card\">\n",
      "<div class=\"QRCode-image\"></div>\n",
      "<div class=\"sprite-index-icon-arrow\"></div>\n",
      "</div>\n",
      "</div>\n",
      "\n",
      "\n",
      "</div>\n",
      "<div class=\"view view-signup selected\" data-za-module=\"SignUpForm\">\n",
      "<form class=\"zu-side-login-box\" action=\"/register/email\" id=\"sign-form-1\" autocomplete=\"off\" method=\"POST\">\n",
      "<input type=\"password\" hidden> \n",
      "<input type=\"hidden\" name=\"_xsrf\" value=\"a3692792c6410dce709f211c0a95f6d1\"/>\n",
      "<div class=\"group-inputs\">\n",
      "\n",
      "\n",
      "<div class=\"name input-wrapper\">\n",
      "<input required type=\"text\" name=\"fullname\" aria-label=\"姓名\" placeholder=\"姓名\">\n",
      "</div>\n",
      "<div class=\"email input-wrapper\">\n",
      "\n",
      "<input required type=\"text\" class=\"account\" name=\"phone_num\" aria-label=\"手机号（仅支持中国大陆）\" placeholder=\"手机号（仅支持中国大陆）\">\n",
      "\n",
      "</div>\n",
      "\n",
      "<div class=\"input-wrapper\">\n",
      "<input required type=\"password\" name=\"password\" aria-label=\"密码\" placeholder=\"密码（不少于 6 位）\" autocomplete=\"off\">\n",
      "</div>\n",
      "\n",
      "<div class=\"input-wrapper captcha-module\" data-type=\"en\" >\n",
      "<input id=\"captcha\" name=\"captcha\" placeholder=\"验证码\" required data-rule-required=\"true\" data-msg-required=\"请填写验证码\">\n",
      "<div class=\"captcha-container\">\n",
      "\n",
      "<img class=\"js-refreshCaptcha captcha\" width=\"120\" height=\"30\" data-tooltip=\"s$t$看不清楚？换一张\"  alt=\"验证码\">\n",
      "</div>\n",
      "</div>\n",
      "\n",
      "</div>\n",
      "<div class=\"button-wrapper command\">\n",
      "<button class=\"sign-button submit\" type=\"submit\">注册知乎</button>\n",
      "</div>\n",
      "</form>\n",
      "\n",
      "<p class=\"agreement-tip\">点击「注册」按钮，即代表你同意<a href=\"/terms\" target=\"_blank\">《知乎协议》</a></p>\n",
      "\n",
      "<div class=\"QRCode\">\n",
      "<button class=\"QRCode-toggleButton\">\n",
      "<span class=\"sprite-global-icon-qrcode\"></span>\n",
      "<span class=\"QRCode-toggleButtonText \">下载知乎 App</span>\n",
      "</button>\n",
      "<div class=\"QRCode-card\">\n",
      "<div class=\"QRCode-image\"></div>\n",
      "<div class=\"sprite-index-icon-arrow\"></div>\n",
      "</div>\n",
      "</div>\n",
      "\n",
      "\n",
      "\n",
      "</div>\n",
      "</div>\n",
      "</div>\n",
      "\n",
      "</div>\n",
      "<div class=\"footer\">\n",
      "\n",
      "<span>&copy; 2017 知乎</span>\n",
      "<span class=\"dot\">·</span>\n",
      "<a target=\"_blank\" href=\"/roundtable\">知乎圆桌</a>\n",
      "<span class=\"dot\">·</span>\n",
      "<a target=\"_blank\" href=\"/explore\" data-za-c=\"explore\" data-za-a=\"visit_explore\" data-za-l=\"home_bottom_explore\">发现</a>\n",
      "<span class=\"dot\">·</span>\n",
      "<a target=\"_blank\" href=\"/app\">移动应用</a>\n",
      "<span class=\"dot\">·</span>\n",
      "\n",
      "\n",
      "<a href=\"/org/signin\" class=\"footer-mobile-show\">使用机构帐号登录</a>\n",
      "\n",
      "<span class=\"dot footer-mobile-show\">·</span>\n",
      "\n",
      "<a href=\"/contact\" class=\"footer-mobile-show\">联系我们</a>\n",
      "<span class=\"dot\">·</span>\n",
      "<a target=\"_blank\" href=\"/careers\">来知乎工作</a>\n",
      "<br />\n",
      "<a href=\"http://www.miibeian.gov.cn/\" target=\"_blank\">京 ICP 证 110745 号</a>\n",
      "<span class=\"dot\">·</span>\n",
      "<span>京公网安备 11010802010035 号</span>\n",
      "<span class=\"dot\">·</span>\n",
      "<a href=\"http://zhstatic.zhihu.com/assets/zhihu/publish-license.jpg\" target=\"_blank\">出版物经营许可证</a>\n",
      "\n",
      "</div>\n",
      "\n",
      "\n",
      "\n",
      "<script type=\"text/json\" class=\"json-inline\" data-name=\"disabled_components\">[\"back_to_top\"]</script>\n",
      "<script type=\"text/json\" class=\"json-inline\" data-name=\"current_user\">[\"\",\"\",\"\",\"-1\",\"\",0,0]</script>\n",
      "<script type=\"text/json\" class=\"json-inline\" data-name=\"env\">[\"zhihu.com\",\"comet.zhihu.com\",false,null,false,false]</script>\n",
      "\n",
      "<script type=\"text/json\" class=\"json-inline\" data-name=\"ga_vars\">{\"user_created\":0,\"now\":1492528574000,\"abtest_mask\":\"------------------------------\",\"user_attr\":[0,0,0,\"-\",\"-\"],\"user_hash\":0}</script>\n",
      "\n",
      "<script src=\"https://static.zhihu.com/static/revved/-/js/vendor.cb14a042.js\"></script>\n",
      "<script src=\"https://static.zhihu.com/static/revved/-/js/closure/base.4ed4c84b.js\"></script>\n",
      "\n",
      "<script src=\"https://static.zhihu.com/static/revved/-/js/closure/common.bee7f424.js\"></script>\n",
      "<script src=\"https://static.zhihu.com/static/revved/-/js/closure/page-index.0c71b411.js\"></script>\n",
      "<meta name=\"entry\" content=\"ZH.entrySignPage\" data-module-id=\"page-index\">\n",
      "\n",
      "\n",
      "<input type=\"hidden\" name=\"_xsrf\" value=\"a3692792c6410dce709f211c0a95f6d1\"/>\n",
      "</body>\n",
      "</html>\n"
     ]
    }
   ],
   "source": [
    "print z3.text"
   ]
  },
  {
   "cell_type": "code",
   "execution_count": 36,
   "metadata": {
    "collapsed": false
   },
   "outputs": [
    {
     "data": {
      "text/plain": [
       "['Content-Length',\n",
       " 'X-Req-SSL',\n",
       " 'X-Za-Response-Id',\n",
       " 'Content-Security-Policy',\n",
       " 'Set-Cookie',\n",
       " 'Expires',\n",
       " 'Vary',\n",
       " 'X-Req-ID',\n",
       " 'Connection',\n",
       " 'Pragma',\n",
       " 'Cache-Control',\n",
       " 'Date',\n",
       " 'X-Za-Experiment',\n",
       " 'X-Frame-Options',\n",
       " 'Server',\n",
       " 'Content-Type']"
      ]
     },
     "execution_count": 36,
     "metadata": {},
     "output_type": "execute_result"
    }
   ],
   "source": [
    "z2.headers.keys()"
   ]
  },
  {
   "cell_type": "code",
   "execution_count": 37,
   "metadata": {
    "collapsed": false
   },
   "outputs": [
    {
     "data": {
      "text/plain": [
       "'aliyungf_tc=AQAAAEE0wmo0tgsAR71qG9oTmwCv/U/E; Path=/; HttpOnly, l_n_c=1; Domain=zhihu.com; Path=/, q_c1=d430b9c9916742f39d1c20368912d414|1492529014000|1492529014000; Domain=zhihu.com; expires=Fri, 17 Apr 2020 15:23:34 GMT; Path=/, _xsrf=; Domain=zhihu.com; expires=Mon, 18 Apr 2016 15:23:34 GMT; Path=/, r_cap_id=\"MTdiYjU2NTc2Y2QxNDhjMmI4ODM4YWFmYmFkM2JhZmU=|1492529014|f281172eb588ab19ae473637ead1e1576d65ad3d\"; Domain=zhihu.com; expires=Thu, 18 May 2017 15:23:34 GMT; Path=/, cap_id=\"YWNhOWQ2ODYyYTc5NDEyNDk3MzViZGY1Y2JiOWRlZDE=|1492529014|9d6eb2a96ff28ff227680056d526f10d171660e7\"; Domain=zhihu.com; expires=Thu, 18 May 2017 15:23:34 GMT; Path=/, l_cap_id=\"ODBhMjNhZjM4ZjM0NGE3OGE0N2E0MzM3ZGRlNTZkM2I=|1492529014|8fa16db5cbf05971ca371d27a5bae197fab34c20\"; Domain=zhihu.com; expires=Thu, 18 May 2017 15:23:34 GMT; Path=/, n_c=1; Domain=zhihu.com; Path=/'"
      ]
     },
     "execution_count": 37,
     "metadata": {},
     "output_type": "execute_result"
    }
   ],
   "source": [
    "# 获取z2 headers[\"Set-Cookie\"]\n",
    "z2.headers[\"Set-Cookie\"]"
   ]
  },
  {
   "cell_type": "code",
   "execution_count": 38,
   "metadata": {
    "collapsed": true
   },
   "outputs": [],
   "source": [
    "headers[\"Cookie\"] = z2.headers[\"Set-Cookie\"]"
   ]
  },
  {
   "cell_type": "code",
   "execution_count": 39,
   "metadata": {
    "collapsed": false
   },
   "outputs": [
    {
     "name": "stdout",
     "output_type": "stream",
     "text": [
      "https://www.zhihu.com/?next=%2Fpeople%2Fpa-chong-21%2Flogs\n",
      "<!DOCTYPE html>\n",
      "<html lang=\"zh-CN\" class=\"\">\n",
      "<head>\n",
      "<meta charset=\"utf-8\">\n",
      "<meta http-equiv=\"X-UA-Compatible\" content=\"IE=edge,chrome=1\" />\n",
      "<meta name=\"renderer\" content=\"webkit\" />\n",
      "<meta name=\"description\" content=\"一个真实的网络问答社区，帮助你寻找答案，分享知识。\"/>\n",
      "<meta name=\"viewport\" content=\"user-scalable=no, width=device-width, initial-scale=1.0, maximum-scale=1.0\"/>\n",
      "<title>知乎 - 与世界分享你的知识、经验和见解</title>\n",
      "\n",
      "\n",
      "\n",
      "<link rel=\"apple-touch-icon\" href=\"https://static.zhihu.com/static/revved/img/ios/touch-icon-152.87c020b9.png\" sizes=\"152x152\">\n",
      "<link rel=\"apple-touch-icon\" href=\"https://static.zhihu.com/static/revved/img/ios/touch-icon-120.496c913b.png\" sizes=\"120x120\">\n",
      "<link rel=\"apple-touch-icon\" href=\"https://static.zhihu.com/static/revved/img/ios/touch-icon-76.dcf79352.png\" sizes=\"76x76\">\n",
      "<link rel=\"apple-touch-icon\" href=\"https://static.zhihu.com/static/revved/img/ios/touch-icon-60.9911cffb.png\" sizes=\"60x60\">\n",
      "\n",
      "<link rel=\"shortcut icon\" href=\"https://static.zhihu.com/static/favicon.ico\" type=\"image/x-icon\" />\n",
      "<link rel=\"dns-prefetch\" href=\"p1.zhimg.com\"/>\n",
      "<link rel=\"dns-prefetch\" href=\"p2.zhimg.com\"/>\n",
      "<link rel=\"dns-prefetch\" href=\"p3.zhimg.com\"/>\n",
      "<link rel=\"dns-prefetch\" href=\"p4.zhimg.com\"/>\n",
      "<link rel=\"dns-prefetch\" href=\"comet.zhihu.com\"/>\n",
      "<link rel=\"dns-prefetch\" href=\"static.zhihu.com\"/>\n",
      "<link rel=\"dns-prefetch\" href=\"upload.zhihu.com\"/>\n",
      "<link rel=\"stylesheet\" href=\"https://static.zhihu.com/static/revved/-/css/pages/unlogin-index/main.db431217.css\">\n",
      "<meta name=\"google-site-verification\" content=\"FTeR0c8arOPKh8c5DYh_9uu98_zJbaWw53J-Sch9MTg\" />\n",
      "<meta name=\"baidu-site-verification\" content=\"KPFppAFoYF4Kkdv9\" />\n",
      "<meta property=\"qc:admins\" content=\"00544670776201056375\" />\n",
      "<link rel=\"canonical\" href=\"http://www.zhihu.com\" />\n",
      "<meta id=\"znonce\" name=\"znonce\" content=\"57874319ecad4fdb9941bc5186415cd7\">\n",
      "<!--[if lt IE 9]>\n",
      "<script src=\"https://static.zhihu.com/static/components/respond/dest/respond.min.js\"></script>\n",
      "<link href=\"https://static.zhihu.com/static/components/respond/cross-domain/respond-proxy.html\" id=\"respond-proxy\" rel=\"respond-proxy\" />\n",
      "<link href=\"/static/components/respond/cross-domain/respond.proxy.gif\" id=\"respond-redirect\" rel=\"respond-redirect\" />\n",
      "<script src=\"/static/components/respond/cross-domain/respond.proxy.js\"></script>\n",
      "<![endif]-->\n",
      "<script src=\"https://static.zhihu.com/static/revved/-/js/instant.14757a4a.js\"></script>\n",
      "</head>\n",
      "<body class=\"zhi \">\n",
      "\n",
      "\n",
      "\n",
      "\n",
      "<div class=\"index-main\">\n",
      "<div class=\"index-main-body\">\n",
      "<div class=\"index-header\">\n",
      "\n",
      "<h1 class=\"logo hide-text\">知乎</h1>\n",
      "\n",
      "<h2 class=\"subtitle\">与世界分享你的知识、经验和见解</h2>\n",
      "</div>\n",
      "\n",
      "<div class=\"desk-front sign-flow clearfix sign-flow-simple\">\n",
      "\n",
      "<div class=\"index-tab-navs\">\n",
      "<div class=\"navs-slider\">\n",
      "<a href=\"#signup\" class=\"active\">注册</a>\n",
      "<a href=\"#signin\">登录</a>\n",
      "<span class=\"navs-slider-bar\"></span>\n",
      "</div>\n",
      "</div>\n",
      "\n",
      "\n",
      "<div class=\"view view-signin\" data-za-module=\"SignInForm\">\n",
      "<form method=\"POST\">\n",
      "<input type=\"hidden\" name=\"_xsrf\" value=\"14dedf27e5b9ab1ebdf5fb1bf3e93417\"/>\n",
      "<div class=\"group-inputs\">\n",
      "\n",
      "<div class=\"account input-wrapper\">\n",
      "\n",
      "<input type=\"text\" name=\"account\" aria-label=\"手机号或邮箱\" placeholder=\"手机号或邮箱\" required>\n",
      "</div>\n",
      "<div class=\"verification input-wrapper\">\n",
      "<input type=\"password\" name=\"password\" aria-label=\"密码\" placeholder=\"密码\" required /><button type=\"button\" class=\"send-code-button\">获取验证码</button>\n",
      "</div>\n",
      "\n",
      "<div class=\"input-wrapper captcha-module\" data-type=\"en\" >\n",
      "<input id=\"captcha\" name=\"captcha\" placeholder=\"验证码\" required data-rule-required=\"true\" data-msg-required=\"请填写验证码\">\n",
      "<div class=\"captcha-container\">\n",
      "\n",
      "<img class=\"js-refreshCaptcha captcha\" width=\"120\" height=\"30\" data-tooltip=\"s$t$看不清楚？换一张\"  alt=\"验证码\">\n",
      "</div>\n",
      "</div>\n",
      "\n",
      "</div>\n",
      "<div class=\"button-wrapper command\">\n",
      "<button class=\"sign-button submit\" type=\"submit\">登录</button>\n",
      "</div>\n",
      "<div class=\"signin-misc-wrapper clearfix\">\n",
      "\n",
      "<button type=\"button\" class=\"signin-switch-button\">手机验证码登录</button>\n",
      "\n",
      "<a class=\"unable-login\" href=\"#\">无法登录？</a>\n",
      "</div>\n",
      "\n",
      "<div class=\"social-signup-wrapper\" data-za-module=\"SNSSignIn\">\n",
      "<span class=\"name js-toggle-sns-buttons\">社交帐号登录</span>\n",
      "\n",
      "<div class=\"sns-buttons\">\n",
      "<a title=\"微信登录\" class=\"js-bindwechat\" href=\"#\"><i class=\"sprite-index-icon-wechat\"></i></a>\n",
      "<a title=\"微博登录\" class=\"js-bindweibo\" href=\"#\"><i class=\"sprite-index-icon-weibo\"></i></a>\n",
      "<a title=\"QQ 登录\" class=\"js-bindqq\" href=\"#\"><i class=\"sprite-index-icon-qq\"></i></a>\n",
      "</div>\n",
      "\n",
      "\n",
      "</div>\n",
      "\n",
      "</form>\n",
      "\n",
      "<div class=\"QRCode\">\n",
      "<button class=\"QRCode-toggleButton\">\n",
      "<span class=\"sprite-global-icon-qrcode\"></span>\n",
      "<span class=\"QRCode-toggleButtonText \">下载知乎 App</span>\n",
      "</button>\n",
      "<div class=\"QRCode-card\">\n",
      "<div class=\"QRCode-image\"></div>\n",
      "<div class=\"sprite-index-icon-arrow\"></div>\n",
      "</div>\n",
      "</div>\n",
      "\n",
      "\n",
      "</div>\n",
      "<div class=\"view view-signup selected\" data-za-module=\"SignUpForm\">\n",
      "<form class=\"zu-side-login-box\" action=\"/register/email\" id=\"sign-form-1\" autocomplete=\"off\" method=\"POST\">\n",
      "<input type=\"password\" hidden> \n",
      "<input type=\"hidden\" name=\"_xsrf\" value=\"14dedf27e5b9ab1ebdf5fb1bf3e93417\"/>\n",
      "<div class=\"group-inputs\">\n",
      "\n",
      "\n",
      "<div class=\"name input-wrapper\">\n",
      "<input required type=\"text\" name=\"fullname\" aria-label=\"姓名\" placeholder=\"姓名\">\n",
      "</div>\n",
      "<div class=\"email input-wrapper\">\n",
      "\n",
      "<input required type=\"text\" class=\"account\" name=\"phone_num\" aria-label=\"手机号（仅支持中国大陆）\" placeholder=\"手机号（仅支持中国大陆）\">\n",
      "\n",
      "</div>\n",
      "\n",
      "<div class=\"input-wrapper\">\n",
      "<input required type=\"password\" name=\"password\" aria-label=\"密码\" placeholder=\"密码（不少于 6 位）\" autocomplete=\"off\">\n",
      "</div>\n",
      "\n",
      "<div class=\"Captcha input-wrapper\" data-type=\"cn\" data-za-module=\"Captcha\">\n",
      "<div class=\"Captcha-operate\">\n",
      "<input type=\"hidden\" name=\"captcha\" required data-rule-required=\"true\" data-msg-required=\"请点击图中所有倒立的文字\">\n",
      "<input type=\"hidden\" name=\"captcha_type\" value=\"cn\" required>\n",
      "<label class=\"Captcha-prompt\">请点击图中所有倒立的文字</label>\n",
      "<span class=\"Captcha-refresh js-refreshCaptcha sprite-index-icon-refresh\"></span>\n",
      "</div>\n",
      "<div class=\"Captcha-imageConatiner\">\n",
      "<img class=\"Captcha-image\" alt=\"验证码\" >\n",
      "</div>\n",
      "</div>\n",
      "\n",
      "</div>\n",
      "<div class=\"button-wrapper command\">\n",
      "<button class=\"sign-button submit\" type=\"submit\">注册知乎</button>\n",
      "</div>\n",
      "</form>\n",
      "\n",
      "<p class=\"agreement-tip\">点击「注册」按钮，即代表你同意<a href=\"/terms\" target=\"_blank\">《知乎协议》</a></p>\n",
      "\n",
      "<div class=\"QRCode\">\n",
      "<button class=\"QRCode-toggleButton\">\n",
      "<span class=\"sprite-global-icon-qrcode\"></span>\n",
      "<span class=\"QRCode-toggleButtonText \">下载知乎 App</span>\n",
      "</button>\n",
      "<div class=\"QRCode-card\">\n",
      "<div class=\"QRCode-image\"></div>\n",
      "<div class=\"sprite-index-icon-arrow\"></div>\n",
      "</div>\n",
      "</div>\n",
      "\n",
      "\n",
      "\n",
      "</div>\n",
      "</div>\n",
      "</div>\n",
      "\n",
      "</div>\n",
      "<div class=\"footer\">\n",
      "\n",
      "<span>&copy; 2017 知乎</span>\n",
      "<span class=\"dot\">·</span>\n",
      "<a target=\"_blank\" href=\"/roundtable\">知乎圆桌</a>\n",
      "<span class=\"dot\">·</span>\n",
      "<a target=\"_blank\" href=\"/explore\" data-za-c=\"explore\" data-za-a=\"visit_explore\" data-za-l=\"home_bottom_explore\">发现</a>\n",
      "<span class=\"dot\">·</span>\n",
      "<a target=\"_blank\" href=\"/app\">移动应用</a>\n",
      "<span class=\"dot\">·</span>\n",
      "\n",
      "\n",
      "<a href=\"/org/signin\" class=\"footer-mobile-show\">使用机构帐号登录</a>\n",
      "\n",
      "<span class=\"dot footer-mobile-show\">·</span>\n",
      "\n",
      "<a href=\"/contact\" class=\"footer-mobile-show\">联系我们</a>\n",
      "<span class=\"dot\">·</span>\n",
      "<a target=\"_blank\" href=\"/careers\">来知乎工作</a>\n",
      "<br />\n",
      "<a href=\"http://www.miibeian.gov.cn/\" target=\"_blank\">京 ICP 证 110745 号</a>\n",
      "<span class=\"dot\">·</span>\n",
      "<span>京公网安备 11010802010035 号</span>\n",
      "<span class=\"dot\">·</span>\n",
      "<a href=\"http://zhstatic.zhihu.com/assets/zhihu/publish-license.jpg\" target=\"_blank\">出版物经营许可证</a>\n",
      "\n",
      "</div>\n",
      "\n",
      "\n",
      "\n",
      "<script type=\"text/json\" class=\"json-inline\" data-name=\"disabled_components\">[\"back_to_top\"]</script>\n",
      "<script type=\"text/json\" class=\"json-inline\" data-name=\"current_user\">[\"\",\"\",\"\",\"-1\",\"\",0,0]</script>\n",
      "<script type=\"text/json\" class=\"json-inline\" data-name=\"env\">[\"zhihu.com\",\"comet.zhihu.com\",false,null,false,false]</script>\n",
      "\n",
      "<script type=\"text/json\" class=\"json-inline\" data-name=\"ga_vars\">{\"user_created\":0,\"now\":1492529035000,\"abtest_mask\":\"------------------------------\",\"user_attr\":[0,0,0,\"-\",\"-\"],\"user_hash\":0}</script>\n",
      "\n",
      "<script src=\"https://static.zhihu.com/static/revved/-/js/vendor.cb14a042.js\"></script>\n",
      "<script src=\"https://static.zhihu.com/static/revved/-/js/closure/base.4ed4c84b.js\"></script>\n",
      "\n",
      "<script src=\"https://static.zhihu.com/static/revved/-/js/closure/common.bee7f424.js\"></script>\n",
      "<script src=\"https://static.zhihu.com/static/revved/-/js/closure/page-index.0c71b411.js\"></script>\n",
      "<meta name=\"entry\" content=\"ZH.entrySignPage\" data-module-id=\"page-index\">\n",
      "\n",
      "\n",
      "<input type=\"hidden\" name=\"_xsrf\" value=\"14dedf27e5b9ab1ebdf5fb1bf3e93417\"/>\n",
      "</body>\n",
      "</html>\n"
     ]
    }
   ],
   "source": [
    "z3 = requests.get(url=mylog,headers=headers)\n",
    "print z3.url\n",
    "print z3.text"
   ]
  },
  {
   "cell_type": "code",
   "execution_count": null,
   "metadata": {
    "collapsed": true
   },
   "outputs": [],
   "source": []
  }
 ],
 "metadata": {
  "kernelspec": {
   "display_name": "Python 2",
   "language": "python",
   "name": "python2"
  },
  "language_info": {
   "codemirror_mode": {
    "name": "ipython",
    "version": 2
   },
   "file_extension": ".py",
   "mimetype": "text/x-python",
   "name": "python",
   "nbconvert_exporter": "python",
   "pygments_lexer": "ipython2",
   "version": "2.7.13"
  }
 },
 "nbformat": 4,
 "nbformat_minor": 0
}
