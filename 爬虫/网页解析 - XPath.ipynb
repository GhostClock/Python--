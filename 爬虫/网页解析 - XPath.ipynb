{
 "cells": [
  {
   "cell_type": "code",
   "execution_count": 5,
   "metadata": {
    "collapsed": true
   },
   "outputs": [],
   "source": [
    "from lxml import etree"
   ]
  },
  {
   "cell_type": "code",
   "execution_count": 6,
   "metadata": {
    "collapsed": true
   },
   "outputs": [],
   "source": [
    "# 定义一个函数,给他一个html ，返回xml\n",
    "def getxpath(html):\n",
    "    return etree.HTML(html)"
   ]
  },
  {
   "cell_type": "code",
   "execution_count": 7,
   "metadata": {
    "collapsed": true
   },
   "outputs": [],
   "source": [
    "# 下面是我们实战的第一个html\n",
    "samplel = \"\"\"\n",
    "<html>\n",
    "<head>\n",
    "\t<title>My page</title>\n",
    "</head>\n",
    "<body>\n",
    "\t<h2>WelCome to my <a href=\"#\" src=\"x\"> page </a></h2>\n",
    "\t<p>This is the<a href=\"two\" src=\"www.baidu.com\"> first</a> paragraph</p>\n",
    "    <!-- 这是一段注释 -->\n",
    "</body>\n",
    "</html>\n",
    "\"\"\""
   ]
  },
  {
   "cell_type": "code",
   "execution_count": 8,
   "metadata": {
    "collapsed": false
   },
   "outputs": [],
   "source": [
    "# 获取xml的结构\n",
    "s1 = getxpath(samplel)"
   ]
  },
  {
   "cell_type": "code",
   "execution_count": 9,
   "metadata": {
    "collapsed": false
   },
   "outputs": [
    {
     "data": {
      "text/plain": [
       "['My page']"
      ]
     },
     "execution_count": 9,
     "metadata": {},
     "output_type": "execute_result"
    }
   ],
   "source": [
    "# 相对路径\n",
    "s1.xpath('//title/text()')"
   ]
  },
  {
   "cell_type": "code",
   "execution_count": 13,
   "metadata": {
    "collapsed": false
   },
   "outputs": [
    {
     "data": {
      "text/plain": [
       "['My page']"
      ]
     },
     "execution_count": 13,
     "metadata": {},
     "output_type": "execute_result"
    }
   ],
   "source": [
    "# 绝对路径\n",
    "s1.xpath(\"/html/head/title/text()\")"
   ]
  },
  {
   "cell_type": "code",
   "execution_count": 14,
   "metadata": {
    "collapsed": false
   },
   "outputs": [
    {
     "data": {
      "text/plain": [
       "['x']"
      ]
     },
     "execution_count": 14,
     "metadata": {},
     "output_type": "execute_result"
    }
   ],
   "source": [
    "# 获取属性为src的值\n",
    "s1.xpath(\"//h2/a/@src\")\n"
   ]
  },
  {
   "cell_type": "code",
   "execution_count": 19,
   "metadata": {
    "collapsed": false
   },
   "outputs": [
    {
     "data": {
      "text/plain": [
       "['#']"
      ]
     },
     "execution_count": 19,
     "metadata": {},
     "output_type": "execute_result"
    }
   ],
   "source": [
    "# 获取所有属性为href的值\n",
    "s1.xpath(\"//@href\")"
   ]
  },
  {
   "cell_type": "code",
   "execution_count": 12,
   "metadata": {
    "collapsed": false
   },
   "outputs": [
    {
     "data": {
      "text/plain": [
       "['\\n',\n",
       " '\\n\\t',\n",
       " 'My page',\n",
       " '\\n',\n",
       " '\\n',\n",
       " '\\n\\t',\n",
       " 'WelCome to my ',\n",
       " ' page ',\n",
       " '\\n\\t',\n",
       " 'This is the',\n",
       " ' first',\n",
       " ' paragraph',\n",
       " '\\n    ',\n",
       " '\\n',\n",
       " '\\n']"
      ]
     },
     "execution_count": 12,
     "metadata": {},
     "output_type": "execute_result"
    }
   ],
   "source": [
    "# 获取所有文本\n",
    "s1.xpath(\"//text()\")"
   ]
  },
  {
   "cell_type": "code",
   "execution_count": 11,
   "metadata": {
    "collapsed": false
   },
   "outputs": [
    {
     "data": {
      "text/plain": [
       "[<!-- \\xe8\\xbf\\x99\\xe6\\x98\\xaf\\xe4\\xb8\\x80\\xe6\\xae\\xb5\\xe6\\xb3\\xa8\\xe9\\x87\\x8a -->]"
      ]
     },
     "execution_count": 11,
     "metadata": {},
     "output_type": "execute_result"
    }
   ],
   "source": [
    "# 获取注释\n",
    "s1.xpath(\"//comment()\")"
   ]
  },
  {
   "cell_type": "code",
   "execution_count": 13,
   "metadata": {
    "collapsed": true
   },
   "outputs": [],
   "source": [
    "sample2 = \"\"\"\n",
    "    <html>\n",
    "        <body>\n",
    "            <ul>\n",
    "                <li>One</li>\n",
    "                <li>Two <a href=\"...\"> link </a></li>\n",
    "                <li>Three <a href=\"...\"> other link</a></li>\n",
    "                <li><h2>Four</h2>.......</li>\n",
    "            </ul>\n",
    "        </body>\n",
    "    </html>\n",
    "\"\"\"\n",
    "s2=getxpath(sample2)"
   ]
  },
  {
   "cell_type": "code",
   "execution_count": 14,
   "metadata": {
    "collapsed": false
   },
   "outputs": [
    {
     "data": {
      "text/plain": [
       "['One', 'Two ', 'Three ', '.......']"
      ]
     },
     "execution_count": 14,
     "metadata": {},
     "output_type": "execute_result"
    }
   ],
   "source": [
    "# 所有的li\n",
    "s2.xpath(\"//li/text()\")"
   ]
  },
  {
   "cell_type": "code",
   "execution_count": 15,
   "metadata": {
    "collapsed": false
   },
   "outputs": [
    {
     "data": {
      "text/plain": [
       "['Two ']"
      ]
     },
     "execution_count": 15,
     "metadata": {},
     "output_type": "execute_result"
    }
   ],
   "source": [
    "# 获取第一个li\n",
    "s2.xpath(\"//li[position() = 1]/text()\")\n",
    "#或者下面这种写法\n",
    "s2.xpath('//li[1]/text()')\n",
    "\n",
    "# 获取第二个li\n",
    "s2.xpath(\"//li[position() = 2]/text()\")\n",
    "s2.xpath(\"//li[2]/text()\")"
   ]
  },
  {
   "cell_type": "code",
   "execution_count": 16,
   "metadata": {
    "collapsed": false
   },
   "outputs": [
    {
     "data": {
      "text/plain": [
       "['One', 'Three ']"
      ]
     },
     "execution_count": 16,
     "metadata": {},
     "output_type": "execute_result"
    }
   ],
   "source": [
    "# 获取所有奇数位的li\n",
    "s2.xpath(\"//li[position() mod2 = 1]/text()\")"
   ]
  },
  {
   "cell_type": "code",
   "execution_count": 17,
   "metadata": {
    "collapsed": false
   },
   "outputs": [
    {
     "data": {
      "text/plain": [
       "['Two ', '.......']"
      ]
     },
     "execution_count": 17,
     "metadata": {},
     "output_type": "execute_result"
    }
   ],
   "source": [
    "# 获取所有偶数位的li\n",
    "s2.xpath(\"//li[position() mod2 = 0]/text()\")"
   ]
  },
  {
   "cell_type": "code",
   "execution_count": 18,
   "metadata": {
    "collapsed": false
   },
   "outputs": [
    {
     "data": {
      "text/plain": [
       "['.......']"
      ]
     },
     "execution_count": 18,
     "metadata": {},
     "output_type": "execute_result"
    }
   ],
   "source": [
    "#  获取最后一个\n",
    "s2.xpath(\"//li[last()]/text()\")"
   ]
  },
  {
   "cell_type": "code",
   "execution_count": 19,
   "metadata": {
    "collapsed": false
   },
   "outputs": [
    {
     "data": {
      "text/plain": [
       "['Two ', 'Three ']"
      ]
     },
     "execution_count": 19,
     "metadata": {},
     "output_type": "execute_result"
    }
   ],
   "source": [
    "# li下面有a的\n",
    "s2.xpath(\"//li[a]/text()\")"
   ]
  },
  {
   "cell_type": "code",
   "execution_count": 20,
   "metadata": {
    "collapsed": false
   },
   "outputs": [
    {
     "data": {
      "text/plain": [
       "['Two ', 'Three ', '.......']"
      ]
     },
     "execution_count": 20,
     "metadata": {},
     "output_type": "execute_result"
    }
   ],
   "source": [
    "# li下面有a的或者有h2的\n",
    "s2.xpath(\"//li[a or h2]/text()\")"
   ]
  },
  {
   "cell_type": "code",
   "execution_count": 22,
   "metadata": {
    "collapsed": false
   },
   "outputs": [
    {
     "data": {
      "text/plain": [
       "[' link ', ' other link', 'Four']"
      ]
     },
     "execution_count": 22,
     "metadata": {},
     "output_type": "execute_result"
    }
   ],
   "source": [
    "# 获取a和h2\n",
    "s2.xpath(\"//a/text() | //h2/text()\")"
   ]
  },
  {
   "cell_type": "code",
   "execution_count": 23,
   "metadata": {
    "collapsed": false
   },
   "outputs": [],
   "source": [
    "sample3 = \"\"\"\n",
    "<html>\n",
    "  <body>\n",
    "    <ul>\n",
    "      <li id=\"begin\"><a href=\"https://scrapy.org\">Scrapy</a>begin</li>\n",
    "      <li><a href=\"https://scrapinghub.com\">Scrapinghub</a></li>\n",
    "      <li><a href=\"https://blog.scrapinghub.com\">Scrapinghub Blog</a></li>\n",
    "      <li id=\"end\"><a href=\"http://quotes.toscrape.com\">Quotes To Scrape</a>end</li>\n",
    "      <li data-xxxx=\"end\" abc=\"abc\"><a href=\"http://quotes.toscrape.com\">Quotes To Scrape</a>end</li>\n",
    "    </ul>\n",
    "  </body>\n",
    "</html>\n",
    "\"\"\"\n",
    "s3 = getxpath(sample3)"
   ]
  },
  {
   "cell_type": "code",
   "execution_count": 27,
   "metadata": {
    "collapsed": false
   },
   "outputs": [
    {
     "data": {
      "text/plain": [
       "['Scrapinghub']"
      ]
     },
     "execution_count": 27,
     "metadata": {},
     "output_type": "execute_result"
    }
   ],
   "source": [
    "# 获取 href=\"https://scrapy.org\"\n",
    "s3.xpath('//li/a[@href=\"https://scrapy.org\"]/text()')\n",
    "# 获取id = begin\n",
    "s3.xpath('//li[@id=\"begin\"]/text()')\n",
    "#获取text= Scrapinghub\n",
    "s3.xpath('//li/a[text()=\"Scrapinghub\"]/text()')"
   ]
  },
  {
   "cell_type": "code",
   "execution_count": 30,
   "metadata": {
    "collapsed": false
   },
   "outputs": [
    {
     "data": {
      "text/plain": [
       "['end']"
      ]
     },
     "execution_count": 30,
     "metadata": {},
     "output_type": "execute_result"
    }
   ],
   "source": [
    "# 获取某个标签下 某个参数==xx\n",
    "s3.xpath('//li[@data-xxx=\"end\"]/text()')\n",
    "s3.xpath('//li[@abc=\"abc\"]/text()')"
   ]
  },
  {
   "cell_type": "code",
   "execution_count": 31,
   "metadata": {
    "collapsed": true
   },
   "outputs": [],
   "source": [
    "sample4 = u\"\"\"\n",
    "<html>\n",
    "  <head>\n",
    "    <title>My page</title>\n",
    "  </head>\n",
    "  <body>\n",
    "    <h2>Welcome to my <a href=\"#\" src=\"x\">page</a></h2>\n",
    "    <p>This is the first paragraph.</p>\n",
    "    <p class=\"test\">\n",
    "    编程语言<a href=\"#\">python</a>\n",
    "    <img src=\"#\" alt=\"test\"/>javascript\n",
    "    <a href=\"#\"><strong>C#</strong>JAVA</a>\n",
    "    </p>\n",
    "    <p class=\"content-a\">a</p>\n",
    "    <p class=\"content-b\">b</p>\n",
    "    <p class=\"content-c\">c</p>\n",
    "    <p class=\"content-d\">d</p>\n",
    "    <p class=\"econtent-e\">e</p>\n",
    "    <p class=\"heh\">f</p>\n",
    "    <!-- this is the end -->\n",
    "  </body>\n",
    "</html>\n",
    "\"\"\"\n",
    "s4 = etree.HTML(sample4)"
   ]
  },
  {
   "cell_type": "code",
   "execution_count": 32,
   "metadata": {
    "collapsed": false
   },
   "outputs": [
    {
     "name": "stdout",
     "output_type": "stream",
     "text": [
      "\n",
      "    编程语言\n",
      "    javascript\n",
      "    \n",
      "    \n"
     ]
    }
   ],
   "source": [
    "#要获取p便签下 class=test的所有文本\n",
    "print ''.join(s4.xpath('//p[@class=\"test\"]/text()'))"
   ]
  },
  {
   "cell_type": "code",
   "execution_count": 33,
   "metadata": {
    "collapsed": false
   },
   "outputs": [
    {
     "name": "stdout",
     "output_type": "stream",
     "text": [
      "\n",
      "    编程语言python\n",
      "    javascript\n",
      "    C#JAVA\n",
      "    \n"
     ]
    }
   ],
   "source": [
    "# 获取p 下面所有的文字\n",
    "print s4.xpath('string(//p[@class=\"test\"])')"
   ]
  },
  {
   "cell_type": "code",
   "execution_count": 34,
   "metadata": {
    "collapsed": false
   },
   "outputs": [
    {
     "data": {
      "text/plain": [
       "['a', 'b', 'c', 'd']"
      ]
     },
     "execution_count": 34,
     "metadata": {},
     "output_type": "execute_result"
    }
   ],
   "source": [
    "#获取p便签下所有class中有content的\n",
    "s4.xpath('//p[starts-with(@class,\"content\")]/text()')"
   ]
  },
  {
   "cell_type": "code",
   "execution_count": 35,
   "metadata": {
    "collapsed": false
   },
   "outputs": [
    {
     "data": {
      "text/plain": [
       "['a', 'b', 'c', 'd', 'e']"
      ]
     },
     "execution_count": 35,
     "metadata": {},
     "output_type": "execute_result"
    }
   ],
   "source": [
    "#获取p便签下所有class中有content的\n",
    "s4.xpath('//p[contains(@class,\"content\")]/text()')"
   ]
  },
  {
   "cell_type": "code",
   "execution_count": null,
   "metadata": {
    "collapsed": true
   },
   "outputs": [],
   "source": []
  }
 ],
 "metadata": {
  "kernelspec": {
   "display_name": "Python 2",
   "language": "python",
   "name": "python2"
  },
  "language_info": {
   "codemirror_mode": {
    "name": "ipython",
    "version": 2
   },
   "file_extension": ".py",
   "mimetype": "text/x-python",
   "name": "python",
   "nbconvert_exporter": "python",
   "pygments_lexer": "ipython2",
   "version": "2.7.11"
  }
 },
 "nbformat": 4,
 "nbformat_minor": 0
}
