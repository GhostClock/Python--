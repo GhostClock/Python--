{
 "cells": [
  {
   "cell_type": "markdown",
   "metadata": {},
   "source": [
    "### 实际案例\n",
    "    实现一个能将函数调用信息记录到日志的装饰器:\n",
    "    1.把每次函数的调用时间,执行时间,调用次数写入日志\n",
    "    2.可以对被装饰函数分组,调用信息记录到不同日志\n",
    "    3.动态修改参数,比如日志格式\n",
    "    4.动态打开关闭日志输出功能"
   ]
  },
  {
   "cell_type": "markdown",
   "metadata": {},
   "source": [
    "### 解决方案\n",
    "    为了让装饰器在使用上更加灵活，可以把类的实例方法作为装饰器，此时在包裹函数中就可以持有实例对象,便于修改属性和拓展功能"
   ]
  },
  {
   "cell_type": "code",
   "execution_count": 5,
   "metadata": {
    "scrolled": true
   },
   "outputs": [
    {
     "name": "stdout",
     "output_type": "stream",
     "text": [
      "in h\n",
      "in g\n",
      "in g\n",
      "in f\n",
      "in h\n",
      "in h\n",
      "in g\n",
      "in g\n",
      "in f\n",
      "in g\n",
      "in h\n",
      "in h\n",
      "in g\n",
      "in g\n",
      "in f\n",
      "in h\n",
      "in g\n",
      "in f\n",
      "in g\n",
      "in f\n",
      "in g\n",
      "in f\n",
      "in f\n",
      "in h\n",
      "in f\n",
      "in g\n",
      "in h\n",
      "in h\n",
      "in g\n",
      "in f\n",
      "in h\n",
      "in h\n",
      "in h\n",
      "in h\n",
      "in f\n",
      "in h\n",
      "in f\n",
      "in f\n",
      "in h\n",
      "in f\n",
      "in g\n",
      "in f\n",
      "in f\n",
      "in h\n",
      "in h\n",
      "in f\n",
      "in g\n",
      "in h\n",
      "in f\n",
      "in g\n"
     ]
    }
   ],
   "source": [
    "import logging\n",
    "from time import  localtime, time, strftime, sleep\n",
    "\n",
    "class CallingInfo(object):\n",
    "    def __init__(self, name):\n",
    "        log = logging.getLogger(name)\n",
    "        log.setLevel(logging.INFO)\n",
    "        fh = logging.FileHandler(name + '.log')\n",
    "        log.addHandler(fh)\n",
    "        log.info('Start'.center(50, '-'))\n",
    "        self.log = log\n",
    "        self.formatter = '%(func)s -> [%(time)s - %(used)s - %(ncalls)s]'\n",
    "    \n",
    "    def info(self, func):\n",
    "        def wrapper(*args, **kargs):\n",
    "            wrapper.ncalls += 1\n",
    "            lt = localtime()\n",
    "            start = time()\n",
    "            res = func(*args, **kargs)\n",
    "            used = time() - start\n",
    "            \n",
    "            info = {}\n",
    "            info['func'] = func.__name__\n",
    "            info['time'] = strftime('%x %x', lt)\n",
    "            info['used'] = used\n",
    "            info['ncalls'] = wrapper.ncalls\n",
    "            \n",
    "            msg = self.formatter % info\n",
    "            self.log.info(msg)\n",
    "            \n",
    "            return res\n",
    "        wrapper.ncalls = 0\n",
    "        return wrapper\n",
    "    \n",
    "    def setformatter(self, formatter):\n",
    "        self.formatter = formatter\n",
    "    \n",
    "    def turnOn(self):\n",
    "        self.log.setLevel(logging.INFO)\n",
    "    \n",
    "    def turnOn(self):\n",
    "        self.log.setLevel(logging.WARN)\n",
    "        \n",
    "        \n",
    "        \n",
    "cinfo1 = CallingInfo('mylog1')\n",
    "cinfo2 = CallingInfo('mylog2') \n",
    "\n",
    "cinfo1.setformatter('%(func)s -> [%(time)s - %(ncalls)s]')\n",
    "cinfo2.turnOn()\n",
    "\n",
    "@cinfo1.info\n",
    "def f():\n",
    "    print('in f')\n",
    "    \n",
    "@cinfo1.info\n",
    "def g():\n",
    "    print('in g')\n",
    "    \n",
    "@cinfo2.info    \n",
    "def h():\n",
    "    print ('in h') \n",
    "    \n",
    "    \n",
    "from random import choice   \n",
    "for _ in range(50):    \n",
    "    choice([f, g, h])()\n",
    "    sleep(choice([0.5, 1, 1.5]))"
   ]
  },
  {
   "cell_type": "code",
   "execution_count": null,
   "metadata": {
    "collapsed": true
   },
   "outputs": [],
   "source": []
  }
 ],
 "metadata": {
  "kernelspec": {
   "display_name": "Python 3",
   "language": "python",
   "name": "python3"
  },
  "language_info": {
   "codemirror_mode": {
    "name": "ipython",
    "version": 3
   },
   "file_extension": ".py",
   "mimetype": "text/x-python",
   "name": "python",
   "nbconvert_exporter": "python",
   "pygments_lexer": "ipython3",
   "version": "3.5.1"
  }
 },
 "nbformat": 4,
 "nbformat_minor": 2
}
