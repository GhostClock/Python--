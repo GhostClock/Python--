{
 "cells": [
  {
   "cell_type": "markdown",
   "metadata": {},
   "source": [
    "### 实际案例\n",
    "    某些时候我们想为多个函数,统一添加某种功能,比如计时统计,记录日志,缓存运算结果等等\n",
    "    \n",
    "    不想在每个函数内一一添加完全相同的代码"
   ]
  },
  {
   "cell_type": "markdown",
   "metadata": {},
   "source": [
    "### 解决方案\n",
    "    定义装饰器函数,用它来生成一个在原函数基础添加了新功能的函数,替代原函数"
   ]
  },
  {
   "cell_type": "markdown",
   "metadata": {},
   "source": [
    "#### 用一个缓存记录上传计算的结果"
   ]
  },
  {
   "cell_type": "code",
   "execution_count": 4,
   "metadata": {
    "scrolled": true
   },
   "outputs": [
    {
     "name": "stdout",
     "output_type": "stream",
     "text": [
      "20365011074\n"
     ]
    }
   ],
   "source": [
    "#coding:utf8\n",
    "#1. 斐波那契数列 这个数列从第3项开始，每一项都等于前两项之和,求数列第n项\n",
    "def fibonacci(n, cache = None):\n",
    "    if cache is None: # 用一个缓存记录上传计算的结果\n",
    "        cache = {}\n",
    "        \n",
    "    if n in cache:\n",
    "        return cache[n]\n",
    "    \n",
    "    if n <= 1:\n",
    "        return 1\n",
    "    cache[n] = fibonacci(n - 1, cache) + fibonacci(n - 2, cache)\n",
    "    return cache[n]\n",
    "\n",
    "print fibonacci(50)\n"
   ]
  },
  {
   "cell_type": "code",
   "execution_count": null,
   "metadata": {
    "collapsed": true
   },
   "outputs": [],
   "source": []
  },
  {
   "cell_type": "code",
   "execution_count": 7,
   "metadata": {},
   "outputs": [
    {
     "name": "stdout",
     "output_type": "stream",
     "text": [
      "20365011074\n",
      "274\n"
     ]
    }
   ],
   "source": [
    "def memo(func):\n",
    "    cache = {}\n",
    "    def wrap(*args):\n",
    "        if args not in cache:\n",
    "            cache[args] = func(*args)\n",
    "        return cache[args]\n",
    "    return wrap\n",
    "\n",
    "@memo \n",
    "def fibonacci(n, cache = None):\n",
    "    if n <= 1:\n",
    "        return 1\n",
    "    return  fibonacci(n - 1) + fibonacci(n - 2)\n",
    "  \n",
    "#fibonacci = memo(fibonacci)\n",
    "print fibonacci(50)\n",
    "\n",
    "\n",
    "#2. 一共有10个台阶的楼梯,从下面走到上面,一次只能迈1 - 3个台阶，并不能后退,走完这个楼梯共有多少中方法\n",
    "@memo #Python的语法糖\n",
    "def climb(n, steps):\n",
    "    count = 0\n",
    "    if n == 0:\n",
    "        count = 1\n",
    "    elif n > 0:\n",
    "        for step in steps:\n",
    "            count += climb(n - step, steps)\n",
    "    return count\n",
    "\n",
    "print climb(10, (1,2,3))"
   ]
  },
  {
   "cell_type": "code",
   "execution_count": null,
   "metadata": {
    "collapsed": true
   },
   "outputs": [],
   "source": []
  }
 ],
 "metadata": {
  "kernelspec": {
   "display_name": "Python 2",
   "language": "python",
   "name": "python2"
  },
  "language_info": {
   "codemirror_mode": {
    "name": "ipython",
    "version": 2
   },
   "file_extension": ".py",
   "mimetype": "text/x-python",
   "name": "python",
   "nbconvert_exporter": "python",
   "pygments_lexer": "ipython2",
   "version": "2.7.11"
  }
 },
 "nbformat": 4,
 "nbformat_minor": 2
}
