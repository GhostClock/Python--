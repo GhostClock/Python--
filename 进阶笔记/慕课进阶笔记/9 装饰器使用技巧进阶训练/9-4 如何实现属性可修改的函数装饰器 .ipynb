{
 "cells": [
  {
   "cell_type": "markdown",
   "metadata": {},
   "source": [
    "### 实际案例\n",
    "    为分析程序内哪些函数执行时间开销较大,我们定义一个带timeout参数的函数装饰器,装饰功能如下:\n",
    "    1.统计被装饰函数单次调用运行时间\n",
    "    2.时间大于参数timeout的,将此次函数调用记录到log日志中\n",
    "    3.运行时可修改timeout的值"
   ]
  },
  {
   "cell_type": "code",
   "execution_count": 4,
   "metadata": {
    "scrolled": true
   },
   "outputs": [
    {
     "name": "stdout",
     "output_type": "stream",
     "text": [
      "In test\n",
      "In test\n",
      "In test\n",
      "In test\n"
     ]
    },
    {
     "name": "stderr",
     "output_type": "stream",
     "text": [
      "/Library/Frameworks/Python.framework/Versions/3.5/lib/python3.5/site-packages/ipykernel_launcher.py:18: DeprecationWarning: The 'warn' function is deprecated, use 'warning' instead\n",
      "WARNING:root:\"test\" : 1.5081899166107178 > 1.5\n"
     ]
    },
    {
     "name": "stdout",
     "output_type": "stream",
     "text": [
      "In test\n",
      "In test\n",
      "In test\n",
      "In test\n",
      "In test\n",
      "In test\n",
      "In test\n",
      "In test\n",
      "In test\n",
      "In test\n",
      "In test\n",
      "In test\n",
      "In test\n",
      "In test\n"
     ]
    },
    {
     "name": "stderr",
     "output_type": "stream",
     "text": [
      "WARNING:root:\"test\" : 2.515110969543457 > 1.5\n"
     ]
    },
    {
     "name": "stdout",
     "output_type": "stream",
     "text": [
      "In test\n",
      "In test\n",
      "In test\n",
      "In test\n",
      "In test\n",
      "In test\n",
      "In test\n",
      "In test\n",
      "In test\n",
      "In test\n",
      "In test\n",
      "In test\n",
      "In test\n",
      "In test\n"
     ]
    },
    {
     "name": "stderr",
     "output_type": "stream",
     "text": [
      "WARNING:root:\"test\" : 2.5144269466400146 > 1\n"
     ]
    },
    {
     "name": "stdout",
     "output_type": "stream",
     "text": [
      "In test\n",
      "In test\n",
      "In test\n",
      "In test\n",
      "In test\n",
      "In test\n",
      "In test\n"
     ]
    },
    {
     "name": "stderr",
     "output_type": "stream",
     "text": [
      "WARNING:root:\"test\" : 2.0041849613189697 > 1\n"
     ]
    },
    {
     "name": "stdout",
     "output_type": "stream",
     "text": [
      "In test\n",
      "In test\n"
     ]
    },
    {
     "name": "stderr",
     "output_type": "stream",
     "text": [
      "WARNING:root:\"test\" : 1.0030970573425293 > 1\n"
     ]
    },
    {
     "name": "stdout",
     "output_type": "stream",
     "text": [
      "In test\n",
      "In test\n",
      "In test\n",
      "In test\n",
      "In test\n",
      "In test\n",
      "In test\n",
      "In test\n"
     ]
    },
    {
     "name": "stderr",
     "output_type": "stream",
     "text": [
      "WARNING:root:\"test\" : 2.0056569576263428 > 1\n"
     ]
    },
    {
     "name": "stdout",
     "output_type": "stream",
     "text": [
      "In test\n"
     ]
    },
    {
     "name": "stderr",
     "output_type": "stream",
     "text": [
      "WARNING:root:\"test\" : 2.013864040374756 > 1\n"
     ]
    },
    {
     "name": "stdout",
     "output_type": "stream",
     "text": [
      "In test\n",
      "In test\n",
      "In test\n",
      "In test\n",
      "In test\n"
     ]
    },
    {
     "name": "stderr",
     "output_type": "stream",
     "text": [
      "WARNING:root:\"test\" : 1.0077049732208252 > 1\n"
     ]
    },
    {
     "name": "stdout",
     "output_type": "stream",
     "text": [
      "In test\n",
      "In test\n",
      "In test\n",
      "In test\n"
     ]
    },
    {
     "name": "stderr",
     "output_type": "stream",
     "text": [
      "WARNING:root:\"test\" : 1.0066859722137451 > 1\n"
     ]
    },
    {
     "name": "stdout",
     "output_type": "stream",
     "text": [
      "In test\n"
     ]
    }
   ],
   "source": [
    "# conding:utf8\n",
    "from functools import wraps\n",
    "\n",
    "import time\n",
    "import logging\n",
    "\n",
    "def wran(timeout):\n",
    "    timeout = [timeout] #在Python2中实现成可变对象\n",
    "    def decorator(func):\n",
    "        def wrapper(*args, **kargs):\n",
    "            start = time.time()\n",
    "            res = func(*args, **kargs)\n",
    "            used = time.time() - start\n",
    "            #if used > timeout:# Python3中\n",
    "            if used > timeout[0]:# Python2中\n",
    "                #msg = '\"%s\" : %s > %s' % (func.__name__, used, timeout) # Python3中\n",
    "                msg = '\"%s\" : %s > %s' % (func.__name__, used, timeout[0]) # Python2中\n",
    "                logging.warn(msg)\n",
    "            return res\n",
    "        def setTimeout(k):\n",
    "#             nonlocal timeout #在Python3中有类似global, 是在嵌套作用域下的变量,那在Python2中呢\n",
    "#             timeout = k\n",
    "            timeout[0] = k # 在Python2中通过列表来修改\n",
    "        wrapper.setTimeout = setTimeout\n",
    "        return wrapper\n",
    "    return decorator\n",
    "\n",
    "\n",
    "from random import randint\n",
    "@wran(1.5)\n",
    "def test():\n",
    "    print(\"In test\")\n",
    "    while randint(0, 1):\n",
    "        time.sleep(0.5)\n",
    "for _ in range(30):\n",
    "    test()\n",
    "\n",
    "    \n",
    "test.setTimeout(1)\n",
    "for _ in range(30):\n",
    "    test()"
   ]
  },
  {
   "cell_type": "code",
   "execution_count": null,
   "metadata": {
    "collapsed": true
   },
   "outputs": [],
   "source": []
  }
 ],
 "metadata": {
  "kernelspec": {
   "display_name": "Python 3",
   "language": "python",
   "name": "python3"
  },
  "language_info": {
   "codemirror_mode": {
    "name": "ipython",
    "version": 3
   },
   "file_extension": ".py",
   "mimetype": "text/x-python",
   "name": "python",
   "nbconvert_exporter": "python",
   "pygments_lexer": "ipython3",
   "version": "3.5.1"
  }
 },
 "nbformat": 4,
 "nbformat_minor": 2
}
