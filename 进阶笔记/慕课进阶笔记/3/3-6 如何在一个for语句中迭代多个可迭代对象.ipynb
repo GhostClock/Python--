{
 "cells": [
  {
   "cell_type": "markdown",
   "metadata": {},
   "source": [
    "### 实际案例\n",
    "    1.某班学生期末考试成绩,语文,数据,英语分别存储在3个列表中,同时迭代三个列表,计算每个学生的总分(并行)\n",
    "    2.某班级有4个班,某次考试每班英语成绩分别存储在4个列表中，依次迭代每个列表,统计全学生成绩高于90分人数(串行)"
   ]
  },
  {
   "cell_type": "code",
   "execution_count": 7,
   "metadata": {
    "collapsed": true
   },
   "outputs": [],
   "source": [
    "from random import randint\n",
    "\n",
    "chinese = [randint(60,100) for _ in range(40)]\n",
    "math = [randint(60,100) for _ in range(40)]\n",
    "english = [randint(60,100) for _ in range(40)]"
   ]
  },
  {
   "cell_type": "code",
   "execution_count": 11,
   "metadata": {
    "collapsed": false,
    "scrolled": true
   },
   "outputs": [
    {
     "name": "stdout",
     "output_type": "stream",
     "text": [
      "243\n",
      "214\n",
      "231\n",
      "248\n",
      "243\n",
      "241\n",
      "247\n",
      "227\n",
      "244\n",
      "244\n",
      "276\n",
      "211\n",
      "227\n",
      "245\n",
      "197\n",
      "233\n",
      "197\n",
      "223\n",
      "269\n",
      "282\n",
      "259\n",
      "247\n",
      "225\n",
      "249\n",
      "235\n",
      "242\n",
      "223\n",
      "241\n",
      "251\n",
      "268\n",
      "248\n",
      "272\n",
      "230\n",
      "249\n",
      "214\n",
      "272\n",
      "257\n",
      "285\n",
      "256\n",
      "223\n"
     ]
    }
   ],
   "source": [
    "for i in range(len(math)):\n",
    "    print  chinese[i] + math[i] + english[i] #不太好"
   ]
  },
  {
   "cell_type": "markdown",
   "metadata": {},
   "source": [
    "### 解决方案\n",
    "    并行: 使用内置函数zip,它能将多个可迭代对象合并,每次迭代返回一个元组\n",
    "    串行: 使用标准库中的itertools.chain,它能将多个可迭代对象连接"
   ]
  },
  {
   "cell_type": "code",
   "execution_count": 1,
   "metadata": {
    "collapsed": true
   },
   "outputs": [],
   "source": [
    "zip?"
   ]
  },
  {
   "cell_type": "code",
   "execution_count": 3,
   "metadata": {
    "collapsed": false
   },
   "outputs": [
    {
     "data": {
      "text/plain": [
       "[(1, 'a', 7), (2, 'b', 8), (3, 'c', 9), (4, 'd', 10)]"
      ]
     },
     "execution_count": 3,
     "metadata": {},
     "output_type": "execute_result"
    }
   ],
   "source": [
    "zip([1,2,3,4],('a','b','c','d'),[7,8,9,10])"
   ]
  },
  {
   "cell_type": "code",
   "execution_count": 4,
   "metadata": {
    "collapsed": false
   },
   "outputs": [
    {
     "data": {
      "text/plain": [
       "[(1, 'a'), (2, 'b'), (3, 'c')]"
      ]
     },
     "execution_count": 4,
     "metadata": {},
     "output_type": "execute_result"
    }
   ],
   "source": [
    "zip([1,2,3],('a','b','c','d'))"
   ]
  },
  {
   "cell_type": "code",
   "execution_count": 5,
   "metadata": {
    "collapsed": true
   },
   "outputs": [],
   "source": [
    "total = []"
   ]
  },
  {
   "cell_type": "code",
   "execution_count": 9,
   "metadata": {
    "collapsed": false
   },
   "outputs": [],
   "source": [
    "for c,m,e in zip(chinese ,math ,english):\n",
    "    total.append(c + m + e)"
   ]
  },
  {
   "cell_type": "code",
   "execution_count": 10,
   "metadata": {
    "collapsed": false,
    "scrolled": true
   },
   "outputs": [
    {
     "data": {
      "text/plain": [
       "[274,\n",
       " 249,\n",
       " 228,\n",
       " 261,\n",
       " 223,\n",
       " 287,\n",
       " 205,\n",
       " 242,\n",
       " 201,\n",
       " 235,\n",
       " 258,\n",
       " 255,\n",
       " 198,\n",
       " 259,\n",
       " 266,\n",
       " 234,\n",
       " 239,\n",
       " 260,\n",
       " 237,\n",
       " 246,\n",
       " 263,\n",
       " 240,\n",
       " 228,\n",
       " 258,\n",
       " 251,\n",
       " 260,\n",
       " 212,\n",
       " 232,\n",
       " 259,\n",
       " 268,\n",
       " 206,\n",
       " 254,\n",
       " 242,\n",
       " 188,\n",
       " 264,\n",
       " 250,\n",
       " 270,\n",
       " 251,\n",
       " 224,\n",
       " 255]"
      ]
     },
     "execution_count": 10,
     "metadata": {},
     "output_type": "execute_result"
    }
   ],
   "source": [
    "total"
   ]
  },
  {
   "cell_type": "markdown",
   "metadata": {},
   "source": [
    "### 案例2解决方案"
   ]
  },
  {
   "cell_type": "code",
   "execution_count": 11,
   "metadata": {
    "collapsed": true
   },
   "outputs": [],
   "source": [
    "from itertools import chain"
   ]
  },
  {
   "cell_type": "code",
   "execution_count": 12,
   "metadata": {
    "collapsed": true
   },
   "outputs": [],
   "source": [
    "chain?"
   ]
  },
  {
   "cell_type": "code",
   "execution_count": 17,
   "metadata": {
    "collapsed": false,
    "scrolled": true
   },
   "outputs": [
    {
     "name": "stdout",
     "output_type": "stream",
     "text": [
      "1\n",
      "2\n",
      "3\n",
      "4\n",
      "a\n",
      "b\n",
      "c\n",
      "d\n"
     ]
    }
   ],
   "source": [
    "for x in chain([1,2,3,4],['a','b','c','d']): #两个可迭代对象串联起来\n",
    "    print x"
   ]
  },
  {
   "cell_type": "code",
   "execution_count": 21,
   "metadata": {
    "collapsed": false
   },
   "outputs": [],
   "source": [
    "e1 = [randint(60,100) for _ in range(40)]\n",
    "e2 = [randint(60,100) for _ in range(42)]\n",
    "e3 = [randint(60,100) for _ in range(38)]\n",
    "e4 = [randint(60,100) for _ in range(45)]"
   ]
  },
  {
   "cell_type": "code",
   "execution_count": 22,
   "metadata": {
    "collapsed": false
   },
   "outputs": [],
   "source": [
    "count = 0"
   ]
  },
  {
   "cell_type": "code",
   "execution_count": 24,
   "metadata": {
    "collapsed": false
   },
   "outputs": [],
   "source": [
    "for s in chain(e1,e2,e3,e4):\n",
    "    if x > 90:\n",
    "        count += 1"
   ]
  },
  {
   "cell_type": "code",
   "execution_count": 25,
   "metadata": {
    "collapsed": false
   },
   "outputs": [
    {
     "data": {
      "text/plain": [
       "165"
      ]
     },
     "execution_count": 25,
     "metadata": {},
     "output_type": "execute_result"
    }
   ],
   "source": [
    "count"
   ]
  }
 ],
 "metadata": {
  "kernelspec": {
   "display_name": "Python 2",
   "language": "python",
   "name": "python2"
  },
  "language_info": {
   "codemirror_mode": {
    "name": "ipython",
    "version": 2
   },
   "file_extension": ".py",
   "mimetype": "text/x-python",
   "name": "python",
   "nbconvert_exporter": "python",
   "pygments_lexer": "ipython2",
   "version": "2.7.11"
  }
 },
 "nbformat": 4,
 "nbformat_minor": 0
}
