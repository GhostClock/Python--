{
 "cells": [
  {
   "cell_type": "markdown",
   "metadata": {},
   "source": [
    "### 实际案例"
   ]
  },
  {
   "cell_type": "markdown",
   "metadata": {},
   "source": [
    "#### 实现一个连续浮点数发生器FloatRange(和range类似),根据给定范围(start,end)和进步值(step)产生一些连续的浮点数,如迭代FloatRange(3.0,4.0,0.2)可产生\n",
    "    正向：3.0 -> 3.2 -> 3.4 -> 3.6 -> 3.8 -> 4.0\n",
    "    反向：4.0 -> 3.8 -> 3.6 -> 3.4 -> 3.2 -> 3.0"
   ]
  },
  {
   "cell_type": "code",
   "execution_count": 3,
   "metadata": {
    "collapsed": false
   },
   "outputs": [
    {
     "data": {
      "text/plain": [
       "[5, 4, 3, 2, 1]"
      ]
     },
     "execution_count": 3,
     "metadata": {},
     "output_type": "execute_result"
    }
   ],
   "source": [
    "l = [1,2,3,4,5]\n",
    "l.reverse() #先讲列表反序，但是改变了源列表\n",
    "l"
   ]
  },
  {
   "cell_type": "code",
   "execution_count": 6,
   "metadata": {
    "collapsed": false
   },
   "outputs": [
    {
     "data": {
      "text/plain": [
       "[5, 4, 3, 2, 1]"
      ]
     },
     "execution_count": 6,
     "metadata": {},
     "output_type": "execute_result"
    }
   ],
   "source": [
    "l = [1,2,3,4,5]\n",
    "l[::-1] #把列表进行切片"
   ]
  },
  {
   "cell_type": "code",
   "execution_count": 9,
   "metadata": {
    "collapsed": false
   },
   "outputs": [
    {
     "data": {
      "text/plain": [
       "<listreverseiterator at 0x103e2d3d0>"
      ]
     },
     "execution_count": 9,
     "metadata": {},
     "output_type": "execute_result"
    }
   ],
   "source": [
    "reversed(l) #该方法没有返回值，但是会对列表的元素进行反向排序 -> 列表的反向迭代器"
   ]
  },
  {
   "cell_type": "code",
   "execution_count": 11,
   "metadata": {
    "collapsed": false
   },
   "outputs": [
    {
     "data": {
      "text/plain": [
       "<listiterator at 0x103e2da50>"
      ]
     },
     "execution_count": 11,
     "metadata": {},
     "output_type": "execute_result"
    }
   ],
   "source": [
    "iter(l) #类别的正向迭代器"
   ]
  },
  {
   "cell_type": "code",
   "execution_count": 12,
   "metadata": {
    "collapsed": false
   },
   "outputs": [
    {
     "name": "stdout",
     "output_type": "stream",
     "text": [
      "5\n",
      "4\n",
      "3\n",
      "2\n",
      "1\n"
     ]
    }
   ],
   "source": [
    "for x in reversed(l):\n",
    "    print x"
   ]
  },
  {
   "cell_type": "code",
   "execution_count": 17,
   "metadata": {
    "collapsed": false
   },
   "outputs": [
    {
     "data": {
      "text/plain": [
       "<method-wrapper '__iter__' of list object at 0x103bbfcf8>"
      ]
     },
     "execution_count": 17,
     "metadata": {},
     "output_type": "execute_result"
    }
   ],
   "source": [
    "l.__iter__"
   ]
  },
  {
   "cell_type": "code",
   "execution_count": 18,
   "metadata": {
    "collapsed": false
   },
   "outputs": [
    {
     "data": {
      "text/plain": [
       "<function __reversed__>"
      ]
     },
     "execution_count": 18,
     "metadata": {},
     "output_type": "execute_result"
    }
   ],
   "source": [
    "l.__reversed__"
   ]
  },
  {
   "cell_type": "markdown",
   "metadata": {},
   "source": [
    "### 案例解决方案"
   ]
  },
  {
   "cell_type": "markdown",
   "metadata": {},
   "source": [
    "#### 实现反向迭代协议的__reversed__方法，返回一个反向迭代器"
   ]
  },
  {
   "cell_type": "code",
   "execution_count": 24,
   "metadata": {
    "collapsed": false
   },
   "outputs": [
    {
     "name": "stdout",
     "output_type": "stream",
     "text": [
      "1.0\n",
      "1.5\n",
      "2.0\n",
      "2.5\n",
      "3.0\n",
      "3.5\n",
      "4.0\n",
      "4.5\n",
      "5.0\n",
      "\n",
      "\n",
      "5.0\n",
      "4.5\n",
      "4.0\n",
      "3.5\n",
      "3.0\n",
      "2.5\n",
      "2.0\n",
      "1.5\n",
      "1.0\n"
     ]
    }
   ],
   "source": [
    "class FloatRange:\n",
    "    def __init__(self,start,end,step=0.1):\n",
    "        self.start = start\n",
    "        self.end = end\n",
    "        self.step = step\n",
    "    \n",
    "    def __iter__(self):\n",
    "        t = self.start\n",
    "        while t <= self.end:\n",
    "            yield t\n",
    "            t += self.step\n",
    "            \n",
    "    def __reversed__(self):\n",
    "        t = self.end\n",
    "        while t >= self.start:\n",
    "            yield t\n",
    "            t -= self.step\n",
    "#正向   \n",
    "for x in FloatRange(1.0,5.0,0.5):\n",
    "    print x\n",
    "\n",
    "print \"\\n\"\n",
    "    \n",
    "#反向\n",
    "for x in reversed(FloatRange(1.0,5.0,0.5)):\n",
    "    print x\n",
    "    "
   ]
  },
  {
   "cell_type": "code",
   "execution_count": null,
   "metadata": {
    "collapsed": true
   },
   "outputs": [],
   "source": []
  }
 ],
 "metadata": {
  "kernelspec": {
   "display_name": "Python 2",
   "language": "python",
   "name": "python2"
  },
  "language_info": {
   "codemirror_mode": {
    "name": "ipython",
    "version": 2
   },
   "file_extension": ".py",
   "mimetype": "text/x-python",
   "name": "python",
   "nbconvert_exporter": "python",
   "pygments_lexer": "ipython2",
   "version": "2.7.11"
  }
 },
 "nbformat": 4,
 "nbformat_minor": 0
}
