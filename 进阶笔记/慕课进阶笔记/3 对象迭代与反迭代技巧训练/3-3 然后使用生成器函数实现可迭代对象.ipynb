{
 "cells": [
  {
   "cell_type": "markdown",
   "metadata": {},
   "source": [
    "### 案例\n",
    "#### 实现一个可迭代对象的类,它能迭代出给定返回类的所有素数\n",
    "\n",
    "pn = PrimeNumbers(1,30)\n",
    "for k in pn:\n",
    "    print k"
   ]
  },
  {
   "cell_type": "markdown",
   "metadata": {},
   "source": [
    "### 生成器函数"
   ]
  },
  {
   "cell_type": "code",
   "execution_count": 10,
   "metadata": {
    "collapsed": false
   },
   "outputs": [
    {
     "name": "stdout",
     "output_type": "stream",
     "text": [
      "in f() i\n",
      "1\n",
      "in f() i\n",
      "2\n",
      "in f() i\n",
      "2\n"
     ]
    }
   ],
   "source": [
    "def f():\n",
    "    print 'in f() i'\n",
    "    yield 1 #生成器函数\n",
    "    \n",
    "    print 'in f() i'\n",
    "    yield 2\n",
    "    \n",
    "    print 'in f() i'\n",
    "    yield 2\n",
    "    \n",
    "g = f() #在执行的时候并不会执行函数内部的语句，返回一个生成器对象\n",
    "\n",
    "print g.next()\n",
    "print g.next()\n",
    "print g.next() \n",
    "# print g.next() #行为和迭代器一样\n",
    "\n",
    "\n",
    "for k in g:\n",
    "    print k\n"
   ]
  },
  {
   "cell_type": "code",
   "execution_count": 11,
   "metadata": {
    "collapsed": false
   },
   "outputs": [
    {
     "data": {
      "text/plain": [
       "True"
      ]
     },
     "execution_count": 11,
     "metadata": {},
     "output_type": "execute_result"
    }
   ],
   "source": [
    "g.__iter__() is g"
   ]
  },
  {
   "cell_type": "markdown",
   "metadata": {},
   "source": [
    "### 实现案例"
   ]
  },
  {
   "cell_type": "markdown",
   "metadata": {},
   "source": [
    "#### 解决方案,将该类的__iter__方法实现生成器函数,每次yield返回一个素数"
   ]
  },
  {
   "cell_type": "code",
   "execution_count": 14,
   "metadata": {
    "collapsed": false
   },
   "outputs": [
    {
     "name": "stdout",
     "output_type": "stream",
     "text": [
      "2\n",
      "3\n",
      "5\n",
      "7\n",
      "11\n",
      "13\n",
      "17\n",
      "19\n",
      "23\n",
      "29\n",
      "31\n",
      "37\n",
      "41\n",
      "43\n",
      "47\n",
      "53\n",
      "59\n",
      "61\n",
      "67\n",
      "71\n",
      "73\n",
      "79\n",
      "83\n",
      "89\n",
      "97\n"
     ]
    }
   ],
   "source": [
    "class PrimeNumbers:\n",
    "    def __init__(self,start,end):\n",
    "        self.start = start\n",
    "        self.end = end\n",
    "    \n",
    "    def isPrimeNum(self,k):\n",
    "        if k < 2:\n",
    "            return False\n",
    "        \n",
    "        for i in range(2,k):\n",
    "            if k % i == 0:\n",
    "                return False\n",
    "            \n",
    "        return True\n",
    "    \n",
    "    def __iter__(self):\n",
    "        for k in range(self.start,self.end + 1):\n",
    "            if self.isPrimeNum(k):\n",
    "                yield k\n",
    "    \n",
    "for x in PrimeNumbers(1,100):\n",
    "    print x\n",
    "    \n",
    "    "
   ]
  },
  {
   "cell_type": "code",
   "execution_count": null,
   "metadata": {
    "collapsed": true
   },
   "outputs": [],
   "source": []
  },
  {
   "cell_type": "code",
   "execution_count": null,
   "metadata": {
    "collapsed": true
   },
   "outputs": [],
   "source": []
  },
  {
   "cell_type": "code",
   "execution_count": null,
   "metadata": {
    "collapsed": true
   },
   "outputs": [],
   "source": []
  },
  {
   "cell_type": "code",
   "execution_count": null,
   "metadata": {
    "collapsed": true
   },
   "outputs": [],
   "source": []
  }
 ],
 "metadata": {
  "kernelspec": {
   "display_name": "Python 2",
   "language": "python",
   "name": "python2"
  },
  "language_info": {
   "codemirror_mode": {
    "name": "ipython",
    "version": 2
   },
   "file_extension": ".py",
   "mimetype": "text/x-python",
   "name": "python",
   "nbconvert_exporter": "python",
   "pygments_lexer": "ipython2",
   "version": "2.7.11"
  }
 },
 "nbformat": 4,
 "nbformat_minor": 0
}
