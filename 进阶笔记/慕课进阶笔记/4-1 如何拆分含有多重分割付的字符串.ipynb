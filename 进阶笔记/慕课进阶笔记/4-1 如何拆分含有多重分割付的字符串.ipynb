{
 "cells": [
  {
   "cell_type": "markdown",
   "metadata": {},
   "source": [
    "### 案例\n",
    "    我们要把某个字符串依据分隔符拆分成不同字段,该字符串包含多种不同的分隔符\n",
    "    s = 'nn2mn|k@n||mk|n%mnbmk&knm*&nmnkj)njbhjk_hjvbhj~jbjk5%gdfg*fdgfd-'"
   ]
  },
  {
   "cell_type": "code",
   "execution_count": 2,
   "metadata": {
    "collapsed": false
   },
   "outputs": [
    {
     "name": "stdout",
     "output_type": "stream",
     "text": [
      "USER               PID  %CPU %MEM      VSZ    RSS   TT  STAT STARTED      TIME COMMAND\n",
      "ghostclock         485   6.8  0.3  2795344  23708   ??  S    11:24AM  33:16.38 /Applications/Su\n",
      "ghostclock        5511   5.7  2.8  3823732 233852   ??  R     9:47PM   1:16.90 /Applications/Go\n",
      "ghostclock         337   4.6  3.9  4128884 324700   ??  S    11:24AM  31:41.09 /Applications/Go\n",
      "_windowserver      164   2.3  0.7  3961896  57124   ??  Ss   11:24AM  33:02.81 /System/Library/\n",
      "ghostclock         670   1.6  0.0  2460468    620   ??  S    11:24AM  11:12.84 /Applications/Bo\n",
      "ghostclock         412   1.2  1.6  6331068 135976   ??  S    11:24AM  22:26.88 /Applications/Go\n",
      "ghostclock         438   1.0  0.6   920620  47472   ??  S    11:24AM   0:53.93 /Library/Input M\n",
      "root                58   1.0  0.1  2495584   4920   ??  Ss   11:24AM   7:17.74 /Applications/Su\n",
      "ghostclock         500   0.8  0.4  3726444  31324   ??  S    11:24AM   1:02.53 /Library/Applica\n",
      "ghostclock         455   0.7  1.9  3466028 157260   ??  S    11:24AM   0:43.36 /Applications/Go\n",
      "ghostclock         508   0.6  0.6  3903588  47332   ??  S    11:24AM   5:46.22 /Applications/Bo\n",
      "_hidd              122   0.1  0.1  2473200   4848   ??  Ss   11:24AM   1:33.13 /usr/libexec/hid\n",
      "ghostclock         511   0.1  0.3  3678752  26112   ??  S    11:24AM   0:47.66 /Applications/Fl\n",
      "root              4276   0.0  0.0  2461524   1912   ??  Ss    6:55PM   0:00.01 /usr/libexec/smd\n",
      "ghostclock        4275   0.0  0.0  2470256   2140   ??  S     6:55PM   0:00.01 /usr/libexec/log\n",
      "ghostclock        4250   0.0  0.0  2461784   2160   ??  S     6:53PM   0:00.01 /System/Library/\n",
      "root              4242   0.0  0.0  2470164   2444   ??  Ss    6:53PM   0:00.02 /System/Library/\n",
      "ghostclock        4223   0.0  0.7  2556200  61700   ??  S     6:52PM   0:02.46 /System/Library/\n",
      "ghostclock        4215   0.0  0.6  2548936  53664   ??  S     6:52PM   0:03.40 /System/Library/\n",
      "_spotlight        4211   0.0  0.0  2497436   3604   ??  S     6:51PM   0:00.23 /usr/libexec/tru\n",
      "root              4208   0.0  0.0  2469696   2444   ??  Ss    6:51PM   0:00.01 corestoragehelpe\n",
      "ghostclock        4199   0.0  0.1  2498260   4536   ??  S     6:51PM   0:00.06 /System/Library/\n",
      "root              4191   0.0  0.0  2494944   2296   ??  Ss    6:50PM   0:00.02 /System/Library/\n",
      "ghostclock        4187   0.0  0.0  2461492   1292   ??  S     6:50PM   0:00.01 /System/Library/\n",
      "ghostclock        4186   0.0  0.0  2461456   1960   ??  S     6:50PM   0:00.02 /System/Library/\n",
      "ghostclock        4181   0.0  0.4  2545268  35668   ??  S     6:50PM   0:03.13 /System/Library/\n",
      "ghostclock        4180   0.0  0.1  2521664   6936   ??  S     6:50PM   0:00.66 /System/Library/\n",
      "ghostclock        4170   0.0  0.7  2541636  58492   ??  S     6:50PM   0:03.58 /System/Library/\n",
      "ghostclock        4103   0.0  0.0  2461044   2036 s001  S+    6:50PM   0:00.17 -bash\n",
      "root              4102   0.0  0.0  2469468   1760 s001  Ss    6:50PM   0:00.02 login -pf ghostc\n",
      "root              4083   0.0  0.1  2503656  12356   ??  Ss    6:49PM   0:07.89 /usr/libexec/sys\n",
      "root              3505   0.0  0.0  2494892   3356   ??  Ss    6:00PM   0:00.19 /usr/sbin/ocspd\n",
      "ghostclock        3501   0.0  0.1  2474500   4376   ??  Ss    6:00PM   0:00.08 /Library/Framewo\n",
      "ghostclock        3492   0.0  0.1  2588036   8140   ??  Ss    6:00PM   0:00.20 /System/Library/\n",
      "ghostclock        3489   0.0  0.1  2502708   5592   ??  S     6:00PM   0:00.12 /System/Library/\n",
      "root              3488   0.0  0.0  2453552    600   ??  SNs   6:00PM   0:00.01 /usr/libexec/per\n",
      "ghostclock        3103   0.0  0.0  2461044   2252 s000  S     5:19PM   0:00.21 -bash\n",
      "root              3102   0.0  0.0  2469468   1732 s000  Ss    5:19PM   0:00.09 login -pf ghostc\n",
      "ghostclock        1882   0.0  0.0  2469836   2020   ??  S     2:08PM   0:00.02 /System/Library/\n",
      "ghostclock        1369   0.0  0.0  2470468   3816   ??  S    12:50PM   0:00.04 /System/Library/\n",
      "ghostclock        1368   0.0  0.0  2469692   3372   ??  S    12:50PM   0:00.03 /System/Library/\n",
      "root              1353   0.0  0.0  2461124   1272   ??  Ss   12:48PM   0:00.01 /usr/libexec/app\n",
      "ghostclock        1092   0.0  0.5  3293396  38188   ??  S    12:12PM   0:00.94 /Applications/Go\n",
      "ghostclock        1075   0.0  0.1  2508100   5140   ??  S    12:10PM   0:00.37 /System/Library/\n",
      "root              1031   0.0  0.0  2469896   2492   ??  Ss   12:05PM   0:00.01 /System/Library/\n",
      "ghostclock         979   0.0  0.4  2675488  29828   ??  S    11:57AM   0:01.40 /System/Library/\n",
      "ghostclock         872   0.0  0.1  2495136   5936   ??  S    11:41AM   0:01.81 /System/Library/\n",
      "root               789   0.0  0.0  2469936   1448   ??  Ss   11:29AM   0:00.01 /System/Library/\n",
      "root               764   0.0  0.1  2536388   9136   ??  Ss   11:26AM   0:01.38 /usr/sbin/spindu\n",
      "ghostclock         730   0.0  0.0  2499552   3648   ??  Ss   11:25AM   0:00.32 /System/Library/\n",
      "ghostclock         729   0.0  0.0  3562916   4036   ??  S    11:25AM   0:00.20 /System/Library/\n",
      "ghostclock         728   0.0  0.2  2496488  13804   ??  Ss   11:25AM   0:00.08 /System/Library/\n",
      "ghostclock         727   0.0  0.1  2495420   4220   ??  Ss   11:25AM   0:00.04 /System/Library/\n",
      "ghostclock         725   0.0  0.0  2472720   3208   ??  S    11:25AM   0:00.12 /System/Library/\n",
      "ghostclock         724   0.0  0.1  2513052  12092   ??  S    11:25AM   0:00.90 /System/Library/\n",
      "_spotlight         715   0.0  0.0  2469460   1240   ??  S    11:25AM   0:00.81 /usr/sbin/distno\n",
      "_spotlight         714   0.0  0.1  2479252   5708   ??  S    11:25AM   0:00.15 /System/Library/\n",
      "root               711   0.0  0.0  2462668    548   ??  S    11:25AM   0:00.02 /System/Library/\n",
      "ghostclock         709   0.0  0.0  2462668    576   ??  S    11:25AM   0:00.45 /System/Library/\n",
      "ghostclock         698   0.0  0.1  2474500   4612   ??  Ss   11:25AM   0:00.14 /Library/Framewo\n",
      "ghostclock         692   0.0  0.1  2520512   6820   ??  S    11:25AM   0:02.07 /System/Library/\n",
      "root               691   0.0  0.0  2469648   2576   ??  Ss   11:25AM   0:00.02 /System/Library/\n",
      "ghostclock         689   0.0  0.0  2496176   3284   ??  S    11:25AM   0:00.05 /System/Library/\n",
      "root               683   0.0  0.0  2472084   2664   ??  Ss   11:25AM   0:00.04 /Library/CoreMed\n",
      "ghostclock         680   0.0  0.1  3561624   5508   ??  Ss   11:24AM   0:00.14 /System/Library/\n",
      "ghostclock         679   0.0  0.0  2469464   1560   ??  Ss   11:24AM   0:00.02 /System/Library/\n",
      "ghostclock         678   0.0  0.1  3561624   5580   ??  Ss   11:24AM   0:00.15 /System/Library/\n",
      "ghostclock         677   0.0  0.0  2469448   2104   ??  S    11:24AM   0:00.02 /System/Library/\n",
      "root               676   0.0  0.1  3581204   5120   ??  Ss   11:24AM   0:10.83 /System/Library/\n",
      "ghostclock         672   0.0  0.0  2471068   1748   ??  S    11:24AM   0:00.02 /usr/libexec/USB\n",
      "ghostclock         667   0.0  0.0  2470828   2364   ??  S    11:24AM   0:00.03 /System/Library/\n",
      "ghostclock         662   0.0  0.1  2536888   7816   ??  Ss   11:24AM   0:04.31 /Applications/Go\n",
      "_softwareupdate    652   0.0  0.2  3592248  12796   ??  Ss   11:24AM   0:12.51 /System/Library/\n",
      "ghostclock         644   0.0  0.1  2823912   7072   ??  S    11:24AM   0:08.08 /usr/local/opt/m\n",
      "ghostclock         572   0.0  0.1  2502348   5420   ??  Ss   11:24AM   0:00.05 /System/Library/\n",
      "ghostclock         571   0.0  0.1  2470504   4252   ??  S    11:24AM   0:03.87 /System/Library/\n",
      "ghostclock         559   0.0  0.0  2469652   3664   ??  Ss   11:24AM   0:00.22 /System/Library/\n",
      "root               553   0.0  0.1  2497320   5508   ??  Ss   11:24AM   0:03.68 /usr/libexec/wif\n",
      "ghostclock         552   0.0  0.2  3204584  16312   ??  S    11:24AM   0:00.33 /Applications/Go\n",
      "ghostclock         548   0.0  0.0  2470004   3144   ??  S    11:24AM   0:00.03 /System/Library/\n",
      "ghostclock         547   0.0  0.1  2499856   6684   ??  S    11:24AM   0:00.90 /usr/libexec/WiF\n",
      "ghostclock         546   0.0  0.0  2470168   3020   ??  S    11:24AM   0:00.03 /System/Library/\n",
      "ghostclock         545   0.0  0.1  2499004   6200   ??  S    11:24AM   0:00.22 /usr/libexec/fmf\n",
      "ghostclock         543   0.0  0.2  3575784  12684   ??  S    11:24AM   0:00.73 /System/Library/\n",
      "ghostclock         542   0.0  0.1  2499616   5604   ??  S    11:24AM   0:00.06 /System/Library/\n",
      "ghostclock         541   0.0  0.0  2470184   2880   ??  S    11:24AM   0:00.03 /System/Library/\n",
      "ghostclock         540   0.0  0.1  2470684   4588   ??  S    11:24AM   0:10.36 /usr/libexec/Saf\n",
      "ghostclock         539   0.0  0.1  3568952   7680   ??  S    11:24AM   0:00.35 /usr/libexec/key\n",
      "ghostclock         538   0.0  0.1  2517452   5984   ??  S    11:24AM   0:02.15 /System/Library/\n",
      "ghostclock         536   0.0  0.1  3567452   5892   ??  S    11:24AM   0:00.30 /System/Library/\n",
      "ghostclock         530   0.0  0.1  3718940  12256   ??  S    11:24AM   0:02.85 /Library/Privile\n",
      "ghostclock         516   0.0  0.3  3646596  28564   ??  S    11:24AM   0:06.69 /Applications/Ne\n",
      "ghostclock         515   0.0  1.7  2996272 142624   ??  S    11:24AM   1:44.16 /Applications/Go\n",
      "ghostclock         514   0.0  0.1  2579472  11344   ??  S    11:24AM   1:47.78 /Applications/Sh\n",
      "ghostclock         513   0.0  0.5  4009360  41384   ??  S    11:24AM   0:54.81 /Applications/Dr\n",
      "ghostclock         512   0.0  0.1  2499876   4476   ??  S    11:24AM   0:01.29 /Applications/iT\n",
      "ghostclock         510   0.0  0.3  3768208  26544   ??  S    11:24AM   0:34.09 /Applications/Ba\n",
      "ghostclock         509   0.0  0.3  2564396  24452   ??  S    11:24AM   0:08.73 /System/Library/\n",
      "ghostclock         504   0.0  0.1  3568076   9460   ??  S    11:24AM   0:00.53 /System/Library/\n",
      "ghostclock         502   0.0  0.1  2495904   5668   ??  S    11:24AM   0:00.34 /System/Library/\n",
      "ghostclock         501   0.0  0.1  2517984   6728   ??  S    11:24AM   0:01.87 /System/Library/\n",
      "ghostclock         498   0.0  0.1  3589236   8952   ??  S    11:24AM   0:02.02 /System/Library/\n",
      "ghostclock         497   0.0  0.1  2496284   7432   ??  S    11:24AM   0:03.16 /System/Library/\n",
      "ghostclock         496   0.0  0.1  2515436   6936   ??  S    11:24AM   0:02.50 /System/Library/\n",
      "ghostclock         495   0.0  0.0  2495092   3136   ??  S    11:24AM   0:00.03 /System/Library/\n",
      "ghostclock         492   0.0  0.0  2444660    704   ??  S    11:24AM   0:00.01 /bin/sh /Library\n",
      "ghostclock         491   0.0  0.1  3565364   7068   ??  S    11:24AM   0:00.20 /System/Library/\n",
      "ghostclock         490   0.0  0.1  3589504   8252   ??  S    11:24AM   0:02.05 /Library/Applica\n",
      "ghostclock         489   0.0  0.1  2496136   4628   ??  S    11:24AM   0:00.20 /System/Library/\n",
      "ghostclock         488   0.0  0.0  2452852    728   ??  S    11:24AM   0:00.03 /bin/sh /usr/loc\n",
      "ghostclock         486   0.0  0.1  2521904   7816   ??  S    11:24AM   0:05.37 /System/Library/\n",
      "ghostclock         484   0.0  0.3  2687136  21216   ??  S    11:24AM   0:03.45 /System/Library/\n",
      "ghostclock         483   0.0  0.1  2520516   6336   ??  S    11:24AM   0:01.87 /Library/Applica\n",
      "ghostclock         481   0.0  0.1  2521272   6372   ??  S    11:24AM   0:16.28 /Applications/Su\n",
      "ghostclock         478   0.0  0.0  2495072   3312   ??  S    11:24AM   0:00.05 /System/Library/\n",
      "ghostclock         476   0.0  0.0  2470556   3352   ??  S    11:24AM   0:00.02 /usr/libexec/spi\n",
      "ghostclock         475   0.0  0.1  2517332   6964   ??  S    11:24AM   0:01.94 /System/Library/\n",
      "ghostclock         470   0.0  0.4  3365228  36768   ??  S    11:24AM   0:00.96 /Applications/Go\n",
      "ghostclock         469   0.0  0.0  2495136   4068   ??  S    11:24AM   0:00.06 /System/Library/\n",
      "ghostclock         468   0.0  0.0  2473660   4000   ??  Ss   11:24AM   0:00.06 /System/Library/\n",
      "ghostclock         467   0.0  0.1  2474500   4424   ??  Ss   11:24AM   0:00.12 /Library/Framewo\n",
      "ghostclock         466   0.0  0.0  2471104   2952   ??  S    11:24AM   0:00.17 /System/Library/\n",
      "ghostclock         465   0.0  0.4  3644224  31276   ??  S    11:24AM   0:02.18 /System/Library/\n",
      "ghostclock         461   0.0  0.1  3569896   7864   ??  Ss   11:24AM   0:00.39 /System/Library/\n",
      "ghostclock         460   0.0  0.9  3455872  79088   ??  S    11:24AM   1:14.21 /Applications/Go\n",
      "ghostclock         459   0.0  0.4  3277724  30500   ??  S    11:24AM   0:00.90 /Applications/Go\n",
      "ghostclock         458   0.0  0.6  3311060  53056   ??  S    11:24AM   0:03.90 /Applications/Go\n",
      "ghostclock         457   0.0  0.5  3295908  43244   ??  S    11:24AM   0:01.62 /Applications/Go\n",
      "ghostclock         456   0.0  0.6  3322436  51664   ??  S    11:24AM   0:06.06 /Applications/Go\n",
      "ghostclock         454   0.0  0.7  3306040  56068   ??  S    11:24AM   0:06.32 /Applications/Go\n",
      "ghostclock         453   0.0  0.4  3277720  30020   ??  S    11:24AM   0:00.88 /Applications/Go\n",
      "ghostclock         452   0.0  2.1  3467512 175716   ??  S    11:24AM   1:08.79 /Applications/Go\n",
      "ghostclock         451   0.0  1.8  3369392 152508   ??  S    11:24AM   1:04.72 /Applications/Go\n",
      "ghostclock         450   0.0  0.9  3326940  79476   ??  S    11:24AM   0:08.13 /Applications/Go\n",
      "ghostclock         449   0.0  0.9  3350604  76636   ??  S    11:24AM   0:22.54 /Applications/Go\n",
      "ghostclock         448   0.0  0.4  3300944  35264   ??  S    11:24AM   0:01.04 /Applications/Go\n",
      "ghostclock         447   0.0  0.4  3279588  30500   ??  S    11:24AM   0:00.91 /Applications/Go\n",
      "_nsurlstoraged     446   0.0  0.0  2470012   3732   ??  Ss   11:24AM   0:00.11 /usr/libexec/nsu\n",
      "ghostclock         445   0.0  0.4  3278744  30780   ??  S    11:24AM   0:00.91 /Applications/Go\n",
      "ghostclock         444   0.0  0.9  3338844  77860   ??  R    11:24AM   0:13.00 /Applications/Go\n",
      "ghostclock         443   0.0  0.6  3308936  46612   ??  S    11:24AM   0:01.89 /Applications/Go\n",
      "ghostclock         442   0.0  0.6  3330080  54100   ??  S    11:24AM   0:10.94 /Applications/Go\n",
      "ghostclock         441   0.0  4.1  3631584 340640   ??  R    11:24AM   1:10.67 /Applications/Go\n",
      "ghostclock         440   0.0  0.4  3294824  34808   ??  S    11:24AM   0:01.02 /Applications/Go\n",
      "ghostclock         439   0.0  0.1  2525004   7956   ??  Ss   11:24AM   0:01.95 /System/Library/\n",
      "ghostclock         436   0.0  0.1  2514544   6404   ??  S    11:24AM   0:01.99 /System/Library/\n",
      "ghostclock         431   0.0  0.1  2527196   8272   ??  S    11:24AM   0:00.30 /System/Library/\n",
      "root               430   0.0  0.0  2470652   2600   ??  Ss   11:24AM   0:00.02 /usr/libexec/dis\n",
      "ghostclock         428   0.0  0.1  2502352   5500   ??  S    11:24AM   0:00.13 /System/Library/\n",
      "ghostclock         427   0.0  0.1  2470268   4444   ??  Ss   11:24AM   0:00.11 /System/Library/\n",
      "ghostclock         424   0.0  0.2  3577304  16176   ??  S    11:24AM   0:02.04 /System/Library/\n",
      "ghostclock         423   0.0  0.0  2471392   2156   ??  S    11:24AM   0:00.03 /System/Library/\n",
      "ghostclock         422   0.0  0.0  2495464   2700   ??  S    11:24AM   0:00.03 /System/Library/\n",
      "ghostclock         421   0.0  0.0  2469724   2384   ??  S    11:24AM   0:00.02 /System/Library/\n",
      "ghostclock         419   0.0  0.1  2523236   7756   ??  Ss   11:24AM   0:02.35 /Applications/Bo\n",
      "ghostclock         418   0.0  0.1  2553568   9108   ??  Ss   11:24AM   0:02.34 /Applications/Dr\n",
      "ghostclock         417   0.0  0.3  2630900  25840   ??  S    11:24AM   0:03.34 /System/Library/\n",
      "ghostclock         414   0.0  0.0  2496132   2580   ??  Ss   11:24AM   0:00.03 /System/Library/\n",
      "ghostclock         411   0.0  0.1  3572432  10924   ??  S    11:24AM   0:01.08 /System/Library/\n",
      "ghostclock         409   0.0  0.1  3572516   6056   ??  S    11:24AM   0:00.55 /System/Library/\n",
      "ghostclock         407   0.0  0.1  3568920  10068   ??  S    11:24AM   0:01.05 /System/Library/\n",
      "ghostclock         406   0.0  0.2  2515724  17808   ??  S    11:24AM   0:02.25 /System/Library/\n",
      "ghostclock         405   0.0  0.0  2472124   2576   ??  S    11:24AM   0:00.03 /Applications/Go\n",
      "ghostclock         403   0.0  0.1  2501892   5100   ??  S    11:24AM   0:00.09 /System/Library/\n",
      "ghostclock         402   0.0  0.2  3580256  18024   ??  S    11:24AM   0:05.28 /System/Library/\n",
      "root               401   0.0  0.0  2470232   3444   ??  Ss   11:24AM   0:00.35 /usr/sbin/fileco\n",
      "ghostclock         400   0.0  0.2  2526564  15272   ??  Ss   11:24AM   0:02.22 /System/Library/\n",
      "ghostclock         399   0.0  0.2  2515612  17300   ??  S    11:24AM   0:07.91 /usr/libexec/sha\n",
      "ghostclock         398   0.0  0.1  2504152  10628   ??  S    11:24AM   0:04.94 /System/Library/\n",
      "ghostclock         397   0.0  0.1  2495380   5052   ??  S    11:24AM   0:01.17 /usr/libexec/vid\n",
      "ghostclock         396   0.0  0.1  2498812   4212   ??  S    11:24AM   0:00.22 /usr/libexec/swc\n",
      "_gamecontrollerd   395   0.0  0.0  2470772   3648   ??  Ss   11:24AM   0:02.60 /usr/libexec/gam\n",
      "ghostclock         394   0.0  0.0  2469556   3032   ??  S    11:24AM   0:00.02 /System/Library/\n",
      "ghostclock         392   0.0  0.1  2497508   6156   ??  S    11:24AM   0:00.14 /System/Library/\n",
      "ghostclock         391   0.0  0.2  2504984  12780   ??  Ss   11:24AM   0:01.72 /System/Library/\n",
      "ghostclock         390   0.0  0.1  2529280   7080   ??  S    11:24AM   0:07.26 /System/Library/\n",
      "ghostclock         389   0.0  0.2  3571016  17444   ??  S    11:24AM   0:00.89 /System/Library/\n",
      "ghostclock         387   0.0  0.2  2543080  15000   ??  S    11:24AM   0:03.38 /System/Library/\n",
      "ghostclock         385   0.0  0.3  3590468  27780   ??  S    11:24AM   0:17.76 /System/Library/\n",
      "ghostclock         383   0.0  0.1  2502436   4988   ??  S    11:24AM   0:00.33 /usr/libexec/net\n",
      "ghostclock         382   0.0  0.2  3567156  14544   ??  S    11:24AM   0:02.11 /usr/libexec/nsu\n",
      "ghostclock         381   0.0  0.1  2497176   8992   ??  S    11:24AM   0:00.79 /usr/sbin/userno\n",
      "ghostclock         378   0.0  0.1  2500004   7896   ??  S    11:24AM   0:01.72 /usr/libexec/nsu\n",
      "root               369   0.0  0.0  2469728   2692   ??  Ss   11:24AM   0:00.03 /System/Library/\n",
      "_assetcache        368   0.0  0.0  2500220   3940   ??  Ss   11:24AM   0:00.07 /usr/libexec/Ass\n",
      "ghostclock         367   0.0  0.0  2494760   3348   ??  S    11:24AM   0:00.04 /System/Library/\n",
      "ghostclock         366   0.0  0.1  2498408   5284   ??  S    11:24AM   0:00.14 /System/Library/\n",
      "ghostclock         365   0.0  0.3  3606664  23020   ??  S    11:24AM   0:03.24 /System/Library/\n",
      "root               364   0.0  0.0  2469728   2664   ??  Ss   11:24AM   0:00.03 /System/Library/\n",
      "root               363   0.0  0.1  2470444   4352   ??  Ss   11:24AM   0:00.05 /System/Library/\n",
      "ghostclock         362   0.0  0.0  2495128   3088   ??  S    11:24AM   0:00.05 /System/Library/\n",
      "ghostclock         361   0.0  0.1  2495428   6496   ??  S    11:24AM   0:01.00 /usr/libexec/pkd\n",
      "ghostclock         360   0.0  0.1  2497160   6240   ??  S    11:24AM   0:00.59 /usr/libexec/sec\n",
      "ghostclock         359   0.0  0.1  2497076   5296   ??  S    11:24AM   0:00.31 /System/Library/\n",
      "ghostclock         358   0.0  0.1  2497644   8340   ??  S    11:24AM   0:00.59 /System/Library/\n",
      "ghostclock         357   0.0  0.1  2469676   5172   ??  S    11:24AM   0:00.87 /System/Library/\n",
      "ghostclock         356   0.0  0.1  2470400   4832   ??  S    11:24AM   0:00.15 /System/Library/\n",
      "root               355   0.0  0.0  2470804   3200   ??  Ss   11:24AM   0:00.03 /usr/sbin/Wirele\n",
      "ghostclock         354   0.0  0.1  2496820   5276   ??  S    11:24AM   0:00.41 /System/Library/\n",
      "ghostclock         353   0.0  0.1  2498336   8520   ??  S    11:24AM   0:00.41 /System/Library/\n",
      "ghostclock         352   0.0  0.4  3599072  29432   ??  S    11:24AM   0:08.39 /System/Library/\n",
      "ghostclock         350   0.0  0.2  2516912  16372   ??  S    11:24AM   0:03.05 /System/Library/\n",
      "ghostclock         349   0.0  0.0  2486960   3328   ??  S    11:24AM   0:00.09 /usr/libexec/pbo\n",
      "ghostclock         346   0.0  1.0  2871904  83964   ??  S    11:24AM   0:17.67 /System/Library/\n",
      "ghostclock         345   0.0  0.3  2594332  25396   ??  S    11:24AM   0:09.56 /System/Library/\n",
      "ghostclock         344   0.0  0.2  2511452  19408   ??  S    11:24AM   0:02.49 /System/Library/\n",
      "ghostclock         342   0.0  0.5  2763452  43412   ??  S    11:24AM   0:20.86 /System/Library/\n",
      "ghostclock         341   0.0  0.8  2762784  70856   ??  S    11:24AM   0:21.79 /Applications/Ut\n",
      "ghostclock         340   0.0  0.1  2499436   6340   ??  S    11:24AM   0:03.11 /usr/libexec/sec\n",
      "ghostclock         339   0.0  0.1  2495816   5504   ??  S    11:24AM   0:00.26 /System/Library/\n",
      "ghostclock         336   0.0  0.1  3576292  11904   ??  S    11:24AM   0:06.41 /usr/libexec/tru\n",
      "ghostclock         335   0.0  0.1  2503944   8640   ??  S    11:24AM   0:02.30 /usr/libexec/lsd\n",
      "ghostclock         334   0.0  0.2  2521028  19916   ??  S    11:24AM   0:03.67 /System/Library/\n",
      "ghostclock         332   0.0  0.1  2469460   5112   ??  S    11:24AM   0:20.64 /usr/sbin/distno\n",
      "ghostclock         330   0.0  0.2  2497216  15632   ??  S    11:24AM   0:07.50 /usr/libexec/Use\n",
      "root               329   0.0  0.0  2495548   3072   ??  Ss   11:24AM   0:00.04 /System/Library/\n",
      "root               327   0.0  0.0  2445636   1472   ??  Ss   11:24AM   0:00.39 /usr/libexec/wat\n",
      "ghostclock         324   0.0  0.1  2476848   6316   ??  S    11:24AM   0:05.41 /usr/sbin/cfpref\n",
      "root               323   0.0  0.0  2471172    744   ??  Ss   11:24AM   0:00.07 /usr/libexec/sec\n",
      "root               320   0.0  0.0  2470248   1636   ??  Ss   11:24AM   0:00.45 /System/Library/\n",
      "root               314   0.0  0.1  2495188   4368   ??  Ss   11:24AM   0:00.16 /System/Library/\n",
      "root               312   0.0  0.1  2499792   5340   ??  Ss   11:24AM   0:00.18 /System/Library/\n",
      "root               311   0.0  0.0  2469832   2400   ??  Ss   11:24AM   0:00.03 /System/Library/\n",
      "root               310   0.0  0.0  2469724   2704   ??  Ss   11:24AM   0:02.24 sysmond\n",
      "_softwareupdate    309   0.0  0.0  2496120   2460   ??  Ss   11:24AM   0:00.04 /System/Library/\n",
      "root               302   0.0  0.0  2472200   2508   ??  Ss   11:24AM   0:00.06 /System/Library/\n",
      "root               300   0.0  0.0  2495572   3936   ??  Ss   11:24AM   0:00.06 /System/Library/\n",
      "root               295   0.0  0.0  2469984   2124   ??  Ss   11:24AM   0:00.02 /System/Library/\n",
      "root               294   0.0  0.0  2496096   2352   ??  Ss   11:24AM   0:00.04 /System/Library/\n",
      "root               293   0.0  0.0  2499620   3596   ??  Ss   11:24AM   0:00.15 /usr/sbin/system\n",
      "root               291   0.0  0.1  2497692   4600   ??  Ss   11:24AM   0:04.05 /System/Library/\n",
      "_netbios           286   0.0  0.0  2471740   3492   ??  SNs  11:24AM   0:00.31 /usr/sbin/netbio\n",
      "root               281   0.0  0.0  2469168    728   ??  S    11:24AM   0:00.00 /usr/libexec/iou\n",
      "root               273   0.0  0.1  2496892   4320   ??  Ss   11:24AM   0:00.13 /usr/libexec/sec\n",
      "root               272   0.0  0.0  2469804   2328   ??  Ss   11:24AM   0:00.02 /System/Library/\n",
      "_networkd          270   0.0  0.1  2505300   7480   ??  Ss   11:24AM   0:04.69 /usr/libexec/sym\n",
      "root               261   0.0  0.0  2471360   2368   ??  Ss   11:24AM   0:00.20 /System/Library/\n",
      "root               249   0.0  0.0  2470828   1872   ??  Ss   11:24AM   0:00.02 /usr/sbin/system\n",
      "_coreaudiod        246   0.0  0.0  2495316   2660   ??  Ss   11:24AM   0:00.27 /System/Library/\n",
      "root               245   0.0  0.0  2496484   3988   ??  Ss   11:24AM   0:00.04 /System/Library/\n",
      "root               244   0.0  0.0  2469664   2164   ??  Ss   11:24AM   0:00.02 /System/Library/\n",
      "root               243   0.0  0.0  2469660   2024   ??  Ss   11:24AM   0:00.03 /usr/libexec/the\n",
      "root               242   0.0  0.0  2496288   2984   ??  Ss   11:24AM   0:00.34 /usr/libexec/usb\n",
      "root               241   0.0  0.0  2469476   2180   ??  Ss   11:24AM   0:00.02 /usr/libexec/cor\n",
      "root               240   0.0  0.0  2473040   1424   ??  Ss   11:24AM   0:02.45 /usr/sbin/ntpd -\n",
      "root               239   0.0  0.1  2500908   4748   ??  Ss   11:24AM   0:00.14 /usr/libexec/neh\n",
      "_nsurlsessiond     237   0.0  0.1  3567840  11256   ??  Ss   11:24AM   0:00.49 /usr/libexec/nsu\n",
      "root               235   0.0  0.0  2469440   2184   ??  Ss   11:24AM   0:00.02 /System/Library/\n",
      "root               234   0.0  0.0  2512504   1564   ??  Ss   11:24AM   0:00.08 /System/Library/\n",
      "_coreaudiod        233   0.0  0.1  2473820   6276   ??  Ss   11:24AM   4:07.68 /usr/sbin/coreau\n",
      "root               232   0.0  0.1  2497200   5828   ??  Ss   11:24AM   0:00.43 /System/Library/\n",
      "root               173   0.0  1.5  3732648 124472   ??  Ss   11:24AM   0:55.29 /System/Library/\n",
      "root               169   0.0  0.1  2496156   4800   ??  Ss   11:24AM   0:00.35 /usr/libexec/san\n",
      "root               167   0.0  0.1  2500480   6744   ??  Ss   11:24AM   0:00.46 /usr/libexec/lsd\n",
      "root               166   0.0  0.1  2497536   7052   ??  Ss   11:24AM   0:00.29 /usr/libexec/fin\n",
      "root               163   0.0  0.0  2495860   1968   ??  Ss   11:24AM   0:01.76 /usr/sbin/mDNSRe\n",
      "_mdnsresponder     162   0.0  0.1  2497640   4228   ??  Ss   11:24AM   0:04.84 /usr/sbin/mDNSRe\n",
      "root               161   0.0  0.1  2495400   5312   ??  Ss   11:24AM   0:00.26 /usr/libexec/tas\n",
      "_ctkd              149   0.0  0.0  2471376   1896   ??  Ss   11:24AM   0:00.03 /System/Library/\n",
      "root               142   0.0  0.1  3565644   6208   ??  Ss   11:24AM   0:03.59 /usr/libexec/tru\n",
      "root               139   0.0  0.0  2470180   2028   ??  Ss   11:24AM   0:00.06 /System/Library/\n",
      "root               136   0.0  0.0  2469980   2608   ??  Ss   11:24AM   0:00.06 aslmanager\n",
      "root               131   0.0  0.1  2503736   4608   ??  Ss   11:24AM   0:00.96 /System/Library/\n",
      "root               130   0.0  0.1  2498232   7492   ??  Ss   11:24AM   0:00.81 /System/Library/\n",
      "root               128   0.0  0.1  2469952   5128   ??  Ss   11:24AM   0:10.11 /usr/sbin/cfpref\n",
      "_distnote          127   0.0  0.0  2469460   2300   ??  Ss   11:24AM   0:05.68 /usr/sbin/distno\n",
      "root               126   0.0  0.0  2470268   2012   ??  Ss   11:24AM   0:04.42 /usr/sbin/notify\n",
      "root               125   0.0  0.1  2498852   4992   ??  Ss   11:24AM   0:00.96 /usr/libexec/amf\n",
      "root               124   0.0  0.1  2496812   6908   ??  Ss   11:24AM   0:01.75 /usr/libexec/Air\n",
      "root               123   0.0  0.0  2496648   3736   ??  Ss   11:24AM   0:00.13 /usr/libexec/cor\n",
      "root               118   0.0  0.0  2453324    896   ??  Ss   11:24AM   0:00.01 /usr/sbin/Kernel\n",
      "root               117   0.0  0.0  2469488   2532   ??  Ss   11:24AM   0:00.04 /System/Library/\n",
      "ghostclock         116   0.0  0.3  2588296  28612   ??  Ss   11:24AM   0:04.70 /System/Library/\n",
      "root               115   0.0  0.0  2497708   4160   ??  Ss   11:24AM   0:00.23 /System/Library/\n",
      "root               112   0.0  0.0  2496836   2944   ??  Ss   11:24AM   0:00.14 /System/Library/\n",
      "root               109   0.0  0.0  2469936   1788   ??  Ss   11:24AM   0:00.02 autofsd\n",
      "root               108   0.0  0.1  2496924   8244   ??  Ss   11:24AM   0:32.42 /usr/sbin/blued\n",
      "_displaypolicyd    107   0.0  0.0  2471828   1648   ??  Ss   11:24AM   0:00.04 /usr/libexec/dis\n",
      "root               106   0.0  0.1  2499628   6492   ??  Ss   11:24AM   0:04.55 /usr/libexec/Due\n",
      "_locationd         104   0.0  0.1  2506560   9312   ??  Ss   11:24AM   0:02.05 /usr/libexec/loc\n",
      "root               102   0.0  0.1  2497760   6680   ??  Ss   11:24AM   0:07.15 /usr/sbin/securi\n",
      "_usbmuxd           101   0.0  0.0  2495496   2808   ??  Ss   11:24AM   0:00.78 /System/Library/\n",
      "root               100   0.0  0.1  2496968   6636   ??  Ss   11:24AM   0:18.67 /System/Library/\n",
      "root                99   0.0  0.0  2496152   3612   ??  Ss   11:24AM   0:00.06 /System/Library/\n",
      "root                98   0.0  0.1  3564316   9084   ??  Ss   11:24AM   0:02.74 /System/Library/\n",
      "root                96   0.0  0.0  2496236   4032   ??  Ss   11:24AM   0:05.67 /usr/sbin/wirele\n",
      "root                95   0.0  0.1  2510244   9264   ??  Ss   11:24AM   0:06.50 /usr/libexec/ope\n",
      "root                90   0.0  0.0  2471244   2172   ??  Ss   11:24AM   0:00.04 /usr/libexec/wdh\n",
      "root                89   0.0  0.2  2506200  20392   ??  Ss   11:24AM   0:07.83 /usr/libexec/cor\n",
      "root                86   0.0  0.0  2494868   3120   ??  Ss   11:24AM   0:00.30 /usr/libexec/dis\n",
      "_iconservices       84   0.0  0.0  2471116   2352   ??  Ss   11:24AM   0:00.06 /System/Library/\n",
      "root                83   0.0  0.0  2471116   1492   ??  Ss   11:24AM   0:00.05 /System/Library/\n",
      "root                78   0.0  0.6  2652324  48360   ??  Ss   11:24AM   0:22.34 /System/Library/\n",
      "root                77   0.0  0.1  2498988   4560   ??  SNs  11:24AM   0:00.18 /usr/libexec/war\n",
      "root                75   0.0  0.1  2501128   6496   ??  Ss   11:24AM   0:44.27 /usr/libexec/air\n",
      "root                71   0.0  0.1  2546948  11260   ??  Ss   11:24AM   0:03.53 /usr/libexec/log\n",
      "root                66   0.0  0.0  2462264    756   ??  Ss   11:24AM   0:14.94 /Applications/Su\n",
      "root                65   0.0  0.1  2496780   6972   ??  Ss   11:24AM   0:00.36 /usr/libexec/mob\n",
      "root                64   0.0  0.0  2495068   3556   ??  Ss   11:24AM   0:02.48 /System/Library/\n",
      "root                63   0.0  0.1  2505872   8400   ??  Ss   11:24AM   0:20.14 /Library/Applica\n",
      "root                62   0.0  0.1  2500276   6476   ??  Ss   11:24AM   0:01.58 /usr/libexec/con\n",
      "_appleevents        61   0.0  0.1  2497128   4848   ??  Ss   11:24AM   0:00.39 /System/Library/\n",
      "root                57   0.0  0.1  2496548   5892   ??  Ss   11:24AM   0:00.13 /System/Library/\n",
      "root                55   0.0  0.1  2475500   5392   ??  Ss   11:24AM   0:24.27 /System/Library/\n",
      "root                54   0.0  0.1  2501336   6788   ??  Ss   11:24AM   0:03.56 /usr/libexec/kex\n",
      "root                53   0.0  0.0  2469916   2080   ??  Ss   11:24AM   0:01.78 /System/Library/\n",
      "root                51   0.0  0.2  2498296  15952   ??  Ss   11:24AM   0:08.93 /usr/libexec/Use\n",
      "root                50   0.0  0.0  2471376   1124   ??  Ss   11:24AM   0:06.31 /usr/sbin/syslog\n",
      "root              5686   0.0  0.0  2433184    992 s002  Rs+  10:08PM   0:00.01 ps aux\n",
      "root                 1   0.0  0.1  2493596  11088   ??  Ss   11:24AM   1:13.33 /sbin/launchd\n",
      "ghostclock        5683   0.0  0.1  3017260  10672   ??  S    10:08PM   0:00.08 /System/Library/\n",
      "ghostclock        5652   0.0  0.4  2505864  30096   ??  Ss   10:04PM   0:00.76 /Users/ghostcloc\n",
      "ghostclock        5598   0.0  0.1  2476096   8044   ??  S     9:57PM   0:00.05 /System/Library/\n",
      "ghostclock        5597   0.0  0.1  2476096   8092   ??  S     9:57PM   0:00.06 /System/Library/\n",
      "ghostclock        5595   0.0  0.1  2497868  10504   ??  S     9:57PM   0:00.20 /System/Library/\n",
      "ghostclock        5556   0.0  0.4  2506376  30500   ??  Ss    9:53PM   0:01.07 /Users/ghostcloc\n",
      "ghostclock        5503   0.0  1.6  3631416 135920   ??  S     9:46PM   0:02.21 /Applications/Go\n",
      "ghostclock        5498   0.0  0.5  2498684  41296 s000  S+    9:46PM   0:02.36 /Users/ghostcloc\n",
      "ghostclock        5134   0.0  0.0  2477156   3292   ??  S     8:56PM   0:00.02 /System/Library/\n",
      "ghostclock        4367   0.0  0.1  2497060   4460   ??  S     7:03PM   0:00.21 /System/Library/\n",
      "root              4351   0.0  0.0  2469492   1688   ??  Ss    7:02PM   0:00.01 /System/Library/\n",
      "ghostclock        4346   0.0  0.2  2513900  13340   ??  Ss    7:02PM   0:02.56 /System/Library/\n"
     ]
    }
   ],
   "source": [
    "!ps aux #查看当前系统的进程"
   ]
  },
  {
   "cell_type": "code",
   "execution_count": 4,
   "metadata": {
    "collapsed": false,
    "scrolled": true
   },
   "outputs": [],
   "source": [
    "x = !ps uax"
   ]
  },
  {
   "cell_type": "code",
   "execution_count": 12,
   "metadata": {
    "collapsed": false
   },
   "outputs": [],
   "source": [
    "s = x[-1]"
   ]
  },
  {
   "cell_type": "code",
   "execution_count": 13,
   "metadata": {
    "collapsed": false
   },
   "outputs": [
    {
     "data": {
      "text/plain": [
       "'ghostclock        4215   0.0  0.6  2546332  53700   ??  S     6:52PM   0:03.45 /System/Library/Frameworks/CoreServices.framework/Frameworks/Metadata.framework/Versions/A/Support/mdworker -s mdworker -c MDSImporterWorker -m com.apple.mdworker.shared'"
      ]
     },
     "execution_count": 13,
     "metadata": {},
     "output_type": "execute_result"
    }
   ],
   "source": [
    "s"
   ]
  },
  {
   "cell_type": "code",
   "execution_count": 14,
   "metadata": {
    "collapsed": true
   },
   "outputs": [],
   "source": [
    "s.split?"
   ]
  },
  {
   "cell_type": "code",
   "execution_count": 15,
   "metadata": {
    "collapsed": false
   },
   "outputs": [
    {
     "data": {
      "text/plain": [
       "['ghostclock',\n",
       " '4215',\n",
       " '0.0',\n",
       " '0.6',\n",
       " '2546332',\n",
       " '53700',\n",
       " '??',\n",
       " 'S',\n",
       " '6:52PM',\n",
       " '0:03.45',\n",
       " '/System/Library/Frameworks/CoreServices.framework/Frameworks/Metadata.framework/Versions/A/Support/mdworker',\n",
       " '-s',\n",
       " 'mdworker',\n",
       " '-c',\n",
       " 'MDSImporterWorker',\n",
       " '-m',\n",
       " 'com.apple.mdworker.shared']"
      ]
     },
     "execution_count": 15,
     "metadata": {},
     "output_type": "execute_result"
    }
   ],
   "source": [
    "s.split()"
   ]
  },
  {
   "cell_type": "markdown",
   "metadata": {},
   "source": [
    "### 解决方案\n",
    "    方案一:连续使用s.split()方法,每次处理一种分隔符\n",
    "    方案二:使用正则表达式的re.split()方法,一次性拆分字符串"
   ]
  },
  {
   "cell_type": "markdown",
   "metadata": {},
   "source": [
    "#### 方案一"
   ]
  },
  {
   "cell_type": "code",
   "execution_count": 16,
   "metadata": {
    "collapsed": true
   },
   "outputs": [],
   "source": [
    "s = 'nn2mn|k@n||mk|n%mnbmk&knm*&nmnkj)njbhjk_hjvbhj~jbjk5%gdfg*fdgfd-'"
   ]
  },
  {
   "cell_type": "code",
   "execution_count": 17,
   "metadata": {
    "collapsed": false
   },
   "outputs": [
    {
     "data": {
      "text/plain": [
       "'nn2mn|k@n||mk|n%mnbmk&knm*&nmnkj)njbhjk_hjvbhj~jbjk5%gdfg*fdgfd-'"
      ]
     },
     "execution_count": 17,
     "metadata": {},
     "output_type": "execute_result"
    }
   ],
   "source": [
    "s"
   ]
  },
  {
   "cell_type": "code",
   "execution_count": 23,
   "metadata": {
    "collapsed": false
   },
   "outputs": [],
   "source": [
    "res = s.split(\"|\")"
   ]
  },
  {
   "cell_type": "code",
   "execution_count": 25,
   "metadata": {
    "collapsed": false
   },
   "outputs": [
    {
     "data": {
      "text/plain": [
       "[['nn2mn'],\n",
       " ['k', 'n'],\n",
       " [''],\n",
       " ['mk'],\n",
       " ['n%mnbmk&knm*&nmnkj)njbhjk_hjvbhj~jbjk5%gdfg*fdgfd-']]"
      ]
     },
     "execution_count": 25,
     "metadata": {},
     "output_type": "execute_result"
    }
   ],
   "source": [
    "map(lambda x: x.split('@'),res)"
   ]
  },
  {
   "cell_type": "code",
   "execution_count": 26,
   "metadata": {
    "collapsed": true
   },
   "outputs": [],
   "source": [
    "t = []"
   ]
  },
  {
   "cell_type": "code",
   "execution_count": 28,
   "metadata": {
    "collapsed": false
   },
   "outputs": [
    {
     "data": {
      "text/plain": [
       "[None, None, None, None, None]"
      ]
     },
     "execution_count": 28,
     "metadata": {},
     "output_type": "execute_result"
    }
   ],
   "source": [
    "map(lambda x: t.extend(x.split('@')),res)"
   ]
  },
  {
   "cell_type": "code",
   "execution_count": 29,
   "metadata": {
    "collapsed": false
   },
   "outputs": [
    {
     "data": {
      "text/plain": [
       "['nn2mn',\n",
       " 'k',\n",
       " 'n',\n",
       " '',\n",
       " 'mk',\n",
       " 'n%mnbmk&knm*&nmnkj)njbhjk_hjvbhj~jbjk5%gdfg*fdgfd-']"
      ]
     },
     "execution_count": 29,
     "metadata": {},
     "output_type": "execute_result"
    }
   ],
   "source": [
    "t"
   ]
  },
  {
   "cell_type": "code",
   "execution_count": 30,
   "metadata": {
    "collapsed": true
   },
   "outputs": [],
   "source": [
    "res = t"
   ]
  },
  {
   "cell_type": "code",
   "execution_count": 31,
   "metadata": {
    "collapsed": true
   },
   "outputs": [],
   "source": [
    "t = []"
   ]
  },
  {
   "cell_type": "code",
   "execution_count": 32,
   "metadata": {
    "collapsed": false
   },
   "outputs": [
    {
     "data": {
      "text/plain": [
       "[None, None, None, None, None, None]"
      ]
     },
     "execution_count": 32,
     "metadata": {},
     "output_type": "execute_result"
    }
   ],
   "source": [
    "map(lambda x: t.extend(x.split('%')),res)"
   ]
  },
  {
   "cell_type": "code",
   "execution_count": 33,
   "metadata": {
    "collapsed": false
   },
   "outputs": [
    {
     "data": {
      "text/plain": [
       "['nn2mn',\n",
       " 'k',\n",
       " 'n',\n",
       " '',\n",
       " 'mk',\n",
       " 'n',\n",
       " 'mnbmk&knm*&nmnkj)njbhjk_hjvbhj~jbjk5',\n",
       " 'gdfg*fdgfd-']"
      ]
     },
     "execution_count": 33,
     "metadata": {},
     "output_type": "execute_result"
    }
   ],
   "source": [
    "t"
   ]
  },
  {
   "cell_type": "markdown",
   "metadata": {},
   "source": [
    "##### 用函数的形式"
   ]
  },
  {
   "cell_type": "code",
   "execution_count": 37,
   "metadata": {
    "collapsed": false
   },
   "outputs": [
    {
     "data": {
      "text/plain": [
       "['nn2mn',\n",
       " 'k',\n",
       " 'n',\n",
       " 'mk',\n",
       " 'n',\n",
       " 'mnbmk',\n",
       " 'knm',\n",
       " 'nmnkj',\n",
       " 'njbhjk',\n",
       " 'hjvbhj',\n",
       " 'jbjk5',\n",
       " 'gdfg',\n",
       " 'fdgfd']"
      ]
     },
     "execution_count": 37,
     "metadata": {},
     "output_type": "execute_result"
    }
   ],
   "source": [
    "def mySplit(s,ds):\n",
    "    res = [s]\n",
    "    for d in ds:\n",
    "        t = []\n",
    "        map(lambda x: t.extend(x.split(d)),res)\n",
    "        res = t\n",
    "        \n",
    "    return [x for x in res if x] #过滤连续空字符串\n",
    "\n",
    "s = 'nn2mn|k@n||mk||||n%mnbmk&k\\nm*&nmnkj)njbhjk_hjvbhj~jbjk5%gdfg*fdgfd-'\n",
    "mySplit(s,\"|@%&*)_~-\")"
   ]
  },
  {
   "cell_type": "markdown",
   "metadata": {},
   "source": [
    "#### 用正则表达式"
   ]
  },
  {
   "cell_type": "code",
   "execution_count": 39,
   "metadata": {
    "collapsed": true
   },
   "outputs": [],
   "source": [
    "import re\n",
    "re.split?"
   ]
  },
  {
   "cell_type": "code",
   "execution_count": 44,
   "metadata": {
    "collapsed": false
   },
   "outputs": [
    {
     "data": {
      "text/plain": [
       "['nn2mn',\n",
       " 'k',\n",
       " 'n',\n",
       " 'mk',\n",
       " 'n',\n",
       " 'mnbmk',\n",
       " 'knm',\n",
       " 'nmnkj',\n",
       " 'njbhjk',\n",
       " 'hjvbhj',\n",
       " 'jbjk5',\n",
       " 'gdfg',\n",
       " 'fdgfd-']"
      ]
     },
     "execution_count": 44,
     "metadata": {},
     "output_type": "execute_result"
    }
   ],
   "source": [
    "re.split(r'[~!@#$%^&*()_+-+|\\\\\\[\\]\\{\\}]+',s) #这个正则表达式的意思就是[!@#$%%^&]+ 有一个或者多个特殊符号，有些可能需要转译"
   ]
  },
  {
   "cell_type": "code",
   "execution_count": 47,
   "metadata": {
    "collapsed": true
   },
   "outputs": [],
   "source": [
    "s.split?"
   ]
  },
  {
   "cell_type": "code",
   "execution_count": null,
   "metadata": {
    "collapsed": true
   },
   "outputs": [],
   "source": []
  }
 ],
 "metadata": {
  "kernelspec": {
   "display_name": "Python 2",
   "language": "python",
   "name": "python2"
  },
  "language_info": {
   "codemirror_mode": {
    "name": "ipython",
    "version": 2
   },
   "file_extension": ".py",
   "mimetype": "text/x-python",
   "name": "python",
   "nbconvert_exporter": "python",
   "pygments_lexer": "ipython2",
   "version": "2.7.11"
  }
 },
 "nbformat": 4,
 "nbformat_minor": 0
}
