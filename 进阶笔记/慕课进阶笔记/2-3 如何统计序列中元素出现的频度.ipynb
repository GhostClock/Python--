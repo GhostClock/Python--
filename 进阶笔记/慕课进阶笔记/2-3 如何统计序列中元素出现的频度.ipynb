{
 "cells": [
  {
   "cell_type": "code",
   "execution_count": 2,
   "metadata": {
    "collapsed": false
   },
   "outputs": [],
   "source": [
    "from random import randint"
   ]
  },
  {
   "cell_type": "code",
   "execution_count": 3,
   "metadata": {
    "collapsed": true
   },
   "outputs": [],
   "source": [
    "data = [randint(0,20) for _ in range(30)]"
   ]
  },
  {
   "cell_type": "code",
   "execution_count": 4,
   "metadata": {
    "collapsed": false,
    "scrolled": true
   },
   "outputs": [
    {
     "data": {
      "text/plain": [
       "[5,\n",
       " 8,\n",
       " 20,\n",
       " 11,\n",
       " 6,\n",
       " 1,\n",
       " 7,\n",
       " 7,\n",
       " 5,\n",
       " 16,\n",
       " 16,\n",
       " 11,\n",
       " 3,\n",
       " 7,\n",
       " 6,\n",
       " 9,\n",
       " 1,\n",
       " 13,\n",
       " 14,\n",
       " 16,\n",
       " 4,\n",
       " 3,\n",
       " 7,\n",
       " 13,\n",
       " 18,\n",
       " 3,\n",
       " 18,\n",
       " 17,\n",
       " 12,\n",
       " 1]"
      ]
     },
     "execution_count": 4,
     "metadata": {},
     "output_type": "execute_result"
    }
   ],
   "source": [
    "data"
   ]
  },
  {
   "cell_type": "code",
   "execution_count": 13,
   "metadata": {
    "collapsed": false
   },
   "outputs": [],
   "source": [
    "c = dict.fromkeys(data,0)"
   ]
  },
  {
   "cell_type": "code",
   "execution_count": 14,
   "metadata": {
    "collapsed": false,
    "scrolled": true
   },
   "outputs": [
    {
     "data": {
      "text/plain": [
       "{1: 0,\n",
       " 3: 0,\n",
       " 4: 0,\n",
       " 5: 0,\n",
       " 6: 0,\n",
       " 7: 0,\n",
       " 8: 0,\n",
       " 9: 0,\n",
       " 11: 0,\n",
       " 12: 0,\n",
       " 13: 0,\n",
       " 14: 0,\n",
       " 16: 0,\n",
       " 17: 0,\n",
       " 18: 0,\n",
       " 20: 0}"
      ]
     },
     "execution_count": 14,
     "metadata": {},
     "output_type": "execute_result"
    }
   ],
   "source": [
    "c"
   ]
  },
  {
   "cell_type": "code",
   "execution_count": 15,
   "metadata": {
    "collapsed": true
   },
   "outputs": [],
   "source": [
    "for x in data:\n",
    "    c[x] += 1"
   ]
  },
  {
   "cell_type": "code",
   "execution_count": 9,
   "metadata": {
    "collapsed": false
   },
   "outputs": [
    {
     "data": {
      "text/plain": [
       "{1: 3,\n",
       " 3: 3,\n",
       " 4: 1,\n",
       " 5: 2,\n",
       " 6: 2,\n",
       " 7: 4,\n",
       " 8: 1,\n",
       " 9: 1,\n",
       " 11: 2,\n",
       " 12: 1,\n",
       " 13: 2,\n",
       " 14: 1,\n",
       " 16: 3,\n",
       " 17: 1,\n",
       " 18: 2,\n",
       " 20: 1}"
      ]
     },
     "execution_count": 9,
     "metadata": {},
     "output_type": "execute_result"
    }
   ],
   "source": [
    "c"
   ]
  },
  {
   "cell_type": "code",
   "execution_count": 10,
   "metadata": {
    "collapsed": false
   },
   "outputs": [],
   "source": [
    "from collections import Counter"
   ]
  },
  {
   "cell_type": "code",
   "execution_count": 19,
   "metadata": {
    "collapsed": false
   },
   "outputs": [],
   "source": [
    "c2 = Counter(data)"
   ]
  },
  {
   "cell_type": "code",
   "execution_count": 20,
   "metadata": {
    "collapsed": false
   },
   "outputs": [
    {
     "data": {
      "text/plain": [
       "Counter({1: 3,\n",
       "         3: 3,\n",
       "         4: 1,\n",
       "         5: 2,\n",
       "         6: 2,\n",
       "         7: 4,\n",
       "         8: 1,\n",
       "         9: 1,\n",
       "         11: 2,\n",
       "         12: 1,\n",
       "         13: 2,\n",
       "         14: 1,\n",
       "         16: 3,\n",
       "         17: 1,\n",
       "         18: 2,\n",
       "         20: 1})"
      ]
     },
     "execution_count": 20,
     "metadata": {},
     "output_type": "execute_result"
    }
   ],
   "source": [
    "c2"
   ]
  },
  {
   "cell_type": "code",
   "execution_count": 21,
   "metadata": {
    "collapsed": false
   },
   "outputs": [
    {
     "data": {
      "text/plain": [
       "0"
      ]
     },
     "execution_count": 21,
     "metadata": {},
     "output_type": "execute_result"
    }
   ],
   "source": [
    "c2[2]"
   ]
  },
  {
   "cell_type": "code",
   "execution_count": 22,
   "metadata": {
    "collapsed": false
   },
   "outputs": [
    {
     "data": {
      "text/plain": [
       "1"
      ]
     },
     "execution_count": 22,
     "metadata": {},
     "output_type": "execute_result"
    }
   ],
   "source": [
    "c2[4]"
   ]
  },
  {
   "cell_type": "code",
   "execution_count": 26,
   "metadata": {
    "collapsed": false,
    "scrolled": true
   },
   "outputs": [
    {
     "data": {
      "text/plain": [
       "[(7, 4), (1, 3), (3, 3)]"
      ]
     },
     "execution_count": 26,
     "metadata": {},
     "output_type": "execute_result"
    }
   ],
   "source": [
    "c2.most_common(3) #出现次数大于3的元素"
   ]
  },
  {
   "cell_type": "markdown",
   "metadata": {},
   "source": [
    "### 获取单词词频"
   ]
  },
  {
   "cell_type": "code",
   "execution_count": 1,
   "metadata": {
    "collapsed": false
   },
   "outputs": [
    {
     "name": "stdout",
     "output_type": "stream",
     "text": [
      "The Zen of Python, by Tim Peters\n",
      "\n",
      "Beautiful is better than ugly.\n",
      "Explicit is better than implicit.\n",
      "Simple is better than complex.\n",
      "Complex is better than complicated.\n",
      "Flat is better than nested.\n",
      "Sparse is better than dense.\n",
      "Readability counts.\n",
      "Special cases aren't special enough to break the rules.\n",
      "Although practicality beats purity.\n",
      "Errors should never pass silently.\n",
      "Unless explicitly silenced.\n",
      "In the face of ambiguity, refuse the temptation to guess.\n",
      "There should be one-- and preferably only one --obvious way to do it.\n",
      "Although that way may not be obvious at first unless you're Dutch.\n",
      "Now is better than never.\n",
      "Although never is often better than *right* now.\n",
      "If the implementation is hard to explain, it's a bad idea.\n",
      "If the implementation is easy to explain, it may be a good idea.\n",
      "Namespaces are one honking great idea -- let's do more of those!\n"
     ]
    }
   ],
   "source": [
    "import this"
   ]
  },
  {
   "cell_type": "code",
   "execution_count": 2,
   "metadata": {
    "collapsed": true
   },
   "outputs": [],
   "source": [
    "import re"
   ]
  },
  {
   "cell_type": "code",
   "execution_count": 5,
   "metadata": {
    "collapsed": false
   },
   "outputs": [],
   "source": [
    "txt = open(\"python.txt\").read()"
   ]
  },
  {
   "cell_type": "code",
   "execution_count": 6,
   "metadata": {
    "collapsed": false
   },
   "outputs": [
    {
     "data": {
      "text/plain": [
       "\"The Zen of Python, by Tim Peters\\n\\nBeautiful is better than ugly.\\nExplicit is better than implicit.\\nSimple is better than complex.\\nComplex is better than complicated.\\nFlat is better than nested.\\nSparse is better than dense.\\nReadability counts.\\nSpecial cases aren't special enough to break the rules.\\nAlthough practicality beats purity.\\nErrors should never pass silently.\\nUnless explicitly silenced.\\nIn the face of ambiguity, refuse the temptation to guess.\\nThere should be one-- and preferably only one --obvious way to do it.\\nAlthough that way may not be obvious at first unless you're Dutch.\\nNow is better than never.\\nAlthough never is often better than *right* now.\\nIf the implementation is hard to explain, it's a bad idea.\\nIf the implementation is easy to explain, it may be a good idea.\\nNamespaces are one honking great idea -- let's do more of those!\""
      ]
     },
     "execution_count": 6,
     "metadata": {},
     "output_type": "execute_result"
    }
   ],
   "source": [
    "txt"
   ]
  },
  {
   "cell_type": "code",
   "execution_count": 8,
   "metadata": {
    "collapsed": false,
    "scrolled": false
   },
   "outputs": [],
   "source": [
    "c3 = re.split('\\W+',txt)"
   ]
  },
  {
   "cell_type": "code",
   "execution_count": 11,
   "metadata": {
    "collapsed": false
   },
   "outputs": [],
   "source": [
    "c4 = Counter(c3)"
   ]
  },
  {
   "cell_type": "code",
   "execution_count": 12,
   "metadata": {
    "collapsed": false,
    "scrolled": true
   },
   "outputs": [
    {
     "data": {
      "text/plain": [
       "Counter({'': 1,\n",
       "         'Although': 3,\n",
       "         'Beautiful': 1,\n",
       "         'Complex': 1,\n",
       "         'Dutch': 1,\n",
       "         'Errors': 1,\n",
       "         'Explicit': 1,\n",
       "         'Flat': 1,\n",
       "         'If': 2,\n",
       "         'In': 1,\n",
       "         'Namespaces': 1,\n",
       "         'Now': 1,\n",
       "         'Peters': 1,\n",
       "         'Python': 1,\n",
       "         'Readability': 1,\n",
       "         'Simple': 1,\n",
       "         'Sparse': 1,\n",
       "         'Special': 1,\n",
       "         'The': 1,\n",
       "         'There': 1,\n",
       "         'Tim': 1,\n",
       "         'Unless': 1,\n",
       "         'Zen': 1,\n",
       "         'a': 2,\n",
       "         'ambiguity': 1,\n",
       "         'and': 1,\n",
       "         'are': 1,\n",
       "         'aren': 1,\n",
       "         'at': 1,\n",
       "         'bad': 1,\n",
       "         'be': 3,\n",
       "         'beats': 1,\n",
       "         'better': 8,\n",
       "         'break': 1,\n",
       "         'by': 1,\n",
       "         'cases': 1,\n",
       "         'complex': 1,\n",
       "         'complicated': 1,\n",
       "         'counts': 1,\n",
       "         'dense': 1,\n",
       "         'do': 2,\n",
       "         'easy': 1,\n",
       "         'enough': 1,\n",
       "         'explain': 2,\n",
       "         'explicitly': 1,\n",
       "         'face': 1,\n",
       "         'first': 1,\n",
       "         'good': 1,\n",
       "         'great': 1,\n",
       "         'guess': 1,\n",
       "         'hard': 1,\n",
       "         'honking': 1,\n",
       "         'idea': 3,\n",
       "         'implementation': 2,\n",
       "         'implicit': 1,\n",
       "         'is': 10,\n",
       "         'it': 3,\n",
       "         'let': 1,\n",
       "         'may': 2,\n",
       "         'more': 1,\n",
       "         'nested': 1,\n",
       "         'never': 3,\n",
       "         'not': 1,\n",
       "         'now': 1,\n",
       "         'obvious': 2,\n",
       "         'of': 3,\n",
       "         'often': 1,\n",
       "         'one': 3,\n",
       "         'only': 1,\n",
       "         'pass': 1,\n",
       "         'practicality': 1,\n",
       "         'preferably': 1,\n",
       "         'purity': 1,\n",
       "         're': 1,\n",
       "         'refuse': 1,\n",
       "         'right': 1,\n",
       "         'rules': 1,\n",
       "         's': 2,\n",
       "         'should': 2,\n",
       "         'silenced': 1,\n",
       "         'silently': 1,\n",
       "         'special': 1,\n",
       "         't': 1,\n",
       "         'temptation': 1,\n",
       "         'than': 8,\n",
       "         'that': 1,\n",
       "         'the': 5,\n",
       "         'those': 1,\n",
       "         'to': 5,\n",
       "         'ugly': 1,\n",
       "         'unless': 1,\n",
       "         'way': 2,\n",
       "         'you': 1})"
      ]
     },
     "execution_count": 12,
     "metadata": {},
     "output_type": "execute_result"
    }
   ],
   "source": [
    "c4"
   ]
  },
  {
   "cell_type": "code",
   "execution_count": 13,
   "metadata": {
    "collapsed": false
   },
   "outputs": [
    {
     "data": {
      "text/plain": [
       "[('is', 10),\n",
       " ('better', 8),\n",
       " ('than', 8),\n",
       " ('to', 5),\n",
       " ('the', 5),\n",
       " ('idea', 3),\n",
       " ('be', 3),\n",
       " ('never', 3),\n",
       " ('of', 3),\n",
       " ('one', 3)]"
      ]
     },
     "execution_count": 13,
     "metadata": {},
     "output_type": "execute_result"
    }
   ],
   "source": [
    "c4.most_common(10)"
   ]
  },
  {
   "cell_type": "code",
   "execution_count": null,
   "metadata": {
    "collapsed": true
   },
   "outputs": [],
   "source": []
  }
 ],
 "metadata": {
  "kernelspec": {
   "display_name": "Python 2",
   "language": "python",
   "name": "python2"
  },
  "language_info": {
   "codemirror_mode": {
    "name": "ipython",
    "version": 2
   },
   "file_extension": ".py",
   "mimetype": "text/x-python",
   "name": "python",
   "nbconvert_exporter": "python",
   "pygments_lexer": "ipython2",
   "version": "2.7.11"
  }
 },
 "nbformat": 4,
 "nbformat_minor": 0
}
