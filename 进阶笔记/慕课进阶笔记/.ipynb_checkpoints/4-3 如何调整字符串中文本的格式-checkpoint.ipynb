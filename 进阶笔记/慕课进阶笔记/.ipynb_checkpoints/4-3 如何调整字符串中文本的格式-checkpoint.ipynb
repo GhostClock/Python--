{
 "cells": [
  {
   "cell_type": "markdown",
   "metadata": {},
   "source": [
    "### 案例\n",
    "    某软件的log文件,其中的日期格式为‘yyyy-mm-dd’\n",
    "    2017-05-23 10:56:00 stats..\n",
    "    2017-05-23 11:56:00 end..\n",
    "    \n",
    "    想把其中的日期格式改为美国的日期格式 'mm/dd/yyyy'\n",
    "    '2016-05-23' => '05/23/2016'"
   ]
  },
  {
   "cell_type": "markdown",
   "metadata": {},
   "source": [
    "### 解决方法\n",
    "#### 使用正则表达式re.sub()方法做字符串替换,利用正则表达式的捕获组,捕获每个部分的内容,在替换字符串中调整各个捕获组的顺序"
   ]
  },
  {
   "cell_type": "code",
   "execution_count": 2,
   "metadata": {
    "collapsed": false
   },
   "outputs": [],
   "source": [
    "log = open('openlog.log').read()"
   ]
  },
  {
   "cell_type": "code",
   "execution_count": 3,
   "metadata": {
    "collapsed": true
   },
   "outputs": [],
   "source": [
    "import re\n",
    "re.sub?"
   ]
  },
  {
   "cell_type": "code",
   "execution_count": 7,
   "metadata": {
    "collapsed": false,
    "scrolled": true
   },
   "outputs": [
    {
     "name": "stdout",
     "output_type": "stream",
     "text": [
      "05/21/2017 11:24:11.294867 CST - AID: 0x0000000000000000 - opendirectoryd (build 417.50.4) launched...\n",
      "05/21/2017 11:24:11.298654 CST - AID: 0x0000000000000000 - Logging level limit changed to 'error'\n",
      "05/21/2017 11:24:11.330401 CST - AID: 0x0000000000000000 - Initialize trigger support\n",
      "05/21/2017 11:24:11.364030 CST - AID: 0x0000000000000000 - Loaded bundle at path '/System/Library/OpenDirectory/Modules/SystemCache.bundle'\n",
      "05/21/2017 11:24:11.381679 CST - AID: 0x0000000000000000 - Registered node with name '/Active Directory' as hidden\n",
      "05/21/2017 11:24:11.381994 CST - AID: 0x0000000000000000 - Registered node with name '/Configure' as hidden\n",
      "05/21/2017 11:24:11.383364 CST - AID: 0x0000000000000000 - Discovered configuration for node name '/Contacts' at path '/Library/Preferences/OpenDirectory/Configurations//Contacts.plist'\n",
      "05/21/2017 11:24:11.383378 CST - AID: 0x0000000000000000 - Registered node with name '/Contacts'\n",
      "05/21/2017 11:24:11.383659 CST - AID: 0x0000000000000000 - Registered node with name '/LDAPv3' as hidden\n",
      "05/21/2017 11:24:11.388199 CST - AID: 0x0000000000000000 - Registered node with name '/Local' as hidden\n",
      "05/21/2017 11:24:11.389810 CST - AID: 0x0000000000000000 - Registered node with name '/NIS' as hidden\n",
      "05/21/2017 11:24:11.390301 CST - AID: 0x0000000000000000 - Discovered configuration for node name '/Search' at path '/Library/Preferences/OpenDirectory/Configurations//Search.plist'\n",
      "05/21/2017 11:24:11.390312 CST - AID: 0x0000000000000000 - Registered node with name '/Search'\n",
      "05/21/2017 11:24:11.394440 CST - AID: 0x0000000000000000 - Loaded bundle at path '/System/Library/OpenDirectory/Modules/legacy.bundle'\n",
      "05/21/2017 11:24:11.398608 CST - AID: 0x0000000000000000 - Loaded bundle at path '/System/Library/OpenDirectory/Modules/search.bundle'\n",
      "05/21/2017 11:24:11.402208 CST - AID: 0x0000000000000000 - '/Search' has registered, loading additional services\n",
      "05/21/2017 11:24:11.402214 CST - AID: 0x0000000000000000 - Initialize augmentation support\n",
      "05/21/2017 11:24:11.406726 CST - AID: 0x0000000000000000 - Successfully registered for Kernel identity service requests\n",
      "05/21/2017 11:24:11.406738 CST - AID: 0x0000000000000000 - Adjusting kernel ID cache (100 -> 250) and membership cache (100 -> 500)\n",
      "05/21/2017 11:24:11.460348 CST - AID: 0x0000000000000000 - Loaded bundle at path '/System/Library/OpenDirectory/Modules/PlistFile.bundle'\n",
      "05/21/2017 11:24:11.467206 CST - AID: 0x0000000000000000 - Loaded bundle at path '/System/Library/OpenDirectory/Modules/FDESupport.bundle'\n",
      "05/21/2017 11:24:11.475113 CST - AID: 0x0000000000000000 - Loaded bundle at path '/System/Library/OpenDirectory/Modules/AppleID.bundle'\n",
      "05/21/2017 11:24:11.476128 CST - AID: 0x0000000000000000 - Registered subnode with name '/Local/Default'\n",
      "05/21/2017 11:24:14.189760 CST - AID: 0x0000000000000000 - Loaded bundle at path '/System/Library/OpenDirectory/Modules/ldap.bundle'\n",
      "\n"
     ]
    }
   ],
   "source": [
    "# print re.sub('(\\d{4})-(\\d{2})-(\\d{2})',r'\\2/\\3/\\1',log) #捕获组用() 替换 做法一\n",
    "print re.sub('(?P<year>\\d{4})-(?P<month>\\d{2})-(?P<day>\\d{2})',r'\\g<month>/\\g<day>/\\g<year>',log) #做法二 ，可以给每一个捕获组去一个名字"
   ]
  },
  {
   "cell_type": "code",
   "execution_count": null,
   "metadata": {
    "collapsed": true
   },
   "outputs": [],
   "source": []
  }
 ],
 "metadata": {
  "kernelspec": {
   "display_name": "Python 2",
   "language": "python",
   "name": "python2"
  },
  "language_info": {
   "codemirror_mode": {
    "name": "ipython",
    "version": 2
   },
   "file_extension": ".py",
   "mimetype": "text/x-python",
   "name": "python",
   "nbconvert_exporter": "python",
   "pygments_lexer": "ipython2",
   "version": "2.7.11"
  }
 },
 "nbformat": 4,
 "nbformat_minor": 0
}
