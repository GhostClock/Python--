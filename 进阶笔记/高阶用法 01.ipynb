{
 "cells": [
  {
   "cell_type": "code",
   "execution_count": 7,
   "metadata": {
    "collapsed": false
   },
   "outputs": [],
   "source": [
    "l = [x for x in range(1,100) if x % 3 == 0]"
   ]
  },
  {
   "cell_type": "code",
   "execution_count": 8,
   "metadata": {
    "collapsed": false
   },
   "outputs": [
    {
     "data": {
      "text/plain": [
       "[3,\n",
       " 6,\n",
       " 9,\n",
       " 12,\n",
       " 15,\n",
       " 18,\n",
       " 21,\n",
       " 24,\n",
       " 27,\n",
       " 30,\n",
       " 33,\n",
       " 36,\n",
       " 39,\n",
       " 42,\n",
       " 45,\n",
       " 48,\n",
       " 51,\n",
       " 54,\n",
       " 57,\n",
       " 60,\n",
       " 63,\n",
       " 66,\n",
       " 69,\n",
       " 72,\n",
       " 75,\n",
       " 78,\n",
       " 81,\n",
       " 84,\n",
       " 87,\n",
       " 90,\n",
       " 93,\n",
       " 96,\n",
       " 99]"
      ]
     },
     "execution_count": 8,
     "metadata": {},
     "output_type": "execute_result"
    }
   ],
   "source": [
    "l"
   ]
  },
  {
   "cell_type": "code",
   "execution_count": 11,
   "metadata": {
    "collapsed": true
   },
   "outputs": [],
   "source": [
    "l = [x for x in range(1,100) if x % 5 == 0]"
   ]
  },
  {
   "cell_type": "code",
   "execution_count": 12,
   "metadata": {
    "collapsed": false
   },
   "outputs": [
    {
     "data": {
      "text/plain": [
       "[5, 10, 15, 20, 25, 30, 35, 40, 45, 50, 55, 60, 65, 70, 75, 80, 85, 90, 95]"
      ]
     },
     "execution_count": 12,
     "metadata": {},
     "output_type": "execute_result"
    }
   ],
   "source": [
    "l"
   ]
  },
  {
   "cell_type": "code",
   "execution_count": 16,
   "metadata": {
    "collapsed": false
   },
   "outputs": [],
   "source": [
    "s = \"foashfashfjklashfjklash\"\n",
    "ss = [s[i] for i in range(0,len(s),3)]"
   ]
  },
  {
   "cell_type": "code",
   "execution_count": 17,
   "metadata": {
    "collapsed": false
   },
   "outputs": [
    {
     "data": {
      "text/plain": [
       "['f', 's', 'a', 'f', 'l', 'h', 'k', 's']"
      ]
     },
     "execution_count": 17,
     "metadata": {},
     "output_type": "execute_result"
    }
   ],
   "source": [
    "ss"
   ]
  },
  {
   "cell_type": "code",
   "execution_count": 18,
   "metadata": {
    "collapsed": false
   },
   "outputs": [
    {
     "data": {
      "text/plain": [
       "['__class__',\n",
       " '__delattr__',\n",
       " '__doc__',\n",
       " '__enter__',\n",
       " '__exit__',\n",
       " '__format__',\n",
       " '__getattribute__',\n",
       " '__hash__',\n",
       " '__init__',\n",
       " '__iter__',\n",
       " '__new__',\n",
       " '__reduce__',\n",
       " '__reduce_ex__',\n",
       " '__repr__',\n",
       " '__setattr__',\n",
       " '__sizeof__',\n",
       " '__str__',\n",
       " '__subclasshook__',\n",
       " 'close',\n",
       " 'closed',\n",
       " 'encoding',\n",
       " 'errors',\n",
       " 'fileno',\n",
       " 'flush',\n",
       " 'isatty',\n",
       " 'mode',\n",
       " 'name',\n",
       " 'newlines',\n",
       " 'next',\n",
       " 'read',\n",
       " 'readinto',\n",
       " 'readline',\n",
       " 'readlines',\n",
       " 'seek',\n",
       " 'softspace',\n",
       " 'tell',\n",
       " 'truncate',\n",
       " 'write',\n",
       " 'writelines',\n",
       " 'xreadlines']"
      ]
     },
     "execution_count": 18,
     "metadata": {},
     "output_type": "execute_result"
    }
   ],
   "source": [
    "dir(file)"
   ]
  },
  {
   "cell_type": "code",
   "execution_count": 26,
   "metadata": {
    "collapsed": false
   },
   "outputs": [
    {
     "name": "stdout",
     "output_type": "stream",
     "text": [
      "['Test1\\n', '\\xe6\\xb5\\x8b\\xe8\\xaf\\x952\\n', '\\xe6\\xb5\\x8b\\xe8\\xaf\\x953\\n', '\\xe6\\xb5\\x8b\\xe8\\xaf\\x954\\n', '\\xe6\\xb5\\x8b\\xe8\\xaf\\x955\\n', '\\xe6\\xb5\\x8b\\xe8\\xaf\\x956']\n",
      "[]\n"
     ]
    }
   ],
   "source": [
    "f = open(\"5.16.txt\")\n",
    "print [x for x in f]\n",
    "print [x for x in f]"
   ]
  },
  {
   "cell_type": "code",
   "execution_count": 40,
   "metadata": {
    "collapsed": false
   },
   "outputs": [],
   "source": [
    "f = open(\"5.16.txt\",\"a\")\n",
    "f.write(\"\\n追加的内容\\n\")\n",
    "f.close()"
   ]
  },
  {
   "cell_type": "code",
   "execution_count": 37,
   "metadata": {
    "collapsed": false
   },
   "outputs": [
    {
     "name": "stdout",
     "output_type": "stream",
     "text": [
      "Test1\n",
      "测试2\n",
      "测试3\n",
      "测试4\n",
      "测试5\n",
      "测试6追加的内容追加的内容追加的内容追加的内容\n",
      "追加的内容\n",
      "\n",
      "123456789\n",
      "\n",
      "123456789\n",
      "\n"
     ]
    }
   ],
   "source": [
    "with open(\"5.16.txt\",\"a\") as f:\n",
    "    f.write(\"\\n123456789\\n\")\n",
    "with open(\"5.16.txt\",\"r\") as f:\n",
    "    print f.read()"
   ]
  },
  {
   "cell_type": "code",
   "execution_count": 44,
   "metadata": {
    "collapsed": false,
    "scrolled": false
   },
   "outputs": [
    {
     "data": {
      "text/plain": [
       "[0, 2, 4, 6, 8]"
      ]
     },
     "execution_count": 44,
     "metadata": {},
     "output_type": "execute_result"
    }
   ],
   "source": [
    "two = range(0,10)\n",
    "[x for x in two if x % 2 == 0 ]"
   ]
  },
  {
   "cell_type": "code",
   "execution_count": 46,
   "metadata": {
    "collapsed": false
   },
   "outputs": [
    {
     "name": "stdout",
     "output_type": "stream",
     "text": [
      "Help on built-in function zip in module __builtin__:\n",
      "\n",
      "zip(...)\n",
      "    zip(seq1 [, seq2 [...]]) -> [(seq1[0], seq2[0] ...), (...)]\n",
      "    \n",
      "    Return a list of tuples, where each tuple contains the i-th element\n",
      "    from each of the argument sequences.  The returned list is truncated\n",
      "    in length to the length of the shortest argument sequence.\n",
      "\n"
     ]
    }
   ],
   "source": [
    "help(zip)"
   ]
  },
  {
   "cell_type": "code",
   "execution_count": 47,
   "metadata": {
    "collapsed": false
   },
   "outputs": [
    {
     "data": {
      "text/plain": [
       "[('q', 'a'),\n",
       " ('w', 's'),\n",
       " ('e', 'd'),\n",
       " ('r', 'f'),\n",
       " ('t', 'g'),\n",
       " ('y', 'h'),\n",
       " ('u', 'j'),\n",
       " ('i', 'k'),\n",
       " ('o', 'l')]"
      ]
     },
     "execution_count": 47,
     "metadata": {},
     "output_type": "execute_result"
    }
   ],
   "source": [
    "a = \"qwertyuiop\"\n",
    "b = \"asdfghjkl\"\n",
    "zip(a,b)"
   ]
  },
  {
   "cell_type": "code",
   "execution_count": 48,
   "metadata": {
    "collapsed": false
   },
   "outputs": [
    {
     "data": {
      "text/plain": [
       "[(1, 7), (2, 8), (3, 9), (4, 10), (5, 11), (6, 12)]"
      ]
     },
     "execution_count": 48,
     "metadata": {},
     "output_type": "execute_result"
    }
   ],
   "source": [
    "c = [1,2,3,4,5,6]\n",
    "d = [7,8,9,10,11,12]\n",
    "zip(c,d)"
   ]
  },
  {
   "cell_type": "code",
   "execution_count": 49,
   "metadata": {
    "collapsed": false
   },
   "outputs": [
    {
     "data": {
      "text/plain": [
       "[(1, 5), (2, 6), (3, 7)]"
      ]
     },
     "execution_count": 49,
     "metadata": {},
     "output_type": "execute_result"
    }
   ],
   "source": [
    "e = (1,2,3,4)\n",
    "f = (5,6,7)\n",
    "zip(e,f)"
   ]
  },
  {
   "cell_type": "code",
   "execution_count": 52,
   "metadata": {
    "collapsed": false
   },
   "outputs": [
    {
     "data": {
      "text/plain": [
       "[('Ghost', 'lang'), ('Python', 'name')]"
      ]
     },
     "execution_count": 52,
     "metadata": {},
     "output_type": "execute_result"
    }
   ],
   "source": [
    "m = {\"name\",\"lang\"}\n",
    "n = {\"Ghost\",\"Python\"}\n",
    "zip(n,m)"
   ]
  },
  {
   "cell_type": "code",
   "execution_count": 55,
   "metadata": {
    "collapsed": false
   },
   "outputs": [
    {
     "data": {
      "text/plain": [
       "[('three', 'i'), ('two', 'k'), ('one', 'j')]"
      ]
     },
     "execution_count": 55,
     "metadata": {},
     "output_type": "execute_result"
    }
   ],
   "source": [
    "x = {\"one\":1,\"two\":2,\"three\":3}\n",
    "y = {\"i\":11,\"j\":22,\"k\":33}\n",
    "zip(x,y)"
   ]
  },
  {
   "cell_type": "code",
   "execution_count": 60,
   "metadata": {
    "collapsed": true
   },
   "outputs": [],
   "source": [
    "list1 = range(2,10,2)\n",
    "list2 = range(11,20,2)"
   ]
  },
  {
   "cell_type": "code",
   "execution_count": 63,
   "metadata": {
    "collapsed": false
   },
   "outputs": [
    {
     "name": "stdout",
     "output_type": "stream",
     "text": [
      "[13, 17, 21, 25]\n"
     ]
    }
   ],
   "source": [
    "result = [list1[i] + list2[i] for i in range(len(list1))]\n",
    "print result"
   ]
  },
  {
   "cell_type": "code",
   "execution_count": 64,
   "metadata": {
    "collapsed": false
   },
   "outputs": [
    {
     "name": "stdout",
     "output_type": "stream",
     "text": [
      "13\n",
      "17\n",
      "21\n",
      "25\n"
     ]
    }
   ],
   "source": [
    "for a,b in zip(list1,list2):\n",
    "    print a + b"
   ]
  },
  {
   "cell_type": "code",
   "execution_count": 66,
   "metadata": {
    "collapsed": false
   },
   "outputs": [
    {
     "name": "stdout",
     "output_type": "stream",
     "text": [
      "[(2, 11), (4, 13), (6, 15), (8, 17)]\n"
     ]
    }
   ],
   "source": [
    "result = zip(list1,list2)\n",
    "print result"
   ]
  },
  {
   "cell_type": "code",
   "execution_count": 69,
   "metadata": {
    "collapsed": false
   },
   "outputs": [
    {
     "data": {
      "text/plain": [
       "[(2, 4, 6, 8), (11, 13, 15, 17)]"
      ]
     },
     "execution_count": 69,
     "metadata": {},
     "output_type": "execute_result"
    }
   ],
   "source": [
    "zip(*result)"
   ]
  },
  {
   "cell_type": "code",
   "execution_count": 71,
   "metadata": {
    "collapsed": false
   },
   "outputs": [
    {
     "name": "stdout",
     "output_type": "stream",
     "text": [
      "(2, 4, 6, 8)\n",
      "(11, 13, 15, 17)\n"
     ]
    }
   ],
   "source": [
    "for i in zip(*result):\n",
    "     print i"
   ]
  },
  {
   "cell_type": "code",
   "execution_count": 72,
   "metadata": {
    "collapsed": true
   },
   "outputs": [],
   "source": [
    "s = [x**2 for x in range(1,10)]"
   ]
  },
  {
   "cell_type": "code",
   "execution_count": 73,
   "metadata": {
    "collapsed": false
   },
   "outputs": [
    {
     "data": {
      "text/plain": [
       "[1, 4, 9, 16, 25, 36, 49, 64, 81]"
      ]
     },
     "execution_count": 73,
     "metadata": {},
     "output_type": "execute_result"
    }
   ],
   "source": [
    "s"
   ]
  },
  {
   "cell_type": "code",
   "execution_count": 78,
   "metadata": {
    "collapsed": true
   },
   "outputs": [],
   "source": [
    "string = ['  google','Apple ','IBM MS         ']"
   ]
  },
  {
   "cell_type": "code",
   "execution_count": 77,
   "metadata": {
    "collapsed": false
   },
   "outputs": [
    {
     "data": {
      "text/plain": [
       "['google', 'Apple', 'IBM MS']"
      ]
     },
     "execution_count": 77,
     "metadata": {},
     "output_type": "execute_result"
    }
   ],
   "source": [
    "[one.strip() for one in string]"
   ]
  },
  {
   "cell_type": "code",
   "execution_count": 79,
   "metadata": {
    "collapsed": true
   },
   "outputs": [],
   "source": [
    "week = [\"Mo\",\"Sun\",\"Fri\"]"
   ]
  },
  {
   "cell_type": "code",
   "execution_count": 80,
   "metadata": {
    "collapsed": false
   },
   "outputs": [
    {
     "name": "stdout",
     "output_type": "stream",
     "text": [
      "Mo:0\n",
      "Sun:1\n",
      "Fri:2\n"
     ]
    }
   ],
   "source": [
    "for i in range(len(week)):\n",
    "    print week[i] + \":\" + str(i)"
   ]
  },
  {
   "cell_type": "code",
   "execution_count": 82,
   "metadata": {
    "collapsed": false
   },
   "outputs": [
    {
     "name": "stdout",
     "output_type": "stream",
     "text": [
      "0:Mo\n",
      "1:Sun\n",
      "2:Fri\n"
     ]
    }
   ],
   "source": [
    "for (i,day) in enumerate(week):\n",
    "    print str(i) + \":\" + day"
   ]
  },
  {
   "cell_type": "markdown",
   "metadata": {},
   "source": [
    "# lambad"
   ]
  },
  {
   "cell_type": "code",
   "execution_count": 84,
   "metadata": {
    "collapsed": false
   },
   "outputs": [],
   "source": [
    "ls = range(0,10)"
   ]
  },
  {
   "cell_type": "code",
   "execution_count": 85,
   "metadata": {
    "collapsed": true
   },
   "outputs": [],
   "source": [
    "lam = lambda x:x + 3"
   ]
  },
  {
   "cell_type": "code",
   "execution_count": 86,
   "metadata": {
    "collapsed": true
   },
   "outputs": [],
   "source": [
    "lss = []"
   ]
  },
  {
   "cell_type": "code",
   "execution_count": 87,
   "metadata": {
    "collapsed": true
   },
   "outputs": [],
   "source": [
    "for i in ls:\n",
    "    lss.append(lam(i))"
   ]
  },
  {
   "cell_type": "code",
   "execution_count": 88,
   "metadata": {
    "collapsed": false
   },
   "outputs": [
    {
     "data": {
      "text/plain": [
       "[3, 4, 5, 6, 7, 8, 9, 10, 11, 12]"
      ]
     },
     "execution_count": 88,
     "metadata": {},
     "output_type": "execute_result"
    }
   ],
   "source": [
    "lss"
   ]
  },
  {
   "cell_type": "code",
   "execution_count": 89,
   "metadata": {
    "collapsed": true
   },
   "outputs": [],
   "source": [
    "lam = [lambda x,y:x + y ,lambda x,y:x - y,lambda x,y:x * y,lambda x,y:x / y]"
   ]
  },
  {
   "cell_type": "code",
   "execution_count": 95,
   "metadata": {
    "collapsed": false,
    "scrolled": true
   },
   "outputs": [
    {
     "name": "stdout",
     "output_type": "stream",
     "text": [
      " 16 -4 60 0\n"
     ]
    }
   ],
   "source": [
    "for i in lam:\n",
    "    print i(6,10),"
   ]
  },
  {
   "cell_type": "markdown",
   "metadata": {},
   "source": [
    "# map"
   ]
  },
  {
   "cell_type": "code",
   "execution_count": 98,
   "metadata": {
    "collapsed": false
   },
   "outputs": [],
   "source": [
    "item = range(0,5)"
   ]
  },
  {
   "cell_type": "code",
   "execution_count": 99,
   "metadata": {
    "collapsed": false
   },
   "outputs": [
    {
     "data": {
      "text/plain": [
       "[0, 1, 2, 3, 4]"
      ]
     },
     "execution_count": 99,
     "metadata": {},
     "output_type": "execute_result"
    }
   ],
   "source": [
    "item"
   ]
  },
  {
   "cell_type": "code",
   "execution_count": 100,
   "metadata": {
    "collapsed": true
   },
   "outputs": [],
   "source": [
    "def sqr(x):return x**2"
   ]
  },
  {
   "cell_type": "code",
   "execution_count": 101,
   "metadata": {
    "collapsed": false
   },
   "outputs": [
    {
     "data": {
      "text/plain": [
       "[0, 1, 4, 9, 16]"
      ]
     },
     "execution_count": 101,
     "metadata": {},
     "output_type": "execute_result"
    }
   ],
   "source": [
    "map(sqr,item)"
   ]
  },
  {
   "cell_type": "code",
   "execution_count": 102,
   "metadata": {
    "collapsed": false
   },
   "outputs": [
    {
     "data": {
      "text/plain": [
       "[0, 1, 4, 9, 16]"
      ]
     },
     "execution_count": 102,
     "metadata": {},
     "output_type": "execute_result"
    }
   ],
   "source": [
    "map(lambda x:x**2,item)"
   ]
  },
  {
   "cell_type": "code",
   "execution_count": 104,
   "metadata": {
    "collapsed": false
   },
   "outputs": [
    {
     "data": {
      "text/plain": [
       "[0, 1, 4, 9, 16]"
      ]
     },
     "execution_count": 104,
     "metadata": {},
     "output_type": "execute_result"
    }
   ],
   "source": [
    "[x**2 for x in item]"
   ]
  },
  {
   "cell_type": "code",
   "execution_count": 113,
   "metadata": {
    "collapsed": true
   },
   "outputs": [],
   "source": [
    "l1 = [1,2,3,4,5,6]\n",
    "l2 = [6,5,4,3,2,1]\n",
    "l3 = [9,8,7,6,5,4]"
   ]
  },
  {
   "cell_type": "code",
   "execution_count": 115,
   "metadata": {
    "collapsed": false
   },
   "outputs": [
    {
     "data": {
      "text/plain": [
       "[-2, -1, 0, 1, 2, 3]"
      ]
     },
     "execution_count": 115,
     "metadata": {},
     "output_type": "execute_result"
    }
   ],
   "source": [
    "map(lambda x,y,z:x+y-z, l1,l2,l3)"
   ]
  },
  {
   "cell_type": "markdown",
   "metadata": {},
   "source": [
    "# reduce"
   ]
  },
  {
   "cell_type": "code",
   "execution_count": 116,
   "metadata": {
    "collapsed": false
   },
   "outputs": [
    {
     "data": {
      "text/plain": [
       "6"
      ]
     },
     "execution_count": 116,
     "metadata": {},
     "output_type": "execute_result"
    }
   ],
   "source": [
    "reduce(lambda x,y:x + y, [1,2,3])"
   ]
  },
  {
   "cell_type": "code",
   "execution_count": 117,
   "metadata": {
    "collapsed": true
   },
   "outputs": [],
   "source": [
    "a = [3,9,8,5,2]\n",
    "b = [1,4,9,2,6]"
   ]
  },
  {
   "cell_type": "code",
   "execution_count": 118,
   "metadata": {
    "collapsed": false
   },
   "outputs": [
    {
     "data": {
      "text/plain": [
       "[(3, 1), (9, 4), (8, 9), (5, 2), (2, 6)]"
      ]
     },
     "execution_count": 118,
     "metadata": {},
     "output_type": "execute_result"
    }
   ],
   "source": [
    "zip(a,b)"
   ]
  },
  {
   "cell_type": "code",
   "execution_count": 121,
   "metadata": {
    "collapsed": false
   },
   "outputs": [
    {
     "data": {
      "text/plain": [
       "133"
      ]
     },
     "execution_count": 121,
     "metadata": {},
     "output_type": "execute_result"
    }
   ],
   "source": [
    "sum(x*y for x,y in zip(a,b))"
   ]
  },
  {
   "cell_type": "code",
   "execution_count": 122,
   "metadata": {
    "collapsed": false
   },
   "outputs": [
    {
     "data": {
      "text/plain": [
       "133"
      ]
     },
     "execution_count": 122,
     "metadata": {},
     "output_type": "execute_result"
    }
   ],
   "source": [
    "reduce(lambda sum,(x,y):sum + x*y,zip(a,b),0)"
   ]
  },
  {
   "cell_type": "code",
   "execution_count": 123,
   "metadata": {
    "collapsed": false
   },
   "outputs": [
    {
     "data": {
      "text/plain": [
       "133"
      ]
     },
     "execution_count": 123,
     "metadata": {},
     "output_type": "execute_result"
    }
   ],
   "source": [
    "reduce(lambda x,y:x + y, map(lambda x,y:x*y, a,b))"
   ]
  },
  {
   "cell_type": "markdown",
   "metadata": {},
   "source": [
    "# 文档"
   ]
  },
  {
   "cell_type": "code",
   "execution_count": 126,
   "metadata": {
    "collapsed": true
   },
   "outputs": [],
   "source": [
    "def add(x,y):\n",
    "    \"\"\"这是一个运行加法的函数\"\"\"\n",
    "    print x + y"
   ]
  },
  {
   "cell_type": "code",
   "execution_count": 129,
   "metadata": {
    "collapsed": false
   },
   "outputs": [
    {
     "name": "stdout",
     "output_type": "stream",
     "text": [
      "3\n"
     ]
    }
   ],
   "source": [
    "add(1,2)"
   ]
  },
  {
   "cell_type": "code",
   "execution_count": 130,
   "metadata": {
    "collapsed": false
   },
   "outputs": [
    {
     "name": "stdout",
     "output_type": "stream",
     "text": [
      "这是一个运行加法的函数\n"
     ]
    }
   ],
   "source": [
    "print add.__doc__"
   ]
  },
  {
   "cell_type": "code",
   "execution_count": 131,
   "metadata": {
    "collapsed": false,
    "scrolled": true
   },
   "outputs": [
    {
     "name": "stdout",
     "output_type": "stream",
     "text": [
      "Help on function add in module __main__:\n",
      "\n",
      "add(x, y)\n",
      "    这是一个运行加法的函数\n",
      "\n"
     ]
    }
   ],
   "source": [
    "help(add)"
   ]
  },
  {
   "cell_type": "markdown",
   "metadata": {},
   "source": [
    "# 自省"
   ]
  },
  {
   "cell_type": "code",
   "execution_count": null,
   "metadata": {
    "collapsed": false,
    "scrolled": true
   },
   "outputs": [
    {
     "name": "stdout",
     "output_type": "stream",
     "text": [
      "\n",
      "Welcome to Python 2.7!  This is the online help utility.\n",
      "\n",
      "If this is your first time using Python, you should definitely check out\n",
      "the tutorial on the Internet at http://docs.python.org/2.7/tutorial/.\n",
      "\n",
      "Enter the name of any module, keyword, or topic to get help on writing\n",
      "Python programs and using Python modules.  To quit this help utility and\n",
      "return to the interpreter, just type \"quit\".\n",
      "\n",
      "To get a list of available modules, keywords, or topics, type \"modules\",\n",
      "\"keywords\", or \"topics\".  Each module also comes with a one-line summary\n",
      "of what it does; to list the modules whose summaries contain a given word\n",
      "such as \"spam\", type \"modules spam\".\n",
      "\n",
      "help> moudules\n",
      "no Python documentation found for 'moudules'\n",
      "\n",
      "help> modules\n",
      "\n",
      "Please wait a moment while I gather a list of all available modules...\n",
      "\n"
     ]
    },
    {
     "name": "stderr",
     "output_type": "stream",
     "text": [
      "/Users/mac/anaconda/lib/python2.7/site-packages/IPython/kernel/__init__.py:13: ShimWarning: The `IPython.kernel` package has been deprecated. You should import from ipykernel or jupyter_client instead.\n",
      "  \"You should import from ipykernel or jupyter_client instead.\", ShimWarning)\n",
      "/Users/mac/anaconda/lib/python2.7/site-packages/blaze/server/server.py:17: ExtDeprecationWarning: Importing flask.ext.cors is deprecated, use flask_cors instead.\n",
      "  from flask.ext.cors import cross_origin\n",
      "/Users/mac/anaconda/lib/python2.7/site-packages/matplotlib/cbook.py:136: MatplotlibDeprecationWarning: The matplotlib.delaunay module was deprecated in version 1.4. Use matplotlib.tri.Triangulation instead.\n",
      "  warnings.warn(message, mplDeprecation, stacklevel=1)\n",
      "/Users/mac/anaconda/lib/python2.7/site-packages/nltk/twitter/__init__.py:20: UserWarning: The twython library has not been installed. Some functionality from the twitter package will not be available.\n",
      "  warnings.warn(\"The twython library has not been installed. \"\n",
      "/Users/mac/anaconda/lib/python2.7/pkgutil.py:110: FutureWarning: The pandas.rpy module is deprecated and will be removed in a future version. We refer to external packages like rpy2. \n",
      "See here for a guide on how to port your code to rpy2: http://pandas.pydata.org/pandas-docs/stable/r_interface.html\n",
      "  __import__(name)\n",
      "/Users/mac/anaconda/lib/python2.7/site-packages/skimage/filter/__init__.py:6: skimage_deprecation: The `skimage.filter` module has been renamed to `skimage.filters`.  This placeholder module will be removed in v0.13.\n",
      "  warn(skimage_deprecation('The `skimage.filter` module has been renamed '\n",
      "/Users/mac/anaconda/lib/python2.7/site-packages/skimage/viewer/utils/core.py:10: UserWarning: Recommended matplotlib backend is `Agg` for full skimage.viewer functionality.\n",
      "  warn(\"Recommended matplotlib backend is `Agg` for full \"\n"
     ]
    }
   ],
   "source": [
    "help()"
   ]
  },
  {
   "cell_type": "code",
   "execution_count": 3,
   "metadata": {
    "collapsed": true
   },
   "outputs": [],
   "source": [
    "import sys"
   ]
  },
  {
   "cell_type": "code",
   "execution_count": 2,
   "metadata": {
    "collapsed": false
   },
   "outputs": [
    {
     "data": {
      "text/plain": [
       "'/Users/mac/anaconda/bin/python'"
      ]
     },
     "execution_count": 2,
     "metadata": {},
     "output_type": "execute_result"
    }
   ],
   "source": [
    "sys.executable"
   ]
  },
  {
   "cell_type": "code",
   "execution_count": 3,
   "metadata": {
    "collapsed": false
   },
   "outputs": [
    {
     "data": {
      "text/plain": [
       "'2.7.13 |Anaconda 4.3.1 (x86_64)| (default, Dec 20 2016, 23:05:08) \\n[GCC 4.2.1 Compatible Apple LLVM 6.0 (clang-600.0.57)]'"
      ]
     },
     "execution_count": 3,
     "metadata": {},
     "output_type": "execute_result"
    }
   ],
   "source": [
    "sys.version"
   ]
  },
  {
   "cell_type": "code",
   "execution_count": 5,
   "metadata": {
    "collapsed": false
   },
   "outputs": [
    {
     "data": {
      "text/plain": [
       "sys.version_info(major=2, minor=7, micro=13, releaselevel='final', serial=0)"
      ]
     },
     "execution_count": 5,
     "metadata": {},
     "output_type": "execute_result"
    }
   ],
   "source": [
    "sys.version_info"
   ]
  },
  {
   "cell_type": "code",
   "execution_count": 4,
   "metadata": {
    "collapsed": false
   },
   "outputs": [
    {
     "data": {
      "text/plain": [
       "'darwin'"
      ]
     },
     "execution_count": 4,
     "metadata": {},
     "output_type": "execute_result"
    }
   ],
   "source": [
    "sys.platform"
   ]
  },
  {
   "cell_type": "code",
   "execution_count": 6,
   "metadata": {
    "collapsed": false
   },
   "outputs": [
    {
     "data": {
      "text/plain": [
       "9223372036854775807"
      ]
     },
     "execution_count": 6,
     "metadata": {},
     "output_type": "execute_result"
    }
   ],
   "source": [
    "sys.maxint"
   ]
  },
  {
   "cell_type": "code",
   "execution_count": 7,
   "metadata": {
    "collapsed": false
   },
   "outputs": [
    {
     "data": {
      "text/plain": [
       "'/Users/mac/anaconda/lib/python2.7/site-packages/ipykernel/__main__.py'"
      ]
     },
     "execution_count": 7,
     "metadata": {},
     "output_type": "execute_result"
    }
   ],
   "source": [
    "sys.argv[0]"
   ]
  },
  {
   "cell_type": "code",
   "execution_count": 8,
   "metadata": {
    "collapsed": false
   },
   "outputs": [
    {
     "data": {
      "text/plain": [
       "['',\n",
       " '/Users/mac/anaconda/lib/python27.zip',\n",
       " '/Users/mac/anaconda/lib/python2.7',\n",
       " '/Users/mac/anaconda/lib/python2.7/plat-darwin',\n",
       " '/Users/mac/anaconda/lib/python2.7/plat-mac',\n",
       " '/Users/mac/anaconda/lib/python2.7/plat-mac/lib-scriptpackages',\n",
       " '/Users/mac/anaconda/lib/python2.7/lib-tk',\n",
       " '/Users/mac/anaconda/lib/python2.7/lib-old',\n",
       " '/Users/mac/anaconda/lib/python2.7/lib-dynload',\n",
       " '/Users/mac/anaconda/lib/python2.7/site-packages',\n",
       " '/Users/mac/anaconda/lib/python2.7/site-packages/Sphinx-1.5.1-py2.7.egg',\n",
       " '/Users/mac/anaconda/lib/python2.7/site-packages/aeosa',\n",
       " '/Users/mac/anaconda/lib/python2.7/site-packages/MySQL_python-1.2.4-py2.7-macosx-10.7-x86_64.egg',\n",
       " '/Users/mac/anaconda/lib/python2.7/site-packages/Django-1.11.1-py2.7.egg',\n",
       " '/Users/mac/anaconda/lib/python2.7/site-packages/setuptools-27.2.0-py2.7.egg',\n",
       " '/Users/mac/anaconda/lib/python2.7/site-packages/IPython/extensions',\n",
       " '/Users/mac/.ipython']"
      ]
     },
     "execution_count": 8,
     "metadata": {},
     "output_type": "execute_result"
    }
   ],
   "source": [
    "sys.path"
   ]
  },
  {
   "cell_type": "code",
   "execution_count": 9,
   "metadata": {
    "collapsed": false,
    "scrolled": true
   },
   "outputs": [
    {
     "data": {
      "text/plain": [
       "{'email.MIMEAudio': <email.LazyImporter at 0x1017b9250>,\n",
       " 'IPython.core.error': <module 'IPython.core.error' from '/Users/mac/anaconda/lib/python2.7/site-packages/IPython/core/error.pyc'>,\n",
       " 'ipython_genutils.py3compat': <module 'ipython_genutils.py3compat' from '/Users/mac/anaconda/lib/python2.7/site-packages/ipython_genutils/py3compat.pyc'>,\n",
       " 'traitlets.config.sys': None,\n",
       " 'ipykernel.parentpoller': <module 'ipykernel.parentpoller' from '/Users/mac/anaconda/lib/python2.7/site-packages/ipykernel/parentpoller.pyc'>,\n",
       " 'traitlets.config.decorator': None,\n",
       " 'ctypes.os': None,\n",
       " 'pexpect.select': None,\n",
       " 'runpy': <module 'runpy' from '/Users/mac/anaconda/lib/python2.7/runpy.pyc'>,\n",
       " 'gc': <module 'gc' (built-in)>,\n",
       " 'pty': <module 'pty' from '/Users/mac/anaconda/lib/python2.7/pty.pyc'>,\n",
       " 'prompt_toolkit.terminal.vt100_output': <module 'prompt_toolkit.terminal.vt100_output' from '/Users/mac/anaconda/lib/python2.7/site-packages/prompt_toolkit/terminal/vt100_output.pyc'>,\n",
       " 'pkg_resources._vendor.traceback': None,\n",
       " 'prompt_toolkit.key_binding.six': None,\n",
       " 'pygments.filters': <module 'pygments.filters' from '/Users/mac/anaconda/lib/python2.7/site-packages/pygments/filters/__init__.pyc'>,\n",
       " 'IPython.utils.pprint': None,\n",
       " 'jupyter_client.blocking.channels': <module 'jupyter_client.blocking.channels' from '/Users/mac/anaconda/lib/python2.7/site-packages/jupyter_client/blocking/channels.pyc'>,\n",
       " 'IPython.core.argparse': None,\n",
       " 'logging.weakref': None,\n",
       " 'traitlets.traitlets': <module 'traitlets.traitlets' from '/Users/mac/anaconda/lib/python2.7/site-packages/traitlets/traitlets.pyc'>,\n",
       " 'pprint': <module 'pprint' from '/Users/mac/anaconda/lib/python2.7/pprint.pyc'>,\n",
       " 'prompt_toolkit.key_binding.manager': <module 'prompt_toolkit.key_binding.manager' from '/Users/mac/anaconda/lib/python2.7/site-packages/prompt_toolkit/key_binding/manager.pyc'>,\n",
       " 'IPython.utils.simplegeneric': None,\n",
       " 'prompt_toolkit.key_binding.bindings.vi': <module 'prompt_toolkit.key_binding.bindings.vi' from '/Users/mac/anaconda/lib/python2.7/site-packages/prompt_toolkit/key_binding/bindings/vi.pyc'>,\n",
       " 'ipykernel.traitlets': None,\n",
       " 'IPython.core.magics.display': <module 'IPython.core.magics.display' from '/Users/mac/anaconda/lib/python2.7/site-packages/IPython/core/magics/display.pyc'>,\n",
       " 'timeit': <module 'timeit' from '/Users/mac/anaconda/lib/python2.7/timeit.pyc'>,\n",
       " 'IPython.core.magics.traitlets': None,\n",
       " 'IPython.terminal.sys': None,\n",
       " 'string': <module 'string' from '/Users/mac/anaconda/lib/python2.7/string.pyc'>,\n",
       " 'pexpect.utils': <module 'pexpect.utils' from '/Users/mac/anaconda/lib/python2.7/site-packages/pexpect/utils.pyc'>,\n",
       " 'prompt_toolkit.layout.six': None,\n",
       " 'multiprocessing.threading': None,\n",
       " 'IPython.utils.timing': <module 'IPython.utils.timing' from '/Users/mac/anaconda/lib/python2.7/site-packages/IPython/utils/timing.pyc'>,\n",
       " 'encodings.utf_8': <module 'encodings.utf_8' from '/Users/mac/anaconda/lib/python2.7/encodings/utf_8.pyc'>,\n",
       " 'email.quoprimime': <module 'email.quoprimime' from '/Users/mac/anaconda/lib/python2.7/email/quoprimime.pyc'>,\n",
       " 'json.encoder': <module 'json.encoder' from '/Users/mac/anaconda/lib/python2.7/json/encoder.pyc'>,\n",
       " 'datetime': <module 'datetime' from '/Users/mac/anaconda/lib/python2.7/lib-dynload/datetime.so'>,\n",
       " 'IPython.core.magics.extension': <module 'IPython.core.magics.extension' from '/Users/mac/anaconda/lib/python2.7/site-packages/IPython/core/magics/extension.pyc'>,\n",
       " 'zmq.backend.cython.utils': <module 'zmq.backend.cython.utils' from '/Users/mac/anaconda/lib/python2.7/site-packages/zmq/backend/cython/utils.so'>,\n",
       " 'traitlets.six': None,\n",
       " 'ipython_genutils': <module 'ipython_genutils' from '/Users/mac/anaconda/lib/python2.7/site-packages/ipython_genutils/__init__.pyc'>,\n",
       " 'prompt_toolkit.eventloop.abc': None,\n",
       " 'array': <module 'array' from '/Users/mac/anaconda/lib/python2.7/lib-dynload/array.so'>,\n",
       " 'cmd': <module 'cmd' from '/Users/mac/anaconda/lib/python2.7/cmd.pyc'>,\n",
       " 'IPython.core.debugger': <module 'IPython.core.debugger' from '/Users/mac/anaconda/lib/python2.7/site-packages/IPython/core/debugger.pyc'>,\n",
       " 'concurrent.futures.collections': None,\n",
       " 'IPython.core.displayhook': <module 'IPython.core.displayhook' from '/Users/mac/anaconda/lib/python2.7/site-packages/IPython/core/displayhook.pyc'>,\n",
       " 'zmq.eventloop.Queue': None,\n",
       " 'IPython.lib.IPython': None,\n",
       " 'pygments.lexers.pygments': None,\n",
       " 'prompt_toolkit.styles.prompt_toolkit': None,\n",
       " 'shlex': <module 'shlex' from '/Users/mac/anaconda/lib/python2.7/shlex.pyc'>,\n",
       " 'zmq.backend.cython.zmq': None,\n",
       " 'IPython.core.ultratb': <module 'IPython.core.ultratb' from '/Users/mac/anaconda/lib/python2.7/site-packages/IPython/core/ultratb.pyc'>,\n",
       " 'prompt_toolkit.key_binding.vi_state': <module 'prompt_toolkit.key_binding.vi_state' from '/Users/mac/anaconda/lib/python2.7/site-packages/prompt_toolkit/key_binding/vi_state.pyc'>,\n",
       " 'ipywidgets.widgets.widget_bool': <module 'ipywidgets.widgets.widget_bool' from '/Users/mac/anaconda/lib/python2.7/site-packages/ipywidgets/widgets/widget_bool.pyc'>,\n",
       " 'prompt_toolkit.clipboard': <module 'prompt_toolkit.clipboard' from '/Users/mac/anaconda/lib/python2.7/site-packages/prompt_toolkit/clipboard/__init__.pyc'>,\n",
       " 'IPython.utils.resource': None,\n",
       " 'dis': <module 'dis' from '/Users/mac/anaconda/lib/python2.7/dis.pyc'>,\n",
       " 'prompt_toolkit.filters.utils': <module 'prompt_toolkit.filters.utils' from '/Users/mac/anaconda/lib/python2.7/site-packages/prompt_toolkit/filters/utils.pyc'>,\n",
       " 'logging.threading': None,\n",
       " 'IPython.core.splitinput': <module 'IPython.core.splitinput' from '/Users/mac/anaconda/lib/python2.7/site-packages/IPython/core/splitinput.pyc'>,\n",
       " 'IPython.lib.types': None,\n",
       " 'pkg_resources._vendor.pprint': None,\n",
       " 'ipywidgets.widgets.domwidget': <module 'ipywidgets.widgets.domwidget' from '/Users/mac/anaconda/lib/python2.7/site-packages/ipywidgets/widgets/domwidget.pyc'>,\n",
       " 'pexpect.spawnbase': <module 'pexpect.spawnbase' from '/Users/mac/anaconda/lib/python2.7/site-packages/pexpect/spawnbase.pyc'>,\n",
       " 'prompt_toolkit.__future__': None,\n",
       " 'IPython.terminal.unicodedata': None,\n",
       " 'IPython.core.excolors': <module 'IPython.core.excolors' from '/Users/mac/anaconda/lib/python2.7/site-packages/IPython/core/excolors.pyc'>,\n",
       " 'jupyter_core.paths': <module 'jupyter_core.paths' from '/Users/mac/anaconda/lib/python2.7/site-packages/jupyter_core/paths.pyc'>,\n",
       " 'ptyprocess.termios': None,\n",
       " 'IPython.utils.tempfile': None,\n",
       " 'prompt_toolkit.layout.screen': <module 'prompt_toolkit.layout.screen' from '/Users/mac/anaconda/lib/python2.7/site-packages/prompt_toolkit/layout/screen.pyc'>,\n",
       " 'IPython.core.inspect': None,\n",
       " 'IPython.lib.getpass': None,\n",
       " 'abc': <module 'abc' from '/Users/mac/anaconda/lib/python2.7/abc.pyc'>,\n",
       " 'IPython.core.displaypub': <module 'IPython.core.displaypub' from '/Users/mac/anaconda/lib/python2.7/site-packages/IPython/core/displaypub.pyc'>,\n",
       " 'IPython.utils._tokenize_py2': <module 'IPython.utils._tokenize_py2' from '/Users/mac/anaconda/lib/python2.7/site-packages/IPython/utils/_tokenize_py2.pyc'>,\n",
       " 'bdb': <module 'bdb' from '/Users/mac/anaconda/lib/python2.7/bdb.pyc'>,\n",
       " 'ast': <module 'ast' from '/Users/mac/anaconda/lib/python2.7/ast.pyc'>,\n",
       " 'ptyprocess': <module 'ptyprocess' from '/Users/mac/anaconda/lib/python2.7/site-packages/ptyprocess/__init__.pyc'>,\n",
       " 'IPython.core.mimetypes': None,\n",
       " 'traitlets.os': None,\n",
       " 'jupyter_client.blocking.client': <module 'jupyter_client.blocking.client' from '/Users/mac/anaconda/lib/python2.7/site-packages/jupyter_client/blocking/client.pyc'>,\n",
       " 'IPython.utils.io': <module 'IPython.utils.io' from '/Users/mac/anaconda/lib/python2.7/site-packages/IPython/utils/io.pyc'>,\n",
       " 'ntpath': <module 'ntpath' from '/Users/mac/anaconda/lib/python2.7/ntpath.pyc'>,\n",
       " 'IPython.terminal.__future__': None,\n",
       " 'zmq.sugar.warnings': None,\n",
       " 'jupyter_client.adapter': <module 'jupyter_client.adapter' from '/Users/mac/anaconda/lib/python2.7/site-packages/jupyter_client/adapter.pyc'>,\n",
       " 'encodings.aliases': <module 'encodings.aliases' from '/Users/mac/anaconda/lib/python2.7/encodings/aliases.pyc'>,\n",
       " 'IPython.utils.openpy': <module 'IPython.utils.openpy' from '/Users/mac/anaconda/lib/python2.7/site-packages/IPython/utils/openpy.pyc'>,\n",
       " 'IPython.core.alias': <module 'IPython.core.alias' from '/Users/mac/anaconda/lib/python2.7/site-packages/IPython/core/alias.pyc'>,\n",
       " 'inspect': <module 'inspect' from '/Users/mac/anaconda/lib/python2.7/inspect.pyc'>,\n",
       " 'ipykernel.warnings': None,\n",
       " 'IPython.core.datetime': None,\n",
       " 'IPython.terminal.pygments': None,\n",
       " 'prompt_toolkit.terminal': <module 'prompt_toolkit.terminal' from '/Users/mac/anaconda/lib/python2.7/site-packages/prompt_toolkit/terminal/__init__.pyc'>,\n",
       " 'ipython_genutils.re': None,\n",
       " '_ctypes': <module '_ctypes' from '/Users/mac/anaconda/lib/python2.7/lib-dynload/_ctypes.so'>,\n",
       " 'glob': <module 'glob' from '/Users/mac/anaconda/lib/python2.7/glob.pyc'>,\n",
       " 'fnmatch': <module 'fnmatch' from '/Users/mac/anaconda/lib/python2.7/fnmatch.pyc'>,\n",
       " 'json.scanner': <module 'json.scanner' from '/Users/mac/anaconda/lib/python2.7/json/scanner.pyc'>,\n",
       " 'concurrent.futures.itertools': None,\n",
       " 'jupyter_client.hmac': None,\n",
       " 'codecs': <module 'codecs' from '/Users/mac/anaconda/lib/python2.7/codecs.pyc'>,\n",
       " 'ipykernel.re': None,\n",
       " 'prompt_toolkit.clipboard.six': None,\n",
       " 'IPython.core.shadowns': <module 'IPython.core.shadowns' from '/Users/mac/anaconda/lib/python2.7/site-packages/IPython/core/shadowns.pyc'>,\n",
       " 'traitlets.config.loader': <module 'traitlets.config.loader' from '/Users/mac/anaconda/lib/python2.7/site-packages/traitlets/config/loader.pyc'>,\n",
       " 'pexpect.run': <module 'pexpect.run' from '/Users/mac/anaconda/lib/python2.7/site-packages/pexpect/run.pyc'>,\n",
       " 'pexpect.stat': None,\n",
       " 'ipython_genutils.locale': None,\n",
       " 'traitlets.config.json': None,\n",
       " 'ipykernel.datetime': None,\n",
       " 'IPython.utils.shutil': None,\n",
       " 'StringIO': <module 'StringIO' from '/Users/mac/anaconda/lib/python2.7/StringIO.pyc'>,\n",
       " 'ptyprocess.errno': None,\n",
       " 'concurrent.futures.atexit': None,\n",
       " 'pkg_resources': <module 'pkg_resources' from '/Users/mac/anaconda/lib/python2.7/site-packages/setuptools-27.2.0-py2.7.egg/pkg_resources/__init__.py'>,\n",
       " 'weakref': <module 'weakref' from '/Users/mac/anaconda/lib/python2.7/weakref.pyc'>,\n",
       " 'prompt_toolkit.styles.__future__': None,\n",
       " 'traitlets': <module 'traitlets' from '/Users/mac/anaconda/lib/python2.7/site-packages/traitlets/__init__.pyc'>,\n",
       " 'ipywidgets.os': None,\n",
       " 'ipykernel.itertools': None,\n",
       " 'ptyprocess.resource': None,\n",
       " 'IPython.core.display': <module 'IPython.core.display' from '/Users/mac/anaconda/lib/python2.7/site-packages/IPython/core/display.pyc'>,\n",
       " 'IPython.core.usage': <module 'IPython.core.usage' from '/Users/mac/anaconda/lib/python2.7/site-packages/IPython/core/usage.pyc'>,\n",
       " 'ipykernel.heartbeat': <module 'ipykernel.heartbeat' from '/Users/mac/anaconda/lib/python2.7/site-packages/ipykernel/heartbeat.pyc'>,\n",
       " 'IPython.terminal': <module 'IPython.terminal' from '/Users/mac/anaconda/lib/python2.7/site-packages/IPython/terminal/__init__.pyc'>,\n",
       " 'base64': <module 'base64' from '/Users/mac/anaconda/lib/python2.7/base64.pyc'>,\n",
       " 'jupyter_client.os': None,\n",
       " 'ipykernel.traceback': None,\n",
       " '_sre': <module '_sre' (built-in)>,\n",
       " 'pygments.formatters.html': <module 'pygments.formatters.html' from '/Users/mac/anaconda/lib/python2.7/site-packages/pygments/formatters/html.pyc'>,\n",
       " 'email.FeedParser': <email.LazyImporter at 0x1017b9690>,\n",
       " 'IPython.core.json': None,\n",
       " 'traitlets.types': None,\n",
       " 'pyexpat.errors': <module 'pyexpat.errors' (built-in)>,\n",
       " 'email.charset': <module 'email.charset' from '/Users/mac/anaconda/lib/python2.7/email/charset.pyc'>,\n",
       " 'IPython': <module 'IPython' from '/Users/mac/anaconda/lib/python2.7/site-packages/IPython/__init__.pyc'>,\n",
       " 'pkg_resources._vendor.datetime': None,\n",
       " 'prompt_toolkit.clipboard.prompt_toolkit': None,\n",
       " 'IPython.core.errno': None,\n",
       " 'select': <module 'select' from '/Users/mac/anaconda/lib/python2.7/lib-dynload/select.so'>,\n",
       " 'ctypes._ctypes': None,\n",
       " '_heapq': <module '_heapq' from '/Users/mac/anaconda/lib/python2.7/lib-dynload/_heapq.so'>,\n",
       " 'IPython.core.display_trap': <module 'IPython.core.display_trap' from '/Users/mac/anaconda/lib/python2.7/site-packages/IPython/core/display_trap.pyc'>,\n",
       " 'zmq.sugar.constants': <module 'zmq.sugar.constants' from '/Users/mac/anaconda/lib/python2.7/site-packages/zmq/sugar/constants.pyc'>,\n",
       " 'prompt_toolkit.key_binding.bindings.prompt_toolkit': None,\n",
       " 'zmq.backend.cython.time': None,\n",
       " 'binascii': <module 'binascii' from '/Users/mac/anaconda/lib/python2.7/lib-dynload/binascii.so'>,\n",
       " 'IPython.lib.contextlib': None,\n",
       " 'pexpect.time': None,\n",
       " 'pygments.lexers.python': <module 'pygments.lexers.python' from '/Users/mac/anaconda/lib/python2.7/site-packages/pygments/lexers/python.pyc'>,\n",
       " 'email.MIMEMessage': <email.LazyImporter at 0x1017b9290>,\n",
       " 'email._parseaddr': <module 'email._parseaddr' from '/Users/mac/anaconda/lib/python2.7/email/_parseaddr.pyc'>,\n",
       " 'email.sys': None,\n",
       " 'jupyter_client.manager': <module 'jupyter_client.manager' from '/Users/mac/anaconda/lib/python2.7/site-packages/jupyter_client/manager.pyc'>,\n",
       " 'tokenize': <module 'tokenize' from '/Users/mac/anaconda/lib/python2.7/tokenize.pyc'>,\n",
       " 'pygments.formatters.sys': None,\n",
       " 'IPython.core.StringIO': None,\n",
       " 'pkg_resources._vendor.six.moves.urllib': <module 'pkg_resources._vendor.six.moves.urllib' (built-in)>,\n",
       " 'IPython.core.magics.io': None,\n",
       " 'traitlets.utils.inspect': None,\n",
       " 'pkg_resources.extern.six.moves.urllib': <module 'pkg_resources._vendor.six.moves.urllib' (built-in)>,\n",
       " 'cPickle': <module 'cPickle' from '/Users/mac/anaconda/lib/python2.7/lib-dynload/cPickle.so'>,\n",
       " 'jupyter_client.session': <module 'jupyter_client.session' from '/Users/mac/anaconda/lib/python2.7/site-packages/jupyter_client/session.pyc'>,\n",
       " 'ipykernel.comm.ipykernel': None,\n",
       " 'prompt_toolkit.pygments': None,\n",
       " 'IPython.core.magics.errno': None,\n",
       " 'jupyter_client.blocking.jupyter_client': None,\n",
       " 'IPython.utils.encoding': <module 'IPython.utils.encoding' from '/Users/mac/anaconda/lib/python2.7/site-packages/IPython/utils/encoding.pyc'>,\n",
       " '_curses': <module '_curses' from '/Users/mac/anaconda/lib/python2.7/lib-dynload/_curses.so'>,\n",
       " 'IPython.core.ast': None,\n",
       " 'IPython.core.keyword': None,\n",
       " 'IPython.lib.os': None,\n",
       " 'prompt_toolkit.clipboard.base': <module 'prompt_toolkit.clipboard.base' from '/Users/mac/anaconda/lib/python2.7/site-packages/prompt_toolkit/clipboard/base.pyc'>,\n",
       " 'prompt_toolkit.styles.abc': None,\n",
       " 'prompt_toolkit.terminal.__future__': None,\n",
       " 'zmq.backend.cython.cPickle': None,\n",
       " 'IPython.core.getipython': <module 'IPython.core.getipython' from '/Users/mac/anaconda/lib/python2.7/site-packages/IPython/core/getipython.pyc'>,\n",
       " 'ipykernel.cPickle': None,\n",
       " 'prompt_toolkit.key_binding.input_processor': <module 'prompt_toolkit.key_binding.input_processor' from '/Users/mac/anaconda/lib/python2.7/site-packages/prompt_toolkit/key_binding/input_processor.pyc'>,\n",
       " 'unicodedata': <module 'unicodedata' from '/Users/mac/anaconda/lib/python2.7/lib-dynload/unicodedata.so'>,\n",
       " 'zmq': <module 'zmq' from '/Users/mac/anaconda/lib/python2.7/site-packages/zmq/__init__.pyc'>,\n",
       " 'IPython.core.page': <module 'IPython.core.page' from '/Users/mac/anaconda/lib/python2.7/site-packages/IPython/core/page.pyc'>,\n",
       " '_ast': <module '_ast' (built-in)>,\n",
       " 'IPython.utils.process': <module 'IPython.utils.process' from '/Users/mac/anaconda/lib/python2.7/site-packages/IPython/utils/process.pyc'>,\n",
       " 'jupyter_client.sys': None,\n",
       " 'prompt_toolkit.styles.pygments': None,\n",
       " 'jupyter_client.io': None,\n",
       " 'zmq.sugar.tracker': <module 'zmq.sugar.tracker' from '/Users/mac/anaconda/lib/python2.7/site-packages/zmq/sugar/tracker.pyc'>,\n",
       " 'pkg_resources._vendor.copy': None,\n",
       " 'zmq.backend.cython.codecs': None,\n",
       " 'IPython.extensions.textwrap': None,\n",
       " 'ptyprocess.pty': None,\n",
       " 'exceptions': <module 'exceptions' (built-in)>,\n",
       " 'sre_parse': <module 'sre_parse' from '/Users/mac/anaconda/lib/python2.7/sre_parse.pyc'>,\n",
       " 'tornado.concurrent': <module 'tornado.concurrent' from '/Users/mac/anaconda/lib/python2.7/site-packages/tornado/concurrent.pyc'>,\n",
       " 'pickle': <module 'pickle' from '/Users/mac/anaconda/lib/python2.7/pickle.pyc'>,\n",
       " 'jupyter_core.version': <module 'jupyter_core.version' from '/Users/mac/anaconda/lib/python2.7/site-packages/jupyter_core/version.pyc'>,\n",
       " 'ipywidgets.widgets.ipykernel': None,\n",
       " 'numbers': <module 'numbers' from '/Users/mac/anaconda/lib/python2.7/numbers.pyc'>,\n",
       " 'pygments.regexopt': <module 'pygments.regexopt' from '/Users/mac/anaconda/lib/python2.7/site-packages/pygments/regexopt.pyc'>,\n",
       " 'zmq.sugar.version': <module 'zmq.sugar.version' from '/Users/mac/anaconda/lib/python2.7/site-packages/zmq/sugar/version.pyc'>,\n",
       " 'jupyter_client.launcher': <module 'jupyter_client.launcher' from '/Users/mac/anaconda/lib/python2.7/site-packages/jupyter_client/launcher.pyc'>,\n",
       " 'logging.cStringIO': None,\n",
       " 'IPython.terminal.debugger': <module 'IPython.terminal.debugger' from '/Users/mac/anaconda/lib/python2.7/site-packages/IPython/terminal/debugger.pyc'>,\n",
       " 'pkg_resources._vendor.os': None,\n",
       " 'pkg_resources.extern.six': <module 'pkg_resources._vendor.six' from '/Users/mac/anaconda/lib/python2.7/site-packages/setuptools-27.2.0-py2.7.egg/pkg_resources/_vendor/six.py'>,\n",
       " 'prompt_toolkit.styles.six': None,\n",
       " '_scandir': <module '_scandir' from '/Users/mac/anaconda/lib/python2.7/site-packages/_scandir.so'>,\n",
       " 'IPython.utils.shlex': None,\n",
       " 'IPython.core.magics.signal': None,\n",
       " 'ipywidgets.widgets.interaction': <module 'ipywidgets.widgets.interaction' from '/Users/mac/anaconda/lib/python2.7/site-packages/ipywidgets/widgets/interaction.pyc'>,\n",
       " 'ipykernel.comm.ipython_genutils': None,\n",
       " 'traitlets.inspect': None,\n",
       " 'email.message': <module 'email.message' from '/Users/mac/anaconda/lib/python2.7/email/message.pyc'>,\n",
       " 'email.Header': <email.LazyImporter at 0x1017b9590>,\n",
       " 'ipykernel.zmq': None,\n",
       " 'IPython.utils.platform': None,\n",
       " 'strop': <module 'strop' from '/Users/mac/anaconda/lib/python2.7/lib-dynload/strop.so'>,\n",
       " 'pygments.util': <module 'pygments.util' from '/Users/mac/anaconda/lib/python2.7/site-packages/pygments/util.pyc'>,\n",
       " 'jupyter_client.jupyter_client': None,\n",
       " 'IPython.core.history': <module 'IPython.core.history' from '/Users/mac/anaconda/lib/python2.7/site-packages/IPython/core/history.pyc'>,\n",
       " 'concurrent.futures.process': <module 'concurrent.futures.process' from '/Users/mac/anaconda/lib/python2.7/site-packages/concurrent/futures/process.pyc'>,\n",
       " 'six': <module 'six' from '/Users/mac/anaconda/lib/python2.7/site-packages/six.pyc'>,\n",
       " 'IPython.shutil': None,\n",
       " 'jupyter_client.connect': <module 'jupyter_client.connect' from '/Users/mac/anaconda/lib/python2.7/site-packages/jupyter_client/connect.pyc'>,\n",
       " 'ipywidgets.widgets.__future__': None,\n",
       " 'ipython_genutils.textwrap': None,\n",
       " 'zmq.backend.cython.struct': None,\n",
       " 'prompt_toolkit.abc': None,\n",
       " 'IPython.utils.ipstruct': <module 'IPython.utils.ipstruct' from '/Users/mac/anaconda/lib/python2.7/site-packages/IPython/utils/ipstruct.pyc'>,\n",
       " 'traitlets._version': <module 'traitlets._version' from '/Users/mac/anaconda/lib/python2.7/site-packages/traitlets/_version.pyc'>,\n",
       " 'prompt_toolkit.eventloop.callbacks': <module 'prompt_toolkit.eventloop.callbacks' from '/Users/mac/anaconda/lib/python2.7/site-packages/prompt_toolkit/eventloop/callbacks.pyc'>,\n",
       " 'prompt_toolkit.eventloop.base': <module 'prompt_toolkit.eventloop.base' from '/Users/mac/anaconda/lib/python2.7/site-packages/prompt_toolkit/eventloop/base.pyc'>,\n",
       " 'IPython.extensions.__future__': None,\n",
       " 'jupyter_client.jupyter_core': None,\n",
       " 'concurrent.pkgutil': None,\n",
       " 'ctypes.util': <module 'ctypes.util' from '/Users/mac/anaconda/lib/python2.7/ctypes/util.pyc'>,\n",
       " 'ipykernel.copy': None,\n",
       " 'htmlentitydefs': <module 'htmlentitydefs' from '/Users/mac/anaconda/lib/python2.7/htmlentitydefs.pyc'>,\n",
       " 'zmq.backend.cython.threading': None,\n",
       " 'zmq.eventloop.sys': None,\n",
       " 'ipywidgets.widgets.contextlib': None,\n",
       " 'jupyter_client.blocking': <module 'jupyter_client.blocking' from '/Users/mac/anaconda/lib/python2.7/site-packages/jupyter_client/blocking/__init__.pyc'>,\n",
       " 'pexpect.os': None,\n",
       " 'codeop': <module 'codeop' from '/Users/mac/anaconda/lib/python2.7/codeop.pyc'>,\n",
       " 'email.parser': <module 'email.parser' from '/Users/mac/anaconda/lib/python2.7/email/parser.pyc'>,\n",
       " 'pkg_resources._vendor.__builtin__': None,\n",
       " 'os.path': <module 'posixpath' from '/Users/mac/anaconda/lib/python2.7/posixpath.pyc'>,\n",
       " 'IPython.core.magics.time': None,\n",
       " 'argparse': <module 'argparse' from '/Users/mac/anaconda/lib/python2.7/argparse.pyc'>,\n",
       " 'pkg_resources.extern.packaging.specifiers': <module 'pkg_resources._vendor.packaging.specifiers' from '/Users/mac/anaconda/lib/python2.7/site-packages/setuptools-27.2.0-py2.7.egg/pkg_resources/_vendor/packaging/specifiers.py'>,\n",
       " 'email.base64mime': <module 'email.base64mime' from '/Users/mac/anaconda/lib/python2.7/email/base64mime.pyc'>,\n",
       " 'IPython.core.tempfile': None,\n",
       " 'IPython.core.payload': <module 'IPython.core.payload' from '/Users/mac/anaconda/lib/python2.7/site-packages/IPython/core/payload.pyc'>,\n",
       " '_weakrefset': <module '_weakrefset' from '/Users/mac/anaconda/lib/python2.7/_weakrefset.pyc'>,\n",
       " 'zmq.backend.select': <module 'zmq.backend.select' from '/Users/mac/anaconda/lib/python2.7/site-packages/zmq/backend/select.pyc'>,\n",
       " 'email.string': None,\n",
       " 'prompt_toolkit.bisect': None,\n",
       " 'ipywidgets.widgets.widget': <module 'ipywidgets.widgets.widget' from '/Users/mac/anaconda/lib/python2.7/site-packages/ipywidgets/widgets/widget.pyc'>,\n",
       " 'traitlets.config.configurable': <module 'traitlets.config.configurable' from '/Users/mac/anaconda/lib/python2.7/site-packages/traitlets/config/configurable.pyc'>,\n",
       " '_cython_0_25_1': <module '_cython_0_25_1' (built-in)>,\n",
       " 'IPython.core.traitlets': None,\n",
       " 'tty': <module 'tty' from '/Users/mac/anaconda/lib/python2.7/tty.pyc'>,\n",
       " 'ipykernel.threading': None,\n",
       " 'pexpect.exceptions': <module 'pexpect.exceptions' from '/Users/mac/anaconda/lib/python2.7/site-packages/pexpect/exceptions.pyc'>,\n",
       " 'prompt_toolkit.io': None,\n",
       " 'pygments.pygments': None,\n",
       " 'functools': <module 'functools' from '/Users/mac/anaconda/lib/python2.7/functools.pyc'>,\n",
       " 'pkg_resources._vendor.weakref': None,\n",
       " 'prompt_toolkit.subprocess': None,\n",
       " 'backports.shutil_get_terminal_size.termios': None,\n",
       " 'sysconfig': <module 'sysconfig' from '/Users/mac/anaconda/lib/python2.7/sysconfig.pyc'>,\n",
       " 'IPython.terminal.embed': <module 'IPython.terminal.embed' from '/Users/mac/anaconda/lib/python2.7/site-packages/IPython/terminal/embed.pyc'>,\n",
       " 'email.MIMEImage': <email.LazyImporter at 0x1017b9150>,\n",
       " 'concurrent.futures.concurrent': None,\n",
       " 'ipykernel.serialize': <module 'ipykernel.serialize' from '/Users/mac/anaconda/lib/python2.7/site-packages/ipykernel/serialize.pyc'>,\n",
       " 'jupyter_client._version': <module 'jupyter_client._version' from '/Users/mac/anaconda/lib/python2.7/site-packages/jupyter_client/_version.pyc'>,\n",
       " 'pexpect.contextlib': None,\n",
       " 'email.MIMEText': <email.LazyImporter at 0x1017ab510>,\n",
       " 'pygments.formatters.types': None,\n",
       " 'zmq.backend.cython.error': <module 'zmq.backend.cython.error' from '/Users/mac/anaconda/lib/python2.7/site-packages/zmq/backend/cython/error.so'>,\n",
       " 'prompt_toolkit.eventloop.__future__': None,\n",
       " '_bisect': <module '_bisect' from '/Users/mac/anaconda/lib/python2.7/lib-dynload/_bisect.so'>,\n",
       " 'uuid': <module 'uuid' from '/Users/mac/anaconda/lib/python2.7/uuid.pyc'>,\n",
       " 'jupyter_core.os': None,\n",
       " 'tempfile': <module 'tempfile' from '/Users/mac/anaconda/lib/python2.7/tempfile.pyc'>,\n",
       " 'curses': <module 'curses' from '/Users/mac/anaconda/lib/python2.7/curses/__init__.pyc'>,\n",
       " 'prompt_toolkit.tempfile': None,\n",
       " 'imp': <module 'imp' (built-in)>,\n",
       " 'pkg_resources._vendor': <module 'pkg_resources._vendor' from '/Users/mac/anaconda/lib/python2.7/site-packages/setuptools-27.2.0-py2.7.egg/pkg_resources/_vendor/__init__.py'>,\n",
       " 'prompt_toolkit.wcwidth': None,\n",
       " 'multiprocessing.os': None,\n",
       " 'jupyter_core.sys': None,\n",
       " 'IPython.utils.tempdir': <module 'IPython.utils.tempdir' from '/Users/mac/anaconda/lib/python2.7/site-packages/IPython/utils/tempdir.pyc'>,\n",
       " 'zmq.utils.constant_names': <module 'zmq.utils.constant_names' from '/Users/mac/anaconda/lib/python2.7/site-packages/zmq/utils/constant_names.pyc'>,\n",
       " 'multiprocessing.itertools': None,\n",
       " 'backports.shutil_get_terminal_size.collections': None,\n",
       " 'enum.sys': None,\n",
       " 'zmq.libzmq': <module 'zmq.libzmq' from '/Users/mac/anaconda/lib/python2.7/site-packages/zmq/libzmq.so'>,\n",
       " 'jupyter_client.random': None,\n",
       " 'traitlets.utils.sentinel': <module 'traitlets.utils.sentinel' from '/Users/mac/anaconda/lib/python2.7/site-packages/traitlets/utils/sentinel.pyc'>,\n",
       " 'ptyprocess.os': None,\n",
       " 'pexpect.codecs': None,\n",
       " 'zmq.zmq': None,\n",
       " 'ptyprocess.codecs': None,\n",
       " 'prompt_toolkit.input': <module 'prompt_toolkit.input' from '/Users/mac/anaconda/lib/python2.7/site-packages/prompt_toolkit/input.pyc'>,\n",
       " 'pkg_resources._vendor.six': <module 'pkg_resources._vendor.six' from '/Users/mac/anaconda/lib/python2.7/site-packages/setuptools-27.2.0-py2.7.egg/pkg_resources/_vendor/six.py'>,\n",
       " 'email.email': None,\n",
       " 'IPython.core.traceback': None,\n",
       " 'email.codecs': None,\n",
       " 'IPython.core.__main__': None,\n",
       " 'IPython.extensions.inspect': None,\n",
       " 'ipython_genutils._version': <module 'ipython_genutils._version' from '/Users/mac/anaconda/lib/python2.7/site-packages/ipython_genutils/_version.pyc'>,\n",
       " 'prompt_toolkit.layout.mouse_handlers': <module 'prompt_toolkit.layout.mouse_handlers' from '/Users/mac/anaconda/lib/python2.7/site-packages/prompt_toolkit/layout/mouse_handlers.pyc'>,\n",
       " 'IPython.utils.hashlib': None,\n",
       " 'email.urllib': None,\n",
       " 'zmq.eventloop.__future__': None,\n",
       " 'decorator': <module 'decorator' from '/Users/mac/anaconda/lib/python2.7/site-packages/decorator.pyc'>,\n",
       " 'IPython.core.zipimport': None,\n",
       " 'pygments.lexers.sys': None,\n",
       " 'pygments.unistring': <module 'pygments.unistring' from '/Users/mac/anaconda/lib/python2.7/site-packages/pygments/unistring.pyc'>,\n",
       " 'IPython.terminal.interactiveshell': <module 'IPython.terminal.interactiveshell' from '/Users/mac/anaconda/lib/python2.7/site-packages/IPython/terminal/interactiveshell.pyc'>,\n",
       " 'IPython.extensions.traitlets': None,\n",
       " 'zmq.backend.cython.context': <module 'zmq.backend.cython.context' from '/Users/mac/anaconda/lib/python2.7/site-packages/zmq/backend/cython/context.so'>,\n",
       " 'IPython.core.warnings': None,\n",
       " 'IPython.utils.imp': None,\n",
       " 'logging.handlers': <module 'logging.handlers' from '/Users/mac/anaconda/lib/python2.7/logging/handlers.pyc'>,\n",
       " 'token': <module 'token' from '/Users/mac/anaconda/lib/python2.7/token.pyc'>,\n",
       " 'email.encoders': <module 'email.encoders' from '/Users/mac/anaconda/lib/python2.7/email/encoders.pyc'>,\n",
       " 'prompt_toolkit.auto_suggest': <module 'prompt_toolkit.auto_suggest' from '/Users/mac/anaconda/lib/python2.7/site-packages/prompt_toolkit/auto_suggest.pyc'>,\n",
       " 'prompt_toolkit.buffer': <module 'prompt_toolkit.buffer' from '/Users/mac/anaconda/lib/python2.7/site-packages/prompt_toolkit/buffer.pyc'>,\n",
       " 'ipywidgets.widgets.IPython': None,\n",
       " 'IPython.testing.sys': None,\n",
       " 'pygments.formatters.os': None,\n",
       " 'IPython.utils.warnings': None,\n",
       " 'IPython.core.magics.gc': None,\n",
       " 'ptyprocess.fcntl': None,\n",
       " 'cStringIO': <module 'cStringIO' from '/Users/mac/anaconda/lib/python2.7/lib-dynload/cStringIO.so'>,\n",
       " 'IPython.utils.errno': None,\n",
       " 'backports.shutil_get_terminal_size.struct': None,\n",
       " 'IPython.core.io': None,\n",
       " 'prompt_toolkit.key_binding.prompt_toolkit': None,\n",
       " 'IPython.core.magics.namespace': <module 'IPython.core.magics.namespace' from '/Users/mac/anaconda/lib/python2.7/site-packages/IPython/core/magics/namespace.pyc'>,\n",
       " 'traitlets.config.copy': None,\n",
       " 'ipywidgets.widgets.widget_color': <module 'ipywidgets.widgets.widget_color' from '/Users/mac/anaconda/lib/python2.7/site-packages/ipywidgets/widgets/widget_color.pyc'>,\n",
       " 'traitlets.utils.ipython_genutils': None,\n",
       " 'curses.os': None,\n",
       " 'zmq.sugar.frame': <module 'zmq.sugar.frame' from '/Users/mac/anaconda/lib/python2.7/site-packages/zmq/sugar/frame.pyc'>,\n",
       " 'multiprocessing.process': <module 'multiprocessing.process' from '/Users/mac/anaconda/lib/python2.7/multiprocessing/process.pyc'>,\n",
       " 'pkg_resources.extern.packaging.requirements': <module 'pkg_resources._vendor.packaging.requirements' from '/Users/mac/anaconda/lib/python2.7/site-packages/setuptools-27.2.0-py2.7.egg/pkg_resources/_vendor/packaging/requirements.py'>,\n",
       " 'encodings': <module 'encodings' from '/Users/mac/anaconda/lib/python2.7/encodings/__init__.pyc'>,\n",
       " 'IPython.core.magics.history': <module 'IPython.core.magics.history' from '/Users/mac/anaconda/lib/python2.7/site-packages/IPython/core/magics/history.pyc'>,\n",
       " 'IPython.core.__future__': None,\n",
       " 'zmq.utils.strtypes': <module 'zmq.utils.strtypes' from '/Users/mac/anaconda/lib/python2.7/site-packages/zmq/utils/strtypes.pyc'>,\n",
       " 'pexpect.expect': <module 'pexpect.expect' from '/Users/mac/anaconda/lib/python2.7/site-packages/pexpect/expect.pyc'>,\n",
       " 'prompt_toolkit.layout.toolbars': <module 'prompt_toolkit.layout.toolbars' from '/Users/mac/anaconda/lib/python2.7/site-packages/prompt_toolkit/layout/toolbars.pyc'>,\n",
       " 'ipykernel.comm.uuid': None,\n",
       " 'IPython.core.interactiveshell': <module 'IPython.core.interactiveshell' from '/Users/mac/anaconda/lib/python2.7/site-packages/IPython/core/interactiveshell.pyc'>,\n",
       " 'traitlets.ipython_genutils': None,\n",
       " 'IPython.core.operator': None,\n",
       " 'IPython.core.crashhandler': <module 'IPython.core.crashhandler' from '/Users/mac/anaconda/lib/python2.7/site-packages/IPython/core/crashhandler.pyc'>,\n",
       " 'IPython.utils': <module 'IPython.utils' from '/Users/mac/anaconda/lib/python2.7/site-packages/IPython/utils/__init__.pyc'>,\n",
       " 'zmq.ctypes': None,\n",
       " 'prompt_toolkit.layout.time': None,\n",
       " 'prompt_toolkit.threading': None,\n",
       " 'pkg_resources._vendor.packaging.__about__': <module 'pkg_resources._vendor.packaging.__about__' from '/Users/mac/anaconda/lib/python2.7/site-packages/setuptools-27.2.0-py2.7.egg/pkg_resources/_vendor/packaging/__about__.py'>,\n",
       " 're': <module 're' from '/Users/mac/anaconda/lib/python2.7/re.pyc'>,\n",
       " 'pygments.filters.re': None,\n",
       " 'jupyter_client.warnings': None,\n",
       " 'email.quopri': None,\n",
       " 'IPython.utils.capture': <module 'IPython.utils.capture' from '/Users/mac/anaconda/lib/python2.7/site-packages/IPython/utils/capture.pyc'>,\n",
       " 'ipykernel.errno': None,\n",
       " 'ipykernel.ipkernel': <module 'ipykernel.ipkernel' from '/Users/mac/anaconda/lib/python2.7/site-packages/ipykernel/ipkernel.pyc'>,\n",
       " 'sqlite3.time': None,\n",
       " 'math': <module 'math' from '/Users/mac/anaconda/lib/python2.7/lib-dynload/math.so'>,\n",
       " 'IPython.core.IPython': None,\n",
       " 'pygments.formatters.fnmatch': None,\n",
       " 'wcwidth.__future__': None,\n",
       " 'ipykernel.comm.manager': <module 'ipykernel.comm.manager' from '/Users/mac/anaconda/lib/python2.7/site-packages/ipykernel/comm/manager.pyc'>,\n",
       " 'IPython.core.importlib': None,\n",
       " 'ipython_genutils.errno': None,\n",
       " 'IPython.lib.sys': None,\n",
       " 'prompt_toolkit.interface': <module 'prompt_toolkit.interface' from '/Users/mac/anaconda/lib/python2.7/site-packages/prompt_toolkit/interface.pyc'>,\n",
       " 'email.re': None,\n",
       " 'prompt_toolkit.terminal.vt100_input': <module 'prompt_toolkit.terminal.vt100_input' from '/Users/mac/anaconda/lib/python2.7/site-packages/prompt_toolkit/terminal/vt100_input.pyc'>,\n",
       " 'prompt_toolkit.key_binding.bindings.six': None,\n",
       " 'ctypes.struct': None,\n",
       " 'IPython.utils.colorable': <module 'IPython.utils.colorable' from '/Users/mac/anaconda/lib/python2.7/site-packages/IPython/utils/colorable.pyc'>,\n",
       " 'ipykernel.ctypes': None,\n",
       " '_scproxy': <module '_scproxy' from '/Users/mac/anaconda/lib/python2.7/lib-dynload/_scproxy.so'>,\n",
       " 'prompt_toolkit.filters': <module 'prompt_toolkit.filters' from '/Users/mac/anaconda/lib/python2.7/site-packages/prompt_toolkit/filters/__init__.pyc'>,\n",
       " '_locale': <module '_locale' from '/Users/mac/anaconda/lib/python2.7/lib-dynload/_locale.so'>,\n",
       " 'IPython.core.logging': None,\n",
       " 'logging': <module 'logging' from '/Users/mac/anaconda/lib/python2.7/logging/__init__.pyc'>,\n",
       " 'prompt_toolkit.enums': <module 'prompt_toolkit.enums' from '/Users/mac/anaconda/lib/python2.7/site-packages/prompt_toolkit/enums.pyc'>,\n",
       " 'thread': <module 'thread' (built-in)>,\n",
       " 'ipywidgets.widgets.widget_link': <module 'ipywidgets.widgets.widget_link' from '/Users/mac/anaconda/lib/python2.7/site-packages/ipywidgets/widgets/widget_link.pyc'>,\n",
       " 'sqlite3.dbapi2': <module 'sqlite3.dbapi2' from '/Users/mac/anaconda/lib/python2.7/sqlite3/dbapi2.pyc'>,\n",
       " 'traceback': <module 'traceback' from '/Users/mac/anaconda/lib/python2.7/traceback.pyc'>,\n",
       " 'ipykernel.signal': None,\n",
       " 'multiprocessing': <module 'multiprocessing' from '/Users/mac/anaconda/lib/python2.7/multiprocessing/__init__.pyc'>,\n",
       " 'concurrent.futures.time': None,\n",
       " 'IPython.core.copy': None,\n",
       " 'IPython.core.builtin_trap': <module 'IPython.core.builtin_trap' from '/Users/mac/anaconda/lib/python2.7/site-packages/IPython/core/builtin_trap.pyc'>,\n",
       " 'zmq.backend.platform': None,\n",
       " 'IPython.utils.coloransi': <module 'IPython.utils.coloransi' from '/Users/mac/anaconda/lib/python2.7/site-packages/IPython/utils/coloransi.pyc'>,\n",
       " 'multiprocessing.util': <module 'multiprocessing.util' from '/Users/mac/anaconda/lib/python2.7/multiprocessing/util.pyc'>,\n",
       " 'IPython.utils._process_posix': <module 'IPython.utils._process_posix' from '/Users/mac/anaconda/lib/python2.7/site-packages/IPython/utils/_process_posix.pyc'>,\n",
       " 'IPython.core.completerlib': <module 'IPython.core.completerlib' from '/Users/mac/anaconda/lib/python2.7/site-packages/IPython/core/completerlib.pyc'>,\n",
       " 'pkg_resources._vendor.packaging.markers': <module 'pkg_resources._vendor.packaging.markers' from '/Users/mac/anaconda/lib/python2.7/site-packages/setuptools-27.2.0-py2.7.egg/pkg_resources/_vendor/packaging/markers.py'>,\n",
       " 'pkg_resources._vendor.packaging.version': <module 'pkg_resources._vendor.packaging.version' from '/Users/mac/anaconda/lib/python2.7/site-packages/setuptools-27.2.0-py2.7.egg/pkg_resources/_vendor/packaging/version.py'>,\n",
       " 'ipywidgets.widgets.widget_layout': <module 'ipywidgets.widgets.widget_layout' from '/Users/mac/anaconda/lib/python2.7/site-packages/ipywidgets/widgets/widget_layout.pyc'>,\n",
       " 'prompt_toolkit.filters.six': None,\n",
       " '_collections': <module '_collections' from '/Users/mac/anaconda/lib/python2.7/lib-dynload/_collections.so'>,\n",
       " 'ctypes.macholib.os': None,\n",
       " 'prompt_toolkit.mouse_events': <module 'prompt_toolkit.mouse_events' from '/Users/mac/anaconda/lib/python2.7/site-packages/prompt_toolkit/mouse_events.pyc'>,\n",
       " 'ipykernel.jupyter_core': None,\n",
       " 'jupyter_client.multikernelmanager': <module 'jupyter_client.multikernelmanager' from '/Users/mac/anaconda/lib/python2.7/site-packages/jupyter_client/multikernelmanager.pyc'>,\n",
       " 'prompt_toolkit.key_binding.bindings.__future__': None,\n",
       " 'ipykernel.kernelbase': <module 'ipykernel.kernelbase' from '/Users/mac/anaconda/lib/python2.7/site-packages/ipykernel/kernelbase.pyc'>,\n",
       " 'traitlets.config.ast': None,\n",
       " 'multiprocessing.sys': None,\n",
       " 'ipykernel.uuid': None,\n",
       " 'ipywidgets.widgets.widget_button': <module 'ipywidgets.widgets.widget_button' from '/Users/mac/anaconda/lib/python2.7/site-packages/ipywidgets/widgets/widget_button.pyc'>,\n",
       " 'pexpect.pty_spawn': <module 'pexpect.pty_spawn' from '/Users/mac/anaconda/lib/python2.7/site-packages/pexpect/pty_spawn.pyc'>,\n",
       " 'pygments.filter': <module 'pygments.filter' from '/Users/mac/anaconda/lib/python2.7/site-packages/pygments/filter.pyc'>,\n",
       " 'email.Errors': <email.LazyImporter at 0x1017b9710>,\n",
       " 'IPython.utils.locale': None,\n",
       " 'ctypes.sys': None,\n",
       " 'IPython.core.magics.config': <module 'IPython.core.magics.config' from '/Users/mac/anaconda/lib/python2.7/site-packages/IPython/core/magics/config.pyc'>,\n",
       " 'pygments.lexers.__future__': None,\n",
       " 'pexpect': <module 'pexpect' from '/Users/mac/anaconda/lib/python2.7/site-packages/pexpect/__init__.pyc'>,\n",
       " 'posixpath': <module 'posixpath' from '/Users/mac/anaconda/lib/python2.7/posixpath.pyc'>,\n",
       " 'jupyter_client.channels': <module 'jupyter_client.channels' from '/Users/mac/anaconda/lib/python2.7/site-packages/jupyter_client/channels.pyc'>,\n",
       " 'prompt_toolkit.key_binding.collections': None,\n",
       " 'pkg_resources._vendor.packaging._compat': <module 'pkg_resources._vendor.packaging._compat' from '/Users/mac/anaconda/lib/python2.7/site-packages/setuptools-27.2.0-py2.7.egg/pkg_resources/_vendor/packaging/_compat.py'>,\n",
       " 'pygments.formatter': <module 'pygments.formatter' from '/Users/mac/anaconda/lib/python2.7/site-packages/pygments/formatter.pyc'>,\n",
       " 'IPython.utils._sysinfo': <module 'IPython.utils._sysinfo' from '/Users/mac/anaconda/lib/python2.7/site-packages/IPython/utils/_sysinfo.pyc'>,\n",
       " 'prompt_toolkit.filters.cli': <module 'prompt_toolkit.filters.cli' from '/Users/mac/anaconda/lib/python2.7/site-packages/prompt_toolkit/filters/cli.pyc'>,\n",
       " 'traitlets.logging': None,\n",
       " 'ipykernel.types': None,\n",
       " 'types': <module 'types' from '/Users/mac/anaconda/lib/python2.7/types.pyc'>,\n",
       " 'zmq.backend.cython._device': <module 'zmq.backend.cython._device' from '/Users/mac/anaconda/lib/python2.7/site-packages/zmq/backend/cython/_device.so'>,\n",
       " 'prompt_toolkit.styles.from_dict': <module 'prompt_toolkit.styles.from_dict' from '/Users/mac/anaconda/lib/python2.7/site-packages/prompt_toolkit/styles/from_dict.pyc'>,\n",
       " 'prompt_toolkit.utils': <module 'prompt_toolkit.utils' from '/Users/mac/anaconda/lib/python2.7/site-packages/prompt_toolkit/utils.pyc'>,\n",
       " 'prompt_toolkit.clipboard.in_memory': <module 'prompt_toolkit.clipboard.in_memory' from '/Users/mac/anaconda/lib/python2.7/site-packages/prompt_toolkit/clipboard/in_memory.pyc'>,\n",
       " 'IPython.core.linecache': None,\n",
       " 'ipywidgets.widgets.widget_string': <module 'ipywidgets.widgets.widget_string' from '/Users/mac/anaconda/lib/python2.7/site-packages/ipywidgets/widgets/widget_string.pyc'>,\n",
       " 'json._json': None,\n",
       " 'curses.sys': None,\n",
       " 'ipykernel.jupyter_client': None,\n",
       " '_codecs': <module '_codecs' (built-in)>,\n",
       " 'traitlets.contextlib': None,\n",
       " 'ipykernel.comm.sys': None,\n",
       " 'IPython.core.unicodedata': None,\n",
       " 'enum.collections': None,\n",
       " 'json.sys': None,\n",
       " 'zmq.eventloop.tornado': None,\n",
       " 'IPython.utils.os': None,\n",
       " '_osx_support': <module '_osx_support' from '/Users/mac/anaconda/lib/python2.7/_osx_support.pyc'>,\n",
       " 'ipykernel.datapub': <module 'ipykernel.datapub' from '/Users/mac/anaconda/lib/python2.7/site-packages/ipykernel/datapub.pyc'>,\n",
       " 'ctypes.macholib.dyld': <module 'ctypes.macholib.dyld' from '/Users/mac/anaconda/lib/python2.7/ctypes/macholib/dyld.pyc'>,\n",
       " 'concurrent.futures.multiprocessing': None,\n",
       " 'pygments.time': None,\n",
       " 'zmq.eventloop.ioloop': <module 'zmq.eventloop.ioloop' from '/Users/mac/anaconda/lib/python2.7/site-packages/zmq/eventloop/ioloop.pyc'>,\n",
       " 'copy': <module 'copy' from '/Users/mac/anaconda/lib/python2.7/copy.pyc'>,\n",
       " 'IPython.core.magics.IPython': None,\n",
       " 'prompt_toolkit.styles.collections': None,\n",
       " 'ipykernel.comm.logging': None,\n",
       " 'ipython_genutils.shutil': None,\n",
       " 'hashlib': <module 'hashlib' from '/Users/mac/anaconda/lib/python2.7/hashlib.pyc'>,\n",
       " 'prompt_toolkit': <module 'prompt_toolkit' from '/Users/mac/anaconda/lib/python2.7/site-packages/prompt_toolkit/__init__.pyc'>,\n",
       " 'email.errors': <module 'email.errors' from '/Users/mac/anaconda/lib/python2.7/email/errors.pyc'>,\n",
       " 'keyword': <module 'keyword' from '/Users/mac/anaconda/lib/python2.7/keyword.pyc'>,\n",
       " 'ipython_genutils.random': None,\n",
       " 'ipywidgets.widgets.jupyter_client': None,\n",
       " 'prompt_toolkit.output': <module 'prompt_toolkit.output' from '/Users/mac/anaconda/lib/python2.7/site-packages/prompt_toolkit/output.pyc'>,\n",
       " 'IPython.extensions.IPython': None,\n",
       " 'ipywidgets.widgets.sys': None,\n",
       " 'posix': <module 'posix' (built-in)>,\n",
       " 'IPython.core.hashlib': None,\n",
       " 'pygments.lexers.fnmatch': None,\n",
       " 'IPython.core.autocall': <module 'IPython.core.autocall' from '/Users/mac/anaconda/lib/python2.7/site-packages/IPython/core/autocall.pyc'>,\n",
       " 'IPython.utils.generics': <module 'IPython.utils.generics' from '/Users/mac/anaconda/lib/python2.7/site-packages/IPython/utils/generics.pyc'>,\n",
       " 'ipykernel.connect': <module 'ipykernel.connect' from '/Users/mac/anaconda/lib/python2.7/site-packages/ipykernel/connect.pyc'>,\n",
       " 'backports.shutil_get_terminal_size.os': None,\n",
       " 'ipywidgets.IPython': None,\n",
       " 'prompt_toolkit.layout.collections': None,\n",
       " 'sre_compile': <module 'sre_compile' from '/Users/mac/anaconda/lib/python2.7/sre_compile.pyc'>,\n",
       " 'ipykernel': <module 'ipykernel' from '/Users/mac/anaconda/lib/python2.7/site-packages/ipykernel/__init__.pyc'>,\n",
       " '_hashlib': <module '_hashlib' from '/Users/mac/anaconda/lib/python2.7/lib-dynload/_hashlib.so'>,\n",
       " 'prompt_toolkit.layout.utils': <module 'prompt_toolkit.layout.utils' from '/Users/mac/anaconda/lib/python2.7/site-packages/prompt_toolkit/layout/utils.pyc'>,\n",
       " 'prompt_toolkit.shortcuts': <module 'prompt_toolkit.shortcuts' from '/Users/mac/anaconda/lib/python2.7/site-packages/prompt_toolkit/shortcuts.pyc'>,\n",
       " 'IPython.utils.ulinecache': <module 'IPython.utils.ulinecache' from '/Users/mac/anaconda/lib/python2.7/site-packages/IPython/utils/ulinecache.pyc'>,\n",
       " 'zmq.eventloop.cPickle': None,\n",
       " 'IPython.core.magics.code': <module 'IPython.core.magics.code' from '/Users/mac/anaconda/lib/python2.7/site-packages/IPython/core/magics/code.pyc'>,\n",
       " 'IPython.core.sqlite3': None,\n",
       " 'IPython.core.bdb': None,\n",
       " 'logging.collections': None,\n",
       " 'IPython.core.threading': None,\n",
       " 'email.base64': None,\n",
       " 'encodings.string_escape': <module 'encodings.string_escape' from '/Users/mac/anaconda/lib/python2.7/encodings/string_escape.pyc'>,\n",
       " 'pygments.__future__': None,\n",
       " '__main__': <module '__main__' (built-in)>,\n",
       " 'multiprocessing.atexit': None,\n",
       " 'zmq.backend.cython.message': <module 'zmq.backend.cython.message' from '/Users/mac/anaconda/lib/python2.7/site-packages/zmq/backend/cython/message.so'>,\n",
       " 'prompt_toolkit.string': None,\n",
       " 'prompt_toolkit.layout.re': None,\n",
       " 'pexpect.pty': None,\n",
       " 'prompt_toolkit.layout.__future__': None,\n",
       " 'prompt_toolkit.token': <module 'prompt_toolkit.token' from '/Users/mac/anaconda/lib/python2.7/site-packages/prompt_toolkit/token.pyc'>,\n",
       " 'IPython.utils.terminal': <module 'IPython.utils.terminal' from '/Users/mac/anaconda/lib/python2.7/site-packages/IPython/utils/terminal.pyc'>,\n",
       " 'jupyter_client.ipython_genutils': None,\n",
       " 'encodings.codecs': None,\n",
       " 'ipywidgets.widgets.widget_selection': <module 'ipywidgets.widgets.widget_selection' from '/Users/mac/anaconda/lib/python2.7/site-packages/ipywidgets/widgets/widget_selection.pyc'>,\n",
       " 'ipywidgets': <module 'ipywidgets' from '/Users/mac/anaconda/lib/python2.7/site-packages/ipywidgets/__init__.pyc'>,\n",
       " 'IPython.utils.__builtin__': None,\n",
       " 'IPython.terminal.os': None,\n",
       " 'IPython.lib.threading': None,\n",
       " 'zmq.utils.jsonapi': <module 'zmq.utils.jsonapi' from '/Users/mac/anaconda/lib/python2.7/site-packages/zmq/utils/jsonapi.pyc'>,\n",
       " 'email.MIMEMultipart': <email.LazyImporter at 0x101750350>,\n",
       " 'curses.curses': None,\n",
       " 'ipykernel.IPython': None,\n",
       " 'IPython.core.completer': <module 'IPython.core.completer' from '/Users/mac/anaconda/lib/python2.7/site-packages/IPython/core/completer.pyc'>,\n",
       " 'ipykernel.base64': None,\n",
       " '_ssl': <module '_ssl' from '/Users/mac/anaconda/lib/python2.7/lib-dynload/_ssl.so'>,\n",
       " 'pexpect.ptyprocess': None,\n",
       " 'IPython.utils.sys': None,\n",
       " 'IPython.utils.re': None,\n",
       " 'tornado': <module 'tornado' from '/Users/mac/anaconda/lib/python2.7/site-packages/tornado/__init__.pyc'>,\n",
       " 'IPython.lib.clipboard': <module 'IPython.lib.clipboard' from '/Users/mac/anaconda/lib/python2.7/site-packages/IPython/lib/clipboard.pyc'>,\n",
       " 'encodings.ascii': <module 'encodings.ascii' from '/Users/mac/anaconda/lib/python2.7/encodings/ascii.pyc'>,\n",
       " 'ipykernel.getpass': None,\n",
       " 'multiprocessing.multiprocessing': None,\n",
       " 'IPython.utils.inspect': None,\n",
       " 'zmq.backend.cython.sys': None,\n",
       " 'IPython.core.base64': None,\n",
       " 'pkg_resources.extern.appdirs': <module 'pkg_resources._vendor.appdirs' from '/Users/mac/anaconda/lib/python2.7/site-packages/setuptools-27.2.0-py2.7.egg/pkg_resources/_vendor/appdirs.py'>,\n",
       " 'pexpect.errno': None,\n",
       " '_sqlite3': <module '_sqlite3' from '/Users/mac/anaconda/lib/python2.7/lib-dynload/_sqlite3.so'>,\n",
       " 'ipython_genutils.text': <module 'ipython_genutils.text' from '/Users/mac/anaconda/lib/python2.7/site-packages/ipython_genutils/text.pyc'>,\n",
       " 'IPython.core.shellapp': <module 'IPython.core.shellapp' from '/Users/mac/anaconda/lib/python2.7/site-packages/IPython/core/shellapp.pyc'>,\n",
       " 'email.feedparser': <module 'email.feedparser' from '/Users/mac/anaconda/lib/python2.7/email/feedparser.pyc'>,\n",
       " 'email.MIMEBase': <email.LazyImporter at 0x1017b91d0>,\n",
       " 'prompt_toolkit.selection': <module 'prompt_toolkit.selection' from '/Users/mac/anaconda/lib/python2.7/site-packages/prompt_toolkit/selection.pyc'>,\n",
       " 'plistlib': <module 'plistlib' from '/Users/mac/anaconda/lib/python2.7/plistlib.pyc'>,\n",
       " 'multiprocessing._multiprocessing': None,\n",
       " 'ctypes.macholib': <module 'ctypes.macholib' from '/Users/mac/anaconda/lib/python2.7/ctypes/macholib/__init__.pyc'>,\n",
       " 'concurrent.futures.sys': None,\n",
       " 'pygments.modeline': <module 'pygments.modeline' from '/Users/mac/anaconda/lib/python2.7/site-packages/pygments/modeline.pyc'>,\n",
       " 'pkg_resources._vendor.collections': None,\n",
       " 'IPython.utils.wildcard': <module 'IPython.utils.wildcard' from '/Users/mac/anaconda/lib/python2.7/site-packages/IPython/utils/wildcard.pyc'>,\n",
       " 'IPython.core.extensions': <module 'IPython.core.extensions' from '/Users/mac/anaconda/lib/python2.7/site-packages/IPython/core/extensions.pyc'>,\n",
       " 'IPython.utils.tokenutil': <module 'IPython.utils.tokenutil' from '/Users/mac/anaconda/lib/python2.7/site-packages/IPython/utils/tokenutil.pyc'>,\n",
       " '_io': <module '_io' from '/Users/mac/anaconda/lib/python2.7/lib-dynload/_io.so'>,\n",
       " 'linecache': <module 'linecache' from '/Users/mac/anaconda/lib/python2.7/linecache.pyc'>,\n",
       " '_strptime': <module '_strptime' from '/Users/mac/anaconda/lib/python2.7/_strptime.pyc'>,\n",
       " 'ipywidgets.widgets.trait_types': <module 'ipywidgets.widgets.trait_types' from '/Users/mac/anaconda/lib/python2.7/site-packages/ipywidgets/widgets/trait_types.pyc'>,\n",
       " 'IPython.core.compilerop': <module 'IPython.core.compilerop' from '/Users/mac/anaconda/lib/python2.7/site-packages/IPython/core/compilerop.pyc'>,\n",
       " 'ipykernel.comm': <module 'ipykernel.comm' from '/Users/mac/anaconda/lib/python2.7/site-packages/ipykernel/comm/__init__.pyc'>,\n",
       " 'jupyter_client.zmq': None,\n",
       " 'hmac': <module 'hmac' from '/Users/mac/anaconda/lib/python2.7/hmac.pyc'>,\n",
       " 'tornado.platform.interface': <module 'tornado.platform.interface' from '/Users/mac/anaconda/lib/python2.7/site-packages/tornado/platform/interface.pyc'>,\n",
       " 'scandir': <module 'scandir' from '/Users/mac/anaconda/lib/python2.7/site-packages/scandir.pyc'>,\n",
       " 'prompt_toolkit.terminal.six': None,\n",
       " 'ipywidgets.widgets.widget_output': <module 'ipywidgets.widgets.widget_output' from '/Users/mac/anaconda/lib/python2.7/site-packages/ipywidgets/widgets/widget_output.pyc'>,\n",
       " 'email.iterators': <module 'email.iterators' from '/Users/mac/anaconda/lib/python2.7/email/iterators.pyc'>,\n",
       " '_multiprocessing': <module '_multiprocessing' from '/Users/mac/anaconda/lib/python2.7/lib-dynload/_multiprocessing.so'>,\n",
       " 'ipywidgets.widgets.traitlets': None,\n",
       " 'IPython.core.magics.osm': <module 'IPython.core.magics.osm' from '/Users/mac/anaconda/lib/python2.7/site-packages/IPython/core/magics/osm.pyc'>,\n",
       " 'jupyter_client.json': None,\n",
       " 'random': <module 'random' from '/Users/mac/anaconda/lib/python2.7/random.pyc'>,\n",
       " 'pygments.styles': <module 'pygments.styles' from '/Users/mac/anaconda/lib/python2.7/site-packages/pygments/styles/__init__.pyc'>,\n",
       " 'zmq.sugar.context': <module 'zmq.sugar.context' from '/Users/mac/anaconda/lib/python2.7/site-packages/zmq/sugar/context.pyc'>,\n",
       " 'subprocess': <module 'subprocess' from '/Users/mac/anaconda/lib/python2.7/subprocess.pyc'>,\n",
       " 'IPython.extensions.storemagic': <module 'IPython.extensions.storemagic' from '/Users/mac/anaconda/lib/python2.7/site-packages/IPython/extensions/storemagic.pyc'>,\n",
       " 'prompt_toolkit.key_binding.weakref': None,\n",
       " 'backports.shutil_get_terminal_size.fcntl': None,\n",
       " 'ipython_genutils.sys': None,\n",
       " 'pygments.operator': None,\n",
       " 'logging.os': None,\n",
       " 'ctypes._endian': <module 'ctypes._endian' from '/Users/mac/anaconda/lib/python2.7/ctypes/_endian.pyc'>,\n",
       " 'encodings.encodings': None,\n",
       " 'ptyprocess.time': None,\n",
       " 'ipykernel.numbers': None,\n",
       " 'ipykernel.copy_reg': None,\n",
       " 'pygments.formatters._mapping': <module 'pygments.formatters._mapping' from '/Users/mac/anaconda/lib/python2.7/site-packages/pygments/formatters/_mapping.pyc'>,\n",
       " 'xml': <module 'xml' from '/Users/mac/anaconda/lib/python2.7/xml/__init__.pyc'>,\n",
       " 'logging.stat': None,\n",
       " 'email.time': None,\n",
       " 'importlib': <module 'importlib' from '/Users/mac/anaconda/lib/python2.7/importlib/__init__.pyc'>,\n",
       " 'prompt_toolkit.styles.from_pygments': <module 'prompt_toolkit.styles.from_pygments' from '/Users/mac/anaconda/lib/python2.7/site-packages/prompt_toolkit/styles/from_pygments.pyc'>,\n",
       " 'IPython.core.magic': <module 'IPython.core.magic' from '/Users/mac/anaconda/lib/python2.7/site-packages/IPython/core/magic.pyc'>,\n",
       " 'ipywidgets.widgets.ipython_genutils': None,\n",
       " 'IPython.utils.dir2': <module 'IPython.utils.dir2' from '/Users/mac/anaconda/lib/python2.7/site-packages/IPython/utils/dir2.pyc'>,\n",
       " '_json': <module '_json' from '/Users/mac/anaconda/lib/python2.7/lib-dynload/_json.so'>,\n",
       " 'prompt_toolkit.key_binding.bindings.basic': <module 'prompt_toolkit.key_binding.bindings.basic' from '/Users/mac/anaconda/lib/python2.7/site-packages/prompt_toolkit/key_binding/bindings/basic.pyc'>,\n",
       " 'pkg_resources._vendor.warnings': None,\n",
       " 'ipykernel.logging': None,\n",
       " 'traitlets.config.argparse': None,\n",
       " 'ipython_genutils.importstring': <module 'ipython_genutils.importstring' from '/Users/mac/anaconda/lib/python2.7/site-packages/ipython_genutils/importstring.pyc'>,\n",
       " 'jupyter_client.blocking.traitlets': None,\n",
       " 'logging.thread': None,\n",
       " 'cProfile': <module 'cProfile' from '/Users/mac/anaconda/lib/python2.7/cProfile.pyc'>,\n",
       " 'prompt_toolkit.styles.defaults': <module 'prompt_toolkit.styles.defaults' from '/Users/mac/anaconda/lib/python2.7/site-packages/prompt_toolkit/styles/defaults.pyc'>,\n",
       " 'prompt_toolkit.buffer_mapping': <module 'prompt_toolkit.buffer_mapping' from '/Users/mac/anaconda/lib/python2.7/site-packages/prompt_toolkit/buffer_mapping.pyc'>,\n",
       " 'prompt_toolkit.history': <module 'prompt_toolkit.history' from '/Users/mac/anaconda/lib/python2.7/site-packages/prompt_toolkit/history.pyc'>,\n",
       " 'IPython.lib.re': None,\n",
       " 'pathlib2': <module 'pathlib2' from '/Users/mac/anaconda/lib/python2.7/site-packages/pathlib2.pyc'>,\n",
       " 'pygments.sys': None,\n",
       " 'prompt_toolkit.terminal.termios': None,\n",
       " 'prompt_toolkit.styles': <module 'prompt_toolkit.styles' from '/Users/mac/anaconda/lib/python2.7/site-packages/prompt_toolkit/styles/__init__.pyc'>,\n",
       " 'concurrent.futures.threading': None,\n",
       " 'zipfile': <module 'zipfile' from '/Users/mac/anaconda/lib/python2.7/zipfile.pyc'>,\n",
       " 'repr': <module 'repr' from '/Users/mac/anaconda/lib/python2.7/repr.pyc'>,\n",
       " 'zmq.error': <module 'zmq.error' from '/Users/mac/anaconda/lib/python2.7/site-packages/zmq/error.pyc'>,\n",
       " 'wcwidth.table_zero': <module 'wcwidth.table_zero' from '/Users/mac/anaconda/lib/python2.7/site-packages/wcwidth/table_zero.pyc'>,\n",
       " 'ssl': <module 'ssl' from '/Users/mac/anaconda/lib/python2.7/ssl.pyc'>,\n",
       " 'traitlets.config.__future__': None,\n",
       " 'prompt_toolkit.reactive': <module 'prompt_toolkit.reactive' from '/Users/mac/anaconda/lib/python2.7/site-packages/prompt_toolkit/reactive.pyc'>,\n",
       " 'ipywidgets.widgets.widget_image': <module 'ipywidgets.widgets.widget_image' from '/Users/mac/anaconda/lib/python2.7/site-packages/ipywidgets/widgets/widget_image.pyc'>,\n",
       " 'tornado.platform.posix': <module 'tornado.platform.posix' from '/Users/mac/anaconda/lib/python2.7/site-packages/tornado/platform/posix.pyc'>,\n",
       " 'prompt_toolkit.terminal.tty': None,\n",
       " '_lsprof': <module '_lsprof' from '/Users/mac/anaconda/lib/python2.7/lib-dynload/_lsprof.so'>,\n",
       " 'IPython.os': None,\n",
       " 'pygments.lexer': <module 'pygments.lexer' from '/Users/mac/anaconda/lib/python2.7/site-packages/pygments/lexer.pyc'>,\n",
       " 'prompt_toolkit.completion': <module 'prompt_toolkit.completion' from '/Users/mac/anaconda/lib/python2.7/site-packages/prompt_toolkit/completion.pyc'>,\n",
       " 'ptyprocess.ptyprocess': <module 'ptyprocess.ptyprocess' from '/Users/mac/anaconda/lib/python2.7/site-packages/ptyprocess/ptyprocess.pyc'>,\n",
       " 'traitlets.config.collections': None,\n",
       " 'resource': <module 'resource' from '/Users/mac/anaconda/lib/python2.7/lib-dynload/resource.so'>,\n",
       " 'IPython.terminal.traitlets': None,\n",
       " 'bisect': <module 'bisect' from '/Users/mac/anaconda/lib/python2.7/bisect.pyc'>,\n",
       " 'traitlets.config': <module 'traitlets.config' from '/Users/mac/anaconda/lib/python2.7/site-packages/traitlets/config/__init__.pyc'>,\n",
       " 'IPython.utils.IPython': None,\n",
       " 'prompt_toolkit.validation': <module 'prompt_toolkit.validation' from '/Users/mac/anaconda/lib/python2.7/site-packages/prompt_toolkit/validation.pyc'>,\n",
       " 'pydoc': <module 'pydoc' from '/Users/mac/anaconda/lib/python2.7/pydoc.pyc'>,\n",
       " 'threading': <module 'threading' from '/Users/mac/anaconda/lib/python2.7/threading.pyc'>,\n",
       " 'prompt_toolkit.keys': <module 'prompt_toolkit.keys' from '/Users/mac/anaconda/lib/python2.7/site-packages/prompt_toolkit/keys.pyc'>,\n",
       " 'IPython.core.prefilter': <module 'IPython.core.prefilter' from '/Users/mac/anaconda/lib/python2.7/site-packages/IPython/core/prefilter.pyc'>,\n",
       " 'ipywidgets.widgets.widget_float': <module 'ipywidgets.widgets.widget_float' from '/Users/mac/anaconda/lib/python2.7/site-packages/ipywidgets/widgets/widget_float.pyc'>,\n",
       " 'pyexpat.model': <module 'pyexpat.model' (built-in)>,\n",
       " 'pkg_resources._vendor.six.moves': <module 'pkg_resources._vendor.six.moves' (built-in)>,\n",
       " 'pkg_resources._vendor.pyparsing': <module 'pkg_resources._vendor.pyparsing' from '/Users/mac/anaconda/lib/python2.7/site-packages/setuptools-27.2.0-py2.7.egg/pkg_resources/_vendor/pyparsing.py'>,\n",
       " 'IPython.lib.datetime': None,\n",
       " 'pygments.pkg_resources': None,\n",
       " 'IPython.core.events': <module 'IPython.core.events' from '/Users/mac/anaconda/lib/python2.7/site-packages/IPython/core/events.pyc'>,\n",
       " 'email.Message': <email.LazyImporter at 0x1017b9490>,\n",
       " 'IPython.core.textwrap': None,\n",
       " 'locale': <module 'locale' from '/Users/mac/anaconda/lib/python2.7/locale.pyc'>,\n",
       " 'ctypes.macholib.re': None,\n",
       " 'prompt_toolkit.document': <module 'prompt_toolkit.document' from '/Users/mac/anaconda/lib/python2.7/site-packages/prompt_toolkit/document.pyc'>,\n",
       " 'ptyprocess.sys': None,\n",
       " 'atexit': <module 'atexit' from '/Users/mac/anaconda/lib/python2.7/atexit.pyc'>,\n",
       " 'email.quopriMIME': <email.LazyImporter at 0x1017b9390>,\n",
       " 'pkg_resources._vendor.re': None,\n",
       " 'IPython.core.sys': None,\n",
       " 'pexpect.sys': None,\n",
       " 'calendar': <module 'calendar' from '/Users/mac/anaconda/lib/python2.7/calendar.pyc'>,\n",
       " 'ipykernel.comm.traitlets': None,\n",
       " 'IPython.utils.backports': None,\n",
       " 'IPython.core.magics.__future__': None,\n",
       " 'traitlets.sys': None,\n",
       " 'ipywidgets.widgets.numbers': None,\n",
       " 'traitlets.utils.bunch': <module 'traitlets.utils.bunch' from '/Users/mac/anaconda/lib/python2.7/site-packages/traitlets/utils/bunch.pyc'>,\n",
       " 'backports.shutil_get_terminal_size.get_terminal_size': <module 'backports.shutil_get_terminal_size.get_terminal_size' from '/Users/mac/anaconda/lib/python2.7/site-packages/backports/shutil_get_terminal_size/get_terminal_size.pyc'>,\n",
       " 'tornado.log': <module 'tornado.log' from '/Users/mac/anaconda/lib/python2.7/site-packages/tornado/log.pyc'>,\n",
       " 'jupyter_client.managerabc': <module 'jupyter_client.managerabc' from '/Users/mac/anaconda/lib/python2.7/site-packages/jupyter_client/managerabc.pyc'>,\n",
       " 'urllib': <module 'urllib' from '/Users/mac/anaconda/lib/python2.7/urllib.pyc'>,\n",
       " 'sqlite3.collections': None,\n",
       " 'IPython.lib.io': None,\n",
       " 'pkg_resources.extern.packaging.version': <module 'pkg_resources._vendor.packaging.version' from '/Users/mac/anaconda/lib/python2.7/site-packages/setuptools-27.2.0-py2.7.egg/pkg_resources/_vendor/packaging/version.py'>,\n",
       " 'pygments.StringIO': None,\n",
       " 'ipykernel.displayhook': <module 'ipykernel.displayhook' from '/Users/mac/anaconda/lib/python2.7/site-packages/ipykernel/displayhook.pyc'>,\n",
       " 'pkg_resources._vendor.string': None,\n",
       " 'zmq.sys': None,\n",
       " 'ctypes.subprocess': None,\n",
       " 'email': <module 'email' from '/Users/mac/anaconda/lib/python2.7/email/__init__.pyc'>,\n",
       " 'fcntl': <module 'fcntl' from '/Users/mac/anaconda/lib/python2.7/lib-dynload/fcntl.so'>,\n",
       " 'ipywidgets.widgets.collections': None,\n",
       " 'IPython.utils.path': <module 'IPython.utils.path' from '/Users/mac/anaconda/lib/python2.7/site-packages/IPython/utils/path.pyc'>,\n",
       " 'ipywidgets.widgets.inspect': None,\n",
       " 'IPython.core.atexit': None,\n",
       " 'pygments.plugin': <module 'pygments.plugin' from '/Users/mac/anaconda/lib/python2.7/site-packages/pygments/plugin.pyc'>,\n",
       " 'prompt_toolkit.layout.controls': <module 'prompt_toolkit.layout.controls' from '/Users/mac/anaconda/lib/python2.7/site-packages/prompt_toolkit/layout/controls.pyc'>,\n",
       " 'zmq.utils': <module 'zmq.utils' from '/Users/mac/anaconda/lib/python2.7/site-packages/zmq/utils/__init__.pyc'>,\n",
       " 'jupyter_client.localinterfaces': <module 'jupyter_client.localinterfaces' from '/Users/mac/anaconda/lib/python2.7/site-packages/jupyter_client/localinterfaces.pyc'>,\n",
       " 'Queue': <module 'Queue' from '/Users/mac/anaconda/lib/python2.7/Queue.pyc'>,\n",
       " 'IPython.utils._signatures': <module 'IPython.utils._signatures' from '/Users/mac/anaconda/lib/python2.7/site-packages/IPython/utils/_signatures.pyc'>,\n",
       " 'ctypes': <module 'ctypes' from '/Users/mac/anaconda/lib/python2.7/ctypes/__init__.pyc'>,\n",
       " 'IPython.lib.collections': None,\n",
       " 'IPython.core.magics.re': None,\n",
       " 'IPython.utils._process_common': <module 'IPython.utils._process_common' from '/Users/mac/anaconda/lib/python2.7/site-packages/IPython/utils/_process_common.pyc'>,\n",
       " 'pickleshare': <module 'pickleshare' from '/Users/mac/anaconda/lib/python2.7/site-packages/pickleshare.pyc'>,\n",
       " 'prompt_toolkit.eventloop': <module 'prompt_toolkit.eventloop' from '/Users/mac/anaconda/lib/python2.7/site-packages/prompt_toolkit/eventloop/__init__.pyc'>,\n",
       " 'ipykernel.ipykernel': None,\n",
       " 'ipython_genutils.functools': None,\n",
       " 'prompt_toolkit.types': None,\n",
       " 'traitlets.config.application': <module 'traitlets.config.application' from '/Users/mac/anaconda/lib/python2.7/site-packages/traitlets/config/application.pyc'>,\n",
       " 'jupyter_client.socket': None,\n",
       " 'tornado.stack_context': <module 'tornado.stack_context' from '/Users/mac/anaconda/lib/python2.7/site-packages/tornado/stack_context.pyc'>,\n",
       " 'ipykernel.atexit': None,\n",
       " 'prompt_toolkit.key_binding.bindings': <module 'prompt_toolkit.key_binding.bindings' from '/Users/mac/anaconda/lib/python2.7/site-packages/prompt_toolkit/key_binding/bindings/__init__.pyc'>,\n",
       " 'prompt_toolkit.filters.base': <module 'prompt_toolkit.filters.base' from '/Users/mac/anaconda/lib/python2.7/site-packages/prompt_toolkit/filters/base.pyc'>,\n",
       " 'itertools': <module 'itertools' from '/Users/mac/anaconda/lib/python2.7/lib-dynload/itertools.so'>,\n",
       " 'opcode': <module 'opcode' from '/Users/mac/anaconda/lib/python2.7/opcode.pyc'>,\n",
       " 'pstats': <module 'pstats' from '/Users/mac/anaconda/lib/python2.7/pstats.pyc'>,\n",
       " 'prompt_toolkit.key_binding.bindings.math': None,\n",
       " 'ptyprocess.signal': None,\n",
       " 'traitlets.config.six': None,\n",
       " 'pdb': <module 'pdb' from '/Users/mac/anaconda/lib/python2.7/pdb.pyc'>,\n",
       " 'IPython.terminal.shortcuts': <module 'IPython.terminal.shortcuts' from '/Users/mac/anaconda/lib/python2.7/site-packages/IPython/terminal/shortcuts.pyc'>,\n",
       " 'IPython.core.magics.subprocess': None,\n",
       " 'IPython.terminal.signal': None,\n",
       " 'IPython.extensions.os': None,\n",
       " 'IPython.core.magics.atexit': None,\n",
       " 'six.moves': <module 'six.moves' (built-in)>,\n",
       " 'IPython.terminal.logging': None,\n",
       " 'zmq.errno': None,\n",
       " 'email.uu': None,\n",
       " 'IPython.testing': <module 'IPython.testing' from '/Users/mac/anaconda/lib/python2.7/site-packages/IPython/testing/__init__.pyc'>,\n",
       " 'prompt_toolkit.renderer': <module 'prompt_toolkit.renderer' from '/Users/mac/anaconda/lib/python2.7/site-packages/prompt_toolkit/renderer.pyc'>,\n",
       " 'sqlite3.datetime': None,\n",
       " 'zmq.sugar.socket': <module 'zmq.sugar.socket' from '/Users/mac/anaconda/lib/python2.7/site-packages/zmq/sugar/socket.pyc'>,\n",
       " 'prompt_toolkit.key_binding.bindings.string': None,\n",
       " 'pygments.lexers.re': None,\n",
       " 'email.calendar': None,\n",
       " 'pygments': <module 'pygments' from '/Users/mac/anaconda/lib/python2.7/site-packages/pygments/__init__.pyc'>,\n",
       " 'logging.errno': None,\n",
       " 'zmq.eventloop.zmqstream': <module 'zmq.eventloop.zmqstream' from '/Users/mac/anaconda/lib/python2.7/site-packages/zmq/eventloop/zmqstream.pyc'>,\n",
       " 'curses._curses': None,\n",
       " 'prompt_toolkit.signal': None,\n",
       " 'IPython.core.hooks': <module 'IPython.core.hooks' from '/Users/mac/anaconda/lib/python2.7/site-packages/IPython/core/hooks.pyc'>,\n",
       " 'email.socket': None,\n",
       " 'IPython.display': <module 'IPython.display' from '/Users/mac/anaconda/lib/python2.7/site-packages/IPython/display.pyc'>,\n",
       " 'pkgutil': <module 'pkgutil' from '/Users/mac/anaconda/lib/python2.7/pkgutil.pyc'>,\n",
       " 'IPython.core.tokenize': None,\n",
       " 'platform': <module 'platform' from '/Users/mac/anaconda/lib/python2.7/platform.pyc'>,\n",
       " 'zmq.backend': <module 'zmq.backend' from '/Users/mac/anaconda/lib/python2.7/site-packages/zmq/backend/__init__.pyc'>,\n",
       " 'IPython.lib.__future__': None,\n",
       " 'IPython.utils.sentinel': <module 'IPython.utils.sentinel' from '/Users/mac/anaconda/lib/python2.7/site-packages/IPython/utils/sentinel.pyc'>,\n",
       " 'ipykernel.tornado': None,\n",
       " 'IPython.core.magics.warnings': None,\n",
       " 'logging.struct': None,\n",
       " 'sre_constants': <module 'sre_constants' from '/Users/mac/anaconda/lib/python2.7/sre_constants.pyc'>,\n",
       " 'zmq.backend.os': None,\n",
       " 'json': <module 'json' from '/Users/mac/anaconda/lib/python2.7/json/__init__.pyc'>,\n",
       " 'pygments.styles.default': <module 'pygments.styles.default' from '/Users/mac/anaconda/lib/python2.7/site-packages/pygments/styles/default.pyc'>,\n",
       " 'prompt_toolkit.filters.prompt_toolkit': None,\n",
       " 'jupyter_client.pprint': None,\n",
       " 'jupyter_client.jsonutil': <module 'jupyter_client.jsonutil' from '/Users/mac/anaconda/lib/python2.7/site-packages/jupyter_client/jsonutil.pyc'>,\n",
       " 'pkg_resources._vendor.sre_constants': None,\n",
       " 'zmq.sugar.random': None,\n",
       " 'ipykernel.platform': None,\n",
       " 'IPython.lib.warnings': None,\n",
       " 'json.re': None,\n",
       " 'prompt_toolkit.sys': None,\n",
       " 'zmq.utils.itertools': None,\n",
       " 'prompt_toolkit.layout.lexers': <module 'prompt_toolkit.layout.lexers' from '/Users/mac/anaconda/lib/python2.7/site-packages/prompt_toolkit/layout/lexers.pyc'>,\n",
       " 'zmq.eventloop': <module 'zmq.eventloop' from '/Users/mac/anaconda/lib/python2.7/site-packages/zmq/eventloop/__init__.pyc'>,\n",
       " 'ipykernel.os': None,\n",
       " 'prompt_toolkit.eventloop.six': None,\n",
       " 'jupyter_client.uuid': None,\n",
       " 'termios': <module 'termios' from '/Users/mac/anaconda/lib/python2.7/lib-dynload/termios.so'>,\n",
       " 'IPython.IPython': None,\n",
       " 'ptyprocess.shutil': None,\n",
       " 'prompt_toolkit.application': <module 'prompt_toolkit.application' from '/Users/mac/anaconda/lib/python2.7/site-packages/prompt_toolkit/application.pyc'>,\n",
       " 'zmq.sugar': <module 'zmq.sugar' from '/Users/mac/anaconda/lib/python2.7/site-packages/zmq/sugar/__init__.pyc'>,\n",
       " 'logging.atexit': None,\n",
       " 'logging.cPickle': None,\n",
       " 'logging.socket': None,\n",
       " 'email.MIMENonMultipart': <email.LazyImporter at 0x1017502d0>,\n",
       " 'getpass': <module 'getpass' from '/Users/mac/anaconda/lib/python2.7/getpass.pyc'>,\n",
       " 'ipykernel.__future__': None,\n",
       " 'concurrent.futures.logging': None,\n",
       " 'prompt_toolkit.inspect': None,\n",
       " 'prompt_toolkit.functools': None,\n",
       " 'ptyprocess.util': <module 'ptyprocess.util' from '/Users/mac/anaconda/lib/python2.7/site-packages/ptyprocess/util.pyc'>,\n",
       " 'storemagic': <module 'storemagic' from '/Users/mac/anaconda/lib/python2.7/site-packages/IPython/extensions/storemagic.pyc'>,\n",
       " 'zlib': <module 'zlib' from '/Users/mac/anaconda/lib/python2.7/lib-dynload/zlib.so'>,\n",
       " 'prompt_toolkit.textwrap': None,\n",
       " 'email.random': None,\n",
       " 'ipython_genutils.__builtin__': None,\n",
       " 'concurrent.futures.Queue': None,\n",
       " 'multiprocessing.weakref': None,\n",
       " 'jupyter_client.datetime': None,\n",
       " 'IPython.terminal.prompt_toolkit': None,\n",
       " 'pyexpat': <module 'pyexpat' from '/Users/mac/anaconda/lib/python2.7/lib-dynload/pyexpat.so'>,\n",
       " 'ipykernel.thread': None,\n",
       " 'json.decoder': <module 'json.decoder' from '/Users/mac/anaconda/lib/python2.7/json/decoder.pyc'>,\n",
       " 'traitlets.enum': None,\n",
       " 'copy_reg': <module 'copy_reg' from '/Users/mac/anaconda/lib/python2.7/copy_reg.pyc'>,\n",
       " 'IPython.core.magics.os': None,\n",
       " 'ipykernel.kernelapp': <module 'ipykernel.kernelapp' from '/Users/mac/anaconda/lib/python2.7/site-packages/ipykernel/kernelapp.pyc'>,\n",
       " 'pkg_resources._vendor.packaging.specifiers': <module 'pkg_resources._vendor.packaging.specifiers' from '/Users/mac/anaconda/lib/python2.7/site-packages/setuptools-27.2.0-py2.7.egg/pkg_resources/_vendor/packaging/specifiers.py'>,\n",
       " 'tornado.platform.auto': <module 'tornado.platform.auto' from '/Users/mac/anaconda/lib/python2.7/site-packages/tornado/platform/auto.pyc'>,\n",
       " 'pkg_resources._vendor.appdirs': <module 'pkg_resources._vendor.appdirs' from '/Users/mac/anaconda/lib/python2.7/site-packages/setuptools-27.2.0-py2.7.egg/pkg_resources/_vendor/appdirs.py'>,\n",
       " 'IPython.utils.linecache': None,\n",
       " 'site': <module 'site' from '/Users/mac/anaconda/lib/python2.7/site.pyc'>,\n",
       " 'wcwidth': <module 'wcwidth' from '/Users/mac/anaconda/lib/python2.7/site-packages/wcwidth/__init__.pyc'>,\n",
       " 'ipywidgets.widgets.widget_selectioncontainer': <module 'ipywidgets.widgets.widget_selectioncontainer' from '/Users/mac/anaconda/lib/python2.7/site-packages/ipywidgets/widgets/widget_selectioncontainer.pyc'>,\n",
       " 'IPython.core.shutil': None,\n",
       " 'io': <module 'io' from '/Users/mac/anaconda/lib/python2.7/io.pyc'>,\n",
       " 'ipython_genutils.string': None,\n",
       " 'prompt_toolkit.search_state': <module 'prompt_toolkit.search_state' from '/Users/mac/anaconda/lib/python2.7/site-packages/prompt_toolkit/search_state.pyc'>,\n",
       " 'pkg_resources._vendor.packaging._structures': <module 'pkg_resources._vendor.packaging._structures' from '/Users/mac/anaconda/lib/python2.7/site-packages/setuptools-27.2.0-py2.7.egg/pkg_resources/_vendor/packaging/_structures.py'>,\n",
       " 'IPython.core.pygments': None,\n",
       " 'shutil': <module 'shutil' from '/Users/mac/anaconda/lib/python2.7/shutil.pyc'>,\n",
       " 'IPython.utils.random': None,\n",
       " 'jupyter_client.clientabc': <module 'jupyter_client.clientabc' from '/Users/mac/anaconda/lib/python2.7/site-packages/jupyter_client/clientabc.pyc'>,\n",
       " 'pygments.filters.pygments': None,\n",
       " 'zmq.sugar.zmq': None,\n",
       " 'zmq.backend.sys': None,\n",
       " 'prompt_toolkit.terminal.os': None,\n",
       " 'prompt_toolkit.styles.base': <module 'prompt_toolkit.styles.base' from '/Users/mac/anaconda/lib/python2.7/site-packages/prompt_toolkit/styles/base.pyc'>,\n",
       " 'pygments.styles.pygments': None,\n",
       " 'IPython.lib.logging': None,\n",
       " 'ipykernel.zmqshell': <module 'ipykernel.zmqshell' from '/Users/mac/anaconda/lib/python2.7/site-packages/ipykernel/zmqshell.pyc'>,\n",
       " 'IPython.utils.decorators': <module 'IPython.utils.decorators' from '/Users/mac/anaconda/lib/python2.7/site-packages/IPython/utils/decorators.pyc'>,\n",
       " 'IPython.testing.skipdoctest': <module 'IPython.testing.skipdoctest' from '/Users/mac/anaconda/lib/python2.7/site-packages/IPython/testing/skipdoctest.pyc'>,\n",
       " 'email.binascii': None,\n",
       " 'IPython.core.magics.script': <module 'IPython.core.magics.script' from '/Users/mac/anaconda/lib/python2.7/site-packages/IPython/core/magics/script.pyc'>,\n",
       " 'sqlite3': <module 'sqlite3' from '/Users/mac/anaconda/lib/python2.7/sqlite3/__init__.pyc'>,\n",
       " 'pygments.formatters.pygments': None,\n",
       " 'prompt_toolkit.weakref': None,\n",
       " 'IPython.core.magics.basic': <module 'IPython.core.magics.basic' from '/Users/mac/anaconda/lib/python2.7/site-packages/IPython/core/magics/basic.pyc'>,\n",
       " 'pkg_resources.extern': <module 'pkg_resources.extern' from '/Users/mac/anaconda/lib/python2.7/site-packages/setuptools-27.2.0-py2.7.egg/pkg_resources/extern/__init__.py'>,\n",
       " 'traitlets.config.traitlets': None,\n",
       " 'IPython.core.macro': <module 'IPython.core.macro' from '/Users/mac/anaconda/lib/python2.7/site-packages/IPython/core/macro.pyc'>,\n",
       " 'IPython.core.magics.pprint': None,\n",
       " 'IPython.utils.data': <module 'IPython.utils.data' from '/Users/mac/anaconda/lib/python2.7/site-packages/IPython/utils/data.pyc'>,\n",
       " 'IPython.core.logger': <module 'IPython.core.logger' from '/Users/mac/anaconda/lib/python2.7/site-packages/IPython/core/logger.pyc'>,\n",
       " 'json.json': None,\n",
       " 'IPython.terminal.ipapp': <module 'IPython.terminal.ipapp' from '/Users/mac/anaconda/lib/python2.7/site-packages/IPython/terminal/ipapp.pyc'>,\n",
       " 'IPython.core.types': None,\n",
       " 'sys': <module 'sys' (built-in)>,\n",
       " 'IPython.terminal.IPython': None,\n",
       " 'multiprocessing.subprocess': None,\n",
       " 'IPython.core.string': None,\n",
       " 'email.cStringIO': None,\n",
       " 'jupyter_client.traitlets': None,\n",
       " 'IPython.terminal.pt_inputhooks.importlib': None,\n",
       " 'tornado.util': <module 'tornado.util' from '/Users/mac/anaconda/lib/python2.7/site-packages/tornado/util.pyc'>,\n",
       " 'IPython.utils.importstring': <module 'IPython.utils.importstring' from '/Users/mac/anaconda/lib/python2.7/site-packages/IPython/utils/importstring.pyc'>,\n",
       " 'pkg_resources._vendor.packaging': <module 'pkg_resources._vendor.packaging' from '/Users/mac/anaconda/lib/python2.7/site-packages/setuptools-27.2.0-py2.7.egg/pkg_resources/_vendor/packaging/__init__.py'>,\n",
       " '_weakref': <module '_weakref' (built-in)>,\n",
       " 'pygments.formatters.__future__': None,\n",
       " 'IPython.core.inputtransformer': <module 'IPython.core.inputtransformer' from '/Users/mac/anaconda/lib/python2.7/site-packages/IPython/core/inputtransformer.pyc'>,\n",
       " 'pkg_resources.extern.pyparsing': <module 'pkg_resources._vendor.pyparsing' from '/Users/mac/anaconda/lib/python2.7/site-packages/setuptools-27.2.0-py2.7.egg/pkg_resources/_vendor/pyparsing.py'>,\n",
       " 'urlparse': <module 'urlparse' from '/Users/mac/anaconda/lib/python2.7/urlparse.pyc'>,\n",
       " 'ipykernel.binascii': None,\n",
       " 'ctypes.macholib.dylib': <module 'ctypes.macholib.dylib' from '/Users/mac/anaconda/lib/python2.7/ctypes/macholib/dylib.pyc'>,\n",
       " 'pygments.cStringIO': None,\n",
       " 'ipywidgets.widgets.re': None,\n",
       " 'IPython.core.decorator': None,\n",
       " 'IPython.core.application': <module 'IPython.core.application' from '/Users/mac/anaconda/lib/python2.7/site-packages/IPython/core/application.pyc'>,\n",
       " 'ipykernel._version': <module 'ipykernel._version' from '/Users/mac/anaconda/lib/python2.7/site-packages/ipykernel/_version.pyc'>,\n",
       " 'IPython.core': <module 'IPython.core' from '/Users/mac/anaconda/lib/python2.7/site-packages/IPython/core/__init__.pyc'>,\n",
       " 'prompt_toolkit.layout.processors': <module 'prompt_toolkit.layout.processors' from '/Users/mac/anaconda/lib/python2.7/site-packages/prompt_toolkit/layout/processors.pyc'>,\n",
       " 'IPython.core.pprint': None,\n",
       " 'traitlets.utils.six': None,\n",
       " 'logging.logging': None,\n",
       " 'prompt_toolkit.key_binding.registry': <module 'prompt_toolkit.key_binding.registry' from '/Users/mac/anaconda/lib/python2.7/site-packages/prompt_toolkit/key_binding/registry.pyc'>,\n",
       " 'heapq': <module 'heapq' from '/Users/mac/anaconda/lib/python2.7/heapq.pyc'>,\n",
       " 'concurrent.futures._base': <module 'concurrent.futures._base' from '/Users/mac/anaconda/lib/python2.7/site-packages/concurrent/futures/_base.pyc'>,\n",
       " 'concurrent.futures': <module 'concurrent.futures' from '/Users/mac/anaconda/lib/python2.7/site-packages/concurrent/futures/__init__.pyc'>,\n",
       " 'IPython.core.time': None,\n",
       " 'prompt_toolkit.terminal.array': None,\n",
       " 'prompt_toolkit.key_binding.bindings.completion': <module 'prompt_toolkit.key_binding.bindings.completion' from '/Users/mac/anaconda/lib/python2.7/site-packages/prompt_toolkit/key_binding/bindings/completion.pyc'>,\n",
       " 'IPython.extensions': <module 'IPython.extensions' from '/Users/mac/anaconda/lib/python2.7/site-packages/IPython/extensions/__init__.pyc'>,\n",
       " 'ipykernel.pickleutil': <module 'ipykernel.pickleutil' from '/Users/mac/anaconda/lib/python2.7/site-packages/ipykernel/pickleutil.pyc'>,\n",
       " 'ipykernel.iostream': <module 'ipykernel.iostream' from '/Users/mac/anaconda/lib/python2.7/site-packages/ipykernel/iostream.pyc'>,\n",
       " 'ptyprocess.struct': None,\n",
       " 'zmq.backend.cython.socket': <module 'zmq.backend.cython.socket' from '/Users/mac/anaconda/lib/python2.7/site-packages/zmq/backend/cython/socket.so'>,\n",
       " 'IPython.terminal.pt_inputhooks.os': None,\n",
       " 'IPython.core.oinspect': <module 'IPython.core.oinspect' from '/Users/mac/anaconda/lib/python2.7/site-packages/IPython/core/oinspect.pyc'>,\n",
       " 'pkg_resources.extern.packaging': <module 'pkg_resources._vendor.packaging' from '/Users/mac/anaconda/lib/python2.7/site-packages/setuptools-27.2.0-py2.7.egg/pkg_resources/_vendor/packaging/__init__.py'>,\n",
       " 'zmq.sugar.time': None,\n",
       " 'prompt_toolkit.key_binding.bindings.codecs': None,\n",
       " 'zmq.sugar.attrsettr': <module 'zmq.sugar.attrsettr' from '/Users/mac/anaconda/lib/python2.7/site-packages/zmq/sugar/attrsettr.pyc'>,\n",
       " 'email.mime': <module 'email.mime' from '/Users/mac/anaconda/lib/python2.7/email/mime/__init__.pyc'>,\n",
       " 'IPython.core.os': None,\n",
       " 'zmq.backend.cython.constants': <module 'zmq.backend.cython.constants' from '/Users/mac/anaconda/lib/python2.7/site-packages/zmq/backend/cython/constants.so'>,\n",
       " 'ipython_genutils.path': <module 'ipython_genutils.path' from '/Users/mac/anaconda/lib/python2.7/site-packages/ipython_genutils/path.pyc'>,\n",
       " 'ctypes.macholib.itertools': None,\n",
       " 'jupyter_client.logging': None,\n",
       " 'struct': <module 'struct' from '/Users/mac/anaconda/lib/python2.7/struct.pyc'>,\n",
       " 'xml.parsers.pyexpat': None,\n",
       " 'prompt_toolkit.terminal.prompt_toolkit': None,\n",
       " 'IPython.utils.strdispatch': <module 'IPython.utils.strdispatch' from '/Users/mac/anaconda/lib/python2.7/site-packages/IPython/utils/strdispatch.pyc'>,\n",
       " 'IPython.core.inputsplitter': <module 'IPython.core.inputsplitter' from '/Users/mac/anaconda/lib/python2.7/site-packages/IPython/core/inputsplitter.pyc'>,\n",
       " 'IPython.utils.tokenize2': <module 'IPython.utils.tokenize2' from '/Users/mac/anaconda/lib/python2.7/site-packages/IPython/utils/tokenize2.pyc'>,\n",
       " 'prompt_toolkit.terminal.errno': None,\n",
       " 'IPython.lib': <module 'IPython.lib' from '/Users/mac/anaconda/lib/python2.7/site-packages/IPython/lib/__init__.pyc'>,\n",
       " 'sqlite3._sqlite3': None,\n",
       " 'prompt_toolkit.key_binding': <module 'prompt_toolkit.key_binding' from '/Users/mac/anaconda/lib/python2.7/site-packages/prompt_toolkit/key_binding/__init__.pyc'>,\n",
       " 'email.warnings': None,\n",
       " 'collections': <module 'collections' from '/Users/mac/anaconda/lib/python2.7/collections.pyc'>,\n",
       " 'jupyter_client.cPickle': None,\n",
       " 'pkg_resources._vendor.sys': None,\n",
       " 'prompt_toolkit.filters.collections': None,\n",
       " 'zmq.sugar.atexit': None,\n",
       " 'email.Parser': <email.LazyImporter at 0x1017b9410>,\n",
       " 'ipykernel.comm.comm': <module 'ipykernel.comm.comm' from '/Users/mac/anaconda/lib/python2.7/site-packages/ipykernel/comm/comm.pyc'>,\n",
       " 'zmq.utils.sys': None,\n",
       " 'IPython.extensions.sys': None,\n",
       " 'backports.shutil_get_terminal_size.ctypes': None,\n",
       " 'traitlets.utils': <module 'traitlets.utils' from '/Users/mac/anaconda/lib/python2.7/site-packages/traitlets/utils/__init__.pyc'>,\n",
       " 'ipython_genutils.encoding': <module 'ipython_genutils.encoding' from '/Users/mac/anaconda/lib/python2.7/site-packages/ipython_genutils/encoding.pyc'>,\n",
       " 'zipimport': <module 'zipimport' (built-in)>,\n",
       " 'IPython.core.struct': None,\n",
       " 'IPython.core.magics.execution': <module 'IPython.core.magics.execution' from '/Users/mac/anaconda/lib/python2.7/site-packages/IPython/core/magics/execution.pyc'>,\n",
       " 'pkg_resources.extern.sys': None,\n",
       " 'pkg_resources.extern.packaging.markers': <module 'pkg_resources._vendor.packaging.markers' from '/Users/mac/anaconda/lib/python2.7/site-packages/setuptools-27.2.0-py2.7.egg/pkg_resources/_vendor/packaging/markers.py'>,\n",
       " 'jupyter_client': <module 'jupyter_client' from '/Users/mac/anaconda/lib/python2.7/site-packages/jupyter_client/__init__.pyc'>,\n",
       " 'IPython.terminal.magics': <module 'IPython.terminal.magics' from '/Users/mac/anaconda/lib/python2.7/site-packages/IPython/terminal/magics.pyc'>,\n",
       " 'textwrap': <module 'textwrap' from '/Users/mac/anaconda/lib/python2.7/textwrap.pyc'>,\n",
       " 'zmq.platform': None,\n",
       " 'IPython.lib.subprocess': None,\n",
       " 'pkg_resources._vendor.threading': None,\n",
       " 'getopt': <module 'getopt' from '/Users/mac/anaconda/lib/python2.7/getopt.pyc'>,\n",
       " 'jupyter_client.channelsabc': <module 'jupyter_client.channelsabc' from '/Users/mac/anaconda/lib/python2.7/site-packages/jupyter_client/channelsabc.pyc'>,\n",
       " 'prompt_toolkit.filters.__future__': None,\n",
       " 'pexpect.traceback': None,\n",
       " 'ipykernel.math': None,\n",
       " 'traitlets.config.re': None,\n",
       " 'zmq.backend.cython._version': <module 'zmq.backend.cython._version' from '/Users/mac/anaconda/lib/python2.7/site-packages/zmq/backend/cython/_version.so'>,\n",
       " 'pexpect.types': None,\n",
       " 'IPython.lib.random': None,\n",
       " 'ipykernel.codeutil': <module 'ipykernel.codeutil' from '/Users/mac/anaconda/lib/python2.7/site-packages/ipykernel/codeutil.pyc'>,\n",
       " 'IPython.utils.frame': <module 'IPython.utils.frame' from '/Users/mac/anaconda/lib/python2.7/site-packages/IPython/utils/frame.pyc'>,\n",
       " 'signal': <module 'signal' (built-in)>,\n",
       " 'IPython.core.payloadpage': <module 'IPython.core.payloadpage' from '/Users/mac/anaconda/lib/python2.7/site-packages/IPython/core/payloadpage.pyc'>,\n",
       " 'xml.parsers': <module 'xml.parsers' from '/Users/mac/anaconda/lib/python2.7/xml/parsers/__init__.pyc'>,\n",
       " 'prompt_toolkit.filters.abc': None,\n",
       " 'prompt_toolkit.re': None,\n",
       " 'IPython.terminal.warnings': None,\n",
       " 'prompt_toolkit.layout.containers': <module 'prompt_toolkit.layout.containers' from '/Users/mac/anaconda/lib/python2.7/site-packages/prompt_toolkit/layout/containers.pyc'>,\n",
       " 'quopri': <module 'quopri' from '/Users/mac/anaconda/lib/python2.7/quopri.pyc'>,\n",
       " 'IPython.core.magics': <module 'IPython.core.magics' from '/Users/mac/anaconda/lib/python2.7/site-packages/IPython/core/magics/__init__.pyc'>,\n",
       " 'pygments.lexers.types': None,\n",
       " 'IPython.core.getopt': None,\n",
       " 'jupyter_client.kernelspec': <module 'jupyter_client.kernelspec' from '/Users/mac/anaconda/lib/python2.7/site-packages/jupyter_client/kernelspec.pyc'>,\n",
       " 'IPython.utils.string': None,\n",
       " 'IPython.lib.display': <module 'IPython.lib.display' from '/Users/mac/anaconda/lib/python2.7/site-packages/IPython/lib/display.pyc'>,\n",
       " 'ipywidgets._version': <module 'ipywidgets._version' from '/Users/mac/anaconda/lib/python2.7/site-packages/ipywidgets/_version.pyc'>,\n",
       " 'IPython.terminal.prompts': <module 'IPython.terminal.prompts' from '/Users/mac/anaconda/lib/python2.7/site-packages/IPython/terminal/prompts.pyc'>,\n",
       " 'mimetypes': <module 'mimetypes' from '/Users/mac/anaconda/lib/python2.7/mimetypes.pyc'>,\n",
       " 'IPython.core.magics.auto': <module 'IPython.core.magics.auto' from '/Users/mac/anaconda/lib/python2.7/site-packages/IPython/core/magics/auto.pyc'>,\n",
       " 'xml.parsers.expat': <module 'xml.parsers.expat' from '/Users/mac/anaconda/lib/python2.7/xml/parsers/expat.pyc'>,\n",
       " 'ipykernel.io': None,\n",
       " 'prompt_toolkit.key_binding.bindings.emacs': <module 'prompt_toolkit.key_binding.bindings.emacs' from '/Users/mac/anaconda/lib/python2.7/site-packages/prompt_toolkit/key_binding/bindings/emacs.pyc'>,\n",
       " 'pygments.lexers._mapping': <module 'pygments.lexers._mapping' from '/Users/mac/anaconda/lib/python2.7/site-packages/pygments/lexers/_mapping.pyc'>,\n",
       " 'IPython.utils.token': None,\n",
       " 'email.Generator': <email.LazyImporter at 0x1017b98d0>,\n",
       " 'IPython.utils.module_paths': <module 'IPython.utils.module_paths' from '/Users/mac/anaconda/lib/python2.7/site-packages/IPython/utils/module_paths.pyc'>,\n",
       " 'pygments.lexers.os': None,\n",
       " 'logging.re': None,\n",
       " 'logging.traceback': None,\n",
       " 'IPython.core.magic_arguments': <module 'IPython.core.magic_arguments' from '/Users/mac/anaconda/lib/python2.7/site-packages/IPython/core/magic_arguments.pyc'>,\n",
       " 'pygments.codecs': None,\n",
       " 'traitlets.utils.getargspec': <module 'traitlets.utils.getargspec' from '/Users/mac/anaconda/lib/python2.7/site-packages/traitlets/utils/getargspec.pyc'>,\n",
       " 'IPython.core.magics.logging': <module 'IPython.core.magics.logging' from '/Users/mac/anaconda/lib/python2.7/site-packages/IPython/core/magics/logging.pyc'>,\n",
       " 'wcwidth.table_wide': <module 'wcwidth.table_wide' from '/Users/mac/anaconda/lib/python2.7/site-packages/wcwidth/table_wide.pyc'>,\n",
       " 'warnings': <module 'warnings' from '/Users/mac/anaconda/lib/python2.7/warnings.pyc'>,\n",
       " 'IPython.utils.sysinfo': <module 'IPython.utils.sysinfo' from '/Users/mac/anaconda/lib/python2.7/site-packages/IPython/utils/sysinfo.pyc'>,\n",
       " 'backports': <module 'backports' from '/Users/mac/anaconda/lib/python2.7/site-packages/backports/__init__.pyc'>,\n",
       " 'prompt_toolkit.key_binding.bindings.utils': <module 'prompt_toolkit.key_binding.bindings.utils' from '/Users/mac/anaconda/lib/python2.7/site-packages/prompt_toolkit/key_binding/bindings/utils.pyc'>,\n",
       " 'IPython.lib.security': <module 'IPython.lib.security' from '/Users/mac/anaconda/lib/python2.7/site-packages/IPython/lib/security.pyc'>,\n",
       " 'prompt_toolkit.key_binding.digraphs': <module 'prompt_toolkit.key_binding.digraphs' from '/Users/mac/anaconda/lib/python2.7/site-packages/prompt_toolkit/key_binding/digraphs.pyc'>,\n",
       " 'IPython.core.subprocess': None,\n",
       " 'pygments.formatters.re': None,\n",
       " 'tornado.escape': <module 'tornado.escape' from '/Users/mac/anaconda/lib/python2.7/site-packages/tornado/escape.pyc'>,\n",
       " 'traitlets.config.logging': None,\n",
       " 'ipython_genutils.warnings': None,\n",
       " 'IPython.lib.backgroundjobs': <module 'IPython.lib.backgroundjobs' from '/Users/mac/anaconda/lib/python2.7/site-packages/IPython/lib/backgroundjobs.pyc'>,\n",
       " 'IPython.utils.subprocess': None,\n",
       " 'jupyter_client.abc': None,\n",
       " 'prompt_toolkit.key_binding.bindings.itertools': None,\n",
       " 'IPython.utils.syspathcontext': <module 'IPython.utils.syspathcontext' from '/Users/mac/anaconda/lib/python2.7/site-packages/IPython/utils/syspathcontext.pyc'>,\n",
       " 'UserDict': <module 'UserDict' from '/Users/mac/anaconda/lib/python2.7/UserDict.pyc'>,\n",
       " 'traitlets.config.ipython_genutils': None,\n",
       " 'enum': <module 'enum' from '/Users/mac/anaconda/lib/python2.7/site-packages/enum/__init__.pyc'>,\n",
       " 'pygments.os': None,\n",
       " 'prompt_toolkit.prompt_toolkit': None,\n",
       " 'IPython.utils.PyColorize': <module 'IPython.utils.PyColorize' from '/Users/mac/anaconda/lib/python2.7/site-packages/IPython/utils/PyColorize.pyc'>,\n",
       " 'ipywidgets.widgets.widget_int': <module 'ipywidgets.widgets.widget_int' from '/Users/mac/anaconda/lib/python2.7/site-packages/ipywidgets/widgets/widget_int.pyc'>,\n",
       " 'prompt_toolkit.time': None,\n",
       " 'IPython.terminal.wcwidth': None,\n",
       " 'logging.sys': None,\n",
       " 'pexpect.re': None,\n",
       " 'IPython.terminal.ptutils': <module 'IPython.terminal.ptutils' from '/Users/mac/anaconda/lib/python2.7/site-packages/IPython/terminal/ptutils.pyc'>,\n",
       " '_functools': <module '_functools' from '/Users/mac/anaconda/lib/python2.7/lib-dynload/_functools.so'>,\n",
       " 'ipykernel.sys': None,\n",
       " 'email.Iterators': <email.LazyImporter at 0x1017b9510>,\n",
       " 'socket': <module 'socket' from '/Users/mac/anaconda/lib/python2.7/socket.pyc'>,\n",
       " ...}"
      ]
     },
     "execution_count": 9,
     "metadata": {},
     "output_type": "execute_result"
    }
   ],
   "source": [
    "sys.modules"
   ]
  },
  {
   "cell_type": "code",
   "execution_count": null,
   "metadata": {
    "collapsed": false
   },
   "outputs": [],
   "source": [
    "help(\"modules dict\")"
   ]
  },
  {
   "cell_type": "code",
   "execution_count": 1,
   "metadata": {
    "collapsed": false,
    "scrolled": true
   },
   "outputs": [
    {
     "data": {
      "text/plain": [
       "['__add__',\n",
       " '__class__',\n",
       " '__contains__',\n",
       " '__delattr__',\n",
       " '__delitem__',\n",
       " '__delslice__',\n",
       " '__doc__',\n",
       " '__eq__',\n",
       " '__format__',\n",
       " '__ge__',\n",
       " '__getattribute__',\n",
       " '__getitem__',\n",
       " '__getslice__',\n",
       " '__gt__',\n",
       " '__hash__',\n",
       " '__iadd__',\n",
       " '__imul__',\n",
       " '__init__',\n",
       " '__iter__',\n",
       " '__le__',\n",
       " '__len__',\n",
       " '__lt__',\n",
       " '__mul__',\n",
       " '__ne__',\n",
       " '__new__',\n",
       " '__reduce__',\n",
       " '__reduce_ex__',\n",
       " '__repr__',\n",
       " '__reversed__',\n",
       " '__rmul__',\n",
       " '__setattr__',\n",
       " '__setitem__',\n",
       " '__setslice__',\n",
       " '__sizeof__',\n",
       " '__str__',\n",
       " '__subclasshook__',\n",
       " 'append',\n",
       " 'count',\n",
       " 'extend',\n",
       " 'index',\n",
       " 'insert',\n",
       " 'pop',\n",
       " 'remove',\n",
       " 'reverse',\n",
       " 'sort']"
      ]
     },
     "execution_count": 1,
     "metadata": {},
     "output_type": "execute_result"
    }
   ],
   "source": [
    "dir(list)"
   ]
  },
  {
   "cell_type": "code",
   "execution_count": 4,
   "metadata": {
    "collapsed": false,
    "scrolled": true
   },
   "outputs": [
    {
     "data": {
      "text/plain": [
       "['__displayhook__',\n",
       " '__doc__',\n",
       " '__excepthook__',\n",
       " '__name__',\n",
       " '__package__',\n",
       " '__stderr__',\n",
       " '__stdin__',\n",
       " '__stdout__',\n",
       " '_clear_type_cache',\n",
       " '_current_frames',\n",
       " '_getframe',\n",
       " '_mercurial',\n",
       " 'api_version',\n",
       " 'argv',\n",
       " 'builtin_module_names',\n",
       " 'byteorder',\n",
       " 'call_tracing',\n",
       " 'callstats',\n",
       " 'copyright',\n",
       " 'displayhook',\n",
       " 'dont_write_bytecode',\n",
       " 'exc_clear',\n",
       " 'exc_info',\n",
       " 'exc_type',\n",
       " 'excepthook',\n",
       " 'exec_prefix',\n",
       " 'executable',\n",
       " 'exit',\n",
       " 'exitfunc',\n",
       " 'flags',\n",
       " 'float_info',\n",
       " 'float_repr_style',\n",
       " 'getcheckinterval',\n",
       " 'getdefaultencoding',\n",
       " 'getdlopenflags',\n",
       " 'getfilesystemencoding',\n",
       " 'getprofile',\n",
       " 'getrecursionlimit',\n",
       " 'getrefcount',\n",
       " 'getsizeof',\n",
       " 'gettrace',\n",
       " 'hexversion',\n",
       " 'last_traceback',\n",
       " 'last_type',\n",
       " 'last_value',\n",
       " 'long_info',\n",
       " 'maxint',\n",
       " 'maxsize',\n",
       " 'maxunicode',\n",
       " 'meta_path',\n",
       " 'modules',\n",
       " 'path',\n",
       " 'path_hooks',\n",
       " 'path_importer_cache',\n",
       " 'platform',\n",
       " 'prefix',\n",
       " 'ps1',\n",
       " 'ps2',\n",
       " 'ps3',\n",
       " 'py3kwarning',\n",
       " 'setcheckinterval',\n",
       " 'setdlopenflags',\n",
       " 'setprofile',\n",
       " 'setrecursionlimit',\n",
       " 'settrace',\n",
       " 'stderr',\n",
       " 'stdin',\n",
       " 'stdout',\n",
       " 'subversion',\n",
       " 'version',\n",
       " 'version_info',\n",
       " 'warnoptions']"
      ]
     },
     "execution_count": 4,
     "metadata": {},
     "output_type": "execute_result"
    }
   ],
   "source": [
    "dir(sys)"
   ]
  },
  {
   "cell_type": "code",
   "execution_count": 5,
   "metadata": {
    "collapsed": false,
    "scrolled": true
   },
   "outputs": [
    {
     "data": {
      "text/plain": [
       "['In',\n",
       " 'Out',\n",
       " '_',\n",
       " '_1',\n",
       " '_4',\n",
       " '__',\n",
       " '___',\n",
       " '__builtin__',\n",
       " '__builtins__',\n",
       " '__doc__',\n",
       " '__name__',\n",
       " '__package__',\n",
       " '_dh',\n",
       " '_i',\n",
       " '_i1',\n",
       " '_i2',\n",
       " '_i3',\n",
       " '_i4',\n",
       " '_i5',\n",
       " '_ih',\n",
       " '_ii',\n",
       " '_iii',\n",
       " '_oh',\n",
       " '_sh',\n",
       " 'exit',\n",
       " 'get_ipython',\n",
       " 'quit',\n",
       " 'sys']"
      ]
     },
     "execution_count": 5,
     "metadata": {},
     "output_type": "execute_result"
    }
   ],
   "source": [
    "dir()"
   ]
  },
  {
   "cell_type": "code",
   "execution_count": 6,
   "metadata": {
    "collapsed": false,
    "scrolled": true
   },
   "outputs": [
    {
     "data": {
      "text/plain": [
       "['ArithmeticError',\n",
       " 'AssertionError',\n",
       " 'AttributeError',\n",
       " 'BaseException',\n",
       " 'BufferError',\n",
       " 'BytesWarning',\n",
       " 'DeprecationWarning',\n",
       " 'EOFError',\n",
       " 'Ellipsis',\n",
       " 'EnvironmentError',\n",
       " 'Exception',\n",
       " 'False',\n",
       " 'FloatingPointError',\n",
       " 'FutureWarning',\n",
       " 'GeneratorExit',\n",
       " 'IOError',\n",
       " 'ImportError',\n",
       " 'ImportWarning',\n",
       " 'IndentationError',\n",
       " 'IndexError',\n",
       " 'KeyError',\n",
       " 'KeyboardInterrupt',\n",
       " 'LookupError',\n",
       " 'MemoryError',\n",
       " 'NameError',\n",
       " 'None',\n",
       " 'NotImplemented',\n",
       " 'NotImplementedError',\n",
       " 'OSError',\n",
       " 'OverflowError',\n",
       " 'PendingDeprecationWarning',\n",
       " 'ReferenceError',\n",
       " 'RuntimeError',\n",
       " 'RuntimeWarning',\n",
       " 'StandardError',\n",
       " 'StopIteration',\n",
       " 'SyntaxError',\n",
       " 'SyntaxWarning',\n",
       " 'SystemError',\n",
       " 'SystemExit',\n",
       " 'TabError',\n",
       " 'True',\n",
       " 'TypeError',\n",
       " 'UnboundLocalError',\n",
       " 'UnicodeDecodeError',\n",
       " 'UnicodeEncodeError',\n",
       " 'UnicodeError',\n",
       " 'UnicodeTranslateError',\n",
       " 'UnicodeWarning',\n",
       " 'UserWarning',\n",
       " 'ValueError',\n",
       " 'Warning',\n",
       " 'ZeroDivisionError',\n",
       " '__IPYTHON__',\n",
       " '__debug__',\n",
       " '__doc__',\n",
       " '__import__',\n",
       " '__name__',\n",
       " '__package__',\n",
       " 'abs',\n",
       " 'all',\n",
       " 'any',\n",
       " 'apply',\n",
       " 'basestring',\n",
       " 'bin',\n",
       " 'bool',\n",
       " 'buffer',\n",
       " 'bytearray',\n",
       " 'bytes',\n",
       " 'callable',\n",
       " 'chr',\n",
       " 'classmethod',\n",
       " 'cmp',\n",
       " 'coerce',\n",
       " 'compile',\n",
       " 'complex',\n",
       " 'copyright',\n",
       " 'credits',\n",
       " 'delattr',\n",
       " 'dict',\n",
       " 'dir',\n",
       " 'divmod',\n",
       " 'dreload',\n",
       " 'enumerate',\n",
       " 'eval',\n",
       " 'execfile',\n",
       " 'file',\n",
       " 'filter',\n",
       " 'float',\n",
       " 'format',\n",
       " 'frozenset',\n",
       " 'get_ipython',\n",
       " 'getattr',\n",
       " 'globals',\n",
       " 'hasattr',\n",
       " 'hash',\n",
       " 'help',\n",
       " 'hex',\n",
       " 'id',\n",
       " 'input',\n",
       " 'int',\n",
       " 'intern',\n",
       " 'isinstance',\n",
       " 'issubclass',\n",
       " 'iter',\n",
       " 'len',\n",
       " 'license',\n",
       " 'list',\n",
       " 'locals',\n",
       " 'long',\n",
       " 'map',\n",
       " 'max',\n",
       " 'memoryview',\n",
       " 'min',\n",
       " 'next',\n",
       " 'object',\n",
       " 'oct',\n",
       " 'open',\n",
       " 'ord',\n",
       " 'pow',\n",
       " 'print',\n",
       " 'property',\n",
       " 'range',\n",
       " 'raw_input',\n",
       " 'reduce',\n",
       " 'reload',\n",
       " 'repr',\n",
       " 'reversed',\n",
       " 'round',\n",
       " 'set',\n",
       " 'setattr',\n",
       " 'slice',\n",
       " 'sorted',\n",
       " 'staticmethod',\n",
       " 'str',\n",
       " 'sum',\n",
       " 'super',\n",
       " 'tuple',\n",
       " 'type',\n",
       " 'unichr',\n",
       " 'unicode',\n",
       " 'vars',\n",
       " 'xrange',\n",
       " 'zip']"
      ]
     },
     "execution_count": 6,
     "metadata": {},
     "output_type": "execute_result"
    }
   ],
   "source": [
    "dir(__builtins__)"
   ]
  },
  {
   "cell_type": "code",
   "execution_count": 7,
   "metadata": {
    "collapsed": false,
    "scrolled": true
   },
   "outputs": [
    {
     "data": {
      "text/plain": [
       "['__add__',\n",
       " '__class__',\n",
       " '__contains__',\n",
       " '__delattr__',\n",
       " '__doc__',\n",
       " '__eq__',\n",
       " '__format__',\n",
       " '__ge__',\n",
       " '__getattribute__',\n",
       " '__getitem__',\n",
       " '__getnewargs__',\n",
       " '__getslice__',\n",
       " '__gt__',\n",
       " '__hash__',\n",
       " '__init__',\n",
       " '__le__',\n",
       " '__len__',\n",
       " '__lt__',\n",
       " '__mod__',\n",
       " '__mul__',\n",
       " '__ne__',\n",
       " '__new__',\n",
       " '__reduce__',\n",
       " '__reduce_ex__',\n",
       " '__repr__',\n",
       " '__rmod__',\n",
       " '__rmul__',\n",
       " '__setattr__',\n",
       " '__sizeof__',\n",
       " '__str__',\n",
       " '__subclasshook__',\n",
       " '_formatter_field_name_split',\n",
       " '_formatter_parser',\n",
       " 'capitalize',\n",
       " 'center',\n",
       " 'count',\n",
       " 'decode',\n",
       " 'encode',\n",
       " 'endswith',\n",
       " 'expandtabs',\n",
       " 'find',\n",
       " 'format',\n",
       " 'index',\n",
       " 'isalnum',\n",
       " 'isalpha',\n",
       " 'isdigit',\n",
       " 'islower',\n",
       " 'isspace',\n",
       " 'istitle',\n",
       " 'isupper',\n",
       " 'join',\n",
       " 'ljust',\n",
       " 'lower',\n",
       " 'lstrip',\n",
       " 'partition',\n",
       " 'replace',\n",
       " 'rfind',\n",
       " 'rindex',\n",
       " 'rjust',\n",
       " 'rpartition',\n",
       " 'rsplit',\n",
       " 'rstrip',\n",
       " 'split',\n",
       " 'splitlines',\n",
       " 'startswith',\n",
       " 'strip',\n",
       " 'swapcase',\n",
       " 'title',\n",
       " 'translate',\n",
       " 'upper',\n",
       " 'zfill']"
      ]
     },
     "execution_count": 7,
     "metadata": {},
     "output_type": "execute_result"
    }
   ],
   "source": [
    "dir(\"string\")"
   ]
  },
  {
   "cell_type": "code",
   "execution_count": 8,
   "metadata": {
    "collapsed": false,
    "scrolled": true
   },
   "outputs": [
    {
     "data": {
      "text/plain": [
       "['__abs__',\n",
       " '__add__',\n",
       " '__and__',\n",
       " '__class__',\n",
       " '__cmp__',\n",
       " '__coerce__',\n",
       " '__delattr__',\n",
       " '__div__',\n",
       " '__divmod__',\n",
       " '__doc__',\n",
       " '__float__',\n",
       " '__floordiv__',\n",
       " '__format__',\n",
       " '__getattribute__',\n",
       " '__getnewargs__',\n",
       " '__hash__',\n",
       " '__hex__',\n",
       " '__index__',\n",
       " '__init__',\n",
       " '__int__',\n",
       " '__invert__',\n",
       " '__long__',\n",
       " '__lshift__',\n",
       " '__mod__',\n",
       " '__mul__',\n",
       " '__neg__',\n",
       " '__new__',\n",
       " '__nonzero__',\n",
       " '__oct__',\n",
       " '__or__',\n",
       " '__pos__',\n",
       " '__pow__',\n",
       " '__radd__',\n",
       " '__rand__',\n",
       " '__rdiv__',\n",
       " '__rdivmod__',\n",
       " '__reduce__',\n",
       " '__reduce_ex__',\n",
       " '__repr__',\n",
       " '__rfloordiv__',\n",
       " '__rlshift__',\n",
       " '__rmod__',\n",
       " '__rmul__',\n",
       " '__ror__',\n",
       " '__rpow__',\n",
       " '__rrshift__',\n",
       " '__rshift__',\n",
       " '__rsub__',\n",
       " '__rtruediv__',\n",
       " '__rxor__',\n",
       " '__setattr__',\n",
       " '__sizeof__',\n",
       " '__str__',\n",
       " '__sub__',\n",
       " '__subclasshook__',\n",
       " '__truediv__',\n",
       " '__trunc__',\n",
       " '__xor__',\n",
       " 'bit_length',\n",
       " 'conjugate',\n",
       " 'denominator',\n",
       " 'imag',\n",
       " 'numerator',\n",
       " 'real']"
      ]
     },
     "execution_count": 8,
     "metadata": {},
     "output_type": "execute_result"
    }
   ],
   "source": [
    "dir(1)"
   ]
  },
  {
   "cell_type": "code",
   "execution_count": 11,
   "metadata": {
    "collapsed": false
   },
   "outputs": [
    {
     "data": {
      "text/plain": [
       "6"
      ]
     },
     "execution_count": 11,
     "metadata": {},
     "output_type": "execute_result"
    }
   ],
   "source": [
    "sum([1,2,3])"
   ]
  },
  {
   "cell_type": "code",
   "execution_count": null,
   "metadata": {
    "collapsed": true
   },
   "outputs": [],
   "source": [
    ""
   ]
  }
 ],
 "metadata": {
  "kernelspec": {
   "display_name": "Python 2",
   "language": "python",
   "name": "python2"
  },
  "language_info": {
   "codemirror_mode": {
    "name": "ipython",
    "version": 2.0
   },
   "file_extension": ".py",
   "mimetype": "text/x-python",
   "name": "python",
   "nbconvert_exporter": "python",
   "pygments_lexer": "ipython2",
   "version": "2.7.13"
  }
 },
 "nbformat": 4,
 "nbformat_minor": 0
}