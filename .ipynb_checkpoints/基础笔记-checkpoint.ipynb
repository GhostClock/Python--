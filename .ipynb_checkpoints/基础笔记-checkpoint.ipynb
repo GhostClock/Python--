{
 "cells": [
  {
   "cell_type": "code",
   "execution_count": 1,
   "metadata": {
    "collapsed": false
   },
   "outputs": [
    {
     "name": "stdout",
     "output_type": "stream",
     "text": [
      "Hello World ====== ++++++++\n"
     ]
    }
   ],
   "source": [
    "print \"Hello World\",\"======\",\"++++++++\""
   ]
  },
  {
   "cell_type": "code",
   "execution_count": 2,
   "metadata": {
    "collapsed": false
   },
   "outputs": [
    {
     "name": "stdout",
     "output_type": "stream",
     "text": [
      "My Ghost age = 12\n",
      "My Ghost age =  12\n"
     ]
    }
   ],
   "source": [
    "name = \"Ghost\"\n",
    "age = 12\n",
    "print \"My\",name,\"age = %d\" % age\n",
    "print \"My\",name,\"age = \" ,age"
   ]
  },
  {
   "cell_type": "code",
   "execution_count": 3,
   "metadata": {
    "collapsed": false
   },
   "outputs": [
    {
     "name": "stdout",
     "output_type": "stream",
     "text": [
      "**********\n"
     ]
    }
   ],
   "source": [
    " print \"*\" * 10"
   ]
  },
  {
   "cell_type": "markdown",
   "metadata": {},
   "source": [
    "## 字符串相关"
   ]
  },
  {
   "cell_type": "code",
   "execution_count": 15,
   "metadata": {
    "collapsed": false
   },
   "outputs": [
    {
     "name": "stdout",
     "output_type": "stream",
     "text": [
      "1 2 3 6\n",
      "'123' 123 4556 789\n",
      "'dsgvds' 'sgdsgds' 'grehyt' 'dsfas'\n",
      "True True True False\n"
     ]
    }
   ],
   "source": [
    "# 格式化字符串\n",
    "formatter = \"%r %r %r %r\" # 可以用%s 但是最好用%r 因为%r是变量的『原始』数据 ，能够在打印的时候重现它代表的对象\n",
    "\n",
    "print formatter % (1,2,3,6)\n",
    "print formatter % (\"123\",123,4556,789)\n",
    "print formatter % (\"dsgvds\",\"sgdsgds\",'grehyt','dsfas')\n",
    "print formatter % (True,True,True,False)"
   ]
  },
  {
   "cell_type": "code",
   "execution_count": 23,
   "metadata": {
    "collapsed": false
   },
   "outputs": [
    {
     "name": "stdout",
     "output_type": "stream",
     "text": [
      "Here are the days: Mon Tue Wed Thu Fri Sta Sun\n",
      "Here are the Months:  Jan\n",
      "Feb\n",
      "Mar\n",
      "Apr\n",
      "May\n",
      "Jun\n",
      "Jul\n",
      "Ang\n",
      "\n",
      "sdgnsdkognkodsgn,\n",
      "sbdhfjkbdsjfbds,\n",
      "nfasdkfndskf,\n",
      "dksfdksfnsdfna,\n",
      "fsabvfjasbfja\n",
      "\n"
     ]
    }
   ],
   "source": [
    "days = \"Mon Tue Wed Thu Fri Sta Sun\"\n",
    "months = \"Jan\\nFeb\\nMar\\nApr\\nMay\\nJun\\nJul\\nAng\"\n",
    "print \"Here are the days: \" + days # 字符串的拼接用,和+都可以\n",
    "print \"Here are the Months: \",months\n",
    "print \"\"\"\n",
    "sdgnsdkognkodsgn,\n",
    "sbdhfjkbdsjfbds,\n",
    "nfasdkfndskf,\n",
    "dksfdksfnsdfna,\n",
    "fsabvfjasbfja\n",
    "\"\"\""
   ]
  },
  {
   "cell_type": "code",
   "execution_count": 24,
   "metadata": {
    "collapsed": false
   },
   "outputs": [
    {
     "name": "stdout",
     "output_type": "stream",
     "text": [
      "I \"understand\" joe\n"
     ]
    }
   ],
   "source": [
    "print \"I \\\"understand\\\" joe\" #需要转义"
   ]
  },
  {
   "cell_type": "code",
   "execution_count": 28,
   "metadata": {
    "collapsed": false
   },
   "outputs": [
    {
     "name": "stdout",
     "output_type": "stream",
     "text": [
      " ['/', '-', '|', '\\\\', '|']\n",
      "/\n",
      "-\n",
      "|\n",
      "\\\n",
      "|\n"
     ]
    }
   ],
   "source": [
    "array = [\"/\",\"-\",\"|\",\"\\\\\",\"|\"]\n",
    "i = 0\n",
    "# while i < array.count :\n",
    "#     for a in array :\n",
    "#         print a\n",
    "print array\n",
    "for i in array :\n",
    "    print i"
   ]
  },
  {
   "cell_type": "code",
   "execution_count": 29,
   "metadata": {
    "collapsed": false
   },
   "outputs": [
    {
     "name": "stdout",
     "output_type": "stream",
     "text": [
      "你几岁了 11\n",
      " 你多高? 22\n",
      " 你多重？22\n",
      " So ,you '11' old,'22' tall nad '22' heavy\n"
     ]
    }
   ],
   "source": [
    "print \"你几岁了 \",# 这个逗号为了防止换行\n",
    "age = raw_input() # raw_input接受用户的输入\n",
    "print \"你多高? \",\n",
    "height = raw_input()\n",
    "print \"你多重？\",\n",
    "wight = raw_input()\n",
    "\n",
    "print \"So ,you %r old,%r tall nad %r heavy\" % (age , height ,wight)"
   ]
  },
  {
   "cell_type": "markdown",
   "metadata": {},
   "source": [
    "## raw_input 用法"
   ]
  },
  {
   "cell_type": "code",
   "execution_count": 48,
   "metadata": {
    "collapsed": false
   },
   "outputs": [
    {
     "name": "stdout",
     "output_type": "stream",
     "text": [
      "Name?111\n"
     ]
    }
   ],
   "source": [
    "y = raw_input(\"Name?\") ## 在raw_input(\"name\") 里面的文字是作为提示用的"
   ]
  },
  {
   "cell_type": "markdown",
   "metadata": {},
   "source": [
    "## 参数，解包，变量"
   ]
  },
  {
   "cell_type": "code",
   "execution_count": 47,
   "metadata": {
    "collapsed": false
   },
   "outputs": [
    {
     "name": "stdout",
     "output_type": "stream",
     "text": [
      "['/Users/mac/anaconda/lib/python2.7/site-packages/ipykernel/__main__.py', '-f', '/Users/mac/Library/Jupyter/runtime/kernel-33e49b13-95f7-48d4-b635-f5597ee9e7a1.json']\n",
      "The script is called /Users/mac/anaconda/lib/python2.7/site-packages/ipykernel/__main__.py\n",
      "The first is called -f\n",
      "The second is called /Users/mac/Library/Jupyter/runtime/kernel-33e49b13-95f7-48d4-b635-f5597ee9e7a1.json\n"
     ]
    }
   ],
   "source": [
    "from sys import argv\n",
    "print argv\n",
    "\n",
    "script, first, second = argv # 解包\n",
    "\n",
    "print \"The script is called\",script\n",
    "print \"The first is called\",first\n",
    "print \"The second is called\",second"
   ]
  },
  {
   "cell_type": "markdown",
   "metadata": {},
   "source": [
    "## 读文件"
   ]
  },
  {
   "cell_type": "code",
   "execution_count": 61,
   "metadata": {
    "collapsed": false
   },
   "outputs": [
    {
     "name": "stdout",
     "output_type": "stream",
     "text": [
      "<open file '\\xe6\\xba\\x90\\xe6\\x96\\x87\\xe4\\xbb\\xb6.txt', mode 'r' at 0x1038ed540>\n",
      "Where do you live zed\n",
      ">11\n",
      "What Kind of computer do you have ?\n",
      ">11\n",
      "\n",
      "Alrght ,so you said '11' about linking me,\n",
      "You live in '11' ,Not sure Where that is,\n",
      "And you hava a '11' computer, Nice\n",
      "\n",
      "GhostClock:PythonSpider_Study GhostClock$ python 基础笔记-Test.py zed\n",
      "Hi zed, Im the 基础笔记-Test.py script\n",
      "Id like to ask you a faw questions\n",
      "Do you link me zed\n",
      "---->Yes\n",
      "Where do you live zed\n",
      "---->sss\n",
      "What Kind of computer do you have ?\n",
      "---->dddd\n",
      "\n",
      "Alrght ,so you said 'Yes' about linking me,\n",
      "You live in 'sss' ,Not sure Where that is,\n",
      "And you hava a 'dddd' computer, Nice\n",
      "\n",
      "GhostClock:PythonSpider_Study GhostClock$\n"
     ]
    }
   ],
   "source": [
    "from sys import argv\n",
    "filename = \"源文件.txt\"\n",
    "\n",
    "txt = open(filename) ## 返回的是文件对象\n",
    "\n",
    "print txt.read()\n",
    "txt.close() # 关闭源文件"
   ]
  },
  {
   "cell_type": "markdown",
   "metadata": {},
   "source": [
    "### 读写文件的方法\n",
    "    1. close 关闭文件\n",
    "    2. read 读取文件内容\n",
    "    3. readline 读取文本文件中的一行\n",
    "    4. truncate 清空文件\n",
    "    5. write(\"ddd\") 把ddd写入到文件"
   ]
  },
  {
   "cell_type": "code",
   "execution_count": 84,
   "metadata": {
    "collapsed": false
   },
   "outputs": [
    {
     "name": "stdout",
     "output_type": "stream",
     "text": [
      "\n",
      "+++++++++ \n",
      "\n",
      "Where do you live zed\n",
      ">11\n",
      "What Kind of computer do you have ?\n",
      ">11\n",
      "\n",
      "Alrght ,so you said '11' about linking me,\n",
      "You live in '11' ,Not sure Where that is,\n",
      "And you hava a '11' computer, Nice\n",
      "\n",
      "GhostClock:PythonSpider_Study GhostClock$ python 基础笔记-Test.py zed\n",
      "Hi zed, Im the 基础笔记-Test.py script\n",
      "Id like to ask you a faw questions\n",
      "Do you link me zed\n",
      "---->Yes\n",
      "Where do you live zed\n",
      "---->sss\n",
      "What Kind of computer do you have ?\n",
      "---->dddd\n",
      "\n",
      "Alrght ,so you said 'Yes' about linking me,\n",
      "You live in 'sss' ,Not sure Where that is,\n",
      "And you hava a 'dddd' computer, Nice\n",
      "\n",
      "GhostClock:PythonSpider_Study GhostClock$\n"
     ]
    }
   ],
   "source": [
    "from sys import argv\n",
    "\n",
    "wfilename = \"text.txt\"\n",
    "ofilename = \"源文件.txt\"\n",
    "\n",
    "otarget = open(ofilename)\n",
    "txt = otarget.read()\n",
    "# print txt\n",
    "\n",
    "wtarget = open(wfilename,'w')\n",
    "wtarget.write(txt)\n",
    "\n",
    "print \"\\n+++++++++ \\n\"\n",
    "txt2 = open(wfilename)\n",
    "print txt2.read()\n",
    "\n",
    "otarget.close()\n",
    "wtarget.close()\n"
   ]
  },
  {
   "cell_type": "markdown",
   "metadata": {},
   "source": [
    "# 命令 变量 代码 函数"
   ]
  },
  {
   "cell_type": "code",
   "execution_count": 98,
   "metadata": {
    "collapsed": true
   },
   "outputs": [],
   "source": [
    "def print_two(*args):\n",
    "    arg1,arg2 = args\n",
    "    print \"arg1: %r ,arg2: %r\" % (arg1,arg2)\n",
    "    \n",
    "def print_two_again(arg1,arg2):\n",
    "    print \"arg1: %r ,arg2: %r\" % (arg1,arg2)\n",
    "    \n",
    "def print_one(arg1):\n",
    "    print \"arg1: %r\" % arg1\n",
    "    \n",
    "def print_none():\n",
    "    print \"Nothing……\""
   ]
  },
  {
   "cell_type": "code",
   "execution_count": 102,
   "metadata": {
    "collapsed": false
   },
   "outputs": [
    {
     "name": "stdout",
     "output_type": "stream",
     "text": [
      "arg1: 'Ghost' ,arg2: 'Clock'\n",
      "arg1: 'Ghost' ,arg2: 'Clock'\n",
      "arg1: 'Ones'\n",
      "Nothing……\n"
     ]
    }
   ],
   "source": [
    "print_two(\"Ghost\",\"Clock\")\n",
    "\n",
    "print_two_again(\"Ghost\",\"Clock\")\n",
    "\n",
    "print_one(\"Ones\")\n",
    "\n",
    "print_none()"
   ]
  },
  {
   "cell_type": "code",
   "execution_count": 112,
   "metadata": {
    "collapsed": false
   },
   "outputs": [],
   "source": [
    "def cheese_and_crackers(cheese_count,boex_of_crackers):\n",
    "    print \"You have %r cheeses\\nYou have %r boxes of crackers\\nMan that enongh for a party\\nGet a blanket \\n\" %(\n",
    "        cheese_count,boex_of_crackers)"
   ]
  },
  {
   "cell_type": "code",
   "execution_count": 114,
   "metadata": {
    "collapsed": false
   },
   "outputs": [
    {
     "name": "stdout",
     "output_type": "stream",
     "text": [
      "You have 20 cheeses\n",
      "You have 30 boxes of crackers\n",
      "Man that enongh for a party\n",
      "Get a blanket \n",
      "\n"
     ]
    }
   ],
   "source": [
    "cheese_and_crackers(20,30)\n",
    "# cheese_and_crackers(\"Ghost\",\"Clock\")"
   ]
  },
  {
   "cell_type": "code",
   "execution_count": 115,
   "metadata": {
    "collapsed": false
   },
   "outputs": [
    {
     "name": "stdout",
     "output_type": "stream",
     "text": [
      "You have 10 cheeses\n",
      "You have 50 boxes of crackers\n",
      "Man that enongh for a party\n",
      "Get a blanket \n",
      "\n",
      "You have 20 cheeses\n",
      "You have 80 boxes of crackers\n",
      "Man that enongh for a party\n",
      "Get a blanket \n",
      "\n"
     ]
    }
   ],
   "source": [
    "amount_of_cheese = 10\n",
    "amount_of_crackers = 50\n",
    "\n",
    "cheese_and_crackers(amount_of_cheese,amount_of_crackers)\n",
    "\n",
    "cheese_and_crackers(amount_of_cheese + 10,amount_of_crackers + 30)"
   ]
  },
  {
   "cell_type": "markdown",
   "metadata": {},
   "source": [
    "#### 练习"
   ]
  },
  {
   "cell_type": "code",
   "execution_count": 132,
   "metadata": {
    "collapsed": false
   },
   "outputs": [
    {
     "name": "stdout",
     "output_type": "stream",
     "text": [
      "Where do you live zed\n",
      ">11\n",
      "What Kind of computer do you have ?\n",
      ">11\n",
      "\n",
      "Alrght ,so you said '11' about linking me,\n",
      "You live in '11' ,Not sure Where that is,\n",
      "And you hava a '11' computer, Nice\n",
      "\n",
      "GhostClock:PythonSpider_Study GhostClock$ python 基础笔记-Test.py zed\n",
      "Hi zed, Im the 基础笔记-Test.py script\n",
      "Id like to ask you a faw questions\n",
      "Do you link me zed\n",
      "---->Yes\n",
      "Where do you live zed\n",
      "---->sss\n",
      "What Kind of computer do you have ?\n",
      "---->dddd\n",
      "\n",
      "Alrght ,so you said 'Yes' about linking me,\n",
      "You live in 'sss' ,Not sure Where that is,\n",
      "And you hava a 'dddd' computer, Nice\n",
      "\n",
      "GhostClock:PythonSpider_Study GhostClock$\n",
      "1 Where do you live zed\n",
      "\n",
      "=== >\n",
      "=== 1\n",
      "=== 1\n",
      "=== \n",
      "\n"
     ]
    }
   ],
   "source": [
    "from sys import argv\n",
    "\n",
    "def print_all(f):\n",
    "    print f.read()\n",
    "    \n",
    "def rewind(f):\n",
    "    f.seek(0)\n",
    "\n",
    "def print_a_line(line_count,f):\n",
    "    print line_count,f.readline()\n",
    "\n",
    "input_file = \"text.txt\"\n",
    "\n",
    "try:\n",
    "    current_file = open(input_file)\n",
    "except EOFError:\n",
    "    EOFError.message\n",
    "    \n",
    "print_all(current_file)\n",
    "rewind(current_file)\n",
    "\n",
    "current_line = 1\n",
    "print_a_line(current_line,current_file)\n",
    "\n"
   ]
  },
  {
   "cell_type": "markdown",
   "metadata": {},
   "source": [
    "## 函数返回值"
   ]
  },
  {
   "cell_type": "code",
   "execution_count": 158,
   "metadata": {
    "collapsed": false
   },
   "outputs": [
    {
     "name": "stdout",
     "output_type": "stream",
     "text": [
      "请输入第一个数:10\n",
      "请输入第二个数:10\n",
      "20\n",
      "计算结果为: 20\n",
      "71\n",
      "5\n",
      "33.3333333333\n",
      "你好\n"
     ]
    }
   ],
   "source": [
    "#!/user/bin/python\n",
    "# -*- coding: UTF-8 -*-\n",
    "def add(a,b):\n",
    "    print a + b\n",
    "    return a + b\n",
    "\n",
    "def subtract(a,b):\n",
    "    print a - b\n",
    "    return a - b\n",
    "\n",
    "def mult(a,b):\n",
    "    print a * b\n",
    "    return a * b\n",
    "\n",
    "def divide(a,b):\n",
    "    if b == 0 :\n",
    "        print \"被除数不能为0\"\n",
    "        return b\n",
    "    print a / b\n",
    "    return a / b\n",
    "\n",
    "user_input1 = int(raw_input(\"请输入第一个数:\"))\n",
    "user_input2 = int(raw_input(\"请输入第二个数:\"))\n",
    "age =  add(user_input1,user_input2)\n",
    "print \"计算结果为:\" , age\n",
    "height = subtract(78,7)\n",
    "weight = mult(5,1)\n",
    "iq = divide(100,3.)\n",
    "print \"你好\"\n",
    "# 函数调用函数\n",
    "# print add(age,subtract(height,mult(height,divide(iq,2))))"
   ]
  },
  {
   "cell_type": "markdown",
   "metadata": {},
   "source": [
    "# 考试 - 改错"
   ]
  },
  {
   "cell_type": "code",
   "execution_count": 16,
   "metadata": {
    "collapsed": false
   },
   "outputs": [
    {
     "name": "stdout",
     "output_type": "stream",
     "text": [
      "Let's practice everything.\n",
      "You'd need to know 'bout escapes with \\ that do \n",
      " newlines and \t tabs.\n",
      "--------------\n",
      "\n",
      "\tThe lovely world\n",
      "with logic so firmly planted\n",
      "cannot discern \n",
      " the needs of love\n",
      "nor comprehend passion from intuition\n",
      "and requires an explantion\n",
      "\n",
      "\t\twhere there is none.\n",
      "\n",
      "--------------\n",
      "This should be five: 6\n"
     ]
    },
    {
     "ename": "NameError",
     "evalue": "name 'start' is not defined",
     "output_type": "error",
     "traceback": [
      "\u001b[0;31m---------------------------------------------------------------------------\u001b[0m",
      "\u001b[0;31mNameError\u001b[0m                                 Traceback (most recent call last)",
      "\u001b[0;32m<ipython-input-16-c06a7833fe27>\u001b[0m in \u001b[0;36m<module>\u001b[0;34m()\u001b[0m\n\u001b[1;32m     64\u001b[0m \u001b[0;34m\u001b[0m\u001b[0m\n\u001b[1;32m     65\u001b[0m \u001b[0mstart_point\u001b[0m \u001b[0;34m=\u001b[0m \u001b[0;36m10000\u001b[0m\u001b[0;34m\u001b[0m\u001b[0m\n\u001b[0;32m---> 66\u001b[0;31m \u001b[0mbeans\u001b[0m\u001b[0;34m,\u001b[0m \u001b[0mjars\u001b[0m\u001b[0;34m,\u001b[0m \u001b[0mcrates\u001b[0m \u001b[0;34m=\u001b[0m \u001b[0msecret_formula\u001b[0m\u001b[0;34m(\u001b[0m\u001b[0mstart\u001b[0m\u001b[0;34m-\u001b[0m\u001b[0mpoint\u001b[0m\u001b[0;34m)\u001b[0m\u001b[0;34m\u001b[0m\u001b[0m\n\u001b[0m\u001b[1;32m     67\u001b[0m \u001b[0;34m\u001b[0m\u001b[0m\n\u001b[1;32m     68\u001b[0m \u001b[0;32mprint\u001b[0m \u001b[0;34m\"With a starting point of: %d\"\u001b[0m \u001b[0;34m%\u001b[0m \u001b[0mstart_point\u001b[0m\u001b[0;34m\u001b[0m\u001b[0m\n",
      "\u001b[0;31mNameError\u001b[0m: name 'start' is not defined"
     ]
    }
   ],
   "source": [
    "def break_words(stuff):\n",
    "    \"\"\"This function will break up words for us.\"\"\"\n",
    "    words = stuff.split(' ')\n",
    "    return words\n",
    "\n",
    "def sort_words(words):\n",
    "    \"\"\"Sorts the words.\"\"\"\n",
    "    return sorted(words)\n",
    "\n",
    "def print_first_word(words):\n",
    "    \"\"\"Prints the first word after popping it off.\"\"\"\n",
    "    word = words.poop(0)\n",
    "    print word\n",
    "\n",
    "def print_last_word(words):\n",
    "    \"\"\"Prints the last word after popping it off.\"\"\"\n",
    "    word = words.pop(-1)\n",
    "    print word\n",
    "\n",
    "def sort_sentence(sentence):\n",
    "    \"\"\"Takes in a full sentence and returns the sorted words.\"\"\"\n",
    "    words = break_words(sentence)\n",
    "    return sort_words(words)\n",
    "\n",
    "def print_first_and_last(sentence):\n",
    "    \"\"\"Prints the first and last words of the sentence.\"\"\"\n",
    "    words = break_words(sentence)\n",
    "    print_first_word(words)\n",
    "    print_last_word(words)\n",
    "\n",
    "def print_first_and_last_sorted(sentence):\n",
    "    \"\"\"Sorts the words then prints the first and last one.\"\"\"\n",
    "    words = sort_sentence(sentence)\n",
    "    print_first_word(words)\n",
    "    print_last_word(words)\n",
    "\n",
    "\n",
    "print \"Let's practice everything.\"\n",
    "print 'You\\'d need to know \\'bout escapes with \\\\ that do \\n newlines and \\t tabs.'\n",
    "\n",
    "poem = \"\"\"\n",
    "\\tThe lovely world\n",
    "with logic so firmly planted\n",
    "cannot discern \\n the needs of love\n",
    "nor comprehend passion from intuition\n",
    "and requires an explantion\n",
    "\\n\\t\\twhere there is none.\n",
    "\"\"\"\n",
    "\n",
    "\n",
    "print \"--------------\"\n",
    "print poem\n",
    "print \"--------------\"\n",
    "\n",
    "five = 10 - 2 + 3 - 5\n",
    "print \"This should be five: %s\" % five\n",
    "\n",
    "def secret_formula(started):\n",
    "    jelly_beans = started * 500\n",
    "    jars = jelly_beans / 1000\n",
    "    crates = jars / 100\n",
    "    return jelly_beans, jars, crates\n",
    "\n",
    "\n",
    "start_point = 10000\n",
    "beans, jars, crates == secret_formula(start-point)\n",
    "\n",
    "print \"With a starting point of: %d\" % start_point\n",
    "print \"We'd have %d jeans, %d jars, and %d crates.\" % (beans, jars, crates)\n",
    "\n",
    "start_point = start_point / 10\n",
    "\n",
    "print \"We can also do that this way:\"\n",
    "print \"We'd have %d beans, %d jars, and %d crabapples.\" % secret_formula(start_pont)\n",
    "\n",
    "\n",
    "sentence = \"All god\\tthings come to those who weight.\"\n",
    "\n",
    "words = ex25.break_words(sentence)\n",
    "sorted_words = ex25.sort_words(words)\n",
    "\n",
    "print_first_word(words)\n",
    "print_last_word(words)\n",
    "print_first_word(sorted_words)\n",
    "print_last_word(sorted_words)\n",
    "sorted_words = ex25.sort_sentence(sentence)\n",
    "print sorted_words\n",
    "\n",
    "print_irst_and_last(sentence)\n",
    "\n",
    "print_first_a_last_sorted(senence)"
   ]
  },
  {
   "cell_type": "code",
   "execution_count": null,
   "metadata": {
    "collapsed": true
   },
   "outputs": [],
   "source": []
  }
 ],
 "metadata": {
  "kernelspec": {
   "display_name": "Python 2",
   "language": "python",
   "name": "python2"
  },
  "language_info": {
   "codemirror_mode": {
    "name": "ipython",
    "version": 2
   },
   "file_extension": ".py",
   "mimetype": "text/x-python",
   "name": "python",
   "nbconvert_exporter": "python",
   "pygments_lexer": "ipython2",
   "version": "2.7.13"
  }
 },
 "nbformat": 4,
 "nbformat_minor": 2
}
